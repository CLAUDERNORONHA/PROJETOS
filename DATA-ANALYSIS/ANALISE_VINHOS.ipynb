{
  "nbformat": 4,
  "nbformat_minor": 0,
  "metadata": {
    "colab": {
      "name": "ANALISE_VINHOS.ipynb",
      "provenance": [],
      "collapsed_sections": [],
      "mount_file_id": "1l9GJc9NpATIXgTA2tlC_laQyjm62YzjB",
      "authorship_tag": "ABX9TyMN80OXRBHlH/TqXs4MW/c8",
      "include_colab_link": true
    },
    "kernelspec": {
      "name": "python3",
      "display_name": "Python 3"
    },
    "language_info": {
      "name": "python"
    }
  },
  "cells": [
    {
      "cell_type": "markdown",
      "metadata": {
        "id": "view-in-github",
        "colab_type": "text"
      },
      "source": [
        "<a href=\"https://colab.research.google.com/github/CLAUDERNORONHA/PROJETO/blob/main/ANALISE_VINHOS.ipynb\" target=\"_parent\"><img src=\"https://colab.research.google.com/assets/colab-badge.svg\" alt=\"Open In Colab\"/></a>"
      ]
    },
    {
      "cell_type": "markdown",
      "metadata": {
        "id": "lA0VO70d4PYx"
      },
      "source": [
        "\n",
        "\n",
        "**Previsão da qualidade do vinho com aprendizado de máquina**\n",
        "\n",
        "\n",
        "\n",
        "Os produtores de vinho gostam de se orgulhar das avaliações de qualidade que seus vinhos recebem dos críticos, porque uma avaliação de vinho alta significa maior qualidade, o que resulta em aumento nas vendas para o vinicultor. \n",
        "\n",
        "No entanto, a qualidade de um vinho não é absoluta. O quão bom é ou não um vinho depende de quem está fazendo o julgamento. \n",
        "\n",
        "\n",
        "A opinião combinada de um grupo de especialistas em vinhos experientes e treinados é geralmente considerada um julgamento definitivo da qualidade de um vinho.\n",
        "\n",
        "\n",
        "Os padrões de desempenho que os especialistas em vinho usam para julgar a qualidade do vinho incluem:\n",
        "\n",
        "· Equilíbrio: a relação entre doçura, acidez, tanino e álcool. Um vinho é equilibrado quando nada se destaca ao saboreá-lo, como o amargor ou o excesso de doçura.\n",
        "\n",
        "· Comprimento: descreve um vinho que você pode saborear em toda a extensão da sua língua.\n",
        "\n",
        "· Profundidade: tem uma dimensão de verticalidade que não tem gosto plano e unidimensional.\n",
        "\n",
        "· Complexidade: vinho que possui múltiplos aromas e sabores e continua revelando diferentes sabores ou impressões.\n",
        "\n",
        "· Acabamento: A impressão que um vinho deixa no fundo da boca e na garganta depois de engolido.\n",
        "\n",
        "· Tipicidade: o grau em que um vinho reflete suas origens varietais e demonstra as características de assinatura da uva a partir da qual foi produzido.\n",
        "\n",
        "Predizendo a qualidade do vinho\n",
        "\n",
        "Os padrões que os especialistas em vinho usam para julgar a qualidade do vinho baseiam-se principalmente no sentido do paladar e na impressão do vinho. Eu acho que os ingredientes do vinho e como o vinho é processado desempenham um papel importante em como o vinho tem seu sabor e, em última análise, determina sua qualidade.\n",
        "\n",
        "\n",
        "Neste artigo, tentarei prever a qualidade do vinho tinto com base nos componentes que estão no vinho. Vou usar o conjunto de dados de qualidade do vinho tinto de Kaggle, que possui as características fundamentais que influenciam a qualidade do vinho. Em seguida, usarei vários modelos de aprendizado de máquina para prever se um vinho tinto é classificado como “ruim” ou “bom”."
      ]
    },
    {
      "cell_type": "code",
      "metadata": {
        "id": "uDORpkuq3zp8"
      },
      "source": [
        "import pandas as pd\n",
        "import numpy as np\n",
        "import seaborn as sns\n",
        "import matplotlib.pyplot as plt\n",
        "from sklearn.ensemble import RandomForestClassifier\n",
        "from sklearn.linear_model import LogisticRegression\n",
        "from sklearn.svm import SVC\n",
        "from sklearn.neighbors import KNeighborsClassifier\n",
        "from sklearn.linear_model import SGDClassifier\n",
        "from sklearn.metrics import confusion_matrix, classification_report, accuracy_score\n",
        "from sklearn.preprocessing import StandardScaler, LabelEncoder\n",
        "from sklearn.model_selection import train_test_split, GridSearchCV, cross_val_score\n",
        "%matplotlib inline"
      ],
      "execution_count": 4,
      "outputs": []
    },
    {
      "cell_type": "code",
      "metadata": {
        "id": "JNYIeT2T4I1C"
      },
      "source": [
        ""
      ],
      "execution_count": null,
      "outputs": []
    },
    {
      "cell_type": "code",
      "metadata": {
        "id": "Er-cqz1P4Z5m"
      },
      "source": [
        "\n",
        "vinho = pd.read_csv('/content/drive/MyDrive/1-CIENCIA DE DADOS-CURSOS_ESTUDO DE CASO/ESTUDO DE CASO/ANALISE_VINHO/winequality-red.csv')"
      ],
      "execution_count": 5,
      "outputs": []
    },
    {
      "cell_type": "code",
      "metadata": {
        "colab": {
          "base_uri": "https://localhost:8080/",
          "height": 258
        },
        "id": "DnKEb6uG4Z9x",
        "outputId": "5285f743-1b50-4d64-a2ae-24d2a5d07079"
      },
      "source": [
        "vinho.head()"
      ],
      "execution_count": 6,
      "outputs": [
        {
          "output_type": "execute_result",
          "data": {
            "text/html": [
              "<div>\n",
              "<style scoped>\n",
              "    .dataframe tbody tr th:only-of-type {\n",
              "        vertical-align: middle;\n",
              "    }\n",
              "\n",
              "    .dataframe tbody tr th {\n",
              "        vertical-align: top;\n",
              "    }\n",
              "\n",
              "    .dataframe thead th {\n",
              "        text-align: right;\n",
              "    }\n",
              "</style>\n",
              "<table border=\"1\" class=\"dataframe\">\n",
              "  <thead>\n",
              "    <tr style=\"text-align: right;\">\n",
              "      <th></th>\n",
              "      <th>fixed acidity</th>\n",
              "      <th>volatile acidity</th>\n",
              "      <th>citric acid</th>\n",
              "      <th>residual sugar</th>\n",
              "      <th>chlorides</th>\n",
              "      <th>free sulfur dioxide</th>\n",
              "      <th>total sulfur dioxide</th>\n",
              "      <th>density</th>\n",
              "      <th>pH</th>\n",
              "      <th>sulphates</th>\n",
              "      <th>alcohol</th>\n",
              "      <th>quality</th>\n",
              "    </tr>\n",
              "  </thead>\n",
              "  <tbody>\n",
              "    <tr>\n",
              "      <th>0</th>\n",
              "      <td>7.4</td>\n",
              "      <td>0.70</td>\n",
              "      <td>0.00</td>\n",
              "      <td>1.9</td>\n",
              "      <td>0.076</td>\n",
              "      <td>11.0</td>\n",
              "      <td>34.0</td>\n",
              "      <td>0.9978</td>\n",
              "      <td>3.51</td>\n",
              "      <td>0.56</td>\n",
              "      <td>9.4</td>\n",
              "      <td>5</td>\n",
              "    </tr>\n",
              "    <tr>\n",
              "      <th>1</th>\n",
              "      <td>7.8</td>\n",
              "      <td>0.88</td>\n",
              "      <td>0.00</td>\n",
              "      <td>2.6</td>\n",
              "      <td>0.098</td>\n",
              "      <td>25.0</td>\n",
              "      <td>67.0</td>\n",
              "      <td>0.9968</td>\n",
              "      <td>3.20</td>\n",
              "      <td>0.68</td>\n",
              "      <td>9.8</td>\n",
              "      <td>5</td>\n",
              "    </tr>\n",
              "    <tr>\n",
              "      <th>2</th>\n",
              "      <td>7.8</td>\n",
              "      <td>0.76</td>\n",
              "      <td>0.04</td>\n",
              "      <td>2.3</td>\n",
              "      <td>0.092</td>\n",
              "      <td>15.0</td>\n",
              "      <td>54.0</td>\n",
              "      <td>0.9970</td>\n",
              "      <td>3.26</td>\n",
              "      <td>0.65</td>\n",
              "      <td>9.8</td>\n",
              "      <td>5</td>\n",
              "    </tr>\n",
              "    <tr>\n",
              "      <th>3</th>\n",
              "      <td>11.2</td>\n",
              "      <td>0.28</td>\n",
              "      <td>0.56</td>\n",
              "      <td>1.9</td>\n",
              "      <td>0.075</td>\n",
              "      <td>17.0</td>\n",
              "      <td>60.0</td>\n",
              "      <td>0.9980</td>\n",
              "      <td>3.16</td>\n",
              "      <td>0.58</td>\n",
              "      <td>9.8</td>\n",
              "      <td>6</td>\n",
              "    </tr>\n",
              "    <tr>\n",
              "      <th>4</th>\n",
              "      <td>7.4</td>\n",
              "      <td>0.70</td>\n",
              "      <td>0.00</td>\n",
              "      <td>1.9</td>\n",
              "      <td>0.076</td>\n",
              "      <td>11.0</td>\n",
              "      <td>34.0</td>\n",
              "      <td>0.9978</td>\n",
              "      <td>3.51</td>\n",
              "      <td>0.56</td>\n",
              "      <td>9.4</td>\n",
              "      <td>5</td>\n",
              "    </tr>\n",
              "  </tbody>\n",
              "</table>\n",
              "</div>"
            ],
            "text/plain": [
              "   fixed acidity  volatile acidity  citric acid  ...  sulphates  alcohol  quality\n",
              "0            7.4              0.70         0.00  ...       0.56      9.4        5\n",
              "1            7.8              0.88         0.00  ...       0.68      9.8        5\n",
              "2            7.8              0.76         0.04  ...       0.65      9.8        5\n",
              "3           11.2              0.28         0.56  ...       0.58      9.8        6\n",
              "4            7.4              0.70         0.00  ...       0.56      9.4        5\n",
              "\n",
              "[5 rows x 12 columns]"
            ]
          },
          "metadata": {},
          "execution_count": 6
        }
      ]
    },
    {
      "cell_type": "markdown",
      "metadata": {
        "id": "8IfMcWZ94aBi"
      },
      "source": [
        "Obtive o conjunto de dados de qualidade do vinho tinto da Kaggle. Este conjunto de dados está relacionado com variantes tintas do vinho “Vinho Verde” português. Devido a questões de privacidade e logística, apenas variáveis ​​físico-químicas (entradas) e sensoriais (saída) estão disponíveis (por exemplo, não há dados sobre os tipos de uva, marca do vinho, preço de venda do vinho, etc.).\n",
        "\n",
        "\n",
        "Usaremos modelos de aprendizado de máquina de classificação para fazer previsões. As classes são ordenadas e não balanceadas (ou seja, há muito mais vinhos normais do que vinhos ruins ou excelentes).\n",
        "\n",
        "As variáveis ​​de recurso incluem:\n",
        "\n",
        "\n",
        "- acidez fixa - os ácidos fixos primários encontrados no vinho são tartárico, - succínico, cítrico e málico.\n",
        "\n",
        "- acidez volátil - os ácidos gasosos presentes no vinho.\n",
        "\n",
        "- ácido cítrico - o ácido orgânico fraco encontrado naturalmente nas frutas cítricas.\n",
        "\n",
        "- açúcar residual - quantidade de açúcar restante após a fermentação.\n",
        "\n",
        "- cloretos - quantidade de sal presente no vinho.\n",
        "\n",
        "- dióxido de enxofre livre - usado na prevenção do vinho por oxidação e deterioração microbiana.\n",
        "\n",
        "- dióxido de enxofre total - a porção de SO2 que está livre no vinho mais a porção que está ligada a outros produtos químicos no vinho.\n",
        "\n",
        "- densidade - a massa por unidade de volume de vinho.\n",
        "\n",
        "- pH - usado para verificar a acidez.\n",
        "\n",
        "- sulfatos - preservam o frescor e protegem o vinho da oxidação e das bactérias.\n",
        "\n",
        "- álcool - porcentagem de álcool presente no vinho.\n",
        "A variável de destino é:\n",
        "\n",
        "  ** qualidade (as pontuações estão entre 0 e 10)"
      ]
    },
    {
      "cell_type": "code",
      "metadata": {
        "colab": {
          "base_uri": "https://localhost:8080/"
        },
        "id": "Mjl1Ndpc4aEw",
        "outputId": "367747c6-76df-4ef3-d3fe-7bcdab38837c"
      },
      "source": [
        "vinho.info()"
      ],
      "execution_count": 7,
      "outputs": [
        {
          "output_type": "stream",
          "name": "stdout",
          "text": [
            "<class 'pandas.core.frame.DataFrame'>\n",
            "RangeIndex: 1596 entries, 0 to 1595\n",
            "Data columns (total 12 columns):\n",
            " #   Column                Non-Null Count  Dtype  \n",
            "---  ------                --------------  -----  \n",
            " 0   fixed acidity         1596 non-null   float64\n",
            " 1   volatile acidity      1596 non-null   float64\n",
            " 2   citric acid           1596 non-null   float64\n",
            " 3   residual sugar        1596 non-null   float64\n",
            " 4   chlorides             1596 non-null   float64\n",
            " 5   free sulfur dioxide   1596 non-null   float64\n",
            " 6   total sulfur dioxide  1596 non-null   float64\n",
            " 7   density               1596 non-null   float64\n",
            " 8   pH                    1596 non-null   float64\n",
            " 9   sulphates             1596 non-null   float64\n",
            " 10  alcohol               1596 non-null   float64\n",
            " 11  quality               1596 non-null   int64  \n",
            "dtypes: float64(11), int64(1)\n",
            "memory usage: 149.8 KB\n"
          ]
        }
      ]
    },
    {
      "cell_type": "markdown",
      "metadata": {
        "id": "2I1cMEoN4aIC"
      },
      "source": [
        "Existem 1.599 registros de vinhos e 12 recursos. O conjunto de dados contém valores flutuantes e inteiros. O recurso de qualidade será a variável de destino com pontuações entre 0 (ruim) e 10 (ótimo). Presumi que as pontuações de qualidade foram atribuídas por juízes experientes que provaram os vinhos e forneceram uma pontuação."
      ]
    },
    {
      "cell_type": "code",
      "metadata": {
        "id": "8dcl4WJE4aLl"
      },
      "source": [
        ""
      ],
      "execution_count": null,
      "outputs": []
    },
    {
      "cell_type": "markdown",
      "metadata": {
        "id": "4veiz7hK93RH"
      },
      "source": [
        "Verificar Valores Nulos.\n"
      ]
    },
    {
      "cell_type": "code",
      "metadata": {
        "colab": {
          "base_uri": "https://localhost:8080/"
        },
        "id": "XjqCyMk893VS",
        "outputId": "3399cc4f-e0bb-4313-ca2d-4d7b6e8a2be5"
      },
      "source": [
        "vinho.isna().sum()"
      ],
      "execution_count": 12,
      "outputs": [
        {
          "output_type": "execute_result",
          "data": {
            "text/plain": [
              "fixed acidity           0\n",
              "volatile acidity        0\n",
              "citric acid             0\n",
              "residual sugar          0\n",
              "chlorides               0\n",
              "free sulfur dioxide     0\n",
              "total sulfur dioxide    0\n",
              "density                 0\n",
              "pH                      0\n",
              "sulphates               0\n",
              "alcohol                 0\n",
              "quality                 0\n",
              "dtype: int64"
            ]
          },
          "metadata": {},
          "execution_count": 12
        }
      ]
    },
    {
      "cell_type": "markdown",
      "metadata": {
        "id": "2Wg7CDx093Yy"
      },
      "source": [
        "Não há valores nulos ou ausentes, portanto, haverá uma quantidade mínima de limpeza de dados necessária."
      ]
    },
    {
      "cell_type": "code",
      "metadata": {
        "id": "HU3qvRLr93cC"
      },
      "source": [
        ""
      ],
      "execution_count": null,
      "outputs": []
    },
    {
      "cell_type": "code",
      "metadata": {
        "colab": {
          "base_uri": "https://localhost:8080/",
          "height": 333
        },
        "id": "k6MtfWab93e5",
        "outputId": "997d45e5-9517-4b58-a9be-1071ef89da0e"
      },
      "source": [
        "#Visualizar contagem para cada índices de qualidade\n",
        "\n",
        "sns.countplot(vinho['quality']);"
      ],
      "execution_count": 14,
      "outputs": [
        {
          "output_type": "stream",
          "name": "stderr",
          "text": [
            "/usr/local/lib/python3.7/dist-packages/seaborn/_decorators.py:43: FutureWarning: Pass the following variable as a keyword arg: x. From version 0.12, the only valid positional argument will be `data`, and passing other arguments without an explicit keyword will result in an error or misinterpretation.\n",
            "  FutureWarning\n"
          ]
        },
        {
          "output_type": "display_data",
          "data": {
            "image/png": "[encoded data removed]",
            "text/plain": [
              "<Figure size 432x288 with 1 Axes>"
            ]
          },
          "metadata": {
            "needs_background": "light"
          }
        }
      ]
    },
    {
      "cell_type": "code",
      "metadata": {
        "id": "L9VJ_t1z-ITi"
      },
      "source": [
        ""
      ],
      "execution_count": null,
      "outputs": []
    },
    {
      "cell_type": "markdown",
      "metadata": {
        "id": "kB5R4CzE-IXQ"
      },
      "source": [
        "Visulizar a relação entre a acidez fixa e a qualidade do vinho"
      ]
    },
    {
      "cell_type": "code",
      "metadata": {
        "colab": {
          "base_uri": "https://localhost:8080/",
          "height": 337
        },
        "id": "vwnZIWRW-Iao",
        "outputId": "eb020d15-0edc-490d-9e42-7462f68eca4f"
      },
      "source": [
        "fig = plt.figure(figsize=(8,5))\n",
        "sns.barplot(x = 'quality',\n",
        "            y = 'fixed acidity',\n",
        "            data = vinho,\n",
        "            ci = None)\n",
        "\n",
        "#\n",
        "plt.xlabel('Qualidade do Vinho', size= 12)\n",
        "plt.ylabel('Acidez fixa', size = 12);"
      ],
      "execution_count": 19,
      "outputs": [
        {
          "output_type": "display_data",
          "data": {
            "image/png": "[encoded data removed]",
            "text/plain": [
              "<Figure size 576x360 with 1 Axes>"
            ]
          },
          "metadata": {
            "needs_background": "light"
          }
        }
      ]
    },
    {
      "cell_type": "code",
      "metadata": {
        "id": "Eds_xNbw-Id4"
      },
      "source": [
        ""
      ],
      "execution_count": null,
      "outputs": []
    },
    {
      "cell_type": "markdown",
      "metadata": {
        "id": "5HQq5wNQ-IhQ"
      },
      "source": [
        "Visualizar a relação entre a acidez vólatil e a qualidade do vinh"
      ]
    },
    {
      "cell_type": "code",
      "metadata": {
        "colab": {
          "base_uri": "https://localhost:8080/",
          "height": 337
        },
        "id": "x_QXD-Pl-Ik4",
        "outputId": "d80d3f97-bc29-48fa-cd18-72210cd49565"
      },
      "source": [
        "fig = plt.figure(figsize = (8,5))\n",
        "sns.barplot(x = 'quality', \n",
        "            y = 'volatile acidity', \n",
        "            data = vinho,\n",
        "            ci = None)\n",
        "# set labels\n",
        "plt.xlabel(\"Qualidade do Vinho \", size=12)\n",
        "plt.ylabel(\"Acidez Volatil \", size=12);"
      ],
      "execution_count": 22,
      "outputs": [
        {
          "output_type": "display_data",
          "data": {
            "image/png": "[encoded data removed]",
            "text/plain": [
              "<Figure size 576x360 with 1 Axes>"
            ]
          },
          "metadata": {
            "needs_background": "light"
          }
        }
      ]
    },
    {
      "cell_type": "code",
      "metadata": {
        "id": "kdHxG_pq-Ioh"
      },
      "source": [
        ""
      ],
      "execution_count": null,
      "outputs": []
    },
    {
      "cell_type": "markdown",
      "metadata": {
        "id": "u60Vomh5AsaL"
      },
      "source": [
        "Visulizar a relação entre o ácido cítrico e a qualidade do vinho"
      ]
    },
    {
      "cell_type": "code",
      "metadata": {
        "colab": {
          "base_uri": "https://localhost:8080/",
          "height": 337
        },
        "id": "L5jr_w8TAseW",
        "outputId": "9a91bb14-38ff-4d79-a7e4-df18ac48dad0"
      },
      "source": [
        "fig = plt.figure(figsize = (8,5))\n",
        "sns.barplot(x = 'quality', \n",
        "            y = 'citric acid', \n",
        "            data = vinho,\n",
        "            ci = None)\n",
        "# set labels\n",
        "plt.xlabel(\"Qualidade do Vinho\", size=12)\n",
        "plt.ylabel(\"Acido Citrico \", size=12);"
      ],
      "execution_count": 24,
      "outputs": [
        {
          "output_type": "display_data",
          "data": {
            "image/png": "[encoded data removed]",
            "text/plain": [
              "<Figure size 576x360 with 1 Axes>"
            ]
          },
          "metadata": {
            "needs_background": "light"
          }
        }
      ]
    },
    {
      "cell_type": "code",
      "metadata": {
        "id": "jybtNvWBAsh0"
      },
      "source": [
        ""
      ],
      "execution_count": null,
      "outputs": []
    },
    {
      "cell_type": "markdown",
      "metadata": {
        "id": "ASGXSNlyAslM"
      },
      "source": [
        "Visualize a relação entre os cloretos e a qualidade do vinho. "
      ]
    },
    {
      "cell_type": "code",
      "metadata": {
        "colab": {
          "base_uri": "https://localhost:8080/",
          "height": 337
        },
        "id": "PcH9FXE3AsoL",
        "outputId": "e98cef75-84ab-4ae0-c74d-b780744c1301"
      },
      "source": [
        "fig = plt.figure (figsize = (8,5)) \n",
        "sns.barplot (x = 'quality', \n",
        "            y = 'chlorides', \n",
        "            data = vinho, \n",
        "            ci = None ) \n",
        " \n",
        "plt.xlabel (\"Qualidade do Vinho\" , size = 12) \n",
        "plt.ylabel (\"Cloretos\", size = 12);"
      ],
      "execution_count": 27,
      "outputs": [
        {
          "output_type": "display_data",
          "data": {
            "image/png": "[encoded data removed]",
            "text/plain": [
              "<Figure size 576x360 with 1 Axes>"
            ]
          },
          "metadata": {
            "needs_background": "light"
          }
        }
      ]
    },
    {
      "cell_type": "code",
      "metadata": {
        "id": "eQkqLvbDAsrT"
      },
      "source": [
        ""
      ],
      "execution_count": null,
      "outputs": []
    },
    {
      "cell_type": "markdown",
      "metadata": {
        "id": "2J88Zo7tAsuM"
      },
      "source": [
        "Visualize a relação entre o dióxido de enxofre livre e a qualidade do vinho"
      ]
    },
    {
      "cell_type": "code",
      "metadata": {
        "colab": {
          "base_uri": "https://localhost:8080/",
          "height": 337
        },
        "id": "QOwxXah3-Irx",
        "outputId": "243d8b21-7457-453b-bd6e-480622aa78f4"
      },
      "source": [
        "fig = plt.figure(figsize = (8,5))\n",
        "sns.barplot(x = 'quality', \n",
        "            y = 'free sulfur dioxide', \n",
        "            data = vinho,\n",
        "            ci = None)\n",
        "\n",
        "plt.xlabel(\"Qualidade do Vinho\", size=12)\n",
        "plt.ylabel(\"Dioxido de enxofre livre\", size=12);"
      ],
      "execution_count": 29,
      "outputs": [
        {
          "output_type": "display_data",
          "data": {
            "image/png": "[encoded data removed]",
            "text/plain": [
              "<Figure size 576x360 with 1 Axes>"
            ]
          },
          "metadata": {
            "needs_background": "light"
          }
        }
      ]
    },
    {
      "cell_type": "code",
      "metadata": {
        "id": "sUMPCWQV4aOI"
      },
      "source": [
        ""
      ],
      "execution_count": null,
      "outputs": []
    },
    {
      "cell_type": "markdown",
      "metadata": {
        "id": "VTKQWt62B1SK"
      },
      "source": [
        "Visualize a relação entre densidade e qualidade do vinho. "
      ]
    },
    {
      "cell_type": "code",
      "metadata": {
        "colab": {
          "base_uri": "https://localhost:8080/",
          "height": 337
        },
        "id": "dITHCiUUB1V7",
        "outputId": "54d51caa-da15-4f67-a01a-48dc367467d2"
      },
      "source": [
        "fig = plt.figure(figsize = (8,5))\n",
        "sns.barplot(x = 'quality', \n",
        "            y = 'density', \n",
        "            data = vinho,\n",
        "            ci = None)\n",
        "\n",
        "plt.xlabel(\"Qualidade do Vinho\", size=12)\n",
        "plt.ylabel(\"Densidade\", size=12);"
      ],
      "execution_count": 30,
      "outputs": [
        {
          "output_type": "display_data",
          "data": {
            "image/png": "[encoded data removed]",
            "text/plain": [
              "<Figure size 576x360 with 1 Axes>"
            ]
          },
          "metadata": {
            "needs_background": "light"
          }
        }
      ]
    },
    {
      "cell_type": "code",
      "metadata": {
        "id": "fC98pEzPB1Zc"
      },
      "source": [
        ""
      ],
      "execution_count": null,
      "outputs": []
    },
    {
      "cell_type": "markdown",
      "metadata": {
        "id": "eys4DtTEB1ck"
      },
      "source": [
        "Visualize a relação entre o pH e a qualidade do vinho"
      ]
    },
    {
      "cell_type": "code",
      "metadata": {
        "colab": {
          "base_uri": "https://localhost:8080/",
          "height": 337
        },
        "id": "OATuVPWsB1fs",
        "outputId": "a44c3bca-90dd-4374-898d-9cebc6c53437"
      },
      "source": [
        "fig = plt.figure(figsize = (8,5))\n",
        "sns.barplot(x = 'quality', \n",
        "            y = 'pH', \n",
        "            data = vinho,\n",
        "            ci = None)\n",
        "# set labels\n",
        "plt.xlabel(\"Qualidade do Vinho\", size=12)\n",
        "plt.ylabel(\"pH\", size=12);"
      ],
      "execution_count": 31,
      "outputs": [
        {
          "output_type": "display_data",
          "data": {
            "image/png": "[encoded data removed]",
            "text/plain": [
              "<Figure size 576x360 with 1 Axes>"
            ]
          },
          "metadata": {
            "needs_background": "light"
          }
        }
      ]
    },
    {
      "cell_type": "code",
      "metadata": {
        "id": "moh9VKTCB1ir"
      },
      "source": [
        ""
      ],
      "execution_count": null,
      "outputs": []
    },
    {
      "cell_type": "markdown",
      "metadata": {
        "id": "XnsHkAbJB1ms"
      },
      "source": [
        "Visualize a relação entre o álcool e a qualidade do vinho"
      ]
    },
    {
      "cell_type": "code",
      "metadata": {
        "colab": {
          "base_uri": "https://localhost:8080/",
          "height": 337
        },
        "id": "kJf2laBcB1qG",
        "outputId": "b736b617-9f16-4df8-e48c-73767511ce52"
      },
      "source": [
        "fig = plt.figure(figsize = (8,5))\n",
        "sns.barplot(x = 'quality', \n",
        "            y = 'alcohol', \n",
        "            data = vinho,\n",
        "            ci = None)\n",
        "\n",
        "plt.xlabel(\"Qualidade do Vinho\", size=12)\n",
        "plt.ylabel(\"Alcool\", size=12);"
      ],
      "execution_count": 32,
      "outputs": [
        {
          "output_type": "display_data",
          "data": {
            "image/png": "[encoded data removed]",
            "text/plain": [
              "<Figure size 576x360 with 1 Axes>"
            ]
          },
          "metadata": {
            "needs_background": "light"
          }
        }
      ]
    },
    {
      "cell_type": "markdown",
      "metadata": {
        "id": "v5w2wQ4kCfX1"
      },
      "source": [
        "O resumo das descobertas inclui o seguinte:\n",
        "\n",
        "- A maioria das pontuações de qualidade estava na faixa de 5 a 7.\n",
        "\n",
        "- Quando a quantidade de acidez fixa foi ligeiramente aumentada, as pontuações de qualidade aumentaram gradualmente.\n",
        "- Quando a quantidade de acidez volátil foi diminuída, as pontuações de qualidade diminuíram.\n",
        "- Quando a quantidade de ácido cítrico foi aumentada, os índices de qualidade aumentaram.\n",
        "- Quando a quantidade de cloretos diminuiu, os índices de qualidade diminuíram.\n",
        "- Quando a quantidade de sulfatos aumentou, os índices de qualidade aumentaram.\n",
        "- Quando a quantidade de álcool aumentou, os escores de qualidade aumentaram."
      ]
    },
    {
      "cell_type": "code",
      "metadata": {
        "id": "t02UvcF1CfcD"
      },
      "source": [
        ""
      ],
      "execution_count": null,
      "outputs": []
    },
    {
      "cell_type": "markdown",
      "metadata": {
        "id": "aTqZIwtDCffc"
      },
      "source": [
        "Classificação"
      ]
    },
    {
      "cell_type": "markdown",
      "metadata": {
        "id": "1RO2rZprCfi6"
      },
      "source": [
        "Classifique a qualidade do vinho em classes de ruim e bom, atribuindo faixas para as pontuações de qualidade. \n",
        "\n",
        "Vinhos com uma pontuação de qualidade entre 3 e 6 são classificados como  0 (\"ruim\"). \n",
        "\n",
        "Os vinhos com uma pontuação de qualidade entre 7 e 8 são classificados como \n",
        " 1 (\"bom\"). vinho ['qualidade'] = vinho "
      ]
    },
    {
      "cell_type": "code",
      "metadata": {
        "colab": {
          "base_uri": "https://localhost:8080/",
          "height": 258
        },
        "id": "N5bOHyHxCfl9",
        "outputId": "7b57d013-807f-44e9-ed44-4d36209e994a"
      },
      "source": [
        "vinho['quality'] = vinho['quality'].replace([3,4,5,6],0)\n",
        "vinho['quality'] = vinho['quality'].replace([7,8],1)\n",
        "vinho.head()"
      ],
      "execution_count": 34,
      "outputs": [
        {
          "output_type": "execute_result",
          "data": {
            "text/html": [
              "<div>\n",
              "<style scoped>\n",
              "    .dataframe tbody tr th:only-of-type {\n",
              "        vertical-align: middle;\n",
              "    }\n",
              "\n",
              "    .dataframe tbody tr th {\n",
              "        vertical-align: top;\n",
              "    }\n",
              "\n",
              "    .dataframe thead th {\n",
              "        text-align: right;\n",
              "    }\n",
              "</style>\n",
              "<table border=\"1\" class=\"dataframe\">\n",
              "  <thead>\n",
              "    <tr style=\"text-align: right;\">\n",
              "      <th></th>\n",
              "      <th>fixed acidity</th>\n",
              "      <th>volatile acidity</th>\n",
              "      <th>citric acid</th>\n",
              "      <th>residual sugar</th>\n",
              "      <th>chlorides</th>\n",
              "      <th>free sulfur dioxide</th>\n",
              "      <th>total sulfur dioxide</th>\n",
              "      <th>density</th>\n",
              "      <th>pH</th>\n",
              "      <th>sulphates</th>\n",
              "      <th>alcohol</th>\n",
              "      <th>quality</th>\n",
              "    </tr>\n",
              "  </thead>\n",
              "  <tbody>\n",
              "    <tr>\n",
              "      <th>0</th>\n",
              "      <td>7.4</td>\n",
              "      <td>0.70</td>\n",
              "      <td>0.00</td>\n",
              "      <td>1.9</td>\n",
              "      <td>0.076</td>\n",
              "      <td>11.0</td>\n",
              "      <td>34.0</td>\n",
              "      <td>0.9978</td>\n",
              "      <td>3.51</td>\n",
              "      <td>0.56</td>\n",
              "      <td>9.4</td>\n",
              "      <td>0</td>\n",
              "    </tr>\n",
              "    <tr>\n",
              "      <th>1</th>\n",
              "      <td>7.8</td>\n",
              "      <td>0.88</td>\n",
              "      <td>0.00</td>\n",
              "      <td>2.6</td>\n",
              "      <td>0.098</td>\n",
              "      <td>25.0</td>\n",
              "      <td>67.0</td>\n",
              "      <td>0.9968</td>\n",
              "      <td>3.20</td>\n",
              "      <td>0.68</td>\n",
              "      <td>9.8</td>\n",
              "      <td>0</td>\n",
              "    </tr>\n",
              "    <tr>\n",
              "      <th>2</th>\n",
              "      <td>7.8</td>\n",
              "      <td>0.76</td>\n",
              "      <td>0.04</td>\n",
              "      <td>2.3</td>\n",
              "      <td>0.092</td>\n",
              "      <td>15.0</td>\n",
              "      <td>54.0</td>\n",
              "      <td>0.9970</td>\n",
              "      <td>3.26</td>\n",
              "      <td>0.65</td>\n",
              "      <td>9.8</td>\n",
              "      <td>0</td>\n",
              "    </tr>\n",
              "    <tr>\n",
              "      <th>3</th>\n",
              "      <td>11.2</td>\n",
              "      <td>0.28</td>\n",
              "      <td>0.56</td>\n",
              "      <td>1.9</td>\n",
              "      <td>0.075</td>\n",
              "      <td>17.0</td>\n",
              "      <td>60.0</td>\n",
              "      <td>0.9980</td>\n",
              "      <td>3.16</td>\n",
              "      <td>0.58</td>\n",
              "      <td>9.8</td>\n",
              "      <td>0</td>\n",
              "    </tr>\n",
              "    <tr>\n",
              "      <th>4</th>\n",
              "      <td>7.4</td>\n",
              "      <td>0.70</td>\n",
              "      <td>0.00</td>\n",
              "      <td>1.9</td>\n",
              "      <td>0.076</td>\n",
              "      <td>11.0</td>\n",
              "      <td>34.0</td>\n",
              "      <td>0.9978</td>\n",
              "      <td>3.51</td>\n",
              "      <td>0.56</td>\n",
              "      <td>9.4</td>\n",
              "      <td>0</td>\n",
              "    </tr>\n",
              "  </tbody>\n",
              "</table>\n",
              "</div>"
            ],
            "text/plain": [
              "   fixed acidity  volatile acidity  citric acid  ...  sulphates  alcohol  quality\n",
              "0            7.4              0.70         0.00  ...       0.56      9.4        0\n",
              "1            7.8              0.88         0.00  ...       0.68      9.8        0\n",
              "2            7.8              0.76         0.04  ...       0.65      9.8        0\n",
              "3           11.2              0.28         0.56  ...       0.58      9.8        0\n",
              "4            7.4              0.70         0.00  ...       0.56      9.4        0\n",
              "\n",
              "[5 rows x 12 columns]"
            ]
          },
          "metadata": {},
          "execution_count": 34
        }
      ]
    },
    {
      "cell_type": "code",
      "metadata": {
        "id": "P7ADUm8XCfpT"
      },
      "source": [
        ""
      ],
      "execution_count": null,
      "outputs": []
    },
    {
      "cell_type": "code",
      "metadata": {
        "colab": {
          "base_uri": "https://localhost:8080/"
        },
        "id": "zr6aQg5KCfrt",
        "outputId": "0941efb7-29c6-4273-c048-c8ac481fccbb"
      },
      "source": [
        "#contagens por classe de qualidade do vinho\n",
        "vinho['quality'].value_counts()"
      ],
      "execution_count": 35,
      "outputs": [
        {
          "output_type": "execute_result",
          "data": {
            "text/plain": [
              "0    1379\n",
              "1     217\n",
              "Name: quality, dtype: int64"
            ]
          },
          "metadata": {},
          "execution_count": 35
        }
      ]
    },
    {
      "cell_type": "markdown",
      "metadata": {
        "id": "elcE6a2GDxDG"
      },
      "source": [
        "Criar um plot"
      ]
    },
    {
      "cell_type": "code",
      "metadata": {
        "colab": {
          "base_uri": "https://localhost:8080/",
          "height": 333
        },
        "id": "jWUxBPN4DxG6",
        "outputId": "bc3754c0-e69a-425c-d684-82bc7a54ef56"
      },
      "source": [
        "sns.countplot(vinho['quality']);"
      ],
      "execution_count": 37,
      "outputs": [
        {
          "output_type": "stream",
          "name": "stderr",
          "text": [
            "/usr/local/lib/python3.7/dist-packages/seaborn/_decorators.py:43: FutureWarning: Pass the following variable as a keyword arg: x. From version 0.12, the only valid positional argument will be `data`, and passing other arguments without an explicit keyword will result in an error or misinterpretation.\n",
            "  FutureWarning\n"
          ]
        },
        {
          "output_type": "display_data",
          "data": {
            "image/png": "[encoded data removed]",
            "text/plain": [
              "<Figure size 432x288 with 1 Axes>"
            ]
          },
          "metadata": {
            "needs_background": "light"
          }
        }
      ]
    },
    {
      "cell_type": "markdown",
      "metadata": {
        "id": "DO8fFYS_DxJw"
      },
      "source": [
        "Existem 1.382 vinhos classificados como ruins e 217 vinhos classificados como bons."
      ]
    },
    {
      "cell_type": "code",
      "metadata": {
        "id": "gX5h56pUDxNA"
      },
      "source": [
        ""
      ],
      "execution_count": null,
      "outputs": []
    },
    {
      "cell_type": "markdown",
      "metadata": {
        "id": "4LEnH9HYEc97"
      },
      "source": [
        "Visualize as percentagens para vinhos de má e boa qualidade."
      ]
    },
    {
      "cell_type": "code",
      "metadata": {
        "colab": {
          "base_uri": "https://localhost:8080/",
          "height": 303
        },
        "id": "PEa_k465DxQA",
        "outputId": "e98bb3dd-a2f5-4337-d503-13bcff6fcf79"
      },
      "source": [
        "vinho.quality.value_counts().plot(kind='pie', subplots=True, autopct='%1.2f%%', explode= (0.05, 0.05), startangle=80, legend=True,\n",
        "                                 fontsize=12, figsize=(8,5), textprops={'color':\"black\"});"
      ],
      "execution_count": 39,
      "outputs": [
        {
          "output_type": "display_data",
          "data": {
            "image/png": "[encoded data removed]",
            "text/plain": [
              "<Figure size 576x360 with 1 Axes>"
            ]
          },
          "metadata": {}
        }
      ]
    },
    {
      "cell_type": "markdown",
      "metadata": {
        "id": "DwzG1y6vDxTW"
      },
      "source": [
        "86,43% dos vinhos foram classificados como ruins e 13,57% foram classificados como bons."
      ]
    },
    {
      "cell_type": "code",
      "metadata": {
        "id": "GDtuE5OBDxWi"
      },
      "source": [
        ""
      ],
      "execution_count": null,
      "outputs": []
    },
    {
      "cell_type": "markdown",
      "metadata": {
        "id": "A-VeyYASElLx"
      },
      "source": [
        "Gerar e exibir matriz de correlação para recursos. \n",
        "   -  Usaremos o método de correlação de Pearson."
      ]
    },
    {
      "cell_type": "code",
      "metadata": {
        "colab": {
          "base_uri": "https://localhost:8080/",
          "height": 571
        },
        "id": "NX9D-3yfElPl",
        "outputId": "24d99b80-49bf-45ef-a3f9-351ca1b130d4"
      },
      "source": [
        "correlacao = vinho.corr()\n",
        "plt.figure(figsize = (10,8))\n",
        "sns.heatmap(correlacao, annot = True, cmap = 'GnBu');"
      ],
      "execution_count": 42,
      "outputs": [
        {
          "output_type": "display_data",
          "data": {
            "image/png": "[encoded data removed]",
            "text/plain": [
              "<Figure size 720x576 with 2 Axes>"
            ]
          },
          "metadata": {
            "needs_background": "light"
          }
        }
      ]
    },
    {
      "cell_type": "code",
      "metadata": {
        "id": "IqFClIoQElTK"
      },
      "source": [
        ""
      ],
      "execution_count": null,
      "outputs": []
    },
    {
      "cell_type": "markdown",
      "metadata": {
        "id": "WWQ6lFK3GBQC"
      },
      "source": [
        "DIVIDIR OS DADOS EM TREINO E TESTE"
      ]
    },
    {
      "cell_type": "markdown",
      "metadata": {
        "id": "PaKp3RakGBUH"
      },
      "source": [
        "Primeiro, precisamos dividir nossos dados em valores x (os dados que usaremos para fazer previsões) e valores y (os dados que estamos tentando prever)."
      ]
    },
    {
      "cell_type": "code",
      "metadata": {
        "id": "0T6fygvUGBXx"
      },
      "source": [
        "X_data = vinho.drop('quality', axis=1)\n",
        "y_data = vinho['quality']"
      ],
      "execution_count": 43,
      "outputs": []
    },
    {
      "cell_type": "code",
      "metadata": {
        "id": "oL_S9AE1GBb8"
      },
      "source": [
        ""
      ],
      "execution_count": null,
      "outputs": []
    },
    {
      "cell_type": "markdown",
      "metadata": {
        "id": "sXP7lybMGBf3"
      },
      "source": [
        "Use a função train_test_split para gerar dados de treinamento e dados de teste. O conjunto de dados de teste é 25% do conjunto de dados original."
      ]
    },
    {
      "cell_type": "code",
      "metadata": {
        "id": "Fn145FmiGBjw"
      },
      "source": [
        "X_training_data, X_test_data, y_training_data, y_test_data = train_test_split(X_data, y_data, test_size = 0.25, random_state=42)"
      ],
      "execution_count": 44,
      "outputs": []
    },
    {
      "cell_type": "code",
      "metadata": {
        "id": "NHfB-_P2GxFw"
      },
      "source": [
        ""
      ],
      "execution_count": null,
      "outputs": []
    },
    {
      "cell_type": "markdown",
      "metadata": {
        "id": "nfub4r6nGxKF"
      },
      "source": [
        "Normalize os conjuntos de dados de recursos. StandardScaler transformará os dados de forma que sua distribuição tenha um valor médio 0 e desvio padrão 1."
      ]
    },
    {
      "cell_type": "code",
      "metadata": {
        "id": "S2myA1CqGxNH"
      },
      "source": [
        "sc = StandardScaler()\n",
        "X_training_data = sc.fit_transform(X_training_data)\n",
        "X_test_data = sc.fit_transform(X_test_data)"
      ],
      "execution_count": 45,
      "outputs": []
    },
    {
      "cell_type": "code",
      "metadata": {
        "id": "gWa7cOZOGxQH"
      },
      "source": [
        ""
      ],
      "execution_count": null,
      "outputs": []
    },
    {
      "cell_type": "markdown",
      "metadata": {
        "id": "8PfUr8W3GxTH"
      },
      "source": [
        "Vamos treinar modelos, fazer previsões e avaliar o desempenho de quatro modelos diferentes.\n",
        "\n",
        "\n",
        "- Random Forrest Model"
      ]
    },
    {
      "cell_type": "code",
      "metadata": {
        "id": "95fO-irhGxrs"
      },
      "source": [
        "# Crie um objeto modelo.\n",
        "model_rf = RandomForestClassifier(n_estimators= 200)"
      ],
      "execution_count": 47,
      "outputs": []
    },
    {
      "cell_type": "code",
      "metadata": {
        "colab": {
          "base_uri": "https://localhost:8080/"
        },
        "id": "-pqNVLQ-Gxvx",
        "outputId": "45617182-1401-466b-a1f5-f085a731b7e5"
      },
      "source": [
        "# Treine o modelo nos dados de treinamento. \n",
        "model_rf.fit(X_training_data, y_training_data)"
      ],
      "execution_count": 48,
      "outputs": [
        {
          "output_type": "execute_result",
          "data": {
            "text/plain": [
              "RandomForestClassifier(bootstrap=True, ccp_alpha=0.0, class_weight=None,\n",
              "                       criterion='gini', max_depth=None, max_features='auto',\n",
              "                       max_leaf_nodes=None, max_samples=None,\n",
              "                       min_impurity_decrease=0.0, min_impurity_split=None,\n",
              "                       min_samples_leaf=1, min_samples_split=2,\n",
              "                       min_weight_fraction_leaf=0.0, n_estimators=200,\n",
              "                       n_jobs=None, oob_score=False, random_state=None,\n",
              "                       verbose=0, warm_start=False)"
            ]
          },
          "metadata": {},
          "execution_count": 48
        }
      ]
    },
    {
      "cell_type": "code",
      "metadata": {
        "id": "bWWkA9c7GyGA"
      },
      "source": [
        "# Faça previsões sobre os dados de teste. \n",
        "predictions_rf = model_rf.predict(X_test_data)"
      ],
      "execution_count": 49,
      "outputs": []
    },
    {
      "cell_type": "code",
      "metadata": {
        "colab": {
          "base_uri": "https://localhost:8080/"
        },
        "id": "ZHJTIKB4ElYc",
        "outputId": "f909c517-c188-445a-c40b-d1e470caf799"
      },
      "source": [
        "# Calcule a pontuação de precisão\n",
        "rf = accuracy_score(y_test_data, predictions_rf)\n",
        "print(rf)"
      ],
      "execution_count": 51,
      "outputs": [
        {
          "output_type": "stream",
          "name": "stdout",
          "text": [
            "0.9047619047619048\n"
          ]
        }
      ]
    },
    {
      "cell_type": "code",
      "metadata": {
        "id": "kHROs-dcDxZC"
      },
      "source": [
        ""
      ],
      "execution_count": null,
      "outputs": []
    },
    {
      "cell_type": "markdown",
      "metadata": {
        "id": "RzKdm4K3K_LV"
      },
      "source": [
        " Mostra o relatório de classificação"
      ]
    },
    {
      "cell_type": "code",
      "metadata": {
        "colab": {
          "base_uri": "https://localhost:8080/"
        },
        "id": "s1e5iLd_K_Rj",
        "outputId": "2691792c-b88e-4346-bf49-cd58c31d7f18"
      },
      "source": [
        "print(classification_report(y_test_data, predictions_rf))"
      ],
      "execution_count": 53,
      "outputs": [
        {
          "output_type": "stream",
          "name": "stdout",
          "text": [
            "              precision    recall  f1-score   support\n",
            "\n",
            "           0       0.91      0.98      0.95       347\n",
            "           1       0.77      0.38      0.51        52\n",
            "\n",
            "    accuracy                           0.90       399\n",
            "   macro avg       0.84      0.68      0.73       399\n",
            "weighted avg       0.90      0.90      0.89       399\n",
            "\n"
          ]
        }
      ]
    },
    {
      "cell_type": "markdown",
      "metadata": {
        "id": "W4o6_mosK_VE"
      },
      "source": [
        "O modelo forrest aleatório previu corretamente que 90% dos vinhos eram bons ou ruins.\n",
        "- 91% previram corretamente que os vinhos eram ruins.\n",
        "- 77% previram corretamente que os vinhos eram bons."
      ]
    },
    {
      "cell_type": "code",
      "metadata": {
        "id": "3Ya1Z14zK_Ye"
      },
      "source": [
        ""
      ],
      "execution_count": null,
      "outputs": []
    },
    {
      "cell_type": "markdown",
      "metadata": {
        "id": "zjTJYTvSK_bg"
      },
      "source": [
        "REGRESSÃO LOGISTICA"
      ]
    },
    {
      "cell_type": "code",
      "metadata": {
        "id": "W4qr_5TuPWwH"
      },
      "source": [
        "# Crie um objeto modelo.\n",
        "model_lr = LogisticRegression ()"
      ],
      "execution_count": 70,
      "outputs": []
    },
    {
      "cell_type": "code",
      "metadata": {
        "colab": {
          "base_uri": "https://localhost:8080/"
        },
        "id": "8OrkO2EUPeen",
        "outputId": "577fd76f-3613-4bf2-b772-5883237240ff"
      },
      "source": [
        "# Treine o modelo nos dados de treinamento.\n",
        "model_lr.fit (X_training_data, y_training_data)"
      ],
      "execution_count": 72,
      "outputs": [
        {
          "output_type": "execute_result",
          "data": {
            "text/plain": [
              "LogisticRegression(C=1.0, class_weight=None, dual=False, fit_intercept=True,\n",
              "                   intercept_scaling=1, l1_ratio=None, max_iter=100,\n",
              "                   multi_class='auto', n_jobs=None, penalty='l2',\n",
              "                   random_state=None, solver='lbfgs', tol=0.0001, verbose=0,\n",
              "                   warm_start=False)"
            ]
          },
          "metadata": {},
          "execution_count": 72
        }
      ]
    },
    {
      "cell_type": "code",
      "metadata": {
        "id": "klEhRCfmPeiL"
      },
      "source": [
        "# Faça previsões sobre os dados de teste.\n",
        "predictions_lr = model_lr.predict (X_test_data)"
      ],
      "execution_count": 73,
      "outputs": []
    },
    {
      "cell_type": "code",
      "metadata": {
        "colab": {
          "base_uri": "https://localhost:8080/"
        },
        "id": "h-9OH_f5Pel-",
        "outputId": "bb45fcb4-a7b3-4c1d-9bd6-58aaab725ead"
      },
      "source": [
        "# Calcule a pontuação de precisão.\n",
        "lr = accuracy_score(y_test_data, predictions_lr)\n",
        "print(lr)"
      ],
      "execution_count": 75,
      "outputs": [
        {
          "output_type": "stream",
          "name": "stdout",
          "text": [
            "0.8872180451127819\n"
          ]
        }
      ]
    },
    {
      "cell_type": "markdown",
      "metadata": {
        "id": "PMcO99KhPeoW"
      },
      "source": [
        "Mostra o relatório de classificação"
      ]
    },
    {
      "cell_type": "code",
      "metadata": {
        "colab": {
          "base_uri": "https://localhost:8080/"
        },
        "id": "EnM0VmTwP8sp",
        "outputId": "6daa15ae-f47d-4983-e5d3-49ddc6be8bf3"
      },
      "source": [
        "print(classification_report(y_test_data, predictions_lr))"
      ],
      "execution_count": 76,
      "outputs": [
        {
          "output_type": "stream",
          "name": "stdout",
          "text": [
            "              precision    recall  f1-score   support\n",
            "\n",
            "           0       0.91      0.97      0.94       347\n",
            "           1       0.62      0.35      0.44        52\n",
            "\n",
            "    accuracy                           0.89       399\n",
            "   macro avg       0.76      0.66      0.69       399\n",
            "weighted avg       0.87      0.89      0.87       399\n",
            "\n"
          ]
        }
      ]
    },
    {
      "cell_type": "markdown",
      "metadata": {
        "id": "GBQT1v8XPerk"
      },
      "source": [
        "O modelo de regressão logística previu corretamente 89% dos vinhos como bons ou ruins.\n",
        "\n",
        "- 91% previram corretamente que os vinhos eram ruins.\n",
        "- 62% previram corretamente que os vinhos eram bons."
      ]
    },
    {
      "cell_type": "code",
      "metadata": {
        "id": "8B2KgxTyQMjQ"
      },
      "source": [
        ""
      ],
      "execution_count": null,
      "outputs": []
    },
    {
      "cell_type": "markdown",
      "metadata": {
        "id": "2P7K8WBpPXm2"
      },
      "source": [
        "Modelo de máquina vetorial de suporte(CVM)"
      ]
    },
    {
      "cell_type": "code",
      "metadata": {
        "id": "T5zsiRgpK_e4"
      },
      "source": [
        "# Crie um objeto modelo.\n",
        "model_SVC = SVC()"
      ],
      "execution_count": 54,
      "outputs": []
    },
    {
      "cell_type": "code",
      "metadata": {
        "colab": {
          "base_uri": "https://localhost:8080/"
        },
        "id": "sQKlHr6zK_i_",
        "outputId": "85d9b8fe-fcd2-46d3-fad0-7dc78afdd9b4"
      },
      "source": [
        "# Treine o modelo nos dados de treinamento.\n",
        "\n",
        "model_SVC.fit(X_training_data, y_training_data)"
      ],
      "execution_count": 55,
      "outputs": [
        {
          "output_type": "execute_result",
          "data": {
            "text/plain": [
              "SVC(C=1.0, break_ties=False, cache_size=200, class_weight=None, coef0=0.0,\n",
              "    decision_function_shape='ovr', degree=3, gamma='scale', kernel='rbf',\n",
              "    max_iter=-1, probability=False, random_state=None, shrinking=True,\n",
              "    tol=0.001, verbose=False)"
            ]
          },
          "metadata": {},
          "execution_count": 55
        }
      ]
    },
    {
      "cell_type": "code",
      "metadata": {
        "id": "L_M_5mJUMJoO"
      },
      "source": [
        "# Faça previsões sobre os dados de teste.\n",
        "predictions_svc = model_SVC.predict(X_test_data)"
      ],
      "execution_count": 62,
      "outputs": []
    },
    {
      "cell_type": "code",
      "metadata": {
        "colab": {
          "base_uri": "https://localhost:8080/"
        },
        "id": "SCyzz1tDMJsU",
        "outputId": "a15d329d-2ffe-4f9f-9437-4d71fd78f4a5"
      },
      "source": [
        "# Calcule a pontuação(acuracy) de precisão.\n",
        "svm = accuracy_score(y_test_data, predictions_svc)\n",
        "print(svm)"
      ],
      "execution_count": 63,
      "outputs": [
        {
          "output_type": "stream",
          "name": "stdout",
          "text": [
            "0.8872180451127819\n"
          ]
        }
      ]
    },
    {
      "cell_type": "markdown",
      "metadata": {
        "id": "30LIh-oUMJv0"
      },
      "source": [
        " Mostra o relatório de classificação"
      ]
    },
    {
      "cell_type": "code",
      "metadata": {
        "colab": {
          "base_uri": "https://localhost:8080/"
        },
        "id": "aMlk6jrHMJy4",
        "outputId": "756c6905-46a9-4ad0-8618-45dd157974d5"
      },
      "source": [
        "print(classification_report(y_test_data, predictions_svc))"
      ],
      "execution_count": 64,
      "outputs": [
        {
          "output_type": "stream",
          "name": "stdout",
          "text": [
            "              precision    recall  f1-score   support\n",
            "\n",
            "           0       0.90      0.98      0.94       347\n",
            "           1       0.67      0.27      0.38        52\n",
            "\n",
            "    accuracy                           0.89       399\n",
            "   macro avg       0.78      0.62      0.66       399\n",
            "weighted avg       0.87      0.89      0.87       399\n",
            "\n"
          ]
        }
      ]
    },
    {
      "cell_type": "markdown",
      "metadata": {
        "id": "T8USDnbNK_-1"
      },
      "source": [
        "O modelo da máquina de vetores de suporte previu corretamente que 89% dos vinhos eram bons ou ruins.\n",
        "\n",
        "- 90% previram corretamente que os vinhos eram ruins.\n",
        "- 67% previram corretamente que os vinhos eram bons."
      ]
    },
    {
      "cell_type": "code",
      "metadata": {
        "id": "3FoxnDaPNcWp"
      },
      "source": [
        ""
      ],
      "execution_count": null,
      "outputs": []
    },
    {
      "cell_type": "markdown",
      "metadata": {
        "id": "WNIGsG6mNcaf"
      },
      "source": [
        "K Modelo de Vizinhos Mais Próximos"
      ]
    },
    {
      "cell_type": "code",
      "metadata": {
        "id": "XYQEEcviNcd6"
      },
      "source": [
        "#Cria o modelo \n",
        "model_kn = KNeighborsClassifier(n_neighbors=9, leaf_size=20)"
      ],
      "execution_count": 77,
      "outputs": []
    },
    {
      "cell_type": "code",
      "metadata": {
        "colab": {
          "base_uri": "https://localhost:8080/"
        },
        "id": "2113-25FNnB5",
        "outputId": "c678ff9e-0f5c-4c7b-aaa6-2d192084ce00"
      },
      "source": [
        "#treina o modelo \n",
        "model_kn.fit(X_training_data, y_training_data)"
      ],
      "execution_count": 78,
      "outputs": [
        {
          "output_type": "execute_result",
          "data": {
            "text/plain": [
              "KNeighborsClassifier(algorithm='auto', leaf_size=20, metric='minkowski',\n",
              "                     metric_params=None, n_jobs=None, n_neighbors=9, p=2,\n",
              "                     weights='uniform')"
            ]
          },
          "metadata": {},
          "execution_count": 78
        }
      ]
    },
    {
      "cell_type": "code",
      "metadata": {
        "id": "bsVtdPFnNnF4"
      },
      "source": [
        "predictions_kn = model_kn.predict(X_test_data)"
      ],
      "execution_count": 79,
      "outputs": []
    },
    {
      "cell_type": "code",
      "metadata": {
        "colab": {
          "base_uri": "https://localhost:8080/"
        },
        "id": "w_PViC5NNnJK",
        "outputId": "3e8bbd4d-cc0e-43d3-cf9f-90bb964a5d63"
      },
      "source": [
        "#Calcula a acuracia do modelo \n",
        "kn = accuracy_score(y_test_data, predictions_kn)\n",
        "print(kn)"
      ],
      "execution_count": 80,
      "outputs": [
        {
          "output_type": "stream",
          "name": "stdout",
          "text": [
            "0.87468671679198\n"
          ]
        }
      ]
    },
    {
      "cell_type": "code",
      "metadata": {
        "colab": {
          "base_uri": "https://localhost:8080/"
        },
        "id": "DznbxnE2NnL4",
        "outputId": "14bfdb8a-be10-423f-b47c-5d52f82be37f"
      },
      "source": [
        "print(classification_report(y_test_data, predictions_kn))"
      ],
      "execution_count": 81,
      "outputs": [
        {
          "output_type": "stream",
          "name": "stdout",
          "text": [
            "              precision    recall  f1-score   support\n",
            "\n",
            "           0       0.91      0.95      0.93       347\n",
            "           1       0.53      0.37      0.43        52\n",
            "\n",
            "    accuracy                           0.87       399\n",
            "   macro avg       0.72      0.66      0.68       399\n",
            "weighted avg       0.86      0.87      0.86       399\n",
            "\n"
          ]
        }
      ]
    },
    {
      "cell_type": "markdown",
      "metadata": {
        "id": "mbrOq1XONchD"
      },
      "source": [
        "O modelo K Nearest Neighbours previu corretamente 89% dos vinhos como bons ou ruins.\n",
        "- 91% previram corretamente que os vinhos eram ruins.\n",
        "- 53% previram corretamente que os vinhos eram bons."
      ]
    },
    {
      "cell_type": "code",
      "metadata": {
        "id": "X1V5dEZBNckZ"
      },
      "source": [
        ""
      ],
      "execution_count": null,
      "outputs": []
    },
    {
      "cell_type": "markdown",
      "metadata": {
        "id": "aAiXZk8-RSdm"
      },
      "source": [
        "Mostrar pontuação de precisão por modelo"
      ]
    },
    {
      "cell_type": "code",
      "metadata": {
        "colab": {
          "base_uri": "https://localhost:8080/",
          "height": 436
        },
        "id": "IMOWr9tbREGj",
        "outputId": "2e9becf5-847c-434f-f9f0-4e8d39c7a543"
      },
      "source": [
        "# Show Accuraccy Score by Model.\n",
        "models = pd.DataFrame({\n",
        "    'Model':['Random Forest', 'Logistic Regression', 'Support Vector Machine' , 'KNeighbours'],\n",
        "    'Accuracy_score' :[rf, lr, svm, kn]\n",
        "})\n",
        "models\n",
        "sns.barplot(x='Accuracy_score', y='Model', data=models)\n",
        "\n",
        "models.sort_values(by='Accuracy_score', ascending=False)"
      ],
      "execution_count": 82,
      "outputs": [
        {
          "output_type": "execute_result",
          "data": {
            "text/html": [
              "<div>\n",
              "<style scoped>\n",
              "    .dataframe tbody tr th:only-of-type {\n",
              "        vertical-align: middle;\n",
              "    }\n",
              "\n",
              "    .dataframe tbody tr th {\n",
              "        vertical-align: top;\n",
              "    }\n",
              "\n",
              "    .dataframe thead th {\n",
              "        text-align: right;\n",
              "    }\n",
              "</style>\n",
              "<table border=\"1\" class=\"dataframe\">\n",
              "  <thead>\n",
              "    <tr style=\"text-align: right;\">\n",
              "      <th></th>\n",
              "      <th>Model</th>\n",
              "      <th>Accuracy_score</th>\n",
              "    </tr>\n",
              "  </thead>\n",
              "  <tbody>\n",
              "    <tr>\n",
              "      <th>0</th>\n",
              "      <td>Random Forest</td>\n",
              "      <td>0.904762</td>\n",
              "    </tr>\n",
              "    <tr>\n",
              "      <th>1</th>\n",
              "      <td>Logistic Regression</td>\n",
              "      <td>0.887218</td>\n",
              "    </tr>\n",
              "    <tr>\n",
              "      <th>2</th>\n",
              "      <td>Support Vector Machine</td>\n",
              "      <td>0.887218</td>\n",
              "    </tr>\n",
              "    <tr>\n",
              "      <th>3</th>\n",
              "      <td>KNeighbours</td>\n",
              "      <td>0.874687</td>\n",
              "    </tr>\n",
              "  </tbody>\n",
              "</table>\n",
              "</div>"
            ],
            "text/plain": [
              "                    Model  Accuracy_score\n",
              "0           Random Forest        0.904762\n",
              "1     Logistic Regression        0.887218\n",
              "2  Support Vector Machine        0.887218\n",
              "3             KNeighbours        0.874687"
            ]
          },
          "metadata": {},
          "execution_count": 82
        },
        {
          "output_type": "display_data",
          "data": {
            "image/png": "[encoded data removed]",
            "text/plain": [
              "<Figure size 432x288 with 1 Axes>"
            ]
          },
          "metadata": {
            "needs_background": "light"
          }
        }
      ]
    },
    {
      "cell_type": "code",
      "metadata": {
        "id": "OtIaVwh8RELp"
      },
      "source": [
        ""
      ],
      "execution_count": null,
      "outputs": []
    },
    {
      "cell_type": "markdown",
      "metadata": {
        "id": "w58NwKUJREQT"
      },
      "source": [
        "Conclusões: \n",
        "\n",
        "Todos os modelos testados apresentaram escores de alta precisão, variando de 88,50% a 89,75%. O modelo forrest aleatório teve a pontuação de precisão mais alta. Esse modelo previu corretamente que 90% dos empréstimos seriam bons ou ruins. 91% dos casos previram corretamente os vinhos como sendo ruins e 71% dos casos previram corretamente os vinhos como bons. Os vinhos de qualidade “boa” foram classificados com uma pontuação de qualidade de 7 ou 8. Os vinhos de qualidade “fraca” foram classificados como tendo uma pontuação de qualidade entre 3 e 6.\n",
        "\n",
        "\n",
        "As pontuações de qualidade do vinho podem ser melhoradas aumentando a quantidade de acidez fixa, ácido cítrico, sulfatos e álcool e diminuindo a quantidade de acidez volátil e cloretos. As quantidades específicas para cada físico-química podem ser encontradas nos gráficos de barras acima.\n",
        "\n",
        "\n",
        "A precisão dos modelos pode ser melhorada por ter um conjunto de dados maior com mais equilíbrio entre vinhos de baixa e boa qualidade. Além disso, o ajuste de alguns dos hiperparâmetros dos modelos pode aumentar a pontuação de precisão."
      ]
    },
    {
      "cell_type": "code",
      "metadata": {
        "id": "v9It9x6pRl6R"
      },
      "source": [
        ""
      ],
      "execution_count": null,
      "outputs": []
    }
  ]
}