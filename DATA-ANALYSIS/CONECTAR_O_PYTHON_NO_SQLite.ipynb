{
  "nbformat": 4,
  "nbformat_minor": 0,
  "metadata": {
    "kernelspec": {
      "display_name": "Python 3",
      "language": "python",
      "name": "python3"
    },
    "language_info": {
      "codemirror_mode": {
        "name": "ipython",
        "version": 3
      },
      "file_extension": ".py",
      "mimetype": "text/x-python",
      "name": "python",
      "nbconvert_exporter": "python",
      "pygments_lexer": "ipython3",
      "version": "3.8.8"
    },
    "colab": {
      "name": "CONECTAR O PYTHON  NO SQLite.ipynb",
      "provenance": [],
      "collapsed_sections": []
    }
  },
  "cells": [
    {
      "cell_type": "code",
      "metadata": {
        "colab": {
          "base_uri": "https://localhost:8080/"
        },
        "id": "VP6WL1o1_g5L",
        "outputId": "6237289a-14c5-47a4-f40d-b52fd7fc6ad9"
      },
      "source": [
        "# Versão da Linguagem Python\n",
        "from platform import python_version\n",
        "print('Versão da Linguagem Python Usada Neste Jupyter Notebook:', python_version())"
      ],
      "execution_count": null,
      "outputs": [
        {
          "output_type": "stream",
          "name": "stdout",
          "text": [
            "Versão da Linguagem Python Usada Neste Jupyter Notebook: 3.7.12\n"
          ]
        }
      ]
    },
    {
      "cell_type": "markdown",
      "metadata": {
        "id": "Fw8LTGAE_g5N"
      },
      "source": [
        "### Criando o Banco de Dados e Inserindo Dados"
      ]
    },
    {
      "cell_type": "code",
      "metadata": {
        "id": "rbEEddYC_g5O"
      },
      "source": [
        "# Reemove o arquivo com o banco de dados SQLite (caso exista)\n",
        "import os\n",
        "os.remove(\"dsa.db\") if os.path.exists(\"dsa.db\") else None"
      ],
      "execution_count": null,
      "outputs": []
    },
    {
      "cell_type": "code",
      "metadata": {
        "id": "nUCwFHtw_g5O"
      },
      "source": [
        "\n",
        "import sqlite3\n",
        "import random\n",
        "import time\n",
        "import datetime\n",
        "import matplotlib.pyplot as plt\n",
        "#%matplotlib notebook\n",
        " \n",
        "# Criando uma conexão\n",
        "conn = sqlite3.connect('dsa.db')   \n",
        "\n",
        "# Criando um cursor\n",
        "c = conn.cursor()\n",
        " \n",
        "# Função para criar uma tabela\n",
        "def create_table():\n",
        "    c.execute('CREATE TABLE IF NOT EXISTS produtos(id INTEGER PRIMARY KEY AUTOINCREMENT NOT NULL, date TEXT, '\\\n",
        "              'prod_name TEXT, valor REAL)')\n",
        "    \n",
        "# Função para inserir uma linha\n",
        "def data_insert():\n",
        "    c.execute(\"INSERT INTO produtos VALUES(10, '2020-05-02 14:32:11', 'Teclado', 90 )\")\n",
        "    conn.commit()\n",
        "    c.close()\n",
        "    conn.close()\n",
        "\n",
        "\n",
        "    \n",
        "# Usando variáveis para inserir dados    \n",
        "def data_insert_var():\n",
        "    new_date = datetime.datetime.now()\n",
        "    new_prod_name = 'Monitor'\n",
        "    new_valor = random.randrange(50,100)\n",
        "    c.execute(\"INSERT INTO produtos (date, prod_name, valor) VALUES (?, ?, ?)\", (new_date, new_prod_name, new_valor))\n",
        "    conn.commit()\n",
        "\n",
        "\n",
        "# Leitura de dados\n",
        "def leitura_todos_dados():\n",
        "    c.execute(\"SELECT * FROM PRODUTOS\")\n",
        "    for linha in c.fetchall():\n",
        "        print(linha)\n",
        "        \n",
        "# Leitura de registros específicos\n",
        "def leitura_registros():\n",
        "    c.execute(\"SELECT * FROM PRODUTOS WHERE valor > 60.0\")\n",
        "    for linha in c.fetchall():\n",
        "        print(linha)      \n",
        "        \n",
        "# Leitura de colunas específicos\n",
        "def leitura_colunas():\n",
        "    c.execute(\"SELECT * FROM PRODUTOS\")\n",
        "    for linha in c.fetchall():\n",
        "        print(linha[3])         \n",
        "\n",
        "\n",
        "# Update\n",
        "def atualiza_dados():\n",
        "    c.execute(\"UPDATE produtos SET valor = 70.00 WHERE valor = 98.0\")\n",
        "    conn.commit()\n",
        "    \n",
        "# Delete\n",
        "def remove_dados():\n",
        "    c.execute(\"DELETE FROM produtos WHERE valor = 62.0\")\n",
        "    conn.commit()\n",
        "\n",
        "\n",
        "# Gerar gráfico com os dados no banco de dados\n",
        "def dados_grafico():\n",
        "    c.execute(\"SELECT id, valor FROM produtos\")\n",
        "    ids = []\n",
        "    valores = []\n",
        "    dados = c.fetchall()\n",
        "    for linha in dados:\n",
        "        ids.append(linha[0])\n",
        "        valores.append(linha[1])\n",
        "        \n",
        "    plt.bar(ids, valores)\n",
        "    plt.show()    "
      ],
      "execution_count": null,
      "outputs": []
    },
    {
      "cell_type": "code",
      "metadata": {
        "id": "lhUYp9Dj_g5P"
      },
      "source": [
        "# Criar tabela\n",
        "create_table()"
      ],
      "execution_count": null,
      "outputs": []
    },
    {
      "cell_type": "code",
      "metadata": {
        "id": "aXTkQ9b3CwEu"
      },
      "source": [
        "# Gerando valores e inserindo na tabela\n",
        "for i in range(10):\n",
        "    data_insert_var()\n",
        "    time.sleep(1)"
      ],
      "execution_count": null,
      "outputs": []
    },
    {
      "cell_type": "code",
      "metadata": {
        "colab": {
          "base_uri": "https://localhost:8080/",
          "height": 364
        },
        "id": "D1_V_lVfGUPO",
        "outputId": "eb66b806-fef9-4959-97cd-fdf13f79cea1"
      },
      "source": [
        "#Select nos dados\n",
        "\n",
        "leitura_todos_dados()"
      ],
      "execution_count": null,
      "outputs": [
        {
          "output_type": "stream",
          "name": "stdout",
          "text": [
            "(1, '2021-11-24 17:44:18.400513', 'Monitor', 74.0)\n",
            "(2, '2021-11-24 17:44:19.414006', 'Monitor', 94.0)\n",
            "(3, '2021-11-24 17:44:20.425154', 'Monitor', 57.0)\n",
            "(4, '2021-11-24 17:44:21.436536', 'Monitor', 88.0)\n",
            "(5, '2021-11-24 17:44:22.447762', 'Monitor', 69.0)\n",
            "(6, '2021-11-24 17:44:23.459115', 'Monitor', 85.0)\n",
            "(7, '2021-11-24 17:44:24.470332', 'Monitor', 90.0)\n",
            "(8, '2021-11-24 17:44:25.481884', 'Monitor', 54.0)\n",
            "(9, '2021-11-24 17:44:26.493342', 'Monitor', 75.0)\n",
            "(10, '2021-11-24 17:44:27.503854', 'Monitor', 87.0)\n",
            "(11, '2021-11-24 18:26:23.606959', 'Monitor', 58.0)\n",
            "(12, '2021-11-24 18:26:24.619555', 'Monitor', 80.0)\n",
            "(13, '2021-11-24 18:26:25.630511', 'Monitor', 70.0)\n",
            "(14, '2021-11-24 18:26:26.641044', 'Monitor', 92.0)\n",
            "(15, '2021-11-24 18:26:27.651870', 'Monitor', 62.0)\n",
            "(16, '2021-11-24 18:26:28.663451', 'Monitor', 69.0)\n",
            "(17, '2021-11-24 18:26:29.674500', 'Monitor', 97.0)\n",
            "(18, '2021-11-24 18:26:30.685196', 'Monitor', 87.0)\n",
            "(19, '2021-11-24 18:26:31.696155', 'Monitor', 59.0)\n",
            "(20, '2021-11-24 18:26:32.707832', 'Monitor', 72.0)\n"
          ]
        }
      ]
    },
    {
      "cell_type": "code",
      "metadata": {
        "colab": {
          "base_uri": "https://localhost:8080/",
          "height": 295
        },
        "id": "y3CaHZDIGe07",
        "outputId": "54870280-3216-4b4a-9a50-8ba68528e55f"
      },
      "source": [
        "#Leitura do registro especifico \n",
        "\n",
        "leitura_registros()"
      ],
      "execution_count": null,
      "outputs": [
        {
          "output_type": "stream",
          "name": "stdout",
          "text": [
            "(1, '2021-11-24 17:44:18.400513', 'Monitor', 74.0)\n",
            "(2, '2021-11-24 17:44:19.414006', 'Monitor', 94.0)\n",
            "(4, '2021-11-24 17:44:21.436536', 'Monitor', 88.0)\n",
            "(5, '2021-11-24 17:44:22.447762', 'Monitor', 69.0)\n",
            "(6, '2021-11-24 17:44:23.459115', 'Monitor', 85.0)\n",
            "(7, '2021-11-24 17:44:24.470332', 'Monitor', 90.0)\n",
            "(9, '2021-11-24 17:44:26.493342', 'Monitor', 75.0)\n",
            "(10, '2021-11-24 17:44:27.503854', 'Monitor', 87.0)\n",
            "(12, '2021-11-24 18:26:24.619555', 'Monitor', 80.0)\n",
            "(13, '2021-11-24 18:26:25.630511', 'Monitor', 70.0)\n",
            "(14, '2021-11-24 18:26:26.641044', 'Monitor', 92.0)\n",
            "(15, '2021-11-24 18:26:27.651870', 'Monitor', 62.0)\n",
            "(16, '2021-11-24 18:26:28.663451', 'Monitor', 69.0)\n",
            "(17, '2021-11-24 18:26:29.674500', 'Monitor', 97.0)\n",
            "(18, '2021-11-24 18:26:30.685196', 'Monitor', 87.0)\n",
            "(20, '2021-11-24 18:26:32.707832', 'Monitor', 72.0)\n"
          ]
        }
      ]
    },
    {
      "cell_type": "code",
      "metadata": {
        "colab": {
          "base_uri": "https://localhost:8080/",
          "height": 364
        },
        "id": "Q6jeIMXpGupc",
        "outputId": "da00291d-15fa-4c17-8bff-de8b0e4a889a"
      },
      "source": [
        "#Leitura de colunas especificas\n",
        "\n",
        "leitura_colunas()"
      ],
      "execution_count": null,
      "outputs": [
        {
          "output_type": "stream",
          "name": "stdout",
          "text": [
            "74.0\n",
            "94.0\n",
            "57.0\n",
            "88.0\n",
            "69.0\n",
            "85.0\n",
            "90.0\n",
            "54.0\n",
            "75.0\n",
            "87.0\n",
            "58.0\n",
            "80.0\n",
            "70.0\n",
            "92.0\n",
            "62.0\n",
            "69.0\n",
            "97.0\n",
            "87.0\n",
            "59.0\n",
            "72.0\n"
          ]
        }
      ]
    },
    {
      "cell_type": "code",
      "metadata": {
        "id": "W36628Wt_g5P"
      },
      "source": [
        "# Inserir dados\n",
        "#data_insert()"
      ],
      "execution_count": null,
      "outputs": []
    },
    {
      "cell_type": "code",
      "metadata": {
        "id": "2G_F-MzCCZI_"
      },
      "source": [
        "#atualiza os dados\n",
        "\n",
        "atualiza_dados()"
      ],
      "execution_count": null,
      "outputs": []
    },
    {
      "cell_type": "code",
      "metadata": {
        "colab": {
          "base_uri": "https://localhost:8080/",
          "height": 364
        },
        "id": "M5APmyC8HR6A",
        "outputId": "88586c7c-7510-484f-f895-56fefc91f6a1"
      },
      "source": [
        "#leitura \n",
        "\n",
        "leitura_todos_dados()"
      ],
      "execution_count": null,
      "outputs": [
        {
          "output_type": "stream",
          "name": "stdout",
          "text": [
            "(1, '2021-11-24 17:44:18.400513', 'Monitor', 74.0)\n",
            "(2, '2021-11-24 17:44:19.414006', 'Monitor', 94.0)\n",
            "(3, '2021-11-24 17:44:20.425154', 'Monitor', 57.0)\n",
            "(4, '2021-11-24 17:44:21.436536', 'Monitor', 88.0)\n",
            "(5, '2021-11-24 17:44:22.447762', 'Monitor', 69.0)\n",
            "(6, '2021-11-24 17:44:23.459115', 'Monitor', 85.0)\n",
            "(7, '2021-11-24 17:44:24.470332', 'Monitor', 90.0)\n",
            "(8, '2021-11-24 17:44:25.481884', 'Monitor', 54.0)\n",
            "(9, '2021-11-24 17:44:26.493342', 'Monitor', 75.0)\n",
            "(10, '2021-11-24 17:44:27.503854', 'Monitor', 87.0)\n",
            "(11, '2021-11-24 18:26:23.606959', 'Monitor', 58.0)\n",
            "(12, '2021-11-24 18:26:24.619555', 'Monitor', 80.0)\n",
            "(13, '2021-11-24 18:26:25.630511', 'Monitor', 70.0)\n",
            "(14, '2021-11-24 18:26:26.641044', 'Monitor', 92.0)\n",
            "(15, '2021-11-24 18:26:27.651870', 'Monitor', 62.0)\n",
            "(16, '2021-11-24 18:26:28.663451', 'Monitor', 69.0)\n",
            "(17, '2021-11-24 18:26:29.674500', 'Monitor', 97.0)\n",
            "(18, '2021-11-24 18:26:30.685196', 'Monitor', 87.0)\n",
            "(19, '2021-11-24 18:26:31.696155', 'Monitor', 59.0)\n",
            "(20, '2021-11-24 18:26:32.707832', 'Monitor', 72.0)\n"
          ]
        }
      ]
    },
    {
      "cell_type": "code",
      "metadata": {
        "id": "c72h3DKcHR9u"
      },
      "source": [
        "#remover dados \n",
        "\n",
        "remove_dados()"
      ],
      "execution_count": null,
      "outputs": []
    },
    {
      "cell_type": "code",
      "metadata": {
        "colab": {
          "base_uri": "https://localhost:8080/",
          "height": 347
        },
        "id": "pZmgNmtxHSAc",
        "outputId": "04f1268b-c0e7-4ddc-e7f5-1e19aa6f17cc"
      },
      "source": [
        "#leitura de todos os dados\n",
        "\n",
        "leitura_todos_dados()"
      ],
      "execution_count": null,
      "outputs": [
        {
          "output_type": "stream",
          "name": "stdout",
          "text": [
            "(1, '2021-11-24 17:44:18.400513', 'Monitor', 74.0)\n",
            "(2, '2021-11-24 17:44:19.414006', 'Monitor', 94.0)\n",
            "(3, '2021-11-24 17:44:20.425154', 'Monitor', 57.0)\n",
            "(4, '2021-11-24 17:44:21.436536', 'Monitor', 88.0)\n",
            "(5, '2021-11-24 17:44:22.447762', 'Monitor', 69.0)\n",
            "(6, '2021-11-24 17:44:23.459115', 'Monitor', 85.0)\n",
            "(7, '2021-11-24 17:44:24.470332', 'Monitor', 90.0)\n",
            "(8, '2021-11-24 17:44:25.481884', 'Monitor', 54.0)\n",
            "(9, '2021-11-24 17:44:26.493342', 'Monitor', 75.0)\n",
            "(10, '2021-11-24 17:44:27.503854', 'Monitor', 87.0)\n",
            "(11, '2021-11-24 18:26:23.606959', 'Monitor', 58.0)\n",
            "(12, '2021-11-24 18:26:24.619555', 'Monitor', 80.0)\n",
            "(13, '2021-11-24 18:26:25.630511', 'Monitor', 70.0)\n",
            "(14, '2021-11-24 18:26:26.641044', 'Monitor', 92.0)\n",
            "(16, '2021-11-24 18:26:28.663451', 'Monitor', 69.0)\n",
            "(17, '2021-11-24 18:26:29.674500', 'Monitor', 97.0)\n",
            "(18, '2021-11-24 18:26:30.685196', 'Monitor', 87.0)\n",
            "(19, '2021-11-24 18:26:31.696155', 'Monitor', 59.0)\n",
            "(20, '2021-11-24 18:26:32.707832', 'Monitor', 72.0)\n"
          ]
        }
      ]
    },
    {
      "cell_type": "code",
      "metadata": {
        "id": "wX-RRZIcHSDE"
      },
      "source": [
        ""
      ],
      "execution_count": null,
      "outputs": []
    },
    {
      "cell_type": "code",
      "metadata": {
        "id": "yYdEXz9zMVxE"
      },
      "source": [
        "#Gerando Grafico \n",
        "dados_grafico()"
      ],
      "execution_count": null,
      "outputs": []
    },
    {
      "cell_type": "code",
      "metadata": {
        "id": "IMsmSpJIMV1U"
      },
      "source": [
        ""
      ],
      "execution_count": null,
      "outputs": []
    },
    {
      "cell_type": "code",
      "metadata": {
        "id": "kK5MRe_2CZND"
      },
      "source": [
        "# Encerrando a conexão\n",
        "c.close()\n",
        "conn.close()"
      ],
      "execution_count": null,
      "outputs": []
    },
    {
      "cell_type": "code",
      "metadata": {
        "id": "Tx2d5S1WCZQT"
      },
      "source": [
        ""
      ],
      "execution_count": null,
      "outputs": []
    },
    {
      "cell_type": "code",
      "metadata": {
        "id": "Eryu7kljCZTE"
      },
      "source": [
        ""
      ],
      "execution_count": null,
      "outputs": []
    },
    {
      "cell_type": "code",
      "metadata": {
        "id": "tKRcCeP_CZbH"
      },
      "source": [
        ""
      ],
      "execution_count": null,
      "outputs": []
    },
    {
      "cell_type": "code",
      "metadata": {
        "id": "8l_yqFkCCZiU"
      },
      "source": [
        ""
      ],
      "execution_count": null,
      "outputs": []
    }
  ]
}