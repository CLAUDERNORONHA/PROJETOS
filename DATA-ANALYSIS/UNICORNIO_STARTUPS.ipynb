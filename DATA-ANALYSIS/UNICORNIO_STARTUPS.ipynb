{
  "nbformat": 4,
  "nbformat_minor": 0,
  "metadata": {
    "colab": {
      "name": "UNICORNIO-STARTUPS.ipynb",
      "provenance": [],
      "collapsed_sections": []
    },
    "kernelspec": {
      "name": "python3",
      "display_name": "Python 3"
    },
    "language_info": {
      "name": "python"
    }
  },
  "cells": [
    {
      "cell_type": "markdown",
      "source": [
        "O século 21 é o século das startups. Nas últimas 2 décadas, vimos um número recorde de startups de unicórnios responsáveis ​​pelas novas tecnologias, exploração do espaço, aprimoramento da educação e muito mais. Exemplos de tais startups de unicórnio são SpaceX, BYJUs, CRED, etc.\n",
        "Neste artigo, vamos fazer a análise e visualização de dados da empresa Startup que surge como uma startup Unicorn após o ano de 2007\n",
        "\n",
        "\n",
        "O conceito de empresa Startup ainda é bastante discutido. Uma startup é um modelo de negócio escalável e repetível que se desenvolve em condições de incerteza.\n",
        "\n",
        "Ou seja, é necessário alcançar um número grande de clientes para gerar lucro sem ter custos elevados com o crescimento e a expansão.\n",
        "\n",
        "Também é importante entregar aos clientes produtos iguais, e não personalizados um a um, de modo que todas as variáveis do produto estejam prontas para entrega repetida."
      ],
      "metadata": {
        "id": "RJhbUD0Y8HS3"
      }
    },
    {
      "cell_type": "markdown",
      "source": [
        "Startups de unicórnio\n",
        "\n",
        "\n",
        "\n",
        "De acordo com o site [enotas](https://enotas.com.br/blog/startup-unicornio/) Startups unicórnio são as empresas de tecnologia privadas avaliadas em mais de um bilhão de dólares antes de abrir seu capital em bolsas de valores, ou seja, antes de realizar o IPO (Initial Public Offering).\n",
        "\n",
        "A principal característica de uma startup unicórnio é a inovação no mercado em que pertence. A Uber, por exemplo, revolucionou o transporte, permitindo que os usuários solicitem um veículo com alguns cliques em qualquer lugar e a qualquer momento.\n",
        "\n",
        "\n",
        "\n",
        "O termo startup unicórnio nasceu no ano 2013 quando o fundador da Cowboy Ventures o, Aillen Lee, o descreveu como empresas eram valorizadas em mais de 1 bilhão de dólares sem terem capital na bolsa de valores.\n",
        "\n",
        "Essa descrição foi dada pela raridade dessas empresas e a dificuldade dessa valorização para negócios emergentes no mercado. Então, os unicórnios são as empresas que enfrentaram os desafios, sobreviveram aos obstáculos e alcançaram o tão sonhado décimo dígito."
      ],
      "metadata": {
        "id": "q8F-Qt168HWR"
      }
    },
    {
      "cell_type": "code",
      "source": [
        ""
      ],
      "metadata": {
        "id": "RQv-mMFWMOrY"
      },
      "execution_count": null,
      "outputs": []
    },
    {
      "cell_type": "markdown",
      "source": [
        "O estudo será feito com Startups Mundiais e especificamente startups brasileiras."
      ],
      "metadata": {
        "id": "bq3_oy4s9F75"
      }
    },
    {
      "cell_type": "code",
      "source": [
        "import numpy as np\n",
        "import pandas as pd\n",
        "import scipy.stats as stats\n",
        "\n",
        "\n",
        "#visualização \n",
        "import seaborn as sns\n",
        "import matplotlib.pyplot as plt\n",
        "import plotly\n",
        "import plotly.express as px\n",
        "from matplotlib.pyplot import figure\n",
        "from plotly.offline import init_notebook_mode, iplot\n",
        "import plotly.graph_objects as go\n",
        "%matplotlib inline"
      ],
      "metadata": {
        "id": "PJ3_iRMyULz0"
      },
      "execution_count": 1,
      "outputs": []
    },
    {
      "cell_type": "code",
      "source": [
        ""
      ],
      "metadata": {
        "id": "iI0rexrlUL3n"
      },
      "execution_count": 1,
      "outputs": []
    },
    {
      "cell_type": "code",
      "source": [
        "df = pd.read_csv('/content/drive/MyDrive/1-CIENCIA DE DADOS-CURSOS_ESTUDO DE CASO/ESTUDO DE CASO/STARTUPS/Startups.csv')\n",
        "df.head()"
      ],
      "metadata": {
        "colab": {
          "base_uri": "https://localhost:8080/",
          "height": 206
        },
        "id": "lmpnJZcxUL7L",
        "outputId": "4d091f91-f3dd-4069-97b2-d9c9cfa79bc0"
      },
      "execution_count": 3,
      "outputs": [
        {
          "output_type": "execute_result",
          "data": {
            "text/html": [
              "\n",
              "  <div id=\"df-71dd4d07-280f-46f0-82ae-423bcf34f83c\">\n",
              "    <div class=\"colab-df-container\">\n",
              "      <div>\n",
              "<style scoped>\n",
              "    .dataframe tbody tr th:only-of-type {\n",
              "        vertical-align: middle;\n",
              "    }\n",
              "\n",
              "    .dataframe tbody tr th {\n",
              "        vertical-align: top;\n",
              "    }\n",
              "\n",
              "    .dataframe thead th {\n",
              "        text-align: right;\n",
              "    }\n",
              "</style>\n",
              "<table border=\"1\" class=\"dataframe\">\n",
              "  <thead>\n",
              "    <tr style=\"text-align: right;\">\n",
              "      <th></th>\n",
              "      <th>Unnamed: 0</th>\n",
              "      <th>Company</th>\n",
              "      <th>Valuation ($B)</th>\n",
              "      <th>Date Joined</th>\n",
              "      <th>Country</th>\n",
              "      <th>City</th>\n",
              "      <th>Industry</th>\n",
              "      <th>Select Investors</th>\n",
              "    </tr>\n",
              "  </thead>\n",
              "  <tbody>\n",
              "    <tr>\n",
              "      <th>0</th>\n",
              "      <td>0</td>\n",
              "      <td>Bytedance</td>\n",
              "      <td>$140</td>\n",
              "      <td>4/7/2017</td>\n",
              "      <td>China</td>\n",
              "      <td>Beijing</td>\n",
              "      <td>Artificial intelligence</td>\n",
              "      <td>Sequoia Capital China, SIG Asia Investments, S...</td>\n",
              "    </tr>\n",
              "    <tr>\n",
              "      <th>1</th>\n",
              "      <td>1</td>\n",
              "      <td>SpaceX</td>\n",
              "      <td>$100.3</td>\n",
              "      <td>12/1/2012</td>\n",
              "      <td>United States</td>\n",
              "      <td>Hawthorne</td>\n",
              "      <td>Other</td>\n",
              "      <td>Founders Fund, Draper Fisher Jurvetson, Rothen...</td>\n",
              "    </tr>\n",
              "    <tr>\n",
              "      <th>2</th>\n",
              "      <td>2</td>\n",
              "      <td>Stripe</td>\n",
              "      <td>$95</td>\n",
              "      <td>1/23/2014</td>\n",
              "      <td>United States</td>\n",
              "      <td>San Francisco</td>\n",
              "      <td>Fintech</td>\n",
              "      <td>Khosla Ventures, LowercaseCapital, capitalG</td>\n",
              "    </tr>\n",
              "    <tr>\n",
              "      <th>3</th>\n",
              "      <td>3</td>\n",
              "      <td>Klarna</td>\n",
              "      <td>$45.6</td>\n",
              "      <td>12/12/2011</td>\n",
              "      <td>Sweden</td>\n",
              "      <td>Stockholm</td>\n",
              "      <td>Fintech</td>\n",
              "      <td>Institutional Venture Partners, Sequoia Capita...</td>\n",
              "    </tr>\n",
              "    <tr>\n",
              "      <th>4</th>\n",
              "      <td>4</td>\n",
              "      <td>Canva</td>\n",
              "      <td>$40</td>\n",
              "      <td>1/8/2018</td>\n",
              "      <td>Australia</td>\n",
              "      <td>Surry Hills</td>\n",
              "      <td>Internet software &amp; services</td>\n",
              "      <td>Sequoia Capital China, Blackbird Ventures, Mat...</td>\n",
              "    </tr>\n",
              "  </tbody>\n",
              "</table>\n",
              "</div>\n",
              "      <button class=\"colab-df-convert\" onclick=\"convertToInteractive('df-71dd4d07-280f-46f0-82ae-423bcf34f83c')\"\n",
              "              title=\"Convert this dataframe to an interactive table.\"\n",
              "              style=\"display:none;\">\n",
              "        \n",
              "  <svg xmlns=\"http://www.w3.org/2000/svg\" height=\"24px\"viewBox=\"0 0 24 24\"\n",
              "       width=\"24px\">\n",
              "    <path d=\"M0 0h24v24H0V0z\" fill=\"none\"/>\n",
              "    <path d=\"M18.56 5.44l.94 2.06.94-2.06 2.06-.94-2.06-.94-.94-2.06-.94 2.06-2.06.94zm-11 1L8.5 8.5l.94-2.06 2.06-.94-2.06-.94L8.5 2.5l-.94 2.06-2.06.94zm10 10l.94 2.06.94-2.06 2.06-.94-2.06-.94-.94-2.06-.94 2.06-2.06.94z\"/><path d=\"M17.41 7.96l-1.37-1.37c-.4-.4-.92-.59-1.43-.59-.52 0-1.04.2-1.43.59L10.3 9.45l-7.72 7.72c-.78.78-.78 2.05 0 2.83L4 21.41c.39.39.9.59 1.41.59.51 0 1.02-.2 1.41-.59l7.78-7.78 2.81-2.81c.8-.78.8-2.07 0-2.86zM5.41 20L4 18.59l7.72-7.72 1.47 1.35L5.41 20z\"/>\n",
              "  </svg>\n",
              "      </button>\n",
              "      \n",
              "  <style>\n",
              "    .colab-df-container {\n",
              "      display:flex;\n",
              "      flex-wrap:wrap;\n",
              "      gap: 12px;\n",
              "    }\n",
              "\n",
              "    .colab-df-convert {\n",
              "      background-color: #E8F0FE;\n",
              "      border: none;\n",
              "      border-radius: 50%;\n",
              "      cursor: pointer;\n",
              "      display: none;\n",
              "      fill: #1967D2;\n",
              "      height: 32px;\n",
              "      padding: 0 0 0 0;\n",
              "      width: 32px;\n",
              "    }\n",
              "\n",
              "    .colab-df-convert:hover {\n",
              "      background-color: #E2EBFA;\n",
              "      box-shadow: 0px 1px 2px rgba(60, 64, 67, 0.3), 0px 1px 3px 1px rgba(60, 64, 67, 0.15);\n",
              "      fill: #174EA6;\n",
              "    }\n",
              "\n",
              "    [theme=dark] .colab-df-convert {\n",
              "      background-color: #3B4455;\n",
              "      fill: #D2E3FC;\n",
              "    }\n",
              "\n",
              "    [theme=dark] .colab-df-convert:hover {\n",
              "      background-color: #434B5C;\n",
              "      box-shadow: 0px 1px 3px 1px rgba(0, 0, 0, 0.15);\n",
              "      filter: drop-shadow(0px 1px 2px rgba(0, 0, 0, 0.3));\n",
              "      fill: #FFFFFF;\n",
              "    }\n",
              "  </style>\n",
              "\n",
              "      <script>\n",
              "        const buttonEl =\n",
              "          document.querySelector('#df-71dd4d07-280f-46f0-82ae-423bcf34f83c button.colab-df-convert');\n",
              "        buttonEl.style.display =\n",
              "          google.colab.kernel.accessAllowed ? 'block' : 'none';\n",
              "\n",
              "        async function convertToInteractive(key) {\n",
              "          const element = document.querySelector('#df-71dd4d07-280f-46f0-82ae-423bcf34f83c');\n",
              "          const dataTable =\n",
              "            await google.colab.kernel.invokeFunction('convertToInteractive',\n",
              "                                                     [key], {});\n",
              "          if (!dataTable) return;\n",
              "\n",
              "          const docLinkHtml = 'Like what you see? Visit the ' +\n",
              "            '<a target=\"_blank\" href=https://colab.research.google.com/notebooks/data_table.ipynb>data table notebook</a>'\n",
              "            + ' to learn more about interactive tables.';\n",
              "          element.innerHTML = '';\n",
              "          dataTable['output_type'] = 'display_data';\n",
              "          await google.colab.output.renderOutput(dataTable, element);\n",
              "          const docLink = document.createElement('div');\n",
              "          docLink.innerHTML = docLinkHtml;\n",
              "          element.appendChild(docLink);\n",
              "        }\n",
              "      </script>\n",
              "    </div>\n",
              "  </div>\n",
              "  "
            ],
            "text/plain": [
              "   Unnamed: 0  ...                                   Select Investors\n",
              "0           0  ...  Sequoia Capital China, SIG Asia Investments, S...\n",
              "1           1  ...  Founders Fund, Draper Fisher Jurvetson, Rothen...\n",
              "2           2  ...        Khosla Ventures, LowercaseCapital, capitalG\n",
              "3           3  ...  Institutional Venture Partners, Sequoia Capita...\n",
              "4           4  ...  Sequoia Capital China, Blackbird Ventures, Mat...\n",
              "\n",
              "[5 rows x 8 columns]"
            ]
          },
          "metadata": {},
          "execution_count": 3
        }
      ]
    },
    {
      "cell_type": "markdown",
      "source": [
        "Aqui temos o nome da empresa, sua avaliação atual, em qual data a empresa ingressou na startup Unicorn, País, De qual cidade, A empresa pertence a qual setor e os Investidores."
      ],
      "metadata": {
        "id": "Lm1M1iVTUL-D"
      }
    },
    {
      "cell_type": "code",
      "source": [
        ""
      ],
      "metadata": {
        "id": "g4-N_CsOUMBP"
      },
      "execution_count": null,
      "outputs": []
    },
    {
      "cell_type": "code",
      "source": [
        "df.info()"
      ],
      "metadata": {
        "colab": {
          "base_uri": "https://localhost:8080/"
        },
        "id": "3EkJG2ufVXtn",
        "outputId": "0ce00672-bc40-4fc0-9077-334e29943eee"
      },
      "execution_count": 4,
      "outputs": [
        {
          "output_type": "stream",
          "name": "stdout",
          "text": [
            "<class 'pandas.core.frame.DataFrame'>\n",
            "RangeIndex: 936 entries, 0 to 935\n",
            "Data columns (total 8 columns):\n",
            " #   Column            Non-Null Count  Dtype \n",
            "---  ------            --------------  ----- \n",
            " 0   Unnamed: 0        936 non-null    int64 \n",
            " 1   Company           936 non-null    object\n",
            " 2   Valuation ($B)    936 non-null    object\n",
            " 3   Date Joined       936 non-null    object\n",
            " 4   Country           936 non-null    object\n",
            " 5   City              921 non-null    object\n",
            " 6   Industry          936 non-null    object\n",
            " 7   Select Investors  935 non-null    object\n",
            "dtypes: int64(1), object(7)\n",
            "memory usage: 58.6+ KB\n"
          ]
        }
      ]
    },
    {
      "cell_type": "code",
      "source": [
        ""
      ],
      "metadata": {
        "id": "yvExbAWuVXxs"
      },
      "execution_count": 4,
      "outputs": []
    },
    {
      "cell_type": "markdown",
      "source": [
        "TRATAMENTO DOS DADOS:"
      ],
      "metadata": {
        "id": "UXEkcUlcUMEL"
      }
    },
    {
      "cell_type": "markdown",
      "source": [
        "Renomeando as colunas"
      ],
      "metadata": {
        "id": "-_uL1PY-UMG9"
      }
    },
    {
      "cell_type": "code",
      "source": [
        "df = pd.DataFrame(df)\n",
        "df.rename(columns = {'Date Joined' : 'Date'}, inplace = True)\n",
        "df.rename(columns = {'Valuation ($B)' : 'Valuation'}, inplace = True)\n",
        "df.rename(columns = {'Select Investors' : 'Investors'}, inplace = True)"
      ],
      "metadata": {
        "id": "im0rpGoGUMJ9"
      },
      "execution_count": 5,
      "outputs": []
    },
    {
      "cell_type": "code",
      "source": [
        ""
      ],
      "metadata": {
        "id": "1yRl2-kbUMM8"
      },
      "execution_count": 5,
      "outputs": []
    },
    {
      "cell_type": "markdown",
      "source": [
        "Deletar a coluna  Unnamed:"
      ],
      "metadata": {
        "id": "e70EJrJ1DjoX"
      }
    },
    {
      "cell_type": "code",
      "source": [
        "df.drop('Unnamed: 0', axis=1, inplace=True)"
      ],
      "metadata": {
        "id": "N4LB9uyZDpJw"
      },
      "execution_count": 20,
      "outputs": []
    },
    {
      "cell_type": "code",
      "source": [
        ""
      ],
      "metadata": {
        "id": "6WztGfqkDpU_"
      },
      "execution_count": null,
      "outputs": []
    },
    {
      "cell_type": "markdown",
      "source": [
        "Passar para string"
      ],
      "metadata": {
        "id": "AZKKfoBuVgZY"
      }
    },
    {
      "cell_type": "code",
      "source": [
        "df['Investors'] = df['Investors'].to_string()"
      ],
      "metadata": {
        "id": "_PMiH8yUVgdF"
      },
      "execution_count": 6,
      "outputs": []
    },
    {
      "cell_type": "code",
      "source": [
        ""
      ],
      "metadata": {
        "id": "8yeb0Ls-Vl76"
      },
      "execution_count": 6,
      "outputs": []
    },
    {
      "cell_type": "markdown",
      "source": [
        "Tratando a data"
      ],
      "metadata": {
        "id": "LAvpVnEDVRH9"
      }
    },
    {
      "cell_type": "code",
      "source": [
        "date = df.Date.str.split('/', expand =True)\n",
        "df['year'] = date[2]\n",
        "df['month'] = date[1]\n",
        "df['day'] = date[0]"
      ],
      "metadata": {
        "id": "IH0RM9WIVRLs"
      },
      "execution_count": 7,
      "outputs": []
    },
    {
      "cell_type": "code",
      "source": [
        "df.year = pd.to_numeric(df.year)\n",
        "df.month = pd.to_numeric(df.month)\n",
        "df.day = pd.to_numeric(df.day)"
      ],
      "metadata": {
        "id": "PCvFvWBPVRO8"
      },
      "execution_count": 8,
      "outputs": []
    },
    {
      "cell_type": "code",
      "source": [
        ""
      ],
      "metadata": {
        "id": "d_m-bZsLVRSV"
      },
      "execution_count": 8,
      "outputs": []
    },
    {
      "cell_type": "code",
      "source": [
        "#Tirando os caracteres\n",
        "df['Valuation']=df['Valuation'].str.replace('$', '')\n",
        "\n",
        "#Passando para númericos \n",
        "df.Valuation = pd.to_numeric(df.Valuation)\n",
        "df.year = pd.to_numeric(df.year)"
      ],
      "metadata": {
        "colab": {
          "base_uri": "https://localhost:8080/"
        },
        "id": "VTSh4LRYVRVs",
        "outputId": "10f4dd94-5cb7-4aed-83a4-ab9e97958b00"
      },
      "execution_count": 9,
      "outputs": [
        {
          "output_type": "stream",
          "name": "stderr",
          "text": [
            "/usr/local/lib/python3.7/dist-packages/ipykernel_launcher.py:2: FutureWarning:\n",
            "\n",
            "The default value of regex will change from True to False in a future version. In addition, single character regular expressions will *not* be treated as literal strings when regex=True.\n",
            "\n"
          ]
        }
      ]
    },
    {
      "cell_type": "code",
      "source": [
        "df.head()"
      ],
      "metadata": {
        "colab": {
          "base_uri": "https://localhost:8080/",
          "height": 206
        },
        "id": "U3BMe7ZrUMP7",
        "outputId": "2b2b5367-16e5-4ef1-dbed-7cc532d7076e"
      },
      "execution_count": 21,
      "outputs": [
        {
          "output_type": "execute_result",
          "data": {
            "text/html": [
              "\n",
              "  <div id=\"df-3739ab85-3220-492e-b502-2cd563b5acf0\">\n",
              "    <div class=\"colab-df-container\">\n",
              "      <div>\n",
              "<style scoped>\n",
              "    .dataframe tbody tr th:only-of-type {\n",
              "        vertical-align: middle;\n",
              "    }\n",
              "\n",
              "    .dataframe tbody tr th {\n",
              "        vertical-align: top;\n",
              "    }\n",
              "\n",
              "    .dataframe thead th {\n",
              "        text-align: right;\n",
              "    }\n",
              "</style>\n",
              "<table border=\"1\" class=\"dataframe\">\n",
              "  <thead>\n",
              "    <tr style=\"text-align: right;\">\n",
              "      <th></th>\n",
              "      <th>Company</th>\n",
              "      <th>Valuation</th>\n",
              "      <th>Date</th>\n",
              "      <th>Country</th>\n",
              "      <th>City</th>\n",
              "      <th>Industry</th>\n",
              "      <th>Investors</th>\n",
              "      <th>year</th>\n",
              "      <th>month</th>\n",
              "      <th>day</th>\n",
              "    </tr>\n",
              "  </thead>\n",
              "  <tbody>\n",
              "    <tr>\n",
              "      <th>0</th>\n",
              "      <td>Bytedance</td>\n",
              "      <td>140.0</td>\n",
              "      <td>4/7/2017</td>\n",
              "      <td>China</td>\n",
              "      <td>Beijing</td>\n",
              "      <td>Artificial intelligence</td>\n",
              "      <td>0      Sequoia Capital China, SIG Asia Investm...</td>\n",
              "      <td>2017</td>\n",
              "      <td>7</td>\n",
              "      <td>4</td>\n",
              "    </tr>\n",
              "    <tr>\n",
              "      <th>1</th>\n",
              "      <td>SpaceX</td>\n",
              "      <td>100.3</td>\n",
              "      <td>12/1/2012</td>\n",
              "      <td>United States</td>\n",
              "      <td>Hawthorne</td>\n",
              "      <td>Other</td>\n",
              "      <td>0      Sequoia Capital China, SIG Asia Investm...</td>\n",
              "      <td>2012</td>\n",
              "      <td>1</td>\n",
              "      <td>12</td>\n",
              "    </tr>\n",
              "    <tr>\n",
              "      <th>2</th>\n",
              "      <td>Stripe</td>\n",
              "      <td>95.0</td>\n",
              "      <td>1/23/2014</td>\n",
              "      <td>United States</td>\n",
              "      <td>San Francisco</td>\n",
              "      <td>Fintech</td>\n",
              "      <td>0      Sequoia Capital China, SIG Asia Investm...</td>\n",
              "      <td>2014</td>\n",
              "      <td>23</td>\n",
              "      <td>1</td>\n",
              "    </tr>\n",
              "    <tr>\n",
              "      <th>3</th>\n",
              "      <td>Klarna</td>\n",
              "      <td>45.6</td>\n",
              "      <td>12/12/2011</td>\n",
              "      <td>Sweden</td>\n",
              "      <td>Stockholm</td>\n",
              "      <td>Fintech</td>\n",
              "      <td>0      Sequoia Capital China, SIG Asia Investm...</td>\n",
              "      <td>2011</td>\n",
              "      <td>12</td>\n",
              "      <td>12</td>\n",
              "    </tr>\n",
              "    <tr>\n",
              "      <th>4</th>\n",
              "      <td>Canva</td>\n",
              "      <td>40.0</td>\n",
              "      <td>1/8/2018</td>\n",
              "      <td>Australia</td>\n",
              "      <td>Surry Hills</td>\n",
              "      <td>Internet software &amp; services</td>\n",
              "      <td>0      Sequoia Capital China, SIG Asia Investm...</td>\n",
              "      <td>2018</td>\n",
              "      <td>8</td>\n",
              "      <td>1</td>\n",
              "    </tr>\n",
              "  </tbody>\n",
              "</table>\n",
              "</div>\n",
              "      <button class=\"colab-df-convert\" onclick=\"convertToInteractive('df-3739ab85-3220-492e-b502-2cd563b5acf0')\"\n",
              "              title=\"Convert this dataframe to an interactive table.\"\n",
              "              style=\"display:none;\">\n",
              "        \n",
              "  <svg xmlns=\"http://www.w3.org/2000/svg\" height=\"24px\"viewBox=\"0 0 24 24\"\n",
              "       width=\"24px\">\n",
              "    <path d=\"M0 0h24v24H0V0z\" fill=\"none\"/>\n",
              "    <path d=\"M18.56 5.44l.94 2.06.94-2.06 2.06-.94-2.06-.94-.94-2.06-.94 2.06-2.06.94zm-11 1L8.5 8.5l.94-2.06 2.06-.94-2.06-.94L8.5 2.5l-.94 2.06-2.06.94zm10 10l.94 2.06.94-2.06 2.06-.94-2.06-.94-.94-2.06-.94 2.06-2.06.94z\"/><path d=\"M17.41 7.96l-1.37-1.37c-.4-.4-.92-.59-1.43-.59-.52 0-1.04.2-1.43.59L10.3 9.45l-7.72 7.72c-.78.78-.78 2.05 0 2.83L4 21.41c.39.39.9.59 1.41.59.51 0 1.02-.2 1.41-.59l7.78-7.78 2.81-2.81c.8-.78.8-2.07 0-2.86zM5.41 20L4 18.59l7.72-7.72 1.47 1.35L5.41 20z\"/>\n",
              "  </svg>\n",
              "      </button>\n",
              "      \n",
              "  <style>\n",
              "    .colab-df-container {\n",
              "      display:flex;\n",
              "      flex-wrap:wrap;\n",
              "      gap: 12px;\n",
              "    }\n",
              "\n",
              "    .colab-df-convert {\n",
              "      background-color: #E8F0FE;\n",
              "      border: none;\n",
              "      border-radius: 50%;\n",
              "      cursor: pointer;\n",
              "      display: none;\n",
              "      fill: #1967D2;\n",
              "      height: 32px;\n",
              "      padding: 0 0 0 0;\n",
              "      width: 32px;\n",
              "    }\n",
              "\n",
              "    .colab-df-convert:hover {\n",
              "      background-color: #E2EBFA;\n",
              "      box-shadow: 0px 1px 2px rgba(60, 64, 67, 0.3), 0px 1px 3px 1px rgba(60, 64, 67, 0.15);\n",
              "      fill: #174EA6;\n",
              "    }\n",
              "\n",
              "    [theme=dark] .colab-df-convert {\n",
              "      background-color: #3B4455;\n",
              "      fill: #D2E3FC;\n",
              "    }\n",
              "\n",
              "    [theme=dark] .colab-df-convert:hover {\n",
              "      background-color: #434B5C;\n",
              "      box-shadow: 0px 1px 3px 1px rgba(0, 0, 0, 0.15);\n",
              "      filter: drop-shadow(0px 1px 2px rgba(0, 0, 0, 0.3));\n",
              "      fill: #FFFFFF;\n",
              "    }\n",
              "  </style>\n",
              "\n",
              "      <script>\n",
              "        const buttonEl =\n",
              "          document.querySelector('#df-3739ab85-3220-492e-b502-2cd563b5acf0 button.colab-df-convert');\n",
              "        buttonEl.style.display =\n",
              "          google.colab.kernel.accessAllowed ? 'block' : 'none';\n",
              "\n",
              "        async function convertToInteractive(key) {\n",
              "          const element = document.querySelector('#df-3739ab85-3220-492e-b502-2cd563b5acf0');\n",
              "          const dataTable =\n",
              "            await google.colab.kernel.invokeFunction('convertToInteractive',\n",
              "                                                     [key], {});\n",
              "          if (!dataTable) return;\n",
              "\n",
              "          const docLinkHtml = 'Like what you see? Visit the ' +\n",
              "            '<a target=\"_blank\" href=https://colab.research.google.com/notebooks/data_table.ipynb>data table notebook</a>'\n",
              "            + ' to learn more about interactive tables.';\n",
              "          element.innerHTML = '';\n",
              "          dataTable['output_type'] = 'display_data';\n",
              "          await google.colab.output.renderOutput(dataTable, element);\n",
              "          const docLink = document.createElement('div');\n",
              "          docLink.innerHTML = docLinkHtml;\n",
              "          element.appendChild(docLink);\n",
              "        }\n",
              "      </script>\n",
              "    </div>\n",
              "  </div>\n",
              "  "
            ],
            "text/plain": [
              "     Company  Valuation        Date  ...  year month day\n",
              "0  Bytedance      140.0    4/7/2017  ...  2017     7   4\n",
              "1     SpaceX      100.3   12/1/2012  ...  2012     1  12\n",
              "2     Stripe       95.0   1/23/2014  ...  2014    23   1\n",
              "3     Klarna       45.6  12/12/2011  ...  2011    12  12\n",
              "4      Canva       40.0    1/8/2018  ...  2018     8   1\n",
              "\n",
              "[5 rows x 10 columns]"
            ]
          },
          "metadata": {},
          "execution_count": 21
        }
      ]
    },
    {
      "cell_type": "code",
      "source": [
        ""
      ],
      "metadata": {
        "id": "BgU_U-t0WFTc"
      },
      "execution_count": 10,
      "outputs": []
    },
    {
      "cell_type": "code",
      "source": [
        ""
      ],
      "metadata": {
        "id": "62gy6BZPWFWa"
      },
      "execution_count": 10,
      "outputs": []
    },
    {
      "cell_type": "markdown",
      "source": [
        "A limpeza de dados é importante para obter um bom resultado. No primeiro segmento, renomeei alguns nomes de colunas. \n",
        "\n",
        "\n",
        "Como, dados unidos até a data, avaliação ($B) para avaliação e investidores selecionados para investidores.\n",
        "\n",
        "\n",
        "\n",
        "Depois disso, dividimos a coluna de data em três colunas separadas, ano, mês e dia. Esses dados devem ser numéricos. \n",
        "\n",
        "\n",
        "Então, usando pandas, atribuímos o tipo de dados a numeric.\n",
        "\n",
        "\n",
        "Agora na coluna de avaliação, sabemos que todos os valores estão em bilhões de dólares. \n",
        "\n",
        "É por isso que removemos o ($B) da coluna. E certifique-se de que o tipo de dados seja numérico."
      ],
      "metadata": {
        "id": "ukS4bdY0WFZe"
      }
    },
    {
      "cell_type": "code",
      "source": [
        "df.head()"
      ],
      "metadata": {
        "colab": {
          "base_uri": "https://localhost:8080/",
          "height": 206
        },
        "id": "XVfSeUnlWFi0",
        "outputId": "79c77381-c226-4a30-f07b-a0b1e15e6718"
      },
      "execution_count": 11,
      "outputs": [
        {
          "output_type": "execute_result",
          "data": {
            "text/html": [
              "\n",
              "  <div id=\"df-3c6f2e20-b0ea-4545-add3-eb1931258aa5\">\n",
              "    <div class=\"colab-df-container\">\n",
              "      <div>\n",
              "<style scoped>\n",
              "    .dataframe tbody tr th:only-of-type {\n",
              "        vertical-align: middle;\n",
              "    }\n",
              "\n",
              "    .dataframe tbody tr th {\n",
              "        vertical-align: top;\n",
              "    }\n",
              "\n",
              "    .dataframe thead th {\n",
              "        text-align: right;\n",
              "    }\n",
              "</style>\n",
              "<table border=\"1\" class=\"dataframe\">\n",
              "  <thead>\n",
              "    <tr style=\"text-align: right;\">\n",
              "      <th></th>\n",
              "      <th>Unnamed: 0</th>\n",
              "      <th>Company</th>\n",
              "      <th>Valuation</th>\n",
              "      <th>Date</th>\n",
              "      <th>Country</th>\n",
              "      <th>City</th>\n",
              "      <th>Industry</th>\n",
              "      <th>Investors</th>\n",
              "      <th>year</th>\n",
              "      <th>month</th>\n",
              "      <th>day</th>\n",
              "    </tr>\n",
              "  </thead>\n",
              "  <tbody>\n",
              "    <tr>\n",
              "      <th>0</th>\n",
              "      <td>0</td>\n",
              "      <td>Bytedance</td>\n",
              "      <td>140.0</td>\n",
              "      <td>4/7/2017</td>\n",
              "      <td>China</td>\n",
              "      <td>Beijing</td>\n",
              "      <td>Artificial intelligence</td>\n",
              "      <td>0      Sequoia Capital China, SIG Asia Investm...</td>\n",
              "      <td>2017</td>\n",
              "      <td>7</td>\n",
              "      <td>4</td>\n",
              "    </tr>\n",
              "    <tr>\n",
              "      <th>1</th>\n",
              "      <td>1</td>\n",
              "      <td>SpaceX</td>\n",
              "      <td>100.3</td>\n",
              "      <td>12/1/2012</td>\n",
              "      <td>United States</td>\n",
              "      <td>Hawthorne</td>\n",
              "      <td>Other</td>\n",
              "      <td>0      Sequoia Capital China, SIG Asia Investm...</td>\n",
              "      <td>2012</td>\n",
              "      <td>1</td>\n",
              "      <td>12</td>\n",
              "    </tr>\n",
              "    <tr>\n",
              "      <th>2</th>\n",
              "      <td>2</td>\n",
              "      <td>Stripe</td>\n",
              "      <td>95.0</td>\n",
              "      <td>1/23/2014</td>\n",
              "      <td>United States</td>\n",
              "      <td>San Francisco</td>\n",
              "      <td>Fintech</td>\n",
              "      <td>0      Sequoia Capital China, SIG Asia Investm...</td>\n",
              "      <td>2014</td>\n",
              "      <td>23</td>\n",
              "      <td>1</td>\n",
              "    </tr>\n",
              "    <tr>\n",
              "      <th>3</th>\n",
              "      <td>3</td>\n",
              "      <td>Klarna</td>\n",
              "      <td>45.6</td>\n",
              "      <td>12/12/2011</td>\n",
              "      <td>Sweden</td>\n",
              "      <td>Stockholm</td>\n",
              "      <td>Fintech</td>\n",
              "      <td>0      Sequoia Capital China, SIG Asia Investm...</td>\n",
              "      <td>2011</td>\n",
              "      <td>12</td>\n",
              "      <td>12</td>\n",
              "    </tr>\n",
              "    <tr>\n",
              "      <th>4</th>\n",
              "      <td>4</td>\n",
              "      <td>Canva</td>\n",
              "      <td>40.0</td>\n",
              "      <td>1/8/2018</td>\n",
              "      <td>Australia</td>\n",
              "      <td>Surry Hills</td>\n",
              "      <td>Internet software &amp; services</td>\n",
              "      <td>0      Sequoia Capital China, SIG Asia Investm...</td>\n",
              "      <td>2018</td>\n",
              "      <td>8</td>\n",
              "      <td>1</td>\n",
              "    </tr>\n",
              "  </tbody>\n",
              "</table>\n",
              "</div>\n",
              "      <button class=\"colab-df-convert\" onclick=\"convertToInteractive('df-3c6f2e20-b0ea-4545-add3-eb1931258aa5')\"\n",
              "              title=\"Convert this dataframe to an interactive table.\"\n",
              "              style=\"display:none;\">\n",
              "        \n",
              "  <svg xmlns=\"http://www.w3.org/2000/svg\" height=\"24px\"viewBox=\"0 0 24 24\"\n",
              "       width=\"24px\">\n",
              "    <path d=\"M0 0h24v24H0V0z\" fill=\"none\"/>\n",
              "    <path d=\"M18.56 5.44l.94 2.06.94-2.06 2.06-.94-2.06-.94-.94-2.06-.94 2.06-2.06.94zm-11 1L8.5 8.5l.94-2.06 2.06-.94-2.06-.94L8.5 2.5l-.94 2.06-2.06.94zm10 10l.94 2.06.94-2.06 2.06-.94-2.06-.94-.94-2.06-.94 2.06-2.06.94z\"/><path d=\"M17.41 7.96l-1.37-1.37c-.4-.4-.92-.59-1.43-.59-.52 0-1.04.2-1.43.59L10.3 9.45l-7.72 7.72c-.78.78-.78 2.05 0 2.83L4 21.41c.39.39.9.59 1.41.59.51 0 1.02-.2 1.41-.59l7.78-7.78 2.81-2.81c.8-.78.8-2.07 0-2.86zM5.41 20L4 18.59l7.72-7.72 1.47 1.35L5.41 20z\"/>\n",
              "  </svg>\n",
              "      </button>\n",
              "      \n",
              "  <style>\n",
              "    .colab-df-container {\n",
              "      display:flex;\n",
              "      flex-wrap:wrap;\n",
              "      gap: 12px;\n",
              "    }\n",
              "\n",
              "    .colab-df-convert {\n",
              "      background-color: #E8F0FE;\n",
              "      border: none;\n",
              "      border-radius: 50%;\n",
              "      cursor: pointer;\n",
              "      display: none;\n",
              "      fill: #1967D2;\n",
              "      height: 32px;\n",
              "      padding: 0 0 0 0;\n",
              "      width: 32px;\n",
              "    }\n",
              "\n",
              "    .colab-df-convert:hover {\n",
              "      background-color: #E2EBFA;\n",
              "      box-shadow: 0px 1px 2px rgba(60, 64, 67, 0.3), 0px 1px 3px 1px rgba(60, 64, 67, 0.15);\n",
              "      fill: #174EA6;\n",
              "    }\n",
              "\n",
              "    [theme=dark] .colab-df-convert {\n",
              "      background-color: #3B4455;\n",
              "      fill: #D2E3FC;\n",
              "    }\n",
              "\n",
              "    [theme=dark] .colab-df-convert:hover {\n",
              "      background-color: #434B5C;\n",
              "      box-shadow: 0px 1px 3px 1px rgba(0, 0, 0, 0.15);\n",
              "      filter: drop-shadow(0px 1px 2px rgba(0, 0, 0, 0.3));\n",
              "      fill: #FFFFFF;\n",
              "    }\n",
              "  </style>\n",
              "\n",
              "      <script>\n",
              "        const buttonEl =\n",
              "          document.querySelector('#df-3c6f2e20-b0ea-4545-add3-eb1931258aa5 button.colab-df-convert');\n",
              "        buttonEl.style.display =\n",
              "          google.colab.kernel.accessAllowed ? 'block' : 'none';\n",
              "\n",
              "        async function convertToInteractive(key) {\n",
              "          const element = document.querySelector('#df-3c6f2e20-b0ea-4545-add3-eb1931258aa5');\n",
              "          const dataTable =\n",
              "            await google.colab.kernel.invokeFunction('convertToInteractive',\n",
              "                                                     [key], {});\n",
              "          if (!dataTable) return;\n",
              "\n",
              "          const docLinkHtml = 'Like what you see? Visit the ' +\n",
              "            '<a target=\"_blank\" href=https://colab.research.google.com/notebooks/data_table.ipynb>data table notebook</a>'\n",
              "            + ' to learn more about interactive tables.';\n",
              "          element.innerHTML = '';\n",
              "          dataTable['output_type'] = 'display_data';\n",
              "          await google.colab.output.renderOutput(dataTable, element);\n",
              "          const docLink = document.createElement('div');\n",
              "          docLink.innerHTML = docLinkHtml;\n",
              "          element.appendChild(docLink);\n",
              "        }\n",
              "      </script>\n",
              "    </div>\n",
              "  </div>\n",
              "  "
            ],
            "text/plain": [
              "   Unnamed: 0    Company  Valuation  ...  year month day\n",
              "0           0  Bytedance      140.0  ...  2017     7   4\n",
              "1           1     SpaceX      100.3  ...  2012     1  12\n",
              "2           2     Stripe       95.0  ...  2014    23   1\n",
              "3           3     Klarna       45.6  ...  2011    12  12\n",
              "4           4      Canva       40.0  ...  2018     8   1\n",
              "\n",
              "[5 rows x 11 columns]"
            ]
          },
          "metadata": {},
          "execution_count": 11
        }
      ]
    },
    {
      "cell_type": "code",
      "source": [
        "df.info()"
      ],
      "metadata": {
        "colab": {
          "base_uri": "https://localhost:8080/"
        },
        "id": "r2f_Uj4ZbSEc",
        "outputId": "1ea75b43-30d2-4aca-cc8d-c90e734bdef9"
      },
      "execution_count": 12,
      "outputs": [
        {
          "output_type": "stream",
          "name": "stdout",
          "text": [
            "<class 'pandas.core.frame.DataFrame'>\n",
            "RangeIndex: 936 entries, 0 to 935\n",
            "Data columns (total 11 columns):\n",
            " #   Column      Non-Null Count  Dtype  \n",
            "---  ------      --------------  -----  \n",
            " 0   Unnamed: 0  936 non-null    int64  \n",
            " 1   Company     936 non-null    object \n",
            " 2   Valuation   936 non-null    float64\n",
            " 3   Date        936 non-null    object \n",
            " 4   Country     936 non-null    object \n",
            " 5   City        921 non-null    object \n",
            " 6   Industry    936 non-null    object \n",
            " 7   Investors   936 non-null    object \n",
            " 8   year        936 non-null    int64  \n",
            " 9   month       936 non-null    int64  \n",
            " 10  day         936 non-null    int64  \n",
            "dtypes: float64(1), int64(4), object(6)\n",
            "memory usage: 80.6+ KB\n"
          ]
        }
      ]
    },
    {
      "cell_type": "code",
      "source": [
        "df.shape"
      ],
      "metadata": {
        "colab": {
          "base_uri": "https://localhost:8080/"
        },
        "id": "OEdkpe6WbZeT",
        "outputId": "e5a77aff-4190-4c86-d57e-09d6c9e4a72b"
      },
      "execution_count": 13,
      "outputs": [
        {
          "output_type": "execute_result",
          "data": {
            "text/plain": [
              "(936, 11)"
            ]
          },
          "metadata": {},
          "execution_count": 13
        }
      ]
    },
    {
      "cell_type": "code",
      "source": [
        ""
      ],
      "metadata": {
        "id": "6xfp_YsfE4HU"
      },
      "execution_count": null,
      "outputs": []
    },
    {
      "cell_type": "markdown",
      "source": [
        "Limpar os dados nulos:"
      ],
      "metadata": {
        "id": "Lmi55jlBE0y0"
      }
    },
    {
      "cell_type": "code",
      "source": [
        "df.isnull().sum()\n",
        "\n"
      ],
      "metadata": {
        "colab": {
          "base_uri": "https://localhost:8080/"
        },
        "id": "6whdeRy5bbnu",
        "outputId": "5938a73e-d150-41c7-e814-96bd1f544615"
      },
      "execution_count": 14,
      "outputs": [
        {
          "output_type": "execute_result",
          "data": {
            "text/plain": [
              "Unnamed: 0     0\n",
              "Company        0\n",
              "Valuation      0\n",
              "Date           0\n",
              "Country        0\n",
              "City          15\n",
              "Industry       0\n",
              "Investors      0\n",
              "year           0\n",
              "month          0\n",
              "day            0\n",
              "dtype: int64"
            ]
          },
          "metadata": {},
          "execution_count": 14
        }
      ]
    },
    {
      "cell_type": "code",
      "source": [
        "#Excluindo os valores nulos \n",
        "df.dropna(inplace=True)"
      ],
      "metadata": {
        "id": "FaHdsjrybbq8"
      },
      "execution_count": 22,
      "outputs": []
    },
    {
      "cell_type": "code",
      "source": [
        "#Confirmar a limpeza dos valores nulos\n",
        "\n",
        "df.isnull().sum()"
      ],
      "metadata": {
        "colab": {
          "base_uri": "https://localhost:8080/"
        },
        "id": "0w9TG9sKDAmy",
        "outputId": "e0fac4bf-5368-4e9c-d87f-5d87f43e12c3"
      },
      "execution_count": 23,
      "outputs": [
        {
          "output_type": "execute_result",
          "data": {
            "text/plain": [
              "Company      0\n",
              "Valuation    0\n",
              "Date         0\n",
              "Country      0\n",
              "City         0\n",
              "Industry     0\n",
              "Investors    0\n",
              "year         0\n",
              "month        0\n",
              "day          0\n",
              "dtype: int64"
            ]
          },
          "metadata": {},
          "execution_count": 23
        }
      ]
    },
    {
      "cell_type": "code",
      "source": [
        ""
      ],
      "metadata": {
        "id": "ZKbNDOh9FZWP"
      },
      "execution_count": null,
      "outputs": []
    },
    {
      "cell_type": "markdown",
      "source": [
        "SALVAR O DATASET"
      ],
      "metadata": {
        "id": "ipwyo996FfSv"
      }
    },
    {
      "cell_type": "code",
      "source": [
        "df.to_csv('/content/drive/MyDrive/1-CIENCIA DE DADOS-CURSOS_ESTUDO DE CASO/ESTUDO DE CASO/STARTUPS/Startups_limpa.csv')"
      ],
      "metadata": {
        "id": "eSZbHm62Fn_E"
      },
      "execution_count": 24,
      "outputs": []
    },
    {
      "cell_type": "code",
      "source": [
        ""
      ],
      "metadata": {
        "id": "vgsAyuCNFoIU"
      },
      "execution_count": null,
      "outputs": []
    },
    {
      "cell_type": "markdown",
      "source": [
        "Startups de unicórnio em diferentes setores da indústria"
      ],
      "metadata": {
        "id": "7Tna_BS-b0PU"
      }
    },
    {
      "cell_type": "code",
      "source": [
        "fig = px.pie(df, names='Industry')\n",
        "fig.show()"
      ],
      "metadata": {
        "colab": {
          "base_uri": "https://localhost:8080/",
          "height": 542
        },
        "id": "zUXDuMNtb0Sb",
        "outputId": "6624443a-c221-40f2-a6ef-523a0c6ab955"
      },
      "execution_count": null,
      "outputs": [
        {
          "output_type": "display_data",
          "data": {
            "text/html": [
              "<html>\n",
              "<head><meta charset=\"utf-8\" /></head>\n",
              "<body>\n",
              "    <div>            <script src=\"https://cdnjs.cloudflare.com/ajax/libs/mathjax/2.7.5/MathJax.js?config=TeX-AMS-MML_SVG\"></script><script type=\"text/javascript\">if (window.MathJax) {MathJax.Hub.Config({SVG: {font: \"STIX-Web\"}});}</script>                <script type=\"text/javascript\">window.PlotlyConfig = {MathJaxConfig: 'local'};</script>\n",
              "        <script src=\"https://cdn.plot.ly/plotly-2.8.3.min.js\"></script>                <div id=\"37b59b00-d0af-4dbd-9538-bb99ae4d8b44\" class=\"plotly-graph-div\" style=\"height:525px; width:100%;\"></div>            <script type=\"text/javascript\">                                    window.PLOTLYENV=window.PLOTLYENV || {};                                    if (document.getElementById(\"37b59b00-d0af-4dbd-9538-bb99ae4d8b44\")) {                    Plotly.newPlot(                        \"37b59b00-d0af-4dbd-9538-bb99ae4d8b44\",                        [{\"domain\":{\"x\":[0.0,1.0],\"y\":[0.0,1.0]},\"hovertemplate\":\"Industry=%{label}<extra></extra>\",\"labels\":[\"Artificial intelligence\",\"Other\",\"Fintech\",\"Fintech\",\"Internet software & services\",\"Supply chain, logistics, & delivery\",\"Data management & analytics\",\"Fintech\",\"Fintech\",\"Other\",\"Fintech\",\"Fintech\",\"Edtech\",\"E-commerce & direct-to-consumer\",\"Supply chain, logistics, & delivery\",\"E-commerce & direct-to-consumer\",\"Edtech\",\"Hardware\",\"E-commerce & direct-to-consumer\",\"Fintech\",\"E-commerce & direct-to-consumer\",\"Fintech\",\"Internet software & services\",\"Health\",\"Artificial intelligence\",\"Fintech\",\"Artificial intelligence\",\"Consumer & retail\",\"Hardware\",\"Health\",\"Internet software & services\",\"Auto & transportation\",\"Hardware\",\"Data management & analytics\",\"Consumer & retail\",\"Supply chain, logistics, & delivery\",\"Fintech\",\"Internet software & services\",\"Fintech\",\"Internet software & services\",\"Internet software & services\",\"Internet software & services\",\"Other\",\"Finttech\",\"Internet software & services\",\"Internet software & services\",\"Other\",\"Fintech\",\"Internet software & services\",\"Other\",\"Cybersecurity\",\"E-commerce & direct-to-consumer\",\"Mobile & telecommunications\",\"Travel\",\"Fintech\",\"E-commerce & direct-to-consumer\",\"Cybersecurity\",\"Auto & transportation\",\"Cybersecurity\",\"Fintech\",\"Health\",\"E-commerce & direct-to-consumer\",\"Internet software & services\",\"Fintech\",\"Health\",\"Fintech\",\"Internet software & services\",\"E-commerce & direct-to-consumer\",\"Cybersecurity\",\"Fintech\",\"Fintech\",\"Artificial intelligence\",\"Artificial intelligence\",\"Artificial intelligence\",\"Travel\",\"Fintech\",\"Health\",\"Internet software & services\",\"Artificial intelligence\",\"E-commerce & direct-to-consumer\",\"Fintech\",\"Fintech\",\"Internet software & services\",\"Auto & transportation\",\"Hardware\",\"Artificial intelligence\",\"Internet software & services\",\"Health\",\"Other\",\"Internet software & services\",\"Hardware\",\"Consumer & retail\",\"Fintech\",\"Cybersecurity\",\"Fintech\",\"Mobile & telecommunications\",\"Consumer & retail\",\"E-commerce & direct-to-consumer\",\"Internet software & services\",\"Internet software & services\",\"Health\",\"Internet software & services\",\"Internet software & services\",\"Data management & analytics\",\"Artificial intelligence\",\"Fintech\",\"Supply chain, logistics, & delivery\",\"Data management & analytics\",\"Fintech\",\"Internet software & services\",\"Internet software & services\",\"E-commerce & direct-to-consumer\",\"Fintech\",\"Health\",\"Auto & transportation\",\"Supply chain, logistics, & delivery\",\"Fintech\",\"Fintech\",\"Artificial intelligence\",\"Auto & transportation\",\"Health\",\"Other\",\"Data management & analytics\",\"Fintech\",\"Fintech\",\"Mobile & telecommunications\",\"Internet software & services\",\"Health\",\"Artificial intelligence\",\"Health\",\"Internet software & services\",\"Internet software & services\",\"Health\",\"Hardware\",\"E-commerce & direct-to-consumer\",\"Fintech\",\"Edtech\",\"Cybersecurity\",\"Fintech\",\"Hardware\",\"Internet software & services\",\"Auto & transportation\",\"Internet software & services\",\"Cybersecurity\",\"E-commerce & direct-to-consumer\",\"Other\",\"E-commerce & direct-to-consumer\",\"Fintech\",\"Internet software & services\",\"E-commerce & direct-to-consumer\",\"Artificial intelligence\",\"Fintech\",\"E-commerce & direct-to-consumer\",\"Fintech\",\"Mobile & telecommunications\",\"Artificial intelligence\",\"Fintech\",\"Consumer & retail\",\"Health\",\"Fintech\",\"Internet software & services\",\"Internet software & services\",\"Internet software & services\",\"Mobile & telecommunications\",\"Internet software & services\",\"Internet software & services\",\"Fintech\",\"Data management & analytics\",\"Fintech\",\"E-commerce & direct-to-consumer\",\"Internet software & services\",\"Hardware\",\"Other\",\"Fintech\",\"Health\",\"E-commerce & direct-to-consumer\",\"Mobile & telecommunications\",\"Internet software & services\",\"Edtech\",\"Fintech\",\"E-commerce & direct-to-consumer\",\"Data management & analytics\",\"Data management & analytics\",\"E-commerce & direct-to-consumer\",\"Health\",\"Other\",\"Internet software & services\",\"Internet software & services\",\"E-commerce & direct-to-consumer\",\"Data management & analytics\",\"Health\",\"Artificial intelligence\",\"Mobile & telecommunications\",\"Fintech\",\"Internet software & services\",\"E-commerce & direct-to-consumer\",\"Cybersecurity\",\"Internet software & services\",\"Fintech\",\"Edtech\",\"Fintech\",\"Auto & transportation\",\"Data management & analytics\",\"Fintech\",\"Artificial intelligence\",\"Auto & transportation\",\"Other\",\"Mobile & telecommunications\",\"Auto & transportation\",\"Health\",\"Other\",\"E-commerce & direct-to-consumer\",\"Supply chain, logistics, & delivery\",\"Fintech\",\"E-commerce & direct-to-consumer\",\"Edtech\",\"Fintech\",\"Fintech\",\"E-commerce & direct-to-consumer\",\"Hardware\",\"Fintech\",\"Supply chain, logistics, & delivery\",\"Fintech\",\"E-commerce & direct-to-consumer\",\"E-commerce & direct-to-consumer\",\"Mobile & telecommunications\",\"Travel\",\"E-commerce & direct-to-consumer\",\"Fintech\",\"Fintech\",\"Edtech\",\"Supply chain, logistics, & delivery\",\"Auto & transportation\",\"Other\",\"Fintech\",\"Edtech\",\"Fintech\",\"Cybersecurity\",\"Internet software & services\",\"Fintech\",\"Internet software & services\",\"Health\",\"Internet software & services\",\"Edtech\",\"Health\",\"Internet software & services\",\"Internet software & services\",\"Internet software & services\",\"Travel\",\"Internet software & services\",\"Internet software & services\",\"E-commerce & direct-to-consumer\",\"Auto & transportation\",\"Internet software & services\",\"Fintech\",\"Edtech\",\"Fintech\",\"Fintech\",\"Internet software & services\",\"Auto & transportation\",\"Fintech\",\"Artificial intelligence\",\"Fintech\",\"Internet software & services\",\"E-commerce & direct-to-consumer\",\"E-commerce & direct-to-consumer\",\"Fintech\",\"Fintech\",\"Mobile & telecommunications\",\"Artificial intelligence\",\"Supply chain, logistics, & delivery\",\"Internet software & services\",\"Supply chain, logistics, & delivery\",\"Artificial intelligence\",\"Cybersecurity\",\"Supply chain, logistics, & delivery\",\"Edtech\",\"Cybersecurity\",\"Auto & transportation\",\"Fintech\",\"Internet software & services\",\"E-commerce & direct-to-consumer\",\"E-commerce & direct-to-consumer\",\"Internet software & services\",\"Internet software & services\",\"Internet software & services\",\"Internet software & services\",\"Data management & analytics\",\"Other\",\"Auto & transportation\",\"Cybersecurity\",\"Internet software & services\",\"E-commerce & direct-to-consumer\",\"E-commerce & direct-to-consumer\",\"Fintech\",\"Cybersecurity\",\"Cybersecurity\",\"Internet software & services\",\"Fintech\",\"Internet software & services\",\"Cybersecurity\",\"Fintech\",\"Auto & transportation\",\"Hardware\",\"Fintech\",\"Fintech\",\"Cybersecurity\",\"Cybersecurity\",\"Fintech\",\"Other\",\"Fintech\",\"Internet software & services\",\"E-commerce & direct-to-consumer\",\"Hardware\",\"Other\",\"Artificial intelligence\",\"Supply chain, logistics, & delivery\",\"Other\",\"Fintech\",\"Internet software & services\",\"Other\",\"Internet software & services\",\"Consumer & retail\",\"Internet software & services\",\"Internet software & services\",\"Other\",\"Other\",\"E-commerce & direct-to-consumer\",\"Fintech\",\"Fintech\",\"Internet software & services\",\"Supply chain, logistics, & delivery\",\"Health\",\"Mobile & telecommunications\",\"Artificial intelligence\",\"Fintech\",\"Data management & analytics\",\"Data management & analytics\",\"Fintech\",\"E-commerce & direct-to-consumer\",\"Internet software & services\",\"Internet software & services\",\"Artificial intelligence\",\"E-commerce & direct-to-consumer\",\"Fintech\",\"Artificial intelligence\",\"Internet software & services\",\"Artificial intelligence\",\"Fintech\",\"Consumer & retail\",\"Artificial intelligence\",\"E-commerce & direct-to-consumer\",\"Auto & transportation\",\"Auto & transportation\",\"E-commerce & direct-to-consumer\",\"Internet software & services\",\"Other\",\"Artificial intelligence\",\"Hardware\",\"Artificial intelligence\",\"Consumer & retail\",\"Cybersecurity\",\"Travel\",\"Data management & analytics\",\"Internet software & services\",\"Mobile & telecommunications\",\"Mobile & telecommunications\",\"Data management & analytics\",\"E-commerce & direct-to-consumer\",\"Fintech\",\"Health\",\"Supply chain, logistics, & delivery\",\"Fintech\",\"Consumer & retail\",\"Health\",\"Fintech\",\"Artificial intelligence\",\"Health\",\"Internet software & services\",\"Fintech\",\"Internet software & services\",\"Fintech\",\"Internet software & services\",\"Fintech\",\"Fintech\",\"Supply chain, logistics, & delivery\",\"Internet software & services\",\"Fintech\",\"Cybersecurity\",\"Other\",\"Artificial intelligence\",\"Fintech\",\"Other\",\"Fintech\",\"Internet software & services\",\"Mobile & telecommunications\",\"E-commerce & direct-to-consumer\",\"Health\",\"Artificial intelligence\",\"Artificial intelligence\",\"Fintech\",\"Hardware\",\"Travel\",\"Internet software & services\",\"Data management & analytics\",\"Fintech\",\"Internet software & services\",\"Fintech\",\"Artificial intelligence\",\"Cybersecurity\",\"Internet software & services\",\"Supply chain, logistics, & delivery\",\"Health\",\"Internet software & services\",\"Edtech\",\"Fintech\",\"Internet software & services\",\"E-commerce & direct-to-consumer\",\"Fintech\",\"Health\",\"Fintech\",\"Auto & transportation\",\"Fintech\",\"Internet software & services\",\"Health\",\"Other\",\"Internet software & services\",\"Artificial intelligence\",\"Hardware\",\"Auto & transportation\",\"Fintech\",\"Cybersecurity\",\"E-commerce & direct-to-consumer\",\"Cybersecurity\",\"E-commerce & direct-to-consumer\",\"Mobile & telecommunications\",\"Consumer & retail\",\"E-commerce & direct-to-consumer\",\"Consumer & retail\",\"Artificial intelligence\",\"Health\",\"Health\",\"Internet software & services\",\"Edtech\",\"Fintech\",\"Fintech\",\"E-commerce & direct-to-consumer\",\"Cybersecurity\",\"Data management & analytics\",\"Artificial intelligence\",\"Fintech\",\"Fintech\",\"Fintech\",\"Internet software & services\",\"Other\",\"Data management & analytics\",\"Internet software & services\",\"Fintech\",\"Hardware\",\"Artificial intelligence\",\"Auto & transportation\",\"Cybersecurity\",\"Hardware\",\"Internet software & services\",\"E-commerce & direct-to-consumer\",\"E-commerce & direct-to-consumer\",\"Internet software & services\",\"Internet software & services\",\"Fintech\",\"Data management & analytics\",\"Artificial intelligence\",\"Fintech\",\"Fintech\",\"Fintech\",\"Health\",\"Consumer & retail\",\"Fintech\",\"Hardware\",\"Other\",\"Internet software & services\",\"Mobile & telecommunications\",\"E-commerce & direct-to-consumer\",\"Data management & analytics\",\"Travel\",\"E-commerce & direct-to-consumer\",\"Auto & transportation\",\"Data management & analytics\",\"Edtech\",\"Travel\",\"E-commerce & direct-to-consumer\",\"Consumer & retail\",\"Mobile & telecommunications\",\"Fintech\",\"Internet software & services\",\"Internet software & services\",\"Health\",\"Other\",\"Cybersecurity\",\"Internet software & services\",\"Fintech\",\"Fintech\",\"Hardware\",\"Hardware\",\"Supply chain, logistics, & delivery\",\"Data management & analytics\",\"Internet software & services\",\"E-commerce & direct-to-consumer\",\"Internet software & services\",\"Artificial Intelligence\",\"Internet software & services\",\"Fintech\",\"Fintech\",\"Internet software & services\",\"Data management & analytics\",\"Cybersecurity\",\"E-commerce & direct-to-consumer\",\"Fintech\",\"Internet software & services\",\"Internet software & services\",\"Fintech\",\"Data management & analytics\",\"Fintech\",\"Internet software & services\",\"Health\",\"E-commerce & direct-to-consumer\",\"Auto & transportation\",\"Hardware\",\"Supply chain, logistics, & delivery\",\"Internet software & services\",\"E-commerce & direct-to-consumer\",\"Fintech\",\"Fintech\",\"Internet software & services\",\"Health\",\"Health\",\"E-commerce & direct-to-consumer\",\"Fintech\",\"Mobile & telecommunications\",\"Auto & transportation\",\"Supply chain, logistics, & delivery\",\"Internet software & services\",\"E-commerce & direct-to-consumer\",\"Internet software & services\",\"Internet software & services\",\"Internet software & services\",\"E-commerce & direct-to-consumer\",\"Internet software & services\",\"Other\",\"Fintech\",\"Internet software & services\",\"Internet software & services\",\"Edtech\",\"Mobile & telecommunications\",\"Fintech\",\"Fintech\",\"Internet software & services\",\"Cybersecurity\",\"E-commerce & direct-to-consumer\",\"Artificial intelligence\",\"Travel\",\"Health\",\"Fintech\",\"Fintech\",\"Fintech\",\"E-commerce & direct-to-consumer\",\"Internet software & services\",\"E-commerce & direct-to-consumer\",\"Other\",\"Cybersecurity\",\"Health\",\"Health\",\"Travel\",\"Artificial intelligence\",\"Other\",\"Health\",\"E-commerce & direct-to-consumer\",\"Other\",\"Mobile & telecommunications\",\"Health\",\"Internet software & services\",\"E-commerce & direct-to-consumer\",\"Fintech\",\"Fintech\",\"Supply chain, logistics, & delivery\",\"Data management & analytics\",\"Mobile & telecommunications\",\"Internet software & services\",\"Other\",\"Fintech\",\"Internet software & services\",\"Supply chain, logistics, & delivery\",\"Cybersecurity\",\"Internet software & services\",\"Internet software & services\",\"Fintech\",\"Internet software & services\",\"Internet software & services\",\"Cybersecurity\",\"Consumer & retail\",\"Hardware\",\"Health\",\"Other\",\"Fintech\",\"Mobile & telecommunications\",\"Other\",\"Supply chain, logistics, & delivery\",\"Auto & transportation\",\"Consumer & retail\",\"Internet software & services\",\"Data management & analytics\",\"Internet software & services\",\"Data management & analytics\",\"Internet software & services\",\"Fintech\",\"Cybersecurity\",\"E-commerce & direct-to-consumer\",\"Edtech\",\"Fintech\",\"Artificial intelligence\",\"Other\",\"Artificial intelligence\",\"Artificial intelligence\",\"Other\",\"Supply chain, logistics, & delivery\",\"Internet software & services\",\"Supply chain, logistics, & delivery\",\"Artificial Intelligence\",\"Supply chain, logistics, & delivery\",\"Health\",\"Fintech\",\"Internet software & services\",\"Edtech\",\"Fintech\",\"E-commerce & direct-to-consumer\",\"Internet software & services\",\"Data management & analytics\",\"Internet software & services\",\"E-commerce & direct-to-consumer\",\"E-commerce & direct-to-consumer\",\"Fintech\",\"Health\",\"E-commerce & direct-to-consumer\",\"Consumer & retail\",\"Artificial intelligence\",\"Artificial intelligence\",\"Cybersecurity\",\"Edtech\",\"Supply chain, logistics, & delivery\",\"Health\",\"Internet software & services\",\"Auto & transportation\",\"Auto & transportation\",\"Other\",\"Cybersecurity\",\"Fintech\",\"Artificial intelligence\",\"Health\",\"Health\",\"Supply chain, logistics, & delivery\",\"Fintech\",\"Mobile & telecommunications\",\"E-commerce & direct-to-consumer\",\"E-commerce & direct-to-consumer\",\"Other\",\"Consumer & retail\",\"Travel\",\"Fintech\",\"Data management & analytics\",\"Edtech\",\"E-commerce & direct-to-consumer\",\"Internet software & services\",\"Supply chain, logistics, & delivery\",\"Data management & analytics\",\"Fintech\",\"Health\",\"Fintech\",\"Internet software & services\",\"Fintech\",\"Internet software & services\",\"Artificial intelligence\",\"Internet software & services\",\"Fintech\",\"E-commerce & direct-to-consumer\",\"Internet software & services\",\"Internet software & services\",\"Internet software & services\",\"Fintech\",\"E-commerce & direct-to-consumer\",\"Fintech\",\"Fintech\",\"Internet software & services\",\"Supply chain, logistics, & delivery\",\"Supply chain, logistics, & delivery\",\"Other\",\"Fintech\",\"Supply chain, logistics, & delivery\",\"E-commerce & direct-to-consumer\",\"Data management & analytics\",\"Artificial intelligence\",\"Supply chain, logistics, & delivery\",\"Mobile & telecommunications\",\"Hardware\",\"Internet software & services\",\"Health\",\"Artificial intelligence\",\"Auto & transportation\",\"Cybersecurity\",\"E-commerce & direct-to-consumer\",\"E-commerce & direct-to-consumer\",\"Mobile & telecommunications\",\"Mobile & telecommunications\",\"Other\",\"E-commerce & direct-to-consumer\",\"E-commerce & direct-to-consumer\",\"Fintech\",\"Artificial intelligence\",\"Mobile & telecommunications\",\"Internet software & services\",\"E-commerce & direct-to-consumer\",\"Internet software & services\",\"E-commerce & direct-to-consumer\",\"Edtech\",\"Edtech\",\"Health\",\"Artificial intelligence\",\"Internet software & services\",\"Consumer & retail\",\"Consumer & retail\",\"E-commerce & direct-to-consumer\",\"Health\",\"E-commerce & direct-to-consumer\",\"E-commerce & direct-to-consumer\",\"Mobile & telecommunications\",\"Supply chain, logistics, & delivery\",\"Other\",\"Fintech\",\"Mobile & telecommunications\",\"Health\",\"Hardware\",\"Mobile & telecommunications\",\"Edtech\",\"Hardware\",\"Health\",\"Internet software & services\",\"Mobile & telecommunications\",\"Supply chain, logistics, & delivery\",\"Consumer & retail\",\"Mobile & telecommunications\",\"Health\",\"Supply chain, logistics, & delivery\",\"Mobile & telecommunications\",\"Auto & transportation\",\"Fintech\",\"Artificial intelligence\",\"E-commerce & direct-to-consumer\",\"Travel\",\"Hardware\",\"Hardware\",\"Supply chain, logistics, & delivery\",\"Hardware\",\"Supply chain, logistics, & delivery\",\"Artificial intelligence\",\"Other\",\"Artificial intelligence\",\"Fintech\",\"Mobile & telecommunications\",\"Internet software & services\",\"Other\",\"Edtech\",\"Travel\",\"Artificial intelligence\",\"Fintech\",\"Fintech\",\"Fintech\",\"Fintech\",\"Fintech\",\"Fintech\",\"E-commerce & direct-to-consumer\",\"Supply chain, logistics, & delivery\",\"Health\",\"Artificial intelligence\",\"E-commerce & direct-to-consumer\",\"Other\",\"Edtech\",\"Health\",\"E-commerce & direct-to-consumer\",\"Mobile & telecommunications\",\"E-commerce & direct-to-consumer\",\"Other\",\"Auto & transportation\",\"Supply chain, logistics, & delivery\",\"Artificial intelligence\",\"Other\",\"Fintech\",\"Internet software & services\",\"Data management & analytics\",\"Data management & analytics\",\"Internet software & services\",\"E-commerce & direct-to-consumer\",\"Fintech\",\"Internet software & services\",\"Internet software & services\",\"Supply chain, logistics, & delivery\",\"Other\",\"Hardware\",\"Artificial intelligence\",\"Other\",\"Fintech\",\"Supply chain, logistics, & delivery\",\"Internet software & services\",\"Fintech\",\"Cybersecurity\",\"Internet software & services\",\"Health\",\"Fintech\",\"Internet software & services\",\"Artificial intelligence\",\"Edtech\",\"Internet software & services\",\"E-commerce & direct-to-consumer\",\"Fintech\",\"E-commerce & direct-to-consumer\",\"Fintech\",\"Artificial intelligence\",\"Health\",\"Fintech\",\"Artificial intelligence\",\"Fintech\",\"Health\",\"Artificial intelligence\",\"Internet software & services\",\"Internet software & services\",\"Other\",\"Internet software & services\",\"Artificial intelligence\",\"Artificial intelligence\",\"Consumer & retail\",\"Fintech\",\"Data management & analytics\",\"Fintech\",\"E-commerce & direct-to-consumer\",\"Fintech\",\"Other\",\"Fintech\",\"Supply chain, logistics, & delivery\",\"Health\",\"Health\",\"Hardware\",\"E-commerce & direct-to-consumer\",\"Artificial intelligence\",\"Supply chain, logistics, & delivery\",\"Cybersecurity\",\"Edtech\",\"Internet software & services\",\"Fintech\",\"Internet software & services\",\"Internet software & services\",\"Supply chain, logistics, & delivery\",\"Mobile & telecommunications\",\"Supply chain, logistics, & delivery\",\"Supply chain, logistics, & delivery\",\"Fintech\",\"Fintech\",\"Fintech\",\"Artificial intelligence\",\"Fintech\",\"Internet software & services\",\"Fintech\",\"Fintech\",\"Internet software & services\",\"Fintech\",\"Supply chain, logistics, & delivery\",\"Fintech\",\"Artificial intelligence\",\"Fintech\",\"Artificial intelligence\",\"Fintech\",\"Artificial intelligence\",\"E-commerce & direct-to-consumer\",\"Health\",\"Internet software & services\",\"Fintech\",\"Artificial intelligence\",\"Mobile & telecommunications\",\"Hardware\",\"E-commerce & direct-to-consumer\",\"E-commerce & direct-to-consumer\",\"Hardware\",\"E-commerce & direct-to-consumer\",\"Health\",\"Fintech\",\"Fintech\",\"Fintech\",\"Internet software & services\",\"Internet software & services\",\"Supply chain, logistics, & delivery\",\"Consumer & retail\",\"Supply chain, logistics, & delivery\",\"Edtech\",\"Health\",\"Fintech\",\"E-commerce & direct-to-consumer\",\"Fintech\",\"Data management & analytics\",\"Internet software & services\",\"Fintech\",\"Fintech\",\"Health\",\"Supply chain, logistics, & delivery\",\"Supply chain, logistics, & delivery\",\"Artificial intelligence\",\"Internet software & services\",\"Internet software & services\",\"Internet software & services\",\"Cybersecurity\",\"Consumer & retail\",\"Internet software & services\",\"Cybersecurity\",\"Fintech\",\"Hardware\",\"Other\",\"E-commerce & direct-to-consumer\",\"Internet software & services\",\"Cybersecurity\",\"Artificial Intelligence\",\"Cybersecurity\",\"Internet software & services\",\"Fintech\",\"Fintech\",\"Internet software & services\",\"Fintech\",\"Internet software & services\",\"Artificial Intelligence\",\"Data management & analytics\",\"Cybersecurity\",\"E-commerce & direct-to-consumer\"],\"legendgroup\":\"\",\"name\":\"\",\"showlegend\":true,\"type\":\"pie\"}],                        {\"template\":{\"data\":{\"bar\":[{\"error_x\":{\"color\":\"#2a3f5f\"},\"error_y\":{\"color\":\"#2a3f5f\"},\"marker\":{\"line\":{\"color\":\"#E5ECF6\",\"width\":0.5},\"pattern\":{\"fillmode\":\"overlay\",\"size\":10,\"solidity\":0.2}},\"type\":\"bar\"}],\"barpolar\":[{\"marker\":{\"line\":{\"color\":\"#E5ECF6\",\"width\":0.5},\"pattern\":{\"fillmode\":\"overlay\",\"size\":10,\"solidity\":0.2}},\"type\":\"barpolar\"}],\"carpet\":[{\"aaxis\":{\"endlinecolor\":\"#2a3f5f\",\"gridcolor\":\"white\",\"linecolor\":\"white\",\"minorgridcolor\":\"white\",\"startlinecolor\":\"#2a3f5f\"},\"baxis\":{\"endlinecolor\":\"#2a3f5f\",\"gridcolor\":\"white\",\"linecolor\":\"white\",\"minorgridcolor\":\"white\",\"startlinecolor\":\"#2a3f5f\"},\"type\":\"carpet\"}],\"choropleth\":[{\"colorbar\":{\"outlinewidth\":0,\"ticks\":\"\"},\"type\":\"choropleth\"}],\"contour\":[{\"colorbar\":{\"outlinewidth\":0,\"ticks\":\"\"},\"colorscale\":[[0.0,\"#0d0887\"],[0.1111111111111111,\"#46039f\"],[0.2222222222222222,\"#7201a8\"],[0.3333333333333333,\"#9c179e\"],[0.4444444444444444,\"#bd3786\"],[0.5555555555555556,\"#d8576b\"],[0.6666666666666666,\"#ed7953\"],[0.7777777777777778,\"#fb9f3a\"],[0.8888888888888888,\"#fdca26\"],[1.0,\"#f0f921\"]],\"type\":\"contour\"}],\"contourcarpet\":[{\"colorbar\":{\"outlinewidth\":0,\"ticks\":\"\"},\"type\":\"contourcarpet\"}],\"heatmap\":[{\"colorbar\":{\"outlinewidth\":0,\"ticks\":\"\"},\"colorscale\":[[0.0,\"#0d0887\"],[0.1111111111111111,\"#46039f\"],[0.2222222222222222,\"#7201a8\"],[0.3333333333333333,\"#9c179e\"],[0.4444444444444444,\"#bd3786\"],[0.5555555555555556,\"#d8576b\"],[0.6666666666666666,\"#ed7953\"],[0.7777777777777778,\"#fb9f3a\"],[0.8888888888888888,\"#fdca26\"],[1.0,\"#f0f921\"]],\"type\":\"heatmap\"}],\"heatmapgl\":[{\"colorbar\":{\"outlinewidth\":0,\"ticks\":\"\"},\"colorscale\":[[0.0,\"#0d0887\"],[0.1111111111111111,\"#46039f\"],[0.2222222222222222,\"#7201a8\"],[0.3333333333333333,\"#9c179e\"],[0.4444444444444444,\"#bd3786\"],[0.5555555555555556,\"#d8576b\"],[0.6666666666666666,\"#ed7953\"],[0.7777777777777778,\"#fb9f3a\"],[0.8888888888888888,\"#fdca26\"],[1.0,\"#f0f921\"]],\"type\":\"heatmapgl\"}],\"histogram\":[{\"marker\":{\"pattern\":{\"fillmode\":\"overlay\",\"size\":10,\"solidity\":0.2}},\"type\":\"histogram\"}],\"histogram2d\":[{\"colorbar\":{\"outlinewidth\":0,\"ticks\":\"\"},\"colorscale\":[[0.0,\"#0d0887\"],[0.1111111111111111,\"#46039f\"],[0.2222222222222222,\"#7201a8\"],[0.3333333333333333,\"#9c179e\"],[0.4444444444444444,\"#bd3786\"],[0.5555555555555556,\"#d8576b\"],[0.6666666666666666,\"#ed7953\"],[0.7777777777777778,\"#fb9f3a\"],[0.8888888888888888,\"#fdca26\"],[1.0,\"#f0f921\"]],\"type\":\"histogram2d\"}],\"histogram2dcontour\":[{\"colorbar\":{\"outlinewidth\":0,\"ticks\":\"\"},\"colorscale\":[[0.0,\"#0d0887\"],[0.1111111111111111,\"#46039f\"],[0.2222222222222222,\"#7201a8\"],[0.3333333333333333,\"#9c179e\"],[0.4444444444444444,\"#bd3786\"],[0.5555555555555556,\"#d8576b\"],[0.6666666666666666,\"#ed7953\"],[0.7777777777777778,\"#fb9f3a\"],[0.8888888888888888,\"#fdca26\"],[1.0,\"#f0f921\"]],\"type\":\"histogram2dcontour\"}],\"mesh3d\":[{\"colorbar\":{\"outlinewidth\":0,\"ticks\":\"\"},\"type\":\"mesh3d\"}],\"parcoords\":[{\"line\":{\"colorbar\":{\"outlinewidth\":0,\"ticks\":\"\"}},\"type\":\"parcoords\"}],\"pie\":[{\"automargin\":true,\"type\":\"pie\"}],\"scatter\":[{\"marker\":{\"colorbar\":{\"outlinewidth\":0,\"ticks\":\"\"}},\"type\":\"scatter\"}],\"scatter3d\":[{\"line\":{\"colorbar\":{\"outlinewidth\":0,\"ticks\":\"\"}},\"marker\":{\"colorbar\":{\"outlinewidth\":0,\"ticks\":\"\"}},\"type\":\"scatter3d\"}],\"scattercarpet\":[{\"marker\":{\"colorbar\":{\"outlinewidth\":0,\"ticks\":\"\"}},\"type\":\"scattercarpet\"}],\"scattergeo\":[{\"marker\":{\"colorbar\":{\"outlinewidth\":0,\"ticks\":\"\"}},\"type\":\"scattergeo\"}],\"scattergl\":[{\"marker\":{\"colorbar\":{\"outlinewidth\":0,\"ticks\":\"\"}},\"type\":\"scattergl\"}],\"scattermapbox\":[{\"marker\":{\"colorbar\":{\"outlinewidth\":0,\"ticks\":\"\"}},\"type\":\"scattermapbox\"}],\"scatterpolar\":[{\"marker\":{\"colorbar\":{\"outlinewidth\":0,\"ticks\":\"\"}},\"type\":\"scatterpolar\"}],\"scatterpolargl\":[{\"marker\":{\"colorbar\":{\"outlinewidth\":0,\"ticks\":\"\"}},\"type\":\"scatterpolargl\"}],\"scatterternary\":[{\"marker\":{\"colorbar\":{\"outlinewidth\":0,\"ticks\":\"\"}},\"type\":\"scatterternary\"}],\"surface\":[{\"colorbar\":{\"outlinewidth\":0,\"ticks\":\"\"},\"colorscale\":[[0.0,\"#0d0887\"],[0.1111111111111111,\"#46039f\"],[0.2222222222222222,\"#7201a8\"],[0.3333333333333333,\"#9c179e\"],[0.4444444444444444,\"#bd3786\"],[0.5555555555555556,\"#d8576b\"],[0.6666666666666666,\"#ed7953\"],[0.7777777777777778,\"#fb9f3a\"],[0.8888888888888888,\"#fdca26\"],[1.0,\"#f0f921\"]],\"type\":\"surface\"}],\"table\":[{\"cells\":{\"fill\":{\"color\":\"#EBF0F8\"},\"line\":{\"color\":\"white\"}},\"header\":{\"fill\":{\"color\":\"#C8D4E3\"},\"line\":{\"color\":\"white\"}},\"type\":\"table\"}]},\"layout\":{\"annotationdefaults\":{\"arrowcolor\":\"#2a3f5f\",\"arrowhead\":0,\"arrowwidth\":1},\"autotypenumbers\":\"strict\",\"coloraxis\":{\"colorbar\":{\"outlinewidth\":0,\"ticks\":\"\"}},\"colorscale\":{\"diverging\":[[0,\"#8e0152\"],[0.1,\"#c51b7d\"],[0.2,\"#de77ae\"],[0.3,\"#f1b6da\"],[0.4,\"#fde0ef\"],[0.5,\"#f7f7f7\"],[0.6,\"#e6f5d0\"],[0.7,\"#b8e186\"],[0.8,\"#7fbc41\"],[0.9,\"#4d9221\"],[1,\"#276419\"]],\"sequential\":[[0.0,\"#0d0887\"],[0.1111111111111111,\"#46039f\"],[0.2222222222222222,\"#7201a8\"],[0.3333333333333333,\"#9c179e\"],[0.4444444444444444,\"#bd3786\"],[0.5555555555555556,\"#d8576b\"],[0.6666666666666666,\"#ed7953\"],[0.7777777777777778,\"#fb9f3a\"],[0.8888888888888888,\"#fdca26\"],[1.0,\"#f0f921\"]],\"sequentialminus\":[[0.0,\"#0d0887\"],[0.1111111111111111,\"#46039f\"],[0.2222222222222222,\"#7201a8\"],[0.3333333333333333,\"#9c179e\"],[0.4444444444444444,\"#bd3786\"],[0.5555555555555556,\"#d8576b\"],[0.6666666666666666,\"#ed7953\"],[0.7777777777777778,\"#fb9f3a\"],[0.8888888888888888,\"#fdca26\"],[1.0,\"#f0f921\"]]},\"colorway\":[\"#636efa\",\"#EF553B\",\"#00cc96\",\"#ab63fa\",\"#FFA15A\",\"#19d3f3\",\"#FF6692\",\"#B6E880\",\"#FF97FF\",\"#FECB52\"],\"font\":{\"color\":\"#2a3f5f\"},\"geo\":{\"bgcolor\":\"white\",\"lakecolor\":\"white\",\"landcolor\":\"#E5ECF6\",\"showlakes\":true,\"showland\":true,\"subunitcolor\":\"white\"},\"hoverlabel\":{\"align\":\"left\"},\"hovermode\":\"closest\",\"mapbox\":{\"style\":\"light\"},\"paper_bgcolor\":\"white\",\"plot_bgcolor\":\"#E5ECF6\",\"polar\":{\"angularaxis\":{\"gridcolor\":\"white\",\"linecolor\":\"white\",\"ticks\":\"\"},\"bgcolor\":\"#E5ECF6\",\"radialaxis\":{\"gridcolor\":\"white\",\"linecolor\":\"white\",\"ticks\":\"\"}},\"scene\":{\"xaxis\":{\"backgroundcolor\":\"#E5ECF6\",\"gridcolor\":\"white\",\"gridwidth\":2,\"linecolor\":\"white\",\"showbackground\":true,\"ticks\":\"\",\"zerolinecolor\":\"white\"},\"yaxis\":{\"backgroundcolor\":\"#E5ECF6\",\"gridcolor\":\"white\",\"gridwidth\":2,\"linecolor\":\"white\",\"showbackground\":true,\"ticks\":\"\",\"zerolinecolor\":\"white\"},\"zaxis\":{\"backgroundcolor\":\"#E5ECF6\",\"gridcolor\":\"white\",\"gridwidth\":2,\"linecolor\":\"white\",\"showbackground\":true,\"ticks\":\"\",\"zerolinecolor\":\"white\"}},\"shapedefaults\":{\"line\":{\"color\":\"#2a3f5f\"}},\"ternary\":{\"aaxis\":{\"gridcolor\":\"white\",\"linecolor\":\"white\",\"ticks\":\"\"},\"baxis\":{\"gridcolor\":\"white\",\"linecolor\":\"white\",\"ticks\":\"\"},\"bgcolor\":\"#E5ECF6\",\"caxis\":{\"gridcolor\":\"white\",\"linecolor\":\"white\",\"ticks\":\"\"}},\"title\":{\"x\":0.05},\"xaxis\":{\"automargin\":true,\"gridcolor\":\"white\",\"linecolor\":\"white\",\"ticks\":\"\",\"title\":{\"standoff\":15},\"zerolinecolor\":\"white\",\"zerolinewidth\":2},\"yaxis\":{\"automargin\":true,\"gridcolor\":\"white\",\"linecolor\":\"white\",\"ticks\":\"\",\"title\":{\"standoff\":15},\"zerolinecolor\":\"white\",\"zerolinewidth\":2}}},\"legend\":{\"tracegroupgap\":0},\"margin\":{\"t\":60}},                        {\"responsive\": true}                    ).then(function(){\n",
              "                            \n",
              "var gd = document.getElementById('37b59b00-d0af-4dbd-9538-bb99ae4d8b44');\n",
              "var x = new MutationObserver(function (mutations, observer) {{\n",
              "        var display = window.getComputedStyle(gd).display;\n",
              "        if (!display || display === 'none') {{\n",
              "            console.log([gd, 'removed!']);\n",
              "            Plotly.purge(gd);\n",
              "            observer.disconnect();\n",
              "        }}\n",
              "}});\n",
              "\n",
              "// Listen for the removal of the full notebook cells\n",
              "var notebookContainer = gd.closest('#notebook-container');\n",
              "if (notebookContainer) {{\n",
              "    x.observe(notebookContainer, {childList: true});\n",
              "}}\n",
              "\n",
              "// Listen for the clearing of the current output cell\n",
              "var outputEl = gd.closest('.output');\n",
              "if (outputEl) {{\n",
              "    x.observe(outputEl, {childList: true});\n",
              "}}\n",
              "\n",
              "                        })                };                            </script>        </div>\n",
              "</body>\n",
              "</html>"
            ]
          },
          "metadata": {}
        }
      ]
    },
    {
      "cell_type": "markdown",
      "source": [
        "20,03% das startups da Unicorn são Fintech. Tecnologia financeira é a tecnologia e inovação que visa competir com os métodos financeiros tradicionais na prestação de serviços financeiros. \n",
        "\n",
        "\n",
        "É uma indústria emergente que usa a tecnologia para melhorar as atividades em finanças.\n",
        "\n",
        "\n",
        "As startups de unicórnio de inicialização baseadas em IA são 7,37%. A base de saúde é de 6,73%. Baseado em cibersegurança é de 4,38%. \n",
        "\n",
        "\n",
        "O gerenciamento e análise de dados é de 3,85%. Estou especificando apenas esses quatro unicórnios de startups porque esses setores são o futuro."
      ],
      "metadata": {
        "id": "2Q3e5WNUb0V8"
      }
    },
    {
      "cell_type": "code",
      "source": [
        ""
      ],
      "metadata": {
        "id": "1MzinafNb0ZU"
      },
      "execution_count": null,
      "outputs": []
    },
    {
      "cell_type": "markdown",
      "source": [
        "A empresa anual se juntou ao Unicorn Club"
      ],
      "metadata": {
        "id": "Bzd9Y3aIb0ca"
      }
    },
    {
      "cell_type": "code",
      "source": [
        "fig3 = px.line(df, x='Company', y='year', title='Tempo de Empresa')\n",
        "fig3.show()"
      ],
      "metadata": {
        "colab": {
          "base_uri": "https://localhost:8080/",
          "height": 542
        },
        "id": "O4E3f434b0fi",
        "outputId": "1c5147b4-94df-4f47-a790-12cdae3b7bc8"
      },
      "execution_count": null,
      "outputs": [
        {
          "output_type": "display_data",
          "data": {
            "text/html": [
              "<html>\n",
              "<head><meta charset=\"utf-8\" /></head>\n",
              "<body>\n",
              "    <div>            <script src=\"https://cdnjs.cloudflare.com/ajax/libs/mathjax/2.7.5/MathJax.js?config=TeX-AMS-MML_SVG\"></script><script type=\"text/javascript\">if (window.MathJax) {MathJax.Hub.Config({SVG: {font: \"STIX-Web\"}});}</script>                <script type=\"text/javascript\">window.PlotlyConfig = {MathJaxConfig: 'local'};</script>\n",
              "        <script src=\"https://cdn.plot.ly/plotly-2.8.3.min.js\"></script>                <div id=\"9f00539d-65bc-441e-9f57-e4a20f1df8b2\" class=\"plotly-graph-div\" style=\"height:525px; width:100%;\"></div>            <script type=\"text/javascript\">                                    window.PLOTLYENV=window.PLOTLYENV || {};                                    if (document.getElementById(\"9f00539d-65bc-441e-9f57-e4a20f1df8b2\")) {                    Plotly.newPlot(                        \"9f00539d-65bc-441e-9f57-e4a20f1df8b2\",                        [{\"hovertemplate\":\"Company=%{x}<br>year=%{y}<extra></extra>\",\"legendgroup\":\"\",\"line\":{\"color\":\"#636efa\",\"dash\":\"solid\"},\"marker\":{\"symbol\":\"circle\"},\"mode\":\"lines\",\"name\":\"\",\"orientation\":\"v\",\"showlegend\":false,\"x\":[\"Bytedance\",\"SpaceX\",\"Stripe\",\"Klarna\",\"Canva\",\"Instacart\",\"Databricks\",\"Revolut\",\"Nubank\",\"Epic Games\",\"Chime\",\"FTX\",\"BYJU's\",\"Xiaohongshu\",\"J&T Express\",\"Fanatics\",\"Yuanfudao\",\"DJI Innovations\",\"SHEIN\",\"Checkout.com\",\"goPuff\",\"Plaid Technologies\",\"Grammarly\",\"Devoted Health\",\"Faire\",\"Brex\",\"SenseTime\",\"JUUL Labs\",\"Bitmain Technologies\",\"Biosplice Therapeutics\",\"GoodLeap\",\"ZongMu Technology\",\"Global Switch\",\"Celonis\",\"Weilong\",\"Lalamove\",\"Ripple\",\"Figma\",\"Gusto\",\"reddit\",\"Talkdesk\",\"Notion Labs\",\"Thrasio\",\"Digital Currency Group\",\"OutSystems\",\"ServiceTitan\",\"HEYTEA\",\"N26\",\"Klaviyo\",\"Northvolt\",\"Tanium\",\"Chehaoduo\",\"Niantic\",\"OYO Rooms\",\"Rapyd\",\"Kavak\",\"Snyk\",\"Nuro\",\"Lacework\",\"Tipalti\",\"Tempus\",\"Xingsheng Selected\",\"Dream11\",\"Fireblocks\",\"Caris Life Sciences\",\"Dapper Labs\",\"Hopin\",\"Getir\",\"Netskope\",\"Toss\",\"Carta\",\"Scale AI\",\"Argo AI\",\"Gong\",\"TripActions\",\"Gemini\",\"We Doctor\",\"Discord\",\"Automation Anywhere\",\"Ziroom\",\"National Stock Exchange of India\",\"Mollie\",\"Rippling\",\"Ola Cabs\",\"Samsara Networks\",\"DataRobot\",\"Personio\",\"Hinge Health\",\"Black Unicorn Factory\",\"Benchling\",\"Royole Corporation\",\"Yuanqi Senlin\",\"Better.com\",\"Wiz\",\"Bolt\",\"Attentive\",\"Easyhome\",\"Lianjia\",\"Airtable\",\"Vice Media\",\"Cityblock Health\",\"Workato\",\"Postman\",\"FiveTran\",\"Pony.ai\",\"Trade Republic\",\"Rappi\",\"Collibra\",\"Blockchain.com\",\"HashiCorp\",\"OneTrust\",\"QuintoAndar\",\"C6 Bank\",\"United Imaging Healthcare\",\"Hello TransTech\",\"Swiggy\",\"Deel\",\"Airwallex\",\"Horizon Robotics\",\"WM Motor\",\"Ro\",\"Howden Group Holdings\",\"SambaNova Systems\",\"ZEPZ\",\"OakNorth\",\"Moon Active\",\"Meesho\",\"Cerebral\",\"Anduril\",\"Lyra Health\",\"Dataiku\",\"Checkr\",\"Color\",\"Meizu Technology\",\"Vinted\",\"Zenefits\",\"VIPKid\",\"Socure\",\"Monzo\",\"UBTECH Robotics\",\"Outreach\",\"Bolt\",\"BetterUp\",\"Arctic Wolf Networks\",\"Sorare\",\"Relativity Space\",\"Miaoshou Doctor\",\"Chainalysis\",\"ThoughtSpot\",\"SSENSE\",\"Dataminr\",\"BitPanda\",\"Houzz\",\"CRED\",\"Yello Mobile\",\"MEGVII\",\"Greensill\",\"Impossible Foods\",\"Radiology Partners\",\"Next Insurance\",\"Patreon\",\"PointClickCare\",\"Zapier\",\"Clubhouse\",\"BrowserStack\",\"Olive\",\"iCapital Network\",\"Rubrik\",\"Melio\",\"Vuori\",\"ClickUp\",\"Cerebras Systems\",\"Farmers Business Network\",\"Ramp Financial\",\"Intarcia Therapeutics\",\"StockX\",\"MessageBird\",\"Guild Education\",\"Articulate\",\"FalconX\",\"Dutchie\",\"Cohesity\",\"VAST Data\",\"GOAT\",\"Noom\",\"Redwood Materials\",\"Papaya Global\",\"Relativity\",\"Whoop\",\"Applied Intuition\",\"Otto Bock HealthCare\",\"Indigo Ag\",\"HyalRoute\",\"Digit Insurance\",\"Commure\",\"Mirakl\",\"Coalition\",\"Tekion\",\"Alchemy\",\"Unacademy\",\"MoonPay\",\"Youxia Motors\",\"OwnBackup\",\"Upgrade\",\"Cloudwalk\",\"ECARX\",\"Sila Nanotechnologies\",\"Scopely\",\"WeRide\",\"Komodo Health\",\"Dadi Cinema\",\"Thumbtack\",\"Flexport\",\"Cedar\",\"Back Market\",\"Eruditus Executive Education\",\"Blockstream\",\"ConsenSys\",\"Huitongda\",\"PsiQuantum\",\"SpotOn\",\"Udaan\",\"HighRadius\",\"Nuvemshop\",\"VANCL\",\"Yixia\",\"Traveloka\",\"SouChe Holdings\",\"BGL Group\",\"Circle\",\"Zuoyebang\",\"Delhivery\",\"FlixMobility\",\"Wildlife Studios\",\"Pine Labs\",\"ApplyBoard\",\"Razorpay\",\"Forter\",\"Calendly\",\"BlockFi\",\"ActiveCampaign\",\"CMR Surgical\",\"Lucid Software\",\"Age of Learning\",\"Carbon Health\",\"ShareChat\",\"Contentful\",\"LaunchDarkly\",\"Hopper\",\"Seismic\",\"Grafana Labs\",\"Gorillas\",\"Ola Electric Mobility\",\"Sky Mavis\",\"Celsius Network\",\"Outschool\",\"TradingView\",\"Groww\",\"Podium\",\"Via\",\"Kraken\",\"OpenAI\",\"Ovo\",\"Workrise\",\"Loft\",\"OfBusiness\",\"BharatPe\",\"DriveWealth\",\"Meicai\",\"Icertis\",\"Weee!\",\"ContentSquare\",\"Zipline\",\"Graphcore\",\"Illumio\",\"Convoy\",\"MasterClass\",\"Transmit Security\",\"Hozon Auto\",\"Tradeshift\",\"Nextiva\",\"Flink\",\"ManoMano\",\"Sourcegraph\",\"Pendo\",\"Plume\",\"Xinchao Media\",\"JumpCloud\",\"Vista Global\",\"BYTON\",\"Acronis\",\"Side\",\"Lenskart\",\"Infra.Market\",\"Varo Bank\",\"Cato Networks\",\"Aura\",\"Vercel\",\"Uala\",\"Mobile Premier League\",\"Cybereason\",\"Cgtz\",\"Star Charge\",\"Carbon\",\"PolicyBazaar\",\"Paxos\",\"Exabeam\",\"BitSight Technologies\",\"Trumid\",\"ABL Space Systems\",\"Bought By Many\",\"Jobandtalent\",\"WEMAKEPRICE\",\"Biren Technology\",\"Voodoo\",\"Uptake\",\"KeepTruckin\",\"Skydance Media\",\"Greenlight\",\"Highspot\",\"Bowery Farming\",\"Odoo\",\"Zume\",\"Algolia\",\"Pattern\",\"Planet Labs\",\"NuCom Group\",\"MUSINSA\",\"Current\",\"Bitso\",\"Gympass\",\"Kurly\",\"Reify Health\",\"Huaqin Telecom Technology\",\"YITU Technology\",\"Addepar\",\"Cockroach Labs\",\"Neo4j\",\"1\",\"FirstCry\",\"Eightfold.ai\",\"Webflow\",\"6Sense\",\"Urban Company\",\"ReCharge\",\"Moveworks\",\"Medable\",\"SoundHound\",\"Mambu\",\"Trendy Group International\",\"Avant\",\"Tubatu.com\",\"BlaBlaCar\",\"Quanergy Systems\",\"HuiMin\",\"Quora\",\"Improbable\",\"Preferred Networks\",\"Formlabs\",\"4Paradigm\",\"Calm\",\"Kaseya\",\"Mafengwo\",\"Druva\",\"Kujiale\",\"AppsFlyer\",\"Keep\",\"Redis Labs\",\"Xingyun Group\",\"Unqork\",\"Virta Health\",\"ISN\",\"Earnix\",\"Guoquan Shihui\",\"Arrail Dental\",\"Clearco\",\"Hive\",\"KRY\",\"Kajabi\",\"Ethos Technologies\",\"Beisen\",\"Pipe\",\"Iterable\",\"Bunq\",\"Clip\",\"Loggi\",\"MURAL\",\"Pagaya\",\"1Password\",\"OCSiAl\",\"XtalPi\",\"Divvy Homes\",\"Apeel Sciences\",\"Opay\",\"Aviatrix\",\"SmartNews\",\"Misfits Market\",\"Spring Health\",\"Black Sesame Technologies\",\"Advance Intelligence Group\",\"Modern Treasury\",\"Magic Leap\",\"Tier Mobility\",\"Aiven\",\"ClickHouse\",\"Mynt\",\"Everlaw\",\"Zilch\",\"VerbIT\",\"StarkWare\",\"Netlify\",\"Deliverr\",\"SWORD Health\",\"LTK\",\"Fenbi Education\",\"Starling Bank\",\"InVision\",\"eDaili\",\"MX Technologies\",\"Aledade\",\"CoinSwitch Kuber\",\"ENOVATE\",\"CFGI\",\"Automattic\",\"ZocDoc\",\"Diamond Foundry\",\"FullStory\",\"Lightricks\",\"Opentrons\",\"AIWAYS\",\"Creditas\",\"Trulioo\",\"Spinny\",\"Orca Security\",\"Cars24\",\"Apus Group\",\"Harry's Razor Company\",\"Allbirds\",\"PAX\",\"Harness\",\"DispatchHealth\",\"Unite Us\",\"CircleCI\",\"GoStudent\",\"Pleo\",\"Wave\",\"Vestiaire Collective\",\"Dragos\",\"Reltio\",\"H2O.ai\",\"ZenBusiness\",\"Alan\",\"wefox\",\"Hibob\",\"Trader Interactive\",\"Jusfoun Big Data\",\"Zhubajie\",\"solarisBank\",\"Infinidat\",\"Afiniti\",\"Cao Cao Mobility\",\"Verkada\",\"ASR Microelectronics\",\"Clari\",\"Tonal\",\"Skims\",\"Clio\",\"SafetyCulture\",\"Extend\",\"Cognite\",\"ASAPP\",\"SmartHR\",\"Mercury\",\"HomeLight\",\"Truepill\",\"Promasidor Holdings\",\"Baiwang\",\"Iluvatar CoreX\",\"Wenheyou\",\"Loom\",\"Ximalaya FM\",\"Carzone\",\"Mu Sigma\",\"TuJia\",\"Mofang Living\",\"Gett\",\"DT Dream\",\"Changingedu\",\"XiaoZhu\",\"JOLLY Information Technology\",\"Yijiupi\",\"Cambridge Mobile Telematics\",\"Collective Health\",\"Strava\",\"Zenoti\",\"K Health\",\"Uplight\",\"ID.me\",\"Handshake\",\"Snapdocs\",\"Chipper Cash\",\"Ledger\",\"Next Silicon\",\"YunQuNa\",\"dbt Labs\",\"Impact\",\"OpenSea\",\"SmartRecruiters\",\"NotCo\",\"Culture Amp\",\"TaxBit\",\"Pacaso\",\"1047 Games\",\"Matillion\",\"Persona\",\"Whatnot\",\"Ascend Money\",\"Andela\",\"Built\",\"candy.com\",\"Devo\",\"CoinList\",\"Lusha\",\"CureFit\",\"Yipin Shengxian\",\"Bordrin Motors\",\"Coocaa\",\"Juma Peisong\",\"Ouyeel\",\"Gymshark\",\"Zeta\",\"M1 Finance\",\"Justworks\",\"SonderMind\",\"Papa\",\"Koudai\",\"Symphony\",\"Yidian Zixun\",\"Cabify\",\"Hive Box\",\"Deezer\",\"Away\",\"Kong\",\"Epidemic Sound\",\"Yotpo\",\"Rebel Foods\",\"Coda\",\"Five Star Business Finance\",\"Stash\",\"Phenom People\",\"GupShup\",\"Degreed\",\"Astranis Space Technologies\",\"ChargeBee Technologies\",\"Scalable Capital\",\"VideoAmp\",\"Panther Labs\",\"Veepee\",\"DeepBlue Technology\",\"Klook\",\"Yaoshibang\",\"At-Bay\",\"Alloy\",\"Signifyd\",\"Motorway\",\"Flipboard\",\"Grove Collaborative\",\"GPclub\",\"Tongdun Technology\",\"Alzheon\",\"HeartFlow\",\"Sonder\",\"Trax\",\"You & Mr Jones\",\"InSightec\",\"Everly Health\",\"Manner\",\"TalkingData\",\"Innovaccer\",\"DistroKid\",\"Carsome\",\"Konfio\",\"Betterment\",\"Flock Freight\",\"YugaByte\",\"Starry\",\"Intercom\",\"OVO Energy\",\"Huisuanzhang\",\"WTOIP\",\"ezCater\",\"BigID\",\"Rec Room\",\"Kuaikan Manhua\",\"Marshmallow\",\"Honor Technology\",\"Mythical Games\",\"Incode Technologies\",\"BrewDog\",\"Enflame\",\"EQRx\",\"Nexii\",\"BlockDaemon\",\"GalaxySpace\",\"Spiber\",\"Yiguo\",\"Fair\",\"Glossier\",\"Workhuman\",\"Qumulo\",\"Dialpad\",\"Starburst\",\"Tealium\",\"Public\",\"Axonius\",\"Savage X Fenty\",\"Pipa Coding\",\"Pilot.com\",\"Aibee\",\"Cava Group\",\"Vectra Networks\",\"Ada Support\",\"Inari\",\"Project44\",\"Alation\",\"Forto\",\"SmartMore\",\"Rohlik\",\"Prime Medicine\",\"FloQast\",\"MindTickle\",\"UpGrad\",\"DailyPay\",\"Oda\",\"Offchain Labs\",\"Copado\",\"Gem\",\"CarDekho\",\"MyGlamm\",\"AgentSync\",\"Pristyn Care\",\"Jokr\",\"L&P Cosmetic\",\"Unisound\",\"Mininglamp Technology\",\"Sysdig\",\"Luoji Siwei\",\"Yimidida\",\"Modern Health\",\"IRL\",\"Tuhu\",\"SVOLT Energy\",\"LifeMiles\",\"Venafi\",\"Guideline\",\"Rebellion Defense\",\"Elemy\",\"Doctolib\",\"STORD\",\"TELD\",\"TangoMe\",\"AppDirect\",\"Juanpi\",\"OVH\",\"Eat Just\",\"GetYourGuide\",\"Ivalua\",\"Sisense\",\"Course Hero\",\"Pharmapacks\",\"SalesLoft\",\"Sennder\",\"Nexthink\",\"Zego\",\"Rightway\",\"Sunbit\",\"Qingting FM\",\"Amber Group\",\"G2\",\"Hailo\",\"People.ai\",\"CoinDCX\",\"Carousell\",\"apna\",\"Karat\",\"Enpal\",\"Acko General Insurance\",\"Daily Harvest\",\"The Bank of London\",\"Fundbox\",\"Nxin\",\"UISEE Technology\",\"56PINGTAI\",\"Rubicon Global\",\"Radius Payment Solutions\",\"Rivigo\",\"Jiuxian\",\"Instabase\",\"Hesai Tech\",\"Proterra\",\"Sendbird\",\"Density\",\"Mixpanel\",\"Aprogen\",\"OrCam Technologies\",\"Leap Motor\",\"Lookout\",\"Snapdeal\",\"TechStyle Fashion Group\",\"InMobi\",\"LinkSure Network\",\"Red Ventures\",\"BeiBei\",\"Lamabang\",\"JimuBox\",\"BenevolentAI\",\"FXiaoKe\",\"Vox Media\",\"Mia.com\",\"58 Daojia\",\"Womai\",\"HuJiang\",\"iTutorGroup\",\"MindMaze\",\"iCarbonX\",\"SMS Assist\",\"Kendra Scott\",\"Mobvoi\",\"Zhuan Zhuan\",\"Modernizing Medicine\",\"Zhaogang\",\"DianRong\",\"Cell C\",\"YH Global\",\"Revolution Precrafted\",\"WeLab\",\"Maimai\",\"Dxy.cn\",\"Orbbec Technology\",\"HMD Global\",\"Huike Group\",\"China Cloud\",\"LinkDoc Technology\",\"MediaMath\",\"Movile\",\"Kuaigou Dache\",\"Pat McGrath Labs\",\"Wacai\",\"Medlinker\",\"FlashEx\",\"Branch\",\"Banma Network Technologies\",\"Tresata\",\"Momenta\",\"Hosjoy\",\"Omio\",\"TERMINUS Technology\",\"BitFury\",\"iFood\",\"Geek+\",\"REEF Technology\",\"Globality\",\"Ynsect\",\"Intellifusion\",\"Liquid\",\"Poizon\",\"VTS\",\"SITECH DEV\",\"KnowBox\",\"Yanolja\",\"Meero\",\"SumUp\",\"Ibotta\",\"C2FO\",\"Numbrs\",\"Dave\",\"EBANX\",\"KK Group\",\"Glovo\",\"Alto Pharmacy\",\"o9 Solutions\",\"Hotmart\",\"Emerging Markets Property Group\",\"Quizlet\",\"Orca Bio\",\"Newlink Group\",\"Infobip\",\"Zwift\",\"Playco\",\"Socar\",\"Gousto\",\"AInnovation\",\"Boom Supersonic\",\"Qualia\",\"DailyHunt\",\"Dremio\",\"Quantum Metric\",\"News Break\",\"MadeiraMadeira\",\"PPRO\",\"Splashtop\",\"DriveNets\",\"Flash Express\",\"Axiom Space\",\"Locus Robotics\",\"Standard Cognition\",\"Sentry\",\"WeBull\",\"Skydio\",\"Newsela\",\"Flutterwave\",\"Aqua Security\",\"PatSnap\",\"Evidation\",\"Sidecar Health\",\"Lattice\",\"Feedzai\",\"Yunxuetang\",\"Cameo\",\"Fetch Rewards\",\"Hyperchain\",\"The Zebra\",\"Clearcover\",\"Groq\",\"Fiture\",\"Injective Protocol\",\"Sift\",\"SaltPay\",\"Capsule\",\"MOLOCO\",\"Mux\",\"XForcePlus\",\"Firefly Aerospace\",\"HoneyBook\",\"Shift Technology\",\"TensTorrent\",\"Zihaiguo\",\"Forte Labs\",\"Axtria\",\"Amount\",\"Moglix\",\"Vise\",\"Printful\",\"Matrixport\",\"Shippo\",\"Thirty Madison\",\"LetsGetChecked\",\"EcoFlow\",\"Carro\",\"Tractable\",\"Bringg\",\"Claroty\",\"JoyTunes\",\"Aircall\",\"SmartAsset\",\"Morning Consult\",\"Visier\",\"ShipBob\",\"Dream Games\",\"Grofers\",\"Kitopi\",\"bolttech\",\"MobileCoin\",\"Lunar\",\"Amperity\",\"Remote\",\"Pantheon Systems\",\"Xiaobing\",\"Carson Group\",\"GO1\",\"Interos\",\"BlackBuck\",\"NIUM\",\"Unico\",\"Human Interest\",\"Bluecore\",\"Freshbooks\",\"Snorkel AI\",\"Gelato\",\"Maven Clinic\",\"Zetwerk\",\"Dunamu\",\"Shield AI\",\"PicsArt\",\"1KMXC\",\"Cider\",\"Berlin Brands Group\",\"Agile Robots\",\"GrubMarket\",\"Mammoth Biosciences\",\"Orchard\",\"Xendit\",\"TrueLayer\",\"Assembly\",\"PandaDoc\",\"Keenon Robotics\",\"HAYDON\",\"Ninja Van\",\"Vedantu\",\"TrialSpark\",\"Ajaib\",\"Licious\",\"Masterworks\",\"Chronosphere\",\"Solo.io\",\"Swile\",\"Zopa\",\"Dental Monitoring\",\"CargoX\",\"Fabric\",\"Augury\",\"Moka\",\"Tezign\",\"Vagaro\",\"Drata\",\"Razor\",\"OpenWeb\",\"Contrast Security\",\"Wrapbook\",\"Gaussian Robotics\",\"Mensa Brands\",\"Heyday\",\"PLACE\",\"Stytch\",\"Owkin\",\"Expel\",\"NoBroker\",\"Slice\",\"Thought Machine\",\"Lessen\",\"Clara\",\"YipitData\",\"Anyscale\",\"Iodine Software\",\"ReliaQuest\",\"Pet Circle\"],\"xaxis\":\"x\",\"y\":[2017,2012,2014,2011,2018,2014,2019,2018,2018,2018,2019,2021,2017,2016,2021,2012,2017,2015,2018,2019,2020,2018,2019,2018,2019,2018,2017,2017,2018,2018,2021,2021,2016,2018,2021,2019,2019,2020,2015,2017,2018,2020,2020,2021,2018,2018,2019,2019,2020,2019,2015,2016,2017,2018,2019,2020,2020,2019,2021,2020,2018,2020,2019,2021,2021,2021,2020,2021,2018,2018,2019,2019,2019,2020,2018,2021,2015,2018,2018,2018,2020,2020,2020,2014,2018,2019,2021,2021,2021,2021,2015,2020,2020,2021,2021,2020,2018,2016,2018,2011,2020,2021,2020,2020,2018,2021,2018,2019,2021,2018,2019,2019,2020,2017,2018,2018,2021,2019,2019,2019,2020,2020,2021,2021,2017,2020,2021,2021,2019,2020,2019,2019,2021,2014,2019,2015,2016,2021,2018,2016,2019,2018,2021,2020,2021,2020,2019,2020,2018,2021,2018,2021,2014,2021,2014,2017,2018,2019,2019,2019,2020,2021,2021,2021,2021,2020,2021,2017,2021,2021,2020,2018,2020,2021,2014,2019,2020,2019,2021,2021,2021,2018,2020,2020,2021,2021,2021,2021,2020,2020,2017,2017,2020,2021,2021,2020,2021,2020,2021,2020,2021,2018,2021,2018,2018,2020,2019,2019,2020,2020,2016,2015,2018,2021,2021,2021,2021,2021,2017,2021,2021,2018,2020,2021,2010,2015,2017,2017,2017,2018,2018,2019,2019,2019,2020,2020,2020,2020,2021,2021,2021,2019,2021,2016,2021,2021,2021,2021,2021,2018,2021,2021,2019,2021,2021,2021,2021,2021,2020,2020,2019,2019,2019,2019,2020,2021,2021,2021,2016,2019,2021,2021,2019,2018,2015,2018,2021,2021,2021,2018,2021,2021,2021,2021,2019,2021,2018,2021,2017,2018,2019,2021,2019,2021,2021,2020,2021,2021,2021,2021,2019,2017,2021,2015,2019,2021,2021,2021,2020,2021,2021,2021,2015,2020,2020,2015,2019,2020,2020,2021,2021,2021,2018,2021,2021,2015,2018,2019,2021,2021,2019,2021,2021,2019,2018,2021,2021,2021,2021,2020,2020,2021,2021,2021,2021,2021,2021,2018,2021,2012,2012,2015,2015,2016,2016,2017,2017,2018,2018,2018,2019,2019,2019,2019,2019,2020,2020,2020,2020,2020,2020,2020,2021,2021,2021,2021,2021,2021,2021,2021,2021,2021,2021,2021,2021,2019,2021,2020,2021,2019,2021,2021,2020,2021,2021,2019,2021,2021,2021,2021,2021,2014,2021,2021,2021,2021,2021,2021,2021,2021,2021,2021,2021,2021,2021,2021,2017,2019,2021,2021,2021,2019,2021,2013,2015,2021,2021,2019,2021,2018,2020,2021,2021,2021,2020,2015,2018,2018,2018,2021,2021,2021,2021,2021,2021,2021,2021,2021,2021,2021,2021,2021,2019,2021,2021,2018,2015,2021,2015,2017,2018,2020,2020,2021,2021,2021,2021,2021,2021,2021,2021,2021,2021,2021,2021,2016,2019,2021,2021,2021,2017,2019,2013,2015,2016,2016,2017,2017,2017,2018,2018,2018,2019,2020,2020,2021,2021,2021,2021,2021,2021,2021,2021,2021,2021,2021,2021,2021,2021,2021,2021,2021,2021,2021,2021,2021,2021,2021,2021,2021,2021,2021,2021,2021,2019,2019,2018,2018,2019,2020,2021,2021,2020,2021,2021,2014,2017,2017,2018,2018,2018,2019,2020,2021,2021,2021,2021,2021,2021,2021,2021,2021,2021,2021,2021,2021,2021,2007,2018,2018,2021,2021,2021,2021,2021,2015,2019,2018,2019,2020,2017,2019,2019,2019,2020,2020,2020,2021,2021,2021,2021,2021,2021,2021,2021,2018,2018,2019,2021,2018,2019,2020,2021,2017,2021,2021,2021,2021,2017,2021,2021,2021,2021,2020,2021,2016,2018,2019,2020,2020,2020,2021,2021,2021,2021,2021,2021,2021,2021,2021,2021,2021,2021,2021,2021,2021,2021,2021,2021,2021,2021,2021,2021,2021,2021,2021,2021,2021,2021,2021,2021,2021,2016,2018,2019,2021,2017,2019,2021,2021,2018,2020,2015,2020,2021,2021,2021,2019,2021,2019,2014,2015,2016,2016,2017,2019,2019,2020,2020,2020,2021,2021,2021,2021,2021,2021,2021,2021,2021,2021,2021,2021,2021,2021,2021,2021,2021,2021,2021,2021,2018,2021,2021,2017,2017,2019,2015,2019,2020,2020,2021,2021,2021,2019,2018,2018,2013,2014,2014,2014,2015,2015,2015,2015,2015,2015,2015,2015,2015,2015,2015,2015,2015,2016,2016,2016,2016,2017,2017,2017,2017,2017,2017,2017,2017,2017,2017,2018,2018,2018,2018,2018,2018,2018,2018,2018,2018,2018,2018,2018,2018,2018,2018,2018,2018,2018,2018,2018,2018,2018,2018,2019,2019,2019,2019,2019,2019,2019,2019,2019,2019,2019,2019,2019,2019,2019,2019,2019,2019,2020,2020,2020,2020,2020,2020,2020,2020,2020,2020,2020,2020,2020,2020,2020,2020,2021,2021,2021,2021,2021,2021,2021,2021,2021,2021,2021,2021,2021,2021,2021,2021,2021,2021,2021,2021,2021,2021,2021,2021,2021,2021,2021,2021,2021,2021,2021,2021,2021,2021,2021,2021,2021,2021,2021,2021,2021,2021,2021,2021,2021,2021,2021,2021,2021,2021,2021,2021,2021,2021,2021,2021,2021,2021,2021,2021,2021,2021,2021,2021,2021,2021,2021,2021,2021,2021,2021,2021,2021,2021,2021,2021,2021,2021,2021,2021,2021,2021,2021,2021,2021,2021,2021,2021,2021,2021,2021,2021,2021,2021,2021,2021,2021,2021,2021,2021,2021,2021,2021,2021,2021,2021,2021,2021,2021,2021,2021,2021,2021,2021,2021,2021,2021,2021,2021,2021,2021,2021,2021,2021,2021,2021,2021,2021,2021,2021,2021,2021,2021,2021,2021,2021,2021,2021,2021,2021,2021],\"yaxis\":\"y\",\"type\":\"scatter\"}],                        {\"template\":{\"data\":{\"bar\":[{\"error_x\":{\"color\":\"#2a3f5f\"},\"error_y\":{\"color\":\"#2a3f5f\"},\"marker\":{\"line\":{\"color\":\"#E5ECF6\",\"width\":0.5},\"pattern\":{\"fillmode\":\"overlay\",\"size\":10,\"solidity\":0.2}},\"type\":\"bar\"}],\"barpolar\":[{\"marker\":{\"line\":{\"color\":\"#E5ECF6\",\"width\":0.5},\"pattern\":{\"fillmode\":\"overlay\",\"size\":10,\"solidity\":0.2}},\"type\":\"barpolar\"}],\"carpet\":[{\"aaxis\":{\"endlinecolor\":\"#2a3f5f\",\"gridcolor\":\"white\",\"linecolor\":\"white\",\"minorgridcolor\":\"white\",\"startlinecolor\":\"#2a3f5f\"},\"baxis\":{\"endlinecolor\":\"#2a3f5f\",\"gridcolor\":\"white\",\"linecolor\":\"white\",\"minorgridcolor\":\"white\",\"startlinecolor\":\"#2a3f5f\"},\"type\":\"carpet\"}],\"choropleth\":[{\"colorbar\":{\"outlinewidth\":0,\"ticks\":\"\"},\"type\":\"choropleth\"}],\"contour\":[{\"colorbar\":{\"outlinewidth\":0,\"ticks\":\"\"},\"colorscale\":[[0.0,\"#0d0887\"],[0.1111111111111111,\"#46039f\"],[0.2222222222222222,\"#7201a8\"],[0.3333333333333333,\"#9c179e\"],[0.4444444444444444,\"#bd3786\"],[0.5555555555555556,\"#d8576b\"],[0.6666666666666666,\"#ed7953\"],[0.7777777777777778,\"#fb9f3a\"],[0.8888888888888888,\"#fdca26\"],[1.0,\"#f0f921\"]],\"type\":\"contour\"}],\"contourcarpet\":[{\"colorbar\":{\"outlinewidth\":0,\"ticks\":\"\"},\"type\":\"contourcarpet\"}],\"heatmap\":[{\"colorbar\":{\"outlinewidth\":0,\"ticks\":\"\"},\"colorscale\":[[0.0,\"#0d0887\"],[0.1111111111111111,\"#46039f\"],[0.2222222222222222,\"#7201a8\"],[0.3333333333333333,\"#9c179e\"],[0.4444444444444444,\"#bd3786\"],[0.5555555555555556,\"#d8576b\"],[0.6666666666666666,\"#ed7953\"],[0.7777777777777778,\"#fb9f3a\"],[0.8888888888888888,\"#fdca26\"],[1.0,\"#f0f921\"]],\"type\":\"heatmap\"}],\"heatmapgl\":[{\"colorbar\":{\"outlinewidth\":0,\"ticks\":\"\"},\"colorscale\":[[0.0,\"#0d0887\"],[0.1111111111111111,\"#46039f\"],[0.2222222222222222,\"#7201a8\"],[0.3333333333333333,\"#9c179e\"],[0.4444444444444444,\"#bd3786\"],[0.5555555555555556,\"#d8576b\"],[0.6666666666666666,\"#ed7953\"],[0.7777777777777778,\"#fb9f3a\"],[0.8888888888888888,\"#fdca26\"],[1.0,\"#f0f921\"]],\"type\":\"heatmapgl\"}],\"histogram\":[{\"marker\":{\"pattern\":{\"fillmode\":\"overlay\",\"size\":10,\"solidity\":0.2}},\"type\":\"histogram\"}],\"histogram2d\":[{\"colorbar\":{\"outlinewidth\":0,\"ticks\":\"\"},\"colorscale\":[[0.0,\"#0d0887\"],[0.1111111111111111,\"#46039f\"],[0.2222222222222222,\"#7201a8\"],[0.3333333333333333,\"#9c179e\"],[0.4444444444444444,\"#bd3786\"],[0.5555555555555556,\"#d8576b\"],[0.6666666666666666,\"#ed7953\"],[0.7777777777777778,\"#fb9f3a\"],[0.8888888888888888,\"#fdca26\"],[1.0,\"#f0f921\"]],\"type\":\"histogram2d\"}],\"histogram2dcontour\":[{\"colorbar\":{\"outlinewidth\":0,\"ticks\":\"\"},\"colorscale\":[[0.0,\"#0d0887\"],[0.1111111111111111,\"#46039f\"],[0.2222222222222222,\"#7201a8\"],[0.3333333333333333,\"#9c179e\"],[0.4444444444444444,\"#bd3786\"],[0.5555555555555556,\"#d8576b\"],[0.6666666666666666,\"#ed7953\"],[0.7777777777777778,\"#fb9f3a\"],[0.8888888888888888,\"#fdca26\"],[1.0,\"#f0f921\"]],\"type\":\"histogram2dcontour\"}],\"mesh3d\":[{\"colorbar\":{\"outlinewidth\":0,\"ticks\":\"\"},\"type\":\"mesh3d\"}],\"parcoords\":[{\"line\":{\"colorbar\":{\"outlinewidth\":0,\"ticks\":\"\"}},\"type\":\"parcoords\"}],\"pie\":[{\"automargin\":true,\"type\":\"pie\"}],\"scatter\":[{\"marker\":{\"colorbar\":{\"outlinewidth\":0,\"ticks\":\"\"}},\"type\":\"scatter\"}],\"scatter3d\":[{\"line\":{\"colorbar\":{\"outlinewidth\":0,\"ticks\":\"\"}},\"marker\":{\"colorbar\":{\"outlinewidth\":0,\"ticks\":\"\"}},\"type\":\"scatter3d\"}],\"scattercarpet\":[{\"marker\":{\"colorbar\":{\"outlinewidth\":0,\"ticks\":\"\"}},\"type\":\"scattercarpet\"}],\"scattergeo\":[{\"marker\":{\"colorbar\":{\"outlinewidth\":0,\"ticks\":\"\"}},\"type\":\"scattergeo\"}],\"scattergl\":[{\"marker\":{\"colorbar\":{\"outlinewidth\":0,\"ticks\":\"\"}},\"type\":\"scattergl\"}],\"scattermapbox\":[{\"marker\":{\"colorbar\":{\"outlinewidth\":0,\"ticks\":\"\"}},\"type\":\"scattermapbox\"}],\"scatterpolar\":[{\"marker\":{\"colorbar\":{\"outlinewidth\":0,\"ticks\":\"\"}},\"type\":\"scatterpolar\"}],\"scatterpolargl\":[{\"marker\":{\"colorbar\":{\"outlinewidth\":0,\"ticks\":\"\"}},\"type\":\"scatterpolargl\"}],\"scatterternary\":[{\"marker\":{\"colorbar\":{\"outlinewidth\":0,\"ticks\":\"\"}},\"type\":\"scatterternary\"}],\"surface\":[{\"colorbar\":{\"outlinewidth\":0,\"ticks\":\"\"},\"colorscale\":[[0.0,\"#0d0887\"],[0.1111111111111111,\"#46039f\"],[0.2222222222222222,\"#7201a8\"],[0.3333333333333333,\"#9c179e\"],[0.4444444444444444,\"#bd3786\"],[0.5555555555555556,\"#d8576b\"],[0.6666666666666666,\"#ed7953\"],[0.7777777777777778,\"#fb9f3a\"],[0.8888888888888888,\"#fdca26\"],[1.0,\"#f0f921\"]],\"type\":\"surface\"}],\"table\":[{\"cells\":{\"fill\":{\"color\":\"#EBF0F8\"},\"line\":{\"color\":\"white\"}},\"header\":{\"fill\":{\"color\":\"#C8D4E3\"},\"line\":{\"color\":\"white\"}},\"type\":\"table\"}]},\"layout\":{\"annotationdefaults\":{\"arrowcolor\":\"#2a3f5f\",\"arrowhead\":0,\"arrowwidth\":1},\"autotypenumbers\":\"strict\",\"coloraxis\":{\"colorbar\":{\"outlinewidth\":0,\"ticks\":\"\"}},\"colorscale\":{\"diverging\":[[0,\"#8e0152\"],[0.1,\"#c51b7d\"],[0.2,\"#de77ae\"],[0.3,\"#f1b6da\"],[0.4,\"#fde0ef\"],[0.5,\"#f7f7f7\"],[0.6,\"#e6f5d0\"],[0.7,\"#b8e186\"],[0.8,\"#7fbc41\"],[0.9,\"#4d9221\"],[1,\"#276419\"]],\"sequential\":[[0.0,\"#0d0887\"],[0.1111111111111111,\"#46039f\"],[0.2222222222222222,\"#7201a8\"],[0.3333333333333333,\"#9c179e\"],[0.4444444444444444,\"#bd3786\"],[0.5555555555555556,\"#d8576b\"],[0.6666666666666666,\"#ed7953\"],[0.7777777777777778,\"#fb9f3a\"],[0.8888888888888888,\"#fdca26\"],[1.0,\"#f0f921\"]],\"sequentialminus\":[[0.0,\"#0d0887\"],[0.1111111111111111,\"#46039f\"],[0.2222222222222222,\"#7201a8\"],[0.3333333333333333,\"#9c179e\"],[0.4444444444444444,\"#bd3786\"],[0.5555555555555556,\"#d8576b\"],[0.6666666666666666,\"#ed7953\"],[0.7777777777777778,\"#fb9f3a\"],[0.8888888888888888,\"#fdca26\"],[1.0,\"#f0f921\"]]},\"colorway\":[\"#636efa\",\"#EF553B\",\"#00cc96\",\"#ab63fa\",\"#FFA15A\",\"#19d3f3\",\"#FF6692\",\"#B6E880\",\"#FF97FF\",\"#FECB52\"],\"font\":{\"color\":\"#2a3f5f\"},\"geo\":{\"bgcolor\":\"white\",\"lakecolor\":\"white\",\"landcolor\":\"#E5ECF6\",\"showlakes\":true,\"showland\":true,\"subunitcolor\":\"white\"},\"hoverlabel\":{\"align\":\"left\"},\"hovermode\":\"closest\",\"mapbox\":{\"style\":\"light\"},\"paper_bgcolor\":\"white\",\"plot_bgcolor\":\"#E5ECF6\",\"polar\":{\"angularaxis\":{\"gridcolor\":\"white\",\"linecolor\":\"white\",\"ticks\":\"\"},\"bgcolor\":\"#E5ECF6\",\"radialaxis\":{\"gridcolor\":\"white\",\"linecolor\":\"white\",\"ticks\":\"\"}},\"scene\":{\"xaxis\":{\"backgroundcolor\":\"#E5ECF6\",\"gridcolor\":\"white\",\"gridwidth\":2,\"linecolor\":\"white\",\"showbackground\":true,\"ticks\":\"\",\"zerolinecolor\":\"white\"},\"yaxis\":{\"backgroundcolor\":\"#E5ECF6\",\"gridcolor\":\"white\",\"gridwidth\":2,\"linecolor\":\"white\",\"showbackground\":true,\"ticks\":\"\",\"zerolinecolor\":\"white\"},\"zaxis\":{\"backgroundcolor\":\"#E5ECF6\",\"gridcolor\":\"white\",\"gridwidth\":2,\"linecolor\":\"white\",\"showbackground\":true,\"ticks\":\"\",\"zerolinecolor\":\"white\"}},\"shapedefaults\":{\"line\":{\"color\":\"#2a3f5f\"}},\"ternary\":{\"aaxis\":{\"gridcolor\":\"white\",\"linecolor\":\"white\",\"ticks\":\"\"},\"baxis\":{\"gridcolor\":\"white\",\"linecolor\":\"white\",\"ticks\":\"\"},\"bgcolor\":\"#E5ECF6\",\"caxis\":{\"gridcolor\":\"white\",\"linecolor\":\"white\",\"ticks\":\"\"}},\"title\":{\"x\":0.05},\"xaxis\":{\"automargin\":true,\"gridcolor\":\"white\",\"linecolor\":\"white\",\"ticks\":\"\",\"title\":{\"standoff\":15},\"zerolinecolor\":\"white\",\"zerolinewidth\":2},\"yaxis\":{\"automargin\":true,\"gridcolor\":\"white\",\"linecolor\":\"white\",\"ticks\":\"\",\"title\":{\"standoff\":15},\"zerolinecolor\":\"white\",\"zerolinewidth\":2}}},\"xaxis\":{\"anchor\":\"y\",\"domain\":[0.0,1.0],\"title\":{\"text\":\"Company\"}},\"yaxis\":{\"anchor\":\"x\",\"domain\":[0.0,1.0],\"title\":{\"text\":\"year\"}},\"legend\":{\"tracegroupgap\":0},\"title\":{\"text\":\"Tempo de Empresa\"}},                        {\"responsive\": true}                    ).then(function(){\n",
              "                            \n",
              "var gd = document.getElementById('9f00539d-65bc-441e-9f57-e4a20f1df8b2');\n",
              "var x = new MutationObserver(function (mutations, observer) {{\n",
              "        var display = window.getComputedStyle(gd).display;\n",
              "        if (!display || display === 'none') {{\n",
              "            console.log([gd, 'removed!']);\n",
              "            Plotly.purge(gd);\n",
              "            observer.disconnect();\n",
              "        }}\n",
              "}});\n",
              "\n",
              "// Listen for the removal of the full notebook cells\n",
              "var notebookContainer = gd.closest('#notebook-container');\n",
              "if (notebookContainer) {{\n",
              "    x.observe(notebookContainer, {childList: true});\n",
              "}}\n",
              "\n",
              "// Listen for the clearing of the current output cell\n",
              "var outputEl = gd.closest('.output');\n",
              "if (outputEl) {{\n",
              "    x.observe(outputEl, {childList: true});\n",
              "}}\n",
              "\n",
              "                        })                };                            </script>        </div>\n",
              "</body>\n",
              "</html>"
            ]
          },
          "metadata": {}
        }
      ]
    },
    {
      "cell_type": "markdown",
      "source": [
        "Estas são algumas startups que se juntaram ao clube do unicórnio ano a ano. Você pode mover o cursor no gráfico e verá o ano em que se juntou ao clube do unicórnio."
      ],
      "metadata": {
        "id": "EmDNP8CNdr7m"
      }
    },
    {
      "cell_type": "code",
      "source": [
        ""
      ],
      "metadata": {
        "id": "JZpG2UWHdr_U"
      },
      "execution_count": null,
      "outputs": []
    },
    {
      "cell_type": "markdown",
      "source": [
        "Startup de unicórnio no país"
      ],
      "metadata": {
        "id": "on6mLQxDdsCL"
      }
    },
    {
      "cell_type": "code",
      "source": [
        "brasil = df[df['Country']== 'Brazil']\n",
        "brasil"
      ],
      "metadata": {
        "colab": {
          "base_uri": "https://localhost:8080/",
          "height": 520
        },
        "id": "7FhA-tBSdsE7",
        "outputId": "0e2dbb2a-8284-4d2a-e29c-ebf8413f7280"
      },
      "execution_count": null,
      "outputs": [
        {
          "output_type": "execute_result",
          "data": {
            "text/html": [
              "\n",
              "  <div id=\"df-b86c3638-5110-49b0-8542-c622235c985a\">\n",
              "    <div class=\"colab-df-container\">\n",
              "      <div>\n",
              "<style scoped>\n",
              "    .dataframe tbody tr th:only-of-type {\n",
              "        vertical-align: middle;\n",
              "    }\n",
              "\n",
              "    .dataframe tbody tr th {\n",
              "        vertical-align: top;\n",
              "    }\n",
              "\n",
              "    .dataframe thead th {\n",
              "        text-align: right;\n",
              "    }\n",
              "</style>\n",
              "<table border=\"1\" class=\"dataframe\">\n",
              "  <thead>\n",
              "    <tr style=\"text-align: right;\">\n",
              "      <th></th>\n",
              "      <th>Unnamed: 0</th>\n",
              "      <th>Company</th>\n",
              "      <th>Valuation</th>\n",
              "      <th>Date</th>\n",
              "      <th>Country</th>\n",
              "      <th>City</th>\n",
              "      <th>Industry</th>\n",
              "      <th>Investors</th>\n",
              "      <th>year</th>\n",
              "      <th>month</th>\n",
              "      <th>day</th>\n",
              "    </tr>\n",
              "  </thead>\n",
              "  <tbody>\n",
              "    <tr>\n",
              "      <th>8</th>\n",
              "      <td>8</td>\n",
              "      <td>Nubank</td>\n",
              "      <td>30.00</td>\n",
              "      <td>3/1/2018</td>\n",
              "      <td>Brazil</td>\n",
              "      <td>Sao Paulo</td>\n",
              "      <td>Fintech</td>\n",
              "      <td>0      Sequoia Capital China, SIG Asia Investm...</td>\n",
              "      <td>2018</td>\n",
              "      <td>1</td>\n",
              "      <td>3</td>\n",
              "    </tr>\n",
              "    <tr>\n",
              "      <th>111</th>\n",
              "      <td>111</td>\n",
              "      <td>QuintoAndar</td>\n",
              "      <td>5.10</td>\n",
              "      <td>9/9/2019</td>\n",
              "      <td>Brazil</td>\n",
              "      <td>Campinas</td>\n",
              "      <td>E-commerce &amp; direct-to-consumer</td>\n",
              "      <td>0      Sequoia Capital China, SIG Asia Investm...</td>\n",
              "      <td>2019</td>\n",
              "      <td>9</td>\n",
              "      <td>9</td>\n",
              "    </tr>\n",
              "    <tr>\n",
              "      <th>112</th>\n",
              "      <td>112</td>\n",
              "      <td>C6 Bank</td>\n",
              "      <td>5.05</td>\n",
              "      <td>12/2/2020</td>\n",
              "      <td>Brazil</td>\n",
              "      <td>Sao Paulo</td>\n",
              "      <td>Fintech</td>\n",
              "      <td>0      Sequoia Capital China, SIG Asia Investm...</td>\n",
              "      <td>2020</td>\n",
              "      <td>2</td>\n",
              "      <td>12</td>\n",
              "    </tr>\n",
              "    <tr>\n",
              "      <th>223</th>\n",
              "      <td>223</td>\n",
              "      <td>Nuvemshop</td>\n",
              "      <td>3.10</td>\n",
              "      <td>8/17/2021</td>\n",
              "      <td>Brazil</td>\n",
              "      <td>Sao Paulo</td>\n",
              "      <td>E-commerce &amp; direct-to-consumer</td>\n",
              "      <td>0      Sequoia Capital China, SIG Asia Investm...</td>\n",
              "      <td>2021</td>\n",
              "      <td>17</td>\n",
              "      <td>8</td>\n",
              "    </tr>\n",
              "    <tr>\n",
              "      <th>233</th>\n",
              "      <td>233</td>\n",
              "      <td>Wildlife Studios</td>\n",
              "      <td>3.00</td>\n",
              "      <td>12/5/2019</td>\n",
              "      <td>Brazil</td>\n",
              "      <td>Sao Paulo</td>\n",
              "      <td>Other</td>\n",
              "      <td>0      Sequoia Capital China, SIG Asia Investm...</td>\n",
              "      <td>2019</td>\n",
              "      <td>5</td>\n",
              "      <td>12</td>\n",
              "    </tr>\n",
              "    <tr>\n",
              "      <th>264</th>\n",
              "      <td>264</td>\n",
              "      <td>Loft</td>\n",
              "      <td>2.90</td>\n",
              "      <td>1/3/2020</td>\n",
              "      <td>Brazil</td>\n",
              "      <td>Sao Paulo</td>\n",
              "      <td>E-commerce &amp; direct-to-consumer</td>\n",
              "      <td>0      Sequoia Capital China, SIG Asia Investm...</td>\n",
              "      <td>2020</td>\n",
              "      <td>3</td>\n",
              "      <td>1</td>\n",
              "    </tr>\n",
              "    <tr>\n",
              "      <th>338</th>\n",
              "      <td>338</td>\n",
              "      <td>1</td>\n",
              "      <td>2.15</td>\n",
              "      <td>9/8/2021</td>\n",
              "      <td>Brazil</td>\n",
              "      <td>Sao Paulo</td>\n",
              "      <td>Fintech</td>\n",
              "      <td>0      Sequoia Capital China, SIG Asia Investm...</td>\n",
              "      <td>2021</td>\n",
              "      <td>8</td>\n",
              "      <td>9</td>\n",
              "    </tr>\n",
              "    <tr>\n",
              "      <th>385</th>\n",
              "      <td>385</td>\n",
              "      <td>Loggi</td>\n",
              "      <td>2.00</td>\n",
              "      <td>6/5/2019</td>\n",
              "      <td>Brazil</td>\n",
              "      <td>Sao Paulo</td>\n",
              "      <td>Supply chain, logistics, &amp; delivery</td>\n",
              "      <td>0      Sequoia Capital China, SIG Asia Investm...</td>\n",
              "      <td>2019</td>\n",
              "      <td>5</td>\n",
              "      <td>6</td>\n",
              "    </tr>\n",
              "    <tr>\n",
              "      <th>430</th>\n",
              "      <td>430</td>\n",
              "      <td>Creditas</td>\n",
              "      <td>1.75</td>\n",
              "      <td>12/18/2020</td>\n",
              "      <td>Brazil</td>\n",
              "      <td>Sao Paulo</td>\n",
              "      <td>Fintech</td>\n",
              "      <td>0      Sequoia Capital China, SIG Asia Investm...</td>\n",
              "      <td>2020</td>\n",
              "      <td>18</td>\n",
              "      <td>12</td>\n",
              "    </tr>\n",
              "    <tr>\n",
              "      <th>744</th>\n",
              "      <td>744</td>\n",
              "      <td>Movile</td>\n",
              "      <td>1.00</td>\n",
              "      <td>7/12/2018</td>\n",
              "      <td>Brazil</td>\n",
              "      <td>Sao Paulo</td>\n",
              "      <td>Mobile &amp; telecommunications</td>\n",
              "      <td>0      Sequoia Capital China, SIG Asia Investm...</td>\n",
              "      <td>2018</td>\n",
              "      <td>12</td>\n",
              "      <td>7</td>\n",
              "    </tr>\n",
              "    <tr>\n",
              "      <th>758</th>\n",
              "      <td>758</td>\n",
              "      <td>iFood</td>\n",
              "      <td>1.00</td>\n",
              "      <td>11/13/2018</td>\n",
              "      <td>Brazil</td>\n",
              "      <td>Osasco</td>\n",
              "      <td>Supply chain, logistics, &amp; delivery</td>\n",
              "      <td>0      Sequoia Capital China, SIG Asia Investm...</td>\n",
              "      <td>2018</td>\n",
              "      <td>13</td>\n",
              "      <td>11</td>\n",
              "    </tr>\n",
              "    <tr>\n",
              "      <th>776</th>\n",
              "      <td>776</td>\n",
              "      <td>EBANX</td>\n",
              "      <td>1.00</td>\n",
              "      <td>10/16/2019</td>\n",
              "      <td>Brazil</td>\n",
              "      <td>Curitiba</td>\n",
              "      <td>Fintech</td>\n",
              "      <td>0      Sequoia Capital China, SIG Asia Investm...</td>\n",
              "      <td>2019</td>\n",
              "      <td>16</td>\n",
              "      <td>10</td>\n",
              "    </tr>\n",
              "    <tr>\n",
              "      <th>798</th>\n",
              "      <td>798</td>\n",
              "      <td>MadeiraMadeira</td>\n",
              "      <td>1.00</td>\n",
              "      <td>1/7/2021</td>\n",
              "      <td>Brazil</td>\n",
              "      <td>Parana</td>\n",
              "      <td>E-commerce &amp; direct-to-consumer</td>\n",
              "      <td>0      Sequoia Capital China, SIG Asia Investm...</td>\n",
              "      <td>2021</td>\n",
              "      <td>7</td>\n",
              "      <td>1</td>\n",
              "    </tr>\n",
              "    <tr>\n",
              "      <th>873</th>\n",
              "      <td>873</td>\n",
              "      <td>Unico</td>\n",
              "      <td>1.00</td>\n",
              "      <td>8/3/2021</td>\n",
              "      <td>Brazil</td>\n",
              "      <td>Sao Paulo</td>\n",
              "      <td>Artificial intelligence</td>\n",
              "      <td>0      Sequoia Capital China, SIG Asia Investm...</td>\n",
              "      <td>2021</td>\n",
              "      <td>3</td>\n",
              "      <td>8</td>\n",
              "    </tr>\n",
              "    <tr>\n",
              "      <th>908</th>\n",
              "      <td>908</td>\n",
              "      <td>CargoX</td>\n",
              "      <td>1.00</td>\n",
              "      <td>10/21/2021</td>\n",
              "      <td>Brazil</td>\n",
              "      <td>Sao Paulo</td>\n",
              "      <td>Supply chain, logistics, &amp; delivery</td>\n",
              "      <td>0      Sequoia Capital China, SIG Asia Investm...</td>\n",
              "      <td>2021</td>\n",
              "      <td>21</td>\n",
              "      <td>10</td>\n",
              "    </tr>\n",
              "  </tbody>\n",
              "</table>\n",
              "</div>\n",
              "      <button class=\"colab-df-convert\" onclick=\"convertToInteractive('df-b86c3638-5110-49b0-8542-c622235c985a')\"\n",
              "              title=\"Convert this dataframe to an interactive table.\"\n",
              "              style=\"display:none;\">\n",
              "        \n",
              "  <svg xmlns=\"http://www.w3.org/2000/svg\" height=\"24px\"viewBox=\"0 0 24 24\"\n",
              "       width=\"24px\">\n",
              "    <path d=\"M0 0h24v24H0V0z\" fill=\"none\"/>\n",
              "    <path d=\"M18.56 5.44l.94 2.06.94-2.06 2.06-.94-2.06-.94-.94-2.06-.94 2.06-2.06.94zm-11 1L8.5 8.5l.94-2.06 2.06-.94-2.06-.94L8.5 2.5l-.94 2.06-2.06.94zm10 10l.94 2.06.94-2.06 2.06-.94-2.06-.94-.94-2.06-.94 2.06-2.06.94z\"/><path d=\"M17.41 7.96l-1.37-1.37c-.4-.4-.92-.59-1.43-.59-.52 0-1.04.2-1.43.59L10.3 9.45l-7.72 7.72c-.78.78-.78 2.05 0 2.83L4 21.41c.39.39.9.59 1.41.59.51 0 1.02-.2 1.41-.59l7.78-7.78 2.81-2.81c.8-.78.8-2.07 0-2.86zM5.41 20L4 18.59l7.72-7.72 1.47 1.35L5.41 20z\"/>\n",
              "  </svg>\n",
              "      </button>\n",
              "      \n",
              "  <style>\n",
              "    .colab-df-container {\n",
              "      display:flex;\n",
              "      flex-wrap:wrap;\n",
              "      gap: 12px;\n",
              "    }\n",
              "\n",
              "    .colab-df-convert {\n",
              "      background-color: #E8F0FE;\n",
              "      border: none;\n",
              "      border-radius: 50%;\n",
              "      cursor: pointer;\n",
              "      display: none;\n",
              "      fill: #1967D2;\n",
              "      height: 32px;\n",
              "      padding: 0 0 0 0;\n",
              "      width: 32px;\n",
              "    }\n",
              "\n",
              "    .colab-df-convert:hover {\n",
              "      background-color: #E2EBFA;\n",
              "      box-shadow: 0px 1px 2px rgba(60, 64, 67, 0.3), 0px 1px 3px 1px rgba(60, 64, 67, 0.15);\n",
              "      fill: #174EA6;\n",
              "    }\n",
              "\n",
              "    [theme=dark] .colab-df-convert {\n",
              "      background-color: #3B4455;\n",
              "      fill: #D2E3FC;\n",
              "    }\n",
              "\n",
              "    [theme=dark] .colab-df-convert:hover {\n",
              "      background-color: #434B5C;\n",
              "      box-shadow: 0px 1px 3px 1px rgba(0, 0, 0, 0.15);\n",
              "      filter: drop-shadow(0px 1px 2px rgba(0, 0, 0, 0.3));\n",
              "      fill: #FFFFFF;\n",
              "    }\n",
              "  </style>\n",
              "\n",
              "      <script>\n",
              "        const buttonEl =\n",
              "          document.querySelector('#df-b86c3638-5110-49b0-8542-c622235c985a button.colab-df-convert');\n",
              "        buttonEl.style.display =\n",
              "          google.colab.kernel.accessAllowed ? 'block' : 'none';\n",
              "\n",
              "        async function convertToInteractive(key) {\n",
              "          const element = document.querySelector('#df-b86c3638-5110-49b0-8542-c622235c985a');\n",
              "          const dataTable =\n",
              "            await google.colab.kernel.invokeFunction('convertToInteractive',\n",
              "                                                     [key], {});\n",
              "          if (!dataTable) return;\n",
              "\n",
              "          const docLinkHtml = 'Like what you see? Visit the ' +\n",
              "            '<a target=\"_blank\" href=https://colab.research.google.com/notebooks/data_table.ipynb>data table notebook</a>'\n",
              "            + ' to learn more about interactive tables.';\n",
              "          element.innerHTML = '';\n",
              "          dataTable['output_type'] = 'display_data';\n",
              "          await google.colab.output.renderOutput(dataTable, element);\n",
              "          const docLink = document.createElement('div');\n",
              "          docLink.innerHTML = docLinkHtml;\n",
              "          element.appendChild(docLink);\n",
              "        }\n",
              "      </script>\n",
              "    </div>\n",
              "  </div>\n",
              "  "
            ],
            "text/plain": [
              "     Unnamed: 0           Company  Valuation  ...  year month day\n",
              "8             8            Nubank      30.00  ...  2018     1   3\n",
              "111         111       QuintoAndar       5.10  ...  2019     9   9\n",
              "112         112           C6 Bank       5.05  ...  2020     2  12\n",
              "223         223         Nuvemshop       3.10  ...  2021    17   8\n",
              "233         233  Wildlife Studios       3.00  ...  2019     5  12\n",
              "264         264              Loft       2.90  ...  2020     3   1\n",
              "338         338                 1       2.15  ...  2021     8   9\n",
              "385         385             Loggi       2.00  ...  2019     5   6\n",
              "430         430          Creditas       1.75  ...  2020    18  12\n",
              "744         744            Movile       1.00  ...  2018    12   7\n",
              "758         758             iFood       1.00  ...  2018    13  11\n",
              "776         776             EBANX       1.00  ...  2019    16  10\n",
              "798         798    MadeiraMadeira       1.00  ...  2021     7   1\n",
              "873         873             Unico       1.00  ...  2021     3   8\n",
              "908         908            CargoX       1.00  ...  2021    21  10\n",
              "\n",
              "[15 rows x 11 columns]"
            ]
          },
          "metadata": {},
          "execution_count": 21
        }
      ]
    },
    {
      "cell_type": "code",
      "source": [
        ""
      ],
      "metadata": {
        "id": "NYSZNE0NdsH9"
      },
      "execution_count": null,
      "outputs": []
    },
    {
      "cell_type": "markdown",
      "source": [
        "Organizando a empresa mais valiosa no mercado "
      ],
      "metadata": {
        "id": "CpBWjDL3fOVU"
      }
    },
    {
      "cell_type": "code",
      "source": [
        "avaliacao_da_empresa = df.sort_values(by=\"Valuation\", ascending=False)\n",
        "avaliacao_da_empresa.head(10)"
      ],
      "metadata": {
        "colab": {
          "base_uri": "https://localhost:8080/",
          "height": 363
        },
        "id": "pnx63leufOZY",
        "outputId": "1ecb2a76-3486-4fe2-a5f8-617051986131"
      },
      "execution_count": null,
      "outputs": [
        {
          "output_type": "execute_result",
          "data": {
            "text/html": [
              "\n",
              "  <div id=\"df-12dbc8c4-6553-494c-967f-9be87a27ba82\">\n",
              "    <div class=\"colab-df-container\">\n",
              "      <div>\n",
              "<style scoped>\n",
              "    .dataframe tbody tr th:only-of-type {\n",
              "        vertical-align: middle;\n",
              "    }\n",
              "\n",
              "    .dataframe tbody tr th {\n",
              "        vertical-align: top;\n",
              "    }\n",
              "\n",
              "    .dataframe thead th {\n",
              "        text-align: right;\n",
              "    }\n",
              "</style>\n",
              "<table border=\"1\" class=\"dataframe\">\n",
              "  <thead>\n",
              "    <tr style=\"text-align: right;\">\n",
              "      <th></th>\n",
              "      <th>Unnamed: 0</th>\n",
              "      <th>Company</th>\n",
              "      <th>Valuation</th>\n",
              "      <th>Date</th>\n",
              "      <th>Country</th>\n",
              "      <th>City</th>\n",
              "      <th>Industry</th>\n",
              "      <th>Investors</th>\n",
              "      <th>year</th>\n",
              "      <th>month</th>\n",
              "      <th>day</th>\n",
              "    </tr>\n",
              "  </thead>\n",
              "  <tbody>\n",
              "    <tr>\n",
              "      <th>0</th>\n",
              "      <td>0</td>\n",
              "      <td>Bytedance</td>\n",
              "      <td>140.0</td>\n",
              "      <td>4/7/2017</td>\n",
              "      <td>China</td>\n",
              "      <td>Beijing</td>\n",
              "      <td>Artificial intelligence</td>\n",
              "      <td>0      Sequoia Capital China, SIG Asia Investm...</td>\n",
              "      <td>2017</td>\n",
              "      <td>7</td>\n",
              "      <td>4</td>\n",
              "    </tr>\n",
              "    <tr>\n",
              "      <th>1</th>\n",
              "      <td>1</td>\n",
              "      <td>SpaceX</td>\n",
              "      <td>100.3</td>\n",
              "      <td>12/1/2012</td>\n",
              "      <td>United States</td>\n",
              "      <td>Hawthorne</td>\n",
              "      <td>Other</td>\n",
              "      <td>0      Sequoia Capital China, SIG Asia Investm...</td>\n",
              "      <td>2012</td>\n",
              "      <td>1</td>\n",
              "      <td>12</td>\n",
              "    </tr>\n",
              "    <tr>\n",
              "      <th>2</th>\n",
              "      <td>2</td>\n",
              "      <td>Stripe</td>\n",
              "      <td>95.0</td>\n",
              "      <td>1/23/2014</td>\n",
              "      <td>United States</td>\n",
              "      <td>San Francisco</td>\n",
              "      <td>Fintech</td>\n",
              "      <td>0      Sequoia Capital China, SIG Asia Investm...</td>\n",
              "      <td>2014</td>\n",
              "      <td>23</td>\n",
              "      <td>1</td>\n",
              "    </tr>\n",
              "    <tr>\n",
              "      <th>3</th>\n",
              "      <td>3</td>\n",
              "      <td>Klarna</td>\n",
              "      <td>45.6</td>\n",
              "      <td>12/12/2011</td>\n",
              "      <td>Sweden</td>\n",
              "      <td>Stockholm</td>\n",
              "      <td>Fintech</td>\n",
              "      <td>0      Sequoia Capital China, SIG Asia Investm...</td>\n",
              "      <td>2011</td>\n",
              "      <td>12</td>\n",
              "      <td>12</td>\n",
              "    </tr>\n",
              "    <tr>\n",
              "      <th>4</th>\n",
              "      <td>4</td>\n",
              "      <td>Canva</td>\n",
              "      <td>40.0</td>\n",
              "      <td>1/8/2018</td>\n",
              "      <td>Australia</td>\n",
              "      <td>Surry Hills</td>\n",
              "      <td>Internet software &amp; services</td>\n",
              "      <td>0      Sequoia Capital China, SIG Asia Investm...</td>\n",
              "      <td>2018</td>\n",
              "      <td>8</td>\n",
              "      <td>1</td>\n",
              "    </tr>\n",
              "    <tr>\n",
              "      <th>5</th>\n",
              "      <td>5</td>\n",
              "      <td>Instacart</td>\n",
              "      <td>39.0</td>\n",
              "      <td>12/30/2014</td>\n",
              "      <td>United States</td>\n",
              "      <td>San Francisco</td>\n",
              "      <td>Supply chain, logistics, &amp; delivery</td>\n",
              "      <td>0      Sequoia Capital China, SIG Asia Investm...</td>\n",
              "      <td>2014</td>\n",
              "      <td>30</td>\n",
              "      <td>12</td>\n",
              "    </tr>\n",
              "    <tr>\n",
              "      <th>6</th>\n",
              "      <td>6</td>\n",
              "      <td>Databricks</td>\n",
              "      <td>38.0</td>\n",
              "      <td>2/5/2019</td>\n",
              "      <td>United States</td>\n",
              "      <td>San Francisco</td>\n",
              "      <td>Data management &amp; analytics</td>\n",
              "      <td>0      Sequoia Capital China, SIG Asia Investm...</td>\n",
              "      <td>2019</td>\n",
              "      <td>5</td>\n",
              "      <td>2</td>\n",
              "    </tr>\n",
              "    <tr>\n",
              "      <th>7</th>\n",
              "      <td>7</td>\n",
              "      <td>Revolut</td>\n",
              "      <td>33.0</td>\n",
              "      <td>4/26/2018</td>\n",
              "      <td>United Kingdom</td>\n",
              "      <td>London</td>\n",
              "      <td>Fintech</td>\n",
              "      <td>0      Sequoia Capital China, SIG Asia Investm...</td>\n",
              "      <td>2018</td>\n",
              "      <td>26</td>\n",
              "      <td>4</td>\n",
              "    </tr>\n",
              "    <tr>\n",
              "      <th>8</th>\n",
              "      <td>8</td>\n",
              "      <td>Nubank</td>\n",
              "      <td>30.0</td>\n",
              "      <td>3/1/2018</td>\n",
              "      <td>Brazil</td>\n",
              "      <td>Sao Paulo</td>\n",
              "      <td>Fintech</td>\n",
              "      <td>0      Sequoia Capital China, SIG Asia Investm...</td>\n",
              "      <td>2018</td>\n",
              "      <td>1</td>\n",
              "      <td>3</td>\n",
              "    </tr>\n",
              "    <tr>\n",
              "      <th>9</th>\n",
              "      <td>9</td>\n",
              "      <td>Epic Games</td>\n",
              "      <td>28.7</td>\n",
              "      <td>10/26/2018</td>\n",
              "      <td>United States</td>\n",
              "      <td>Cary</td>\n",
              "      <td>Other</td>\n",
              "      <td>0      Sequoia Capital China, SIG Asia Investm...</td>\n",
              "      <td>2018</td>\n",
              "      <td>26</td>\n",
              "      <td>10</td>\n",
              "    </tr>\n",
              "  </tbody>\n",
              "</table>\n",
              "</div>\n",
              "      <button class=\"colab-df-convert\" onclick=\"convertToInteractive('df-12dbc8c4-6553-494c-967f-9be87a27ba82')\"\n",
              "              title=\"Convert this dataframe to an interactive table.\"\n",
              "              style=\"display:none;\">\n",
              "        \n",
              "  <svg xmlns=\"http://www.w3.org/2000/svg\" height=\"24px\"viewBox=\"0 0 24 24\"\n",
              "       width=\"24px\">\n",
              "    <path d=\"M0 0h24v24H0V0z\" fill=\"none\"/>\n",
              "    <path d=\"M18.56 5.44l.94 2.06.94-2.06 2.06-.94-2.06-.94-.94-2.06-.94 2.06-2.06.94zm-11 1L8.5 8.5l.94-2.06 2.06-.94-2.06-.94L8.5 2.5l-.94 2.06-2.06.94zm10 10l.94 2.06.94-2.06 2.06-.94-2.06-.94-.94-2.06-.94 2.06-2.06.94z\"/><path d=\"M17.41 7.96l-1.37-1.37c-.4-.4-.92-.59-1.43-.59-.52 0-1.04.2-1.43.59L10.3 9.45l-7.72 7.72c-.78.78-.78 2.05 0 2.83L4 21.41c.39.39.9.59 1.41.59.51 0 1.02-.2 1.41-.59l7.78-7.78 2.81-2.81c.8-.78.8-2.07 0-2.86zM5.41 20L4 18.59l7.72-7.72 1.47 1.35L5.41 20z\"/>\n",
              "  </svg>\n",
              "      </button>\n",
              "      \n",
              "  <style>\n",
              "    .colab-df-container {\n",
              "      display:flex;\n",
              "      flex-wrap:wrap;\n",
              "      gap: 12px;\n",
              "    }\n",
              "\n",
              "    .colab-df-convert {\n",
              "      background-color: #E8F0FE;\n",
              "      border: none;\n",
              "      border-radius: 50%;\n",
              "      cursor: pointer;\n",
              "      display: none;\n",
              "      fill: #1967D2;\n",
              "      height: 32px;\n",
              "      padding: 0 0 0 0;\n",
              "      width: 32px;\n",
              "    }\n",
              "\n",
              "    .colab-df-convert:hover {\n",
              "      background-color: #E2EBFA;\n",
              "      box-shadow: 0px 1px 2px rgba(60, 64, 67, 0.3), 0px 1px 3px 1px rgba(60, 64, 67, 0.15);\n",
              "      fill: #174EA6;\n",
              "    }\n",
              "\n",
              "    [theme=dark] .colab-df-convert {\n",
              "      background-color: #3B4455;\n",
              "      fill: #D2E3FC;\n",
              "    }\n",
              "\n",
              "    [theme=dark] .colab-df-convert:hover {\n",
              "      background-color: #434B5C;\n",
              "      box-shadow: 0px 1px 3px 1px rgba(0, 0, 0, 0.15);\n",
              "      filter: drop-shadow(0px 1px 2px rgba(0, 0, 0, 0.3));\n",
              "      fill: #FFFFFF;\n",
              "    }\n",
              "  </style>\n",
              "\n",
              "      <script>\n",
              "        const buttonEl =\n",
              "          document.querySelector('#df-12dbc8c4-6553-494c-967f-9be87a27ba82 button.colab-df-convert');\n",
              "        buttonEl.style.display =\n",
              "          google.colab.kernel.accessAllowed ? 'block' : 'none';\n",
              "\n",
              "        async function convertToInteractive(key) {\n",
              "          const element = document.querySelector('#df-12dbc8c4-6553-494c-967f-9be87a27ba82');\n",
              "          const dataTable =\n",
              "            await google.colab.kernel.invokeFunction('convertToInteractive',\n",
              "                                                     [key], {});\n",
              "          if (!dataTable) return;\n",
              "\n",
              "          const docLinkHtml = 'Like what you see? Visit the ' +\n",
              "            '<a target=\"_blank\" href=https://colab.research.google.com/notebooks/data_table.ipynb>data table notebook</a>'\n",
              "            + ' to learn more about interactive tables.';\n",
              "          element.innerHTML = '';\n",
              "          dataTable['output_type'] = 'display_data';\n",
              "          await google.colab.output.renderOutput(dataTable, element);\n",
              "          const docLink = document.createElement('div');\n",
              "          docLink.innerHTML = docLinkHtml;\n",
              "          element.appendChild(docLink);\n",
              "        }\n",
              "      </script>\n",
              "    </div>\n",
              "  </div>\n",
              "  "
            ],
            "text/plain": [
              "   Unnamed: 0     Company  Valuation  ...  year month day\n",
              "0           0   Bytedance      140.0  ...  2017     7   4\n",
              "1           1      SpaceX      100.3  ...  2012     1  12\n",
              "2           2      Stripe       95.0  ...  2014    23   1\n",
              "3           3      Klarna       45.6  ...  2011    12  12\n",
              "4           4       Canva       40.0  ...  2018     8   1\n",
              "5           5   Instacart       39.0  ...  2014    30  12\n",
              "6           6  Databricks       38.0  ...  2019     5   2\n",
              "7           7     Revolut       33.0  ...  2018    26   4\n",
              "8           8      Nubank       30.0  ...  2018     1   3\n",
              "9           9  Epic Games       28.7  ...  2018    26  10\n",
              "\n",
              "[10 rows x 11 columns]"
            ]
          },
          "metadata": {},
          "execution_count": 23
        }
      ]
    },
    {
      "cell_type": "markdown",
      "source": [
        "No conjunto de dados que temos, a Bytedance da China é a startup mais valorizada, com uma avaliação total de US$ 140 bilhões. \n",
        "\n",
        "\n",
        "A SpaceX é a segunda startup mais valorizada com uma avaliação de US$ 100 bilhões. SpaceX se juntou ao clube do unicórnio em 2012."
      ],
      "metadata": {
        "id": "1QwBiujCfWbP"
      }
    },
    {
      "cell_type": "code",
      "source": [
        ""
      ],
      "metadata": {
        "id": "4ZHcZ61FfWff"
      },
      "execution_count": null,
      "outputs": []
    },
    {
      "cell_type": "markdown",
      "source": [
        "Vou pesquisar uma empresa brasileira especifica no ramo de entregas."
      ],
      "metadata": {
        "id": "fLBdbvHPfWiz"
      }
    },
    {
      "cell_type": "code",
      "source": [
        "df[df['Company'] == 'iFood']"
      ],
      "metadata": {
        "colab": {
          "base_uri": "https://localhost:8080/",
          "height": 81
        },
        "id": "7r54XcJ_dsLb",
        "outputId": "afd2c0fe-6cfe-40db-cac1-c7e958beff9c"
      },
      "execution_count": null,
      "outputs": [
        {
          "output_type": "execute_result",
          "data": {
            "text/html": [
              "\n",
              "  <div id=\"df-ebc470ad-0e1e-4ae4-a18d-7ec85705997d\">\n",
              "    <div class=\"colab-df-container\">\n",
              "      <div>\n",
              "<style scoped>\n",
              "    .dataframe tbody tr th:only-of-type {\n",
              "        vertical-align: middle;\n",
              "    }\n",
              "\n",
              "    .dataframe tbody tr th {\n",
              "        vertical-align: top;\n",
              "    }\n",
              "\n",
              "    .dataframe thead th {\n",
              "        text-align: right;\n",
              "    }\n",
              "</style>\n",
              "<table border=\"1\" class=\"dataframe\">\n",
              "  <thead>\n",
              "    <tr style=\"text-align: right;\">\n",
              "      <th></th>\n",
              "      <th>Unnamed: 0</th>\n",
              "      <th>Company</th>\n",
              "      <th>Valuation</th>\n",
              "      <th>Date</th>\n",
              "      <th>Country</th>\n",
              "      <th>City</th>\n",
              "      <th>Industry</th>\n",
              "      <th>Investors</th>\n",
              "      <th>year</th>\n",
              "      <th>month</th>\n",
              "      <th>day</th>\n",
              "    </tr>\n",
              "  </thead>\n",
              "  <tbody>\n",
              "    <tr>\n",
              "      <th>758</th>\n",
              "      <td>758</td>\n",
              "      <td>iFood</td>\n",
              "      <td>1.0</td>\n",
              "      <td>11/13/2018</td>\n",
              "      <td>Brazil</td>\n",
              "      <td>Osasco</td>\n",
              "      <td>Supply chain, logistics, &amp; delivery</td>\n",
              "      <td>0      Sequoia Capital China, SIG Asia Investm...</td>\n",
              "      <td>2018</td>\n",
              "      <td>13</td>\n",
              "      <td>11</td>\n",
              "    </tr>\n",
              "  </tbody>\n",
              "</table>\n",
              "</div>\n",
              "      <button class=\"colab-df-convert\" onclick=\"convertToInteractive('df-ebc470ad-0e1e-4ae4-a18d-7ec85705997d')\"\n",
              "              title=\"Convert this dataframe to an interactive table.\"\n",
              "              style=\"display:none;\">\n",
              "        \n",
              "  <svg xmlns=\"http://www.w3.org/2000/svg\" height=\"24px\"viewBox=\"0 0 24 24\"\n",
              "       width=\"24px\">\n",
              "    <path d=\"M0 0h24v24H0V0z\" fill=\"none\"/>\n",
              "    <path d=\"M18.56 5.44l.94 2.06.94-2.06 2.06-.94-2.06-.94-.94-2.06-.94 2.06-2.06.94zm-11 1L8.5 8.5l.94-2.06 2.06-.94-2.06-.94L8.5 2.5l-.94 2.06-2.06.94zm10 10l.94 2.06.94-2.06 2.06-.94-2.06-.94-.94-2.06-.94 2.06-2.06.94z\"/><path d=\"M17.41 7.96l-1.37-1.37c-.4-.4-.92-.59-1.43-.59-.52 0-1.04.2-1.43.59L10.3 9.45l-7.72 7.72c-.78.78-.78 2.05 0 2.83L4 21.41c.39.39.9.59 1.41.59.51 0 1.02-.2 1.41-.59l7.78-7.78 2.81-2.81c.8-.78.8-2.07 0-2.86zM5.41 20L4 18.59l7.72-7.72 1.47 1.35L5.41 20z\"/>\n",
              "  </svg>\n",
              "      </button>\n",
              "      \n",
              "  <style>\n",
              "    .colab-df-container {\n",
              "      display:flex;\n",
              "      flex-wrap:wrap;\n",
              "      gap: 12px;\n",
              "    }\n",
              "\n",
              "    .colab-df-convert {\n",
              "      background-color: #E8F0FE;\n",
              "      border: none;\n",
              "      border-radius: 50%;\n",
              "      cursor: pointer;\n",
              "      display: none;\n",
              "      fill: #1967D2;\n",
              "      height: 32px;\n",
              "      padding: 0 0 0 0;\n",
              "      width: 32px;\n",
              "    }\n",
              "\n",
              "    .colab-df-convert:hover {\n",
              "      background-color: #E2EBFA;\n",
              "      box-shadow: 0px 1px 2px rgba(60, 64, 67, 0.3), 0px 1px 3px 1px rgba(60, 64, 67, 0.15);\n",
              "      fill: #174EA6;\n",
              "    }\n",
              "\n",
              "    [theme=dark] .colab-df-convert {\n",
              "      background-color: #3B4455;\n",
              "      fill: #D2E3FC;\n",
              "    }\n",
              "\n",
              "    [theme=dark] .colab-df-convert:hover {\n",
              "      background-color: #434B5C;\n",
              "      box-shadow: 0px 1px 3px 1px rgba(0, 0, 0, 0.15);\n",
              "      filter: drop-shadow(0px 1px 2px rgba(0, 0, 0, 0.3));\n",
              "      fill: #FFFFFF;\n",
              "    }\n",
              "  </style>\n",
              "\n",
              "      <script>\n",
              "        const buttonEl =\n",
              "          document.querySelector('#df-ebc470ad-0e1e-4ae4-a18d-7ec85705997d button.colab-df-convert');\n",
              "        buttonEl.style.display =\n",
              "          google.colab.kernel.accessAllowed ? 'block' : 'none';\n",
              "\n",
              "        async function convertToInteractive(key) {\n",
              "          const element = document.querySelector('#df-ebc470ad-0e1e-4ae4-a18d-7ec85705997d');\n",
              "          const dataTable =\n",
              "            await google.colab.kernel.invokeFunction('convertToInteractive',\n",
              "                                                     [key], {});\n",
              "          if (!dataTable) return;\n",
              "\n",
              "          const docLinkHtml = 'Like what you see? Visit the ' +\n",
              "            '<a target=\"_blank\" href=https://colab.research.google.com/notebooks/data_table.ipynb>data table notebook</a>'\n",
              "            + ' to learn more about interactive tables.';\n",
              "          element.innerHTML = '';\n",
              "          dataTable['output_type'] = 'display_data';\n",
              "          await google.colab.output.renderOutput(dataTable, element);\n",
              "          const docLink = document.createElement('div');\n",
              "          docLink.innerHTML = docLinkHtml;\n",
              "          element.appendChild(docLink);\n",
              "        }\n",
              "      </script>\n",
              "    </div>\n",
              "  </div>\n",
              "  "
            ],
            "text/plain": [
              "     Unnamed: 0 Company  Valuation  ...  year month day\n",
              "758         758   iFood        1.0  ...  2018    13  11\n",
              "\n",
              "[1 rows x 11 columns]"
            ]
          },
          "metadata": {},
          "execution_count": 25
        }
      ]
    },
    {
      "cell_type": "code",
      "source": [
        ""
      ],
      "metadata": {
        "id": "vIM-AEJtglYj"
      },
      "execution_count": null,
      "outputs": []
    },
    {
      "cell_type": "markdown",
      "source": [
        "A cidade com mais valorização da startup"
      ],
      "metadata": {
        "id": "C-8pZXBWiZIm"
      }
    },
    {
      "cell_type": "code",
      "source": [
        "x = df.groupby('City').sum().sort_values(by='Valuation', ascending=False).head(10)\n",
        "x"
      ],
      "metadata": {
        "colab": {
          "base_uri": "https://localhost:8080/",
          "height": 394
        },
        "id": "YtMXfdRgiZME",
        "outputId": "8ad98a5c-e17c-4ee7-9971-060e33cbb043"
      },
      "execution_count": null,
      "outputs": [
        {
          "output_type": "execute_result",
          "data": {
            "text/html": [
              "\n",
              "  <div id=\"df-7bba8792-02ab-4060-a112-b81ab62985ce\">\n",
              "    <div class=\"colab-df-container\">\n",
              "      <div>\n",
              "<style scoped>\n",
              "    .dataframe tbody tr th:only-of-type {\n",
              "        vertical-align: middle;\n",
              "    }\n",
              "\n",
              "    .dataframe tbody tr th {\n",
              "        vertical-align: top;\n",
              "    }\n",
              "\n",
              "    .dataframe thead th {\n",
              "        text-align: right;\n",
              "    }\n",
              "</style>\n",
              "<table border=\"1\" class=\"dataframe\">\n",
              "  <thead>\n",
              "    <tr style=\"text-align: right;\">\n",
              "      <th></th>\n",
              "      <th>Unnamed: 0</th>\n",
              "      <th>Valuation</th>\n",
              "      <th>year</th>\n",
              "      <th>month</th>\n",
              "      <th>day</th>\n",
              "    </tr>\n",
              "    <tr>\n",
              "      <th>City</th>\n",
              "      <th></th>\n",
              "      <th></th>\n",
              "      <th></th>\n",
              "      <th></th>\n",
              "      <th></th>\n",
              "    </tr>\n",
              "  </thead>\n",
              "  <tbody>\n",
              "    <tr>\n",
              "      <th>San Francisco</th>\n",
              "      <td>55236</td>\n",
              "      <td>602.12</td>\n",
              "      <td>270653</td>\n",
              "      <td>2152</td>\n",
              "      <td>895</td>\n",
              "    </tr>\n",
              "    <tr>\n",
              "      <th>Beijing</th>\n",
              "      <td>30472</td>\n",
              "      <td>289.57</td>\n",
              "      <td>125103</td>\n",
              "      <td>993</td>\n",
              "      <td>412</td>\n",
              "    </tr>\n",
              "    <tr>\n",
              "      <th>New York</th>\n",
              "      <td>42021</td>\n",
              "      <td>175.44</td>\n",
              "      <td>163652</td>\n",
              "      <td>1350</td>\n",
              "      <td>559</td>\n",
              "    </tr>\n",
              "    <tr>\n",
              "      <th>London</th>\n",
              "      <td>12432</td>\n",
              "      <td>126.38</td>\n",
              "      <td>56551</td>\n",
              "      <td>445</td>\n",
              "      <td>214</td>\n",
              "    </tr>\n",
              "    <tr>\n",
              "      <th>Shanghai</th>\n",
              "      <td>23143</td>\n",
              "      <td>115.45</td>\n",
              "      <td>90847</td>\n",
              "      <td>640</td>\n",
              "      <td>287</td>\n",
              "    </tr>\n",
              "    <tr>\n",
              "      <th>Hawthorne</th>\n",
              "      <td>1</td>\n",
              "      <td>100.30</td>\n",
              "      <td>2012</td>\n",
              "      <td>1</td>\n",
              "      <td>12</td>\n",
              "    </tr>\n",
              "    <tr>\n",
              "      <th>Bengaluru</th>\n",
              "      <td>12109</td>\n",
              "      <td>80.43</td>\n",
              "      <td>50496</td>\n",
              "      <td>358</td>\n",
              "      <td>205</td>\n",
              "    </tr>\n",
              "    <tr>\n",
              "      <th>Shenzhen</th>\n",
              "      <td>7838</td>\n",
              "      <td>69.02</td>\n",
              "      <td>36318</td>\n",
              "      <td>280</td>\n",
              "      <td>95</td>\n",
              "    </tr>\n",
              "    <tr>\n",
              "      <th>Stockholm</th>\n",
              "      <td>972</td>\n",
              "      <td>58.08</td>\n",
              "      <td>8072</td>\n",
              "      <td>62</td>\n",
              "      <td>25</td>\n",
              "    </tr>\n",
              "    <tr>\n",
              "      <th>Sao Paulo</th>\n",
              "      <td>4518</td>\n",
              "      <td>52.95</td>\n",
              "      <td>22218</td>\n",
              "      <td>95</td>\n",
              "      <td>88</td>\n",
              "    </tr>\n",
              "  </tbody>\n",
              "</table>\n",
              "</div>\n",
              "      <button class=\"colab-df-convert\" onclick=\"convertToInteractive('df-7bba8792-02ab-4060-a112-b81ab62985ce')\"\n",
              "              title=\"Convert this dataframe to an interactive table.\"\n",
              "              style=\"display:none;\">\n",
              "        \n",
              "  <svg xmlns=\"http://www.w3.org/2000/svg\" height=\"24px\"viewBox=\"0 0 24 24\"\n",
              "       width=\"24px\">\n",
              "    <path d=\"M0 0h24v24H0V0z\" fill=\"none\"/>\n",
              "    <path d=\"M18.56 5.44l.94 2.06.94-2.06 2.06-.94-2.06-.94-.94-2.06-.94 2.06-2.06.94zm-11 1L8.5 8.5l.94-2.06 2.06-.94-2.06-.94L8.5 2.5l-.94 2.06-2.06.94zm10 10l.94 2.06.94-2.06 2.06-.94-2.06-.94-.94-2.06-.94 2.06-2.06.94z\"/><path d=\"M17.41 7.96l-1.37-1.37c-.4-.4-.92-.59-1.43-.59-.52 0-1.04.2-1.43.59L10.3 9.45l-7.72 7.72c-.78.78-.78 2.05 0 2.83L4 21.41c.39.39.9.59 1.41.59.51 0 1.02-.2 1.41-.59l7.78-7.78 2.81-2.81c.8-.78.8-2.07 0-2.86zM5.41 20L4 18.59l7.72-7.72 1.47 1.35L5.41 20z\"/>\n",
              "  </svg>\n",
              "      </button>\n",
              "      \n",
              "  <style>\n",
              "    .colab-df-container {\n",
              "      display:flex;\n",
              "      flex-wrap:wrap;\n",
              "      gap: 12px;\n",
              "    }\n",
              "\n",
              "    .colab-df-convert {\n",
              "      background-color: #E8F0FE;\n",
              "      border: none;\n",
              "      border-radius: 50%;\n",
              "      cursor: pointer;\n",
              "      display: none;\n",
              "      fill: #1967D2;\n",
              "      height: 32px;\n",
              "      padding: 0 0 0 0;\n",
              "      width: 32px;\n",
              "    }\n",
              "\n",
              "    .colab-df-convert:hover {\n",
              "      background-color: #E2EBFA;\n",
              "      box-shadow: 0px 1px 2px rgba(60, 64, 67, 0.3), 0px 1px 3px 1px rgba(60, 64, 67, 0.15);\n",
              "      fill: #174EA6;\n",
              "    }\n",
              "\n",
              "    [theme=dark] .colab-df-convert {\n",
              "      background-color: #3B4455;\n",
              "      fill: #D2E3FC;\n",
              "    }\n",
              "\n",
              "    [theme=dark] .colab-df-convert:hover {\n",
              "      background-color: #434B5C;\n",
              "      box-shadow: 0px 1px 3px 1px rgba(0, 0, 0, 0.15);\n",
              "      filter: drop-shadow(0px 1px 2px rgba(0, 0, 0, 0.3));\n",
              "      fill: #FFFFFF;\n",
              "    }\n",
              "  </style>\n",
              "\n",
              "      <script>\n",
              "        const buttonEl =\n",
              "          document.querySelector('#df-7bba8792-02ab-4060-a112-b81ab62985ce button.colab-df-convert');\n",
              "        buttonEl.style.display =\n",
              "          google.colab.kernel.accessAllowed ? 'block' : 'none';\n",
              "\n",
              "        async function convertToInteractive(key) {\n",
              "          const element = document.querySelector('#df-7bba8792-02ab-4060-a112-b81ab62985ce');\n",
              "          const dataTable =\n",
              "            await google.colab.kernel.invokeFunction('convertToInteractive',\n",
              "                                                     [key], {});\n",
              "          if (!dataTable) return;\n",
              "\n",
              "          const docLinkHtml = 'Like what you see? Visit the ' +\n",
              "            '<a target=\"_blank\" href=https://colab.research.google.com/notebooks/data_table.ipynb>data table notebook</a>'\n",
              "            + ' to learn more about interactive tables.';\n",
              "          element.innerHTML = '';\n",
              "          dataTable['output_type'] = 'display_data';\n",
              "          await google.colab.output.renderOutput(dataTable, element);\n",
              "          const docLink = document.createElement('div');\n",
              "          docLink.innerHTML = docLinkHtml;\n",
              "          element.appendChild(docLink);\n",
              "        }\n",
              "      </script>\n",
              "    </div>\n",
              "  </div>\n",
              "  "
            ],
            "text/plain": [
              "               Unnamed: 0  Valuation    year  month  day\n",
              "City                                                    \n",
              "San Francisco       55236     602.12  270653   2152  895\n",
              "Beijing             30472     289.57  125103    993  412\n",
              "New York            42021     175.44  163652   1350  559\n",
              "London              12432     126.38   56551    445  214\n",
              "Shanghai            23143     115.45   90847    640  287\n",
              "Hawthorne               1     100.30    2012      1   12\n",
              "Bengaluru           12109      80.43   50496    358  205\n",
              "Shenzhen             7838      69.02   36318    280   95\n",
              "Stockholm             972      58.08    8072     62   25\n",
              "Sao Paulo            4518      52.95   22218     95   88"
            ]
          },
          "metadata": {},
          "execution_count": 27
        }
      ]
    },
    {
      "cell_type": "markdown",
      "source": [
        "Criando um grafíco:"
      ],
      "metadata": {
        "id": "OcZTWYr-iZPk"
      }
    },
    {
      "cell_type": "code",
      "source": [
        "x = x.reset_index()\n",
        "px.bar(x='City', y = 'Valuation', data_frame=x)"
      ],
      "metadata": {
        "colab": {
          "base_uri": "https://localhost:8080/",
          "height": 542
        },
        "id": "CMpVFMijiZSM",
        "outputId": "0dd3bfeb-4b80-4963-9c52-ba8673377eaf"
      },
      "execution_count": null,
      "outputs": [
        {
          "output_type": "display_data",
          "data": {
            "text/html": [
              "<html>\n",
              "<head><meta charset=\"utf-8\" /></head>\n",
              "<body>\n",
              "    <div>            <script src=\"https://cdnjs.cloudflare.com/ajax/libs/mathjax/2.7.5/MathJax.js?config=TeX-AMS-MML_SVG\"></script><script type=\"text/javascript\">if (window.MathJax) {MathJax.Hub.Config({SVG: {font: \"STIX-Web\"}});}</script>                <script type=\"text/javascript\">window.PlotlyConfig = {MathJaxConfig: 'local'};</script>\n",
              "        <script src=\"https://cdn.plot.ly/plotly-2.8.3.min.js\"></script>                <div id=\"07d3bdc6-2e1b-4a5f-8ec9-d51d59a769bf\" class=\"plotly-graph-div\" style=\"height:525px; width:100%;\"></div>            <script type=\"text/javascript\">                                    window.PLOTLYENV=window.PLOTLYENV || {};                                    if (document.getElementById(\"07d3bdc6-2e1b-4a5f-8ec9-d51d59a769bf\")) {                    Plotly.newPlot(                        \"07d3bdc6-2e1b-4a5f-8ec9-d51d59a769bf\",                        [{\"alignmentgroup\":\"True\",\"hovertemplate\":\"City=%{x}<br>Valuation=%{y}<extra></extra>\",\"legendgroup\":\"\",\"marker\":{\"color\":\"#636efa\",\"pattern\":{\"shape\":\"\"}},\"name\":\"\",\"offsetgroup\":\"\",\"orientation\":\"v\",\"showlegend\":false,\"textposition\":\"auto\",\"x\":[\"San Francisco\",\"Beijing\",\"New York\",\"London\",\"Shanghai\",\"Hawthorne\",\"Bengaluru\",\"Shenzhen\",\"Stockholm\",\"Sao Paulo\"],\"xaxis\":\"x\",\"y\":[602.12,289.57,175.44,126.38,115.45,100.3,80.43,69.02,58.08,52.95],\"yaxis\":\"y\",\"type\":\"bar\"}],                        {\"template\":{\"data\":{\"bar\":[{\"error_x\":{\"color\":\"#2a3f5f\"},\"error_y\":{\"color\":\"#2a3f5f\"},\"marker\":{\"line\":{\"color\":\"#E5ECF6\",\"width\":0.5},\"pattern\":{\"fillmode\":\"overlay\",\"size\":10,\"solidity\":0.2}},\"type\":\"bar\"}],\"barpolar\":[{\"marker\":{\"line\":{\"color\":\"#E5ECF6\",\"width\":0.5},\"pattern\":{\"fillmode\":\"overlay\",\"size\":10,\"solidity\":0.2}},\"type\":\"barpolar\"}],\"carpet\":[{\"aaxis\":{\"endlinecolor\":\"#2a3f5f\",\"gridcolor\":\"white\",\"linecolor\":\"white\",\"minorgridcolor\":\"white\",\"startlinecolor\":\"#2a3f5f\"},\"baxis\":{\"endlinecolor\":\"#2a3f5f\",\"gridcolor\":\"white\",\"linecolor\":\"white\",\"minorgridcolor\":\"white\",\"startlinecolor\":\"#2a3f5f\"},\"type\":\"carpet\"}],\"choropleth\":[{\"colorbar\":{\"outlinewidth\":0,\"ticks\":\"\"},\"type\":\"choropleth\"}],\"contour\":[{\"colorbar\":{\"outlinewidth\":0,\"ticks\":\"\"},\"colorscale\":[[0.0,\"#0d0887\"],[0.1111111111111111,\"#46039f\"],[0.2222222222222222,\"#7201a8\"],[0.3333333333333333,\"#9c179e\"],[0.4444444444444444,\"#bd3786\"],[0.5555555555555556,\"#d8576b\"],[0.6666666666666666,\"#ed7953\"],[0.7777777777777778,\"#fb9f3a\"],[0.8888888888888888,\"#fdca26\"],[1.0,\"#f0f921\"]],\"type\":\"contour\"}],\"contourcarpet\":[{\"colorbar\":{\"outlinewidth\":0,\"ticks\":\"\"},\"type\":\"contourcarpet\"}],\"heatmap\":[{\"colorbar\":{\"outlinewidth\":0,\"ticks\":\"\"},\"colorscale\":[[0.0,\"#0d0887\"],[0.1111111111111111,\"#46039f\"],[0.2222222222222222,\"#7201a8\"],[0.3333333333333333,\"#9c179e\"],[0.4444444444444444,\"#bd3786\"],[0.5555555555555556,\"#d8576b\"],[0.6666666666666666,\"#ed7953\"],[0.7777777777777778,\"#fb9f3a\"],[0.8888888888888888,\"#fdca26\"],[1.0,\"#f0f921\"]],\"type\":\"heatmap\"}],\"heatmapgl\":[{\"colorbar\":{\"outlinewidth\":0,\"ticks\":\"\"},\"colorscale\":[[0.0,\"#0d0887\"],[0.1111111111111111,\"#46039f\"],[0.2222222222222222,\"#7201a8\"],[0.3333333333333333,\"#9c179e\"],[0.4444444444444444,\"#bd3786\"],[0.5555555555555556,\"#d8576b\"],[0.6666666666666666,\"#ed7953\"],[0.7777777777777778,\"#fb9f3a\"],[0.8888888888888888,\"#fdca26\"],[1.0,\"#f0f921\"]],\"type\":\"heatmapgl\"}],\"histogram\":[{\"marker\":{\"pattern\":{\"fillmode\":\"overlay\",\"size\":10,\"solidity\":0.2}},\"type\":\"histogram\"}],\"histogram2d\":[{\"colorbar\":{\"outlinewidth\":0,\"ticks\":\"\"},\"colorscale\":[[0.0,\"#0d0887\"],[0.1111111111111111,\"#46039f\"],[0.2222222222222222,\"#7201a8\"],[0.3333333333333333,\"#9c179e\"],[0.4444444444444444,\"#bd3786\"],[0.5555555555555556,\"#d8576b\"],[0.6666666666666666,\"#ed7953\"],[0.7777777777777778,\"#fb9f3a\"],[0.8888888888888888,\"#fdca26\"],[1.0,\"#f0f921\"]],\"type\":\"histogram2d\"}],\"histogram2dcontour\":[{\"colorbar\":{\"outlinewidth\":0,\"ticks\":\"\"},\"colorscale\":[[0.0,\"#0d0887\"],[0.1111111111111111,\"#46039f\"],[0.2222222222222222,\"#7201a8\"],[0.3333333333333333,\"#9c179e\"],[0.4444444444444444,\"#bd3786\"],[0.5555555555555556,\"#d8576b\"],[0.6666666666666666,\"#ed7953\"],[0.7777777777777778,\"#fb9f3a\"],[0.8888888888888888,\"#fdca26\"],[1.0,\"#f0f921\"]],\"type\":\"histogram2dcontour\"}],\"mesh3d\":[{\"colorbar\":{\"outlinewidth\":0,\"ticks\":\"\"},\"type\":\"mesh3d\"}],\"parcoords\":[{\"line\":{\"colorbar\":{\"outlinewidth\":0,\"ticks\":\"\"}},\"type\":\"parcoords\"}],\"pie\":[{\"automargin\":true,\"type\":\"pie\"}],\"scatter\":[{\"marker\":{\"colorbar\":{\"outlinewidth\":0,\"ticks\":\"\"}},\"type\":\"scatter\"}],\"scatter3d\":[{\"line\":{\"colorbar\":{\"outlinewidth\":0,\"ticks\":\"\"}},\"marker\":{\"colorbar\":{\"outlinewidth\":0,\"ticks\":\"\"}},\"type\":\"scatter3d\"}],\"scattercarpet\":[{\"marker\":{\"colorbar\":{\"outlinewidth\":0,\"ticks\":\"\"}},\"type\":\"scattercarpet\"}],\"scattergeo\":[{\"marker\":{\"colorbar\":{\"outlinewidth\":0,\"ticks\":\"\"}},\"type\":\"scattergeo\"}],\"scattergl\":[{\"marker\":{\"colorbar\":{\"outlinewidth\":0,\"ticks\":\"\"}},\"type\":\"scattergl\"}],\"scattermapbox\":[{\"marker\":{\"colorbar\":{\"outlinewidth\":0,\"ticks\":\"\"}},\"type\":\"scattermapbox\"}],\"scatterpolar\":[{\"marker\":{\"colorbar\":{\"outlinewidth\":0,\"ticks\":\"\"}},\"type\":\"scatterpolar\"}],\"scatterpolargl\":[{\"marker\":{\"colorbar\":{\"outlinewidth\":0,\"ticks\":\"\"}},\"type\":\"scatterpolargl\"}],\"scatterternary\":[{\"marker\":{\"colorbar\":{\"outlinewidth\":0,\"ticks\":\"\"}},\"type\":\"scatterternary\"}],\"surface\":[{\"colorbar\":{\"outlinewidth\":0,\"ticks\":\"\"},\"colorscale\":[[0.0,\"#0d0887\"],[0.1111111111111111,\"#46039f\"],[0.2222222222222222,\"#7201a8\"],[0.3333333333333333,\"#9c179e\"],[0.4444444444444444,\"#bd3786\"],[0.5555555555555556,\"#d8576b\"],[0.6666666666666666,\"#ed7953\"],[0.7777777777777778,\"#fb9f3a\"],[0.8888888888888888,\"#fdca26\"],[1.0,\"#f0f921\"]],\"type\":\"surface\"}],\"table\":[{\"cells\":{\"fill\":{\"color\":\"#EBF0F8\"},\"line\":{\"color\":\"white\"}},\"header\":{\"fill\":{\"color\":\"#C8D4E3\"},\"line\":{\"color\":\"white\"}},\"type\":\"table\"}]},\"layout\":{\"annotationdefaults\":{\"arrowcolor\":\"#2a3f5f\",\"arrowhead\":0,\"arrowwidth\":1},\"autotypenumbers\":\"strict\",\"coloraxis\":{\"colorbar\":{\"outlinewidth\":0,\"ticks\":\"\"}},\"colorscale\":{\"diverging\":[[0,\"#8e0152\"],[0.1,\"#c51b7d\"],[0.2,\"#de77ae\"],[0.3,\"#f1b6da\"],[0.4,\"#fde0ef\"],[0.5,\"#f7f7f7\"],[0.6,\"#e6f5d0\"],[0.7,\"#b8e186\"],[0.8,\"#7fbc41\"],[0.9,\"#4d9221\"],[1,\"#276419\"]],\"sequential\":[[0.0,\"#0d0887\"],[0.1111111111111111,\"#46039f\"],[0.2222222222222222,\"#7201a8\"],[0.3333333333333333,\"#9c179e\"],[0.4444444444444444,\"#bd3786\"],[0.5555555555555556,\"#d8576b\"],[0.6666666666666666,\"#ed7953\"],[0.7777777777777778,\"#fb9f3a\"],[0.8888888888888888,\"#fdca26\"],[1.0,\"#f0f921\"]],\"sequentialminus\":[[0.0,\"#0d0887\"],[0.1111111111111111,\"#46039f\"],[0.2222222222222222,\"#7201a8\"],[0.3333333333333333,\"#9c179e\"],[0.4444444444444444,\"#bd3786\"],[0.5555555555555556,\"#d8576b\"],[0.6666666666666666,\"#ed7953\"],[0.7777777777777778,\"#fb9f3a\"],[0.8888888888888888,\"#fdca26\"],[1.0,\"#f0f921\"]]},\"colorway\":[\"#636efa\",\"#EF553B\",\"#00cc96\",\"#ab63fa\",\"#FFA15A\",\"#19d3f3\",\"#FF6692\",\"#B6E880\",\"#FF97FF\",\"#FECB52\"],\"font\":{\"color\":\"#2a3f5f\"},\"geo\":{\"bgcolor\":\"white\",\"lakecolor\":\"white\",\"landcolor\":\"#E5ECF6\",\"showlakes\":true,\"showland\":true,\"subunitcolor\":\"white\"},\"hoverlabel\":{\"align\":\"left\"},\"hovermode\":\"closest\",\"mapbox\":{\"style\":\"light\"},\"paper_bgcolor\":\"white\",\"plot_bgcolor\":\"#E5ECF6\",\"polar\":{\"angularaxis\":{\"gridcolor\":\"white\",\"linecolor\":\"white\",\"ticks\":\"\"},\"bgcolor\":\"#E5ECF6\",\"radialaxis\":{\"gridcolor\":\"white\",\"linecolor\":\"white\",\"ticks\":\"\"}},\"scene\":{\"xaxis\":{\"backgroundcolor\":\"#E5ECF6\",\"gridcolor\":\"white\",\"gridwidth\":2,\"linecolor\":\"white\",\"showbackground\":true,\"ticks\":\"\",\"zerolinecolor\":\"white\"},\"yaxis\":{\"backgroundcolor\":\"#E5ECF6\",\"gridcolor\":\"white\",\"gridwidth\":2,\"linecolor\":\"white\",\"showbackground\":true,\"ticks\":\"\",\"zerolinecolor\":\"white\"},\"zaxis\":{\"backgroundcolor\":\"#E5ECF6\",\"gridcolor\":\"white\",\"gridwidth\":2,\"linecolor\":\"white\",\"showbackground\":true,\"ticks\":\"\",\"zerolinecolor\":\"white\"}},\"shapedefaults\":{\"line\":{\"color\":\"#2a3f5f\"}},\"ternary\":{\"aaxis\":{\"gridcolor\":\"white\",\"linecolor\":\"white\",\"ticks\":\"\"},\"baxis\":{\"gridcolor\":\"white\",\"linecolor\":\"white\",\"ticks\":\"\"},\"bgcolor\":\"#E5ECF6\",\"caxis\":{\"gridcolor\":\"white\",\"linecolor\":\"white\",\"ticks\":\"\"}},\"title\":{\"x\":0.05},\"xaxis\":{\"automargin\":true,\"gridcolor\":\"white\",\"linecolor\":\"white\",\"ticks\":\"\",\"title\":{\"standoff\":15},\"zerolinecolor\":\"white\",\"zerolinewidth\":2},\"yaxis\":{\"automargin\":true,\"gridcolor\":\"white\",\"linecolor\":\"white\",\"ticks\":\"\",\"title\":{\"standoff\":15},\"zerolinecolor\":\"white\",\"zerolinewidth\":2}}},\"xaxis\":{\"anchor\":\"y\",\"domain\":[0.0,1.0],\"title\":{\"text\":\"City\"}},\"yaxis\":{\"anchor\":\"x\",\"domain\":[0.0,1.0],\"title\":{\"text\":\"Valuation\"}},\"legend\":{\"tracegroupgap\":0},\"margin\":{\"t\":60},\"barmode\":\"relative\"},                        {\"responsive\": true}                    ).then(function(){\n",
              "                            \n",
              "var gd = document.getElementById('07d3bdc6-2e1b-4a5f-8ec9-d51d59a769bf');\n",
              "var x = new MutationObserver(function (mutations, observer) {{\n",
              "        var display = window.getComputedStyle(gd).display;\n",
              "        if (!display || display === 'none') {{\n",
              "            console.log([gd, 'removed!']);\n",
              "            Plotly.purge(gd);\n",
              "            observer.disconnect();\n",
              "        }}\n",
              "}});\n",
              "\n",
              "// Listen for the removal of the full notebook cells\n",
              "var notebookContainer = gd.closest('#notebook-container');\n",
              "if (notebookContainer) {{\n",
              "    x.observe(notebookContainer, {childList: true});\n",
              "}}\n",
              "\n",
              "// Listen for the clearing of the current output cell\n",
              "var outputEl = gd.closest('.output');\n",
              "if (outputEl) {{\n",
              "    x.observe(outputEl, {childList: true});\n",
              "}}\n",
              "\n",
              "                        })                };                            </script>        </div>\n",
              "</body>\n",
              "</html>"
            ]
          },
          "metadata": {}
        }
      ]
    },
    {
      "cell_type": "markdown",
      "source": [
        "San Francisco lidera o gráfico com uma avaliação total de US$ 602 bilhões. \n",
        "\n",
        "São Francisco produziu o maior número de startups de unicórnios com uma avaliação total de mais de US$ 600 bilhões. \n",
        "\n",
        "A cidade de Bengaluru está na 7ª posição na última, com uma avaliação total de US$ 80,43 bilhões.\n",
        "\n",
        "São Paulo ficou na 10ª posição 52,95 Bilhões."
      ],
      "metadata": {
        "id": "4Lk2Rjf2iZVl"
      }
    },
    {
      "cell_type": "code",
      "source": [
        ""
      ],
      "metadata": {
        "id": "qPa0heKPiZYy"
      },
      "execution_count": null,
      "outputs": []
    },
    {
      "cell_type": "markdown",
      "source": [
        "As 15 principais cidades com mais startups de unicórnio"
      ],
      "metadata": {
        "id": "CThyIxtUiZcS"
      }
    },
    {
      "cell_type": "code",
      "source": [
        "df.City.value_counts().head(15)"
      ],
      "metadata": {
        "colab": {
          "base_uri": "https://localhost:8080/"
        },
        "id": "DrgQMW3jiZfV",
        "outputId": "edbe3114-709e-4d54-cc42-e46c4f3923c4"
      },
      "execution_count": null,
      "outputs": [
        {
          "output_type": "execute_result",
          "data": {
            "text/plain": [
              "San Francisco    134\n",
              "New York          81\n",
              "Beijing           62\n",
              "Shanghai          45\n",
              "London            28\n",
              "Bengaluru         25\n",
              "Shenzhen          18\n",
              "Berlin            16\n",
              "Paris             15\n",
              "Chicago           14\n",
              "Hangzhou          14\n",
              "Boston            14\n",
              "Tel Aviv          13\n",
              "Mountain View     13\n",
              "Palo Alto         11\n",
              "Name: City, dtype: int64"
            ]
          },
          "metadata": {},
          "execution_count": 30
        }
      ]
    },
    {
      "cell_type": "markdown",
      "source": [
        "Como esperado, a cidade de São Francisco tem o maior número de startups de unicórnio. A cidade de Bangalore tem 25. Nova York tem 81."
      ],
      "metadata": {
        "id": "F-cun69RjujX"
      }
    },
    {
      "cell_type": "code",
      "source": [
        ""
      ],
      "metadata": {
        "id": "KfBsHIxYjum6"
      },
      "execution_count": null,
      "outputs": []
    },
    {
      "cell_type": "markdown",
      "source": [
        "Nome da Empresa de uma cidade específica"
      ],
      "metadata": {
        "id": "Dq97ok5-jupq"
      }
    },
    {
      "cell_type": "code",
      "source": [
        "df[df.City=='Sao Paulo']['Company']"
      ],
      "metadata": {
        "colab": {
          "base_uri": "https://localhost:8080/"
        },
        "id": "Fdp7_euKjus7",
        "outputId": "7583d0b7-6940-4106-905b-65fafb796709"
      },
      "execution_count": null,
      "outputs": [
        {
          "output_type": "execute_result",
          "data": {
            "text/plain": [
              "8                Nubank\n",
              "112             C6 Bank\n",
              "223           Nuvemshop\n",
              "233    Wildlife Studios\n",
              "264                Loft\n",
              "338                   1\n",
              "385               Loggi\n",
              "430            Creditas\n",
              "744              Movile\n",
              "873               Unico\n",
              "908              CargoX\n",
              "Name: Company, dtype: object"
            ]
          },
          "metadata": {},
          "execution_count": 31
        }
      ]
    },
    {
      "cell_type": "markdown",
      "source": [
        "Esta é a lista de empresas startups de unicórnios para a cidade de São Paulo."
      ],
      "metadata": {
        "id": "pJ9wu2lJjuvq"
      }
    },
    {
      "cell_type": "code",
      "source": [
        ""
      ],
      "metadata": {
        "id": "VwIVzPGLjuyk"
      },
      "execution_count": null,
      "outputs": []
    },
    {
      "cell_type": "markdown",
      "source": [
        "Startups de unicórnio baseadas em países"
      ],
      "metadata": {
        "id": "XDfbIFJ_iZia"
      }
    },
    {
      "cell_type": "code",
      "source": [
        "df[df.Country=='Brazil'][['Company','Valuation','Industry','year']]"
      ],
      "metadata": {
        "colab": {
          "base_uri": "https://localhost:8080/",
          "height": 520
        },
        "id": "9aTzV6PMiZla",
        "outputId": "1aecfde5-1e43-41c2-9dc7-32a59f6af8a3"
      },
      "execution_count": null,
      "outputs": [
        {
          "output_type": "execute_result",
          "data": {
            "text/html": [
              "\n",
              "  <div id=\"df-958412d2-8c45-4e64-8f0e-418fab093a80\">\n",
              "    <div class=\"colab-df-container\">\n",
              "      <div>\n",
              "<style scoped>\n",
              "    .dataframe tbody tr th:only-of-type {\n",
              "        vertical-align: middle;\n",
              "    }\n",
              "\n",
              "    .dataframe tbody tr th {\n",
              "        vertical-align: top;\n",
              "    }\n",
              "\n",
              "    .dataframe thead th {\n",
              "        text-align: right;\n",
              "    }\n",
              "</style>\n",
              "<table border=\"1\" class=\"dataframe\">\n",
              "  <thead>\n",
              "    <tr style=\"text-align: right;\">\n",
              "      <th></th>\n",
              "      <th>Company</th>\n",
              "      <th>Valuation</th>\n",
              "      <th>Industry</th>\n",
              "      <th>year</th>\n",
              "    </tr>\n",
              "  </thead>\n",
              "  <tbody>\n",
              "    <tr>\n",
              "      <th>8</th>\n",
              "      <td>Nubank</td>\n",
              "      <td>30.00</td>\n",
              "      <td>Fintech</td>\n",
              "      <td>2018</td>\n",
              "    </tr>\n",
              "    <tr>\n",
              "      <th>111</th>\n",
              "      <td>QuintoAndar</td>\n",
              "      <td>5.10</td>\n",
              "      <td>E-commerce &amp; direct-to-consumer</td>\n",
              "      <td>2019</td>\n",
              "    </tr>\n",
              "    <tr>\n",
              "      <th>112</th>\n",
              "      <td>C6 Bank</td>\n",
              "      <td>5.05</td>\n",
              "      <td>Fintech</td>\n",
              "      <td>2020</td>\n",
              "    </tr>\n",
              "    <tr>\n",
              "      <th>223</th>\n",
              "      <td>Nuvemshop</td>\n",
              "      <td>3.10</td>\n",
              "      <td>E-commerce &amp; direct-to-consumer</td>\n",
              "      <td>2021</td>\n",
              "    </tr>\n",
              "    <tr>\n",
              "      <th>233</th>\n",
              "      <td>Wildlife Studios</td>\n",
              "      <td>3.00</td>\n",
              "      <td>Other</td>\n",
              "      <td>2019</td>\n",
              "    </tr>\n",
              "    <tr>\n",
              "      <th>264</th>\n",
              "      <td>Loft</td>\n",
              "      <td>2.90</td>\n",
              "      <td>E-commerce &amp; direct-to-consumer</td>\n",
              "      <td>2020</td>\n",
              "    </tr>\n",
              "    <tr>\n",
              "      <th>338</th>\n",
              "      <td>1</td>\n",
              "      <td>2.15</td>\n",
              "      <td>Fintech</td>\n",
              "      <td>2021</td>\n",
              "    </tr>\n",
              "    <tr>\n",
              "      <th>385</th>\n",
              "      <td>Loggi</td>\n",
              "      <td>2.00</td>\n",
              "      <td>Supply chain, logistics, &amp; delivery</td>\n",
              "      <td>2019</td>\n",
              "    </tr>\n",
              "    <tr>\n",
              "      <th>430</th>\n",
              "      <td>Creditas</td>\n",
              "      <td>1.75</td>\n",
              "      <td>Fintech</td>\n",
              "      <td>2020</td>\n",
              "    </tr>\n",
              "    <tr>\n",
              "      <th>744</th>\n",
              "      <td>Movile</td>\n",
              "      <td>1.00</td>\n",
              "      <td>Mobile &amp; telecommunications</td>\n",
              "      <td>2018</td>\n",
              "    </tr>\n",
              "    <tr>\n",
              "      <th>758</th>\n",
              "      <td>iFood</td>\n",
              "      <td>1.00</td>\n",
              "      <td>Supply chain, logistics, &amp; delivery</td>\n",
              "      <td>2018</td>\n",
              "    </tr>\n",
              "    <tr>\n",
              "      <th>776</th>\n",
              "      <td>EBANX</td>\n",
              "      <td>1.00</td>\n",
              "      <td>Fintech</td>\n",
              "      <td>2019</td>\n",
              "    </tr>\n",
              "    <tr>\n",
              "      <th>798</th>\n",
              "      <td>MadeiraMadeira</td>\n",
              "      <td>1.00</td>\n",
              "      <td>E-commerce &amp; direct-to-consumer</td>\n",
              "      <td>2021</td>\n",
              "    </tr>\n",
              "    <tr>\n",
              "      <th>873</th>\n",
              "      <td>Unico</td>\n",
              "      <td>1.00</td>\n",
              "      <td>Artificial intelligence</td>\n",
              "      <td>2021</td>\n",
              "    </tr>\n",
              "    <tr>\n",
              "      <th>908</th>\n",
              "      <td>CargoX</td>\n",
              "      <td>1.00</td>\n",
              "      <td>Supply chain, logistics, &amp; delivery</td>\n",
              "      <td>2021</td>\n",
              "    </tr>\n",
              "  </tbody>\n",
              "</table>\n",
              "</div>\n",
              "      <button class=\"colab-df-convert\" onclick=\"convertToInteractive('df-958412d2-8c45-4e64-8f0e-418fab093a80')\"\n",
              "              title=\"Convert this dataframe to an interactive table.\"\n",
              "              style=\"display:none;\">\n",
              "        \n",
              "  <svg xmlns=\"http://www.w3.org/2000/svg\" height=\"24px\"viewBox=\"0 0 24 24\"\n",
              "       width=\"24px\">\n",
              "    <path d=\"M0 0h24v24H0V0z\" fill=\"none\"/>\n",
              "    <path d=\"M18.56 5.44l.94 2.06.94-2.06 2.06-.94-2.06-.94-.94-2.06-.94 2.06-2.06.94zm-11 1L8.5 8.5l.94-2.06 2.06-.94-2.06-.94L8.5 2.5l-.94 2.06-2.06.94zm10 10l.94 2.06.94-2.06 2.06-.94-2.06-.94-.94-2.06-.94 2.06-2.06.94z\"/><path d=\"M17.41 7.96l-1.37-1.37c-.4-.4-.92-.59-1.43-.59-.52 0-1.04.2-1.43.59L10.3 9.45l-7.72 7.72c-.78.78-.78 2.05 0 2.83L4 21.41c.39.39.9.59 1.41.59.51 0 1.02-.2 1.41-.59l7.78-7.78 2.81-2.81c.8-.78.8-2.07 0-2.86zM5.41 20L4 18.59l7.72-7.72 1.47 1.35L5.41 20z\"/>\n",
              "  </svg>\n",
              "      </button>\n",
              "      \n",
              "  <style>\n",
              "    .colab-df-container {\n",
              "      display:flex;\n",
              "      flex-wrap:wrap;\n",
              "      gap: 12px;\n",
              "    }\n",
              "\n",
              "    .colab-df-convert {\n",
              "      background-color: #E8F0FE;\n",
              "      border: none;\n",
              "      border-radius: 50%;\n",
              "      cursor: pointer;\n",
              "      display: none;\n",
              "      fill: #1967D2;\n",
              "      height: 32px;\n",
              "      padding: 0 0 0 0;\n",
              "      width: 32px;\n",
              "    }\n",
              "\n",
              "    .colab-df-convert:hover {\n",
              "      background-color: #E2EBFA;\n",
              "      box-shadow: 0px 1px 2px rgba(60, 64, 67, 0.3), 0px 1px 3px 1px rgba(60, 64, 67, 0.15);\n",
              "      fill: #174EA6;\n",
              "    }\n",
              "\n",
              "    [theme=dark] .colab-df-convert {\n",
              "      background-color: #3B4455;\n",
              "      fill: #D2E3FC;\n",
              "    }\n",
              "\n",
              "    [theme=dark] .colab-df-convert:hover {\n",
              "      background-color: #434B5C;\n",
              "      box-shadow: 0px 1px 3px 1px rgba(0, 0, 0, 0.15);\n",
              "      filter: drop-shadow(0px 1px 2px rgba(0, 0, 0, 0.3));\n",
              "      fill: #FFFFFF;\n",
              "    }\n",
              "  </style>\n",
              "\n",
              "      <script>\n",
              "        const buttonEl =\n",
              "          document.querySelector('#df-958412d2-8c45-4e64-8f0e-418fab093a80 button.colab-df-convert');\n",
              "        buttonEl.style.display =\n",
              "          google.colab.kernel.accessAllowed ? 'block' : 'none';\n",
              "\n",
              "        async function convertToInteractive(key) {\n",
              "          const element = document.querySelector('#df-958412d2-8c45-4e64-8f0e-418fab093a80');\n",
              "          const dataTable =\n",
              "            await google.colab.kernel.invokeFunction('convertToInteractive',\n",
              "                                                     [key], {});\n",
              "          if (!dataTable) return;\n",
              "\n",
              "          const docLinkHtml = 'Like what you see? Visit the ' +\n",
              "            '<a target=\"_blank\" href=https://colab.research.google.com/notebooks/data_table.ipynb>data table notebook</a>'\n",
              "            + ' to learn more about interactive tables.';\n",
              "          element.innerHTML = '';\n",
              "          dataTable['output_type'] = 'display_data';\n",
              "          await google.colab.output.renderOutput(dataTable, element);\n",
              "          const docLink = document.createElement('div');\n",
              "          docLink.innerHTML = docLinkHtml;\n",
              "          element.appendChild(docLink);\n",
              "        }\n",
              "      </script>\n",
              "    </div>\n",
              "  </div>\n",
              "  "
            ],
            "text/plain": [
              "              Company  Valuation                             Industry  year\n",
              "8              Nubank      30.00                              Fintech  2018\n",
              "111       QuintoAndar       5.10      E-commerce & direct-to-consumer  2019\n",
              "112           C6 Bank       5.05                              Fintech  2020\n",
              "223         Nuvemshop       3.10      E-commerce & direct-to-consumer  2021\n",
              "233  Wildlife Studios       3.00                                Other  2019\n",
              "264              Loft       2.90      E-commerce & direct-to-consumer  2020\n",
              "338                 1       2.15                              Fintech  2021\n",
              "385             Loggi       2.00  Supply chain, logistics, & delivery  2019\n",
              "430          Creditas       1.75                              Fintech  2020\n",
              "744            Movile       1.00          Mobile & telecommunications  2018\n",
              "758             iFood       1.00  Supply chain, logistics, & delivery  2018\n",
              "776             EBANX       1.00                              Fintech  2019\n",
              "798    MadeiraMadeira       1.00      E-commerce & direct-to-consumer  2021\n",
              "873             Unico       1.00              Artificial intelligence  2021\n",
              "908            CargoX       1.00  Supply chain, logistics, & delivery  2021"
            ]
          },
          "metadata": {},
          "execution_count": 32
        }
      ]
    },
    {
      "cell_type": "markdown",
      "source": [
        "Esta é a lista de startups de unicórnio da brasileira. A Nubank lidera o gráfico com uma avaliação de US$ 30 bilhões. Pertence à indústria Fintech.  \n",
        "\n",
        "Ele se junta à lista de unicórnios no ano de 2018. "
      ],
      "metadata": {
        "id": "vAuKC_cru5Kd"
      }
    },
    {
      "cell_type": "code",
      "source": [
        ""
      ],
      "metadata": {
        "id": "koQI5NAQu5bD"
      },
      "execution_count": null,
      "outputs": []
    },
    {
      "cell_type": "markdown",
      "source": [
        "Startups de unicórnio baseadas no setor"
      ],
      "metadata": {
        "id": "NMTP7sTEu5ec"
      }
    },
    {
      "cell_type": "markdown",
      "source": [
        "Aqui estamos encontrando o unicórnio das startups brasileira que pertence à indústria de fintech. A saída é:"
      ],
      "metadata": {
        "id": "sCmbSPYMv9Bh"
      }
    },
    {
      "cell_type": "code",
      "source": [
        "df[df.Country=='Brazil'][df[df.Country =='Brazil'].Industry =='Fintech']['Company']"
      ],
      "metadata": {
        "colab": {
          "base_uri": "https://localhost:8080/"
        },
        "id": "l-URfFcTu5h1",
        "outputId": "96bac245-97c2-448d-92f6-6c93f7f64fba"
      },
      "execution_count": null,
      "outputs": [
        {
          "output_type": "execute_result",
          "data": {
            "text/plain": [
              "8        Nubank\n",
              "112     C6 Bank\n",
              "338           1\n",
              "430    Creditas\n",
              "776       EBANX\n",
              "Name: Company, dtype: object"
            ]
          },
          "metadata": {},
          "execution_count": 33
        }
      ]
    },
    {
      "cell_type": "code",
      "source": [
        ""
      ],
      "metadata": {
        "id": "C2EHcEAcxlkZ"
      },
      "execution_count": null,
      "outputs": []
    },
    {
      "cell_type": "markdown",
      "source": [
        "Os 20 países baseados em startups mais valorizados"
      ],
      "metadata": {
        "id": "v0_dnwWDv9FL"
      }
    },
    {
      "cell_type": "code",
      "source": [
        "y = df.groupby('Country').sum().sort_values(by='Valuation', ascending= False).head(20)\n",
        "y"
      ],
      "metadata": {
        "colab": {
          "base_uri": "https://localhost:8080/",
          "height": 708
        },
        "id": "mU7vMrJMv9I9",
        "outputId": "c78552a3-c08c-448e-dbba-f50bd48e66f4"
      },
      "execution_count": null,
      "outputs": [
        {
          "output_type": "execute_result",
          "data": {
            "text/html": [
              "\n",
              "  <div id=\"df-4664f574-8a18-4ba3-9c0b-03aa85332dd9\">\n",
              "    <div class=\"colab-df-container\">\n",
              "      <div>\n",
              "<style scoped>\n",
              "    .dataframe tbody tr th:only-of-type {\n",
              "        vertical-align: middle;\n",
              "    }\n",
              "\n",
              "    .dataframe tbody tr th {\n",
              "        vertical-align: top;\n",
              "    }\n",
              "\n",
              "    .dataframe thead th {\n",
              "        text-align: right;\n",
              "    }\n",
              "</style>\n",
              "<table border=\"1\" class=\"dataframe\">\n",
              "  <thead>\n",
              "    <tr style=\"text-align: right;\">\n",
              "      <th></th>\n",
              "      <th>Unnamed: 0</th>\n",
              "      <th>Valuation</th>\n",
              "      <th>year</th>\n",
              "      <th>month</th>\n",
              "      <th>day</th>\n",
              "    </tr>\n",
              "    <tr>\n",
              "      <th>Country</th>\n",
              "      <th></th>\n",
              "      <th></th>\n",
              "      <th></th>\n",
              "      <th></th>\n",
              "      <th></th>\n",
              "    </tr>\n",
              "  </thead>\n",
              "  <tbody>\n",
              "    <tr>\n",
              "      <th>United States</th>\n",
              "      <td>214664</td>\n",
              "      <td>1604.03</td>\n",
              "      <td>963469</td>\n",
              "      <td>7598</td>\n",
              "      <td>3254</td>\n",
              "    </tr>\n",
              "    <tr>\n",
              "      <th>China</th>\n",
              "      <td>84372</td>\n",
              "      <td>569.48</td>\n",
              "      <td>341086</td>\n",
              "      <td>2663</td>\n",
              "      <td>1071</td>\n",
              "    </tr>\n",
              "    <tr>\n",
              "      <th>United Kingdom</th>\n",
              "      <td>16151</td>\n",
              "      <td>150.29</td>\n",
              "      <td>74719</td>\n",
              "      <td>605</td>\n",
              "      <td>281</td>\n",
              "    </tr>\n",
              "    <tr>\n",
              "      <th>India</th>\n",
              "      <td>22952</td>\n",
              "      <td>148.45</td>\n",
              "      <td>103018</td>\n",
              "      <td>800</td>\n",
              "      <td>387</td>\n",
              "    </tr>\n",
              "    <tr>\n",
              "      <th>Germany</th>\n",
              "      <td>10099</td>\n",
              "      <td>66.63</td>\n",
              "      <td>46462</td>\n",
              "      <td>360</td>\n",
              "      <td>138</td>\n",
              "    </tr>\n",
              "    <tr>\n",
              "      <th>Brazil</th>\n",
              "      <td>6961</td>\n",
              "      <td>61.05</td>\n",
              "      <td>30295</td>\n",
              "      <td>140</td>\n",
              "      <td>119</td>\n",
              "    </tr>\n",
              "    <tr>\n",
              "      <th>Sweden</th>\n",
              "      <td>972</td>\n",
              "      <td>58.08</td>\n",
              "      <td>8072</td>\n",
              "      <td>62</td>\n",
              "      <td>25</td>\n",
              "    </tr>\n",
              "    <tr>\n",
              "      <th>Australia</th>\n",
              "      <td>2901</td>\n",
              "      <td>50.60</td>\n",
              "      <td>12121</td>\n",
              "      <td>91</td>\n",
              "      <td>35</td>\n",
              "    </tr>\n",
              "    <tr>\n",
              "      <th>Israel</th>\n",
              "      <td>10105</td>\n",
              "      <td>43.82</td>\n",
              "      <td>42427</td>\n",
              "      <td>397</td>\n",
              "      <td>105</td>\n",
              "    </tr>\n",
              "    <tr>\n",
              "      <th>Hong Kong</th>\n",
              "      <td>3251</td>\n",
              "      <td>41.45</td>\n",
              "      <td>14129</td>\n",
              "      <td>92</td>\n",
              "      <td>45</td>\n",
              "    </tr>\n",
              "    <tr>\n",
              "      <th>Canada</th>\n",
              "      <td>6523</td>\n",
              "      <td>37.73</td>\n",
              "      <td>30314</td>\n",
              "      <td>219</td>\n",
              "      <td>80</td>\n",
              "    </tr>\n",
              "    <tr>\n",
              "      <th>France</th>\n",
              "      <td>9765</td>\n",
              "      <td>35.61</td>\n",
              "      <td>38363</td>\n",
              "      <td>286</td>\n",
              "      <td>124</td>\n",
              "    </tr>\n",
              "    <tr>\n",
              "      <th>Indonesia</th>\n",
              "      <td>1393</td>\n",
              "      <td>26.90</td>\n",
              "      <td>8078</td>\n",
              "      <td>36</td>\n",
              "      <td>17</td>\n",
              "    </tr>\n",
              "    <tr>\n",
              "      <th>South Korea</th>\n",
              "      <td>5544</td>\n",
              "      <td>24.69</td>\n",
              "      <td>22200</td>\n",
              "      <td>151</td>\n",
              "      <td>89</td>\n",
              "    </tr>\n",
              "    <tr>\n",
              "      <th>Mexico</th>\n",
              "      <td>2279</td>\n",
              "      <td>15.20</td>\n",
              "      <td>10104</td>\n",
              "      <td>51</td>\n",
              "      <td>42</td>\n",
              "    </tr>\n",
              "    <tr>\n",
              "      <th>Singapore</th>\n",
              "      <td>7818</td>\n",
              "      <td>14.90</td>\n",
              "      <td>22228</td>\n",
              "      <td>175</td>\n",
              "      <td>73</td>\n",
              "    </tr>\n",
              "    <tr>\n",
              "      <th>Netherlands</th>\n",
              "      <td>2178</td>\n",
              "      <td>14.30</td>\n",
              "      <td>10099</td>\n",
              "      <td>57</td>\n",
              "      <td>39</td>\n",
              "    </tr>\n",
              "    <tr>\n",
              "      <th>Japan</th>\n",
              "      <td>3379</td>\n",
              "      <td>8.82</td>\n",
              "      <td>12118</td>\n",
              "      <td>62</td>\n",
              "      <td>41</td>\n",
              "    </tr>\n",
              "    <tr>\n",
              "      <th>Turkey</th>\n",
              "      <td>925</td>\n",
              "      <td>8.50</td>\n",
              "      <td>4042</td>\n",
              "      <td>56</td>\n",
              "      <td>9</td>\n",
              "    </tr>\n",
              "    <tr>\n",
              "      <th>Belgium</th>\n",
              "      <td>428</td>\n",
              "      <td>7.55</td>\n",
              "      <td>4040</td>\n",
              "      <td>58</td>\n",
              "      <td>8</td>\n",
              "    </tr>\n",
              "  </tbody>\n",
              "</table>\n",
              "</div>\n",
              "      <button class=\"colab-df-convert\" onclick=\"convertToInteractive('df-4664f574-8a18-4ba3-9c0b-03aa85332dd9')\"\n",
              "              title=\"Convert this dataframe to an interactive table.\"\n",
              "              style=\"display:none;\">\n",
              "        \n",
              "  <svg xmlns=\"http://www.w3.org/2000/svg\" height=\"24px\"viewBox=\"0 0 24 24\"\n",
              "       width=\"24px\">\n",
              "    <path d=\"M0 0h24v24H0V0z\" fill=\"none\"/>\n",
              "    <path d=\"M18.56 5.44l.94 2.06.94-2.06 2.06-.94-2.06-.94-.94-2.06-.94 2.06-2.06.94zm-11 1L8.5 8.5l.94-2.06 2.06-.94-2.06-.94L8.5 2.5l-.94 2.06-2.06.94zm10 10l.94 2.06.94-2.06 2.06-.94-2.06-.94-.94-2.06-.94 2.06-2.06.94z\"/><path d=\"M17.41 7.96l-1.37-1.37c-.4-.4-.92-.59-1.43-.59-.52 0-1.04.2-1.43.59L10.3 9.45l-7.72 7.72c-.78.78-.78 2.05 0 2.83L4 21.41c.39.39.9.59 1.41.59.51 0 1.02-.2 1.41-.59l7.78-7.78 2.81-2.81c.8-.78.8-2.07 0-2.86zM5.41 20L4 18.59l7.72-7.72 1.47 1.35L5.41 20z\"/>\n",
              "  </svg>\n",
              "      </button>\n",
              "      \n",
              "  <style>\n",
              "    .colab-df-container {\n",
              "      display:flex;\n",
              "      flex-wrap:wrap;\n",
              "      gap: 12px;\n",
              "    }\n",
              "\n",
              "    .colab-df-convert {\n",
              "      background-color: #E8F0FE;\n",
              "      border: none;\n",
              "      border-radius: 50%;\n",
              "      cursor: pointer;\n",
              "      display: none;\n",
              "      fill: #1967D2;\n",
              "      height: 32px;\n",
              "      padding: 0 0 0 0;\n",
              "      width: 32px;\n",
              "    }\n",
              "\n",
              "    .colab-df-convert:hover {\n",
              "      background-color: #E2EBFA;\n",
              "      box-shadow: 0px 1px 2px rgba(60, 64, 67, 0.3), 0px 1px 3px 1px rgba(60, 64, 67, 0.15);\n",
              "      fill: #174EA6;\n",
              "    }\n",
              "\n",
              "    [theme=dark] .colab-df-convert {\n",
              "      background-color: #3B4455;\n",
              "      fill: #D2E3FC;\n",
              "    }\n",
              "\n",
              "    [theme=dark] .colab-df-convert:hover {\n",
              "      background-color: #434B5C;\n",
              "      box-shadow: 0px 1px 3px 1px rgba(0, 0, 0, 0.15);\n",
              "      filter: drop-shadow(0px 1px 2px rgba(0, 0, 0, 0.3));\n",
              "      fill: #FFFFFF;\n",
              "    }\n",
              "  </style>\n",
              "\n",
              "      <script>\n",
              "        const buttonEl =\n",
              "          document.querySelector('#df-4664f574-8a18-4ba3-9c0b-03aa85332dd9 button.colab-df-convert');\n",
              "        buttonEl.style.display =\n",
              "          google.colab.kernel.accessAllowed ? 'block' : 'none';\n",
              "\n",
              "        async function convertToInteractive(key) {\n",
              "          const element = document.querySelector('#df-4664f574-8a18-4ba3-9c0b-03aa85332dd9');\n",
              "          const dataTable =\n",
              "            await google.colab.kernel.invokeFunction('convertToInteractive',\n",
              "                                                     [key], {});\n",
              "          if (!dataTable) return;\n",
              "\n",
              "          const docLinkHtml = 'Like what you see? Visit the ' +\n",
              "            '<a target=\"_blank\" href=https://colab.research.google.com/notebooks/data_table.ipynb>data table notebook</a>'\n",
              "            + ' to learn more about interactive tables.';\n",
              "          element.innerHTML = '';\n",
              "          dataTable['output_type'] = 'display_data';\n",
              "          await google.colab.output.renderOutput(dataTable, element);\n",
              "          const docLink = document.createElement('div');\n",
              "          docLink.innerHTML = docLinkHtml;\n",
              "          element.appendChild(docLink);\n",
              "        }\n",
              "      </script>\n",
              "    </div>\n",
              "  </div>\n",
              "  "
            ],
            "text/plain": [
              "                Unnamed: 0  Valuation    year  month   day\n",
              "Country                                                   \n",
              "United States       214664    1604.03  963469   7598  3254\n",
              "China                84372     569.48  341086   2663  1071\n",
              "United Kingdom       16151     150.29   74719    605   281\n",
              "India                22952     148.45  103018    800   387\n",
              "Germany              10099      66.63   46462    360   138\n",
              "Brazil                6961      61.05   30295    140   119\n",
              "Sweden                 972      58.08    8072     62    25\n",
              "Australia             2901      50.60   12121     91    35\n",
              "Israel               10105      43.82   42427    397   105\n",
              "Hong Kong             3251      41.45   14129     92    45\n",
              "Canada                6523      37.73   30314    219    80\n",
              "France                9765      35.61   38363    286   124\n",
              "Indonesia             1393      26.90    8078     36    17\n",
              "South Korea           5544      24.69   22200    151    89\n",
              "Mexico                2279      15.20   10104     51    42\n",
              "Singapore             7818      14.90   22228    175    73\n",
              "Netherlands           2178      14.30   10099     57    39\n",
              "Japan                 3379       8.82   12118     62    41\n",
              "Turkey                 925       8.50    4042     56     9\n",
              "Belgium                428       7.55    4040     58     8"
            ]
          },
          "metadata": {},
          "execution_count": 36
        }
      ]
    },
    {
      "cell_type": "markdown",
      "source": [
        "Grafico:"
      ],
      "metadata": {
        "id": "oV3NkoNIv9Mz"
      }
    },
    {
      "cell_type": "code",
      "source": [
        "y = y.reset_index()\n",
        "px.bar(x='Country', y='Valuation', data_frame=y)"
      ],
      "metadata": {
        "colab": {
          "base_uri": "https://localhost:8080/",
          "height": 542
        },
        "id": "WmgzGxfPv9RK",
        "outputId": "4a5aa70c-4154-41be-9a36-2dda461321c5"
      },
      "execution_count": null,
      "outputs": [
        {
          "output_type": "display_data",
          "data": {
            "text/html": [
              "<html>\n",
              "<head><meta charset=\"utf-8\" /></head>\n",
              "<body>\n",
              "    <div>            <script src=\"https://cdnjs.cloudflare.com/ajax/libs/mathjax/2.7.5/MathJax.js?config=TeX-AMS-MML_SVG\"></script><script type=\"text/javascript\">if (window.MathJax) {MathJax.Hub.Config({SVG: {font: \"STIX-Web\"}});}</script>                <script type=\"text/javascript\">window.PlotlyConfig = {MathJaxConfig: 'local'};</script>\n",
              "        <script src=\"https://cdn.plot.ly/plotly-2.8.3.min.js\"></script>                <div id=\"79a87423-b433-463a-ad39-8b2f14b226bf\" class=\"plotly-graph-div\" style=\"height:525px; width:100%;\"></div>            <script type=\"text/javascript\">                                    window.PLOTLYENV=window.PLOTLYENV || {};                                    if (document.getElementById(\"79a87423-b433-463a-ad39-8b2f14b226bf\")) {                    Plotly.newPlot(                        \"79a87423-b433-463a-ad39-8b2f14b226bf\",                        [{\"alignmentgroup\":\"True\",\"hovertemplate\":\"Country=%{x}<br>Valuation=%{y}<extra></extra>\",\"legendgroup\":\"\",\"marker\":{\"color\":\"#636efa\",\"pattern\":{\"shape\":\"\"}},\"name\":\"\",\"offsetgroup\":\"\",\"orientation\":\"v\",\"showlegend\":false,\"textposition\":\"auto\",\"x\":[\"United States\",\"China\",\"United Kingdom\",\"India\",\"Germany\",\"Brazil\",\"Sweden\",\"Australia\",\"Israel\",\"Hong Kong\",\"Canada\",\"France\",\"Indonesia\",\"South Korea\",\"Mexico\",\"Singapore\",\"Netherlands\",\"Japan\",\"Turkey\",\"Belgium\"],\"xaxis\":\"x\",\"y\":[1604.03,569.48,150.29,148.45,66.63,61.05,58.08,50.6,43.82,41.45,37.73,35.61,26.9,24.69,15.2,14.9,14.3,8.82,8.5,7.55],\"yaxis\":\"y\",\"type\":\"bar\"}],                        {\"template\":{\"data\":{\"bar\":[{\"error_x\":{\"color\":\"#2a3f5f\"},\"error_y\":{\"color\":\"#2a3f5f\"},\"marker\":{\"line\":{\"color\":\"#E5ECF6\",\"width\":0.5},\"pattern\":{\"fillmode\":\"overlay\",\"size\":10,\"solidity\":0.2}},\"type\":\"bar\"}],\"barpolar\":[{\"marker\":{\"line\":{\"color\":\"#E5ECF6\",\"width\":0.5},\"pattern\":{\"fillmode\":\"overlay\",\"size\":10,\"solidity\":0.2}},\"type\":\"barpolar\"}],\"carpet\":[{\"aaxis\":{\"endlinecolor\":\"#2a3f5f\",\"gridcolor\":\"white\",\"linecolor\":\"white\",\"minorgridcolor\":\"white\",\"startlinecolor\":\"#2a3f5f\"},\"baxis\":{\"endlinecolor\":\"#2a3f5f\",\"gridcolor\":\"white\",\"linecolor\":\"white\",\"minorgridcolor\":\"white\",\"startlinecolor\":\"#2a3f5f\"},\"type\":\"carpet\"}],\"choropleth\":[{\"colorbar\":{\"outlinewidth\":0,\"ticks\":\"\"},\"type\":\"choropleth\"}],\"contour\":[{\"colorbar\":{\"outlinewidth\":0,\"ticks\":\"\"},\"colorscale\":[[0.0,\"#0d0887\"],[0.1111111111111111,\"#46039f\"],[0.2222222222222222,\"#7201a8\"],[0.3333333333333333,\"#9c179e\"],[0.4444444444444444,\"#bd3786\"],[0.5555555555555556,\"#d8576b\"],[0.6666666666666666,\"#ed7953\"],[0.7777777777777778,\"#fb9f3a\"],[0.8888888888888888,\"#fdca26\"],[1.0,\"#f0f921\"]],\"type\":\"contour\"}],\"contourcarpet\":[{\"colorbar\":{\"outlinewidth\":0,\"ticks\":\"\"},\"type\":\"contourcarpet\"}],\"heatmap\":[{\"colorbar\":{\"outlinewidth\":0,\"ticks\":\"\"},\"colorscale\":[[0.0,\"#0d0887\"],[0.1111111111111111,\"#46039f\"],[0.2222222222222222,\"#7201a8\"],[0.3333333333333333,\"#9c179e\"],[0.4444444444444444,\"#bd3786\"],[0.5555555555555556,\"#d8576b\"],[0.6666666666666666,\"#ed7953\"],[0.7777777777777778,\"#fb9f3a\"],[0.8888888888888888,\"#fdca26\"],[1.0,\"#f0f921\"]],\"type\":\"heatmap\"}],\"heatmapgl\":[{\"colorbar\":{\"outlinewidth\":0,\"ticks\":\"\"},\"colorscale\":[[0.0,\"#0d0887\"],[0.1111111111111111,\"#46039f\"],[0.2222222222222222,\"#7201a8\"],[0.3333333333333333,\"#9c179e\"],[0.4444444444444444,\"#bd3786\"],[0.5555555555555556,\"#d8576b\"],[0.6666666666666666,\"#ed7953\"],[0.7777777777777778,\"#fb9f3a\"],[0.8888888888888888,\"#fdca26\"],[1.0,\"#f0f921\"]],\"type\":\"heatmapgl\"}],\"histogram\":[{\"marker\":{\"pattern\":{\"fillmode\":\"overlay\",\"size\":10,\"solidity\":0.2}},\"type\":\"histogram\"}],\"histogram2d\":[{\"colorbar\":{\"outlinewidth\":0,\"ticks\":\"\"},\"colorscale\":[[0.0,\"#0d0887\"],[0.1111111111111111,\"#46039f\"],[0.2222222222222222,\"#7201a8\"],[0.3333333333333333,\"#9c179e\"],[0.4444444444444444,\"#bd3786\"],[0.5555555555555556,\"#d8576b\"],[0.6666666666666666,\"#ed7953\"],[0.7777777777777778,\"#fb9f3a\"],[0.8888888888888888,\"#fdca26\"],[1.0,\"#f0f921\"]],\"type\":\"histogram2d\"}],\"histogram2dcontour\":[{\"colorbar\":{\"outlinewidth\":0,\"ticks\":\"\"},\"colorscale\":[[0.0,\"#0d0887\"],[0.1111111111111111,\"#46039f\"],[0.2222222222222222,\"#7201a8\"],[0.3333333333333333,\"#9c179e\"],[0.4444444444444444,\"#bd3786\"],[0.5555555555555556,\"#d8576b\"],[0.6666666666666666,\"#ed7953\"],[0.7777777777777778,\"#fb9f3a\"],[0.8888888888888888,\"#fdca26\"],[1.0,\"#f0f921\"]],\"type\":\"histogram2dcontour\"}],\"mesh3d\":[{\"colorbar\":{\"outlinewidth\":0,\"ticks\":\"\"},\"type\":\"mesh3d\"}],\"parcoords\":[{\"line\":{\"colorbar\":{\"outlinewidth\":0,\"ticks\":\"\"}},\"type\":\"parcoords\"}],\"pie\":[{\"automargin\":true,\"type\":\"pie\"}],\"scatter\":[{\"marker\":{\"colorbar\":{\"outlinewidth\":0,\"ticks\":\"\"}},\"type\":\"scatter\"}],\"scatter3d\":[{\"line\":{\"colorbar\":{\"outlinewidth\":0,\"ticks\":\"\"}},\"marker\":{\"colorbar\":{\"outlinewidth\":0,\"ticks\":\"\"}},\"type\":\"scatter3d\"}],\"scattercarpet\":[{\"marker\":{\"colorbar\":{\"outlinewidth\":0,\"ticks\":\"\"}},\"type\":\"scattercarpet\"}],\"scattergeo\":[{\"marker\":{\"colorbar\":{\"outlinewidth\":0,\"ticks\":\"\"}},\"type\":\"scattergeo\"}],\"scattergl\":[{\"marker\":{\"colorbar\":{\"outlinewidth\":0,\"ticks\":\"\"}},\"type\":\"scattergl\"}],\"scattermapbox\":[{\"marker\":{\"colorbar\":{\"outlinewidth\":0,\"ticks\":\"\"}},\"type\":\"scattermapbox\"}],\"scatterpolar\":[{\"marker\":{\"colorbar\":{\"outlinewidth\":0,\"ticks\":\"\"}},\"type\":\"scatterpolar\"}],\"scatterpolargl\":[{\"marker\":{\"colorbar\":{\"outlinewidth\":0,\"ticks\":\"\"}},\"type\":\"scatterpolargl\"}],\"scatterternary\":[{\"marker\":{\"colorbar\":{\"outlinewidth\":0,\"ticks\":\"\"}},\"type\":\"scatterternary\"}],\"surface\":[{\"colorbar\":{\"outlinewidth\":0,\"ticks\":\"\"},\"colorscale\":[[0.0,\"#0d0887\"],[0.1111111111111111,\"#46039f\"],[0.2222222222222222,\"#7201a8\"],[0.3333333333333333,\"#9c179e\"],[0.4444444444444444,\"#bd3786\"],[0.5555555555555556,\"#d8576b\"],[0.6666666666666666,\"#ed7953\"],[0.7777777777777778,\"#fb9f3a\"],[0.8888888888888888,\"#fdca26\"],[1.0,\"#f0f921\"]],\"type\":\"surface\"}],\"table\":[{\"cells\":{\"fill\":{\"color\":\"#EBF0F8\"},\"line\":{\"color\":\"white\"}},\"header\":{\"fill\":{\"color\":\"#C8D4E3\"},\"line\":{\"color\":\"white\"}},\"type\":\"table\"}]},\"layout\":{\"annotationdefaults\":{\"arrowcolor\":\"#2a3f5f\",\"arrowhead\":0,\"arrowwidth\":1},\"autotypenumbers\":\"strict\",\"coloraxis\":{\"colorbar\":{\"outlinewidth\":0,\"ticks\":\"\"}},\"colorscale\":{\"diverging\":[[0,\"#8e0152\"],[0.1,\"#c51b7d\"],[0.2,\"#de77ae\"],[0.3,\"#f1b6da\"],[0.4,\"#fde0ef\"],[0.5,\"#f7f7f7\"],[0.6,\"#e6f5d0\"],[0.7,\"#b8e186\"],[0.8,\"#7fbc41\"],[0.9,\"#4d9221\"],[1,\"#276419\"]],\"sequential\":[[0.0,\"#0d0887\"],[0.1111111111111111,\"#46039f\"],[0.2222222222222222,\"#7201a8\"],[0.3333333333333333,\"#9c179e\"],[0.4444444444444444,\"#bd3786\"],[0.5555555555555556,\"#d8576b\"],[0.6666666666666666,\"#ed7953\"],[0.7777777777777778,\"#fb9f3a\"],[0.8888888888888888,\"#fdca26\"],[1.0,\"#f0f921\"]],\"sequentialminus\":[[0.0,\"#0d0887\"],[0.1111111111111111,\"#46039f\"],[0.2222222222222222,\"#7201a8\"],[0.3333333333333333,\"#9c179e\"],[0.4444444444444444,\"#bd3786\"],[0.5555555555555556,\"#d8576b\"],[0.6666666666666666,\"#ed7953\"],[0.7777777777777778,\"#fb9f3a\"],[0.8888888888888888,\"#fdca26\"],[1.0,\"#f0f921\"]]},\"colorway\":[\"#636efa\",\"#EF553B\",\"#00cc96\",\"#ab63fa\",\"#FFA15A\",\"#19d3f3\",\"#FF6692\",\"#B6E880\",\"#FF97FF\",\"#FECB52\"],\"font\":{\"color\":\"#2a3f5f\"},\"geo\":{\"bgcolor\":\"white\",\"lakecolor\":\"white\",\"landcolor\":\"#E5ECF6\",\"showlakes\":true,\"showland\":true,\"subunitcolor\":\"white\"},\"hoverlabel\":{\"align\":\"left\"},\"hovermode\":\"closest\",\"mapbox\":{\"style\":\"light\"},\"paper_bgcolor\":\"white\",\"plot_bgcolor\":\"#E5ECF6\",\"polar\":{\"angularaxis\":{\"gridcolor\":\"white\",\"linecolor\":\"white\",\"ticks\":\"\"},\"bgcolor\":\"#E5ECF6\",\"radialaxis\":{\"gridcolor\":\"white\",\"linecolor\":\"white\",\"ticks\":\"\"}},\"scene\":{\"xaxis\":{\"backgroundcolor\":\"#E5ECF6\",\"gridcolor\":\"white\",\"gridwidth\":2,\"linecolor\":\"white\",\"showbackground\":true,\"ticks\":\"\",\"zerolinecolor\":\"white\"},\"yaxis\":{\"backgroundcolor\":\"#E5ECF6\",\"gridcolor\":\"white\",\"gridwidth\":2,\"linecolor\":\"white\",\"showbackground\":true,\"ticks\":\"\",\"zerolinecolor\":\"white\"},\"zaxis\":{\"backgroundcolor\":\"#E5ECF6\",\"gridcolor\":\"white\",\"gridwidth\":2,\"linecolor\":\"white\",\"showbackground\":true,\"ticks\":\"\",\"zerolinecolor\":\"white\"}},\"shapedefaults\":{\"line\":{\"color\":\"#2a3f5f\"}},\"ternary\":{\"aaxis\":{\"gridcolor\":\"white\",\"linecolor\":\"white\",\"ticks\":\"\"},\"baxis\":{\"gridcolor\":\"white\",\"linecolor\":\"white\",\"ticks\":\"\"},\"bgcolor\":\"#E5ECF6\",\"caxis\":{\"gridcolor\":\"white\",\"linecolor\":\"white\",\"ticks\":\"\"}},\"title\":{\"x\":0.05},\"xaxis\":{\"automargin\":true,\"gridcolor\":\"white\",\"linecolor\":\"white\",\"ticks\":\"\",\"title\":{\"standoff\":15},\"zerolinecolor\":\"white\",\"zerolinewidth\":2},\"yaxis\":{\"automargin\":true,\"gridcolor\":\"white\",\"linecolor\":\"white\",\"ticks\":\"\",\"title\":{\"standoff\":15},\"zerolinecolor\":\"white\",\"zerolinewidth\":2}}},\"xaxis\":{\"anchor\":\"y\",\"domain\":[0.0,1.0],\"title\":{\"text\":\"Country\"}},\"yaxis\":{\"anchor\":\"x\",\"domain\":[0.0,1.0],\"title\":{\"text\":\"Valuation\"}},\"legend\":{\"tracegroupgap\":0},\"margin\":{\"t\":60},\"barmode\":\"relative\"},                        {\"responsive\": true}                    ).then(function(){\n",
              "                            \n",
              "var gd = document.getElementById('79a87423-b433-463a-ad39-8b2f14b226bf');\n",
              "var x = new MutationObserver(function (mutations, observer) {{\n",
              "        var display = window.getComputedStyle(gd).display;\n",
              "        if (!display || display === 'none') {{\n",
              "            console.log([gd, 'removed!']);\n",
              "            Plotly.purge(gd);\n",
              "            observer.disconnect();\n",
              "        }}\n",
              "}});\n",
              "\n",
              "// Listen for the removal of the full notebook cells\n",
              "var notebookContainer = gd.closest('#notebook-container');\n",
              "if (notebookContainer) {{\n",
              "    x.observe(notebookContainer, {childList: true});\n",
              "}}\n",
              "\n",
              "// Listen for the clearing of the current output cell\n",
              "var outputEl = gd.closest('.output');\n",
              "if (outputEl) {{\n",
              "    x.observe(outputEl, {childList: true});\n",
              "}}\n",
              "\n",
              "                        })                };                            </script>        </div>\n",
              "</body>\n",
              "</html>"
            ]
          },
          "metadata": {}
        }
      ]
    },
    {
      "cell_type": "markdown",
      "source": [
        "Os Estados Unidos têm uma avaliação total de mais de US$ 1.600 bilhões em startups de unicórnios. \n",
        "\n",
        "O Brasil está na 6ª posição com uma avaliação total de US$ 61.5 bilhões."
      ],
      "metadata": {
        "id": "tBNG8dEEv9Vd"
      }
    },
    {
      "cell_type": "code",
      "source": [
        ""
      ],
      "metadata": {
        "id": "dFmYIJNrv9Zq"
      },
      "execution_count": null,
      "outputs": []
    },
    {
      "cell_type": "markdown",
      "source": [
        "Gráfico de avaliação de empresas"
      ],
      "metadata": {
        "id": "lDPq89OAv9d5"
      }
    },
    {
      "cell_type": "code",
      "source": [
        "avaliacao = px.line(df, x='Company', y='Valuation')\n",
        "avaliacao.show()"
      ],
      "metadata": {
        "colab": {
          "base_uri": "https://localhost:8080/",
          "height": 542
        },
        "id": "1OUMA9IKv9hx",
        "outputId": "e06a524a-549b-47d7-f044-fa6cfcc0ce06"
      },
      "execution_count": null,
      "outputs": [
        {
          "output_type": "display_data",
          "data": {
            "text/html": [
              "<html>\n",
              "<head><meta charset=\"utf-8\" /></head>\n",
              "<body>\n",
              "    <div>            <script src=\"https://cdnjs.cloudflare.com/ajax/libs/mathjax/2.7.5/MathJax.js?config=TeX-AMS-MML_SVG\"></script><script type=\"text/javascript\">if (window.MathJax) {MathJax.Hub.Config({SVG: {font: \"STIX-Web\"}});}</script>                <script type=\"text/javascript\">window.PlotlyConfig = {MathJaxConfig: 'local'};</script>\n",
              "        <script src=\"https://cdn.plot.ly/plotly-2.8.3.min.js\"></script>                <div id=\"02f74096-4e7b-4464-b762-67977b4f33c7\" class=\"plotly-graph-div\" style=\"height:525px; width:100%;\"></div>            <script type=\"text/javascript\">                                    window.PLOTLYENV=window.PLOTLYENV || {};                                    if (document.getElementById(\"02f74096-4e7b-4464-b762-67977b4f33c7\")) {                    Plotly.newPlot(                        \"02f74096-4e7b-4464-b762-67977b4f33c7\",                        [{\"hovertemplate\":\"Company=%{x}<br>Valuation=%{y}<extra></extra>\",\"legendgroup\":\"\",\"line\":{\"color\":\"#636efa\",\"dash\":\"solid\"},\"marker\":{\"symbol\":\"circle\"},\"mode\":\"lines\",\"name\":\"\",\"orientation\":\"v\",\"showlegend\":false,\"x\":[\"Bytedance\",\"SpaceX\",\"Stripe\",\"Klarna\",\"Canva\",\"Instacart\",\"Databricks\",\"Revolut\",\"Nubank\",\"Epic Games\",\"Chime\",\"FTX\",\"BYJU's\",\"Xiaohongshu\",\"J&T Express\",\"Fanatics\",\"Yuanfudao\",\"DJI Innovations\",\"SHEIN\",\"Checkout.com\",\"goPuff\",\"Plaid Technologies\",\"Grammarly\",\"Devoted Health\",\"Faire\",\"Brex\",\"SenseTime\",\"JUUL Labs\",\"Bitmain Technologies\",\"Biosplice Therapeutics\",\"GoodLeap\",\"ZongMu Technology\",\"Global Switch\",\"Celonis\",\"Weilong\",\"Lalamove\",\"Ripple\",\"Figma\",\"Gusto\",\"reddit\",\"Talkdesk\",\"Notion Labs\",\"Thrasio\",\"Digital Currency Group\",\"OutSystems\",\"ServiceTitan\",\"HEYTEA\",\"N26\",\"Klaviyo\",\"Northvolt\",\"Tanium\",\"Chehaoduo\",\"Niantic\",\"OYO Rooms\",\"Rapyd\",\"Kavak\",\"Snyk\",\"Nuro\",\"Lacework\",\"Tipalti\",\"Tempus\",\"Xingsheng Selected\",\"Dream11\",\"Fireblocks\",\"Caris Life Sciences\",\"Dapper Labs\",\"Hopin\",\"Getir\",\"Netskope\",\"Toss\",\"Carta\",\"Scale AI\",\"Argo AI\",\"Gong\",\"TripActions\",\"Gemini\",\"We Doctor\",\"Discord\",\"Automation Anywhere\",\"Ziroom\",\"National Stock Exchange of India\",\"Mollie\",\"Rippling\",\"Ola Cabs\",\"Samsara Networks\",\"DataRobot\",\"Personio\",\"Hinge Health\",\"Black Unicorn Factory\",\"Benchling\",\"Royole Corporation\",\"Yuanqi Senlin\",\"Better.com\",\"Wiz\",\"Bolt\",\"Attentive\",\"Easyhome\",\"Lianjia\",\"Airtable\",\"Vice Media\",\"Cityblock Health\",\"Workato\",\"Postman\",\"FiveTran\",\"Pony.ai\",\"Trade Republic\",\"Rappi\",\"Collibra\",\"Blockchain.com\",\"HashiCorp\",\"OneTrust\",\"QuintoAndar\",\"C6 Bank\",\"United Imaging Healthcare\",\"Hello TransTech\",\"Swiggy\",\"Deel\",\"Airwallex\",\"Horizon Robotics\",\"WM Motor\",\"Ro\",\"Howden Group Holdings\",\"SambaNova Systems\",\"ZEPZ\",\"OakNorth\",\"Moon Active\",\"Meesho\",\"Cerebral\",\"Anduril\",\"Lyra Health\",\"Dataiku\",\"Checkr\",\"Color\",\"Meizu Technology\",\"Vinted\",\"Zenefits\",\"VIPKid\",\"Socure\",\"Monzo\",\"UBTECH Robotics\",\"Outreach\",\"Bolt\",\"BetterUp\",\"Arctic Wolf Networks\",\"Sorare\",\"Relativity Space\",\"Miaoshou Doctor\",\"Chainalysis\",\"ThoughtSpot\",\"SSENSE\",\"Dataminr\",\"BitPanda\",\"Houzz\",\"CRED\",\"Yello Mobile\",\"MEGVII\",\"Greensill\",\"Impossible Foods\",\"Radiology Partners\",\"Next Insurance\",\"Patreon\",\"PointClickCare\",\"Zapier\",\"Clubhouse\",\"BrowserStack\",\"Olive\",\"iCapital Network\",\"Rubrik\",\"Melio\",\"Vuori\",\"ClickUp\",\"Cerebras Systems\",\"Farmers Business Network\",\"Ramp Financial\",\"Intarcia Therapeutics\",\"StockX\",\"MessageBird\",\"Guild Education\",\"Articulate\",\"FalconX\",\"Dutchie\",\"Cohesity\",\"VAST Data\",\"GOAT\",\"Noom\",\"Redwood Materials\",\"Papaya Global\",\"Relativity\",\"Whoop\",\"Applied Intuition\",\"Otto Bock HealthCare\",\"Indigo Ag\",\"HyalRoute\",\"Digit Insurance\",\"Commure\",\"Mirakl\",\"Coalition\",\"Tekion\",\"Alchemy\",\"Unacademy\",\"MoonPay\",\"Youxia Motors\",\"OwnBackup\",\"Upgrade\",\"Cloudwalk\",\"ECARX\",\"Sila Nanotechnologies\",\"Scopely\",\"WeRide\",\"Komodo Health\",\"Dadi Cinema\",\"Thumbtack\",\"Flexport\",\"Cedar\",\"Back Market\",\"Eruditus Executive Education\",\"Blockstream\",\"ConsenSys\",\"Huitongda\",\"PsiQuantum\",\"SpotOn\",\"Udaan\",\"HighRadius\",\"Nuvemshop\",\"VANCL\",\"Yixia\",\"Traveloka\",\"SouChe Holdings\",\"BGL Group\",\"Circle\",\"Zuoyebang\",\"Delhivery\",\"FlixMobility\",\"Wildlife Studios\",\"Pine Labs\",\"ApplyBoard\",\"Razorpay\",\"Forter\",\"Calendly\",\"BlockFi\",\"ActiveCampaign\",\"CMR Surgical\",\"Lucid Software\",\"Age of Learning\",\"Carbon Health\",\"ShareChat\",\"Contentful\",\"LaunchDarkly\",\"Hopper\",\"Seismic\",\"Grafana Labs\",\"Gorillas\",\"Ola Electric Mobility\",\"Sky Mavis\",\"Celsius Network\",\"Outschool\",\"TradingView\",\"Groww\",\"Podium\",\"Via\",\"Kraken\",\"OpenAI\",\"Ovo\",\"Workrise\",\"Loft\",\"OfBusiness\",\"BharatPe\",\"DriveWealth\",\"Meicai\",\"Icertis\",\"Weee!\",\"ContentSquare\",\"Zipline\",\"Graphcore\",\"Illumio\",\"Convoy\",\"MasterClass\",\"Transmit Security\",\"Hozon Auto\",\"Tradeshift\",\"Nextiva\",\"Flink\",\"ManoMano\",\"Sourcegraph\",\"Pendo\",\"Plume\",\"Xinchao Media\",\"JumpCloud\",\"Vista Global\",\"BYTON\",\"Acronis\",\"Side\",\"Lenskart\",\"Infra.Market\",\"Varo Bank\",\"Cato Networks\",\"Aura\",\"Vercel\",\"Uala\",\"Mobile Premier League\",\"Cybereason\",\"Cgtz\",\"Star Charge\",\"Carbon\",\"PolicyBazaar\",\"Paxos\",\"Exabeam\",\"BitSight Technologies\",\"Trumid\",\"ABL Space Systems\",\"Bought By Many\",\"Jobandtalent\",\"WEMAKEPRICE\",\"Biren Technology\",\"Voodoo\",\"Uptake\",\"KeepTruckin\",\"Skydance Media\",\"Greenlight\",\"Highspot\",\"Bowery Farming\",\"Odoo\",\"Zume\",\"Algolia\",\"Pattern\",\"Planet Labs\",\"NuCom Group\",\"MUSINSA\",\"Current\",\"Bitso\",\"Gympass\",\"Kurly\",\"Reify Health\",\"Huaqin Telecom Technology\",\"YITU Technology\",\"Addepar\",\"Cockroach Labs\",\"Neo4j\",\"1\",\"FirstCry\",\"Eightfold.ai\",\"Webflow\",\"6Sense\",\"Urban Company\",\"ReCharge\",\"Moveworks\",\"Medable\",\"SoundHound\",\"Mambu\",\"Trendy Group International\",\"Avant\",\"Tubatu.com\",\"BlaBlaCar\",\"Quanergy Systems\",\"HuiMin\",\"Quora\",\"Improbable\",\"Preferred Networks\",\"Formlabs\",\"4Paradigm\",\"Calm\",\"Kaseya\",\"Mafengwo\",\"Druva\",\"Kujiale\",\"AppsFlyer\",\"Keep\",\"Redis Labs\",\"Xingyun Group\",\"Unqork\",\"Virta Health\",\"ISN\",\"Earnix\",\"Guoquan Shihui\",\"Arrail Dental\",\"Clearco\",\"Hive\",\"KRY\",\"Kajabi\",\"Ethos Technologies\",\"Beisen\",\"Pipe\",\"Iterable\",\"Bunq\",\"Clip\",\"Loggi\",\"MURAL\",\"Pagaya\",\"1Password\",\"OCSiAl\",\"XtalPi\",\"Divvy Homes\",\"Apeel Sciences\",\"Opay\",\"Aviatrix\",\"SmartNews\",\"Misfits Market\",\"Spring Health\",\"Black Sesame Technologies\",\"Advance Intelligence Group\",\"Modern Treasury\",\"Magic Leap\",\"Tier Mobility\",\"Aiven\",\"ClickHouse\",\"Mynt\",\"Everlaw\",\"Zilch\",\"VerbIT\",\"StarkWare\",\"Netlify\",\"Deliverr\",\"SWORD Health\",\"LTK\",\"Fenbi Education\",\"Starling Bank\",\"InVision\",\"eDaili\",\"MX Technologies\",\"Aledade\",\"CoinSwitch Kuber\",\"ENOVATE\",\"CFGI\",\"Automattic\",\"ZocDoc\",\"Diamond Foundry\",\"FullStory\",\"Lightricks\",\"Opentrons\",\"AIWAYS\",\"Creditas\",\"Trulioo\",\"Spinny\",\"Orca Security\",\"Cars24\",\"Apus Group\",\"Harry's Razor Company\",\"Allbirds\",\"PAX\",\"Harness\",\"DispatchHealth\",\"Unite Us\",\"CircleCI\",\"GoStudent\",\"Pleo\",\"Wave\",\"Vestiaire Collective\",\"Dragos\",\"Reltio\",\"H2O.ai\",\"ZenBusiness\",\"Alan\",\"wefox\",\"Hibob\",\"Trader Interactive\",\"Jusfoun Big Data\",\"Zhubajie\",\"solarisBank\",\"Infinidat\",\"Afiniti\",\"Cao Cao Mobility\",\"Verkada\",\"ASR Microelectronics\",\"Clari\",\"Tonal\",\"Skims\",\"Clio\",\"SafetyCulture\",\"Extend\",\"Cognite\",\"ASAPP\",\"SmartHR\",\"Mercury\",\"HomeLight\",\"Truepill\",\"Promasidor Holdings\",\"Baiwang\",\"Iluvatar CoreX\",\"Wenheyou\",\"Loom\",\"Ximalaya FM\",\"Carzone\",\"Mu Sigma\",\"TuJia\",\"Mofang Living\",\"Gett\",\"DT Dream\",\"Changingedu\",\"XiaoZhu\",\"JOLLY Information Technology\",\"Yijiupi\",\"Cambridge Mobile Telematics\",\"Collective Health\",\"Strava\",\"Zenoti\",\"K Health\",\"Uplight\",\"ID.me\",\"Handshake\",\"Snapdocs\",\"Chipper Cash\",\"Ledger\",\"Next Silicon\",\"YunQuNa\",\"dbt Labs\",\"Impact\",\"OpenSea\",\"SmartRecruiters\",\"NotCo\",\"Culture Amp\",\"TaxBit\",\"Pacaso\",\"1047 Games\",\"Matillion\",\"Persona\",\"Whatnot\",\"Ascend Money\",\"Andela\",\"Built\",\"candy.com\",\"Devo\",\"CoinList\",\"Lusha\",\"CureFit\",\"Yipin Shengxian\",\"Bordrin Motors\",\"Coocaa\",\"Juma Peisong\",\"Ouyeel\",\"Gymshark\",\"Zeta\",\"M1 Finance\",\"Justworks\",\"SonderMind\",\"Papa\",\"Koudai\",\"Symphony\",\"Yidian Zixun\",\"Cabify\",\"Hive Box\",\"Deezer\",\"Away\",\"Kong\",\"Epidemic Sound\",\"Yotpo\",\"Rebel Foods\",\"Coda\",\"Five Star Business Finance\",\"Stash\",\"Phenom People\",\"GupShup\",\"Degreed\",\"Astranis Space Technologies\",\"ChargeBee Technologies\",\"Scalable Capital\",\"VideoAmp\",\"Panther Labs\",\"Veepee\",\"DeepBlue Technology\",\"Klook\",\"Yaoshibang\",\"At-Bay\",\"Alloy\",\"Signifyd\",\"Motorway\",\"Flipboard\",\"Grove Collaborative\",\"GPclub\",\"Tongdun Technology\",\"Alzheon\",\"HeartFlow\",\"Sonder\",\"Trax\",\"You & Mr Jones\",\"InSightec\",\"Everly Health\",\"Manner\",\"TalkingData\",\"Innovaccer\",\"DistroKid\",\"Carsome\",\"Konfio\",\"Betterment\",\"Flock Freight\",\"YugaByte\",\"Starry\",\"Intercom\",\"OVO Energy\",\"Huisuanzhang\",\"WTOIP\",\"ezCater\",\"BigID\",\"Rec Room\",\"Kuaikan Manhua\",\"Marshmallow\",\"Honor Technology\",\"Mythical Games\",\"Incode Technologies\",\"BrewDog\",\"Enflame\",\"EQRx\",\"Nexii\",\"BlockDaemon\",\"GalaxySpace\",\"Spiber\",\"Yiguo\",\"Fair\",\"Glossier\",\"Workhuman\",\"Qumulo\",\"Dialpad\",\"Starburst\",\"Tealium\",\"Public\",\"Axonius\",\"Savage X Fenty\",\"Pipa Coding\",\"Pilot.com\",\"Aibee\",\"Cava Group\",\"Vectra Networks\",\"Ada Support\",\"Inari\",\"Project44\",\"Alation\",\"Forto\",\"SmartMore\",\"Rohlik\",\"Prime Medicine\",\"FloQast\",\"MindTickle\",\"UpGrad\",\"DailyPay\",\"Oda\",\"Offchain Labs\",\"Copado\",\"Gem\",\"CarDekho\",\"MyGlamm\",\"AgentSync\",\"Pristyn Care\",\"Jokr\",\"L&P Cosmetic\",\"Unisound\",\"Mininglamp Technology\",\"Sysdig\",\"Luoji Siwei\",\"Yimidida\",\"Modern Health\",\"IRL\",\"Tuhu\",\"SVOLT Energy\",\"LifeMiles\",\"Venafi\",\"Guideline\",\"Rebellion Defense\",\"Elemy\",\"Doctolib\",\"STORD\",\"TELD\",\"TangoMe\",\"AppDirect\",\"Juanpi\",\"OVH\",\"Eat Just\",\"GetYourGuide\",\"Ivalua\",\"Sisense\",\"Course Hero\",\"Pharmapacks\",\"SalesLoft\",\"Sennder\",\"Nexthink\",\"Zego\",\"Rightway\",\"Sunbit\",\"Qingting FM\",\"Amber Group\",\"G2\",\"Hailo\",\"People.ai\",\"CoinDCX\",\"Carousell\",\"apna\",\"Karat\",\"Enpal\",\"Acko General Insurance\",\"Daily Harvest\",\"The Bank of London\",\"Fundbox\",\"Nxin\",\"UISEE Technology\",\"56PINGTAI\",\"Rubicon Global\",\"Radius Payment Solutions\",\"Rivigo\",\"Jiuxian\",\"Instabase\",\"Hesai Tech\",\"Proterra\",\"Sendbird\",\"Density\",\"Mixpanel\",\"Aprogen\",\"OrCam Technologies\",\"Leap Motor\",\"Lookout\",\"Snapdeal\",\"TechStyle Fashion Group\",\"InMobi\",\"LinkSure Network\",\"Red Ventures\",\"BeiBei\",\"Lamabang\",\"JimuBox\",\"BenevolentAI\",\"FXiaoKe\",\"Vox Media\",\"Mia.com\",\"58 Daojia\",\"Womai\",\"HuJiang\",\"iTutorGroup\",\"MindMaze\",\"iCarbonX\",\"SMS Assist\",\"Kendra Scott\",\"Mobvoi\",\"Zhuan Zhuan\",\"Modernizing Medicine\",\"Zhaogang\",\"DianRong\",\"Cell C\",\"YH Global\",\"Revolution Precrafted\",\"WeLab\",\"Maimai\",\"Dxy.cn\",\"Orbbec Technology\",\"HMD Global\",\"Huike Group\",\"China Cloud\",\"LinkDoc Technology\",\"MediaMath\",\"Movile\",\"Kuaigou Dache\",\"Pat McGrath Labs\",\"Wacai\",\"Medlinker\",\"FlashEx\",\"Branch\",\"Banma Network Technologies\",\"Tresata\",\"Momenta\",\"Hosjoy\",\"Omio\",\"TERMINUS Technology\",\"BitFury\",\"iFood\",\"Geek+\",\"REEF Technology\",\"Globality\",\"Ynsect\",\"Intellifusion\",\"Liquid\",\"Poizon\",\"VTS\",\"SITECH DEV\",\"KnowBox\",\"Yanolja\",\"Meero\",\"SumUp\",\"Ibotta\",\"C2FO\",\"Numbrs\",\"Dave\",\"EBANX\",\"KK Group\",\"Glovo\",\"Alto Pharmacy\",\"o9 Solutions\",\"Hotmart\",\"Emerging Markets Property Group\",\"Quizlet\",\"Orca Bio\",\"Newlink Group\",\"Infobip\",\"Zwift\",\"Playco\",\"Socar\",\"Gousto\",\"AInnovation\",\"Boom Supersonic\",\"Qualia\",\"DailyHunt\",\"Dremio\",\"Quantum Metric\",\"News Break\",\"MadeiraMadeira\",\"PPRO\",\"Splashtop\",\"DriveNets\",\"Flash Express\",\"Axiom Space\",\"Locus Robotics\",\"Standard Cognition\",\"Sentry\",\"WeBull\",\"Skydio\",\"Newsela\",\"Flutterwave\",\"Aqua Security\",\"PatSnap\",\"Evidation\",\"Sidecar Health\",\"Lattice\",\"Feedzai\",\"Yunxuetang\",\"Cameo\",\"Fetch Rewards\",\"Hyperchain\",\"The Zebra\",\"Clearcover\",\"Groq\",\"Fiture\",\"Injective Protocol\",\"Sift\",\"SaltPay\",\"Capsule\",\"MOLOCO\",\"Mux\",\"XForcePlus\",\"Firefly Aerospace\",\"HoneyBook\",\"Shift Technology\",\"TensTorrent\",\"Zihaiguo\",\"Forte Labs\",\"Axtria\",\"Amount\",\"Moglix\",\"Vise\",\"Printful\",\"Matrixport\",\"Shippo\",\"Thirty Madison\",\"LetsGetChecked\",\"EcoFlow\",\"Carro\",\"Tractable\",\"Bringg\",\"Claroty\",\"JoyTunes\",\"Aircall\",\"SmartAsset\",\"Morning Consult\",\"Visier\",\"ShipBob\",\"Dream Games\",\"Grofers\",\"Kitopi\",\"bolttech\",\"MobileCoin\",\"Lunar\",\"Amperity\",\"Remote\",\"Pantheon Systems\",\"Xiaobing\",\"Carson Group\",\"GO1\",\"Interos\",\"BlackBuck\",\"NIUM\",\"Unico\",\"Human Interest\",\"Bluecore\",\"Freshbooks\",\"Snorkel AI\",\"Gelato\",\"Maven Clinic\",\"Zetwerk\",\"Dunamu\",\"Shield AI\",\"PicsArt\",\"1KMXC\",\"Cider\",\"Berlin Brands Group\",\"Agile Robots\",\"GrubMarket\",\"Mammoth Biosciences\",\"Orchard\",\"Xendit\",\"TrueLayer\",\"Assembly\",\"PandaDoc\",\"Keenon Robotics\",\"HAYDON\",\"Ninja Van\",\"Vedantu\",\"TrialSpark\",\"Ajaib\",\"Licious\",\"Masterworks\",\"Chronosphere\",\"Solo.io\",\"Swile\",\"Zopa\",\"Dental Monitoring\",\"CargoX\",\"Fabric\",\"Augury\",\"Moka\",\"Tezign\",\"Vagaro\",\"Drata\",\"Razor\",\"OpenWeb\",\"Contrast Security\",\"Wrapbook\",\"Gaussian Robotics\",\"Mensa Brands\",\"Heyday\",\"PLACE\",\"Stytch\",\"Owkin\",\"Expel\",\"NoBroker\",\"Slice\",\"Thought Machine\",\"Lessen\",\"Clara\",\"YipitData\",\"Anyscale\",\"Iodine Software\",\"ReliaQuest\",\"Pet Circle\"],\"xaxis\":\"x\",\"y\":[140.0,100.3,95.0,45.6,40.0,39.0,38.0,33.0,30.0,28.7,25.0,25.0,21.0,20.0,20.0,18.0,15.5,15.0,15.0,15.0,15.0,13.4,13.0,12.6,12.4,12.3,12.0,12.0,12.0,12.0,12.0,11.4,11.1,11.0,10.88,10.0,10.0,10.0,10.0,10.0,10.0,10.0,10.0,10.0,9.5,9.5,9.28,9.23,9.2,9.08,9.0,9.0,9.0,9.6,8.75,8.7,8.6,8.6,8.3,8.3,8.1,8.0,8.0,8.0,7.83,7.6,7.75,7.5,7.5,7.4,7.4,7.3,7.25,7.25,7.25,7.1,7.0,7.0,6.8,6.6,6.5,6.5,6.5,7.5,6.3,6.3,6.3,6.2,6.1,6.1,6.0,6.0,6.0,6.0,6.0,5.99,5.78,5.77,5.77,5.7,5.7,5.7,5.6,5.6,5.3,5.3,5.25,5.25,5.2,5.1,5.1,5.1,5.05,5.0,5.0,5.5,5.5,5.5,5.0,5.0,5.0,5.0,5.0,5.0,5.0,5.0,4.9,4.8,4.6,4.6,4.6,4.6,4.6,4.58,4.53,4.5,4.5,4.5,4.5,4.45,4.4,4.75,4.7,4.3,4.3,4.2,4.25,4.2,4.2,4.15,4.1,4.11,4.0,4.01,4.0,4.0,4.0,4.0,4.0,4.0,4.0,4.0,4.0,4.0,4.0,4.0,4.0,4.0,4.0,4.0,4.0,4.0,4.0,3.9,3.8,3.8,3.8,3.75,3.75,3.75,3.75,3.7,3.7,3.7,3.7,3.7,3.7,3.6,3.6,3.6,3.52,3.5,3.5,3.5,3.5,3.5,3.5,3.5,3.5,3.44,3.4,3.35,3.35,3.33,3.32,3.31,3.3,3.3,3.3,3.3,3.24,3.2,3.2,3.2,3.2,3.2,3.2,3.2,3.18,3.15,3.15,3.1,3.1,3.1,3.0,3.0,3.0,3.0,3.0,3.0,3.0,3.0,3.0,3.0,3.0,3.0,3.0,3.0,3.0,3.0,3.0,3.0,3.0,3.0,3.0,3.0,3.0,3.0,3.0,3.0,3.0,3.1,3.0,3.0,3.0,3.0,3.0,3.0,3.0,3.3,2.92,2.92,2.9,2.9,2.9,3.0,2.85,2.85,2.8,2.8,2.8,2.8,2.8,2.77,2.75,2.75,2.75,2.74,2.74,2.7,2.7,2.7,2.6,2.62,2.6,2.6,2.0,2.62,2.5,2.5,2.5,2.5,2.5,2.5,2.5,2.5,2.5,2.5,2.45,2.45,2.44,2.41,2.41,2.4,2.4,2.4,2.4,2.4,2.4,2.4,2.35,2.35,2.34,2.32,2.31,2.3,2.3,2.3,2.3,2.3,2.3,2.3,2.25,2.25,2.25,2.2,2.2,2.2,2.2,2.2,2.2,2.2,2.2,2.19,2.17,2.17,2.16,2.15,2.15,2.1,2.1,2.1,2.1,2.1,2.1,2.1,2.1,2.1,2.08,2.0,2.0,2.0,2.0,2.0,2.0,2.0,2.0,2.0,2.0,2.0,2.0,2.0,2.0,2.0,2.0,2.0,2.0,2.0,2.0,2.0,2.0,2.0,2.0,2.0,2.0,2.0,2.0,2.0,2.0,2.7,2.0,2.0,2.0,2.0,2.0,2.0,2.0,2.0,2.0,2.0,2.0,2.0,2.0,2.0,2.0,2.0,2.0,2.0,2.0,2.0,2.0,2.0,2.0,2.0,2.0,2.0,2.0,2.0,2.0,2.0,2.0,2.0,2.0,2.0,1.95,1.95,1.9,1.9,1.9,1.9,1.9,1.85,1.85,1.8,1.8,1.8,1.8,1.8,1.8,1.78,1.75,1.75,1.75,1.8,1.84,1.73,1.7,1.7,1.7,1.7,1.7,1.7,1.7,1.7,1.7,1.7,1.7,1.7,1.7,1.7,1.7,1.68,1.65,1.65,1.63,1.62,1.61,1.65,1.6,1.6,1.6,1.6,1.6,1.6,1.6,1.6,1.6,1.6,1.6,1.6,1.6,1.6,1.6,1.6,1.6,1.59,1.55,1.55,1.55,1.53,1.52,1.52,1.5,1.5,1.5,1.5,1.5,1.5,1.5,1.5,1.5,1.5,1.5,1.5,1.5,1.5,1.5,1.5,1.5,1.5,2.0,1.5,1.5,1.5,1.5,1.5,1.5,1.5,1.5,1.5,1.5,1.5,1.5,1.5,1.5,1.5,1.5,1.5,1.5,1.5,1.5,1.5,1.5,1.5,1.49,1.48,1.45,1.45,1.45,1.45,1.45,1.45,1.43,1.42,1.4,1.4,1.4,1.4,1.4,1.4,1.4,1.4,1.4,1.4,1.4,1.4,1.4,1.4,1.4,1.4,1.4,1.4,1.4,1.4,1.4,1.4,1.4,1.38,1.35,1.35,1.35,1.35,1.35,1.34,1.33,1.32,1.32,1.32,1.32,1.31,1.3,1.3,1.3,1.3,1.3,1.3,1.3,1.3,1.3,1.3,1.3,1.3,1.3,1.3,1.3,1.29,1.28,1.28,1.28,1.27,1.25,1.25,1.25,1.25,1.25,1.25,1.25,1.25,1.24,1.24,1.23,1.23,1.23,1.22,1.22,1.2,1.2,1.2,1.2,1.2,1.2,1.2,1.2,1.2,1.2,1.2,1.2,1.2,1.2,1.3,1.2,1.2,1.2,1.2,1.2,1.2,1.2,1.2,1.2,1.2,1.2,1.2,1.2,1.2,1.2,1.2,1.2,1.2,1.2,1.2,1.2,1.2,1.19,1.19,1.19,1.19,1.18,1.17,1.17,1.17,1.16,1.16,1.15,1.15,1.15,1.15,1.15,1.14,1.13,1.12,1.1,1.1,1.1,1.1,1.1,1.1,1.1,1.1,1.1,1.1,1.1,1.1,1.1,1.1,1.1,1.1,1.1,1.1,1.1,1.0,1.1,1.1,1.1,1.1,1.1,1.1,1.1,1.1,1.1,1.1,1.08,1.08,1.08,1.07,1.07,1.07,1.05,1.05,1.05,1.05,1.05,1.05,1.05,1.04,1.03,1.01,1.0,1.0,1.0,1.0,1.0,1.0,1.0,1.0,1.0,1.0,1.0,1.0,1.0,1.0,1.0,1.0,1.0,1.0,1.0,1.0,1.0,1.0,1.0,1.0,1.0,1.0,1.0,1.0,1.0,1.0,1.0,1.0,1.0,1.0,1.0,1.0,1.0,1.0,1.0,1.0,1.0,1.0,1.0,1.0,1.0,1.0,1.0,1.0,1.0,1.0,1.0,1.0,1.0,1.0,1.0,1.0,1.0,1.0,1.0,1.0,1.0,1.0,1.0,1.0,1.0,1.0,1.0,1.0,1.0,1.0,1.0,3.0,1.0,1.0,1.0,1.0,1.0,1.0,1.0,1.0,1.0,1.0,1.0,1.0,1.0,1.0,1.0,1.0,1.0,1.0,1.0,1.0,1.0,1.0,1.0,1.0,1.0,1.0,1.0,1.0,1.0,1.0,1.0,1.0,1.0,1.0,1.0,1.0,1.0,1.0,1.0,1.0,1.0,1.0,1.0,1.0,1.0,1.0,1.0,1.0,1.0,1.0,1.0,1.5,1.0,1.0,1.0,1.1,1.0,1.0,1.0,1.0,1.0,1.0,1.0,1.0,1.0,1.0,1.0,1.0,1.0,1.0,1.0,1.0,1.0,1.0,1.0,1.0,1.0,1.0,1.0,1.0,1.0,1.01,1.0,1.0,1.0,1.0,1.0,1.0,1.0,1.0,1.0,1.0,1.0,1.0,1.0,1.0,1.0,1.0,1.0,1.0,1.0,1.0,1.33,1.0,1.0,1.0,1.0,1.0,1.0,1.0,1.2,1.0,1.0,1.0,1.0,1.0,1.0,1.0,1.0,1.0,1.0,1.0,1.0,1.0,1.0,1.0,1.0,1.0,1.0,1.0,1.0,1.0,1.0,1.0,1.0,1.0,1.0,1.0,1.0,1.0,1.0,1.0,1.0,1.0,1.0,1.0,1.0,1.0,1.0,1.0,1.0,1.0,1.0,1.0,1.0,1.0,1.0,1.0],\"yaxis\":\"y\",\"type\":\"scatter\"}],                        {\"template\":{\"data\":{\"bar\":[{\"error_x\":{\"color\":\"#2a3f5f\"},\"error_y\":{\"color\":\"#2a3f5f\"},\"marker\":{\"line\":{\"color\":\"#E5ECF6\",\"width\":0.5},\"pattern\":{\"fillmode\":\"overlay\",\"size\":10,\"solidity\":0.2}},\"type\":\"bar\"}],\"barpolar\":[{\"marker\":{\"line\":{\"color\":\"#E5ECF6\",\"width\":0.5},\"pattern\":{\"fillmode\":\"overlay\",\"size\":10,\"solidity\":0.2}},\"type\":\"barpolar\"}],\"carpet\":[{\"aaxis\":{\"endlinecolor\":\"#2a3f5f\",\"gridcolor\":\"white\",\"linecolor\":\"white\",\"minorgridcolor\":\"white\",\"startlinecolor\":\"#2a3f5f\"},\"baxis\":{\"endlinecolor\":\"#2a3f5f\",\"gridcolor\":\"white\",\"linecolor\":\"white\",\"minorgridcolor\":\"white\",\"startlinecolor\":\"#2a3f5f\"},\"type\":\"carpet\"}],\"choropleth\":[{\"colorbar\":{\"outlinewidth\":0,\"ticks\":\"\"},\"type\":\"choropleth\"}],\"contour\":[{\"colorbar\":{\"outlinewidth\":0,\"ticks\":\"\"},\"colorscale\":[[0.0,\"#0d0887\"],[0.1111111111111111,\"#46039f\"],[0.2222222222222222,\"#7201a8\"],[0.3333333333333333,\"#9c179e\"],[0.4444444444444444,\"#bd3786\"],[0.5555555555555556,\"#d8576b\"],[0.6666666666666666,\"#ed7953\"],[0.7777777777777778,\"#fb9f3a\"],[0.8888888888888888,\"#fdca26\"],[1.0,\"#f0f921\"]],\"type\":\"contour\"}],\"contourcarpet\":[{\"colorbar\":{\"outlinewidth\":0,\"ticks\":\"\"},\"type\":\"contourcarpet\"}],\"heatmap\":[{\"colorbar\":{\"outlinewidth\":0,\"ticks\":\"\"},\"colorscale\":[[0.0,\"#0d0887\"],[0.1111111111111111,\"#46039f\"],[0.2222222222222222,\"#7201a8\"],[0.3333333333333333,\"#9c179e\"],[0.4444444444444444,\"#bd3786\"],[0.5555555555555556,\"#d8576b\"],[0.6666666666666666,\"#ed7953\"],[0.7777777777777778,\"#fb9f3a\"],[0.8888888888888888,\"#fdca26\"],[1.0,\"#f0f921\"]],\"type\":\"heatmap\"}],\"heatmapgl\":[{\"colorbar\":{\"outlinewidth\":0,\"ticks\":\"\"},\"colorscale\":[[0.0,\"#0d0887\"],[0.1111111111111111,\"#46039f\"],[0.2222222222222222,\"#7201a8\"],[0.3333333333333333,\"#9c179e\"],[0.4444444444444444,\"#bd3786\"],[0.5555555555555556,\"#d8576b\"],[0.6666666666666666,\"#ed7953\"],[0.7777777777777778,\"#fb9f3a\"],[0.8888888888888888,\"#fdca26\"],[1.0,\"#f0f921\"]],\"type\":\"heatmapgl\"}],\"histogram\":[{\"marker\":{\"pattern\":{\"fillmode\":\"overlay\",\"size\":10,\"solidity\":0.2}},\"type\":\"histogram\"}],\"histogram2d\":[{\"colorbar\":{\"outlinewidth\":0,\"ticks\":\"\"},\"colorscale\":[[0.0,\"#0d0887\"],[0.1111111111111111,\"#46039f\"],[0.2222222222222222,\"#7201a8\"],[0.3333333333333333,\"#9c179e\"],[0.4444444444444444,\"#bd3786\"],[0.5555555555555556,\"#d8576b\"],[0.6666666666666666,\"#ed7953\"],[0.7777777777777778,\"#fb9f3a\"],[0.8888888888888888,\"#fdca26\"],[1.0,\"#f0f921\"]],\"type\":\"histogram2d\"}],\"histogram2dcontour\":[{\"colorbar\":{\"outlinewidth\":0,\"ticks\":\"\"},\"colorscale\":[[0.0,\"#0d0887\"],[0.1111111111111111,\"#46039f\"],[0.2222222222222222,\"#7201a8\"],[0.3333333333333333,\"#9c179e\"],[0.4444444444444444,\"#bd3786\"],[0.5555555555555556,\"#d8576b\"],[0.6666666666666666,\"#ed7953\"],[0.7777777777777778,\"#fb9f3a\"],[0.8888888888888888,\"#fdca26\"],[1.0,\"#f0f921\"]],\"type\":\"histogram2dcontour\"}],\"mesh3d\":[{\"colorbar\":{\"outlinewidth\":0,\"ticks\":\"\"},\"type\":\"mesh3d\"}],\"parcoords\":[{\"line\":{\"colorbar\":{\"outlinewidth\":0,\"ticks\":\"\"}},\"type\":\"parcoords\"}],\"pie\":[{\"automargin\":true,\"type\":\"pie\"}],\"scatter\":[{\"marker\":{\"colorbar\":{\"outlinewidth\":0,\"ticks\":\"\"}},\"type\":\"scatter\"}],\"scatter3d\":[{\"line\":{\"colorbar\":{\"outlinewidth\":0,\"ticks\":\"\"}},\"marker\":{\"colorbar\":{\"outlinewidth\":0,\"ticks\":\"\"}},\"type\":\"scatter3d\"}],\"scattercarpet\":[{\"marker\":{\"colorbar\":{\"outlinewidth\":0,\"ticks\":\"\"}},\"type\":\"scattercarpet\"}],\"scattergeo\":[{\"marker\":{\"colorbar\":{\"outlinewidth\":0,\"ticks\":\"\"}},\"type\":\"scattergeo\"}],\"scattergl\":[{\"marker\":{\"colorbar\":{\"outlinewidth\":0,\"ticks\":\"\"}},\"type\":\"scattergl\"}],\"scattermapbox\":[{\"marker\":{\"colorbar\":{\"outlinewidth\":0,\"ticks\":\"\"}},\"type\":\"scattermapbox\"}],\"scatterpolar\":[{\"marker\":{\"colorbar\":{\"outlinewidth\":0,\"ticks\":\"\"}},\"type\":\"scatterpolar\"}],\"scatterpolargl\":[{\"marker\":{\"colorbar\":{\"outlinewidth\":0,\"ticks\":\"\"}},\"type\":\"scatterpolargl\"}],\"scatterternary\":[{\"marker\":{\"colorbar\":{\"outlinewidth\":0,\"ticks\":\"\"}},\"type\":\"scatterternary\"}],\"surface\":[{\"colorbar\":{\"outlinewidth\":0,\"ticks\":\"\"},\"colorscale\":[[0.0,\"#0d0887\"],[0.1111111111111111,\"#46039f\"],[0.2222222222222222,\"#7201a8\"],[0.3333333333333333,\"#9c179e\"],[0.4444444444444444,\"#bd3786\"],[0.5555555555555556,\"#d8576b\"],[0.6666666666666666,\"#ed7953\"],[0.7777777777777778,\"#fb9f3a\"],[0.8888888888888888,\"#fdca26\"],[1.0,\"#f0f921\"]],\"type\":\"surface\"}],\"table\":[{\"cells\":{\"fill\":{\"color\":\"#EBF0F8\"},\"line\":{\"color\":\"white\"}},\"header\":{\"fill\":{\"color\":\"#C8D4E3\"},\"line\":{\"color\":\"white\"}},\"type\":\"table\"}]},\"layout\":{\"annotationdefaults\":{\"arrowcolor\":\"#2a3f5f\",\"arrowhead\":0,\"arrowwidth\":1},\"autotypenumbers\":\"strict\",\"coloraxis\":{\"colorbar\":{\"outlinewidth\":0,\"ticks\":\"\"}},\"colorscale\":{\"diverging\":[[0,\"#8e0152\"],[0.1,\"#c51b7d\"],[0.2,\"#de77ae\"],[0.3,\"#f1b6da\"],[0.4,\"#fde0ef\"],[0.5,\"#f7f7f7\"],[0.6,\"#e6f5d0\"],[0.7,\"#b8e186\"],[0.8,\"#7fbc41\"],[0.9,\"#4d9221\"],[1,\"#276419\"]],\"sequential\":[[0.0,\"#0d0887\"],[0.1111111111111111,\"#46039f\"],[0.2222222222222222,\"#7201a8\"],[0.3333333333333333,\"#9c179e\"],[0.4444444444444444,\"#bd3786\"],[0.5555555555555556,\"#d8576b\"],[0.6666666666666666,\"#ed7953\"],[0.7777777777777778,\"#fb9f3a\"],[0.8888888888888888,\"#fdca26\"],[1.0,\"#f0f921\"]],\"sequentialminus\":[[0.0,\"#0d0887\"],[0.1111111111111111,\"#46039f\"],[0.2222222222222222,\"#7201a8\"],[0.3333333333333333,\"#9c179e\"],[0.4444444444444444,\"#bd3786\"],[0.5555555555555556,\"#d8576b\"],[0.6666666666666666,\"#ed7953\"],[0.7777777777777778,\"#fb9f3a\"],[0.8888888888888888,\"#fdca26\"],[1.0,\"#f0f921\"]]},\"colorway\":[\"#636efa\",\"#EF553B\",\"#00cc96\",\"#ab63fa\",\"#FFA15A\",\"#19d3f3\",\"#FF6692\",\"#B6E880\",\"#FF97FF\",\"#FECB52\"],\"font\":{\"color\":\"#2a3f5f\"},\"geo\":{\"bgcolor\":\"white\",\"lakecolor\":\"white\",\"landcolor\":\"#E5ECF6\",\"showlakes\":true,\"showland\":true,\"subunitcolor\":\"white\"},\"hoverlabel\":{\"align\":\"left\"},\"hovermode\":\"closest\",\"mapbox\":{\"style\":\"light\"},\"paper_bgcolor\":\"white\",\"plot_bgcolor\":\"#E5ECF6\",\"polar\":{\"angularaxis\":{\"gridcolor\":\"white\",\"linecolor\":\"white\",\"ticks\":\"\"},\"bgcolor\":\"#E5ECF6\",\"radialaxis\":{\"gridcolor\":\"white\",\"linecolor\":\"white\",\"ticks\":\"\"}},\"scene\":{\"xaxis\":{\"backgroundcolor\":\"#E5ECF6\",\"gridcolor\":\"white\",\"gridwidth\":2,\"linecolor\":\"white\",\"showbackground\":true,\"ticks\":\"\",\"zerolinecolor\":\"white\"},\"yaxis\":{\"backgroundcolor\":\"#E5ECF6\",\"gridcolor\":\"white\",\"gridwidth\":2,\"linecolor\":\"white\",\"showbackground\":true,\"ticks\":\"\",\"zerolinecolor\":\"white\"},\"zaxis\":{\"backgroundcolor\":\"#E5ECF6\",\"gridcolor\":\"white\",\"gridwidth\":2,\"linecolor\":\"white\",\"showbackground\":true,\"ticks\":\"\",\"zerolinecolor\":\"white\"}},\"shapedefaults\":{\"line\":{\"color\":\"#2a3f5f\"}},\"ternary\":{\"aaxis\":{\"gridcolor\":\"white\",\"linecolor\":\"white\",\"ticks\":\"\"},\"baxis\":{\"gridcolor\":\"white\",\"linecolor\":\"white\",\"ticks\":\"\"},\"bgcolor\":\"#E5ECF6\",\"caxis\":{\"gridcolor\":\"white\",\"linecolor\":\"white\",\"ticks\":\"\"}},\"title\":{\"x\":0.05},\"xaxis\":{\"automargin\":true,\"gridcolor\":\"white\",\"linecolor\":\"white\",\"ticks\":\"\",\"title\":{\"standoff\":15},\"zerolinecolor\":\"white\",\"zerolinewidth\":2},\"yaxis\":{\"automargin\":true,\"gridcolor\":\"white\",\"linecolor\":\"white\",\"ticks\":\"\",\"title\":{\"standoff\":15},\"zerolinecolor\":\"white\",\"zerolinewidth\":2}}},\"xaxis\":{\"anchor\":\"y\",\"domain\":[0.0,1.0],\"title\":{\"text\":\"Company\"}},\"yaxis\":{\"anchor\":\"x\",\"domain\":[0.0,1.0],\"title\":{\"text\":\"Valuation\"}},\"legend\":{\"tracegroupgap\":0},\"margin\":{\"t\":60}},                        {\"responsive\": true}                    ).then(function(){\n",
              "                            \n",
              "var gd = document.getElementById('02f74096-4e7b-4464-b762-67977b4f33c7');\n",
              "var x = new MutationObserver(function (mutations, observer) {{\n",
              "        var display = window.getComputedStyle(gd).display;\n",
              "        if (!display || display === 'none') {{\n",
              "            console.log([gd, 'removed!']);\n",
              "            Plotly.purge(gd);\n",
              "            observer.disconnect();\n",
              "        }}\n",
              "}});\n",
              "\n",
              "// Listen for the removal of the full notebook cells\n",
              "var notebookContainer = gd.closest('#notebook-container');\n",
              "if (notebookContainer) {{\n",
              "    x.observe(notebookContainer, {childList: true});\n",
              "}}\n",
              "\n",
              "// Listen for the clearing of the current output cell\n",
              "var outputEl = gd.closest('.output');\n",
              "if (outputEl) {{\n",
              "    x.observe(outputEl, {childList: true});\n",
              "}}\n",
              "\n",
              "                        })                };                            </script>        </div>\n",
              "</body>\n",
              "</html>"
            ]
          },
          "metadata": {}
        }
      ]
    },
    {
      "cell_type": "code",
      "source": [
        ""
      ],
      "metadata": {
        "id": "UlgVlqjov9mU"
      },
      "execution_count": null,
      "outputs": []
    },
    {
      "cell_type": "markdown",
      "source": [
        "Gráfico de empresas de unicórnios iniciantes do Brasil:"
      ],
      "metadata": {
        "id": "eKKsdm17v9pp"
      }
    },
    {
      "cell_type": "code",
      "source": [
        "#brasil = df[df[['Country','Valuation']]== 'Brazil']\n"
      ],
      "metadata": {
        "id": "4zhS5VGE0t0h"
      },
      "execution_count": null,
      "outputs": []
    },
    {
      "cell_type": "code",
      "source": [
        ""
      ],
      "metadata": {
        "id": "s1zePQSPv9uO"
      },
      "execution_count": null,
      "outputs": []
    },
    {
      "cell_type": "markdown",
      "source": [
        "Palavra nuvem:\n",
        "\n",
        "\n",
        "\n",
        "Usamos a nuvem de palavras para exibir os visuais dos dados de texto. Nuvens de palavras exibem as palavras mais proeminentes ou frequentes em um corpo de texto."
      ],
      "metadata": {
        "id": "vkk5mkuC0N_7"
      }
    },
    {
      "cell_type": "code",
      "source": [
        ""
      ],
      "metadata": {
        "id": "3w9Fa0Az0OEV"
      },
      "execution_count": null,
      "outputs": []
    },
    {
      "cell_type": "code",
      "source": [
        "from wordcloud import WordCloud"
      ],
      "metadata": {
        "id": "nw6Px8UK0OID"
      },
      "execution_count": null,
      "outputs": []
    },
    {
      "cell_type": "code",
      "source": [
        "wordCloud = WordCloud().generate(' '. join(df.Investors))\n",
        "\n",
        "plt.figure(figsize=(15,17))\n",
        "plt.axis('off')\n",
        "plt.imshow(wordCloud, interpolation='bilinear')\n",
        "plt.show()"
      ],
      "metadata": {
        "colab": {
          "base_uri": "https://localhost:8080/",
          "height": 449
        },
        "id": "JwaXl5B30OLp",
        "outputId": "80b68ac0-325b-4da3-f478-c7c29e3bf6f5"
      },
      "execution_count": null,
      "outputs": [
        {
          "output_type": "display_data",
          "data": {
            "image/png": "[encoded data removed]",
            "text/plain": [
              "<Figure size 1080x1224 with 1 Axes>"
            ]
          },
          "metadata": {
            "needs_background": "light"
          }
        }
      ]
    },
    {
      "cell_type": "code",
      "source": [
        ""
      ],
      "metadata": {
        "id": "kFTCVa0c0OO6"
      },
      "execution_count": null,
      "outputs": []
    },
    {
      "cell_type": "markdown",
      "source": [
        "Gráfico da startups mais valorizados"
      ],
      "metadata": {
        "id": "boZU2ggx0OSS"
      }
    },
    {
      "cell_type": "code",
      "source": [
        "valorizados = df.groupby('Company').sum().sort_values('Valuation', ascending=False).head(20)"
      ],
      "metadata": {
        "id": "2YCJaVhW0OUy"
      },
      "execution_count": null,
      "outputs": []
    },
    {
      "cell_type": "code",
      "source": [
        "valorizados = valorizados.reset_index()\n",
        "px.bar(x='Company', y='Valuation', data_frame=valorizados)"
      ],
      "metadata": {
        "colab": {
          "base_uri": "https://localhost:8080/",
          "height": 542
        },
        "id": "E5XTAMTz4eXH",
        "outputId": "8f7308b7-28c1-4eeb-a072-ff443de1fb59"
      },
      "execution_count": null,
      "outputs": [
        {
          "output_type": "display_data",
          "data": {
            "text/html": [
              "<html>\n",
              "<head><meta charset=\"utf-8\" /></head>\n",
              "<body>\n",
              "    <div>            <script src=\"https://cdnjs.cloudflare.com/ajax/libs/mathjax/2.7.5/MathJax.js?config=TeX-AMS-MML_SVG\"></script><script type=\"text/javascript\">if (window.MathJax) {MathJax.Hub.Config({SVG: {font: \"STIX-Web\"}});}</script>                <script type=\"text/javascript\">window.PlotlyConfig = {MathJaxConfig: 'local'};</script>\n",
              "        <script src=\"https://cdn.plot.ly/plotly-2.8.3.min.js\"></script>                <div id=\"367daf8c-6850-437c-81b9-3d0e687a8994\" class=\"plotly-graph-div\" style=\"height:525px; width:100%;\"></div>            <script type=\"text/javascript\">                                    window.PLOTLYENV=window.PLOTLYENV || {};                                    if (document.getElementById(\"367daf8c-6850-437c-81b9-3d0e687a8994\")) {                    Plotly.newPlot(                        \"367daf8c-6850-437c-81b9-3d0e687a8994\",                        [{\"alignmentgroup\":\"True\",\"hovertemplate\":\"Company=%{x}<br>Valuation=%{y}<extra></extra>\",\"legendgroup\":\"\",\"marker\":{\"color\":\"#636efa\",\"pattern\":{\"shape\":\"\"}},\"name\":\"\",\"offsetgroup\":\"\",\"orientation\":\"v\",\"showlegend\":false,\"textposition\":\"auto\",\"x\":[\"Bytedance\",\"SpaceX\",\"Stripe\",\"Klarna\",\"Canva\",\"Instacart\",\"Databricks\",\"Revolut\",\"Nubank\",\"Epic Games\",\"Chime\",\"FTX\",\"BYJU's\",\"J&T Express\",\"Xiaohongshu\",\"Fanatics\",\"Yuanfudao\",\"DJI Innovations\",\"Checkout.com\",\"goPuff\"],\"xaxis\":\"x\",\"y\":[140.0,100.3,95.0,45.6,40.0,39.0,38.0,33.0,30.0,28.7,25.0,25.0,21.0,20.0,20.0,18.0,15.5,15.0,15.0,15.0],\"yaxis\":\"y\",\"type\":\"bar\"}],                        {\"template\":{\"data\":{\"bar\":[{\"error_x\":{\"color\":\"#2a3f5f\"},\"error_y\":{\"color\":\"#2a3f5f\"},\"marker\":{\"line\":{\"color\":\"#E5ECF6\",\"width\":0.5},\"pattern\":{\"fillmode\":\"overlay\",\"size\":10,\"solidity\":0.2}},\"type\":\"bar\"}],\"barpolar\":[{\"marker\":{\"line\":{\"color\":\"#E5ECF6\",\"width\":0.5},\"pattern\":{\"fillmode\":\"overlay\",\"size\":10,\"solidity\":0.2}},\"type\":\"barpolar\"}],\"carpet\":[{\"aaxis\":{\"endlinecolor\":\"#2a3f5f\",\"gridcolor\":\"white\",\"linecolor\":\"white\",\"minorgridcolor\":\"white\",\"startlinecolor\":\"#2a3f5f\"},\"baxis\":{\"endlinecolor\":\"#2a3f5f\",\"gridcolor\":\"white\",\"linecolor\":\"white\",\"minorgridcolor\":\"white\",\"startlinecolor\":\"#2a3f5f\"},\"type\":\"carpet\"}],\"choropleth\":[{\"colorbar\":{\"outlinewidth\":0,\"ticks\":\"\"},\"type\":\"choropleth\"}],\"contour\":[{\"colorbar\":{\"outlinewidth\":0,\"ticks\":\"\"},\"colorscale\":[[0.0,\"#0d0887\"],[0.1111111111111111,\"#46039f\"],[0.2222222222222222,\"#7201a8\"],[0.3333333333333333,\"#9c179e\"],[0.4444444444444444,\"#bd3786\"],[0.5555555555555556,\"#d8576b\"],[0.6666666666666666,\"#ed7953\"],[0.7777777777777778,\"#fb9f3a\"],[0.8888888888888888,\"#fdca26\"],[1.0,\"#f0f921\"]],\"type\":\"contour\"}],\"contourcarpet\":[{\"colorbar\":{\"outlinewidth\":0,\"ticks\":\"\"},\"type\":\"contourcarpet\"}],\"heatmap\":[{\"colorbar\":{\"outlinewidth\":0,\"ticks\":\"\"},\"colorscale\":[[0.0,\"#0d0887\"],[0.1111111111111111,\"#46039f\"],[0.2222222222222222,\"#7201a8\"],[0.3333333333333333,\"#9c179e\"],[0.4444444444444444,\"#bd3786\"],[0.5555555555555556,\"#d8576b\"],[0.6666666666666666,\"#ed7953\"],[0.7777777777777778,\"#fb9f3a\"],[0.8888888888888888,\"#fdca26\"],[1.0,\"#f0f921\"]],\"type\":\"heatmap\"}],\"heatmapgl\":[{\"colorbar\":{\"outlinewidth\":0,\"ticks\":\"\"},\"colorscale\":[[0.0,\"#0d0887\"],[0.1111111111111111,\"#46039f\"],[0.2222222222222222,\"#7201a8\"],[0.3333333333333333,\"#9c179e\"],[0.4444444444444444,\"#bd3786\"],[0.5555555555555556,\"#d8576b\"],[0.6666666666666666,\"#ed7953\"],[0.7777777777777778,\"#fb9f3a\"],[0.8888888888888888,\"#fdca26\"],[1.0,\"#f0f921\"]],\"type\":\"heatmapgl\"}],\"histogram\":[{\"marker\":{\"pattern\":{\"fillmode\":\"overlay\",\"size\":10,\"solidity\":0.2}},\"type\":\"histogram\"}],\"histogram2d\":[{\"colorbar\":{\"outlinewidth\":0,\"ticks\":\"\"},\"colorscale\":[[0.0,\"#0d0887\"],[0.1111111111111111,\"#46039f\"],[0.2222222222222222,\"#7201a8\"],[0.3333333333333333,\"#9c179e\"],[0.4444444444444444,\"#bd3786\"],[0.5555555555555556,\"#d8576b\"],[0.6666666666666666,\"#ed7953\"],[0.7777777777777778,\"#fb9f3a\"],[0.8888888888888888,\"#fdca26\"],[1.0,\"#f0f921\"]],\"type\":\"histogram2d\"}],\"histogram2dcontour\":[{\"colorbar\":{\"outlinewidth\":0,\"ticks\":\"\"},\"colorscale\":[[0.0,\"#0d0887\"],[0.1111111111111111,\"#46039f\"],[0.2222222222222222,\"#7201a8\"],[0.3333333333333333,\"#9c179e\"],[0.4444444444444444,\"#bd3786\"],[0.5555555555555556,\"#d8576b\"],[0.6666666666666666,\"#ed7953\"],[0.7777777777777778,\"#fb9f3a\"],[0.8888888888888888,\"#fdca26\"],[1.0,\"#f0f921\"]],\"type\":\"histogram2dcontour\"}],\"mesh3d\":[{\"colorbar\":{\"outlinewidth\":0,\"ticks\":\"\"},\"type\":\"mesh3d\"}],\"parcoords\":[{\"line\":{\"colorbar\":{\"outlinewidth\":0,\"ticks\":\"\"}},\"type\":\"parcoords\"}],\"pie\":[{\"automargin\":true,\"type\":\"pie\"}],\"scatter\":[{\"marker\":{\"colorbar\":{\"outlinewidth\":0,\"ticks\":\"\"}},\"type\":\"scatter\"}],\"scatter3d\":[{\"line\":{\"colorbar\":{\"outlinewidth\":0,\"ticks\":\"\"}},\"marker\":{\"colorbar\":{\"outlinewidth\":0,\"ticks\":\"\"}},\"type\":\"scatter3d\"}],\"scattercarpet\":[{\"marker\":{\"colorbar\":{\"outlinewidth\":0,\"ticks\":\"\"}},\"type\":\"scattercarpet\"}],\"scattergeo\":[{\"marker\":{\"colorbar\":{\"outlinewidth\":0,\"ticks\":\"\"}},\"type\":\"scattergeo\"}],\"scattergl\":[{\"marker\":{\"colorbar\":{\"outlinewidth\":0,\"ticks\":\"\"}},\"type\":\"scattergl\"}],\"scattermapbox\":[{\"marker\":{\"colorbar\":{\"outlinewidth\":0,\"ticks\":\"\"}},\"type\":\"scattermapbox\"}],\"scatterpolar\":[{\"marker\":{\"colorbar\":{\"outlinewidth\":0,\"ticks\":\"\"}},\"type\":\"scatterpolar\"}],\"scatterpolargl\":[{\"marker\":{\"colorbar\":{\"outlinewidth\":0,\"ticks\":\"\"}},\"type\":\"scatterpolargl\"}],\"scatterternary\":[{\"marker\":{\"colorbar\":{\"outlinewidth\":0,\"ticks\":\"\"}},\"type\":\"scatterternary\"}],\"surface\":[{\"colorbar\":{\"outlinewidth\":0,\"ticks\":\"\"},\"colorscale\":[[0.0,\"#0d0887\"],[0.1111111111111111,\"#46039f\"],[0.2222222222222222,\"#7201a8\"],[0.3333333333333333,\"#9c179e\"],[0.4444444444444444,\"#bd3786\"],[0.5555555555555556,\"#d8576b\"],[0.6666666666666666,\"#ed7953\"],[0.7777777777777778,\"#fb9f3a\"],[0.8888888888888888,\"#fdca26\"],[1.0,\"#f0f921\"]],\"type\":\"surface\"}],\"table\":[{\"cells\":{\"fill\":{\"color\":\"#EBF0F8\"},\"line\":{\"color\":\"white\"}},\"header\":{\"fill\":{\"color\":\"#C8D4E3\"},\"line\":{\"color\":\"white\"}},\"type\":\"table\"}]},\"layout\":{\"annotationdefaults\":{\"arrowcolor\":\"#2a3f5f\",\"arrowhead\":0,\"arrowwidth\":1},\"autotypenumbers\":\"strict\",\"coloraxis\":{\"colorbar\":{\"outlinewidth\":0,\"ticks\":\"\"}},\"colorscale\":{\"diverging\":[[0,\"#8e0152\"],[0.1,\"#c51b7d\"],[0.2,\"#de77ae\"],[0.3,\"#f1b6da\"],[0.4,\"#fde0ef\"],[0.5,\"#f7f7f7\"],[0.6,\"#e6f5d0\"],[0.7,\"#b8e186\"],[0.8,\"#7fbc41\"],[0.9,\"#4d9221\"],[1,\"#276419\"]],\"sequential\":[[0.0,\"#0d0887\"],[0.1111111111111111,\"#46039f\"],[0.2222222222222222,\"#7201a8\"],[0.3333333333333333,\"#9c179e\"],[0.4444444444444444,\"#bd3786\"],[0.5555555555555556,\"#d8576b\"],[0.6666666666666666,\"#ed7953\"],[0.7777777777777778,\"#fb9f3a\"],[0.8888888888888888,\"#fdca26\"],[1.0,\"#f0f921\"]],\"sequentialminus\":[[0.0,\"#0d0887\"],[0.1111111111111111,\"#46039f\"],[0.2222222222222222,\"#7201a8\"],[0.3333333333333333,\"#9c179e\"],[0.4444444444444444,\"#bd3786\"],[0.5555555555555556,\"#d8576b\"],[0.6666666666666666,\"#ed7953\"],[0.7777777777777778,\"#fb9f3a\"],[0.8888888888888888,\"#fdca26\"],[1.0,\"#f0f921\"]]},\"colorway\":[\"#636efa\",\"#EF553B\",\"#00cc96\",\"#ab63fa\",\"#FFA15A\",\"#19d3f3\",\"#FF6692\",\"#B6E880\",\"#FF97FF\",\"#FECB52\"],\"font\":{\"color\":\"#2a3f5f\"},\"geo\":{\"bgcolor\":\"white\",\"lakecolor\":\"white\",\"landcolor\":\"#E5ECF6\",\"showlakes\":true,\"showland\":true,\"subunitcolor\":\"white\"},\"hoverlabel\":{\"align\":\"left\"},\"hovermode\":\"closest\",\"mapbox\":{\"style\":\"light\"},\"paper_bgcolor\":\"white\",\"plot_bgcolor\":\"#E5ECF6\",\"polar\":{\"angularaxis\":{\"gridcolor\":\"white\",\"linecolor\":\"white\",\"ticks\":\"\"},\"bgcolor\":\"#E5ECF6\",\"radialaxis\":{\"gridcolor\":\"white\",\"linecolor\":\"white\",\"ticks\":\"\"}},\"scene\":{\"xaxis\":{\"backgroundcolor\":\"#E5ECF6\",\"gridcolor\":\"white\",\"gridwidth\":2,\"linecolor\":\"white\",\"showbackground\":true,\"ticks\":\"\",\"zerolinecolor\":\"white\"},\"yaxis\":{\"backgroundcolor\":\"#E5ECF6\",\"gridcolor\":\"white\",\"gridwidth\":2,\"linecolor\":\"white\",\"showbackground\":true,\"ticks\":\"\",\"zerolinecolor\":\"white\"},\"zaxis\":{\"backgroundcolor\":\"#E5ECF6\",\"gridcolor\":\"white\",\"gridwidth\":2,\"linecolor\":\"white\",\"showbackground\":true,\"ticks\":\"\",\"zerolinecolor\":\"white\"}},\"shapedefaults\":{\"line\":{\"color\":\"#2a3f5f\"}},\"ternary\":{\"aaxis\":{\"gridcolor\":\"white\",\"linecolor\":\"white\",\"ticks\":\"\"},\"baxis\":{\"gridcolor\":\"white\",\"linecolor\":\"white\",\"ticks\":\"\"},\"bgcolor\":\"#E5ECF6\",\"caxis\":{\"gridcolor\":\"white\",\"linecolor\":\"white\",\"ticks\":\"\"}},\"title\":{\"x\":0.05},\"xaxis\":{\"automargin\":true,\"gridcolor\":\"white\",\"linecolor\":\"white\",\"ticks\":\"\",\"title\":{\"standoff\":15},\"zerolinecolor\":\"white\",\"zerolinewidth\":2},\"yaxis\":{\"automargin\":true,\"gridcolor\":\"white\",\"linecolor\":\"white\",\"ticks\":\"\",\"title\":{\"standoff\":15},\"zerolinecolor\":\"white\",\"zerolinewidth\":2}}},\"xaxis\":{\"anchor\":\"y\",\"domain\":[0.0,1.0],\"title\":{\"text\":\"Company\"}},\"yaxis\":{\"anchor\":\"x\",\"domain\":[0.0,1.0],\"title\":{\"text\":\"Valuation\"}},\"legend\":{\"tracegroupgap\":0},\"margin\":{\"t\":60},\"barmode\":\"relative\"},                        {\"responsive\": true}                    ).then(function(){\n",
              "                            \n",
              "var gd = document.getElementById('367daf8c-6850-437c-81b9-3d0e687a8994');\n",
              "var x = new MutationObserver(function (mutations, observer) {{\n",
              "        var display = window.getComputedStyle(gd).display;\n",
              "        if (!display || display === 'none') {{\n",
              "            console.log([gd, 'removed!']);\n",
              "            Plotly.purge(gd);\n",
              "            observer.disconnect();\n",
              "        }}\n",
              "}});\n",
              "\n",
              "// Listen for the removal of the full notebook cells\n",
              "var notebookContainer = gd.closest('#notebook-container');\n",
              "if (notebookContainer) {{\n",
              "    x.observe(notebookContainer, {childList: true});\n",
              "}}\n",
              "\n",
              "// Listen for the clearing of the current output cell\n",
              "var outputEl = gd.closest('.output');\n",
              "if (outputEl) {{\n",
              "    x.observe(outputEl, {childList: true});\n",
              "}}\n",
              "\n",
              "                        })                };                            </script>        </div>\n",
              "</body>\n",
              "</html>"
            ]
          },
          "metadata": {}
        }
      ]
    },
    {
      "cell_type": "markdown",
      "source": [
        "Temos o Nubank empresa brasileira em 9º lugar das Startups mais valorizadas no mundo."
      ],
      "metadata": {
        "id": "DqhIw6wV4ea2"
      }
    },
    {
      "cell_type": "code",
      "source": [
        ""
      ],
      "metadata": {
        "id": "Ru8mLMAQ4eeO"
      },
      "execution_count": null,
      "outputs": []
    },
    {
      "cell_type": "markdown",
      "source": [
        "Mapa geográfico:"
      ],
      "metadata": {
        "id": "G3J08sp74ehX"
      }
    },
    {
      "cell_type": "code",
      "source": [
        "codigo_pais = {'afghanistan': 'AFG',\n",
        " 'albania': 'ALB',\n",
        " 'algeria': 'DZA',\n",
        " 'american samoa': 'ASM',\n",
        " 'andorra': 'AND',\n",
        " 'angola': 'AGO',\n",
        " 'anguilla': 'AIA',\n",
        " 'antigua and barbuda': 'ATG',\n",
        " 'argentina': 'ARG',\n",
        " 'armenia': 'ARM',\n",
        " 'aruba': 'ABW',\n",
        " 'australia': 'AUS',\n",
        " 'austria': 'AUT',\n",
        " 'azerbaijan': 'AZE',\n",
        " 'bahamas': 'BHM',\n",
        " 'bahrain': 'BHR',\n",
        " 'bangladesh': 'BGD',\n",
        " 'barbados': 'BRB',\n",
        " 'belarus': 'BLR',\n",
        " 'belgium': 'BEL',\n",
        " 'belize': 'BLZ',\n",
        " 'benin': 'BEN',\n",
        " 'bermuda': 'BMU',\n",
        " 'bhutan': 'BTN',\n",
        " 'bolivia': 'BOL',\n",
        " 'bosnia and herzegovina': 'BIH',\n",
        " 'botswana': 'BWA',\n",
        " 'brazil': 'BRA',\n",
        " 'british virgin islands': 'VGB',\n",
        " 'brunei': 'BRN',\n",
        " 'bulgaria': 'BGR',\n",
        " 'burkina faso': 'BFA',\n",
        " 'burma': 'MMR',\n",
        " 'burundi': 'BDI',\n",
        " 'cabo verde': 'CPV',\n",
        " 'cambodia': 'KHM',\n",
        " 'cameroon': 'CMR',\n",
        " 'canada': 'CAN',\n",
        " 'cayman islands': 'CYM',\n",
        " 'central african republic': 'CAF',\n",
        " 'chad': 'TCD',\n",
        " 'chile': 'CHL',\n",
        " 'china': 'CHN',\n",
        " 'colombia': 'COL',\n",
        " 'comoros': 'COM',\n",
        " 'congo democratic': 'COD',\n",
        " 'Congo republic': 'COG',\n",
        " 'cook islands': 'COK',\n",
        " 'costa rica': 'CRI',\n",
        " \"cote d'ivoire\": 'CIV',\n",
        " 'croatia': 'HRV',\n",
        " 'cuba': 'CUB',\n",
        " 'curacao': 'CUW',\n",
        " 'cyprus': 'CYP',\n",
        " 'czech republic': 'CZE',\n",
        " 'denmark': 'DNK',\n",
        " 'djibouti': 'DJI',\n",
        " 'dominica': 'DMA',\n",
        " 'dominican republic': 'DOM',\n",
        " 'ecuador': 'ECU',\n",
        " 'egypt': 'EGY',\n",
        " 'el salvador': 'SLV',\n",
        " 'equatorial guinea': 'GNQ',\n",
        " 'eritrea': 'ERI',\n",
        " 'estonia': 'EST',\n",
        " 'ethiopia': 'ETH',\n",
        " 'falkland islands': 'FLK',\n",
        " 'faroe islands': 'FRO',\n",
        " 'fiji': 'FJI',\n",
        " 'finland': 'FIN',\n",
        " 'france': 'FRA',\n",
        " 'french polynesia': 'PYF',\n",
        " 'gabon': 'GAB',\n",
        " 'gambia, the': 'GMB',\n",
        " 'georgia': 'GEO',\n",
        " 'germany': 'DEU',\n",
        " 'ghana': 'GHA',\n",
        " 'gibraltar': 'GIB',\n",
        " 'greece': 'GRC',\n",
        " 'greenland': 'GRL',\n",
        " 'grenada': 'GRD',\n",
        " 'guam': 'GUM',\n",
        " 'guatemala': 'GTM',\n",
        " 'guernsey': 'GGY',\n",
        " 'guinea-bissau': 'GNB',\n",
        " 'guinea': 'GIN',\n",
        " 'guyana': 'GUY',\n",
        " 'haiti': 'HTI',\n",
        " 'honduras': 'HND',\n",
        " 'hong kong': 'HKG',\n",
        " 'hungary': 'HUN',\n",
        " 'iceland': 'ISL',\n",
        " 'india': 'IND',\n",
        " 'indonesia': 'IDN',\n",
        " 'iran': 'IRN',\n",
        " 'iraq': 'IRQ',\n",
        " 'ireland': 'IRL',\n",
        " 'isle of man': 'IMN',\n",
        " 'israel': 'ISR',\n",
        " 'italy': 'ITA',\n",
        " 'jamaica': 'JAM',\n",
        " 'japan': 'JPN',\n",
        " 'jersey': 'JEY',\n",
        " 'jordan': 'JOR',\n",
        " 'kazakhstan': 'KAZ',\n",
        " 'kenya': 'KEN',\n",
        " 'kiribati': 'KIR',\n",
        " 'north korea': 'PRK',\n",
        " 'south korea': 'KOR',\n",
        " 'kosovo': 'KSV',\n",
        " 'kuwait': 'KWT',\n",
        " 'kyrgyzstan': 'KGZ',\n",
        " 'laos': 'LAO',\n",
        " 'latvia': 'LVA',\n",
        " 'lebanon': 'LBN',\n",
        " 'lesotho': 'LSO',\n",
        " 'liberia': 'LBR',\n",
        " 'libya': 'LBY',\n",
        " 'liechtenstein': 'LIE',\n",
        " 'lithuania': 'LTU',\n",
        " 'luxembourg': 'LUX',\n",
        " 'macau': 'MAC',\n",
        " 'macedonia': 'MKD',\n",
        " 'madagascar': 'MDG',\n",
        " 'malawi': 'MWI',\n",
        " 'malaysia': 'MYS',\n",
        " 'maldives': 'MDV',\n",
        " 'mali': 'MLI',\n",
        " 'malta': 'MLT',\n",
        " 'marshall islands': 'MHL',\n",
        " 'mauritania': 'MRT',\n",
        " 'mauritius': 'MUS',\n",
        " 'mexico': 'MEX',\n",
        " 'micronesia': 'FSM',\n",
        " 'moldova': 'MDA',\n",
        " 'monaco': 'MCO',\n",
        " 'mongolia': 'MNG',\n",
        " 'montenegro': 'MNE',\n",
        " 'morocco': 'MAR',\n",
        " 'mozambique': 'MOZ',\n",
        " 'namibia': 'NAM',\n",
        " 'nepal': 'NPL',\n",
        " 'netherlands': 'NLD',\n",
        " 'new caledonia': 'NCL',\n",
        " 'new zealand': 'NZL',\n",
        " 'nicaragua': 'NIC',\n",
        " 'nigeria': 'NGA',\n",
        " 'niger': 'NER',\n",
        " 'niue': 'NIU',\n",
        " 'northern mariana islands': 'MNP',\n",
        " 'norway': 'NOR',\n",
        " 'oman': 'OMN',\n",
        " 'pakistan': 'PAK',\n",
        " 'palau': 'PLW',\n",
        " 'panama': 'PAN',\n",
        " 'papua new guinea': 'PNG',\n",
        " 'paraguay': 'PRY',\n",
        " 'peru': 'PER',\n",
        " 'philippines': 'PHL',\n",
        " 'poland': 'POL',\n",
        " 'portugal': 'PRT',\n",
        " 'puerto rico': 'PRI',\n",
        " 'qatar': 'QAT',\n",
        " 'romania': 'ROU',\n",
        " 'russia': 'RUS',\n",
        " 'rwanda': 'RWA',\n",
        " 'saint kitts and nevis': 'KNA',\n",
        " 'saint lucia': 'LCA',\n",
        " 'saint martin': 'MAF',\n",
        " 'saint pierre and miquelon': 'SPM',\n",
        " 'saint vincent and the grenadines': 'VCT',\n",
        " 'samoa': 'WSM',\n",
        " 'san marino': 'SMR',\n",
        " 'sao tome and principe': 'STP',\n",
        " 'saudi arabia': 'SAU',\n",
        " 'senegal': 'SEN',\n",
        " 'serbia': 'SRB',\n",
        " 'seychelles': 'SYC',\n",
        " 'sierra leone': 'SLE',\n",
        " 'singapore': 'SGP',\n",
        " 'sint maarten': 'SXM',\n",
        " 'slovakia': 'SVK',\n",
        " 'slovenia': 'SVN',\n",
        " 'solomon islands': 'SLB',\n",
        " 'somalia': 'SOM',\n",
        " 'south africa': 'ZAF',\n",
        " 'south sudan': 'SSD',\n",
        " 'spain': 'ESP',\n",
        " 'sri lanka': 'LKA',\n",
        " 'sudan': 'SDN',\n",
        " 'suriname': 'SUR',\n",
        " 'swaziland': 'SWZ',\n",
        " 'sweden': 'SWE',\n",
        " 'switzerland': 'CHE',\n",
        " 'syria': 'SYR',\n",
        " 'taiwan': 'TWN',\n",
        " 'tajikistan': 'TJK',\n",
        " 'tanzania': 'TZA',\n",
        " 'thailand': 'THA',\n",
        " 'timor-leste': 'TLS',\n",
        " 'togo': 'TGO',\n",
        " 'tonga': 'TON',\n",
        " 'trinidad and tobago': 'TTO',\n",
        " 'tunisia': 'TUN',\n",
        " 'turkey': 'TUR',\n",
        " 'turkmenistan': 'TKM',\n",
        " 'tuvalu': 'TUV',\n",
        " 'uganda': 'UGA',\n",
        " 'ukraine': 'UKR',\n",
        " 'united arab emirates': 'ARE',\n",
        " 'united kingdom': 'GBR',\n",
        " 'united states': 'USA',\n",
        " 'uruguay': 'URY',\n",
        " 'uzbekistan': 'UZB',\n",
        " 'vanuatu': 'VUT',\n",
        " 'venezuela': 'VEN',\n",
        " 'vietnam': 'VNM',\n",
        " 'virgin islands': 'VGB',\n",
        " 'west bank': 'WBG',\n",
        " 'yemen': 'YEM',\n",
        " 'zambia': 'ZMB',\n",
        " 'zimbabwe': 'ZWE'}\n",
        "\n",
        "## countries \n",
        "from collections import Counter\n",
        "colorscale = [\"#f7fbff\", \"#ebf3fb\", \"#deebf7\", \"#d2e3f3\", \"#c6dbef\", \"#b3d2e9\", \"#9ecae1\",\n",
        "    \"#85bcdb\", \"#6baed6\", \"#57a0ce\", \"#4292c6\", \"#3082be\", \"#2171b5\", \"#1361a9\",\n",
        "    \"#08519c\", \"#0b4083\", \"#08306b\"\n",
        "]\n",
        "    \n",
        "def geoplot(ddf):\n",
        "    country_with_code, country = {}, {}\n",
        "    shows_countries = \", \".join(ddf['Country'].dropna()).split(\", \")\n",
        "    for c,v in dict(Counter(shows_countries)).items():\n",
        "        code = \"\"\n",
        "        if c.lower() in codigo_pais:\n",
        "            code = codigo_pais[c.lower()]\n",
        "        country_with_code[code] = v\n",
        "        country[c] = v\n",
        "\n",
        "    data = [dict(\n",
        "            type = 'choropleth',\n",
        "            locations = list(country_with_code.keys()),\n",
        "            z = list(country_with_code.values()),\n",
        "            colorscale = [[0,\"rgb(5, 10, 172)\"],[0.65,\"rgb(40, 60, 190)\"],[0.75,\"rgb(70, 100, 245)\"],\\\n",
        "                        [0.80,\"rgb(90, 120, 245)\"],[0.9,\"rgb(106, 137, 247)\"],[1,\"rgb(220, 220, 220)\"]],\n",
        "            autocolorscale = False,\n",
        "            reversescale = True,\n",
        "            marker = dict(\n",
        "                line = dict (\n",
        "                    color = 'gray',\n",
        "                    width = 0.5\n",
        "                ) ),\n",
        "            colorbar = dict(\n",
        "                autotick = False,\n",
        "                title = ''),\n",
        "          ) ]\n",
        "\n",
        "    layout = dict(\n",
        "        title = '',\n",
        "        geo = dict(\n",
        "            showframe = False,\n",
        "            showcoastlines = False,\n",
        "            projection = dict(\n",
        "                type = 'Mercator'\n",
        "            )\n",
        "        )\n",
        "    )\n",
        "\n",
        "    fig = dict( data=data, layout=layout )\n",
        "    iplot( fig, validate=False, filename='d3-world-map' )\n",
        "    return country\n",
        "\n",
        "country_vals = geoplot(df)\n",
        "tabs = Counter(country_vals).most_common(25)\n",
        "\n",
        "labels = [_[0] for _ in tabs][::-1]\n",
        "values = [_[1] for _ in tabs][::-1]\n",
        "trace1 = go.Bar(y=labels, x=values, orientation=\"h\", name=\"\", marker=dict(color=\"#a678de\"))\n",
        "\n",
        "data = [trace1]\n",
        "layout = go.Layout(title=\"Países com mais unicórnios\", height=700, legend=dict(x=0.1, y=1.1, orientation=\"h\"))\n",
        "fig = go.Figure(data, layout=layout)\n",
        "fig.show()"
      ],
      "metadata": {
        "colab": {
          "base_uri": "https://localhost:8080/",
          "height": 1000
        },
        "id": "D3xpIv9r5Ygy",
        "outputId": "46e0d119-ed97-4e5a-ad60-58900207d001"
      },
      "execution_count": null,
      "outputs": [
        {
          "output_type": "display_data",
          "data": {
            "text/html": [
              "<html>\n",
              "<head><meta charset=\"utf-8\" /></head>\n",
              "<body>\n",
              "    <div>            <script src=\"https://cdnjs.cloudflare.com/ajax/libs/mathjax/2.7.5/MathJax.js?config=TeX-AMS-MML_SVG\"></script><script type=\"text/javascript\">if (window.MathJax) {MathJax.Hub.Config({SVG: {font: \"STIX-Web\"}});}</script>                <script type=\"text/javascript\">window.PlotlyConfig = {MathJaxConfig: 'local'};</script>\n",
              "        <script src=\"https://cdn.plot.ly/plotly-2.8.3.min.js\"></script>                <div id=\"599a4d54-f25f-4873-93f7-46ca0bcc6001\" class=\"plotly-graph-div\" style=\"height:525px; width:100%;\"></div>            <script type=\"text/javascript\">                                    window.PLOTLYENV=window.PLOTLYENV || {};                                    if (document.getElementById(\"599a4d54-f25f-4873-93f7-46ca0bcc6001\")) {                    Plotly.newPlot(                        \"599a4d54-f25f-4873-93f7-46ca0bcc6001\",                        [{\"type\":\"choropleth\",\"locations\":[\"CHN\",\"USA\",\"SWE\",\"AUS\",\"GBR\",\"BRA\",\"HKG\",\"IND\",\"IDN\",\"DEU\",\"MEX\",\"CAN\",\"TUR\",\"KOR\",\"NLD\",\"ISR\",\"COL\",\"BEL\",\"LTU\",\"EST\",\"FRA\",\"AUT\",\"IRL\",\"SGP\",\"VNM\",\"ARE\",\"CHE\",\"ARG\",\"ESP\",\"JPN\",\"LUX\",\"NGA\",\"\",\"FIN\",\"PHL\",\"DNK\",\"SEN\",\"BMU\",\"NOR\",\"ZAF\",\"CHL\",\"THA\",\"MYS\",\"CZE\",\"HRV\"],\"z\":[169,477,4,6,37,15,7,51,4,23,5,15,2,11,5,21,2,2,1,1,19,2,3,11,1,3,4,1,4,6,1,1,1,2,2,2,1,1,3,2,1,2,1,1,1],\"colorscale\":[[0,\"rgb(5, 10, 172)\"],[0.65,\"rgb(40, 60, 190)\"],[0.75,\"rgb(70, 100, 245)\"],[0.8,\"rgb(90, 120, 245)\"],[0.9,\"rgb(106, 137, 247)\"],[1,\"rgb(220, 220, 220)\"]],\"autocolorscale\":false,\"reversescale\":true,\"marker\":{\"line\":{\"color\":\"gray\",\"width\":0.5}},\"colorbar\":{\"autotick\":false,\"title\":\"\"}}],                        {\"title\":\"\",\"geo\":{\"showframe\":false,\"showcoastlines\":false,\"projection\":{\"type\":\"Mercator\"}}},                        {\"responsive\": true}                    ).then(function(){\n",
              "                            \n",
              "var gd = document.getElementById('599a4d54-f25f-4873-93f7-46ca0bcc6001');\n",
              "var x = new MutationObserver(function (mutations, observer) {{\n",
              "        var display = window.getComputedStyle(gd).display;\n",
              "        if (!display || display === 'none') {{\n",
              "            console.log([gd, 'removed!']);\n",
              "            Plotly.purge(gd);\n",
              "            observer.disconnect();\n",
              "        }}\n",
              "}});\n",
              "\n",
              "// Listen for the removal of the full notebook cells\n",
              "var notebookContainer = gd.closest('#notebook-container');\n",
              "if (notebookContainer) {{\n",
              "    x.observe(notebookContainer, {childList: true});\n",
              "}}\n",
              "\n",
              "// Listen for the clearing of the current output cell\n",
              "var outputEl = gd.closest('.output');\n",
              "if (outputEl) {{\n",
              "    x.observe(outputEl, {childList: true});\n",
              "}}\n",
              "\n",
              "                        })                };                            </script>        </div>\n",
              "</body>\n",
              "</html>"
            ]
          },
          "metadata": {}
        },
        {
          "output_type": "display_data",
          "data": {
            "text/html": [
              "<html>\n",
              "<head><meta charset=\"utf-8\" /></head>\n",
              "<body>\n",
              "    <div>            <script src=\"https://cdnjs.cloudflare.com/ajax/libs/mathjax/2.7.5/MathJax.js?config=TeX-AMS-MML_SVG\"></script><script type=\"text/javascript\">if (window.MathJax) {MathJax.Hub.Config({SVG: {font: \"STIX-Web\"}});}</script>                <script type=\"text/javascript\">window.PlotlyConfig = {MathJaxConfig: 'local'};</script>\n",
              "        <script src=\"https://cdn.plot.ly/plotly-2.8.3.min.js\"></script>                <div id=\"1d900fd5-6820-4cd1-a2b8-d769cccbcfc4\" class=\"plotly-graph-div\" style=\"height:700px; width:100%;\"></div>            <script type=\"text/javascript\">                                    window.PLOTLYENV=window.PLOTLYENV || {};                                    if (document.getElementById(\"1d900fd5-6820-4cd1-a2b8-d769cccbcfc4\")) {                    Plotly.newPlot(                        \"1d900fd5-6820-4cd1-a2b8-d769cccbcfc4\",                        [{\"marker\":{\"color\":\"#a678de\"},\"name\":\"\",\"orientation\":\"h\",\"x\":[2,2,3,3,3,4,4,4,4,5,5,6,6,7,11,11,15,15,19,21,23,37,51,169,477],\"y\":[\"Colombia\",\"Turkey\",\"Norway\",\"United Arab Emirates\",\"Ireland\",\"Spain\",\"Switzerland\",\"Indonesia\",\"Sweden\",\"Netherlands\",\"Mexico\",\"Japan\",\"Australia\",\"Hong Kong\",\"Singapore\",\"South Korea\",\"Canada\",\"Brazil\",\"France\",\"Israel\",\"Germany\",\"United Kingdom\",\"India\",\"China\",\"United States\"],\"type\":\"bar\"}],                        {\"height\":700,\"legend\":{\"orientation\":\"h\",\"x\":0.1,\"y\":1.1},\"title\":{\"text\":\"Pa\\u00edses com mais unic\\u00f3rnios\"},\"template\":{\"data\":{\"bar\":[{\"error_x\":{\"color\":\"#2a3f5f\"},\"error_y\":{\"color\":\"#2a3f5f\"},\"marker\":{\"line\":{\"color\":\"#E5ECF6\",\"width\":0.5},\"pattern\":{\"fillmode\":\"overlay\",\"size\":10,\"solidity\":0.2}},\"type\":\"bar\"}],\"barpolar\":[{\"marker\":{\"line\":{\"color\":\"#E5ECF6\",\"width\":0.5},\"pattern\":{\"fillmode\":\"overlay\",\"size\":10,\"solidity\":0.2}},\"type\":\"barpolar\"}],\"carpet\":[{\"aaxis\":{\"endlinecolor\":\"#2a3f5f\",\"gridcolor\":\"white\",\"linecolor\":\"white\",\"minorgridcolor\":\"white\",\"startlinecolor\":\"#2a3f5f\"},\"baxis\":{\"endlinecolor\":\"#2a3f5f\",\"gridcolor\":\"white\",\"linecolor\":\"white\",\"minorgridcolor\":\"white\",\"startlinecolor\":\"#2a3f5f\"},\"type\":\"carpet\"}],\"choropleth\":[{\"colorbar\":{\"outlinewidth\":0,\"ticks\":\"\"},\"type\":\"choropleth\"}],\"contour\":[{\"colorbar\":{\"outlinewidth\":0,\"ticks\":\"\"},\"colorscale\":[[0.0,\"#0d0887\"],[0.1111111111111111,\"#46039f\"],[0.2222222222222222,\"#7201a8\"],[0.3333333333333333,\"#9c179e\"],[0.4444444444444444,\"#bd3786\"],[0.5555555555555556,\"#d8576b\"],[0.6666666666666666,\"#ed7953\"],[0.7777777777777778,\"#fb9f3a\"],[0.8888888888888888,\"#fdca26\"],[1.0,\"#f0f921\"]],\"type\":\"contour\"}],\"contourcarpet\":[{\"colorbar\":{\"outlinewidth\":0,\"ticks\":\"\"},\"type\":\"contourcarpet\"}],\"heatmap\":[{\"colorbar\":{\"outlinewidth\":0,\"ticks\":\"\"},\"colorscale\":[[0.0,\"#0d0887\"],[0.1111111111111111,\"#46039f\"],[0.2222222222222222,\"#7201a8\"],[0.3333333333333333,\"#9c179e\"],[0.4444444444444444,\"#bd3786\"],[0.5555555555555556,\"#d8576b\"],[0.6666666666666666,\"#ed7953\"],[0.7777777777777778,\"#fb9f3a\"],[0.8888888888888888,\"#fdca26\"],[1.0,\"#f0f921\"]],\"type\":\"heatmap\"}],\"heatmapgl\":[{\"colorbar\":{\"outlinewidth\":0,\"ticks\":\"\"},\"colorscale\":[[0.0,\"#0d0887\"],[0.1111111111111111,\"#46039f\"],[0.2222222222222222,\"#7201a8\"],[0.3333333333333333,\"#9c179e\"],[0.4444444444444444,\"#bd3786\"],[0.5555555555555556,\"#d8576b\"],[0.6666666666666666,\"#ed7953\"],[0.7777777777777778,\"#fb9f3a\"],[0.8888888888888888,\"#fdca26\"],[1.0,\"#f0f921\"]],\"type\":\"heatmapgl\"}],\"histogram\":[{\"marker\":{\"pattern\":{\"fillmode\":\"overlay\",\"size\":10,\"solidity\":0.2}},\"type\":\"histogram\"}],\"histogram2d\":[{\"colorbar\":{\"outlinewidth\":0,\"ticks\":\"\"},\"colorscale\":[[0.0,\"#0d0887\"],[0.1111111111111111,\"#46039f\"],[0.2222222222222222,\"#7201a8\"],[0.3333333333333333,\"#9c179e\"],[0.4444444444444444,\"#bd3786\"],[0.5555555555555556,\"#d8576b\"],[0.6666666666666666,\"#ed7953\"],[0.7777777777777778,\"#fb9f3a\"],[0.8888888888888888,\"#fdca26\"],[1.0,\"#f0f921\"]],\"type\":\"histogram2d\"}],\"histogram2dcontour\":[{\"colorbar\":{\"outlinewidth\":0,\"ticks\":\"\"},\"colorscale\":[[0.0,\"#0d0887\"],[0.1111111111111111,\"#46039f\"],[0.2222222222222222,\"#7201a8\"],[0.3333333333333333,\"#9c179e\"],[0.4444444444444444,\"#bd3786\"],[0.5555555555555556,\"#d8576b\"],[0.6666666666666666,\"#ed7953\"],[0.7777777777777778,\"#fb9f3a\"],[0.8888888888888888,\"#fdca26\"],[1.0,\"#f0f921\"]],\"type\":\"histogram2dcontour\"}],\"mesh3d\":[{\"colorbar\":{\"outlinewidth\":0,\"ticks\":\"\"},\"type\":\"mesh3d\"}],\"parcoords\":[{\"line\":{\"colorbar\":{\"outlinewidth\":0,\"ticks\":\"\"}},\"type\":\"parcoords\"}],\"pie\":[{\"automargin\":true,\"type\":\"pie\"}],\"scatter\":[{\"marker\":{\"colorbar\":{\"outlinewidth\":0,\"ticks\":\"\"}},\"type\":\"scatter\"}],\"scatter3d\":[{\"line\":{\"colorbar\":{\"outlinewidth\":0,\"ticks\":\"\"}},\"marker\":{\"colorbar\":{\"outlinewidth\":0,\"ticks\":\"\"}},\"type\":\"scatter3d\"}],\"scattercarpet\":[{\"marker\":{\"colorbar\":{\"outlinewidth\":0,\"ticks\":\"\"}},\"type\":\"scattercarpet\"}],\"scattergeo\":[{\"marker\":{\"colorbar\":{\"outlinewidth\":0,\"ticks\":\"\"}},\"type\":\"scattergeo\"}],\"scattergl\":[{\"marker\":{\"colorbar\":{\"outlinewidth\":0,\"ticks\":\"\"}},\"type\":\"scattergl\"}],\"scattermapbox\":[{\"marker\":{\"colorbar\":{\"outlinewidth\":0,\"ticks\":\"\"}},\"type\":\"scattermapbox\"}],\"scatterpolar\":[{\"marker\":{\"colorbar\":{\"outlinewidth\":0,\"ticks\":\"\"}},\"type\":\"scatterpolar\"}],\"scatterpolargl\":[{\"marker\":{\"colorbar\":{\"outlinewidth\":0,\"ticks\":\"\"}},\"type\":\"scatterpolargl\"}],\"scatterternary\":[{\"marker\":{\"colorbar\":{\"outlinewidth\":0,\"ticks\":\"\"}},\"type\":\"scatterternary\"}],\"surface\":[{\"colorbar\":{\"outlinewidth\":0,\"ticks\":\"\"},\"colorscale\":[[0.0,\"#0d0887\"],[0.1111111111111111,\"#46039f\"],[0.2222222222222222,\"#7201a8\"],[0.3333333333333333,\"#9c179e\"],[0.4444444444444444,\"#bd3786\"],[0.5555555555555556,\"#d8576b\"],[0.6666666666666666,\"#ed7953\"],[0.7777777777777778,\"#fb9f3a\"],[0.8888888888888888,\"#fdca26\"],[1.0,\"#f0f921\"]],\"type\":\"surface\"}],\"table\":[{\"cells\":{\"fill\":{\"color\":\"#EBF0F8\"},\"line\":{\"color\":\"white\"}},\"header\":{\"fill\":{\"color\":\"#C8D4E3\"},\"line\":{\"color\":\"white\"}},\"type\":\"table\"}]},\"layout\":{\"annotationdefaults\":{\"arrowcolor\":\"#2a3f5f\",\"arrowhead\":0,\"arrowwidth\":1},\"autotypenumbers\":\"strict\",\"coloraxis\":{\"colorbar\":{\"outlinewidth\":0,\"ticks\":\"\"}},\"colorscale\":{\"diverging\":[[0,\"#8e0152\"],[0.1,\"#c51b7d\"],[0.2,\"#de77ae\"],[0.3,\"#f1b6da\"],[0.4,\"#fde0ef\"],[0.5,\"#f7f7f7\"],[0.6,\"#e6f5d0\"],[0.7,\"#b8e186\"],[0.8,\"#7fbc41\"],[0.9,\"#4d9221\"],[1,\"#276419\"]],\"sequential\":[[0.0,\"#0d0887\"],[0.1111111111111111,\"#46039f\"],[0.2222222222222222,\"#7201a8\"],[0.3333333333333333,\"#9c179e\"],[0.4444444444444444,\"#bd3786\"],[0.5555555555555556,\"#d8576b\"],[0.6666666666666666,\"#ed7953\"],[0.7777777777777778,\"#fb9f3a\"],[0.8888888888888888,\"#fdca26\"],[1.0,\"#f0f921\"]],\"sequentialminus\":[[0.0,\"#0d0887\"],[0.1111111111111111,\"#46039f\"],[0.2222222222222222,\"#7201a8\"],[0.3333333333333333,\"#9c179e\"],[0.4444444444444444,\"#bd3786\"],[0.5555555555555556,\"#d8576b\"],[0.6666666666666666,\"#ed7953\"],[0.7777777777777778,\"#fb9f3a\"],[0.8888888888888888,\"#fdca26\"],[1.0,\"#f0f921\"]]},\"colorway\":[\"#636efa\",\"#EF553B\",\"#00cc96\",\"#ab63fa\",\"#FFA15A\",\"#19d3f3\",\"#FF6692\",\"#B6E880\",\"#FF97FF\",\"#FECB52\"],\"font\":{\"color\":\"#2a3f5f\"},\"geo\":{\"bgcolor\":\"white\",\"lakecolor\":\"white\",\"landcolor\":\"#E5ECF6\",\"showlakes\":true,\"showland\":true,\"subunitcolor\":\"white\"},\"hoverlabel\":{\"align\":\"left\"},\"hovermode\":\"closest\",\"mapbox\":{\"style\":\"light\"},\"paper_bgcolor\":\"white\",\"plot_bgcolor\":\"#E5ECF6\",\"polar\":{\"angularaxis\":{\"gridcolor\":\"white\",\"linecolor\":\"white\",\"ticks\":\"\"},\"bgcolor\":\"#E5ECF6\",\"radialaxis\":{\"gridcolor\":\"white\",\"linecolor\":\"white\",\"ticks\":\"\"}},\"scene\":{\"xaxis\":{\"backgroundcolor\":\"#E5ECF6\",\"gridcolor\":\"white\",\"gridwidth\":2,\"linecolor\":\"white\",\"showbackground\":true,\"ticks\":\"\",\"zerolinecolor\":\"white\"},\"yaxis\":{\"backgroundcolor\":\"#E5ECF6\",\"gridcolor\":\"white\",\"gridwidth\":2,\"linecolor\":\"white\",\"showbackground\":true,\"ticks\":\"\",\"zerolinecolor\":\"white\"},\"zaxis\":{\"backgroundcolor\":\"#E5ECF6\",\"gridcolor\":\"white\",\"gridwidth\":2,\"linecolor\":\"white\",\"showbackground\":true,\"ticks\":\"\",\"zerolinecolor\":\"white\"}},\"shapedefaults\":{\"line\":{\"color\":\"#2a3f5f\"}},\"ternary\":{\"aaxis\":{\"gridcolor\":\"white\",\"linecolor\":\"white\",\"ticks\":\"\"},\"baxis\":{\"gridcolor\":\"white\",\"linecolor\":\"white\",\"ticks\":\"\"},\"bgcolor\":\"#E5ECF6\",\"caxis\":{\"gridcolor\":\"white\",\"linecolor\":\"white\",\"ticks\":\"\"}},\"title\":{\"x\":0.05},\"xaxis\":{\"automargin\":true,\"gridcolor\":\"white\",\"linecolor\":\"white\",\"ticks\":\"\",\"title\":{\"standoff\":15},\"zerolinecolor\":\"white\",\"zerolinewidth\":2},\"yaxis\":{\"automargin\":true,\"gridcolor\":\"white\",\"linecolor\":\"white\",\"ticks\":\"\",\"title\":{\"standoff\":15},\"zerolinecolor\":\"white\",\"zerolinewidth\":2}}}},                        {\"responsive\": true}                    ).then(function(){\n",
              "                            \n",
              "var gd = document.getElementById('1d900fd5-6820-4cd1-a2b8-d769cccbcfc4');\n",
              "var x = new MutationObserver(function (mutations, observer) {{\n",
              "        var display = window.getComputedStyle(gd).display;\n",
              "        if (!display || display === 'none') {{\n",
              "            console.log([gd, 'removed!']);\n",
              "            Plotly.purge(gd);\n",
              "            observer.disconnect();\n",
              "        }}\n",
              "}});\n",
              "\n",
              "// Listen for the removal of the full notebook cells\n",
              "var notebookContainer = gd.closest('#notebook-container');\n",
              "if (notebookContainer) {{\n",
              "    x.observe(notebookContainer, {childList: true});\n",
              "}}\n",
              "\n",
              "// Listen for the clearing of the current output cell\n",
              "var outputEl = gd.closest('.output');\n",
              "if (outputEl) {{\n",
              "    x.observe(outputEl, {childList: true});\n",
              "}}\n",
              "\n",
              "                        })                };                            </script>        </div>\n",
              "</body>\n",
              "</html>"
            ]
          },
          "metadata": {}
        }
      ]
    },
    {
      "cell_type": "markdown",
      "source": [
        "O mapa está mostrando a maior concentração de Startup pelo mundo. Os EUA lideram."
      ],
      "metadata": {
        "id": "_t0EEvtG6zZH"
      }
    },
    {
      "cell_type": "code",
      "source": [
        ""
      ],
      "metadata": {
        "id": "sWvccxDZ6zbg"
      },
      "execution_count": null,
      "outputs": []
    },
    {
      "cell_type": "markdown",
      "source": [
        "Clauder Noronha\n"
      ],
      "metadata": {
        "id": "4uQ879N6DMA0"
      }
    },
    {
      "cell_type": "code",
      "source": [
        ""
      ],
      "metadata": {
        "id": "Zuh5-p4Vu5ly"
      },
      "execution_count": null,
      "outputs": []
    }
  ]
}