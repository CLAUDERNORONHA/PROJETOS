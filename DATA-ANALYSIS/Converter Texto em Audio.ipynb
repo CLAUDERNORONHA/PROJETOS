{
 "cells": [
  {
   "cell_type": "code",
   "execution_count": 1,
   "metadata": {
    "scrolled": true
   },
   "outputs": [
    {
     "name": "stdout",
     "output_type": "stream",
     "text": [
      "Collecting pyttsx3\n",
      "  Downloading pyttsx3-2.90-py3-none-any.whl (39 kB)\n",
      "Collecting pypiwin32\n",
      "  Downloading pypiwin32-223-py3-none-any.whl (1.7 kB)\n",
      "Requirement already satisfied: pywin32 in c:\\users\\claud\\anaconda3\\lib\\site-packages (from pyttsx3) (223)\n",
      "Requirement already satisfied: comtypes in c:\\users\\claud\\anaconda3\\lib\\site-packages (from pyttsx3) (1.1.7)\n",
      "Installing collected packages: pypiwin32, pyttsx3\n",
      "Successfully installed pypiwin32-223 pyttsx3-2.90\n",
      "Note: you may need to restart the kernel to use updated packages.\n"
     ]
    },
    {
     "name": "stderr",
     "output_type": "stream",
     "text": [
      "WARNING: You are using pip version 21.0.1; however, version 21.2.4 is available.\n",
      "You should consider upgrading via the 'C:\\Users\\claud\\Anaconda3\\python.exe -m pip install --upgrade pip' command.\n"
     ]
    }
   ],
   "source": [
    "#pip install pyttsx3"
   ]
  },
  {
   "cell_type": "code",
   "execution_count": 3,
   "metadata": {},
   "outputs": [],
   "source": [
    "import pyttsx3\n",
    "\n",
    "#IMportação do texto/ Documento  a ser Convertido\n",
    "\n",
    "string = \"O povo que andava em trevas viu uma grande luz; os que moravam na terra da sombra da morte, a luz resplandeceu sobre eles. Multiplicaste os povos e aumentaste a alegria. Alegrar-se-ão diante de ti como se alegram na ceifa, como se gozam quando repartem os despojos. Porque tu quebraste seu pesado jugo, e a vara de seu ombro, e o cetro de seu opressor, como no dia de Midiã. Porque todo calçado que leva o guerreiro no tumulto da batalha, e todo manto revolvido em sangue, serão queimados, pasto do fogo. Porque um menino nos nasceu, um filho nos é dado, o principado está sobre o seu ombro; e se chamará seu nome Admirável, Conselheiro, Deus forte, Pai forte, Príncipe da paz.\" \\\n",
    "\n",
    "#Inicializando o Motor(engine) de  Conversão com o pacote pyttsx3\n",
    "\n",
    "engine = pyttsx3.init()\n",
    "\n",
    "#Nós podemos usar extensões de arquivos MP3 e WAV para o nosso trabalho\n",
    "\n",
    "engine.save_to_file(string,'speech.mp3')\n",
    "\n",
    "#Comando de finalização do conversão de arquivos txt para audio \n",
    "\n",
    "engine.runAndWait()"
   ]
  },
  {
   "cell_type": "code",
   "execution_count": null,
   "metadata": {},
   "outputs": [],
   "source": []
  }
 ],
 "metadata": {
  "kernelspec": {
   "display_name": "Python 3",
   "language": "python",
   "name": "python3"
  },
  "language_info": {
   "codemirror_mode": {
    "name": "ipython",
    "version": 3
   },
   "file_extension": ".py",
   "mimetype": "text/x-python",
   "name": "python",
   "nbconvert_exporter": "python",
   "pygments_lexer": "ipython3",
   "version": "3.7.4"
  }
 },
 "nbformat": 4,
 "nbformat_minor": 2
}
