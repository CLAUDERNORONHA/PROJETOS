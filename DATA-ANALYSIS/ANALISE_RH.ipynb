{
  "nbformat": 4,
  "nbformat_minor": 0,
  "metadata": {
    "colab": {
      "name": "ANALISE-RH.ipynb",
      "provenance": [],
      "collapsed_sections": [],
      "include_colab_link": true
    },
    "kernelspec": {
      "display_name": "Python 3",
      "language": "python",
      "name": "python3"
    },
    "language_info": {
      "codemirror_mode": {
        "name": "ipython",
        "version": 3
      },
      "file_extension": ".py",
      "mimetype": "text/x-python",
      "name": "python",
      "nbconvert_exporter": "python",
      "pygments_lexer": "ipython3",
      "version": "3.8.3"
    }
  },
  "cells": [
    {
      "cell_type": "markdown",
      "metadata": {
        "id": "view-in-github",
        "colab_type": "text"
      },
      "source": [
        "<a href=\"https://colab.research.google.com/github/CLAUDERNORONHA/ABERTO/blob/master/ANALISE_RH.ipynb\" target=\"_parent\"><img src=\"https://colab.research.google.com/assets/colab-badge.svg\" alt=\"Open In Colab\"/></a>"
      ]
    },
    {
      "cell_type": "markdown",
      "metadata": {
        "id": "m5hNIOY7zYHI"
      },
      "source": [
        "ANALISE DE RH"
      ]
    },
    {
      "cell_type": "code",
      "metadata": {
        "id": "83GAawn_zgL2"
      },
      "source": [
        ""
      ],
      "execution_count": null,
      "outputs": []
    },
    {
      "cell_type": "markdown",
      "metadata": {
        "id": "xWYhDmrjzC0Z"
      },
      "source": [
        "## Definição do Problema\n",
        "\n",
        "Empresa FORTEC Inc coletou dados do ano anterior com diversos atributos de funcionários de todos os setores. O objetivo é estudar a relação desses atributos e o impacto na promoção dos funcionários. Esse trabalho de análise pode ser usado mais tarde para construir modelos de Machine Learning para prever se um colaborador será ou não promovido.\n",
        "\n",
        "Essas são as perguntas que devem ser respondidas:\n",
        "\n",
        "- Pergunta 1 - Qual a Correlação Entre os Atributos dos Funcionários?\n",
        "- Pergunta 2 - Qual o Tempo de Serviço da Maioria dos Funcionários?\n",
        "- Pergunta 3 - Qual Avaliação do Ano Anterior Foi Mais Comum?\n",
        "- Pergunta 4 - Qual a Distribuição das Idades dos Funcionários?\n",
        "- Pergunta 5 - Qual o Número de Treinamentos Mais Frequente?\n",
        "- Pergunta 6 - Qual a Proporção dos Funcionários Por Canal de Recrutamento?\n",
        "- Pergunta 7 - Qual a Relação Entre a Promoção e a Avaliação do Ano Anterior?\n",
        "\n",
        "Seu trabalho é limpar e preparar os dados e então construir um dashboard no Power BI para apresentar seus resultados."
      ]
    },
    {
      "cell_type": "markdown",
      "metadata": {
        "id": "AumsGJ9WzC0Z"
      },
      "source": [
        "## Carregando e Instalando Pacotes"
      ]
    },
    {
      "cell_type": "code",
      "metadata": {
        "id": "iO3qCl0uzC0Z",
        "outputId": "e9177656-c48b-4c66-c8c1-44d21c35c5fd"
      },
      "source": [
        "# Versão da Linguagem Python\n",
        "from platform import python_version\n",
        "print('Versão da Linguagem Python Usada Neste Jupyter Notebook:', python_version())"
      ],
      "execution_count": null,
      "outputs": [
        {
          "output_type": "stream",
          "text": [
            "Versão da Linguagem Python Usada Neste Jupyter Notebook: 3.8.3\n"
          ],
          "name": "stdout"
        }
      ]
    },
    {
      "cell_type": "code",
      "metadata": {
        "id": "uz0DeekWzC0d",
        "outputId": "0516db4d-ad9b-41e2-a42f-ac3b08029253"
      },
      "source": [
        "# Para atualizar um pacote, execute o comando abaixo no terminal ou prompt de comando:\n",
        "# pip install -U nome_pacote\n",
        "\n",
        "# Para instalar a versão exata de um pacote, execute o comando abaixo no terminal ou prompt de comando:\n",
        "# !pip install nome_pacote==versão_desejada\n",
        "\n",
        "# Depois de instalar ou atualizar o pacote, reinicie o jupyter notebook.\n",
        "\n",
        "# Instala o pacote watermark. \n",
        "# Esse pacote é usado para gravar as versões de outros pacotes usados neste jupyter notebook.\n",
        "!pip install -q -U watermark"
      ],
      "execution_count": null,
      "outputs": [
        {
          "output_type": "stream",
          "text": [
            "WARNING: You are using pip version 20.2.3; however, version 20.2.4 is available.\n",
            "You should consider upgrading via the 'c:\\users\\clauder.noronha\\appdata\\local\\programs\\python\\python39\\python.exe -m pip install --upgrade pip' command.\n"
          ],
          "name": "stderr"
        }
      ]
    },
    {
      "cell_type": "code",
      "metadata": {
        "id": "Ufm7L5NljE9l"
      },
      "source": [
        "# Imports\n",
        "import numpy as np\n",
        "import pandas as pd\n",
        "import matplotlib\n",
        "import matplotlib.pyplot as plt\n",
        "import seaborn as sns\n",
        "import warnings\n",
        "warnings.filterwarnings(\"ignore\", category=FutureWarning)"
      ],
      "execution_count": null,
      "outputs": []
    },
    {
      "cell_type": "code",
      "metadata": {
        "id": "16-BKZjtzC0d"
      },
      "source": [
        "# Versões dos pacotes usados neste jupyter notebook\n",
        "#%reload_ext watermark\n",
        "#%watermark -a \"Data Science Academy\" --iversions"
      ],
      "execution_count": null,
      "outputs": []
    },
    {
      "cell_type": "markdown",
      "metadata": {
        "id": "t4el1SFBzC0d"
      },
      "source": [
        "## Carregando os Dados"
      ]
    },
    {
      "cell_type": "code",
      "metadata": {
        "id": "9gDergu2jTwM"
      },
      "source": [
        "dadosRH = pd.read_csv('dadosRH.csv')"
      ],
      "execution_count": null,
      "outputs": []
    },
    {
      "cell_type": "code",
      "metadata": {
        "id": "bshgeA9izC0e",
        "outputId": "9b5b4774-a6c8-4210-a4f2-7fee98611813"
      },
      "source": [
        "dadosRH.head()"
      ],
      "execution_count": null,
      "outputs": [
        {
          "output_type": "execute_result",
          "data": {
            "text/html": [
              "<div>\n",
              "<style scoped>\n",
              "    .dataframe tbody tr th:only-of-type {\n",
              "        vertical-align: middle;\n",
              "    }\n",
              "\n",
              "    .dataframe tbody tr th {\n",
              "        vertical-align: top;\n",
              "    }\n",
              "\n",
              "    .dataframe thead th {\n",
              "        text-align: right;\n",
              "    }\n",
              "</style>\n",
              "<table border=\"1\" class=\"dataframe\">\n",
              "  <thead>\n",
              "    <tr style=\"text-align: right;\">\n",
              "      <th></th>\n",
              "      <th>id_funcionario</th>\n",
              "      <th>departmento</th>\n",
              "      <th>regiao</th>\n",
              "      <th>educacao</th>\n",
              "      <th>genero</th>\n",
              "      <th>canal_recrutamento</th>\n",
              "      <th>numero_treinamentos</th>\n",
              "      <th>idade</th>\n",
              "      <th>aval_ano_anterior</th>\n",
              "      <th>tempo_servico</th>\n",
              "      <th>promovido</th>\n",
              "    </tr>\n",
              "  </thead>\n",
              "  <tbody>\n",
              "    <tr>\n",
              "      <th>0</th>\n",
              "      <td>65438</td>\n",
              "      <td>Marketing</td>\n",
              "      <td>Sudeste</td>\n",
              "      <td>Mestrado ou Doutorado</td>\n",
              "      <td>F</td>\n",
              "      <td>Outsourcing</td>\n",
              "      <td>1</td>\n",
              "      <td>35</td>\n",
              "      <td>5.0</td>\n",
              "      <td>8</td>\n",
              "      <td>0</td>\n",
              "    </tr>\n",
              "    <tr>\n",
              "      <th>1</th>\n",
              "      <td>65141</td>\n",
              "      <td>Logistica</td>\n",
              "      <td>Nordeste</td>\n",
              "      <td>Superior</td>\n",
              "      <td>M</td>\n",
              "      <td>Outro</td>\n",
              "      <td>1</td>\n",
              "      <td>30</td>\n",
              "      <td>5.0</td>\n",
              "      <td>4</td>\n",
              "      <td>0</td>\n",
              "    </tr>\n",
              "    <tr>\n",
              "      <th>2</th>\n",
              "      <td>7513</td>\n",
              "      <td>Marketing</td>\n",
              "      <td>Sudeste</td>\n",
              "      <td>Superior</td>\n",
              "      <td>M</td>\n",
              "      <td>Outsourcing</td>\n",
              "      <td>1</td>\n",
              "      <td>34</td>\n",
              "      <td>3.0</td>\n",
              "      <td>7</td>\n",
              "      <td>0</td>\n",
              "    </tr>\n",
              "    <tr>\n",
              "      <th>3</th>\n",
              "      <td>2542</td>\n",
              "      <td>Marketing</td>\n",
              "      <td>Norte</td>\n",
              "      <td>Superior</td>\n",
              "      <td>M</td>\n",
              "      <td>Outro</td>\n",
              "      <td>2</td>\n",
              "      <td>39</td>\n",
              "      <td>1.0</td>\n",
              "      <td>10</td>\n",
              "      <td>0</td>\n",
              "    </tr>\n",
              "    <tr>\n",
              "      <th>4</th>\n",
              "      <td>48945</td>\n",
              "      <td>Tecnologia</td>\n",
              "      <td>Nordeste</td>\n",
              "      <td>Superior</td>\n",
              "      <td>M</td>\n",
              "      <td>Outro</td>\n",
              "      <td>1</td>\n",
              "      <td>45</td>\n",
              "      <td>3.0</td>\n",
              "      <td>2</td>\n",
              "      <td>0</td>\n",
              "    </tr>\n",
              "  </tbody>\n",
              "</table>\n",
              "</div>"
            ],
            "text/plain": [
              "   id_funcionario departmento    regiao               educacao genero  \\\n",
              "0           65438   Marketing   Sudeste  Mestrado ou Doutorado      F   \n",
              "1           65141   Logistica  Nordeste               Superior      M   \n",
              "2            7513   Marketing   Sudeste               Superior      M   \n",
              "3            2542   Marketing     Norte               Superior      M   \n",
              "4           48945  Tecnologia  Nordeste               Superior      M   \n",
              "\n",
              "  canal_recrutamento  numero_treinamentos  idade  aval_ano_anterior  \\\n",
              "0        Outsourcing                    1     35                5.0   \n",
              "1              Outro                    1     30                5.0   \n",
              "2        Outsourcing                    1     34                3.0   \n",
              "3              Outro                    2     39                1.0   \n",
              "4              Outro                    1     45                3.0   \n",
              "\n",
              "   tempo_servico  promovido  \n",
              "0              8          0  \n",
              "1              4          0  \n",
              "2              7          0  \n",
              "3             10          0  \n",
              "4              2          0  "
            ]
          },
          "metadata": {
            "tags": []
          },
          "execution_count": 7
        }
      ]
    },
    {
      "cell_type": "code",
      "metadata": {
        "colab": {
          "base_uri": "https://localhost:8080/",
          "height": 399
        },
        "id": "fT1X96Wrjnpf",
        "outputId": "359b9949-7cd0-4f48-b907-83cc9cf17086"
      },
      "source": [
        "dadosRH.shape"
      ],
      "execution_count": null,
      "outputs": [
        {
          "output_type": "execute_result",
          "data": {
            "text/plain": [
              "(54808, 11)"
            ]
          },
          "metadata": {
            "tags": []
          },
          "execution_count": 8
        }
      ]
    },
    {
      "cell_type": "markdown",
      "metadata": {
        "id": "JpQlitnFzC0f"
      },
      "source": [
        "## Análise Exploratória, Limpeza e Transformação de Dados\n",
        "\n",
        "Vamos manipular os dados e corrigir eventuais problemas."
      ]
    },
    {
      "cell_type": "code",
      "metadata": {
        "colab": {
          "base_uri": "https://localhost:8080/",
          "height": 290
        },
        "id": "PITQDwyrjqwS",
        "outputId": "5920b0bd-1740-47c5-e80f-8ee0460291a0"
      },
      "source": [
        "dadosRH.isnull().sum()"
      ],
      "execution_count": null,
      "outputs": [
        {
          "output_type": "execute_result",
          "data": {
            "text/plain": [
              "id_funcionario            0\n",
              "departmento               0\n",
              "regiao                    0\n",
              "educacao               2409\n",
              "genero                    0\n",
              "canal_recrutamento        0\n",
              "numero_treinamentos       0\n",
              "idade                     0\n",
              "aval_ano_anterior      4124\n",
              "tempo_servico             0\n",
              "promovido                 0\n",
              "dtype: int64"
            ]
          },
          "metadata": {
            "tags": []
          },
          "execution_count": 9
        }
      ]
    },
    {
      "cell_type": "code",
      "metadata": {
        "colab": {
          "base_uri": "https://localhost:8080/",
          "height": 247
        },
        "id": "GRb7elZOjuDk",
        "outputId": "87d020f7-6f6e-411f-b329-44f766740cc7"
      },
      "source": [
        "dadosRH.groupby(['educacao']).count()"
      ],
      "execution_count": null,
      "outputs": [
        {
          "output_type": "execute_result",
          "data": {
            "text/html": [
              "<div>\n",
              "<style scoped>\n",
              "    .dataframe tbody tr th:only-of-type {\n",
              "        vertical-align: middle;\n",
              "    }\n",
              "\n",
              "    .dataframe tbody tr th {\n",
              "        vertical-align: top;\n",
              "    }\n",
              "\n",
              "    .dataframe thead th {\n",
              "        text-align: right;\n",
              "    }\n",
              "</style>\n",
              "<table border=\"1\" class=\"dataframe\">\n",
              "  <thead>\n",
              "    <tr style=\"text-align: right;\">\n",
              "      <th></th>\n",
              "      <th>id_funcionario</th>\n",
              "      <th>departmento</th>\n",
              "      <th>regiao</th>\n",
              "      <th>genero</th>\n",
              "      <th>canal_recrutamento</th>\n",
              "      <th>numero_treinamentos</th>\n",
              "      <th>idade</th>\n",
              "      <th>aval_ano_anterior</th>\n",
              "      <th>tempo_servico</th>\n",
              "      <th>promovido</th>\n",
              "    </tr>\n",
              "    <tr>\n",
              "      <th>educacao</th>\n",
              "      <th></th>\n",
              "      <th></th>\n",
              "      <th></th>\n",
              "      <th></th>\n",
              "      <th></th>\n",
              "      <th></th>\n",
              "      <th></th>\n",
              "      <th></th>\n",
              "      <th></th>\n",
              "      <th></th>\n",
              "    </tr>\n",
              "  </thead>\n",
              "  <tbody>\n",
              "    <tr>\n",
              "      <th>Ensino Medio</th>\n",
              "      <td>805</td>\n",
              "      <td>805</td>\n",
              "      <td>805</td>\n",
              "      <td>805</td>\n",
              "      <td>805</td>\n",
              "      <td>805</td>\n",
              "      <td>805</td>\n",
              "      <td>458</td>\n",
              "      <td>805</td>\n",
              "      <td>805</td>\n",
              "    </tr>\n",
              "    <tr>\n",
              "      <th>Mestrado ou Doutorado</th>\n",
              "      <td>14925</td>\n",
              "      <td>14925</td>\n",
              "      <td>14925</td>\n",
              "      <td>14925</td>\n",
              "      <td>14925</td>\n",
              "      <td>14925</td>\n",
              "      <td>14925</td>\n",
              "      <td>14798</td>\n",
              "      <td>14925</td>\n",
              "      <td>14925</td>\n",
              "    </tr>\n",
              "    <tr>\n",
              "      <th>Superior</th>\n",
              "      <td>36669</td>\n",
              "      <td>36669</td>\n",
              "      <td>36669</td>\n",
              "      <td>36669</td>\n",
              "      <td>36669</td>\n",
              "      <td>36669</td>\n",
              "      <td>36669</td>\n",
              "      <td>33404</td>\n",
              "      <td>36669</td>\n",
              "      <td>36669</td>\n",
              "    </tr>\n",
              "  </tbody>\n",
              "</table>\n",
              "</div>"
            ],
            "text/plain": [
              "                       id_funcionario  departmento  regiao  genero  \\\n",
              "educacao                                                             \n",
              "Ensino Medio                      805          805     805     805   \n",
              "Mestrado ou Doutorado           14925        14925   14925   14925   \n",
              "Superior                        36669        36669   36669   36669   \n",
              "\n",
              "                       canal_recrutamento  numero_treinamentos  idade  \\\n",
              "educacao                                                                \n",
              "Ensino Medio                          805                  805    805   \n",
              "Mestrado ou Doutorado               14925                14925  14925   \n",
              "Superior                            36669                36669  36669   \n",
              "\n",
              "                       aval_ano_anterior  tempo_servico  promovido  \n",
              "educacao                                                            \n",
              "Ensino Medio                         458            805        805  \n",
              "Mestrado ou Doutorado              14798          14925      14925  \n",
              "Superior                           33404          36669      36669  "
            ]
          },
          "metadata": {
            "tags": []
          },
          "execution_count": 10
        }
      ]
    },
    {
      "cell_type": "code",
      "metadata": {
        "colab": {
          "base_uri": "https://localhost:8080/",
          "height": 297
        },
        "id": "gKWehFOhjx1U",
        "outputId": "8ec2d52b-e0fa-4d54-a2c8-0474a4702ac6"
      },
      "source": [
        "sns.countplot(dadosRH['educacao'])"
      ],
      "execution_count": null,
      "outputs": [
        {
          "output_type": "execute_result",
          "data": {
            "text/plain": [
              "<matplotlib.axes._subplots.AxesSubplot at 0x1e70a4cc3d0>"
            ]
          },
          "metadata": {
            "tags": []
          },
          "execution_count": 11
        },
        {
          "output_type": "display_data",
          "data": {
            "image/png": "[encoded data removed]",
            "text/plain": [
              "<Figure size 432x288 with 1 Axes>"
            ]
          },
          "metadata": {
            "tags": [],
            "needs_background": "light"
          }
        }
      ]
    },
    {
      "cell_type": "code",
      "metadata": {
        "colab": {
          "base_uri": "https://localhost:8080/",
          "height": 275
        },
        "id": "BOD90Ycjj1oU",
        "outputId": "89be0cf2-edfe-416d-b509-bc0f8ec84485"
      },
      "source": [
        "dadosRH.groupby(['aval_ano_anterior']).count()"
      ],
      "execution_count": null,
      "outputs": [
        {
          "output_type": "execute_result",
          "data": {
            "text/html": [
              "<div>\n",
              "<style scoped>\n",
              "    .dataframe tbody tr th:only-of-type {\n",
              "        vertical-align: middle;\n",
              "    }\n",
              "\n",
              "    .dataframe tbody tr th {\n",
              "        vertical-align: top;\n",
              "    }\n",
              "\n",
              "    .dataframe thead th {\n",
              "        text-align: right;\n",
              "    }\n",
              "</style>\n",
              "<table border=\"1\" class=\"dataframe\">\n",
              "  <thead>\n",
              "    <tr style=\"text-align: right;\">\n",
              "      <th></th>\n",
              "      <th>id_funcionario</th>\n",
              "      <th>departmento</th>\n",
              "      <th>regiao</th>\n",
              "      <th>educacao</th>\n",
              "      <th>genero</th>\n",
              "      <th>canal_recrutamento</th>\n",
              "      <th>numero_treinamentos</th>\n",
              "      <th>idade</th>\n",
              "      <th>tempo_servico</th>\n",
              "      <th>promovido</th>\n",
              "    </tr>\n",
              "    <tr>\n",
              "      <th>aval_ano_anterior</th>\n",
              "      <th></th>\n",
              "      <th></th>\n",
              "      <th></th>\n",
              "      <th></th>\n",
              "      <th></th>\n",
              "      <th></th>\n",
              "      <th></th>\n",
              "      <th></th>\n",
              "      <th></th>\n",
              "      <th></th>\n",
              "    </tr>\n",
              "  </thead>\n",
              "  <tbody>\n",
              "    <tr>\n",
              "      <th>1.0</th>\n",
              "      <td>6223</td>\n",
              "      <td>6223</td>\n",
              "      <td>6223</td>\n",
              "      <td>5887</td>\n",
              "      <td>6223</td>\n",
              "      <td>6223</td>\n",
              "      <td>6223</td>\n",
              "      <td>6223</td>\n",
              "      <td>6223</td>\n",
              "      <td>6223</td>\n",
              "    </tr>\n",
              "    <tr>\n",
              "      <th>2.0</th>\n",
              "      <td>4225</td>\n",
              "      <td>4225</td>\n",
              "      <td>4225</td>\n",
              "      <td>4035</td>\n",
              "      <td>4225</td>\n",
              "      <td>4225</td>\n",
              "      <td>4225</td>\n",
              "      <td>4225</td>\n",
              "      <td>4225</td>\n",
              "      <td>4225</td>\n",
              "    </tr>\n",
              "    <tr>\n",
              "      <th>3.0</th>\n",
              "      <td>18618</td>\n",
              "      <td>18618</td>\n",
              "      <td>18618</td>\n",
              "      <td>17867</td>\n",
              "      <td>18618</td>\n",
              "      <td>18618</td>\n",
              "      <td>18618</td>\n",
              "      <td>18618</td>\n",
              "      <td>18618</td>\n",
              "      <td>18618</td>\n",
              "    </tr>\n",
              "    <tr>\n",
              "      <th>4.0</th>\n",
              "      <td>9877</td>\n",
              "      <td>9877</td>\n",
              "      <td>9877</td>\n",
              "      <td>9509</td>\n",
              "      <td>9877</td>\n",
              "      <td>9877</td>\n",
              "      <td>9877</td>\n",
              "      <td>9877</td>\n",
              "      <td>9877</td>\n",
              "      <td>9877</td>\n",
              "    </tr>\n",
              "    <tr>\n",
              "      <th>5.0</th>\n",
              "      <td>11741</td>\n",
              "      <td>11741</td>\n",
              "      <td>11741</td>\n",
              "      <td>11362</td>\n",
              "      <td>11741</td>\n",
              "      <td>11741</td>\n",
              "      <td>11741</td>\n",
              "      <td>11741</td>\n",
              "      <td>11741</td>\n",
              "      <td>11741</td>\n",
              "    </tr>\n",
              "  </tbody>\n",
              "</table>\n",
              "</div>"
            ],
            "text/plain": [
              "                   id_funcionario  departmento  regiao  educacao  genero  \\\n",
              "aval_ano_anterior                                                          \n",
              "1.0                          6223         6223    6223      5887    6223   \n",
              "2.0                          4225         4225    4225      4035    4225   \n",
              "3.0                         18618        18618   18618     17867   18618   \n",
              "4.0                          9877         9877    9877      9509    9877   \n",
              "5.0                         11741        11741   11741     11362   11741   \n",
              "\n",
              "                   canal_recrutamento  numero_treinamentos  idade  \\\n",
              "aval_ano_anterior                                                   \n",
              "1.0                              6223                 6223   6223   \n",
              "2.0                              4225                 4225   4225   \n",
              "3.0                             18618                18618  18618   \n",
              "4.0                              9877                 9877   9877   \n",
              "5.0                             11741                11741  11741   \n",
              "\n",
              "                   tempo_servico  promovido  \n",
              "aval_ano_anterior                            \n",
              "1.0                         6223       6223  \n",
              "2.0                         4225       4225  \n",
              "3.0                        18618      18618  \n",
              "4.0                         9877       9877  \n",
              "5.0                        11741      11741  "
            ]
          },
          "metadata": {
            "tags": []
          },
          "execution_count": 12
        }
      ]
    },
    {
      "cell_type": "code",
      "metadata": {
        "colab": {
          "base_uri": "https://localhost:8080/",
          "height": 298
        },
        "id": "2zwyIkVGkCCx",
        "outputId": "5410af54-0d77-46f9-82c0-8b6019ad8742"
      },
      "source": [
        "sns.countplot(dadosRH['aval_ano_anterior'])"
      ],
      "execution_count": null,
      "outputs": [
        {
          "output_type": "execute_result",
          "data": {
            "text/plain": [
              "<matplotlib.axes._subplots.AxesSubplot at 0x1e70b288e50>"
            ]
          },
          "metadata": {
            "tags": []
          },
          "execution_count": 13
        },
        {
          "output_type": "display_data",
          "data": {
            "image/png": "[encoded data removed]",
            "text/plain": [
              "<Figure size 432x288 with 1 Axes>"
            ]
          },
          "metadata": {
            "tags": [],
            "needs_background": "light"
          }
        }
      ]
    },
    {
      "cell_type": "markdown",
      "metadata": {
        "id": "82jyMsktzC0g"
      },
      "source": [
        "Vamos aplicar imputação e preencher os valores ausentes."
      ]
    },
    {
      "cell_type": "code",
      "metadata": {
        "id": "vSnmkA63kIee"
      },
      "source": [
        "dadosRH['educacao'].fillna(dadosRH['educacao'].mode()[0], inplace = True)"
      ],
      "execution_count": null,
      "outputs": []
    },
    {
      "cell_type": "code",
      "metadata": {
        "id": "5fkYpTLEkP63"
      },
      "source": [
        "dadosRH['aval_ano_anterior'].fillna(dadosRH['aval_ano_anterior'].median(), inplace = True)"
      ],
      "execution_count": null,
      "outputs": []
    },
    {
      "cell_type": "code",
      "metadata": {
        "colab": {
          "base_uri": "https://localhost:8080/",
          "height": 290
        },
        "id": "RacxdeaXlI3T",
        "outputId": "1d9dd074-1b60-4691-eaae-36371c1ef0e6"
      },
      "source": [
        "dadosRH.isnull().sum()"
      ],
      "execution_count": null,
      "outputs": [
        {
          "output_type": "execute_result",
          "data": {
            "text/plain": [
              "id_funcionario         0\n",
              "departmento            0\n",
              "regiao                 0\n",
              "educacao               0\n",
              "genero                 0\n",
              "canal_recrutamento     0\n",
              "numero_treinamentos    0\n",
              "idade                  0\n",
              "aval_ano_anterior      0\n",
              "tempo_servico          0\n",
              "promovido              0\n",
              "dtype: int64"
            ]
          },
          "metadata": {
            "tags": []
          },
          "execution_count": 16
        }
      ]
    },
    {
      "cell_type": "code",
      "metadata": {
        "id": "3nXmClGLzC0h",
        "outputId": "f5fb8f09-bf3d-4bb0-f7cb-c74f04f4616f"
      },
      "source": [
        "dadosRH.shape"
      ],
      "execution_count": null,
      "outputs": [
        {
          "output_type": "execute_result",
          "data": {
            "text/plain": [
              "(54808, 11)"
            ]
          },
          "metadata": {
            "tags": []
          },
          "execution_count": 17
        }
      ]
    },
    {
      "cell_type": "code",
      "metadata": {
        "id": "zAHAkXQMzC0h",
        "outputId": "c3e813a0-a868-4033-dd6d-cfbdca464124"
      },
      "source": [
        "dadosRH.groupby(['educacao']).count()"
      ],
      "execution_count": null,
      "outputs": [
        {
          "output_type": "execute_result",
          "data": {
            "text/html": [
              "<div>\n",
              "<style scoped>\n",
              "    .dataframe tbody tr th:only-of-type {\n",
              "        vertical-align: middle;\n",
              "    }\n",
              "\n",
              "    .dataframe tbody tr th {\n",
              "        vertical-align: top;\n",
              "    }\n",
              "\n",
              "    .dataframe thead th {\n",
              "        text-align: right;\n",
              "    }\n",
              "</style>\n",
              "<table border=\"1\" class=\"dataframe\">\n",
              "  <thead>\n",
              "    <tr style=\"text-align: right;\">\n",
              "      <th></th>\n",
              "      <th>id_funcionario</th>\n",
              "      <th>departmento</th>\n",
              "      <th>regiao</th>\n",
              "      <th>genero</th>\n",
              "      <th>canal_recrutamento</th>\n",
              "      <th>numero_treinamentos</th>\n",
              "      <th>idade</th>\n",
              "      <th>aval_ano_anterior</th>\n",
              "      <th>tempo_servico</th>\n",
              "      <th>promovido</th>\n",
              "    </tr>\n",
              "    <tr>\n",
              "      <th>educacao</th>\n",
              "      <th></th>\n",
              "      <th></th>\n",
              "      <th></th>\n",
              "      <th></th>\n",
              "      <th></th>\n",
              "      <th></th>\n",
              "      <th></th>\n",
              "      <th></th>\n",
              "      <th></th>\n",
              "      <th></th>\n",
              "    </tr>\n",
              "  </thead>\n",
              "  <tbody>\n",
              "    <tr>\n",
              "      <th>Ensino Medio</th>\n",
              "      <td>805</td>\n",
              "      <td>805</td>\n",
              "      <td>805</td>\n",
              "      <td>805</td>\n",
              "      <td>805</td>\n",
              "      <td>805</td>\n",
              "      <td>805</td>\n",
              "      <td>805</td>\n",
              "      <td>805</td>\n",
              "      <td>805</td>\n",
              "    </tr>\n",
              "    <tr>\n",
              "      <th>Mestrado ou Doutorado</th>\n",
              "      <td>14925</td>\n",
              "      <td>14925</td>\n",
              "      <td>14925</td>\n",
              "      <td>14925</td>\n",
              "      <td>14925</td>\n",
              "      <td>14925</td>\n",
              "      <td>14925</td>\n",
              "      <td>14925</td>\n",
              "      <td>14925</td>\n",
              "      <td>14925</td>\n",
              "    </tr>\n",
              "    <tr>\n",
              "      <th>Superior</th>\n",
              "      <td>39078</td>\n",
              "      <td>39078</td>\n",
              "      <td>39078</td>\n",
              "      <td>39078</td>\n",
              "      <td>39078</td>\n",
              "      <td>39078</td>\n",
              "      <td>39078</td>\n",
              "      <td>39078</td>\n",
              "      <td>39078</td>\n",
              "      <td>39078</td>\n",
              "    </tr>\n",
              "  </tbody>\n",
              "</table>\n",
              "</div>"
            ],
            "text/plain": [
              "                       id_funcionario  departmento  regiao  genero  \\\n",
              "educacao                                                             \n",
              "Ensino Medio                      805          805     805     805   \n",
              "Mestrado ou Doutorado           14925        14925   14925   14925   \n",
              "Superior                        39078        39078   39078   39078   \n",
              "\n",
              "                       canal_recrutamento  numero_treinamentos  idade  \\\n",
              "educacao                                                                \n",
              "Ensino Medio                          805                  805    805   \n",
              "Mestrado ou Doutorado               14925                14925  14925   \n",
              "Superior                            39078                39078  39078   \n",
              "\n",
              "                       aval_ano_anterior  tempo_servico  promovido  \n",
              "educacao                                                            \n",
              "Ensino Medio                         805            805        805  \n",
              "Mestrado ou Doutorado              14925          14925      14925  \n",
              "Superior                           39078          39078      39078  "
            ]
          },
          "metadata": {
            "tags": []
          },
          "execution_count": 17
        }
      ]
    },
    {
      "cell_type": "code",
      "metadata": {
        "id": "mO5gWHXqzC0h",
        "outputId": "942b3cc8-3485-4904-b624-3fde533ff64c"
      },
      "source": [
        "dadosRH.groupby(['aval_ano_anterior']).count()"
      ],
      "execution_count": null,
      "outputs": [
        {
          "output_type": "execute_result",
          "data": {
            "text/html": [
              "<div>\n",
              "<style scoped>\n",
              "    .dataframe tbody tr th:only-of-type {\n",
              "        vertical-align: middle;\n",
              "    }\n",
              "\n",
              "    .dataframe tbody tr th {\n",
              "        vertical-align: top;\n",
              "    }\n",
              "\n",
              "    .dataframe thead th {\n",
              "        text-align: right;\n",
              "    }\n",
              "</style>\n",
              "<table border=\"1\" class=\"dataframe\">\n",
              "  <thead>\n",
              "    <tr style=\"text-align: right;\">\n",
              "      <th></th>\n",
              "      <th>id_funcionario</th>\n",
              "      <th>departmento</th>\n",
              "      <th>regiao</th>\n",
              "      <th>educacao</th>\n",
              "      <th>genero</th>\n",
              "      <th>canal_recrutamento</th>\n",
              "      <th>numero_treinamentos</th>\n",
              "      <th>idade</th>\n",
              "      <th>tempo_servico</th>\n",
              "      <th>promovido</th>\n",
              "    </tr>\n",
              "    <tr>\n",
              "      <th>aval_ano_anterior</th>\n",
              "      <th></th>\n",
              "      <th></th>\n",
              "      <th></th>\n",
              "      <th></th>\n",
              "      <th></th>\n",
              "      <th></th>\n",
              "      <th></th>\n",
              "      <th></th>\n",
              "      <th></th>\n",
              "      <th></th>\n",
              "    </tr>\n",
              "  </thead>\n",
              "  <tbody>\n",
              "    <tr>\n",
              "      <th>1.0</th>\n",
              "      <td>6223</td>\n",
              "      <td>6223</td>\n",
              "      <td>6223</td>\n",
              "      <td>6223</td>\n",
              "      <td>6223</td>\n",
              "      <td>6223</td>\n",
              "      <td>6223</td>\n",
              "      <td>6223</td>\n",
              "      <td>6223</td>\n",
              "      <td>6223</td>\n",
              "    </tr>\n",
              "    <tr>\n",
              "      <th>2.0</th>\n",
              "      <td>4225</td>\n",
              "      <td>4225</td>\n",
              "      <td>4225</td>\n",
              "      <td>4225</td>\n",
              "      <td>4225</td>\n",
              "      <td>4225</td>\n",
              "      <td>4225</td>\n",
              "      <td>4225</td>\n",
              "      <td>4225</td>\n",
              "      <td>4225</td>\n",
              "    </tr>\n",
              "    <tr>\n",
              "      <th>3.0</th>\n",
              "      <td>22742</td>\n",
              "      <td>22742</td>\n",
              "      <td>22742</td>\n",
              "      <td>22742</td>\n",
              "      <td>22742</td>\n",
              "      <td>22742</td>\n",
              "      <td>22742</td>\n",
              "      <td>22742</td>\n",
              "      <td>22742</td>\n",
              "      <td>22742</td>\n",
              "    </tr>\n",
              "    <tr>\n",
              "      <th>4.0</th>\n",
              "      <td>9877</td>\n",
              "      <td>9877</td>\n",
              "      <td>9877</td>\n",
              "      <td>9877</td>\n",
              "      <td>9877</td>\n",
              "      <td>9877</td>\n",
              "      <td>9877</td>\n",
              "      <td>9877</td>\n",
              "      <td>9877</td>\n",
              "      <td>9877</td>\n",
              "    </tr>\n",
              "    <tr>\n",
              "      <th>5.0</th>\n",
              "      <td>11741</td>\n",
              "      <td>11741</td>\n",
              "      <td>11741</td>\n",
              "      <td>11741</td>\n",
              "      <td>11741</td>\n",
              "      <td>11741</td>\n",
              "      <td>11741</td>\n",
              "      <td>11741</td>\n",
              "      <td>11741</td>\n",
              "      <td>11741</td>\n",
              "    </tr>\n",
              "  </tbody>\n",
              "</table>\n",
              "</div>"
            ],
            "text/plain": [
              "                   id_funcionario  departmento  regiao  educacao  genero  \\\n",
              "aval_ano_anterior                                                          \n",
              "1.0                          6223         6223    6223      6223    6223   \n",
              "2.0                          4225         4225    4225      4225    4225   \n",
              "3.0                         22742        22742   22742     22742   22742   \n",
              "4.0                          9877         9877    9877      9877    9877   \n",
              "5.0                         11741        11741   11741     11741   11741   \n",
              "\n",
              "                   canal_recrutamento  numero_treinamentos  idade  \\\n",
              "aval_ano_anterior                                                   \n",
              "1.0                              6223                 6223   6223   \n",
              "2.0                              4225                 4225   4225   \n",
              "3.0                             22742                22742  22742   \n",
              "4.0                              9877                 9877   9877   \n",
              "5.0                             11741                11741  11741   \n",
              "\n",
              "                   tempo_servico  promovido  \n",
              "aval_ano_anterior                            \n",
              "1.0                         6223       6223  \n",
              "2.0                         4225       4225  \n",
              "3.0                        22742      22742  \n",
              "4.0                         9877       9877  \n",
              "5.0                        11741      11741  "
            ]
          },
          "metadata": {
            "tags": []
          },
          "execution_count": 18
        }
      ]
    },
    {
      "cell_type": "markdown",
      "metadata": {
        "id": "THqsx7JRzC0i"
      },
      "source": [
        "Vamos verificar o balanceamento de classe na variável \"promovido\"."
      ]
    },
    {
      "cell_type": "code",
      "metadata": {
        "colab": {
          "base_uri": "https://localhost:8080/",
          "height": 181
        },
        "id": "ViwkeH9Ynnbj",
        "outputId": "5d3ba7b5-e854-44c8-89ac-d585f093ad66"
      },
      "source": [
        "dadosRH.groupby(['promovido']).count()"
      ],
      "execution_count": null,
      "outputs": [
        {
          "output_type": "execute_result",
          "data": {
            "text/html": [
              "<div>\n",
              "<style scoped>\n",
              "    .dataframe tbody tr th:only-of-type {\n",
              "        vertical-align: middle;\n",
              "    }\n",
              "\n",
              "    .dataframe tbody tr th {\n",
              "        vertical-align: top;\n",
              "    }\n",
              "\n",
              "    .dataframe thead th {\n",
              "        text-align: right;\n",
              "    }\n",
              "</style>\n",
              "<table border=\"1\" class=\"dataframe\">\n",
              "  <thead>\n",
              "    <tr style=\"text-align: right;\">\n",
              "      <th></th>\n",
              "      <th>id_funcionario</th>\n",
              "      <th>departmento</th>\n",
              "      <th>regiao</th>\n",
              "      <th>educacao</th>\n",
              "      <th>genero</th>\n",
              "      <th>canal_recrutamento</th>\n",
              "      <th>numero_treinamentos</th>\n",
              "      <th>idade</th>\n",
              "      <th>aval_ano_anterior</th>\n",
              "      <th>tempo_servico</th>\n",
              "    </tr>\n",
              "    <tr>\n",
              "      <th>promovido</th>\n",
              "      <th></th>\n",
              "      <th></th>\n",
              "      <th></th>\n",
              "      <th></th>\n",
              "      <th></th>\n",
              "      <th></th>\n",
              "      <th></th>\n",
              "      <th></th>\n",
              "      <th></th>\n",
              "      <th></th>\n",
              "    </tr>\n",
              "  </thead>\n",
              "  <tbody>\n",
              "    <tr>\n",
              "      <th>0</th>\n",
              "      <td>50140</td>\n",
              "      <td>50140</td>\n",
              "      <td>50140</td>\n",
              "      <td>50140</td>\n",
              "      <td>50140</td>\n",
              "      <td>50140</td>\n",
              "      <td>50140</td>\n",
              "      <td>50140</td>\n",
              "      <td>50140</td>\n",
              "      <td>50140</td>\n",
              "    </tr>\n",
              "    <tr>\n",
              "      <th>1</th>\n",
              "      <td>4668</td>\n",
              "      <td>4668</td>\n",
              "      <td>4668</td>\n",
              "      <td>4668</td>\n",
              "      <td>4668</td>\n",
              "      <td>4668</td>\n",
              "      <td>4668</td>\n",
              "      <td>4668</td>\n",
              "      <td>4668</td>\n",
              "      <td>4668</td>\n",
              "    </tr>\n",
              "  </tbody>\n",
              "</table>\n",
              "</div>"
            ],
            "text/plain": [
              "           id_funcionario  departmento  regiao  educacao  genero  \\\n",
              "promovido                                                          \n",
              "0                   50140        50140   50140     50140   50140   \n",
              "1                    4668         4668    4668      4668    4668   \n",
              "\n",
              "           canal_recrutamento  numero_treinamentos  idade  aval_ano_anterior  \\\n",
              "promovido                                                                      \n",
              "0                       50140                50140  50140              50140   \n",
              "1                        4668                 4668   4668               4668   \n",
              "\n",
              "           tempo_servico  \n",
              "promovido                 \n",
              "0                  50140  \n",
              "1                   4668  "
            ]
          },
          "metadata": {
            "tags": []
          },
          "execution_count": 19
        }
      ]
    },
    {
      "cell_type": "code",
      "metadata": {
        "colab": {
          "base_uri": "https://localhost:8080/",
          "height": 298
        },
        "id": "Fcc-ez0voIKR",
        "outputId": "3489579a-96cb-4e6b-d336-2b2af6e12d66"
      },
      "source": [
        "sns.countplot(dadosRH['promovido'])"
      ],
      "execution_count": null,
      "outputs": [
        {
          "output_type": "execute_result",
          "data": {
            "text/plain": [
              "<matplotlib.axes._subplots.AxesSubplot at 0x1e70b2d9880>"
            ]
          },
          "metadata": {
            "tags": []
          },
          "execution_count": 20
        },
        {
          "output_type": "display_data",
          "data": {
            "image/png": "[encoded data removed]",
            "text/plain": [
              "<Figure size 432x288 with 1 Axes>"
            ]
          },
          "metadata": {
            "tags": [],
            "needs_background": "light"
          }
        }
      ]
    },
    {
      "cell_type": "code",
      "metadata": {
        "id": "Dvh71WWtrPRp"
      },
      "source": [
        "df_classe_majoritaria = dadosRH[dadosRH.promovido==0]\n",
        "df_classe_minoritaria = dadosRH[dadosRH.promovido==1]"
      ],
      "execution_count": null,
      "outputs": []
    },
    {
      "cell_type": "code",
      "metadata": {
        "id": "lMBU_URHzC0i",
        "outputId": "9c4f6514-16cd-45d5-cf3a-ff190489c0da"
      },
      "source": [
        "df_classe_majoritaria.shape"
      ],
      "execution_count": null,
      "outputs": [
        {
          "output_type": "execute_result",
          "data": {
            "text/plain": [
              "(50140, 11)"
            ]
          },
          "metadata": {
            "tags": []
          },
          "execution_count": 22
        }
      ]
    },
    {
      "cell_type": "code",
      "metadata": {
        "id": "8J_BqYjizC0i",
        "outputId": "67c18b9f-6618-4584-c391-2009508efe67"
      },
      "source": [
        "df_classe_minoritaria.shape"
      ],
      "execution_count": null,
      "outputs": [
        {
          "output_type": "execute_result",
          "data": {
            "text/plain": [
              "(4668, 11)"
            ]
          },
          "metadata": {
            "tags": []
          },
          "execution_count": 23
        }
      ]
    },
    {
      "cell_type": "code",
      "metadata": {
        "id": "x4HfwYx4zC0i"
      },
      "source": [
        "# Upsample da classe minoritária\n",
        "from sklearn.utils import resample\n",
        "df_classe_minoritaria_upsampled = resample(df_classe_minoritaria, \n",
        "                                           replace = True,     \n",
        "                                           n_samples = 50140,   \n",
        "                                           random_state = 150) "
      ],
      "execution_count": null,
      "outputs": []
    },
    {
      "cell_type": "code",
      "metadata": {
        "id": "rpqgIFcczC0i"
      },
      "source": [
        "dadosRH_balanceados = pd.concat([df_classe_majoritaria, df_classe_minoritaria_upsampled])"
      ],
      "execution_count": null,
      "outputs": []
    },
    {
      "cell_type": "code",
      "metadata": {
        "id": "EIlYSA9CzC0i",
        "outputId": "8110e9d5-4bd6-410d-fea2-6a0f4506f99c"
      },
      "source": [
        "dadosRH_balanceados.promovido.value_counts()"
      ],
      "execution_count": null,
      "outputs": [
        {
          "output_type": "execute_result",
          "data": {
            "text/plain": [
              "1    50140\n",
              "0    50140\n",
              "Name: promovido, dtype: int64"
            ]
          },
          "metadata": {
            "tags": []
          },
          "execution_count": 26
        }
      ]
    },
    {
      "cell_type": "code",
      "metadata": {
        "colab": {
          "base_uri": "https://localhost:8080/",
          "height": 399
        },
        "id": "2Ewpso7rvTlZ",
        "outputId": "ea5e438b-d138-4a6f-e986-3e9fa7b2d729"
      },
      "source": [
        "dadosRH_balanceados.info()"
      ],
      "execution_count": null,
      "outputs": [
        {
          "output_type": "stream",
          "text": [
            "<class 'pandas.core.frame.DataFrame'>\n",
            "Int64Index: 100280 entries, 0 to 5869\n",
            "Data columns (total 11 columns):\n",
            " #   Column               Non-Null Count   Dtype  \n",
            "---  ------               --------------   -----  \n",
            " 0   id_funcionario       100280 non-null  int64  \n",
            " 1   departmento          100280 non-null  object \n",
            " 2   regiao               100280 non-null  object \n",
            " 3   educacao             100280 non-null  object \n",
            " 4   genero               100280 non-null  object \n",
            " 5   canal_recrutamento   100280 non-null  object \n",
            " 6   numero_treinamentos  100280 non-null  int64  \n",
            " 7   idade                100280 non-null  int64  \n",
            " 8   aval_ano_anterior    100280 non-null  float64\n",
            " 9   tempo_servico        100280 non-null  int64  \n",
            " 10  promovido            100280 non-null  int64  \n",
            "dtypes: float64(1), int64(5), object(5)\n",
            "memory usage: 9.2+ MB\n"
          ],
          "name": "stdout"
        }
      ]
    },
    {
      "cell_type": "code",
      "metadata": {
        "colab": {
          "base_uri": "https://localhost:8080/",
          "height": 298
        },
        "id": "5pzA1bDCvpk0",
        "outputId": "72049ef5-4ec9-4428-fd73-2e8995ba11c8"
      },
      "source": [
        "sns.countplot(dadosRH_balanceados['promovido'])"
      ],
      "execution_count": null,
      "outputs": [
        {
          "output_type": "execute_result",
          "data": {
            "text/plain": [
              "<matplotlib.axes._subplots.AxesSubplot at 0x1e70b78bcd0>"
            ]
          },
          "metadata": {
            "tags": []
          },
          "execution_count": 28
        },
        {
          "output_type": "display_data",
          "data": {
            "image/png": "[encoded data removed]",
            "text/plain": [
              "<Figure size 432x288 with 1 Axes>"
            ]
          },
          "metadata": {
            "tags": [],
            "needs_background": "light"
          }
        }
      ]
    },
    {
      "cell_type": "markdown",
      "metadata": {
        "id": "zf4g0j7kzC0j"
      },
      "source": [
        "Os dados estão balanceados. Vamos salvar o dataset com os dados manipulados."
      ]
    },
    {
      "cell_type": "code",
      "metadata": {
        "id": "WdjnMWJWzC0j"
      },
      "source": [
        "dadosRH_balanceados.to_csv('dadosRH_modificado.csv', encoding = 'utf-8', index = False)"
      ],
      "execution_count": null,
      "outputs": []
    },
    {
      "cell_type": "markdown",
      "metadata": {
        "id": "3wZb5kvAzC0j"
      },
      "source": [
        "Agora carregamos os dados e seguimos com o trabalho de análise."
      ]
    },
    {
      "cell_type": "markdown",
      "metadata": {
        "id": "G5qo6O73zC0j"
      },
      "source": [
        "> A partir daqui executaremos também no Power BI."
      ]
    },
    {
      "cell_type": "code",
      "metadata": {
        "id": "0ctxeszezC0j",
        "outputId": "47b4ec63-0cb9-4884-f98f-e2c4270b3661"
      },
      "source": [
        "dataset = pd.read_csv('dadosRH_modificado.csv')\n",
        "dataset.head()"
      ],
      "execution_count": null,
      "outputs": [
        {
          "output_type": "execute_result",
          "data": {
            "text/html": [
              "<div>\n",
              "<style scoped>\n",
              "    .dataframe tbody tr th:only-of-type {\n",
              "        vertical-align: middle;\n",
              "    }\n",
              "\n",
              "    .dataframe tbody tr th {\n",
              "        vertical-align: top;\n",
              "    }\n",
              "\n",
              "    .dataframe thead th {\n",
              "        text-align: right;\n",
              "    }\n",
              "</style>\n",
              "<table border=\"1\" class=\"dataframe\">\n",
              "  <thead>\n",
              "    <tr style=\"text-align: right;\">\n",
              "      <th></th>\n",
              "      <th>id_funcionario</th>\n",
              "      <th>departmento</th>\n",
              "      <th>regiao</th>\n",
              "      <th>educacao</th>\n",
              "      <th>genero</th>\n",
              "      <th>canal_recrutamento</th>\n",
              "      <th>numero_treinamentos</th>\n",
              "      <th>idade</th>\n",
              "      <th>aval_ano_anterior</th>\n",
              "      <th>tempo_servico</th>\n",
              "      <th>promovido</th>\n",
              "    </tr>\n",
              "  </thead>\n",
              "  <tbody>\n",
              "    <tr>\n",
              "      <th>0</th>\n",
              "      <td>65438</td>\n",
              "      <td>Marketing</td>\n",
              "      <td>Sudeste</td>\n",
              "      <td>Mestrado ou Doutorado</td>\n",
              "      <td>F</td>\n",
              "      <td>Outsourcing</td>\n",
              "      <td>1</td>\n",
              "      <td>35</td>\n",
              "      <td>5.0</td>\n",
              "      <td>8</td>\n",
              "      <td>0</td>\n",
              "    </tr>\n",
              "    <tr>\n",
              "      <th>1</th>\n",
              "      <td>65141</td>\n",
              "      <td>Logistica</td>\n",
              "      <td>Nordeste</td>\n",
              "      <td>Superior</td>\n",
              "      <td>M</td>\n",
              "      <td>Outro</td>\n",
              "      <td>1</td>\n",
              "      <td>30</td>\n",
              "      <td>5.0</td>\n",
              "      <td>4</td>\n",
              "      <td>0</td>\n",
              "    </tr>\n",
              "    <tr>\n",
              "      <th>2</th>\n",
              "      <td>7513</td>\n",
              "      <td>Marketing</td>\n",
              "      <td>Sudeste</td>\n",
              "      <td>Superior</td>\n",
              "      <td>M</td>\n",
              "      <td>Outsourcing</td>\n",
              "      <td>1</td>\n",
              "      <td>34</td>\n",
              "      <td>3.0</td>\n",
              "      <td>7</td>\n",
              "      <td>0</td>\n",
              "    </tr>\n",
              "    <tr>\n",
              "      <th>3</th>\n",
              "      <td>2542</td>\n",
              "      <td>Marketing</td>\n",
              "      <td>Norte</td>\n",
              "      <td>Superior</td>\n",
              "      <td>M</td>\n",
              "      <td>Outro</td>\n",
              "      <td>2</td>\n",
              "      <td>39</td>\n",
              "      <td>1.0</td>\n",
              "      <td>10</td>\n",
              "      <td>0</td>\n",
              "    </tr>\n",
              "    <tr>\n",
              "      <th>4</th>\n",
              "      <td>48945</td>\n",
              "      <td>Tecnologia</td>\n",
              "      <td>Nordeste</td>\n",
              "      <td>Superior</td>\n",
              "      <td>M</td>\n",
              "      <td>Outro</td>\n",
              "      <td>1</td>\n",
              "      <td>45</td>\n",
              "      <td>3.0</td>\n",
              "      <td>2</td>\n",
              "      <td>0</td>\n",
              "    </tr>\n",
              "  </tbody>\n",
              "</table>\n",
              "</div>"
            ],
            "text/plain": [
              "   id_funcionario departmento    regiao               educacao genero  \\\n",
              "0           65438   Marketing   Sudeste  Mestrado ou Doutorado      F   \n",
              "1           65141   Logistica  Nordeste               Superior      M   \n",
              "2            7513   Marketing   Sudeste               Superior      M   \n",
              "3            2542   Marketing     Norte               Superior      M   \n",
              "4           48945  Tecnologia  Nordeste               Superior      M   \n",
              "\n",
              "  canal_recrutamento  numero_treinamentos  idade  aval_ano_anterior  \\\n",
              "0        Outsourcing                    1     35                5.0   \n",
              "1              Outro                    1     30                5.0   \n",
              "2        Outsourcing                    1     34                3.0   \n",
              "3              Outro                    2     39                1.0   \n",
              "4              Outro                    1     45                3.0   \n",
              "\n",
              "   tempo_servico  promovido  \n",
              "0              8          0  \n",
              "1              4          0  \n",
              "2              7          0  \n",
              "3             10          0  \n",
              "4              2          0  "
            ]
          },
          "metadata": {
            "tags": []
          },
          "execution_count": 30
        }
      ]
    },
    {
      "cell_type": "code",
      "metadata": {
        "id": "WHrgeYVhzC0j",
        "outputId": "6848099f-579b-4bf7-bf23-202436773f34"
      },
      "source": [
        "dataset.shape"
      ],
      "execution_count": null,
      "outputs": [
        {
          "output_type": "execute_result",
          "data": {
            "text/plain": [
              "(100280, 11)"
            ]
          },
          "metadata": {
            "tags": []
          },
          "execution_count": 31
        }
      ]
    },
    {
      "cell_type": "markdown",
      "metadata": {
        "id": "gaCdw-IhzC0k"
      },
      "source": [
        "### Pergunta 1 - Qual a Correlação Entre os Atributos dos Funcionários?"
      ]
    },
    {
      "cell_type": "code",
      "metadata": {
        "id": "PPgtWJLnzC0k",
        "outputId": "3b59ec05-d2ad-4d9d-afed-d1f42bad7313"
      },
      "source": [
        "import matplotlib.pyplot as plt\n",
        "import seaborn as sns\n",
        "corr = dataset.corr()\n",
        "sns.heatmap(corr, cmap = \"YlOrRd\", linewidths = 0.1)\n",
        "plt.show()"
      ],
      "execution_count": null,
      "outputs": [
        {
          "output_type": "display_data",
          "data": {
            "image/png": "[encoded data removed]",
            "text/plain": [
              "<Figure size 432x288 with 2 Axes>"
            ]
          },
          "metadata": {
            "tags": [],
            "needs_background": "light"
          }
        }
      ]
    },
    {
      "cell_type": "markdown",
      "metadata": {
        "id": "hIY_1IFzzC0k"
      },
      "source": [
        "### Pergunta 2 - Qual o Tempo de Serviço da Maioria dos Funcionários?"
      ]
    },
    {
      "cell_type": "code",
      "metadata": {
        "colab": {
          "base_uri": "https://localhost:8080/",
          "height": 585
        },
        "id": "0eqrfprLVPac",
        "outputId": "ce9ee07b-771b-421d-94a4-3ab7945316b0"
      },
      "source": [
        "import matplotlib.pyplot as plt\n",
        "import seaborn as sns\n",
        "sns.distplot(dataset['tempo_servico'], color = 'green')\n",
        "plt.title('Distribuição do Tempo de Serviço dos Funcionários', fontsize = 15)\n",
        "plt.xlabel('Tempo de Serviço em Anos', fontsize = 15)\n",
        "plt.ylabel('Total')\n",
        "plt.show()"
      ],
      "execution_count": null,
      "outputs": [
        {
          "output_type": "display_data",
          "data": {
            "image/png": "[encoded data removed]",
            "text/plain": [
              "<Figure size 432x288 with 1 Axes>"
            ]
          },
          "metadata": {
            "tags": [],
            "needs_background": "light"
          }
        }
      ]
    },
    {
      "cell_type": "markdown",
      "metadata": {
        "id": "Hy-PMAMJzC0k"
      },
      "source": [
        "### Pergunta 3 - Qual Avaliação do Ano Anterior Foi Mais Comum?"
      ]
    },
    {
      "cell_type": "code",
      "metadata": {
        "colab": {
          "base_uri": "https://localhost:8080/",
          "height": 571
        },
        "id": "VuXeNqr3ZpvU",
        "outputId": "a3c50ca1-7bf5-4ec6-ef29-06c54e982fa3"
      },
      "source": [
        "import matplotlib.pyplot as plt\n",
        "import seaborn as sns\n",
        "dataset['aval_ano_anterior'].value_counts().sort_values().plot.bar(color = 'blue', figsize = (10, 5))\n",
        "plt.title('Distribuição da Avaliação do Ano Anterior dos Funcionários', fontsize = 15)\n",
        "plt.xlabel('Avaliações', fontsize = 15)\n",
        "plt.ylabel('Total')\n",
        "plt.show()"
      ],
      "execution_count": null,
      "outputs": [
        {
          "output_type": "display_data",
          "data": {
            "image/png": "[encoded data removed]",
            "text/plain": [
              "<Figure size 720x360 with 1 Axes>"
            ]
          },
          "metadata": {
            "tags": [],
            "needs_background": "light"
          }
        }
      ]
    },
    {
      "cell_type": "markdown",
      "metadata": {
        "id": "lbOB4uR1zC0k"
      },
      "source": [
        "### Pergunta 4 - Qual a Distribuição das Idades dos Funcionários?"
      ]
    },
    {
      "cell_type": "code",
      "metadata": {
        "colab": {
          "base_uri": "https://localhost:8080/",
          "height": 585
        },
        "id": "xSOr6f5qZ5cR",
        "outputId": "7820d569-ce44-4ea7-88be-5010d10e6942"
      },
      "source": [
        "import matplotlib.pyplot as plt\n",
        "import seaborn as sns\n",
        "sns.distplot(dataset['idade'], color = 'magenta')\n",
        "plt.title('Distribuição da Idade dos Funcionários', fontsize = 15)\n",
        "plt.xlabel('Idade', fontsize = 15)\n",
        "plt.ylabel('Total')\n",
        "plt.show()"
      ],
      "execution_count": null,
      "outputs": [
        {
          "output_type": "display_data",
          "data": {
            "image/png": "[encoded data removed]",
            "text/plain": [
              "<Figure size 432x288 with 1 Axes>"
            ]
          },
          "metadata": {
            "tags": [],
            "needs_background": "light"
          }
        }
      ]
    },
    {
      "cell_type": "markdown",
      "metadata": {
        "id": "QQkIf_-ZzC0k"
      },
      "source": [
        "### Pergunta 5 - Qual o Número de Treinamentos Mais Frequente?"
      ]
    },
    {
      "cell_type": "code",
      "metadata": {
        "colab": {
          "base_uri": "https://localhost:8080/",
          "height": 476
        },
        "id": "Inh7kNo7aXic",
        "outputId": "7a650a60-b8f4-424d-9eef-1a12087fc39d"
      },
      "source": [
        "import matplotlib.pyplot as plt\n",
        "import seaborn as sns\n",
        "sns.violinplot(dataset['numero_treinamentos'], color = 'red')\n",
        "plt.title('Número de Treinamentos Feitos Pelos Funcionários', fontsize = 15)\n",
        "plt.xlabel('Número de Treinamentos', fontsize = 15)\n",
        "plt.ylabel('Frequência')\n",
        "plt.show()"
      ],
      "execution_count": null,
      "outputs": [
        {
          "output_type": "display_data",
          "data": {
            "image/png": "[encoded data removed]",
            "text/plain": [
              "<Figure size 432x288 with 1 Axes>"
            ]
          },
          "metadata": {
            "tags": [],
            "needs_background": "light"
          }
        }
      ]
    },
    {
      "cell_type": "markdown",
      "metadata": {
        "id": "MJo6g1H7zC0k"
      },
      "source": [
        "### Pergunta 6 - Qual a Proporção dos Funcionários Por Canal de Recrutamento?"
      ]
    },
    {
      "cell_type": "code",
      "metadata": {
        "id": "m-Q1XPudzC0k",
        "outputId": "fa7c167a-eedb-4622-a223-aa6d9ffdfb07"
      },
      "source": [
        "dataset['canal_recrutamento'].value_counts()"
      ],
      "execution_count": null,
      "outputs": [
        {
          "output_type": "execute_result",
          "data": {
            "text/plain": [
              "Outro          55375\n",
              "Outsourcing    42358\n",
              "Indicado        2547\n",
              "Name: canal_recrutamento, dtype: int64"
            ]
          },
          "metadata": {
            "tags": []
          },
          "execution_count": 34
        }
      ]
    },
    {
      "cell_type": "code",
      "metadata": {
        "scrolled": true,
        "id": "IYsooMv0zC0l",
        "outputId": "6e254ea3-ddfa-4e36-e0c6-f5621e8f048f"
      },
      "source": [
        "import matplotlib.pyplot as plt\n",
        "import seaborn as sns\n",
        "dataset['canal_recrutamento'].value_counts()\n",
        "fatias = [55375, 42358, 2547]\n",
        "labels = \"Outro\", \"Outsourcing\", \"Indicação\"\n",
        "colors = ['purple', 'lime', 'yellow']\n",
        "explode = [0, 0, 0]\n",
        "plt.pie(fatias, labels = labels, colors = colors, explode = explode, shadow = True, autopct = \"%.2f%%\")\n",
        "plt.title('Percentual de Funcionários Por Canal de Recrutamento', fontsize = 15)\n",
        "plt.axis('off')\n",
        "plt.legend()\n",
        "plt.show()"
      ],
      "execution_count": null,
      "outputs": [
        {
          "output_type": "display_data",
          "data": {
            "image/png": "[encoded data removed]",
            "text/plain": [
              "<Figure size 432x288 with 1 Axes>"
            ]
          },
          "metadata": {
            "tags": []
          }
        }
      ]
    },
    {
      "cell_type": "markdown",
      "metadata": {
        "id": "9WfZZvyezC0l"
      },
      "source": [
        "### Pergunta 7 - Qual a Relação Entre a Promoção e a Avaliação do Ano Anterior?"
      ]
    },
    {
      "cell_type": "code",
      "metadata": {
        "colab": {
          "base_uri": "https://localhost:8080/",
          "height": 680
        },
        "id": "eq77o58mcJC9",
        "outputId": "d27c140f-afdf-4ebf-d4fe-45ae9069e5ae"
      },
      "source": [
        "import matplotlib.pyplot as plt\n",
        "import seaborn as sns\n",
        "data = pd.crosstab(dataset['aval_ano_anterior'], dataset['promovido'])\n",
        "data.div(data.sum(1).astype(float), axis = 0).plot(kind = 'bar', \n",
        "                                                   stacked = True, \n",
        "                                                   figsize = (16, 9), \n",
        "                                                   color = ['blue', 'magenta'])\n",
        "plt.title('Relação Entre Avaliação do Ano Anterior e a Promoção', fontsize = 15)\n",
        "plt.xlabel('Avaliação do Ano Anterior', fontsize = 15)\n",
        "plt.legend()\n",
        "plt.show()"
      ],
      "execution_count": null,
      "outputs": [
        {
          "output_type": "display_data",
          "data": {
            "image/png": "[encoded data removed]",
            "text/plain": [
              "<Figure size 1152x648 with 1 Axes>"
            ]
          },
          "metadata": {
            "tags": [],
            "needs_background": "light"
          }
        }
      ]
    },
    {
      "cell_type": "code",
      "metadata": {
        "id": "XpKTjlk68MN7"
      },
      "source": [
        "# Fim"
      ],
      "execution_count": null,
      "outputs": []
    }
  ]
}