{
 "cells": [
  {
   "cell_type": "markdown",
   "metadata": {
    "id": "df4d87a1-f09e-4f54-85d4-5c39e688268b"
   },
   "source": [
    "\n",
    "\n",
    "\n",
    "## <font color='blue'>Estudo de Caso 4</font>\n",
    "\n",
    "## <font color='blue'>Engenharia de Atributos Para E-Commerce Analytics</font>"
   ]
  },
  {
   "cell_type": "markdown",
   "metadata": {},
   "source": [
    "Obs: Estaremos trabalhando em um grande projeto de Ciência de Dados distribuído em 3 capítulos:\n",
    "\n",
    "- Análise Exploratória de Dados\n",
    "    - EDA Parte 1\n",
    "    - EDA Parte 2\n",
    "- **Engenharia de Atributos**\n",
    "- Pré-Processamento de Dados"
   ]
  },
  {
   "cell_type": "markdown",
   "metadata": {},
   "source": [
    "A Engenharia de Atributos refere-se ao processo de usar o conhecimento do domínio (área de negócio) para remover, selecionar e transformar os dados, mantendo somente os atributos mais relevantes."
   ]
  },
  {
   "cell_type": "markdown",
   "metadata": {},
   "source": [
    "![title](imagens/EstudoCaso4.png)"
   ]
  },
  {
   "cell_type": "code",
   "execution_count": 1,
   "metadata": {},
   "outputs": [
    {
     "name": "stdout",
     "output_type": "stream",
     "text": [
      "Versão da Linguagem Python Usada Neste Jupyter Notebook: 3.9.7\n"
     ]
    }
   ],
   "source": [
    "# Versão da Linguagem Python\n",
    "from platform import python_version\n",
    "print('Versão da Linguagem Python Usada Neste Jupyter Notebook:', python_version())"
   ]
  },
  {
   "cell_type": "code",
   "execution_count": 2,
   "metadata": {},
   "outputs": [],
   "source": [
    "# Para atualizar um pacote, execute o comando abaixo no terminal ou prompt de comando:\n",
    "# pip install -U nome_pacote\n",
    "\n",
    "# Para instalar a versão exata de um pacote, execute o comando abaixo no terminal ou prompt de comando:\n",
    "#!pip install nome_pacote==versão_desejada\n",
    "\n",
    "# Depois de instalar ou atualizar o pacote, reinicie o jupyter notebook.\n",
    "\n",
    "# Instala o pacote watermark. \n",
    "# Esse pacote é usado para gravar as versões de outros pacotes usados neste jupyter notebook.\n",
    "#!pip install -q -U watermark"
   ]
  },
  {
   "cell_type": "code",
   "execution_count": 1,
   "metadata": {
    "id": "6da754d5-db10-4626-b5d3-9a0125483d6e"
   },
   "outputs": [],
   "source": [
    "# Imports\n",
    "import scipy\n",
    "import numpy as np\n",
    "import pandas as pd\n",
    "import matplotlib.pyplot as plt\n",
    "import seaborn as sns\n",
    "from scipy import stats#PACOTE PARA FUNÇÃO MATEMATICA"
   ]
  },
  {
   "cell_type": "code",
   "execution_count": 4,
   "metadata": {},
   "outputs": [
    {
     "name": "stdout",
     "output_type": "stream",
     "text": [
      "Author: Data Science Academy\n",
      "\n",
      "scipy     : 1.8.0\n",
      "pandas    : 1.4.2\n",
      "numpy     : 1.22.3\n",
      "matplotlib: 3.4.3\n",
      "seaborn   : 0.11.2\n",
      "\n"
     ]
    }
   ],
   "source": [
    "# Versões dos pacotes usados neste jupyter notebook\n",
    "%reload_ext watermark\n",
    "%watermark -a \"Data Science Academy\" --iversions"
   ]
  },
  {
   "cell_type": "markdown",
   "metadata": {
    "id": "0402fac6-6a28-422d-ae5b-3eba35a4d3ea"
   },
   "source": [
    "## Carregando o Dataset"
   ]
  },
  {
   "cell_type": "code",
   "execution_count": 2,
   "metadata": {
    "id": "898ab2f1-c855-49b6-aa37-ec6c26c3a89b"
   },
   "outputs": [],
   "source": [
    "# Carrega o dataset\n",
    "df = pd.read_csv('dados/dataset.csv')"
   ]
  },
  {
   "cell_type": "code",
   "execution_count": null,
   "metadata": {},
   "outputs": [],
   "source": []
  },
  {
   "cell_type": "markdown",
   "metadata": {},
   "source": [
    "## Analise Exploratoria dos Dados "
   ]
  },
  {
   "cell_type": "code",
   "execution_count": 3,
   "metadata": {},
   "outputs": [
    {
     "data": {
      "text/plain": [
       "(11000, 12)"
      ]
     },
     "execution_count": 3,
     "metadata": {},
     "output_type": "execute_result"
    }
   ],
   "source": [
    "df.shape"
   ]
  },
  {
   "cell_type": "code",
   "execution_count": 4,
   "metadata": {},
   "outputs": [
    {
     "data": {
      "text/html": [
       "<div>\n",
       "<style scoped>\n",
       "    .dataframe tbody tr th:only-of-type {\n",
       "        vertical-align: middle;\n",
       "    }\n",
       "\n",
       "    .dataframe tbody tr th {\n",
       "        vertical-align: top;\n",
       "    }\n",
       "\n",
       "    .dataframe thead th {\n",
       "        text-align: right;\n",
       "    }\n",
       "</style>\n",
       "<table border=\"1\" class=\"dataframe\">\n",
       "  <thead>\n",
       "    <tr style=\"text-align: right;\">\n",
       "      <th></th>\n",
       "      <th>ID</th>\n",
       "      <th>corredor_armazem</th>\n",
       "      <th>modo_envio</th>\n",
       "      <th>numero_chamadas_cliente</th>\n",
       "      <th>avaliacao_cliente</th>\n",
       "      <th>custo_produto</th>\n",
       "      <th>compras_anteriores</th>\n",
       "      <th>prioridade_produto</th>\n",
       "      <th>genero</th>\n",
       "      <th>desconto</th>\n",
       "      <th>peso_gramas</th>\n",
       "      <th>entregue_no_prazo</th>\n",
       "    </tr>\n",
       "  </thead>\n",
       "  <tbody>\n",
       "    <tr>\n",
       "      <th>0</th>\n",
       "      <td>1</td>\n",
       "      <td>D</td>\n",
       "      <td>Aviao</td>\n",
       "      <td>4</td>\n",
       "      <td>2</td>\n",
       "      <td>177</td>\n",
       "      <td>3</td>\n",
       "      <td>baixa</td>\n",
       "      <td>F</td>\n",
       "      <td>44</td>\n",
       "      <td>1233</td>\n",
       "      <td>1</td>\n",
       "    </tr>\n",
       "    <tr>\n",
       "      <th>1</th>\n",
       "      <td>2</td>\n",
       "      <td>F</td>\n",
       "      <td>Aviao</td>\n",
       "      <td>4</td>\n",
       "      <td>5</td>\n",
       "      <td>216</td>\n",
       "      <td>2</td>\n",
       "      <td>baixa</td>\n",
       "      <td>M</td>\n",
       "      <td>59</td>\n",
       "      <td>3088</td>\n",
       "      <td>1</td>\n",
       "    </tr>\n",
       "    <tr>\n",
       "      <th>2</th>\n",
       "      <td>3</td>\n",
       "      <td>A</td>\n",
       "      <td>Aviao</td>\n",
       "      <td>2</td>\n",
       "      <td>2</td>\n",
       "      <td>183</td>\n",
       "      <td>4</td>\n",
       "      <td>baixa</td>\n",
       "      <td>M</td>\n",
       "      <td>48</td>\n",
       "      <td>3374</td>\n",
       "      <td>1</td>\n",
       "    </tr>\n",
       "    <tr>\n",
       "      <th>3</th>\n",
       "      <td>4</td>\n",
       "      <td>B</td>\n",
       "      <td>Aviao</td>\n",
       "      <td>3</td>\n",
       "      <td>3</td>\n",
       "      <td>176</td>\n",
       "      <td>4</td>\n",
       "      <td>media</td>\n",
       "      <td>M</td>\n",
       "      <td>10</td>\n",
       "      <td>1177</td>\n",
       "      <td>1</td>\n",
       "    </tr>\n",
       "    <tr>\n",
       "      <th>4</th>\n",
       "      <td>5</td>\n",
       "      <td>C</td>\n",
       "      <td>Aviao</td>\n",
       "      <td>2</td>\n",
       "      <td>2</td>\n",
       "      <td>184</td>\n",
       "      <td>3</td>\n",
       "      <td>media</td>\n",
       "      <td>F</td>\n",
       "      <td>46</td>\n",
       "      <td>2484</td>\n",
       "      <td>1</td>\n",
       "    </tr>\n",
       "  </tbody>\n",
       "</table>\n",
       "</div>"
      ],
      "text/plain": [
       "   ID corredor_armazem modo_envio  numero_chamadas_cliente  avaliacao_cliente  \\\n",
       "0   1                D      Aviao                        4                  2   \n",
       "1   2                F      Aviao                        4                  5   \n",
       "2   3                A      Aviao                        2                  2   \n",
       "3   4                B      Aviao                        3                  3   \n",
       "4   5                C      Aviao                        2                  2   \n",
       "\n",
       "   custo_produto  compras_anteriores prioridade_produto genero  desconto  \\\n",
       "0            177                   3              baixa      F        44   \n",
       "1            216                   2              baixa      M        59   \n",
       "2            183                   4              baixa      M        48   \n",
       "3            176                   4              media      M        10   \n",
       "4            184                   3              media      F        46   \n",
       "\n",
       "   peso_gramas  entregue_no_prazo  \n",
       "0         1233                  1  \n",
       "1         3088                  1  \n",
       "2         3374                  1  \n",
       "3         1177                  1  \n",
       "4         2484                  1  "
      ]
     },
     "execution_count": 4,
     "metadata": {},
     "output_type": "execute_result"
    }
   ],
   "source": [
    "df.head()"
   ]
  },
  {
   "cell_type": "code",
   "execution_count": 5,
   "metadata": {
    "colab": {
     "base_uri": "https://localhost:8080/"
    },
    "executionInfo": {
     "elapsed": 354,
     "status": "ok",
     "timestamp": 1649600907074,
     "user": {
      "displayName": "Muhammad Hamzah",
      "userId": "06012328832276120437"
     },
     "user_tz": -420
    },
    "id": "IyX0ACtfav2M",
    "outputId": "8cfd91bb-c186-4290-e273-fc191aee1394"
   },
   "outputs": [
    {
     "name": "stdout",
     "output_type": "stream",
     "text": [
      "<class 'pandas.core.frame.DataFrame'>\n",
      "RangeIndex: 11000 entries, 0 to 10999\n",
      "Data columns (total 12 columns):\n",
      " #   Column                   Non-Null Count  Dtype \n",
      "---  ------                   --------------  ----- \n",
      " 0   ID                       11000 non-null  int64 \n",
      " 1   corredor_armazem         11000 non-null  object\n",
      " 2   modo_envio               11000 non-null  object\n",
      " 3   numero_chamadas_cliente  11000 non-null  int64 \n",
      " 4   avaliacao_cliente        11000 non-null  int64 \n",
      " 5   custo_produto            11000 non-null  int64 \n",
      " 6   compras_anteriores       11000 non-null  int64 \n",
      " 7   prioridade_produto       11000 non-null  object\n",
      " 8   genero                   11000 non-null  object\n",
      " 9   desconto                 11000 non-null  int64 \n",
      " 10  peso_gramas              11000 non-null  int64 \n",
      " 11  entregue_no_prazo        11000 non-null  int64 \n",
      "dtypes: int64(8), object(4)\n",
      "memory usage: 1.0+ MB\n"
     ]
    }
   ],
   "source": [
    "df.info()"
   ]
  },
  {
   "cell_type": "code",
   "execution_count": 6,
   "metadata": {},
   "outputs": [
    {
     "data": {
      "text/plain": [
       "Index(['ID', 'corredor_armazem', 'modo_envio', 'numero_chamadas_cliente',\n",
       "       'avaliacao_cliente', 'custo_produto', 'compras_anteriores',\n",
       "       'prioridade_produto', 'genero', 'desconto', 'peso_gramas',\n",
       "       'entregue_no_prazo'],\n",
       "      dtype='object')"
      ]
     },
     "execution_count": 6,
     "metadata": {},
     "output_type": "execute_result"
    }
   ],
   "source": [
    "df.columns"
   ]
  },
  {
   "cell_type": "code",
   "execution_count": 7,
   "metadata": {
    "id": "yhPRgkRoa48c"
   },
   "outputs": [],
   "source": [
    "# Variáveis numéricas\n",
    "nums = ['numero_chamadas_cliente', \n",
    "        'avaliacao_cliente', \n",
    "        'compras_anteriores', \n",
    "        'desconto', \n",
    "        'custo_produto', \n",
    "        'peso_gramas']"
   ]
  },
  {
   "cell_type": "code",
   "execution_count": 8,
   "metadata": {},
   "outputs": [],
   "source": [
    "# Variáveis categóricas\n",
    "cats = ['modo_envio', \n",
    "        'prioridade_produto', \n",
    "        'genero',\n",
    "        'corredor_armazem']"
   ]
  },
  {
   "cell_type": "code",
   "execution_count": 9,
   "metadata": {},
   "outputs": [],
   "source": [
    "# Variável target\n",
    "target = ['entregue_no_prazo'] "
   ]
  },
  {
   "cell_type": "code",
   "execution_count": 10,
   "metadata": {
    "colab": {
     "base_uri": "https://localhost:8080/",
     "height": 300
    },
    "executionInfo": {
     "elapsed": 359,
     "status": "ok",
     "timestamp": 1649600947048,
     "user": {
      "displayName": "Muhammad Hamzah",
      "userId": "06012328832276120437"
     },
     "user_tz": -420
    },
    "id": "p02KGYfsa_X8",
    "outputId": "bdbaf862-8223-4663-a2a5-ecee41d34afa"
   },
   "outputs": [
    {
     "data": {
      "text/html": [
       "<div>\n",
       "<style scoped>\n",
       "    .dataframe tbody tr th:only-of-type {\n",
       "        vertical-align: middle;\n",
       "    }\n",
       "\n",
       "    .dataframe tbody tr th {\n",
       "        vertical-align: top;\n",
       "    }\n",
       "\n",
       "    .dataframe thead th {\n",
       "        text-align: right;\n",
       "    }\n",
       "</style>\n",
       "<table border=\"1\" class=\"dataframe\">\n",
       "  <thead>\n",
       "    <tr style=\"text-align: right;\">\n",
       "      <th></th>\n",
       "      <th>numero_chamadas_cliente</th>\n",
       "      <th>avaliacao_cliente</th>\n",
       "      <th>compras_anteriores</th>\n",
       "      <th>desconto</th>\n",
       "      <th>custo_produto</th>\n",
       "      <th>peso_gramas</th>\n",
       "    </tr>\n",
       "  </thead>\n",
       "  <tbody>\n",
       "    <tr>\n",
       "      <th>count</th>\n",
       "      <td>11000.000000</td>\n",
       "      <td>11000.000000</td>\n",
       "      <td>11000.000000</td>\n",
       "      <td>11000.000000</td>\n",
       "      <td>11000.000000</td>\n",
       "      <td>11000.000000</td>\n",
       "    </tr>\n",
       "    <tr>\n",
       "      <th>mean</th>\n",
       "      <td>4.054455</td>\n",
       "      <td>2.990455</td>\n",
       "      <td>3.567727</td>\n",
       "      <td>13.372545</td>\n",
       "      <td>210.200909</td>\n",
       "      <td>3633.844455</td>\n",
       "    </tr>\n",
       "    <tr>\n",
       "      <th>std</th>\n",
       "      <td>1.141438</td>\n",
       "      <td>1.413570</td>\n",
       "      <td>1.522852</td>\n",
       "      <td>16.204943</td>\n",
       "      <td>48.062985</td>\n",
       "      <td>1635.402722</td>\n",
       "    </tr>\n",
       "    <tr>\n",
       "      <th>min</th>\n",
       "      <td>2.000000</td>\n",
       "      <td>1.000000</td>\n",
       "      <td>2.000000</td>\n",
       "      <td>1.000000</td>\n",
       "      <td>96.000000</td>\n",
       "      <td>1001.000000</td>\n",
       "    </tr>\n",
       "    <tr>\n",
       "      <th>25%</th>\n",
       "      <td>3.000000</td>\n",
       "      <td>2.000000</td>\n",
       "      <td>3.000000</td>\n",
       "      <td>4.000000</td>\n",
       "      <td>169.000000</td>\n",
       "      <td>1839.000000</td>\n",
       "    </tr>\n",
       "    <tr>\n",
       "      <th>50%</th>\n",
       "      <td>4.000000</td>\n",
       "      <td>3.000000</td>\n",
       "      <td>3.000000</td>\n",
       "      <td>7.000000</td>\n",
       "      <td>214.000000</td>\n",
       "      <td>4149.000000</td>\n",
       "    </tr>\n",
       "    <tr>\n",
       "      <th>75%</th>\n",
       "      <td>5.000000</td>\n",
       "      <td>4.000000</td>\n",
       "      <td>4.000000</td>\n",
       "      <td>10.000000</td>\n",
       "      <td>251.000000</td>\n",
       "      <td>5050.000000</td>\n",
       "    </tr>\n",
       "    <tr>\n",
       "      <th>max</th>\n",
       "      <td>7.000000</td>\n",
       "      <td>5.000000</td>\n",
       "      <td>10.000000</td>\n",
       "      <td>65.000000</td>\n",
       "      <td>310.000000</td>\n",
       "      <td>7846.000000</td>\n",
       "    </tr>\n",
       "  </tbody>\n",
       "</table>\n",
       "</div>"
      ],
      "text/plain": [
       "       numero_chamadas_cliente  avaliacao_cliente  compras_anteriores  \\\n",
       "count             11000.000000       11000.000000        11000.000000   \n",
       "mean                  4.054455           2.990455            3.567727   \n",
       "std                   1.141438           1.413570            1.522852   \n",
       "min                   2.000000           1.000000            2.000000   \n",
       "25%                   3.000000           2.000000            3.000000   \n",
       "50%                   4.000000           3.000000            3.000000   \n",
       "75%                   5.000000           4.000000            4.000000   \n",
       "max                   7.000000           5.000000           10.000000   \n",
       "\n",
       "           desconto  custo_produto   peso_gramas  \n",
       "count  11000.000000   11000.000000  11000.000000  \n",
       "mean      13.372545     210.200909   3633.844455  \n",
       "std       16.204943      48.062985   1635.402722  \n",
       "min        1.000000      96.000000   1001.000000  \n",
       "25%        4.000000     169.000000   1839.000000  \n",
       "50%        7.000000     214.000000   4149.000000  \n",
       "75%       10.000000     251.000000   5050.000000  \n",
       "max       65.000000     310.000000   7846.000000  "
      ]
     },
     "execution_count": 10,
     "metadata": {},
     "output_type": "execute_result"
    }
   ],
   "source": [
    "df[nums].describe()"
   ]
  },
  {
   "cell_type": "code",
   "execution_count": 11,
   "metadata": {
    "colab": {
     "base_uri": "https://localhost:8080/",
     "height": 175
    },
    "executionInfo": {
     "elapsed": 344,
     "status": "ok",
     "timestamp": 1649601019859,
     "user": {
      "displayName": "Muhammad Hamzah",
      "userId": "06012328832276120437"
     },
     "user_tz": -420
    },
    "id": "AiTAj4CvbTLN",
    "outputId": "edd61641-0ef3-49a1-9588-ac3b881f9afe"
   },
   "outputs": [
    {
     "data": {
      "text/html": [
       "<div>\n",
       "<style scoped>\n",
       "    .dataframe tbody tr th:only-of-type {\n",
       "        vertical-align: middle;\n",
       "    }\n",
       "\n",
       "    .dataframe tbody tr th {\n",
       "        vertical-align: top;\n",
       "    }\n",
       "\n",
       "    .dataframe thead th {\n",
       "        text-align: right;\n",
       "    }\n",
       "</style>\n",
       "<table border=\"1\" class=\"dataframe\">\n",
       "  <thead>\n",
       "    <tr style=\"text-align: right;\">\n",
       "      <th></th>\n",
       "      <th>modo_envio</th>\n",
       "      <th>prioridade_produto</th>\n",
       "      <th>genero</th>\n",
       "      <th>corredor_armazem</th>\n",
       "    </tr>\n",
       "  </thead>\n",
       "  <tbody>\n",
       "    <tr>\n",
       "      <th>count</th>\n",
       "      <td>11000</td>\n",
       "      <td>11000</td>\n",
       "      <td>11000</td>\n",
       "      <td>11000</td>\n",
       "    </tr>\n",
       "    <tr>\n",
       "      <th>unique</th>\n",
       "      <td>3</td>\n",
       "      <td>3</td>\n",
       "      <td>2</td>\n",
       "      <td>5</td>\n",
       "    </tr>\n",
       "    <tr>\n",
       "      <th>top</th>\n",
       "      <td>Navio</td>\n",
       "      <td>baixa</td>\n",
       "      <td>F</td>\n",
       "      <td>F</td>\n",
       "    </tr>\n",
       "    <tr>\n",
       "      <th>freq</th>\n",
       "      <td>7463</td>\n",
       "      <td>5298</td>\n",
       "      <td>5546</td>\n",
       "      <td>3666</td>\n",
       "    </tr>\n",
       "  </tbody>\n",
       "</table>\n",
       "</div>"
      ],
      "text/plain": [
       "       modo_envio prioridade_produto genero corredor_armazem\n",
       "count       11000              11000  11000            11000\n",
       "unique          3                  3      2                5\n",
       "top         Navio              baixa      F                F\n",
       "freq         7463               5298   5546             3666"
      ]
     },
     "execution_count": 11,
     "metadata": {},
     "output_type": "execute_result"
    }
   ],
   "source": [
    "df[cats].describe()"
   ]
  },
  {
   "cell_type": "code",
   "execution_count": 12,
   "metadata": {},
   "outputs": [
    {
     "data": {
      "text/plain": [
       "entregue_no_prazo\n",
       "1                    6563\n",
       "0                    4437\n",
       "dtype: int64"
      ]
     },
     "execution_count": 12,
     "metadata": {},
     "output_type": "execute_result"
    }
   ],
   "source": [
    "df[target].value_counts()"
   ]
  },
  {
   "cell_type": "markdown",
   "metadata": {
    "id": "50f87511-3781-4138-8f04-0d7bdaef817e"
   },
   "source": [
    "## Limpeza de Dados"
   ]
  },
  {
   "cell_type": "markdown",
   "metadata": {
    "id": "d5ed63e6-3812-4887-88a7-4af466fcc580"
   },
   "source": [
    "### Tratamento de Valores Ausentes\n",
    "\n",
    "**ATENÇÃO**: Valor ausente significa ausência de informação e não ausência de dado!\n",
    "\n",
    "O tratamento pode ser feito antes, durante ou depois da Análise Exploratória, mas idealmente deve ser feito antes da Engenharia de Atributos. Mas fique atento: a Engenharia de Atributos e o Pré-Processamento podem gerar valores ausentes, o que precisa ser tratado."
   ]
  },
  {
   "cell_type": "code",
   "execution_count": 13,
   "metadata": {},
   "outputs": [
    {
     "data": {
      "text/html": [
       "<div>\n",
       "<style scoped>\n",
       "    .dataframe tbody tr th:only-of-type {\n",
       "        vertical-align: middle;\n",
       "    }\n",
       "\n",
       "    .dataframe tbody tr th {\n",
       "        vertical-align: top;\n",
       "    }\n",
       "\n",
       "    .dataframe thead th {\n",
       "        text-align: right;\n",
       "    }\n",
       "</style>\n",
       "<table border=\"1\" class=\"dataframe\">\n",
       "  <thead>\n",
       "    <tr style=\"text-align: right;\">\n",
       "      <th></th>\n",
       "      <th>ID</th>\n",
       "      <th>corredor_armazem</th>\n",
       "      <th>modo_envio</th>\n",
       "      <th>numero_chamadas_cliente</th>\n",
       "      <th>avaliacao_cliente</th>\n",
       "      <th>custo_produto</th>\n",
       "      <th>compras_anteriores</th>\n",
       "      <th>prioridade_produto</th>\n",
       "      <th>genero</th>\n",
       "      <th>desconto</th>\n",
       "      <th>peso_gramas</th>\n",
       "      <th>entregue_no_prazo</th>\n",
       "    </tr>\n",
       "  </thead>\n",
       "  <tbody>\n",
       "    <tr>\n",
       "      <th>0</th>\n",
       "      <td>1</td>\n",
       "      <td>D</td>\n",
       "      <td>Aviao</td>\n",
       "      <td>4</td>\n",
       "      <td>2</td>\n",
       "      <td>177</td>\n",
       "      <td>3</td>\n",
       "      <td>baixa</td>\n",
       "      <td>F</td>\n",
       "      <td>44</td>\n",
       "      <td>1233</td>\n",
       "      <td>1</td>\n",
       "    </tr>\n",
       "    <tr>\n",
       "      <th>1</th>\n",
       "      <td>2</td>\n",
       "      <td>F</td>\n",
       "      <td>Aviao</td>\n",
       "      <td>4</td>\n",
       "      <td>5</td>\n",
       "      <td>216</td>\n",
       "      <td>2</td>\n",
       "      <td>baixa</td>\n",
       "      <td>M</td>\n",
       "      <td>59</td>\n",
       "      <td>3088</td>\n",
       "      <td>1</td>\n",
       "    </tr>\n",
       "    <tr>\n",
       "      <th>2</th>\n",
       "      <td>3</td>\n",
       "      <td>A</td>\n",
       "      <td>Aviao</td>\n",
       "      <td>2</td>\n",
       "      <td>2</td>\n",
       "      <td>183</td>\n",
       "      <td>4</td>\n",
       "      <td>baixa</td>\n",
       "      <td>M</td>\n",
       "      <td>48</td>\n",
       "      <td>3374</td>\n",
       "      <td>1</td>\n",
       "    </tr>\n",
       "  </tbody>\n",
       "</table>\n",
       "</div>"
      ],
      "text/plain": [
       "   ID corredor_armazem modo_envio  numero_chamadas_cliente  avaliacao_cliente  \\\n",
       "0   1                D      Aviao                        4                  2   \n",
       "1   2                F      Aviao                        4                  5   \n",
       "2   3                A      Aviao                        2                  2   \n",
       "\n",
       "   custo_produto  compras_anteriores prioridade_produto genero  desconto  \\\n",
       "0            177                   3              baixa      F        44   \n",
       "1            216                   2              baixa      M        59   \n",
       "2            183                   4              baixa      M        48   \n",
       "\n",
       "   peso_gramas  entregue_no_prazo  \n",
       "0         1233                  1  \n",
       "1         3088                  1  \n",
       "2         3374                  1  "
      ]
     },
     "execution_count": 13,
     "metadata": {},
     "output_type": "execute_result"
    }
   ],
   "source": [
    "df.head(3)"
   ]
  },
  {
   "cell_type": "code",
   "execution_count": 14,
   "metadata": {
    "colab": {
     "base_uri": "https://localhost:8080/"
    },
    "executionInfo": {
     "elapsed": 358,
     "status": "ok",
     "timestamp": 1649601122441,
     "user": {
      "displayName": "Muhammad Hamzah",
      "userId": "06012328832276120437"
     },
     "user_tz": -420
    },
    "id": "ce59c078-5223-48ec-a354-f150c1eadb25",
    "outputId": "57db3686-acb6-44fd-bd5a-d7d25ccf1f22"
   },
   "outputs": [
    {
     "data": {
      "text/plain": [
       "ID                         0\n",
       "corredor_armazem           0\n",
       "modo_envio                 0\n",
       "numero_chamadas_cliente    0\n",
       "avaliacao_cliente          0\n",
       "custo_produto              0\n",
       "compras_anteriores         0\n",
       "prioridade_produto         0\n",
       "genero                     0\n",
       "desconto                   0\n",
       "peso_gramas                0\n",
       "entregue_no_prazo          0\n",
       "dtype: int64"
      ]
     },
     "execution_count": 14,
     "metadata": {},
     "output_type": "execute_result"
    }
   ],
   "source": [
    "# Verifica se há valores ausentes\n",
    "df.isna().sum()"
   ]
  },
  {
   "cell_type": "markdown",
   "metadata": {
    "id": "866d65e4-acc7-488b-b72d-478796a02252",
    "tags": []
   },
   "source": [
    "### Tratamento de Valores Duplicados\n",
    "\n",
    "Valores duplicados significam duplicidade dos dados em toda a linha (todo o registro).\n",
    "\n",
    "O tratamento pode ser feito antes, durante ou depois da Análise Exploratória, mas idealmente deve ser feito antes da Engenharia de Atributos."
   ]
  },
  {
   "cell_type": "code",
   "execution_count": 15,
   "metadata": {},
   "outputs": [
    {
     "data": {
      "text/html": [
       "<div>\n",
       "<style scoped>\n",
       "    .dataframe tbody tr th:only-of-type {\n",
       "        vertical-align: middle;\n",
       "    }\n",
       "\n",
       "    .dataframe tbody tr th {\n",
       "        vertical-align: top;\n",
       "    }\n",
       "\n",
       "    .dataframe thead th {\n",
       "        text-align: right;\n",
       "    }\n",
       "</style>\n",
       "<table border=\"1\" class=\"dataframe\">\n",
       "  <thead>\n",
       "    <tr style=\"text-align: right;\">\n",
       "      <th></th>\n",
       "      <th>ID</th>\n",
       "      <th>corredor_armazem</th>\n",
       "      <th>modo_envio</th>\n",
       "      <th>numero_chamadas_cliente</th>\n",
       "      <th>avaliacao_cliente</th>\n",
       "      <th>custo_produto</th>\n",
       "      <th>compras_anteriores</th>\n",
       "      <th>prioridade_produto</th>\n",
       "      <th>genero</th>\n",
       "      <th>desconto</th>\n",
       "      <th>peso_gramas</th>\n",
       "      <th>entregue_no_prazo</th>\n",
       "    </tr>\n",
       "  </thead>\n",
       "  <tbody>\n",
       "    <tr>\n",
       "      <th>0</th>\n",
       "      <td>1</td>\n",
       "      <td>D</td>\n",
       "      <td>Aviao</td>\n",
       "      <td>4</td>\n",
       "      <td>2</td>\n",
       "      <td>177</td>\n",
       "      <td>3</td>\n",
       "      <td>baixa</td>\n",
       "      <td>F</td>\n",
       "      <td>44</td>\n",
       "      <td>1233</td>\n",
       "      <td>1</td>\n",
       "    </tr>\n",
       "    <tr>\n",
       "      <th>1</th>\n",
       "      <td>2</td>\n",
       "      <td>F</td>\n",
       "      <td>Aviao</td>\n",
       "      <td>4</td>\n",
       "      <td>5</td>\n",
       "      <td>216</td>\n",
       "      <td>2</td>\n",
       "      <td>baixa</td>\n",
       "      <td>M</td>\n",
       "      <td>59</td>\n",
       "      <td>3088</td>\n",
       "      <td>1</td>\n",
       "    </tr>\n",
       "    <tr>\n",
       "      <th>2</th>\n",
       "      <td>3</td>\n",
       "      <td>A</td>\n",
       "      <td>Aviao</td>\n",
       "      <td>2</td>\n",
       "      <td>2</td>\n",
       "      <td>183</td>\n",
       "      <td>4</td>\n",
       "      <td>baixa</td>\n",
       "      <td>M</td>\n",
       "      <td>48</td>\n",
       "      <td>3374</td>\n",
       "      <td>1</td>\n",
       "    </tr>\n",
       "  </tbody>\n",
       "</table>\n",
       "</div>"
      ],
      "text/plain": [
       "   ID corredor_armazem modo_envio  numero_chamadas_cliente  avaliacao_cliente  \\\n",
       "0   1                D      Aviao                        4                  2   \n",
       "1   2                F      Aviao                        4                  5   \n",
       "2   3                A      Aviao                        2                  2   \n",
       "\n",
       "   custo_produto  compras_anteriores prioridade_produto genero  desconto  \\\n",
       "0            177                   3              baixa      F        44   \n",
       "1            216                   2              baixa      M        59   \n",
       "2            183                   4              baixa      M        48   \n",
       "\n",
       "   peso_gramas  entregue_no_prazo  \n",
       "0         1233                  1  \n",
       "1         3088                  1  \n",
       "2         3374                  1  "
      ]
     },
     "execution_count": 15,
     "metadata": {},
     "output_type": "execute_result"
    }
   ],
   "source": [
    "df.head(3)"
   ]
  },
  {
   "cell_type": "code",
   "execution_count": 16,
   "metadata": {
    "colab": {
     "base_uri": "https://localhost:8080/"
    },
    "executionInfo": {
     "elapsed": 361,
     "status": "ok",
     "timestamp": 1649601167857,
     "user": {
      "displayName": "Muhammad Hamzah",
      "userId": "06012328832276120437"
     },
     "user_tz": -420
    },
    "id": "2a592cca-7137-45ef-a701-d247650f1f14",
    "outputId": "77f10718-dbc0-4b06-94a7-c4f0602b2d74"
   },
   "outputs": [
    {
     "data": {
      "text/plain": [
       "0"
      ]
     },
     "execution_count": 16,
     "metadata": {},
     "output_type": "execute_result"
    }
   ],
   "source": [
    "# Verifica se há valores duplicados\n",
    "df.duplicated().sum()"
   ]
  },
  {
   "cell_type": "markdown",
   "metadata": {
    "id": "dd8b23e3-f25e-45c2-bdcb-25b57c038f83"
   },
   "source": [
    "### Tratamento de Valores Outliers\n",
    "\n",
    "Leia o manual em pdf com a definição do que é o z-score e a definição de valor outlier.\n",
    "\n",
    "O tratamento pode ser feito antes, durante ou depois da Análise Exploratória, mas idealmente deve ser feito antes da Engenharia de Atributos. \n",
    "\n",
    "\n",
    "Antes vamos saber o comprimento dos dados com o LEN "
   ]
  },
  {
   "cell_type": "code",
   "execution_count": 17,
   "metadata": {},
   "outputs": [
    {
     "name": "stdout",
     "output_type": "stream",
     "text": [
      "Número de linhas antes de filtrar valores extremos (outliers): 11000\n"
     ]
    }
   ],
   "source": [
    "print(f'Número de linhas antes de filtrar valores extremos (outliers): {len(df)}')"
   ]
  },
  {
   "cell_type": "code",
   "execution_count": 18,
   "metadata": {},
   "outputs": [
    {
     "data": {
      "text/html": [
       "<div>\n",
       "<style scoped>\n",
       "    .dataframe tbody tr th:only-of-type {\n",
       "        vertical-align: middle;\n",
       "    }\n",
       "\n",
       "    .dataframe tbody tr th {\n",
       "        vertical-align: top;\n",
       "    }\n",
       "\n",
       "    .dataframe thead th {\n",
       "        text-align: right;\n",
       "    }\n",
       "</style>\n",
       "<table border=\"1\" class=\"dataframe\">\n",
       "  <thead>\n",
       "    <tr style=\"text-align: right;\">\n",
       "      <th></th>\n",
       "      <th>numero_chamadas_cliente</th>\n",
       "      <th>avaliacao_cliente</th>\n",
       "      <th>compras_anteriores</th>\n",
       "      <th>desconto</th>\n",
       "      <th>custo_produto</th>\n",
       "      <th>peso_gramas</th>\n",
       "    </tr>\n",
       "  </thead>\n",
       "  <tbody>\n",
       "    <tr>\n",
       "      <th>0</th>\n",
       "      <td>4</td>\n",
       "      <td>2</td>\n",
       "      <td>3</td>\n",
       "      <td>44</td>\n",
       "      <td>177</td>\n",
       "      <td>1233</td>\n",
       "    </tr>\n",
       "    <tr>\n",
       "      <th>1</th>\n",
       "      <td>4</td>\n",
       "      <td>5</td>\n",
       "      <td>2</td>\n",
       "      <td>59</td>\n",
       "      <td>216</td>\n",
       "      <td>3088</td>\n",
       "    </tr>\n",
       "    <tr>\n",
       "      <th>2</th>\n",
       "      <td>2</td>\n",
       "      <td>2</td>\n",
       "      <td>4</td>\n",
       "      <td>48</td>\n",
       "      <td>183</td>\n",
       "      <td>3374</td>\n",
       "    </tr>\n",
       "    <tr>\n",
       "      <th>3</th>\n",
       "      <td>3</td>\n",
       "      <td>3</td>\n",
       "      <td>4</td>\n",
       "      <td>10</td>\n",
       "      <td>176</td>\n",
       "      <td>1177</td>\n",
       "    </tr>\n",
       "    <tr>\n",
       "      <th>4</th>\n",
       "      <td>2</td>\n",
       "      <td>2</td>\n",
       "      <td>3</td>\n",
       "      <td>46</td>\n",
       "      <td>184</td>\n",
       "      <td>2484</td>\n",
       "    </tr>\n",
       "  </tbody>\n",
       "</table>\n",
       "</div>"
      ],
      "text/plain": [
       "   numero_chamadas_cliente  avaliacao_cliente  compras_anteriores  desconto  \\\n",
       "0                        4                  2                   3        44   \n",
       "1                        4                  5                   2        59   \n",
       "2                        2                  2                   4        48   \n",
       "3                        3                  3                   4        10   \n",
       "4                        2                  2                   3        46   \n",
       "\n",
       "   custo_produto  peso_gramas  \n",
       "0            177         1233  \n",
       "1            216         3088  \n",
       "2            183         3374  \n",
       "3            176         1177  \n",
       "4            184         2484  "
      ]
     },
     "execution_count": 18,
     "metadata": {},
     "output_type": "execute_result"
    }
   ],
   "source": [
    "df[nums].head()"
   ]
  },
  {
   "cell_type": "code",
   "execution_count": null,
   "metadata": {},
   "outputs": [],
   "source": []
  },
  {
   "cell_type": "markdown",
   "metadata": {},
   "source": [
    "Vamos calcular a média e o desvio padrão. Vamos escolher a coluna desconto. \n"
   ]
  },
  {
   "cell_type": "code",
   "execution_count": 19,
   "metadata": {},
   "outputs": [
    {
     "data": {
      "text/plain": [
       "13.372545454545454"
      ]
     },
     "execution_count": 19,
     "metadata": {},
     "output_type": "execute_result"
    }
   ],
   "source": [
    "df.desconto.mean()"
   ]
  },
  {
   "cell_type": "code",
   "execution_count": 20,
   "metadata": {},
   "outputs": [
    {
     "data": {
      "text/plain": [
       "16.20494287359407"
      ]
     },
     "execution_count": 20,
     "metadata": {},
     "output_type": "execute_result"
    }
   ],
   "source": [
    "df.desconto.std()"
   ]
  },
  {
   "cell_type": "code",
   "execution_count": 21,
   "metadata": {},
   "outputs": [
    {
     "data": {
      "image/png": "[encoded data removed]",
      "text/plain": [
       "<Figure size 432x288 with 1 Axes>"
      ]
     },
     "metadata": {
      "needs_background": "light"
     },
     "output_type": "display_data"
    }
   ],
   "source": [
    "df.desconto.hist();"
   ]
  },
  {
   "cell_type": "markdown",
   "metadata": {},
   "source": [
    "Temos Outliers em nossa base de dados. Analisando o grafico tivemos um desconto abaixo da média. "
   ]
  },
  {
   "cell_type": "code",
   "execution_count": null,
   "metadata": {},
   "outputs": [],
   "source": []
  },
  {
   "cell_type": "code",
   "execution_count": 22,
   "metadata": {},
   "outputs": [
    {
     "name": "stdout",
     "output_type": "stream",
     "text": [
      "Valor superior: 61.987374075327665\n",
      "Valor inferior: -35.24228316623676\n"
     ]
    }
   ],
   "source": [
    "# Calcula os limites superior e inferior\n",
    "# Um valor outlier é aquele que está abaixo do limite inferior ou acima do limite superior\n",
    "limite_superior = df.desconto.mean() + 3 * df.desconto.std()\n",
    "print(\"Valor superior:\", limite_superior)\n",
    "limite_inferior = df.desconto.mean() - 3 * df.desconto.std()\n",
    "print(\"Valor inferior:\", limite_inferior)"
   ]
  },
  {
   "cell_type": "code",
   "execution_count": null,
   "metadata": {},
   "outputs": [],
   "source": []
  },
  {
   "cell_type": "code",
   "execution_count": null,
   "metadata": {},
   "outputs": [],
   "source": []
  },
  {
   "cell_type": "code",
   "execution_count": 23,
   "metadata": {},
   "outputs": [
    {
     "data": {
      "text/html": [
       "<div>\n",
       "<style scoped>\n",
       "    .dataframe tbody tr th:only-of-type {\n",
       "        vertical-align: middle;\n",
       "    }\n",
       "\n",
       "    .dataframe tbody tr th {\n",
       "        vertical-align: top;\n",
       "    }\n",
       "\n",
       "    .dataframe thead th {\n",
       "        text-align: right;\n",
       "    }\n",
       "</style>\n",
       "<table border=\"1\" class=\"dataframe\">\n",
       "  <thead>\n",
       "    <tr style=\"text-align: right;\">\n",
       "      <th></th>\n",
       "      <th>ID</th>\n",
       "      <th>corredor_armazem</th>\n",
       "      <th>modo_envio</th>\n",
       "      <th>numero_chamadas_cliente</th>\n",
       "      <th>avaliacao_cliente</th>\n",
       "      <th>custo_produto</th>\n",
       "      <th>compras_anteriores</th>\n",
       "      <th>prioridade_produto</th>\n",
       "      <th>genero</th>\n",
       "      <th>desconto</th>\n",
       "      <th>peso_gramas</th>\n",
       "      <th>entregue_no_prazo</th>\n",
       "    </tr>\n",
       "  </thead>\n",
       "  <tbody>\n",
       "    <tr>\n",
       "      <th>36</th>\n",
       "      <td>37</td>\n",
       "      <td>D</td>\n",
       "      <td>Navio</td>\n",
       "      <td>3</td>\n",
       "      <td>5</td>\n",
       "      <td>137</td>\n",
       "      <td>4</td>\n",
       "      <td>alta</td>\n",
       "      <td>F</td>\n",
       "      <td>62</td>\n",
       "      <td>1477</td>\n",
       "      <td>1</td>\n",
       "    </tr>\n",
       "    <tr>\n",
       "      <th>60</th>\n",
       "      <td>61</td>\n",
       "      <td>D</td>\n",
       "      <td>Navio</td>\n",
       "      <td>3</td>\n",
       "      <td>1</td>\n",
       "      <td>221</td>\n",
       "      <td>3</td>\n",
       "      <td>baixa</td>\n",
       "      <td>F</td>\n",
       "      <td>64</td>\n",
       "      <td>2794</td>\n",
       "      <td>1</td>\n",
       "    </tr>\n",
       "    <tr>\n",
       "      <th>62</th>\n",
       "      <td>63</td>\n",
       "      <td>A</td>\n",
       "      <td>Navio</td>\n",
       "      <td>5</td>\n",
       "      <td>1</td>\n",
       "      <td>105</td>\n",
       "      <td>6</td>\n",
       "      <td>media</td>\n",
       "      <td>M</td>\n",
       "      <td>62</td>\n",
       "      <td>1292</td>\n",
       "      <td>1</td>\n",
       "    </tr>\n",
       "    <tr>\n",
       "      <th>111</th>\n",
       "      <td>112</td>\n",
       "      <td>B</td>\n",
       "      <td>Caminhao</td>\n",
       "      <td>4</td>\n",
       "      <td>2</td>\n",
       "      <td>239</td>\n",
       "      <td>3</td>\n",
       "      <td>baixa</td>\n",
       "      <td>F</td>\n",
       "      <td>65</td>\n",
       "      <td>3679</td>\n",
       "      <td>1</td>\n",
       "    </tr>\n",
       "    <tr>\n",
       "      <th>122</th>\n",
       "      <td>123</td>\n",
       "      <td>A</td>\n",
       "      <td>Caminhao</td>\n",
       "      <td>4</td>\n",
       "      <td>2</td>\n",
       "      <td>160</td>\n",
       "      <td>3</td>\n",
       "      <td>baixa</td>\n",
       "      <td>M</td>\n",
       "      <td>64</td>\n",
       "      <td>1714</td>\n",
       "      <td>1</td>\n",
       "    </tr>\n",
       "  </tbody>\n",
       "</table>\n",
       "</div>"
      ],
      "text/plain": [
       "      ID corredor_armazem modo_envio  numero_chamadas_cliente  \\\n",
       "36    37                D      Navio                        3   \n",
       "60    61                D      Navio                        3   \n",
       "62    63                A      Navio                        5   \n",
       "111  112                B   Caminhao                        4   \n",
       "122  123                A   Caminhao                        4   \n",
       "\n",
       "     avaliacao_cliente  custo_produto  compras_anteriores prioridade_produto  \\\n",
       "36                   5            137                   4               alta   \n",
       "60                   1            221                   3              baixa   \n",
       "62                   1            105                   6              media   \n",
       "111                  2            239                   3              baixa   \n",
       "122                  2            160                   3              baixa   \n",
       "\n",
       "    genero  desconto  peso_gramas  entregue_no_prazo  \n",
       "36       F        62         1477                  1  \n",
       "60       F        64         2794                  1  \n",
       "62       M        62         1292                  1  \n",
       "111      F        65         3679                  1  \n",
       "122      M        64         1714                  1  "
      ]
     },
     "execution_count": 23,
     "metadata": {},
     "output_type": "execute_result"
    }
   ],
   "source": [
    "# Extra os registros com outliers na coluna desconto\n",
    "# Fatiar utilizando o PANDAS\n",
    "\n",
    "\n",
    "df_outliers_desconto = df[(df.desconto <= limite_inferior) | (df.desconto >= limite_superior)]\n",
    "df_outliers_desconto.head()"
   ]
  },
  {
   "cell_type": "code",
   "execution_count": 24,
   "metadata": {},
   "outputs": [
    {
     "ename": "SyntaxError",
     "evalue": "invalid syntax (<ipython-input-24-0f66bef218c2>, line 1)",
     "output_type": "error",
     "traceback": [
      "\u001b[1;36m  File \u001b[1;32m\"<ipython-input-24-0f66bef218c2>\"\u001b[1;36m, line \u001b[1;32m1\u001b[0m\n\u001b[1;33m    Teve um desconto muito acima da média\u001b[0m\n\u001b[1;37m          ^\u001b[0m\n\u001b[1;31mSyntaxError\u001b[0m\u001b[1;31m:\u001b[0m invalid syntax\n"
     ]
    }
   ],
   "source": [
    "Teve um desconto muito acima da média "
   ]
  },
  {
   "cell_type": "code",
   "execution_count": 25,
   "metadata": {},
   "outputs": [],
   "source": [
    "#Remover todos os OUTLIERS da coluna Desconto.\n",
    "\n",
    "\n",
    "# Filtra o dataframe removendo os registros com outliers na coluna desconto\n",
    "df = df[(df.desconto > limite_inferior) & (df.desconto < limite_superior)]"
   ]
  },
  {
   "cell_type": "code",
   "execution_count": 26,
   "metadata": {},
   "outputs": [
    {
     "name": "stdout",
     "output_type": "stream",
     "text": [
      "Número de linhas antes de filtrar valores extremos (outliers): 10819\n"
     ]
    }
   ],
   "source": [
    "#Mostar a quantidade de linhas sem os Outliers.\n",
    "\n",
    "print(f'Número de linhas antes de filtrar valores extremos (outliers): {len(df)}')"
   ]
  },
  {
   "cell_type": "code",
   "execution_count": null,
   "metadata": {},
   "outputs": [],
   "source": []
  },
  {
   "cell_type": "code",
   "execution_count": null,
   "metadata": {},
   "outputs": [],
   "source": []
  },
  {
   "cell_type": "markdown",
   "metadata": {},
   "source": [
    "CRIAR  UMA FUNÇÃO LOOP PARA TRATAR TODOS OS Outliers.\n",
    "\n"
   ]
  },
  {
   "cell_type": "code",
   "execution_count": 27,
   "metadata": {},
   "outputs": [],
   "source": [
    "\n",
    "\n",
    "registros = np.array([True] * len(df))"
   ]
  },
  {
   "cell_type": "code",
   "execution_count": 28,
   "metadata": {},
   "outputs": [
    {
     "data": {
      "text/plain": [
       "numpy.ndarray"
      ]
     },
     "execution_count": 28,
     "metadata": {},
     "output_type": "execute_result"
    }
   ],
   "source": [
    "type(registros)"
   ]
  },
  {
   "cell_type": "code",
   "execution_count": 29,
   "metadata": {},
   "outputs": [
    {
     "data": {
      "text/plain": [
       "10819"
      ]
     },
     "execution_count": 29,
     "metadata": {},
     "output_type": "execute_result"
    }
   ],
   "source": [
    "np.count_nonzero(registros == True)"
   ]
  },
  {
   "cell_type": "code",
   "execution_count": 30,
   "metadata": {},
   "outputs": [
    {
     "data": {
      "text/plain": [
       "0"
      ]
     },
     "execution_count": 30,
     "metadata": {},
     "output_type": "execute_result"
    }
   ],
   "source": [
    "np.count_nonzero(registros == False)"
   ]
  },
  {
   "cell_type": "code",
   "execution_count": 31,
   "metadata": {},
   "outputs": [],
   "source": [
    "\n",
    "\n",
    "\n",
    "# Variáveis numéricas (sem a variável desconto)\n",
    "nums2 = ['numero_chamadas_cliente', \n",
    "         'avaliacao_cliente', \n",
    "         'compras_anteriores', \n",
    "         'custo_produto', \n",
    "         'peso_gramas']"
   ]
  },
  {
   "cell_type": "code",
   "execution_count": 32,
   "metadata": {
    "colab": {
     "base_uri": "https://localhost:8080/"
    },
    "executionInfo": {
     "elapsed": 391,
     "status": "ok",
     "timestamp": 1649601507694,
     "user": {
      "displayName": "Muhammad Hamzah",
      "userId": "06012328832276120437"
     },
     "user_tz": -420
    },
    "id": "13b607c6-a356-4363-9e7b-90ee8afded0b",
    "outputId": "beead67b-10ef-4600-bac7-333af80fb4f3"
   },
   "outputs": [],
   "source": [
    "# Loop por cada variável numérica\n",
    "for col in nums2:\n",
    "    \n",
    "    # Calcula o z-score absoluto\n",
    "    zscore = abs(stats.zscore(df[col])) \n",
    "    \n",
    "    # Mantém valores com menos de 3 z-score absoluto\n",
    "    registros = (zscore < 3) & registros"
   ]
  },
  {
   "cell_type": "code",
   "execution_count": 33,
   "metadata": {},
   "outputs": [
    {
     "data": {
      "text/plain": [
       "10643"
      ]
     },
     "execution_count": 33,
     "metadata": {},
     "output_type": "execute_result"
    }
   ],
   "source": [
    "np.count_nonzero(registros == True)\n",
    "\n",
    "\n",
    "#Sobrou 10643 linhas, tiramos os outliers"
   ]
  },
  {
   "cell_type": "code",
   "execution_count": 34,
   "metadata": {},
   "outputs": [
    {
     "data": {
      "text/plain": [
       "176"
      ]
     },
     "execution_count": 34,
     "metadata": {},
     "output_type": "execute_result"
    }
   ],
   "source": [
    "np.count_nonzero(registros == False)"
   ]
  },
  {
   "cell_type": "code",
   "execution_count": 35,
   "metadata": {},
   "outputs": [],
   "source": [
    "# Removemos registros com o z-score abaixo de 3 nas colunas numéricas\n",
    "#Filtrando o registro\n",
    "\n",
    "df = df[registros] "
   ]
  },
  {
   "cell_type": "code",
   "execution_count": 36,
   "metadata": {},
   "outputs": [
    {
     "name": "stdout",
     "output_type": "stream",
     "text": [
      "Número de linhas após filtrar valores extremos (outliers): 10643\n"
     ]
    }
   ],
   "source": [
    "print(f'Número de linhas após filtrar valores extremos (outliers): {len(df)}')"
   ]
  },
  {
   "cell_type": "markdown",
   "metadata": {
    "id": "564a0063-8a1e-484e-9185-b85840f6feec"
   },
   "source": [
    "### Tratamento de Desbalanceamento de Classe\n",
    "\n",
    "Deve ser feito nos dados de treino, após o pré-processamento dos dados."
   ]
  },
  {
   "cell_type": "code",
   "execution_count": 37,
   "metadata": {},
   "outputs": [
    {
     "data": {
      "text/plain": [
       "Index(['ID', 'corredor_armazem', 'modo_envio', 'numero_chamadas_cliente',\n",
       "       'avaliacao_cliente', 'custo_produto', 'compras_anteriores',\n",
       "       'prioridade_produto', 'genero', 'desconto', 'peso_gramas',\n",
       "       'entregue_no_prazo'],\n",
       "      dtype='object')"
      ]
     },
     "execution_count": 37,
     "metadata": {},
     "output_type": "execute_result"
    }
   ],
   "source": [
    "df.columns"
   ]
  },
  {
   "cell_type": "code",
   "execution_count": 38,
   "metadata": {
    "colab": {
     "base_uri": "https://localhost:8080/"
    },
    "executionInfo": {
     "elapsed": 9,
     "status": "ok",
     "timestamp": 1649600790202,
     "user": {
      "displayName": "Gesta Putra Gemilang",
      "userId": "17182360166228029414"
     },
     "user_tz": -420
    },
    "id": "b91b405b-e1b0-42c0-8b9d-d110d5e47d3a",
    "outputId": "a44d54ec-f245-4f22-b37a-15e99f88f3fe"
   },
   "outputs": [
    {
     "data": {
      "text/plain": [
       "1    6282\n",
       "0    4361\n",
       "Name: entregue_no_prazo, dtype: int64"
      ]
     },
     "execution_count": 38,
     "metadata": {},
     "output_type": "execute_result"
    }
   ],
   "source": [
    "df['entregue_no_prazo'].value_counts()"
   ]
  },
  {
   "cell_type": "markdown",
   "metadata": {},
   "source": [
    "------------------------------------------------------------------------------"
   ]
  },
  {
   "cell_type": "markdown",
   "metadata": {
    "id": "4de40fb6-9c8e-4704-b328-9c2d0d09d099"
   },
   "source": [
    "## Engenharia de Atributos"
   ]
  },
  {
   "cell_type": "markdown",
   "metadata": {
    "id": "40d1fc91-742b-411e-a154-6f52a15df395"
   },
   "source": [
    "## Feature Selection \n",
    "\n",
    "Aqui tomamos as decisões sobre quais variáveis serão usadas na Engenharia de Atributos.\n",
    "\n",
    "\n",
    "\n",
    "A  seleção  de  recursos(feature  selection)é  o  processo  de  isolar  os  recursos  mais consistentes,  não  redundantes  e  relevantes  a  serem  usados na  construção  de  ummodelo. Reduzir metodicamente o tamanho dos conjuntos de dados é importante, pois o tamanho e a variedade  dos  conjuntos  de  dados  continuam  a  crescer.  \n",
    "\n",
    "O  principal  objetivo  da  seleção  de recursos é melhorar o desempenho de um modelo preditivo e reduzir o custo computacional da modelagem.A seleção de recursos, um dos principais componentes da engenharia de recursos, é o processo  de  seleção  dos  recursos  mais  importantes  a  serem  inseridos  em  algoritmos  de aprendizado de máquina. Técnicas de seleção de recursos são empregadas para reduzir o número de  variáveis de  entrada,  eliminando  recursos  redundantes  ou  irrelevantes  e  estreitando  o conjunto de recursos para aqueles mais relevantes para o modelo de aprendizado de máquina.\n",
    "\n",
    "Os principais benefícios de realizar a seleção de recursos com antecedência, em vez de deixar o modelo de aprendizado de máquina descobrir quais recursos são mais importantes, incluem:\n",
    "\n",
    "•Modelos mais simples: modelos simples são fáceis de explicar -um modelo muito complexo e inexplicável não é valioso.\n",
    "\n",
    "•Tempos  de  treinamento  mais  curtos:  um  subconjunto  mais  preciso  de  recursos diminui a quantidade de tempo necessária para treinar um modelo.\n",
    "\n",
    "•Redução de variância: aumentaa precisão das estimativas que podem ser obtidas para uma determinada simulação\n",
    "\n",
    "•Evitar a “maldição”da alta dimensionalidade:à medida que a dimensionalidade e o número de recursos aumentam, o volume de espaço aumenta tão rapidamente que os dados disponíveis se tornam limitados. Selecionar e reduzir o número de recursos evita que não tenhamos dados suficientes para o treinamento o modelo.\n",
    "\n",
    "\n",
    "\n",
    "\n",
    "\n",
    "\n",
    "\n",
    "\n",
    "\n",
    "\n",
    "\n",
    "\n"
   ]
  },
  {
   "cell_type": "code",
   "execution_count": 39,
   "metadata": {},
   "outputs": [
    {
     "data": {
      "text/plain": [
       "Index(['ID', 'corredor_armazem', 'modo_envio', 'numero_chamadas_cliente',\n",
       "       'avaliacao_cliente', 'custo_produto', 'compras_anteriores',\n",
       "       'prioridade_produto', 'genero', 'desconto', 'peso_gramas',\n",
       "       'entregue_no_prazo'],\n",
       "      dtype='object')"
      ]
     },
     "execution_count": 39,
     "metadata": {},
     "output_type": "execute_result"
    }
   ],
   "source": [
    "df.columns"
   ]
  },
  {
   "cell_type": "code",
   "execution_count": 40,
   "metadata": {},
   "outputs": [
    {
     "data": {
      "text/html": [
       "<div>\n",
       "<style scoped>\n",
       "    .dataframe tbody tr th:only-of-type {\n",
       "        vertical-align: middle;\n",
       "    }\n",
       "\n",
       "    .dataframe tbody tr th {\n",
       "        vertical-align: top;\n",
       "    }\n",
       "\n",
       "    .dataframe thead th {\n",
       "        text-align: right;\n",
       "    }\n",
       "</style>\n",
       "<table border=\"1\" class=\"dataframe\">\n",
       "  <thead>\n",
       "    <tr style=\"text-align: right;\">\n",
       "      <th></th>\n",
       "      <th>ID</th>\n",
       "      <th>corredor_armazem</th>\n",
       "      <th>modo_envio</th>\n",
       "      <th>numero_chamadas_cliente</th>\n",
       "      <th>avaliacao_cliente</th>\n",
       "      <th>custo_produto</th>\n",
       "      <th>compras_anteriores</th>\n",
       "      <th>prioridade_produto</th>\n",
       "      <th>genero</th>\n",
       "      <th>desconto</th>\n",
       "      <th>peso_gramas</th>\n",
       "      <th>entregue_no_prazo</th>\n",
       "    </tr>\n",
       "  </thead>\n",
       "  <tbody>\n",
       "    <tr>\n",
       "      <th>10560</th>\n",
       "      <td>10561</td>\n",
       "      <td>D</td>\n",
       "      <td>Aviao</td>\n",
       "      <td>3</td>\n",
       "      <td>4</td>\n",
       "      <td>216</td>\n",
       "      <td>3</td>\n",
       "      <td>baixa</td>\n",
       "      <td>F</td>\n",
       "      <td>3</td>\n",
       "      <td>5817</td>\n",
       "      <td>0</td>\n",
       "    </tr>\n",
       "    <tr>\n",
       "      <th>3447</th>\n",
       "      <td>3448</td>\n",
       "      <td>B</td>\n",
       "      <td>Navio</td>\n",
       "      <td>4</td>\n",
       "      <td>2</td>\n",
       "      <td>161</td>\n",
       "      <td>3</td>\n",
       "      <td>baixa</td>\n",
       "      <td>F</td>\n",
       "      <td>4</td>\n",
       "      <td>5947</td>\n",
       "      <td>0</td>\n",
       "    </tr>\n",
       "    <tr>\n",
       "      <th>10190</th>\n",
       "      <td>10191</td>\n",
       "      <td>A</td>\n",
       "      <td>Navio</td>\n",
       "      <td>5</td>\n",
       "      <td>5</td>\n",
       "      <td>235</td>\n",
       "      <td>5</td>\n",
       "      <td>baixa</td>\n",
       "      <td>M</td>\n",
       "      <td>8</td>\n",
       "      <td>1332</td>\n",
       "      <td>1</td>\n",
       "    </tr>\n",
       "    <tr>\n",
       "      <th>299</th>\n",
       "      <td>300</td>\n",
       "      <td>F</td>\n",
       "      <td>Navio</td>\n",
       "      <td>4</td>\n",
       "      <td>3</td>\n",
       "      <td>136</td>\n",
       "      <td>3</td>\n",
       "      <td>media</td>\n",
       "      <td>M</td>\n",
       "      <td>20</td>\n",
       "      <td>1531</td>\n",
       "      <td>1</td>\n",
       "    </tr>\n",
       "    <tr>\n",
       "      <th>4359</th>\n",
       "      <td>4360</td>\n",
       "      <td>B</td>\n",
       "      <td>Caminhao</td>\n",
       "      <td>5</td>\n",
       "      <td>1</td>\n",
       "      <td>236</td>\n",
       "      <td>2</td>\n",
       "      <td>baixa</td>\n",
       "      <td>F</td>\n",
       "      <td>2</td>\n",
       "      <td>4987</td>\n",
       "      <td>1</td>\n",
       "    </tr>\n",
       "  </tbody>\n",
       "</table>\n",
       "</div>"
      ],
      "text/plain": [
       "          ID corredor_armazem modo_envio  numero_chamadas_cliente  \\\n",
       "10560  10561                D      Aviao                        3   \n",
       "3447    3448                B      Navio                        4   \n",
       "10190  10191                A      Navio                        5   \n",
       "299      300                F      Navio                        4   \n",
       "4359    4360                B   Caminhao                        5   \n",
       "\n",
       "       avaliacao_cliente  custo_produto  compras_anteriores  \\\n",
       "10560                  4            216                   3   \n",
       "3447                   2            161                   3   \n",
       "10190                  5            235                   5   \n",
       "299                    3            136                   3   \n",
       "4359                   1            236                   2   \n",
       "\n",
       "      prioridade_produto genero  desconto  peso_gramas  entregue_no_prazo  \n",
       "10560              baixa      F         3         5817                  0  \n",
       "3447               baixa      F         4         5947                  0  \n",
       "10190              baixa      M         8         1332                  1  \n",
       "299                media      M        20         1531                  1  \n",
       "4359               baixa      F         2         4987                  1  "
      ]
     },
     "execution_count": 40,
     "metadata": {},
     "output_type": "execute_result"
    }
   ],
   "source": [
    "df.sample(5)"
   ]
  },
  {
   "cell_type": "code",
   "execution_count": 41,
   "metadata": {
    "colab": {
     "base_uri": "https://localhost:8080/",
     "height": 364
    },
    "executionInfo": {
     "elapsed": 344,
     "status": "ok",
     "timestamp": 1649600810502,
     "user": {
      "displayName": "Gesta Putra Gemilang",
      "userId": "17182360166228029414"
     },
     "user_tz": -420
    },
    "id": "73c655bf-0c0b-4931-a6a4-c7f4ed89982d",
    "outputId": "3968bac7-f785-4f76-e238-6f8011f6e95a"
   },
   "outputs": [
    {
     "data": {
      "text/html": [
       "<div>\n",
       "<style scoped>\n",
       "    .dataframe tbody tr th:only-of-type {\n",
       "        vertical-align: middle;\n",
       "    }\n",
       "\n",
       "    .dataframe tbody tr th {\n",
       "        vertical-align: top;\n",
       "    }\n",
       "\n",
       "    .dataframe thead th {\n",
       "        text-align: right;\n",
       "    }\n",
       "</style>\n",
       "<table border=\"1\" class=\"dataframe\">\n",
       "  <thead>\n",
       "    <tr style=\"text-align: right;\">\n",
       "      <th></th>\n",
       "      <th>ID</th>\n",
       "      <th>numero_chamadas_cliente</th>\n",
       "      <th>avaliacao_cliente</th>\n",
       "      <th>custo_produto</th>\n",
       "      <th>compras_anteriores</th>\n",
       "      <th>desconto</th>\n",
       "      <th>peso_gramas</th>\n",
       "      <th>entregue_no_prazo</th>\n",
       "    </tr>\n",
       "  </thead>\n",
       "  <tbody>\n",
       "    <tr>\n",
       "      <th>ID</th>\n",
       "      <td>1.000000</td>\n",
       "      <td>0.190104</td>\n",
       "      <td>-0.008010</td>\n",
       "      <td>0.197842</td>\n",
       "      <td>0.184451</td>\n",
       "      <td>-0.591557</td>\n",
       "      <td>0.263811</td>\n",
       "      <td>-0.403501</td>\n",
       "    </tr>\n",
       "    <tr>\n",
       "      <th>numero_chamadas_cliente</th>\n",
       "      <td>0.190104</td>\n",
       "      <td>1.000000</td>\n",
       "      <td>0.013398</td>\n",
       "      <td>0.328148</td>\n",
       "      <td>0.246604</td>\n",
       "      <td>-0.132172</td>\n",
       "      <td>-0.285186</td>\n",
       "      <td>-0.066327</td>\n",
       "    </tr>\n",
       "    <tr>\n",
       "      <th>avaliacao_cliente</th>\n",
       "      <td>-0.008010</td>\n",
       "      <td>0.013398</td>\n",
       "      <td>1.000000</td>\n",
       "      <td>0.006332</td>\n",
       "      <td>0.004893</td>\n",
       "      <td>0.000551</td>\n",
       "      <td>-0.004440</td>\n",
       "      <td>0.014809</td>\n",
       "    </tr>\n",
       "    <tr>\n",
       "      <th>custo_produto</th>\n",
       "      <td>0.197842</td>\n",
       "      <td>0.328148</td>\n",
       "      <td>0.006332</td>\n",
       "      <td>1.000000</td>\n",
       "      <td>0.163395</td>\n",
       "      <td>-0.137703</td>\n",
       "      <td>-0.146885</td>\n",
       "      <td>-0.071954</td>\n",
       "    </tr>\n",
       "    <tr>\n",
       "      <th>compras_anteriores</th>\n",
       "      <td>0.184451</td>\n",
       "      <td>0.246604</td>\n",
       "      <td>0.004893</td>\n",
       "      <td>0.163395</td>\n",
       "      <td>1.000000</td>\n",
       "      <td>-0.106093</td>\n",
       "      <td>-0.235066</td>\n",
       "      <td>-0.062599</td>\n",
       "    </tr>\n",
       "    <tr>\n",
       "      <th>desconto</th>\n",
       "      <td>-0.591557</td>\n",
       "      <td>-0.132172</td>\n",
       "      <td>0.000551</td>\n",
       "      <td>-0.137703</td>\n",
       "      <td>-0.106093</td>\n",
       "      <td>1.000000</td>\n",
       "      <td>-0.365062</td>\n",
       "      <td>0.388192</td>\n",
       "    </tr>\n",
       "    <tr>\n",
       "      <th>peso_gramas</th>\n",
       "      <td>0.263811</td>\n",
       "      <td>-0.285186</td>\n",
       "      <td>-0.004440</td>\n",
       "      <td>-0.146885</td>\n",
       "      <td>-0.235066</td>\n",
       "      <td>-0.365062</td>\n",
       "      <td>1.000000</td>\n",
       "      <td>-0.258815</td>\n",
       "    </tr>\n",
       "    <tr>\n",
       "      <th>entregue_no_prazo</th>\n",
       "      <td>-0.403501</td>\n",
       "      <td>-0.066327</td>\n",
       "      <td>0.014809</td>\n",
       "      <td>-0.071954</td>\n",
       "      <td>-0.062599</td>\n",
       "      <td>0.388192</td>\n",
       "      <td>-0.258815</td>\n",
       "      <td>1.000000</td>\n",
       "    </tr>\n",
       "  </tbody>\n",
       "</table>\n",
       "</div>"
      ],
      "text/plain": [
       "                               ID  numero_chamadas_cliente  avaliacao_cliente  \\\n",
       "ID                       1.000000                 0.190104          -0.008010   \n",
       "numero_chamadas_cliente  0.190104                 1.000000           0.013398   \n",
       "avaliacao_cliente       -0.008010                 0.013398           1.000000   \n",
       "custo_produto            0.197842                 0.328148           0.006332   \n",
       "compras_anteriores       0.184451                 0.246604           0.004893   \n",
       "desconto                -0.591557                -0.132172           0.000551   \n",
       "peso_gramas              0.263811                -0.285186          -0.004440   \n",
       "entregue_no_prazo       -0.403501                -0.066327           0.014809   \n",
       "\n",
       "                         custo_produto  compras_anteriores  desconto  \\\n",
       "ID                            0.197842            0.184451 -0.591557   \n",
       "numero_chamadas_cliente       0.328148            0.246604 -0.132172   \n",
       "avaliacao_cliente             0.006332            0.004893  0.000551   \n",
       "custo_produto                 1.000000            0.163395 -0.137703   \n",
       "compras_anteriores            0.163395            1.000000 -0.106093   \n",
       "desconto                     -0.137703           -0.106093  1.000000   \n",
       "peso_gramas                  -0.146885           -0.235066 -0.365062   \n",
       "entregue_no_prazo            -0.071954           -0.062599  0.388192   \n",
       "\n",
       "                         peso_gramas  entregue_no_prazo  \n",
       "ID                          0.263811          -0.403501  \n",
       "numero_chamadas_cliente    -0.285186          -0.066327  \n",
       "avaliacao_cliente          -0.004440           0.014809  \n",
       "custo_produto              -0.146885          -0.071954  \n",
       "compras_anteriores         -0.235066          -0.062599  \n",
       "desconto                   -0.365062           0.388192  \n",
       "peso_gramas                 1.000000          -0.258815  \n",
       "entregue_no_prazo          -0.258815           1.000000  "
      ]
     },
     "execution_count": 41,
     "metadata": {},
     "output_type": "execute_result"
    }
   ],
   "source": [
    "# Correlação\n",
    "df.corr()"
   ]
  },
  {
   "cell_type": "code",
   "execution_count": 42,
   "metadata": {
    "colab": {
     "base_uri": "https://localhost:8080/",
     "height": 583
    },
    "executionInfo": {
     "elapsed": 1942,
     "status": "ok",
     "timestamp": 1649602189041,
     "user": {
      "displayName": "Muhammad Hamzah",
      "userId": "06012328832276120437"
     },
     "user_tz": -420
    },
    "id": "M3_XZxy888Q7",
    "outputId": "77acb944-4aad-4720-cc80-cc71f2ca2718"
   },
   "outputs": [
    {
     "data": {
      "image/png": "[encoded data removed]",
      "text/plain": [
       "<Figure size 720x576 with 2 Axes>"
      ]
     },
     "metadata": {
      "needs_background": "light"
     },
     "output_type": "display_data"
    }
   ],
   "source": [
    "# Mapa de correlação \n",
    "plt.figure(figsize = (10, 8))\n",
    "sns.heatmap(df.corr(), cmap = 'Purples', annot = True, fmt = '.2f');"
   ]
  },
  {
   "cell_type": "markdown",
   "metadata": {
    "id": "19ee8612-bec0-43b1-94d8-de8892788658"
   },
   "source": [
    "**Decisão**: Na figura acima, os recursos que ultrapassaram o limite (+/- 0,05) na correlação com o recurso de destino (entregue_no_prazo) serão escolhidos para serem processados na Engenharia de Atributos, nesse caso: numero_chamadas_cliente, custo_produto, compras_anteriores, desconto e peso_gramas.\n",
    "\n",
    "A variável avaliacao_cliente não parece relevante e não será processada na Engenharia de Atributos. A variável ID será descartada, pois não representa informação útil."
   ]
  },
  {
   "cell_type": "code",
   "execution_count": 43,
   "metadata": {
    "colab": {
     "base_uri": "https://localhost:8080/",
     "height": 357
    },
    "executionInfo": {
     "elapsed": 1529,
     "status": "ok",
     "timestamp": 1649603246718,
     "user": {
      "displayName": "Gesta Putra Gemilang",
      "userId": "17182360166228029414"
     },
     "user_tz": -420
    },
    "id": "2IP6FmC6A6u5",
    "outputId": "0d07705b-ceec-4eb0-d86b-f917ff6fa41c"
   },
   "outputs": [
    {
     "data": {
      "image/png": "[encoded data removed]",
      "text/plain": [
       "<Figure size 1440x576 with 4 Axes>"
      ]
     },
     "metadata": {
      "needs_background": "light"
     },
     "output_type": "display_data"
    }
   ],
   "source": [
    "# Gráfico de barras\n",
    "df_sample = df.sample(1000, random_state = 42)\n",
    "plt.figure(figsize = (20,8))\n",
    "for i in range(0, len(cats)):\n",
    "    plt.subplot(2, 3, i+1)\n",
    "    sns.countplot(x = df_sample[cats[i]], color = 'blue', orient = 'v')\n",
    "    plt.tight_layout()"
   ]
  },
  {
   "cell_type": "markdown",
   "metadata": {
    "id": "Lf7_I-g4Ckxx"
   },
   "source": [
    "**Decisão**: Na figura acima pode-se ver que todas as variáveis categóricas têm uma diferença bastante grande em termos de contagens das classes, exceto a variável de Gênero. Sendo assim, não vamos considerar a variável genero na Engenharia de Atributos."
   ]
  },
  {
   "cell_type": "markdown",
   "metadata": {},
   "source": [
    "**Obs: Como as tarefas a seguir são complexas, demonstraremos apenas como algumas colunas. Fique à vontade para refazer a Engenharia de Atributos usando todas as colunas selecionadas conforme regras definidas acima.**"
   ]
  },
  {
   "cell_type": "markdown",
   "metadata": {},
   "source": [
    "-------------------------------------------------------------------------------"
   ]
  },
  {
   "cell_type": "markdown",
   "metadata": {
    "id": "63d7030e-f55f-4aad-9245-e0ce3609c674"
   },
   "source": [
    "## Feature Extraction \n",
    "\n",
    "Aqui fazemos a extração de novas variáveis a partir da informação contida em outras variáveis.\n",
    "\n",
    "\n",
    "A  extração  de  recursos(feature  extraction)é  um processo  de  redução  de dimensionalidaderealizado dentro da Engenharia de Atributos, no qual um conjunto inicial de dados  brutos  é  dividido  e  reduzido  a  grupos  mais  gerenciáveis.  \n",
    "\n",
    "Então,  quando  você  quiser processar, será mais fácil. A característica mais importante degrandes conjuntos de dados é que eles possuem um grande número de variáveis. \n",
    "\n",
    "Essas variáveis exigem muitos recursos de computação para serem processadas. Portanto, a extração de recursos ajuda a obter o melhor recurso desses conjuntos selecionando e combinando variáveis em recursos, reduzindo efetivamente a quantidade de dadose permitindocompreender os dados por diferentes perspectivas. \n",
    "\n",
    "Esses recursos são fáceis de  processar, eainda  são  capazes  de  descrever  o  conjunto  de  dados  real  com  precisão  e originalidade.\n",
    "\n",
    "Existem diversas maneiras de realizar feature extractione no Estudo de Caso usaremos uma abordagem baseada na compreensão do problema de negócio."
   ]
  },
  {
   "cell_type": "code",
   "execution_count": 44,
   "metadata": {},
   "outputs": [
    {
     "data": {
      "text/plain": [
       "Index(['ID', 'corredor_armazem', 'modo_envio', 'numero_chamadas_cliente',\n",
       "       'avaliacao_cliente', 'custo_produto', 'compras_anteriores',\n",
       "       'prioridade_produto', 'genero', 'desconto', 'peso_gramas',\n",
       "       'entregue_no_prazo'],\n",
       "      dtype='object')"
      ]
     },
     "execution_count": 44,
     "metadata": {},
     "output_type": "execute_result"
    }
   ],
   "source": [
    "df.columns"
   ]
  },
  {
   "cell_type": "code",
   "execution_count": 45,
   "metadata": {},
   "outputs": [
    {
     "data": {
      "text/html": [
       "<div>\n",
       "<style scoped>\n",
       "    .dataframe tbody tr th:only-of-type {\n",
       "        vertical-align: middle;\n",
       "    }\n",
       "\n",
       "    .dataframe tbody tr th {\n",
       "        vertical-align: top;\n",
       "    }\n",
       "\n",
       "    .dataframe thead th {\n",
       "        text-align: right;\n",
       "    }\n",
       "</style>\n",
       "<table border=\"1\" class=\"dataframe\">\n",
       "  <thead>\n",
       "    <tr style=\"text-align: right;\">\n",
       "      <th></th>\n",
       "      <th>ID</th>\n",
       "      <th>corredor_armazem</th>\n",
       "      <th>modo_envio</th>\n",
       "      <th>numero_chamadas_cliente</th>\n",
       "      <th>avaliacao_cliente</th>\n",
       "      <th>custo_produto</th>\n",
       "      <th>compras_anteriores</th>\n",
       "      <th>prioridade_produto</th>\n",
       "      <th>genero</th>\n",
       "      <th>desconto</th>\n",
       "      <th>peso_gramas</th>\n",
       "      <th>entregue_no_prazo</th>\n",
       "    </tr>\n",
       "  </thead>\n",
       "  <tbody>\n",
       "    <tr>\n",
       "      <th>0</th>\n",
       "      <td>1</td>\n",
       "      <td>D</td>\n",
       "      <td>Aviao</td>\n",
       "      <td>4</td>\n",
       "      <td>2</td>\n",
       "      <td>177</td>\n",
       "      <td>3</td>\n",
       "      <td>baixa</td>\n",
       "      <td>F</td>\n",
       "      <td>44</td>\n",
       "      <td>1233</td>\n",
       "      <td>1</td>\n",
       "    </tr>\n",
       "    <tr>\n",
       "      <th>1</th>\n",
       "      <td>2</td>\n",
       "      <td>F</td>\n",
       "      <td>Aviao</td>\n",
       "      <td>4</td>\n",
       "      <td>5</td>\n",
       "      <td>216</td>\n",
       "      <td>2</td>\n",
       "      <td>baixa</td>\n",
       "      <td>M</td>\n",
       "      <td>59</td>\n",
       "      <td>3088</td>\n",
       "      <td>1</td>\n",
       "    </tr>\n",
       "    <tr>\n",
       "      <th>2</th>\n",
       "      <td>3</td>\n",
       "      <td>A</td>\n",
       "      <td>Aviao</td>\n",
       "      <td>2</td>\n",
       "      <td>2</td>\n",
       "      <td>183</td>\n",
       "      <td>4</td>\n",
       "      <td>baixa</td>\n",
       "      <td>M</td>\n",
       "      <td>48</td>\n",
       "      <td>3374</td>\n",
       "      <td>1</td>\n",
       "    </tr>\n",
       "    <tr>\n",
       "      <th>3</th>\n",
       "      <td>4</td>\n",
       "      <td>B</td>\n",
       "      <td>Aviao</td>\n",
       "      <td>3</td>\n",
       "      <td>3</td>\n",
       "      <td>176</td>\n",
       "      <td>4</td>\n",
       "      <td>media</td>\n",
       "      <td>M</td>\n",
       "      <td>10</td>\n",
       "      <td>1177</td>\n",
       "      <td>1</td>\n",
       "    </tr>\n",
       "    <tr>\n",
       "      <th>4</th>\n",
       "      <td>5</td>\n",
       "      <td>C</td>\n",
       "      <td>Aviao</td>\n",
       "      <td>2</td>\n",
       "      <td>2</td>\n",
       "      <td>184</td>\n",
       "      <td>3</td>\n",
       "      <td>media</td>\n",
       "      <td>F</td>\n",
       "      <td>46</td>\n",
       "      <td>2484</td>\n",
       "      <td>1</td>\n",
       "    </tr>\n",
       "  </tbody>\n",
       "</table>\n",
       "</div>"
      ],
      "text/plain": [
       "   ID corredor_armazem modo_envio  numero_chamadas_cliente  avaliacao_cliente  \\\n",
       "0   1                D      Aviao                        4                  2   \n",
       "1   2                F      Aviao                        4                  5   \n",
       "2   3                A      Aviao                        2                  2   \n",
       "3   4                B      Aviao                        3                  3   \n",
       "4   5                C      Aviao                        2                  2   \n",
       "\n",
       "   custo_produto  compras_anteriores prioridade_produto genero  desconto  \\\n",
       "0            177                   3              baixa      F        44   \n",
       "1            216                   2              baixa      M        59   \n",
       "2            183                   4              baixa      M        48   \n",
       "3            176                   4              media      M        10   \n",
       "4            184                   3              media      F        46   \n",
       "\n",
       "   peso_gramas  entregue_no_prazo  \n",
       "0         1233                  1  \n",
       "1         3088                  1  \n",
       "2         3374                  1  \n",
       "3         1177                  1  \n",
       "4         2484                  1  "
      ]
     },
     "execution_count": 45,
     "metadata": {},
     "output_type": "execute_result"
    }
   ],
   "source": [
    "df.head()"
   ]
  },
  {
   "cell_type": "code",
   "execution_count": 46,
   "metadata": {},
   "outputs": [],
   "source": [
    "# Cria uma cópia do dataframe\n",
    "df_eng = df.copy()\n",
    "\n",
    "\n",
    "#é bom criar caso surge algum erro, recomendavel."
   ]
  },
  {
   "cell_type": "code",
   "execution_count": 47,
   "metadata": {},
   "outputs": [
    {
     "data": {
      "text/plain": [
       "(10643, 12)"
      ]
     },
     "execution_count": 47,
     "metadata": {},
     "output_type": "execute_result"
    }
   ],
   "source": [
    "df_eng.shape"
   ]
  },
  {
   "cell_type": "code",
   "execution_count": 70,
   "metadata": {},
   "outputs": [
    {
     "data": {
      "text/plain": [
       "ID                               int64\n",
       "corredor_armazem                object\n",
       "modo_envio                      object\n",
       "numero_chamadas_cliente          int64\n",
       "avaliacao_cliente                int64\n",
       "custo_produto                    int64\n",
       "compras_anteriores               int64\n",
       "prioridade_produto              object\n",
       "genero                          object\n",
       "desconto                         int64\n",
       "peso_gramas                      int64\n",
       "entregue_no_prazo                int64\n",
       "performance_prioridade_envio    object\n",
       "dtype: object"
      ]
     },
     "execution_count": 70,
     "metadata": {},
     "output_type": "execute_result"
    }
   ],
   "source": [
    "df_eng.dtypes"
   ]
  },
  {
   "cell_type": "markdown",
   "metadata": {},
   "source": [
    "### 1- Performance de Envio do Produto Por Prioridade do Produto\n",
    "\n",
    "Todo atraso no envio dos produtos é igual, ou seja, tem a mesma proporção? A prioridade de envio dos produtos gera mais ou menos atrasos?\n",
    "\n",
    "Criaremos uma nova variável que representa a performance do envio do produto com base na seguinte regra de negócio:\n",
    "\n",
    "- Se a prioridade do produto era alta e houve atraso no envio, o atraso é crítico.\n",
    "- Se a prioridade do produto era média e houve atraso no envio, o atraso é problemático.\n",
    "- Se a prioridade do produto era baixa e houve atraso no envio, o atraso é tolerável.\n",
    "- Outra opção significa que o envio foi feito no prazo e não apresenta problema."
   ]
  },
  {
   "cell_type": "code",
   "execution_count": 71,
   "metadata": {},
   "outputs": [
    {
     "data": {
      "text/plain": [
       "baixa    5174\n",
       "media    4587\n",
       "alta      882\n",
       "Name: prioridade_produto, dtype: int64"
      ]
     },
     "execution_count": 71,
     "metadata": {},
     "output_type": "execute_result"
    }
   ],
   "source": [
    "df_eng.prioridade_produto.value_counts()"
   ]
  },
  {
   "cell_type": "code",
   "execution_count": 72,
   "metadata": {},
   "outputs": [],
   "source": [
    "# Criamos a variável e preenchemos com nan\n",
    "df_eng['performance_prioridade_envio'] = np.nan"
   ]
  },
  {
   "cell_type": "code",
   "execution_count": 73,
   "metadata": {},
   "outputs": [],
   "source": [
    "# ATENÇÃO!!!! Apenas para compreender o conceito!!!\n",
    "df_eng['performance_prioridade_envio'] = np.where(\n",
    "    (df_eng['prioridade_produto'] == 'alta') & (df_eng['entregue_no_prazo'] == 0), \"Ruim\", \"Excelente\")"
   ]
  },
  {
   "cell_type": "code",
   "execution_count": 74,
   "metadata": {},
   "outputs": [
    {
     "data": {
      "text/plain": [
       "Excelente    10333\n",
       "Ruim           310\n",
       "Name: performance_prioridade_envio, dtype: int64"
      ]
     },
     "execution_count": 74,
     "metadata": {},
     "output_type": "execute_result"
    }
   ],
   "source": [
    "df_eng['performance_prioridade_envio'].value_counts()"
   ]
  },
  {
   "cell_type": "code",
   "execution_count": 75,
   "metadata": {},
   "outputs": [],
   "source": [
    "# Limpamos todos os valores da variável\n",
    "df_eng['performance_prioridade_envio'] = np.nan"
   ]
  },
  {
   "cell_type": "code",
   "execution_count": 76,
   "metadata": {},
   "outputs": [],
   "source": [
    "# Agora sim a solução!!!\n",
    "df_eng['performance_prioridade_envio'] = np.where(\n",
    "        (df_eng['prioridade_produto'] == 'alta') & (df_eng['entregue_no_prazo'] == 0), \"Atraso Crítico\", \n",
    "    np.where(\n",
    "        (df_eng['prioridade_produto'] == 'media') & (df_eng['entregue_no_prazo'] == 0), \"Atraso Problemático\",\n",
    "    np.where(\n",
    "        (df_eng['prioridade_produto'] == 'baixa') & (df_eng['entregue_no_prazo'] == 0), \"Atraso Tolerável\", \n",
    "    \"Não Houve Atraso\")))"
   ]
  },
  {
   "cell_type": "code",
   "execution_count": 77,
   "metadata": {},
   "outputs": [
    {
     "data": {
      "text/plain": [
       "Não Houve Atraso       6282\n",
       "Atraso Tolerável       2134\n",
       "Atraso Problemático    1917\n",
       "Atraso Crítico          310\n",
       "Name: performance_prioridade_envio, dtype: int64"
      ]
     },
     "execution_count": 77,
     "metadata": {},
     "output_type": "execute_result"
    }
   ],
   "source": [
    "df_eng['performance_prioridade_envio'].value_counts()"
   ]
  },
  {
   "cell_type": "code",
   "execution_count": 78,
   "metadata": {
    "id": "19e3945b-abab-4fb5-bb82-48cf9845cbd2"
   },
   "outputs": [
    {
     "data": {
      "text/html": [
       "<div>\n",
       "<style scoped>\n",
       "    .dataframe tbody tr th:only-of-type {\n",
       "        vertical-align: middle;\n",
       "    }\n",
       "\n",
       "    .dataframe tbody tr th {\n",
       "        vertical-align: top;\n",
       "    }\n",
       "\n",
       "    .dataframe thead th {\n",
       "        text-align: right;\n",
       "    }\n",
       "</style>\n",
       "<table border=\"1\" class=\"dataframe\">\n",
       "  <thead>\n",
       "    <tr style=\"text-align: right;\">\n",
       "      <th></th>\n",
       "      <th>ID</th>\n",
       "      <th>corredor_armazem</th>\n",
       "      <th>modo_envio</th>\n",
       "      <th>numero_chamadas_cliente</th>\n",
       "      <th>avaliacao_cliente</th>\n",
       "      <th>custo_produto</th>\n",
       "      <th>compras_anteriores</th>\n",
       "      <th>prioridade_produto</th>\n",
       "      <th>genero</th>\n",
       "      <th>desconto</th>\n",
       "      <th>peso_gramas</th>\n",
       "      <th>entregue_no_prazo</th>\n",
       "      <th>performance_prioridade_envio</th>\n",
       "    </tr>\n",
       "  </thead>\n",
       "  <tbody>\n",
       "    <tr>\n",
       "      <th>9780</th>\n",
       "      <td>9781</td>\n",
       "      <td>D</td>\n",
       "      <td>Navio</td>\n",
       "      <td>5</td>\n",
       "      <td>3</td>\n",
       "      <td>223</td>\n",
       "      <td>3</td>\n",
       "      <td>baixa</td>\n",
       "      <td>F</td>\n",
       "      <td>2</td>\n",
       "      <td>4671</td>\n",
       "      <td>1</td>\n",
       "      <td>Não Houve Atraso</td>\n",
       "    </tr>\n",
       "    <tr>\n",
       "      <th>6953</th>\n",
       "      <td>6954</td>\n",
       "      <td>F</td>\n",
       "      <td>Navio</td>\n",
       "      <td>3</td>\n",
       "      <td>1</td>\n",
       "      <td>207</td>\n",
       "      <td>2</td>\n",
       "      <td>baixa</td>\n",
       "      <td>F</td>\n",
       "      <td>7</td>\n",
       "      <td>5596</td>\n",
       "      <td>0</td>\n",
       "      <td>Atraso Tolerável</td>\n",
       "    </tr>\n",
       "    <tr>\n",
       "      <th>9552</th>\n",
       "      <td>9553</td>\n",
       "      <td>D</td>\n",
       "      <td>Navio</td>\n",
       "      <td>6</td>\n",
       "      <td>1</td>\n",
       "      <td>276</td>\n",
       "      <td>2</td>\n",
       "      <td>baixa</td>\n",
       "      <td>M</td>\n",
       "      <td>10</td>\n",
       "      <td>5108</td>\n",
       "      <td>0</td>\n",
       "      <td>Atraso Tolerável</td>\n",
       "    </tr>\n",
       "    <tr>\n",
       "      <th>5527</th>\n",
       "      <td>5528</td>\n",
       "      <td>F</td>\n",
       "      <td>Navio</td>\n",
       "      <td>4</td>\n",
       "      <td>2</td>\n",
       "      <td>253</td>\n",
       "      <td>5</td>\n",
       "      <td>baixa</td>\n",
       "      <td>M</td>\n",
       "      <td>5</td>\n",
       "      <td>1812</td>\n",
       "      <td>0</td>\n",
       "      <td>Atraso Tolerável</td>\n",
       "    </tr>\n",
       "    <tr>\n",
       "      <th>9024</th>\n",
       "      <td>9025</td>\n",
       "      <td>D</td>\n",
       "      <td>Caminhao</td>\n",
       "      <td>4</td>\n",
       "      <td>2</td>\n",
       "      <td>253</td>\n",
       "      <td>5</td>\n",
       "      <td>baixa</td>\n",
       "      <td>F</td>\n",
       "      <td>3</td>\n",
       "      <td>4676</td>\n",
       "      <td>1</td>\n",
       "      <td>Não Houve Atraso</td>\n",
       "    </tr>\n",
       "  </tbody>\n",
       "</table>\n",
       "</div>"
      ],
      "text/plain": [
       "        ID corredor_armazem modo_envio  numero_chamadas_cliente  \\\n",
       "9780  9781                D      Navio                        5   \n",
       "6953  6954                F      Navio                        3   \n",
       "9552  9553                D      Navio                        6   \n",
       "5527  5528                F      Navio                        4   \n",
       "9024  9025                D   Caminhao                        4   \n",
       "\n",
       "      avaliacao_cliente  custo_produto  compras_anteriores prioridade_produto  \\\n",
       "9780                  3            223                   3              baixa   \n",
       "6953                  1            207                   2              baixa   \n",
       "9552                  1            276                   2              baixa   \n",
       "5527                  2            253                   5              baixa   \n",
       "9024                  2            253                   5              baixa   \n",
       "\n",
       "     genero  desconto  peso_gramas  entregue_no_prazo  \\\n",
       "9780      F         2         4671                  1   \n",
       "6953      F         7         5596                  0   \n",
       "9552      M        10         5108                  0   \n",
       "5527      M         5         1812                  0   \n",
       "9024      F         3         4676                  1   \n",
       "\n",
       "     performance_prioridade_envio  \n",
       "9780             Não Houve Atraso  \n",
       "6953             Atraso Tolerável  \n",
       "9552             Atraso Tolerável  \n",
       "5527             Atraso Tolerável  \n",
       "9024             Não Houve Atraso  "
      ]
     },
     "execution_count": 78,
     "metadata": {},
     "output_type": "execute_result"
    }
   ],
   "source": [
    "#Foi crianda uma nova variavel.\n",
    "\n",
    "df_eng.sample(5)"
   ]
  },
  {
   "cell_type": "code",
   "execution_count": 79,
   "metadata": {},
   "outputs": [
    {
     "data": {
      "text/html": [
       "<div>\n",
       "<style scoped>\n",
       "    .dataframe tbody tr th:only-of-type {\n",
       "        vertical-align: middle;\n",
       "    }\n",
       "\n",
       "    .dataframe tbody tr th {\n",
       "        vertical-align: top;\n",
       "    }\n",
       "\n",
       "    .dataframe thead tr th {\n",
       "        text-align: left;\n",
       "    }\n",
       "</style>\n",
       "<table border=\"1\" class=\"dataframe\">\n",
       "  <thead>\n",
       "    <tr>\n",
       "      <th></th>\n",
       "      <th>performance_prioridade_envio</th>\n",
       "      <th>entregue_no_prazo</th>\n",
       "      <th>prioridade_produto</th>\n",
       "    </tr>\n",
       "    <tr>\n",
       "      <th></th>\n",
       "      <th></th>\n",
       "      <th></th>\n",
       "      <th>count</th>\n",
       "    </tr>\n",
       "  </thead>\n",
       "  <tbody>\n",
       "    <tr>\n",
       "      <th>0</th>\n",
       "      <td>Atraso Crítico</td>\n",
       "      <td>0</td>\n",
       "      <td>310</td>\n",
       "    </tr>\n",
       "    <tr>\n",
       "      <th>1</th>\n",
       "      <td>Atraso Problemático</td>\n",
       "      <td>0</td>\n",
       "      <td>1917</td>\n",
       "    </tr>\n",
       "    <tr>\n",
       "      <th>2</th>\n",
       "      <td>Atraso Tolerável</td>\n",
       "      <td>0</td>\n",
       "      <td>2134</td>\n",
       "    </tr>\n",
       "    <tr>\n",
       "      <th>3</th>\n",
       "      <td>Não Houve Atraso</td>\n",
       "      <td>1</td>\n",
       "      <td>6282</td>\n",
       "    </tr>\n",
       "  </tbody>\n",
       "</table>\n",
       "</div>"
      ],
      "text/plain": [
       "  performance_prioridade_envio entregue_no_prazo prioridade_produto\n",
       "                                                              count\n",
       "0               Atraso Crítico                 0                310\n",
       "1          Atraso Problemático                 0               1917\n",
       "2             Atraso Tolerável                 0               2134\n",
       "3             Não Houve Atraso                 1               6282"
      ]
     },
     "execution_count": 79,
     "metadata": {},
     "output_type": "execute_result"
    }
   ],
   "source": [
    "# Agrupamos os dados para análise\n",
    "df_report1 = df_eng.groupby(['performance_prioridade_envio', \n",
    "                             'entregue_no_prazo']).agg({'prioridade_produto': ['count']}).reset_index()\n",
    "df_report1.head()"
   ]
  },
  {
   "cell_type": "code",
   "execution_count": 80,
   "metadata": {},
   "outputs": [
    {
     "data": {
      "text/html": [
       "<div>\n",
       "<style scoped>\n",
       "    .dataframe tbody tr th:only-of-type {\n",
       "        vertical-align: middle;\n",
       "    }\n",
       "\n",
       "    .dataframe tbody tr th {\n",
       "        vertical-align: top;\n",
       "    }\n",
       "\n",
       "    .dataframe thead th {\n",
       "        text-align: right;\n",
       "    }\n",
       "</style>\n",
       "<table border=\"1\" class=\"dataframe\">\n",
       "  <thead>\n",
       "    <tr style=\"text-align: right;\">\n",
       "      <th></th>\n",
       "      <th>performance_prioridade_envio</th>\n",
       "      <th>entregue_no_prazo</th>\n",
       "      <th>contagem</th>\n",
       "    </tr>\n",
       "  </thead>\n",
       "  <tbody>\n",
       "    <tr>\n",
       "      <th>0</th>\n",
       "      <td>Atraso Crítico</td>\n",
       "      <td>0</td>\n",
       "      <td>310</td>\n",
       "    </tr>\n",
       "    <tr>\n",
       "      <th>1</th>\n",
       "      <td>Atraso Problemático</td>\n",
       "      <td>0</td>\n",
       "      <td>1917</td>\n",
       "    </tr>\n",
       "    <tr>\n",
       "      <th>2</th>\n",
       "      <td>Atraso Tolerável</td>\n",
       "      <td>0</td>\n",
       "      <td>2134</td>\n",
       "    </tr>\n",
       "    <tr>\n",
       "      <th>3</th>\n",
       "      <td>Não Houve Atraso</td>\n",
       "      <td>1</td>\n",
       "      <td>6282</td>\n",
       "    </tr>\n",
       "  </tbody>\n",
       "</table>\n",
       "</div>"
      ],
      "text/plain": [
       "  performance_prioridade_envio  entregue_no_prazo  contagem\n",
       "0               Atraso Crítico                  0       310\n",
       "1          Atraso Problemático                  0      1917\n",
       "2             Atraso Tolerável                  0      2134\n",
       "3             Não Houve Atraso                  1      6282"
      ]
     },
     "execution_count": 80,
     "metadata": {},
     "output_type": "execute_result"
    }
   ],
   "source": [
    "# Ajustamos os nomes das colunas\n",
    "df_report1.columns = ['performance_prioridade_envio', 'entregue_no_prazo', 'contagem']\n",
    "df_report1.head()"
   ]
  },
  {
   "cell_type": "code",
   "execution_count": 81,
   "metadata": {},
   "outputs": [
    {
     "data": {
      "text/html": [
       "<div>\n",
       "<style scoped>\n",
       "    .dataframe tbody tr th:only-of-type {\n",
       "        vertical-align: middle;\n",
       "    }\n",
       "\n",
       "    .dataframe tbody tr th {\n",
       "        vertical-align: top;\n",
       "    }\n",
       "\n",
       "    .dataframe thead th {\n",
       "        text-align: right;\n",
       "    }\n",
       "</style>\n",
       "<table border=\"1\" class=\"dataframe\">\n",
       "  <thead>\n",
       "    <tr style=\"text-align: right;\">\n",
       "      <th>entregue_no_prazo</th>\n",
       "      <th>performance_prioridade_envio</th>\n",
       "      <th>0</th>\n",
       "      <th>1</th>\n",
       "    </tr>\n",
       "  </thead>\n",
       "  <tbody>\n",
       "    <tr>\n",
       "      <th>0</th>\n",
       "      <td>Atraso Crítico</td>\n",
       "      <td>310.0</td>\n",
       "      <td>NaN</td>\n",
       "    </tr>\n",
       "    <tr>\n",
       "      <th>1</th>\n",
       "      <td>Atraso Problemático</td>\n",
       "      <td>1917.0</td>\n",
       "      <td>NaN</td>\n",
       "    </tr>\n",
       "    <tr>\n",
       "      <th>2</th>\n",
       "      <td>Atraso Tolerável</td>\n",
       "      <td>2134.0</td>\n",
       "      <td>NaN</td>\n",
       "    </tr>\n",
       "    <tr>\n",
       "      <th>3</th>\n",
       "      <td>Não Houve Atraso</td>\n",
       "      <td>NaN</td>\n",
       "      <td>6282.0</td>\n",
       "    </tr>\n",
       "  </tbody>\n",
       "</table>\n",
       "</div>"
      ],
      "text/plain": [
       "entregue_no_prazo performance_prioridade_envio       0       1\n",
       "0                               Atraso Crítico   310.0     NaN\n",
       "1                          Atraso Problemático  1917.0     NaN\n",
       "2                             Atraso Tolerável  2134.0     NaN\n",
       "3                             Não Houve Atraso     NaN  6282.0"
      ]
     },
     "execution_count": 81,
     "metadata": {},
     "output_type": "execute_result"
    }
   ],
   "source": [
    "# Pivot(transformar linhas em colunas ou colunas em linhas)\n",
    "df_report1 = pd.pivot_table(df_report1,\n",
    "                             index = 'performance_prioridade_envio',\n",
    "                             columns = 'entregue_no_prazo',\n",
    "                             values = 'contagem').reset_index()\n",
    "df_report1.head()"
   ]
  },
  {
   "cell_type": "code",
   "execution_count": 82,
   "metadata": {},
   "outputs": [
    {
     "data": {
      "text/html": [
       "<div>\n",
       "<style scoped>\n",
       "    .dataframe tbody tr th:only-of-type {\n",
       "        vertical-align: middle;\n",
       "    }\n",
       "\n",
       "    .dataframe tbody tr th {\n",
       "        vertical-align: top;\n",
       "    }\n",
       "\n",
       "    .dataframe thead th {\n",
       "        text-align: right;\n",
       "    }\n",
       "</style>\n",
       "<table border=\"1\" class=\"dataframe\">\n",
       "  <thead>\n",
       "    <tr style=\"text-align: right;\">\n",
       "      <th></th>\n",
       "      <th>Status do Envio</th>\n",
       "      <th>Total Atraso</th>\n",
       "      <th>Total no Prazo</th>\n",
       "    </tr>\n",
       "  </thead>\n",
       "  <tbody>\n",
       "    <tr>\n",
       "      <th>0</th>\n",
       "      <td>Atraso Crítico</td>\n",
       "      <td>310.0</td>\n",
       "      <td>NaN</td>\n",
       "    </tr>\n",
       "    <tr>\n",
       "      <th>1</th>\n",
       "      <td>Atraso Problemático</td>\n",
       "      <td>1917.0</td>\n",
       "      <td>NaN</td>\n",
       "    </tr>\n",
       "    <tr>\n",
       "      <th>2</th>\n",
       "      <td>Atraso Tolerável</td>\n",
       "      <td>2134.0</td>\n",
       "      <td>NaN</td>\n",
       "    </tr>\n",
       "    <tr>\n",
       "      <th>3</th>\n",
       "      <td>Não Houve Atraso</td>\n",
       "      <td>NaN</td>\n",
       "      <td>6282.0</td>\n",
       "    </tr>\n",
       "  </tbody>\n",
       "</table>\n",
       "</div>"
      ],
      "text/plain": [
       "       Status do Envio  Total Atraso  Total no Prazo\n",
       "0       Atraso Crítico         310.0             NaN\n",
       "1  Atraso Problemático        1917.0             NaN\n",
       "2     Atraso Tolerável        2134.0             NaN\n",
       "3     Não Houve Atraso           NaN          6282.0"
      ]
     },
     "execution_count": 82,
     "metadata": {},
     "output_type": "execute_result"
    }
   ],
   "source": [
    "# Novo ajuste nos nomes das colunas\n",
    "df_report1.columns = ['Status do Envio', 'Total Atraso', 'Total no Prazo']\n",
    "df_report1.head()"
   ]
  },
  {
   "cell_type": "code",
   "execution_count": 83,
   "metadata": {},
   "outputs": [
    {
     "data": {
      "text/html": [
       "<div>\n",
       "<style scoped>\n",
       "    .dataframe tbody tr th:only-of-type {\n",
       "        vertical-align: middle;\n",
       "    }\n",
       "\n",
       "    .dataframe tbody tr th {\n",
       "        vertical-align: top;\n",
       "    }\n",
       "\n",
       "    .dataframe thead th {\n",
       "        text-align: right;\n",
       "    }\n",
       "</style>\n",
       "<table border=\"1\" class=\"dataframe\">\n",
       "  <thead>\n",
       "    <tr style=\"text-align: right;\">\n",
       "      <th></th>\n",
       "      <th>Status do Envio</th>\n",
       "      <th>Total Atraso</th>\n",
       "      <th>Total no Prazo</th>\n",
       "    </tr>\n",
       "  </thead>\n",
       "  <tbody>\n",
       "    <tr>\n",
       "      <th>0</th>\n",
       "      <td>Atraso Crítico</td>\n",
       "      <td>310.0</td>\n",
       "      <td>0.0</td>\n",
       "    </tr>\n",
       "    <tr>\n",
       "      <th>1</th>\n",
       "      <td>Atraso Problemático</td>\n",
       "      <td>1917.0</td>\n",
       "      <td>0.0</td>\n",
       "    </tr>\n",
       "    <tr>\n",
       "      <th>2</th>\n",
       "      <td>Atraso Tolerável</td>\n",
       "      <td>2134.0</td>\n",
       "      <td>0.0</td>\n",
       "    </tr>\n",
       "    <tr>\n",
       "      <th>3</th>\n",
       "      <td>Não Houve Atraso</td>\n",
       "      <td>0.0</td>\n",
       "      <td>6282.0</td>\n",
       "    </tr>\n",
       "  </tbody>\n",
       "</table>\n",
       "</div>"
      ],
      "text/plain": [
       "       Status do Envio  Total Atraso  Total no Prazo\n",
       "0       Atraso Crítico         310.0             0.0\n",
       "1  Atraso Problemático        1917.0             0.0\n",
       "2     Atraso Tolerável        2134.0             0.0\n",
       "3     Não Houve Atraso           0.0          6282.0"
      ]
     },
     "execution_count": 83,
     "metadata": {},
     "output_type": "execute_result"
    }
   ],
   "source": [
    "# Replace do valor nan por zero(colocar o número 0 nos NANs)\n",
    "df_report1['Total Atraso'] = df_report1['Total Atraso'].replace(np.nan, 0)\n",
    "df_report1['Total no Prazo'] = df_report1['Total no Prazo'].replace(np.nan, 0)\n",
    "df_report1.head()"
   ]
  },
  {
   "cell_type": "code",
   "execution_count": 84,
   "metadata": {},
   "outputs": [
    {
     "data": {
      "text/html": [
       "<div>\n",
       "<style scoped>\n",
       "    .dataframe tbody tr th:only-of-type {\n",
       "        vertical-align: middle;\n",
       "    }\n",
       "\n",
       "    .dataframe tbody tr th {\n",
       "        vertical-align: top;\n",
       "    }\n",
       "\n",
       "    .dataframe thead th {\n",
       "        text-align: right;\n",
       "    }\n",
       "</style>\n",
       "<table border=\"1\" class=\"dataframe\">\n",
       "  <thead>\n",
       "    <tr style=\"text-align: right;\">\n",
       "      <th></th>\n",
       "      <th>Status do Envio</th>\n",
       "      <th>Total Atraso</th>\n",
       "      <th>Total no Prazo</th>\n",
       "      <th>Total</th>\n",
       "    </tr>\n",
       "  </thead>\n",
       "  <tbody>\n",
       "    <tr>\n",
       "      <th>0</th>\n",
       "      <td>Atraso Crítico</td>\n",
       "      <td>310.0</td>\n",
       "      <td>0.0</td>\n",
       "      <td>310.0</td>\n",
       "    </tr>\n",
       "    <tr>\n",
       "      <th>1</th>\n",
       "      <td>Atraso Problemático</td>\n",
       "      <td>1917.0</td>\n",
       "      <td>0.0</td>\n",
       "      <td>1917.0</td>\n",
       "    </tr>\n",
       "    <tr>\n",
       "      <th>2</th>\n",
       "      <td>Atraso Tolerável</td>\n",
       "      <td>2134.0</td>\n",
       "      <td>0.0</td>\n",
       "      <td>2134.0</td>\n",
       "    </tr>\n",
       "    <tr>\n",
       "      <th>3</th>\n",
       "      <td>Não Houve Atraso</td>\n",
       "      <td>0.0</td>\n",
       "      <td>6282.0</td>\n",
       "      <td>6282.0</td>\n",
       "    </tr>\n",
       "  </tbody>\n",
       "</table>\n",
       "</div>"
      ],
      "text/plain": [
       "       Status do Envio  Total Atraso  Total no Prazo   Total\n",
       "0       Atraso Crítico         310.0             0.0   310.0\n",
       "1  Atraso Problemático        1917.0             0.0  1917.0\n",
       "2     Atraso Tolerável        2134.0             0.0  2134.0\n",
       "3     Não Houve Atraso           0.0          6282.0  6282.0"
      ]
     },
     "execution_count": 84,
     "metadata": {},
     "output_type": "execute_result"
    }
   ],
   "source": [
    "# Concatena colunas criando uma terceira variável\n",
    "df_report1[\"Total\"] = df_report1[\"Total Atraso\"] + df_report1[\"Total no Prazo\"]\n",
    "df_report1.head()"
   ]
  },
  {
   "cell_type": "code",
   "execution_count": 85,
   "metadata": {},
   "outputs": [
    {
     "data": {
      "text/html": [
       "<div>\n",
       "<style scoped>\n",
       "    .dataframe tbody tr th:only-of-type {\n",
       "        vertical-align: middle;\n",
       "    }\n",
       "\n",
       "    .dataframe tbody tr th {\n",
       "        vertical-align: top;\n",
       "    }\n",
       "\n",
       "    .dataframe thead th {\n",
       "        text-align: right;\n",
       "    }\n",
       "</style>\n",
       "<table border=\"1\" class=\"dataframe\">\n",
       "  <thead>\n",
       "    <tr style=\"text-align: right;\">\n",
       "      <th></th>\n",
       "      <th>Status do Envio</th>\n",
       "      <th>Total</th>\n",
       "    </tr>\n",
       "  </thead>\n",
       "  <tbody>\n",
       "    <tr>\n",
       "      <th>0</th>\n",
       "      <td>Atraso Crítico</td>\n",
       "      <td>310.0</td>\n",
       "    </tr>\n",
       "    <tr>\n",
       "      <th>1</th>\n",
       "      <td>Atraso Problemático</td>\n",
       "      <td>1917.0</td>\n",
       "    </tr>\n",
       "    <tr>\n",
       "      <th>2</th>\n",
       "      <td>Atraso Tolerável</td>\n",
       "      <td>2134.0</td>\n",
       "    </tr>\n",
       "    <tr>\n",
       "      <th>3</th>\n",
       "      <td>Não Houve Atraso</td>\n",
       "      <td>6282.0</td>\n",
       "    </tr>\n",
       "  </tbody>\n",
       "</table>\n",
       "</div>"
      ],
      "text/plain": [
       "       Status do Envio   Total\n",
       "0       Atraso Crítico   310.0\n",
       "1  Atraso Problemático  1917.0\n",
       "2     Atraso Tolerável  2134.0\n",
       "3     Não Houve Atraso  6282.0"
      ]
     },
     "execution_count": 85,
     "metadata": {},
     "output_type": "execute_result"
    }
   ],
   "source": [
    "# Não precisamos mais das colunas usadas na concatenação. Vamos removê-las.\n",
    "df_report1.drop(df_report1.columns[[1, 2]], axis = 1, inplace = True)\n",
    "df_report1.head()"
   ]
  },
  {
   "cell_type": "code",
   "execution_count": 86,
   "metadata": {
    "colab": {
     "base_uri": "https://localhost:8080/",
     "height": 569
    },
    "executionInfo": {
     "elapsed": 14,
     "status": "ok",
     "timestamp": 1649555836724,
     "user": {
      "displayName": "Fajar Ariev",
      "userId": "18314973382710209713"
     },
     "user_tz": -420
    },
    "id": "DxrsPztLHnlY",
    "outputId": "18c69a2d-af48-4610-fb92-c2dc47df3589"
   },
   "outputs": [
    {
     "data": {
      "image/png": "[encoded data removed]",
      "text/plain": [
       "<Figure size 864x576 with 1 Axes>"
      ]
     },
     "metadata": {
      "needs_background": "light"
     },
     "output_type": "display_data"
    }
   ],
   "source": [
    "# Plot\n",
    "df_report1.set_index(\"Status do Envio\").plot(kind = 'bar', \n",
    "                title = 'Total de Envios dos Produtos Por Status',\n",
    "                ylabel = 'Total', \n",
    "                xlabel = '\\nStatus do Envio',\n",
    "                colormap = 'jet',\n",
    "                figsize=(12,8))\n",
    "plt.xticks(rotation = 0)\n",
    "plt.show()"
   ]
  },
  {
   "cell_type": "markdown",
   "metadata": {},
   "source": [
    "### 2- Performance de Envio do Produto Por Prioridade de Envio e Modo de Envio\n",
    "\n",
    "O modo de envio dos produtos associado à proridade de envio dos produtos, tem impacto no atraso dos produtos?\n",
    "\n",
    "Criaremos uma nova variável que representa a performance do envio do produto com base na seguinte regra de negócio:\n",
    "\n",
    "- Se a prioridade do produto era alta, o modo de envio era Navio e houve atraso no envio, o atraso é crítico por Navio.\n",
    "- Se a prioridade do produto era média, o modo de envio era Navio e houve atraso no envio, o atraso é problemático por Navio.\n",
    "- Se a prioridade do produto era baixa, o modo de envio era Navio e houve atraso no envio, o atraso é tolerável por Navio.\n",
    "- Se a prioridade do produto era alta, o modo de envio era Aviao e houve atraso no envio, o atraso é crítico por Aviao.\n",
    "- Se a prioridade do produto era média, o modo de envio era Aviao e houve atraso no envio, o atraso é problemático por Aviao.\n",
    "- Se a prioridade do produto era baixa, o modo de envio era Aviao e houve atraso no envio, o atraso é tolerável por Aviao.\n",
    "- Se a prioridade do produto era alta, o modo de envio era Caminhao e houve atraso no envio, o atraso é crítico por Caminhao.\n",
    "- Se a prioridade do produto era média, o modo de envio era Caminhao e houve atraso no envio, o atraso é problemático por Caminhao.\n",
    "- Se a prioridade do produto era baixa, o modo de envio era Caminhao e houve atraso no envio, o atraso é tolerável por Caminhao.\n",
    "- Outra opção significa que o envio foi feito no prazo e não apresenta problema."
   ]
  },
  {
   "cell_type": "code",
   "execution_count": 87,
   "metadata": {},
   "outputs": [
    {
     "data": {
      "text/plain": [
       "Index(['ID', 'corredor_armazem', 'modo_envio', 'numero_chamadas_cliente',\n",
       "       'avaliacao_cliente', 'custo_produto', 'compras_anteriores',\n",
       "       'prioridade_produto', 'genero', 'desconto', 'peso_gramas',\n",
       "       'entregue_no_prazo', 'performance_prioridade_envio'],\n",
       "      dtype='object')"
      ]
     },
     "execution_count": 87,
     "metadata": {},
     "output_type": "execute_result"
    }
   ],
   "source": [
    "df_eng.columns"
   ]
  },
  {
   "cell_type": "code",
   "execution_count": 88,
   "metadata": {},
   "outputs": [
    {
     "data": {
      "text/plain": [
       "Navio       7212\n",
       "Aviao       1728\n",
       "Caminhao    1703\n",
       "Name: modo_envio, dtype: int64"
      ]
     },
     "execution_count": 88,
     "metadata": {},
     "output_type": "execute_result"
    }
   ],
   "source": [
    "df_eng.modo_envio.value_counts()"
   ]
  },
  {
   "cell_type": "code",
   "execution_count": 90,
   "metadata": {},
   "outputs": [],
   "source": [
    "# Solução\n",
    "df_eng['performance_modo_envio'] = np.where(\n",
    "        (df_eng['prioridade_produto'] == 'alta') & (df_eng['modo_envio'] == 'Navio') & (df_eng['entregue_no_prazo'] == 0), \"Atraso Crítico na Entrega Por Navio\", \n",
    "    np.where(\n",
    "        (df_eng['prioridade_produto'] == 'media') & (df_eng['modo_envio'] == 'Navio') & (df_eng['entregue_no_prazo'] == 0), \"Atraso Problemático na Entrega Por Navio\",\n",
    "    np.where(\n",
    "        (df_eng['prioridade_produto'] == 'baixa') & (df_eng['modo_envio'] == 'Navio') & (df_eng['entregue_no_prazo'] == 0), \"Atraso Tolerável na Entrega Por Navio\", \n",
    "    np.where(\n",
    "        (df_eng['prioridade_produto'] == 'alta') & (df_eng['modo_envio'] == 'Aviao') & (df_eng['entregue_no_prazo'] == 0), \"Atraso Crítico na Entrega Por Aviao\", \n",
    "    np.where(\n",
    "        (df_eng['prioridade_produto'] == 'media') & (df_eng['modo_envio'] == 'Aviao') & (df_eng['entregue_no_prazo'] == 0), \"Atraso Problemático na Entrega Por Aviao\",\n",
    "    np.where(\n",
    "        (df_eng['prioridade_produto'] == 'baixa') & (df_eng['modo_envio'] == 'Aviao') & (df_eng['entregue_no_prazo'] == 0), \"Atraso Tolerável na Entrega Por Aviao\", \n",
    "    np.where(\n",
    "        (df_eng['prioridade_produto'] == 'alta') & (df_eng['modo_envio'] == 'Caminhao') & (df_eng['entregue_no_prazo'] == 0), \"Atraso Crítico na Entrega Por Caminhao\", \n",
    "    np.where(\n",
    "        (df_eng['prioridade_produto'] == 'media') & (df_eng['modo_envio'] == 'Caminhao') & (df_eng['entregue_no_prazo'] == 0), \"Atraso Problemático na Entrega Por Caminhao\",\n",
    "    np.where(\n",
    "        (df_eng['prioridade_produto'] == 'baixa') & (df_eng['modo_envio'] == 'Caminhao') & (df_eng['entregue_no_prazo'] == 0), \"Atraso Tolerável na Entrega Por Caminhao\", \n",
    "    \"Não Houve Atraso\")))))))))"
   ]
  },
  {
   "cell_type": "code",
   "execution_count": 70,
   "metadata": {},
   "outputs": [
    {
     "data": {
      "text/html": [
       "<div>\n",
       "<style scoped>\n",
       "    .dataframe tbody tr th:only-of-type {\n",
       "        vertical-align: middle;\n",
       "    }\n",
       "\n",
       "    .dataframe tbody tr th {\n",
       "        vertical-align: top;\n",
       "    }\n",
       "\n",
       "    .dataframe thead th {\n",
       "        text-align: right;\n",
       "    }\n",
       "</style>\n",
       "<table border=\"1\" class=\"dataframe\">\n",
       "  <thead>\n",
       "    <tr style=\"text-align: right;\">\n",
       "      <th></th>\n",
       "      <th>ID</th>\n",
       "      <th>corredor_armazem</th>\n",
       "      <th>modo_envio</th>\n",
       "      <th>numero_chamadas_cliente</th>\n",
       "      <th>avaliacao_cliente</th>\n",
       "      <th>custo_produto</th>\n",
       "      <th>compras_anteriores</th>\n",
       "      <th>prioridade_produto</th>\n",
       "      <th>genero</th>\n",
       "      <th>desconto</th>\n",
       "      <th>peso_gramas</th>\n",
       "      <th>entregue_no_prazo</th>\n",
       "      <th>performance_prioridade_envio</th>\n",
       "      <th>performance_modo_envio</th>\n",
       "    </tr>\n",
       "  </thead>\n",
       "  <tbody>\n",
       "    <tr>\n",
       "      <th>204</th>\n",
       "      <td>205</td>\n",
       "      <td>D</td>\n",
       "      <td>Navio</td>\n",
       "      <td>2</td>\n",
       "      <td>5</td>\n",
       "      <td>155</td>\n",
       "      <td>3</td>\n",
       "      <td>baixa</td>\n",
       "      <td>M</td>\n",
       "      <td>23</td>\n",
       "      <td>1602</td>\n",
       "      <td>1</td>\n",
       "      <td>Não Houve Atraso</td>\n",
       "      <td>Não Houve Atraso</td>\n",
       "    </tr>\n",
       "    <tr>\n",
       "      <th>868</th>\n",
       "      <td>869</td>\n",
       "      <td>C</td>\n",
       "      <td>Navio</td>\n",
       "      <td>3</td>\n",
       "      <td>1</td>\n",
       "      <td>218</td>\n",
       "      <td>3</td>\n",
       "      <td>baixa</td>\n",
       "      <td>M</td>\n",
       "      <td>4</td>\n",
       "      <td>2304</td>\n",
       "      <td>1</td>\n",
       "      <td>Não Houve Atraso</td>\n",
       "      <td>Não Houve Atraso</td>\n",
       "    </tr>\n",
       "    <tr>\n",
       "      <th>1454</th>\n",
       "      <td>1455</td>\n",
       "      <td>A</td>\n",
       "      <td>Navio</td>\n",
       "      <td>3</td>\n",
       "      <td>5</td>\n",
       "      <td>230</td>\n",
       "      <td>2</td>\n",
       "      <td>baixa</td>\n",
       "      <td>M</td>\n",
       "      <td>27</td>\n",
       "      <td>3840</td>\n",
       "      <td>1</td>\n",
       "      <td>Não Houve Atraso</td>\n",
       "      <td>Não Houve Atraso</td>\n",
       "    </tr>\n",
       "    <tr>\n",
       "      <th>5138</th>\n",
       "      <td>5139</td>\n",
       "      <td>A</td>\n",
       "      <td>Navio</td>\n",
       "      <td>4</td>\n",
       "      <td>2</td>\n",
       "      <td>136</td>\n",
       "      <td>2</td>\n",
       "      <td>media</td>\n",
       "      <td>F</td>\n",
       "      <td>7</td>\n",
       "      <td>4305</td>\n",
       "      <td>1</td>\n",
       "      <td>Não Houve Atraso</td>\n",
       "      <td>Não Houve Atraso</td>\n",
       "    </tr>\n",
       "    <tr>\n",
       "      <th>6323</th>\n",
       "      <td>6324</td>\n",
       "      <td>F</td>\n",
       "      <td>Navio</td>\n",
       "      <td>3</td>\n",
       "      <td>1</td>\n",
       "      <td>233</td>\n",
       "      <td>3</td>\n",
       "      <td>baixa</td>\n",
       "      <td>F</td>\n",
       "      <td>7</td>\n",
       "      <td>4874</td>\n",
       "      <td>0</td>\n",
       "      <td>Atraso Tolerável</td>\n",
       "      <td>Atraso Tolerável na Entrega Por Navio</td>\n",
       "    </tr>\n",
       "  </tbody>\n",
       "</table>\n",
       "</div>"
      ],
      "text/plain": [
       "        ID corredor_armazem modo_envio  numero_chamadas_cliente  \\\n",
       "204    205                D      Navio                        2   \n",
       "868    869                C      Navio                        3   \n",
       "1454  1455                A      Navio                        3   \n",
       "5138  5139                A      Navio                        4   \n",
       "6323  6324                F      Navio                        3   \n",
       "\n",
       "      avaliacao_cliente  custo_produto  compras_anteriores prioridade_produto  \\\n",
       "204                   5            155                   3              baixa   \n",
       "868                   1            218                   3              baixa   \n",
       "1454                  5            230                   2              baixa   \n",
       "5138                  2            136                   2              media   \n",
       "6323                  1            233                   3              baixa   \n",
       "\n",
       "     genero  desconto  peso_gramas  entregue_no_prazo  \\\n",
       "204       M        23         1602                  1   \n",
       "868       M         4         2304                  1   \n",
       "1454      M        27         3840                  1   \n",
       "5138      F         7         4305                  1   \n",
       "6323      F         7         4874                  0   \n",
       "\n",
       "     performance_prioridade_envio                 performance_modo_envio  \n",
       "204              Não Houve Atraso                       Não Houve Atraso  \n",
       "868              Não Houve Atraso                       Não Houve Atraso  \n",
       "1454             Não Houve Atraso                       Não Houve Atraso  \n",
       "5138             Não Houve Atraso                       Não Houve Atraso  \n",
       "6323             Atraso Tolerável  Atraso Tolerável na Entrega Por Navio  "
      ]
     },
     "execution_count": 70,
     "metadata": {},
     "output_type": "execute_result"
    }
   ],
   "source": [
    "df_eng.sample(5)"
   ]
  },
  {
   "cell_type": "code",
   "execution_count": 92,
   "metadata": {},
   "outputs": [
    {
     "data": {
      "text/plain": [
       "Não Houve Atraso                               6282\n",
       "Atraso Tolerável na Entrega Por Navio          1453\n",
       "Atraso Problemático na Entrega Por Navio       1307\n",
       "Atraso Tolerável na Entrega Por Caminhao        350\n",
       "Atraso Tolerável na Entrega Por Aviao           331\n",
       "Atraso Problemático na Entrega Por Caminhao     310\n",
       "Atraso Problemático na Entrega Por Aviao        300\n",
       "Atraso Crítico na Entrega Por Navio             194\n",
       "Atraso Crítico na Entrega Por Aviao              65\n",
       "Atraso Crítico na Entrega Por Caminhao           51\n",
       "Name: performance_modo_envio, dtype: int64"
      ]
     },
     "execution_count": 92,
     "metadata": {},
     "output_type": "execute_result"
    }
   ],
   "source": [
    "df_eng.performance_modo_envio.value_counts()"
   ]
  },
  {
   "cell_type": "code",
   "execution_count": 93,
   "metadata": {},
   "outputs": [
    {
     "data": {
      "text/html": [
       "<div>\n",
       "<style scoped>\n",
       "    .dataframe tbody tr th:only-of-type {\n",
       "        vertical-align: middle;\n",
       "    }\n",
       "\n",
       "    .dataframe tbody tr th {\n",
       "        vertical-align: top;\n",
       "    }\n",
       "\n",
       "    .dataframe thead tr th {\n",
       "        text-align: left;\n",
       "    }\n",
       "</style>\n",
       "<table border=\"1\" class=\"dataframe\">\n",
       "  <thead>\n",
       "    <tr>\n",
       "      <th></th>\n",
       "      <th>performance_modo_envio</th>\n",
       "      <th>entregue_no_prazo</th>\n",
       "      <th>prioridade_produto</th>\n",
       "    </tr>\n",
       "    <tr>\n",
       "      <th></th>\n",
       "      <th></th>\n",
       "      <th></th>\n",
       "      <th>count</th>\n",
       "    </tr>\n",
       "  </thead>\n",
       "  <tbody>\n",
       "    <tr>\n",
       "      <th>0</th>\n",
       "      <td>Atraso Crítico na Entrega Por Aviao</td>\n",
       "      <td>0</td>\n",
       "      <td>65</td>\n",
       "    </tr>\n",
       "    <tr>\n",
       "      <th>1</th>\n",
       "      <td>Atraso Crítico na Entrega Por Caminhao</td>\n",
       "      <td>0</td>\n",
       "      <td>51</td>\n",
       "    </tr>\n",
       "    <tr>\n",
       "      <th>2</th>\n",
       "      <td>Atraso Crítico na Entrega Por Navio</td>\n",
       "      <td>0</td>\n",
       "      <td>194</td>\n",
       "    </tr>\n",
       "    <tr>\n",
       "      <th>3</th>\n",
       "      <td>Atraso Problemático na Entrega Por Aviao</td>\n",
       "      <td>0</td>\n",
       "      <td>300</td>\n",
       "    </tr>\n",
       "    <tr>\n",
       "      <th>4</th>\n",
       "      <td>Atraso Problemático na Entrega Por Caminhao</td>\n",
       "      <td>0</td>\n",
       "      <td>310</td>\n",
       "    </tr>\n",
       "    <tr>\n",
       "      <th>5</th>\n",
       "      <td>Atraso Problemático na Entrega Por Navio</td>\n",
       "      <td>0</td>\n",
       "      <td>1307</td>\n",
       "    </tr>\n",
       "    <tr>\n",
       "      <th>6</th>\n",
       "      <td>Atraso Tolerável na Entrega Por Aviao</td>\n",
       "      <td>0</td>\n",
       "      <td>331</td>\n",
       "    </tr>\n",
       "    <tr>\n",
       "      <th>7</th>\n",
       "      <td>Atraso Tolerável na Entrega Por Caminhao</td>\n",
       "      <td>0</td>\n",
       "      <td>350</td>\n",
       "    </tr>\n",
       "    <tr>\n",
       "      <th>8</th>\n",
       "      <td>Atraso Tolerável na Entrega Por Navio</td>\n",
       "      <td>0</td>\n",
       "      <td>1453</td>\n",
       "    </tr>\n",
       "    <tr>\n",
       "      <th>9</th>\n",
       "      <td>Não Houve Atraso</td>\n",
       "      <td>1</td>\n",
       "      <td>6282</td>\n",
       "    </tr>\n",
       "  </tbody>\n",
       "</table>\n",
       "</div>"
      ],
      "text/plain": [
       "                        performance_modo_envio entregue_no_prazo  \\\n",
       "                                                                   \n",
       "0          Atraso Crítico na Entrega Por Aviao                 0   \n",
       "1       Atraso Crítico na Entrega Por Caminhao                 0   \n",
       "2          Atraso Crítico na Entrega Por Navio                 0   \n",
       "3     Atraso Problemático na Entrega Por Aviao                 0   \n",
       "4  Atraso Problemático na Entrega Por Caminhao                 0   \n",
       "5     Atraso Problemático na Entrega Por Navio                 0   \n",
       "6        Atraso Tolerável na Entrega Por Aviao                 0   \n",
       "7     Atraso Tolerável na Entrega Por Caminhao                 0   \n",
       "8        Atraso Tolerável na Entrega Por Navio                 0   \n",
       "9                             Não Houve Atraso                 1   \n",
       "\n",
       "  prioridade_produto  \n",
       "               count  \n",
       "0                 65  \n",
       "1                 51  \n",
       "2                194  \n",
       "3                300  \n",
       "4                310  \n",
       "5               1307  \n",
       "6                331  \n",
       "7                350  \n",
       "8               1453  \n",
       "9               6282  "
      ]
     },
     "execution_count": 93,
     "metadata": {},
     "output_type": "execute_result"
    }
   ],
   "source": [
    "# Agrupamos os dados para análise\n",
    "df_report2 = df_eng.groupby(['performance_modo_envio', \n",
    "                             'entregue_no_prazo']).agg({'prioridade_produto': ['count']}).reset_index()\n",
    "df_report2.head(10)"
   ]
  },
  {
   "cell_type": "code",
   "execution_count": 94,
   "metadata": {},
   "outputs": [
    {
     "data": {
      "text/html": [
       "<div>\n",
       "<style scoped>\n",
       "    .dataframe tbody tr th:only-of-type {\n",
       "        vertical-align: middle;\n",
       "    }\n",
       "\n",
       "    .dataframe tbody tr th {\n",
       "        vertical-align: top;\n",
       "    }\n",
       "\n",
       "    .dataframe thead th {\n",
       "        text-align: right;\n",
       "    }\n",
       "</style>\n",
       "<table border=\"1\" class=\"dataframe\">\n",
       "  <thead>\n",
       "    <tr style=\"text-align: right;\">\n",
       "      <th></th>\n",
       "      <th>performance_modo_envio</th>\n",
       "      <th>entregue_no_prazo</th>\n",
       "      <th>contagem</th>\n",
       "    </tr>\n",
       "  </thead>\n",
       "  <tbody>\n",
       "    <tr>\n",
       "      <th>0</th>\n",
       "      <td>Atraso Crítico na Entrega Por Aviao</td>\n",
       "      <td>0</td>\n",
       "      <td>65</td>\n",
       "    </tr>\n",
       "    <tr>\n",
       "      <th>1</th>\n",
       "      <td>Atraso Crítico na Entrega Por Caminhao</td>\n",
       "      <td>0</td>\n",
       "      <td>51</td>\n",
       "    </tr>\n",
       "    <tr>\n",
       "      <th>2</th>\n",
       "      <td>Atraso Crítico na Entrega Por Navio</td>\n",
       "      <td>0</td>\n",
       "      <td>194</td>\n",
       "    </tr>\n",
       "    <tr>\n",
       "      <th>3</th>\n",
       "      <td>Atraso Problemático na Entrega Por Aviao</td>\n",
       "      <td>0</td>\n",
       "      <td>300</td>\n",
       "    </tr>\n",
       "    <tr>\n",
       "      <th>4</th>\n",
       "      <td>Atraso Problemático na Entrega Por Caminhao</td>\n",
       "      <td>0</td>\n",
       "      <td>310</td>\n",
       "    </tr>\n",
       "    <tr>\n",
       "      <th>5</th>\n",
       "      <td>Atraso Problemático na Entrega Por Navio</td>\n",
       "      <td>0</td>\n",
       "      <td>1307</td>\n",
       "    </tr>\n",
       "    <tr>\n",
       "      <th>6</th>\n",
       "      <td>Atraso Tolerável na Entrega Por Aviao</td>\n",
       "      <td>0</td>\n",
       "      <td>331</td>\n",
       "    </tr>\n",
       "    <tr>\n",
       "      <th>7</th>\n",
       "      <td>Atraso Tolerável na Entrega Por Caminhao</td>\n",
       "      <td>0</td>\n",
       "      <td>350</td>\n",
       "    </tr>\n",
       "    <tr>\n",
       "      <th>8</th>\n",
       "      <td>Atraso Tolerável na Entrega Por Navio</td>\n",
       "      <td>0</td>\n",
       "      <td>1453</td>\n",
       "    </tr>\n",
       "    <tr>\n",
       "      <th>9</th>\n",
       "      <td>Não Houve Atraso</td>\n",
       "      <td>1</td>\n",
       "      <td>6282</td>\n",
       "    </tr>\n",
       "  </tbody>\n",
       "</table>\n",
       "</div>"
      ],
      "text/plain": [
       "                        performance_modo_envio  entregue_no_prazo  contagem\n",
       "0          Atraso Crítico na Entrega Por Aviao                  0        65\n",
       "1       Atraso Crítico na Entrega Por Caminhao                  0        51\n",
       "2          Atraso Crítico na Entrega Por Navio                  0       194\n",
       "3     Atraso Problemático na Entrega Por Aviao                  0       300\n",
       "4  Atraso Problemático na Entrega Por Caminhao                  0       310\n",
       "5     Atraso Problemático na Entrega Por Navio                  0      1307\n",
       "6        Atraso Tolerável na Entrega Por Aviao                  0       331\n",
       "7     Atraso Tolerável na Entrega Por Caminhao                  0       350\n",
       "8        Atraso Tolerável na Entrega Por Navio                  0      1453\n",
       "9                             Não Houve Atraso                  1      6282"
      ]
     },
     "execution_count": 94,
     "metadata": {},
     "output_type": "execute_result"
    }
   ],
   "source": [
    "df_report2.columns = ['performance_modo_envio', 'entregue_no_prazo', 'contagem']\n",
    "df_report2.head(10)"
   ]
  },
  {
   "cell_type": "code",
   "execution_count": 95,
   "metadata": {},
   "outputs": [
    {
     "data": {
      "text/html": [
       "<div>\n",
       "<style scoped>\n",
       "    .dataframe tbody tr th:only-of-type {\n",
       "        vertical-align: middle;\n",
       "    }\n",
       "\n",
       "    .dataframe tbody tr th {\n",
       "        vertical-align: top;\n",
       "    }\n",
       "\n",
       "    .dataframe thead th {\n",
       "        text-align: right;\n",
       "    }\n",
       "</style>\n",
       "<table border=\"1\" class=\"dataframe\">\n",
       "  <thead>\n",
       "    <tr style=\"text-align: right;\">\n",
       "      <th>entregue_no_prazo</th>\n",
       "      <th>performance_modo_envio</th>\n",
       "      <th>0</th>\n",
       "      <th>1</th>\n",
       "    </tr>\n",
       "  </thead>\n",
       "  <tbody>\n",
       "    <tr>\n",
       "      <th>0</th>\n",
       "      <td>Atraso Crítico na Entrega Por Aviao</td>\n",
       "      <td>65.0</td>\n",
       "      <td>NaN</td>\n",
       "    </tr>\n",
       "    <tr>\n",
       "      <th>1</th>\n",
       "      <td>Atraso Crítico na Entrega Por Caminhao</td>\n",
       "      <td>51.0</td>\n",
       "      <td>NaN</td>\n",
       "    </tr>\n",
       "    <tr>\n",
       "      <th>2</th>\n",
       "      <td>Atraso Crítico na Entrega Por Navio</td>\n",
       "      <td>194.0</td>\n",
       "      <td>NaN</td>\n",
       "    </tr>\n",
       "    <tr>\n",
       "      <th>3</th>\n",
       "      <td>Atraso Problemático na Entrega Por Aviao</td>\n",
       "      <td>300.0</td>\n",
       "      <td>NaN</td>\n",
       "    </tr>\n",
       "    <tr>\n",
       "      <th>4</th>\n",
       "      <td>Atraso Problemático na Entrega Por Caminhao</td>\n",
       "      <td>310.0</td>\n",
       "      <td>NaN</td>\n",
       "    </tr>\n",
       "    <tr>\n",
       "      <th>5</th>\n",
       "      <td>Atraso Problemático na Entrega Por Navio</td>\n",
       "      <td>1307.0</td>\n",
       "      <td>NaN</td>\n",
       "    </tr>\n",
       "    <tr>\n",
       "      <th>6</th>\n",
       "      <td>Atraso Tolerável na Entrega Por Aviao</td>\n",
       "      <td>331.0</td>\n",
       "      <td>NaN</td>\n",
       "    </tr>\n",
       "    <tr>\n",
       "      <th>7</th>\n",
       "      <td>Atraso Tolerável na Entrega Por Caminhao</td>\n",
       "      <td>350.0</td>\n",
       "      <td>NaN</td>\n",
       "    </tr>\n",
       "    <tr>\n",
       "      <th>8</th>\n",
       "      <td>Atraso Tolerável na Entrega Por Navio</td>\n",
       "      <td>1453.0</td>\n",
       "      <td>NaN</td>\n",
       "    </tr>\n",
       "    <tr>\n",
       "      <th>9</th>\n",
       "      <td>Não Houve Atraso</td>\n",
       "      <td>NaN</td>\n",
       "      <td>6282.0</td>\n",
       "    </tr>\n",
       "  </tbody>\n",
       "</table>\n",
       "</div>"
      ],
      "text/plain": [
       "entregue_no_prazo                       performance_modo_envio       0       1\n",
       "0                          Atraso Crítico na Entrega Por Aviao    65.0     NaN\n",
       "1                       Atraso Crítico na Entrega Por Caminhao    51.0     NaN\n",
       "2                          Atraso Crítico na Entrega Por Navio   194.0     NaN\n",
       "3                     Atraso Problemático na Entrega Por Aviao   300.0     NaN\n",
       "4                  Atraso Problemático na Entrega Por Caminhao   310.0     NaN\n",
       "5                     Atraso Problemático na Entrega Por Navio  1307.0     NaN\n",
       "6                        Atraso Tolerável na Entrega Por Aviao   331.0     NaN\n",
       "7                     Atraso Tolerável na Entrega Por Caminhao   350.0     NaN\n",
       "8                        Atraso Tolerável na Entrega Por Navio  1453.0     NaN\n",
       "9                                             Não Houve Atraso     NaN  6282.0"
      ]
     },
     "execution_count": 95,
     "metadata": {},
     "output_type": "execute_result"
    }
   ],
   "source": [
    "# Pivot\n",
    "df_report2 = pd.pivot_table(df_report2,\n",
    "                            index = 'performance_modo_envio',\n",
    "                            columns = 'entregue_no_prazo',\n",
    "                            values = 'contagem').reset_index()\n",
    "df_report2.head(10)"
   ]
  },
  {
   "cell_type": "code",
   "execution_count": 96,
   "metadata": {},
   "outputs": [
    {
     "data": {
      "text/html": [
       "<div>\n",
       "<style scoped>\n",
       "    .dataframe tbody tr th:only-of-type {\n",
       "        vertical-align: middle;\n",
       "    }\n",
       "\n",
       "    .dataframe tbody tr th {\n",
       "        vertical-align: top;\n",
       "    }\n",
       "\n",
       "    .dataframe thead th {\n",
       "        text-align: right;\n",
       "    }\n",
       "</style>\n",
       "<table border=\"1\" class=\"dataframe\">\n",
       "  <thead>\n",
       "    <tr style=\"text-align: right;\">\n",
       "      <th></th>\n",
       "      <th>Status do Envio</th>\n",
       "      <th>Total Atraso</th>\n",
       "      <th>Total no Prazo</th>\n",
       "    </tr>\n",
       "  </thead>\n",
       "  <tbody>\n",
       "    <tr>\n",
       "      <th>0</th>\n",
       "      <td>Atraso Crítico na Entrega Por Aviao</td>\n",
       "      <td>65.0</td>\n",
       "      <td>NaN</td>\n",
       "    </tr>\n",
       "    <tr>\n",
       "      <th>1</th>\n",
       "      <td>Atraso Crítico na Entrega Por Caminhao</td>\n",
       "      <td>51.0</td>\n",
       "      <td>NaN</td>\n",
       "    </tr>\n",
       "    <tr>\n",
       "      <th>2</th>\n",
       "      <td>Atraso Crítico na Entrega Por Navio</td>\n",
       "      <td>194.0</td>\n",
       "      <td>NaN</td>\n",
       "    </tr>\n",
       "    <tr>\n",
       "      <th>3</th>\n",
       "      <td>Atraso Problemático na Entrega Por Aviao</td>\n",
       "      <td>300.0</td>\n",
       "      <td>NaN</td>\n",
       "    </tr>\n",
       "    <tr>\n",
       "      <th>4</th>\n",
       "      <td>Atraso Problemático na Entrega Por Caminhao</td>\n",
       "      <td>310.0</td>\n",
       "      <td>NaN</td>\n",
       "    </tr>\n",
       "    <tr>\n",
       "      <th>5</th>\n",
       "      <td>Atraso Problemático na Entrega Por Navio</td>\n",
       "      <td>1307.0</td>\n",
       "      <td>NaN</td>\n",
       "    </tr>\n",
       "    <tr>\n",
       "      <th>6</th>\n",
       "      <td>Atraso Tolerável na Entrega Por Aviao</td>\n",
       "      <td>331.0</td>\n",
       "      <td>NaN</td>\n",
       "    </tr>\n",
       "    <tr>\n",
       "      <th>7</th>\n",
       "      <td>Atraso Tolerável na Entrega Por Caminhao</td>\n",
       "      <td>350.0</td>\n",
       "      <td>NaN</td>\n",
       "    </tr>\n",
       "    <tr>\n",
       "      <th>8</th>\n",
       "      <td>Atraso Tolerável na Entrega Por Navio</td>\n",
       "      <td>1453.0</td>\n",
       "      <td>NaN</td>\n",
       "    </tr>\n",
       "    <tr>\n",
       "      <th>9</th>\n",
       "      <td>Não Houve Atraso</td>\n",
       "      <td>NaN</td>\n",
       "      <td>6282.0</td>\n",
       "    </tr>\n",
       "  </tbody>\n",
       "</table>\n",
       "</div>"
      ],
      "text/plain": [
       "                               Status do Envio  Total Atraso  Total no Prazo\n",
       "0          Atraso Crítico na Entrega Por Aviao          65.0             NaN\n",
       "1       Atraso Crítico na Entrega Por Caminhao          51.0             NaN\n",
       "2          Atraso Crítico na Entrega Por Navio         194.0             NaN\n",
       "3     Atraso Problemático na Entrega Por Aviao         300.0             NaN\n",
       "4  Atraso Problemático na Entrega Por Caminhao         310.0             NaN\n",
       "5     Atraso Problemático na Entrega Por Navio        1307.0             NaN\n",
       "6        Atraso Tolerável na Entrega Por Aviao         331.0             NaN\n",
       "7     Atraso Tolerável na Entrega Por Caminhao         350.0             NaN\n",
       "8        Atraso Tolerável na Entrega Por Navio        1453.0             NaN\n",
       "9                             Não Houve Atraso           NaN          6282.0"
      ]
     },
     "execution_count": 96,
     "metadata": {},
     "output_type": "execute_result"
    }
   ],
   "source": [
    "df_report2.columns = ['Status do Envio', 'Total Atraso', 'Total no Prazo']\n",
    "df_report2.head(10)"
   ]
  },
  {
   "cell_type": "code",
   "execution_count": 97,
   "metadata": {},
   "outputs": [
    {
     "data": {
      "text/html": [
       "<div>\n",
       "<style scoped>\n",
       "    .dataframe tbody tr th:only-of-type {\n",
       "        vertical-align: middle;\n",
       "    }\n",
       "\n",
       "    .dataframe tbody tr th {\n",
       "        vertical-align: top;\n",
       "    }\n",
       "\n",
       "    .dataframe thead th {\n",
       "        text-align: right;\n",
       "    }\n",
       "</style>\n",
       "<table border=\"1\" class=\"dataframe\">\n",
       "  <thead>\n",
       "    <tr style=\"text-align: right;\">\n",
       "      <th></th>\n",
       "      <th>Status do Envio</th>\n",
       "      <th>Total Atraso</th>\n",
       "      <th>Total no Prazo</th>\n",
       "    </tr>\n",
       "  </thead>\n",
       "  <tbody>\n",
       "    <tr>\n",
       "      <th>0</th>\n",
       "      <td>Atraso Crítico na Entrega Por Aviao</td>\n",
       "      <td>65.0</td>\n",
       "      <td>0.0</td>\n",
       "    </tr>\n",
       "    <tr>\n",
       "      <th>1</th>\n",
       "      <td>Atraso Crítico na Entrega Por Caminhao</td>\n",
       "      <td>51.0</td>\n",
       "      <td>0.0</td>\n",
       "    </tr>\n",
       "    <tr>\n",
       "      <th>2</th>\n",
       "      <td>Atraso Crítico na Entrega Por Navio</td>\n",
       "      <td>194.0</td>\n",
       "      <td>0.0</td>\n",
       "    </tr>\n",
       "    <tr>\n",
       "      <th>3</th>\n",
       "      <td>Atraso Problemático na Entrega Por Aviao</td>\n",
       "      <td>300.0</td>\n",
       "      <td>0.0</td>\n",
       "    </tr>\n",
       "    <tr>\n",
       "      <th>4</th>\n",
       "      <td>Atraso Problemático na Entrega Por Caminhao</td>\n",
       "      <td>310.0</td>\n",
       "      <td>0.0</td>\n",
       "    </tr>\n",
       "    <tr>\n",
       "      <th>5</th>\n",
       "      <td>Atraso Problemático na Entrega Por Navio</td>\n",
       "      <td>1307.0</td>\n",
       "      <td>0.0</td>\n",
       "    </tr>\n",
       "    <tr>\n",
       "      <th>6</th>\n",
       "      <td>Atraso Tolerável na Entrega Por Aviao</td>\n",
       "      <td>331.0</td>\n",
       "      <td>0.0</td>\n",
       "    </tr>\n",
       "    <tr>\n",
       "      <th>7</th>\n",
       "      <td>Atraso Tolerável na Entrega Por Caminhao</td>\n",
       "      <td>350.0</td>\n",
       "      <td>0.0</td>\n",
       "    </tr>\n",
       "    <tr>\n",
       "      <th>8</th>\n",
       "      <td>Atraso Tolerável na Entrega Por Navio</td>\n",
       "      <td>1453.0</td>\n",
       "      <td>0.0</td>\n",
       "    </tr>\n",
       "    <tr>\n",
       "      <th>9</th>\n",
       "      <td>Não Houve Atraso</td>\n",
       "      <td>0.0</td>\n",
       "      <td>6282.0</td>\n",
       "    </tr>\n",
       "  </tbody>\n",
       "</table>\n",
       "</div>"
      ],
      "text/plain": [
       "                               Status do Envio  Total Atraso  Total no Prazo\n",
       "0          Atraso Crítico na Entrega Por Aviao          65.0             0.0\n",
       "1       Atraso Crítico na Entrega Por Caminhao          51.0             0.0\n",
       "2          Atraso Crítico na Entrega Por Navio         194.0             0.0\n",
       "3     Atraso Problemático na Entrega Por Aviao         300.0             0.0\n",
       "4  Atraso Problemático na Entrega Por Caminhao         310.0             0.0\n",
       "5     Atraso Problemático na Entrega Por Navio        1307.0             0.0\n",
       "6        Atraso Tolerável na Entrega Por Aviao         331.0             0.0\n",
       "7     Atraso Tolerável na Entrega Por Caminhao         350.0             0.0\n",
       "8        Atraso Tolerável na Entrega Por Navio        1453.0             0.0\n",
       "9                             Não Houve Atraso           0.0          6282.0"
      ]
     },
     "execution_count": 97,
     "metadata": {},
     "output_type": "execute_result"
    }
   ],
   "source": [
    "# Replace do valor nan por zero\n",
    "df_report2['Total Atraso'] = df_report2['Total Atraso'].replace(np.nan, 0)\n",
    "df_report2['Total no Prazo'] = df_report2['Total no Prazo'].replace(np.nan, 0)\n",
    "df_report2.head(10)"
   ]
  },
  {
   "cell_type": "code",
   "execution_count": 98,
   "metadata": {},
   "outputs": [
    {
     "data": {
      "text/html": [
       "<div>\n",
       "<style scoped>\n",
       "    .dataframe tbody tr th:only-of-type {\n",
       "        vertical-align: middle;\n",
       "    }\n",
       "\n",
       "    .dataframe tbody tr th {\n",
       "        vertical-align: top;\n",
       "    }\n",
       "\n",
       "    .dataframe thead th {\n",
       "        text-align: right;\n",
       "    }\n",
       "</style>\n",
       "<table border=\"1\" class=\"dataframe\">\n",
       "  <thead>\n",
       "    <tr style=\"text-align: right;\">\n",
       "      <th></th>\n",
       "      <th>Status do Envio</th>\n",
       "      <th>Total Atraso</th>\n",
       "      <th>Total no Prazo</th>\n",
       "      <th>Total</th>\n",
       "    </tr>\n",
       "  </thead>\n",
       "  <tbody>\n",
       "    <tr>\n",
       "      <th>0</th>\n",
       "      <td>Atraso Crítico na Entrega Por Aviao</td>\n",
       "      <td>65.0</td>\n",
       "      <td>0.0</td>\n",
       "      <td>65.0</td>\n",
       "    </tr>\n",
       "    <tr>\n",
       "      <th>1</th>\n",
       "      <td>Atraso Crítico na Entrega Por Caminhao</td>\n",
       "      <td>51.0</td>\n",
       "      <td>0.0</td>\n",
       "      <td>51.0</td>\n",
       "    </tr>\n",
       "    <tr>\n",
       "      <th>2</th>\n",
       "      <td>Atraso Crítico na Entrega Por Navio</td>\n",
       "      <td>194.0</td>\n",
       "      <td>0.0</td>\n",
       "      <td>194.0</td>\n",
       "    </tr>\n",
       "    <tr>\n",
       "      <th>3</th>\n",
       "      <td>Atraso Problemático na Entrega Por Aviao</td>\n",
       "      <td>300.0</td>\n",
       "      <td>0.0</td>\n",
       "      <td>300.0</td>\n",
       "    </tr>\n",
       "    <tr>\n",
       "      <th>4</th>\n",
       "      <td>Atraso Problemático na Entrega Por Caminhao</td>\n",
       "      <td>310.0</td>\n",
       "      <td>0.0</td>\n",
       "      <td>310.0</td>\n",
       "    </tr>\n",
       "    <tr>\n",
       "      <th>5</th>\n",
       "      <td>Atraso Problemático na Entrega Por Navio</td>\n",
       "      <td>1307.0</td>\n",
       "      <td>0.0</td>\n",
       "      <td>1307.0</td>\n",
       "    </tr>\n",
       "    <tr>\n",
       "      <th>6</th>\n",
       "      <td>Atraso Tolerável na Entrega Por Aviao</td>\n",
       "      <td>331.0</td>\n",
       "      <td>0.0</td>\n",
       "      <td>331.0</td>\n",
       "    </tr>\n",
       "    <tr>\n",
       "      <th>7</th>\n",
       "      <td>Atraso Tolerável na Entrega Por Caminhao</td>\n",
       "      <td>350.0</td>\n",
       "      <td>0.0</td>\n",
       "      <td>350.0</td>\n",
       "    </tr>\n",
       "    <tr>\n",
       "      <th>8</th>\n",
       "      <td>Atraso Tolerável na Entrega Por Navio</td>\n",
       "      <td>1453.0</td>\n",
       "      <td>0.0</td>\n",
       "      <td>1453.0</td>\n",
       "    </tr>\n",
       "    <tr>\n",
       "      <th>9</th>\n",
       "      <td>Não Houve Atraso</td>\n",
       "      <td>0.0</td>\n",
       "      <td>6282.0</td>\n",
       "      <td>6282.0</td>\n",
       "    </tr>\n",
       "  </tbody>\n",
       "</table>\n",
       "</div>"
      ],
      "text/plain": [
       "                               Status do Envio  Total Atraso  Total no Prazo  \\\n",
       "0          Atraso Crítico na Entrega Por Aviao          65.0             0.0   \n",
       "1       Atraso Crítico na Entrega Por Caminhao          51.0             0.0   \n",
       "2          Atraso Crítico na Entrega Por Navio         194.0             0.0   \n",
       "3     Atraso Problemático na Entrega Por Aviao         300.0             0.0   \n",
       "4  Atraso Problemático na Entrega Por Caminhao         310.0             0.0   \n",
       "5     Atraso Problemático na Entrega Por Navio        1307.0             0.0   \n",
       "6        Atraso Tolerável na Entrega Por Aviao         331.0             0.0   \n",
       "7     Atraso Tolerável na Entrega Por Caminhao         350.0             0.0   \n",
       "8        Atraso Tolerável na Entrega Por Navio        1453.0             0.0   \n",
       "9                             Não Houve Atraso           0.0          6282.0   \n",
       "\n",
       "    Total  \n",
       "0    65.0  \n",
       "1    51.0  \n",
       "2   194.0  \n",
       "3   300.0  \n",
       "4   310.0  \n",
       "5  1307.0  \n",
       "6   331.0  \n",
       "7   350.0  \n",
       "8  1453.0  \n",
       "9  6282.0  "
      ]
     },
     "execution_count": 98,
     "metadata": {},
     "output_type": "execute_result"
    }
   ],
   "source": [
    "# Concatena colunas criando uma terceira variável\n",
    "df_report2[\"Total\"] = df_report2[\"Total Atraso\"] + df_report2[\"Total no Prazo\"]\n",
    "df_report2.head(10)"
   ]
  },
  {
   "cell_type": "code",
   "execution_count": 99,
   "metadata": {},
   "outputs": [
    {
     "data": {
      "text/html": [
       "<div>\n",
       "<style scoped>\n",
       "    .dataframe tbody tr th:only-of-type {\n",
       "        vertical-align: middle;\n",
       "    }\n",
       "\n",
       "    .dataframe tbody tr th {\n",
       "        vertical-align: top;\n",
       "    }\n",
       "\n",
       "    .dataframe thead th {\n",
       "        text-align: right;\n",
       "    }\n",
       "</style>\n",
       "<table border=\"1\" class=\"dataframe\">\n",
       "  <thead>\n",
       "    <tr style=\"text-align: right;\">\n",
       "      <th></th>\n",
       "      <th>Status do Envio</th>\n",
       "      <th>Total</th>\n",
       "    </tr>\n",
       "  </thead>\n",
       "  <tbody>\n",
       "    <tr>\n",
       "      <th>0</th>\n",
       "      <td>Atraso Crítico na Entrega Por Aviao</td>\n",
       "      <td>65.0</td>\n",
       "    </tr>\n",
       "    <tr>\n",
       "      <th>1</th>\n",
       "      <td>Atraso Crítico na Entrega Por Caminhao</td>\n",
       "      <td>51.0</td>\n",
       "    </tr>\n",
       "    <tr>\n",
       "      <th>2</th>\n",
       "      <td>Atraso Crítico na Entrega Por Navio</td>\n",
       "      <td>194.0</td>\n",
       "    </tr>\n",
       "    <tr>\n",
       "      <th>3</th>\n",
       "      <td>Atraso Problemático na Entrega Por Aviao</td>\n",
       "      <td>300.0</td>\n",
       "    </tr>\n",
       "    <tr>\n",
       "      <th>4</th>\n",
       "      <td>Atraso Problemático na Entrega Por Caminhao</td>\n",
       "      <td>310.0</td>\n",
       "    </tr>\n",
       "    <tr>\n",
       "      <th>5</th>\n",
       "      <td>Atraso Problemático na Entrega Por Navio</td>\n",
       "      <td>1307.0</td>\n",
       "    </tr>\n",
       "    <tr>\n",
       "      <th>6</th>\n",
       "      <td>Atraso Tolerável na Entrega Por Aviao</td>\n",
       "      <td>331.0</td>\n",
       "    </tr>\n",
       "    <tr>\n",
       "      <th>7</th>\n",
       "      <td>Atraso Tolerável na Entrega Por Caminhao</td>\n",
       "      <td>350.0</td>\n",
       "    </tr>\n",
       "    <tr>\n",
       "      <th>8</th>\n",
       "      <td>Atraso Tolerável na Entrega Por Navio</td>\n",
       "      <td>1453.0</td>\n",
       "    </tr>\n",
       "    <tr>\n",
       "      <th>9</th>\n",
       "      <td>Não Houve Atraso</td>\n",
       "      <td>6282.0</td>\n",
       "    </tr>\n",
       "  </tbody>\n",
       "</table>\n",
       "</div>"
      ],
      "text/plain": [
       "                               Status do Envio   Total\n",
       "0          Atraso Crítico na Entrega Por Aviao    65.0\n",
       "1       Atraso Crítico na Entrega Por Caminhao    51.0\n",
       "2          Atraso Crítico na Entrega Por Navio   194.0\n",
       "3     Atraso Problemático na Entrega Por Aviao   300.0\n",
       "4  Atraso Problemático na Entrega Por Caminhao   310.0\n",
       "5     Atraso Problemático na Entrega Por Navio  1307.0\n",
       "6        Atraso Tolerável na Entrega Por Aviao   331.0\n",
       "7     Atraso Tolerável na Entrega Por Caminhao   350.0\n",
       "8        Atraso Tolerável na Entrega Por Navio  1453.0\n",
       "9                             Não Houve Atraso  6282.0"
      ]
     },
     "execution_count": 99,
     "metadata": {},
     "output_type": "execute_result"
    }
   ],
   "source": [
    "# Não precisamos mais dessas colunas. Vamos removê-las.\n",
    "df_report2.drop(df_report2.columns[[1, 2]], axis = 1, inplace = True)\n",
    "df_report2.head(10)"
   ]
  },
  {
   "cell_type": "code",
   "execution_count": 100,
   "metadata": {},
   "outputs": [
    {
     "data": {
      "image/png": "[encoded data removed]",
      "text/plain": [
       "<Figure size 1440x576 with 1 Axes>"
      ]
     },
     "metadata": {
      "needs_background": "light"
     },
     "output_type": "display_data"
    }
   ],
   "source": [
    "# Plot\n",
    "df_report2.set_index(\"Status do Envio\").plot(kind = 'bar', \n",
    "                title = 'Total de Envios dos Produtos Por Status',\n",
    "                ylabel = 'Total', \n",
    "                xlabel = '\\nStatus do Envio',\n",
    "                colormap = 'viridis',\n",
    "                figsize = (20,8))\n",
    "plt.xticks(rotation = 80)\n",
    "plt.show()"
   ]
  },
  {
   "cell_type": "markdown",
   "metadata": {},
   "source": [
    "### 3- Performance de Envio dos Produtos Considerando os Descontos\n",
    "\n",
    "Há diferença na performance de envio dos produtos quando o produto recebe algum tipo de desconto?\n",
    "\n",
    "Criaremos duas novas variáveis com base na seguinte regra de negócio:\n",
    "\n",
    "**Variável 1 - faixa_desconto**\n",
    "\n",
    "- Desconto acima ou igual à média\n",
    "- Desconto abaixo da média\n",
    "\n",
    "**Variável 2 - performance_faixa_desconto**\n",
    "\n",
    "- Se a faixa de desconto foi acima ou igual à média e houve atraso na entrega = \"Atraso na Entrega com Desconto Acima da Média\"\n",
    "\n",
    "- Se a faixa de desconto foi acima ou igual à e não houve atraso na entrega = \"Entrega no Prazo com Desconto Acima da Média\"\n",
    "\n",
    "- Se a faixa de desconto foi abaixo da média e houve atraso na entrega = \"Atraso na Entrega com Desconto Abaixo da Média\"\n",
    "\n",
    "- Se a faixa de desconto foi abaixo da média e não houve atraso na entrega = \"Entrega no Prazo com Desconto Abaixo da Média\""
   ]
  },
  {
   "cell_type": "code",
   "execution_count": 101,
   "metadata": {},
   "outputs": [
    {
     "data": {
      "text/html": [
       "<div>\n",
       "<style scoped>\n",
       "    .dataframe tbody tr th:only-of-type {\n",
       "        vertical-align: middle;\n",
       "    }\n",
       "\n",
       "    .dataframe tbody tr th {\n",
       "        vertical-align: top;\n",
       "    }\n",
       "\n",
       "    .dataframe thead th {\n",
       "        text-align: right;\n",
       "    }\n",
       "</style>\n",
       "<table border=\"1\" class=\"dataframe\">\n",
       "  <thead>\n",
       "    <tr style=\"text-align: right;\">\n",
       "      <th></th>\n",
       "      <th>ID</th>\n",
       "      <th>corredor_armazem</th>\n",
       "      <th>modo_envio</th>\n",
       "      <th>numero_chamadas_cliente</th>\n",
       "      <th>avaliacao_cliente</th>\n",
       "      <th>custo_produto</th>\n",
       "      <th>compras_anteriores</th>\n",
       "      <th>prioridade_produto</th>\n",
       "      <th>genero</th>\n",
       "      <th>desconto</th>\n",
       "      <th>peso_gramas</th>\n",
       "      <th>entregue_no_prazo</th>\n",
       "      <th>performance_prioridade_envio</th>\n",
       "      <th>performance_modo_envio</th>\n",
       "    </tr>\n",
       "  </thead>\n",
       "  <tbody>\n",
       "    <tr>\n",
       "      <th>9223</th>\n",
       "      <td>9224</td>\n",
       "      <td>F</td>\n",
       "      <td>Navio</td>\n",
       "      <td>4</td>\n",
       "      <td>5</td>\n",
       "      <td>141</td>\n",
       "      <td>2</td>\n",
       "      <td>baixa</td>\n",
       "      <td>F</td>\n",
       "      <td>10</td>\n",
       "      <td>5907</td>\n",
       "      <td>1</td>\n",
       "      <td>Não Houve Atraso</td>\n",
       "      <td>Não Houve Atraso</td>\n",
       "    </tr>\n",
       "    <tr>\n",
       "      <th>8063</th>\n",
       "      <td>8064</td>\n",
       "      <td>F</td>\n",
       "      <td>Caminhao</td>\n",
       "      <td>3</td>\n",
       "      <td>2</td>\n",
       "      <td>235</td>\n",
       "      <td>2</td>\n",
       "      <td>media</td>\n",
       "      <td>F</td>\n",
       "      <td>10</td>\n",
       "      <td>4172</td>\n",
       "      <td>0</td>\n",
       "      <td>Atraso Problemático</td>\n",
       "      <td>Atraso Problemático na Entrega Por Caminhao</td>\n",
       "    </tr>\n",
       "    <tr>\n",
       "      <th>5590</th>\n",
       "      <td>5591</td>\n",
       "      <td>C</td>\n",
       "      <td>Caminhao</td>\n",
       "      <td>5</td>\n",
       "      <td>5</td>\n",
       "      <td>195</td>\n",
       "      <td>4</td>\n",
       "      <td>media</td>\n",
       "      <td>M</td>\n",
       "      <td>1</td>\n",
       "      <td>4482</td>\n",
       "      <td>0</td>\n",
       "      <td>Atraso Problemático</td>\n",
       "      <td>Atraso Problemático na Entrega Por Caminhao</td>\n",
       "    </tr>\n",
       "    <tr>\n",
       "      <th>3396</th>\n",
       "      <td>3397</td>\n",
       "      <td>D</td>\n",
       "      <td>Navio</td>\n",
       "      <td>2</td>\n",
       "      <td>4</td>\n",
       "      <td>172</td>\n",
       "      <td>5</td>\n",
       "      <td>baixa</td>\n",
       "      <td>M</td>\n",
       "      <td>4</td>\n",
       "      <td>4668</td>\n",
       "      <td>0</td>\n",
       "      <td>Atraso Tolerável</td>\n",
       "      <td>Atraso Tolerável na Entrega Por Navio</td>\n",
       "    </tr>\n",
       "    <tr>\n",
       "      <th>8158</th>\n",
       "      <td>8159</td>\n",
       "      <td>C</td>\n",
       "      <td>Navio</td>\n",
       "      <td>3</td>\n",
       "      <td>2</td>\n",
       "      <td>227</td>\n",
       "      <td>3</td>\n",
       "      <td>media</td>\n",
       "      <td>M</td>\n",
       "      <td>6</td>\n",
       "      <td>5058</td>\n",
       "      <td>0</td>\n",
       "      <td>Atraso Problemático</td>\n",
       "      <td>Atraso Problemático na Entrega Por Navio</td>\n",
       "    </tr>\n",
       "  </tbody>\n",
       "</table>\n",
       "</div>"
      ],
      "text/plain": [
       "        ID corredor_armazem modo_envio  numero_chamadas_cliente  \\\n",
       "9223  9224                F      Navio                        4   \n",
       "8063  8064                F   Caminhao                        3   \n",
       "5590  5591                C   Caminhao                        5   \n",
       "3396  3397                D      Navio                        2   \n",
       "8158  8159                C      Navio                        3   \n",
       "\n",
       "      avaliacao_cliente  custo_produto  compras_anteriores prioridade_produto  \\\n",
       "9223                  5            141                   2              baixa   \n",
       "8063                  2            235                   2              media   \n",
       "5590                  5            195                   4              media   \n",
       "3396                  4            172                   5              baixa   \n",
       "8158                  2            227                   3              media   \n",
       "\n",
       "     genero  desconto  peso_gramas  entregue_no_prazo  \\\n",
       "9223      F        10         5907                  1   \n",
       "8063      F        10         4172                  0   \n",
       "5590      M         1         4482                  0   \n",
       "3396      M         4         4668                  0   \n",
       "8158      M         6         5058                  0   \n",
       "\n",
       "     performance_prioridade_envio                       performance_modo_envio  \n",
       "9223             Não Houve Atraso                             Não Houve Atraso  \n",
       "8063          Atraso Problemático  Atraso Problemático na Entrega Por Caminhao  \n",
       "5590          Atraso Problemático  Atraso Problemático na Entrega Por Caminhao  \n",
       "3396             Atraso Tolerável        Atraso Tolerável na Entrega Por Navio  \n",
       "8158          Atraso Problemático     Atraso Problemático na Entrega Por Navio  "
      ]
     },
     "execution_count": 101,
     "metadata": {},
     "output_type": "execute_result"
    }
   ],
   "source": [
    "df_eng.sample(5)"
   ]
  },
  {
   "cell_type": "code",
   "execution_count": 102,
   "metadata": {},
   "outputs": [
    {
     "data": {
      "text/plain": [
       "Index(['ID', 'corredor_armazem', 'modo_envio', 'numero_chamadas_cliente',\n",
       "       'avaliacao_cliente', 'custo_produto', 'compras_anteriores',\n",
       "       'prioridade_produto', 'genero', 'desconto', 'peso_gramas',\n",
       "       'entregue_no_prazo', 'performance_prioridade_envio',\n",
       "       'performance_modo_envio'],\n",
       "      dtype='object')"
      ]
     },
     "execution_count": 102,
     "metadata": {},
     "output_type": "execute_result"
    }
   ],
   "source": [
    "df_eng.columns"
   ]
  },
  {
   "cell_type": "code",
   "execution_count": 103,
   "metadata": {},
   "outputs": [
    {
     "data": {
      "text/plain": [
       "count    10643.000000\n",
       "mean        12.528047\n",
       "std         14.991968\n",
       "min          1.000000\n",
       "25%          4.000000\n",
       "50%          7.000000\n",
       "75%         10.000000\n",
       "max         61.000000\n",
       "Name: desconto, dtype: float64"
      ]
     },
     "execution_count": 103,
     "metadata": {},
     "output_type": "execute_result"
    }
   ],
   "source": [
    "df_eng.desconto.describe()"
   ]
  },
  {
   "cell_type": "code",
   "execution_count": 107,
   "metadata": {},
   "outputs": [],
   "source": [
    "# Variável 1\n",
    "df_eng['faixa_desconto'] = np.where(df_eng.desconto >= 12, \"Desconto Acima da Media\", \"Desconto Abaixo da Media\") "
   ]
  },
  {
   "cell_type": "code",
   "execution_count": 108,
   "metadata": {},
   "outputs": [
    {
     "data": {
      "text/plain": [
       "Desconto Abaixo da Media    8269\n",
       "Desconto Acima da Media     2374\n",
       "Name: faixa_desconto, dtype: int64"
      ]
     },
     "execution_count": 108,
     "metadata": {},
     "output_type": "execute_result"
    }
   ],
   "source": [
    "df_eng['faixa_desconto'].value_counts()"
   ]
  },
  {
   "cell_type": "code",
   "execution_count": 109,
   "metadata": {},
   "outputs": [
    {
     "data": {
      "text/html": [
       "<div>\n",
       "<style scoped>\n",
       "    .dataframe tbody tr th:only-of-type {\n",
       "        vertical-align: middle;\n",
       "    }\n",
       "\n",
       "    .dataframe tbody tr th {\n",
       "        vertical-align: top;\n",
       "    }\n",
       "\n",
       "    .dataframe thead th {\n",
       "        text-align: right;\n",
       "    }\n",
       "</style>\n",
       "<table border=\"1\" class=\"dataframe\">\n",
       "  <thead>\n",
       "    <tr style=\"text-align: right;\">\n",
       "      <th></th>\n",
       "      <th>ID</th>\n",
       "      <th>corredor_armazem</th>\n",
       "      <th>modo_envio</th>\n",
       "      <th>numero_chamadas_cliente</th>\n",
       "      <th>avaliacao_cliente</th>\n",
       "      <th>custo_produto</th>\n",
       "      <th>compras_anteriores</th>\n",
       "      <th>prioridade_produto</th>\n",
       "      <th>genero</th>\n",
       "      <th>desconto</th>\n",
       "      <th>peso_gramas</th>\n",
       "      <th>entregue_no_prazo</th>\n",
       "      <th>performance_prioridade_envio</th>\n",
       "      <th>performance_modo_envio</th>\n",
       "      <th>faixa_desconto</th>\n",
       "    </tr>\n",
       "  </thead>\n",
       "  <tbody>\n",
       "    <tr>\n",
       "      <th>178</th>\n",
       "      <td>179</td>\n",
       "      <td>C</td>\n",
       "      <td>Navio</td>\n",
       "      <td>3</td>\n",
       "      <td>3</td>\n",
       "      <td>192</td>\n",
       "      <td>3</td>\n",
       "      <td>media</td>\n",
       "      <td>F</td>\n",
       "      <td>2</td>\n",
       "      <td>3995</td>\n",
       "      <td>1</td>\n",
       "      <td>Não Houve Atraso</td>\n",
       "      <td>Não Houve Atraso</td>\n",
       "      <td>Desconto Abaixo da Media</td>\n",
       "    </tr>\n",
       "    <tr>\n",
       "      <th>2024</th>\n",
       "      <td>2025</td>\n",
       "      <td>A</td>\n",
       "      <td>Navio</td>\n",
       "      <td>3</td>\n",
       "      <td>4</td>\n",
       "      <td>210</td>\n",
       "      <td>3</td>\n",
       "      <td>baixa</td>\n",
       "      <td>F</td>\n",
       "      <td>7</td>\n",
       "      <td>2878</td>\n",
       "      <td>1</td>\n",
       "      <td>Não Houve Atraso</td>\n",
       "      <td>Não Houve Atraso</td>\n",
       "      <td>Desconto Abaixo da Media</td>\n",
       "    </tr>\n",
       "    <tr>\n",
       "      <th>6865</th>\n",
       "      <td>6866</td>\n",
       "      <td>F</td>\n",
       "      <td>Aviao</td>\n",
       "      <td>6</td>\n",
       "      <td>3</td>\n",
       "      <td>266</td>\n",
       "      <td>4</td>\n",
       "      <td>baixa</td>\n",
       "      <td>F</td>\n",
       "      <td>9</td>\n",
       "      <td>1876</td>\n",
       "      <td>0</td>\n",
       "      <td>Atraso Tolerável</td>\n",
       "      <td>Atraso Tolerável na Entrega Por Aviao</td>\n",
       "      <td>Desconto Abaixo da Media</td>\n",
       "    </tr>\n",
       "    <tr>\n",
       "      <th>3510</th>\n",
       "      <td>3511</td>\n",
       "      <td>D</td>\n",
       "      <td>Navio</td>\n",
       "      <td>6</td>\n",
       "      <td>3</td>\n",
       "      <td>121</td>\n",
       "      <td>3</td>\n",
       "      <td>media</td>\n",
       "      <td>F</td>\n",
       "      <td>10</td>\n",
       "      <td>5208</td>\n",
       "      <td>0</td>\n",
       "      <td>Atraso Problemático</td>\n",
       "      <td>Atraso Problemático na Entrega Por Navio</td>\n",
       "      <td>Desconto Abaixo da Media</td>\n",
       "    </tr>\n",
       "    <tr>\n",
       "      <th>3710</th>\n",
       "      <td>3711</td>\n",
       "      <td>A</td>\n",
       "      <td>Aviao</td>\n",
       "      <td>2</td>\n",
       "      <td>3</td>\n",
       "      <td>237</td>\n",
       "      <td>3</td>\n",
       "      <td>media</td>\n",
       "      <td>M</td>\n",
       "      <td>2</td>\n",
       "      <td>5331</td>\n",
       "      <td>0</td>\n",
       "      <td>Atraso Problemático</td>\n",
       "      <td>Atraso Problemático na Entrega Por Aviao</td>\n",
       "      <td>Desconto Abaixo da Media</td>\n",
       "    </tr>\n",
       "  </tbody>\n",
       "</table>\n",
       "</div>"
      ],
      "text/plain": [
       "        ID corredor_armazem modo_envio  numero_chamadas_cliente  \\\n",
       "178    179                C      Navio                        3   \n",
       "2024  2025                A      Navio                        3   \n",
       "6865  6866                F      Aviao                        6   \n",
       "3510  3511                D      Navio                        6   \n",
       "3710  3711                A      Aviao                        2   \n",
       "\n",
       "      avaliacao_cliente  custo_produto  compras_anteriores prioridade_produto  \\\n",
       "178                   3            192                   3              media   \n",
       "2024                  4            210                   3              baixa   \n",
       "6865                  3            266                   4              baixa   \n",
       "3510                  3            121                   3              media   \n",
       "3710                  3            237                   3              media   \n",
       "\n",
       "     genero  desconto  peso_gramas  entregue_no_prazo  \\\n",
       "178       F         2         3995                  1   \n",
       "2024      F         7         2878                  1   \n",
       "6865      F         9         1876                  0   \n",
       "3510      F        10         5208                  0   \n",
       "3710      M         2         5331                  0   \n",
       "\n",
       "     performance_prioridade_envio                    performance_modo_envio  \\\n",
       "178              Não Houve Atraso                          Não Houve Atraso   \n",
       "2024             Não Houve Atraso                          Não Houve Atraso   \n",
       "6865             Atraso Tolerável     Atraso Tolerável na Entrega Por Aviao   \n",
       "3510          Atraso Problemático  Atraso Problemático na Entrega Por Navio   \n",
       "3710          Atraso Problemático  Atraso Problemático na Entrega Por Aviao   \n",
       "\n",
       "                faixa_desconto  \n",
       "178   Desconto Abaixo da Media  \n",
       "2024  Desconto Abaixo da Media  \n",
       "6865  Desconto Abaixo da Media  \n",
       "3510  Desconto Abaixo da Media  \n",
       "3710  Desconto Abaixo da Media  "
      ]
     },
     "execution_count": 109,
     "metadata": {},
     "output_type": "execute_result"
    }
   ],
   "source": [
    "df_eng.sample(5)"
   ]
  },
  {
   "cell_type": "code",
   "execution_count": 110,
   "metadata": {},
   "outputs": [],
   "source": [
    "# Variável 2\n",
    "df_eng['performance_faixa_desconto'] = np.where(\n",
    "        (df_eng['faixa_desconto'] == 'Desconto Acima da Media') & (df_eng['entregue_no_prazo'] == 0), \"Atraso na Entrega com Desconto Acima da Media\", \n",
    "    np.where(\n",
    "        (df_eng['faixa_desconto'] == 'Desconto Abaixo da Media') & (df_eng['entregue_no_prazo'] == 0), \"Atraso na Entrega com Desconto Abaixo da Media\",\n",
    "    np.where(\n",
    "        (df_eng['faixa_desconto'] == 'Desconto Acima da Media') & (df_eng['entregue_no_prazo'] == 1), \"Entrega no Prazo com Desconto Acima da Media\",\n",
    "    np.where(\n",
    "        (df_eng['faixa_desconto'] == 'Desconto Abaixo da Media') & (df_eng['entregue_no_prazo'] == 1), \"Entrega no Prazo com Desconto Abaixo da Media\",\n",
    "   \"NA\"))))"
   ]
  },
  {
   "cell_type": "code",
   "execution_count": 111,
   "metadata": {},
   "outputs": [
    {
     "data": {
      "text/html": [
       "<div>\n",
       "<style scoped>\n",
       "    .dataframe tbody tr th:only-of-type {\n",
       "        vertical-align: middle;\n",
       "    }\n",
       "\n",
       "    .dataframe tbody tr th {\n",
       "        vertical-align: top;\n",
       "    }\n",
       "\n",
       "    .dataframe thead th {\n",
       "        text-align: right;\n",
       "    }\n",
       "</style>\n",
       "<table border=\"1\" class=\"dataframe\">\n",
       "  <thead>\n",
       "    <tr style=\"text-align: right;\">\n",
       "      <th></th>\n",
       "      <th>ID</th>\n",
       "      <th>corredor_armazem</th>\n",
       "      <th>modo_envio</th>\n",
       "      <th>numero_chamadas_cliente</th>\n",
       "      <th>avaliacao_cliente</th>\n",
       "      <th>custo_produto</th>\n",
       "      <th>compras_anteriores</th>\n",
       "      <th>prioridade_produto</th>\n",
       "      <th>genero</th>\n",
       "      <th>desconto</th>\n",
       "      <th>peso_gramas</th>\n",
       "      <th>entregue_no_prazo</th>\n",
       "      <th>performance_prioridade_envio</th>\n",
       "      <th>performance_modo_envio</th>\n",
       "      <th>faixa_desconto</th>\n",
       "      <th>performance_faixa_desconto</th>\n",
       "    </tr>\n",
       "  </thead>\n",
       "  <tbody>\n",
       "    <tr>\n",
       "      <th>891</th>\n",
       "      <td>892</td>\n",
       "      <td>B</td>\n",
       "      <td>Navio</td>\n",
       "      <td>3</td>\n",
       "      <td>4</td>\n",
       "      <td>255</td>\n",
       "      <td>4</td>\n",
       "      <td>baixa</td>\n",
       "      <td>F</td>\n",
       "      <td>12</td>\n",
       "      <td>2266</td>\n",
       "      <td>1</td>\n",
       "      <td>Não Houve Atraso</td>\n",
       "      <td>Não Houve Atraso</td>\n",
       "      <td>Desconto Acima da Media</td>\n",
       "      <td>Entrega no Prazo com Desconto Acima da Media</td>\n",
       "    </tr>\n",
       "    <tr>\n",
       "      <th>5929</th>\n",
       "      <td>5930</td>\n",
       "      <td>F</td>\n",
       "      <td>Navio</td>\n",
       "      <td>4</td>\n",
       "      <td>4</td>\n",
       "      <td>138</td>\n",
       "      <td>5</td>\n",
       "      <td>baixa</td>\n",
       "      <td>M</td>\n",
       "      <td>10</td>\n",
       "      <td>5401</td>\n",
       "      <td>0</td>\n",
       "      <td>Atraso Tolerável</td>\n",
       "      <td>Atraso Tolerável na Entrega Por Navio</td>\n",
       "      <td>Desconto Abaixo da Media</td>\n",
       "      <td>Atraso na Entrega com Desconto Abaixo da Media</td>\n",
       "    </tr>\n",
       "    <tr>\n",
       "      <th>2743</th>\n",
       "      <td>2744</td>\n",
       "      <td>F</td>\n",
       "      <td>Aviao</td>\n",
       "      <td>4</td>\n",
       "      <td>3</td>\n",
       "      <td>132</td>\n",
       "      <td>4</td>\n",
       "      <td>media</td>\n",
       "      <td>M</td>\n",
       "      <td>10</td>\n",
       "      <td>1767</td>\n",
       "      <td>1</td>\n",
       "      <td>Não Houve Atraso</td>\n",
       "      <td>Não Houve Atraso</td>\n",
       "      <td>Desconto Abaixo da Media</td>\n",
       "      <td>Entrega no Prazo com Desconto Abaixo da Media</td>\n",
       "    </tr>\n",
       "    <tr>\n",
       "      <th>5412</th>\n",
       "      <td>5413</td>\n",
       "      <td>D</td>\n",
       "      <td>Navio</td>\n",
       "      <td>3</td>\n",
       "      <td>2</td>\n",
       "      <td>177</td>\n",
       "      <td>4</td>\n",
       "      <td>baixa</td>\n",
       "      <td>F</td>\n",
       "      <td>3</td>\n",
       "      <td>5527</td>\n",
       "      <td>0</td>\n",
       "      <td>Atraso Tolerável</td>\n",
       "      <td>Atraso Tolerável na Entrega Por Navio</td>\n",
       "      <td>Desconto Abaixo da Media</td>\n",
       "      <td>Atraso na Entrega com Desconto Abaixo da Media</td>\n",
       "    </tr>\n",
       "    <tr>\n",
       "      <th>6637</th>\n",
       "      <td>6638</td>\n",
       "      <td>F</td>\n",
       "      <td>Navio</td>\n",
       "      <td>3</td>\n",
       "      <td>4</td>\n",
       "      <td>153</td>\n",
       "      <td>4</td>\n",
       "      <td>baixa</td>\n",
       "      <td>M</td>\n",
       "      <td>5</td>\n",
       "      <td>5604</td>\n",
       "      <td>1</td>\n",
       "      <td>Não Houve Atraso</td>\n",
       "      <td>Não Houve Atraso</td>\n",
       "      <td>Desconto Abaixo da Media</td>\n",
       "      <td>Entrega no Prazo com Desconto Abaixo da Media</td>\n",
       "    </tr>\n",
       "  </tbody>\n",
       "</table>\n",
       "</div>"
      ],
      "text/plain": [
       "        ID corredor_armazem modo_envio  numero_chamadas_cliente  \\\n",
       "891    892                B      Navio                        3   \n",
       "5929  5930                F      Navio                        4   \n",
       "2743  2744                F      Aviao                        4   \n",
       "5412  5413                D      Navio                        3   \n",
       "6637  6638                F      Navio                        3   \n",
       "\n",
       "      avaliacao_cliente  custo_produto  compras_anteriores prioridade_produto  \\\n",
       "891                   4            255                   4              baixa   \n",
       "5929                  4            138                   5              baixa   \n",
       "2743                  3            132                   4              media   \n",
       "5412                  2            177                   4              baixa   \n",
       "6637                  4            153                   4              baixa   \n",
       "\n",
       "     genero  desconto  peso_gramas  entregue_no_prazo  \\\n",
       "891       F        12         2266                  1   \n",
       "5929      M        10         5401                  0   \n",
       "2743      M        10         1767                  1   \n",
       "5412      F         3         5527                  0   \n",
       "6637      M         5         5604                  1   \n",
       "\n",
       "     performance_prioridade_envio                 performance_modo_envio  \\\n",
       "891              Não Houve Atraso                       Não Houve Atraso   \n",
       "5929             Atraso Tolerável  Atraso Tolerável na Entrega Por Navio   \n",
       "2743             Não Houve Atraso                       Não Houve Atraso   \n",
       "5412             Atraso Tolerável  Atraso Tolerável na Entrega Por Navio   \n",
       "6637             Não Houve Atraso                       Não Houve Atraso   \n",
       "\n",
       "                faixa_desconto                      performance_faixa_desconto  \n",
       "891    Desconto Acima da Media    Entrega no Prazo com Desconto Acima da Media  \n",
       "5929  Desconto Abaixo da Media  Atraso na Entrega com Desconto Abaixo da Media  \n",
       "2743  Desconto Abaixo da Media   Entrega no Prazo com Desconto Abaixo da Media  \n",
       "5412  Desconto Abaixo da Media  Atraso na Entrega com Desconto Abaixo da Media  \n",
       "6637  Desconto Abaixo da Media   Entrega no Prazo com Desconto Abaixo da Media  "
      ]
     },
     "execution_count": 111,
     "metadata": {},
     "output_type": "execute_result"
    }
   ],
   "source": [
    "df_eng.sample(5)"
   ]
  },
  {
   "cell_type": "code",
   "execution_count": 112,
   "metadata": {},
   "outputs": [
    {
     "data": {
      "text/plain": [
       "Atraso na Entrega com Desconto Abaixo da Media    4361\n",
       "Entrega no Prazo com Desconto Abaixo da Media     3908\n",
       "Entrega no Prazo com Desconto Acima da Media      2374\n",
       "Name: performance_faixa_desconto, dtype: int64"
      ]
     },
     "execution_count": 112,
     "metadata": {},
     "output_type": "execute_result"
    }
   ],
   "source": [
    "df_eng['performance_faixa_desconto'].value_counts()"
   ]
  },
  {
   "cell_type": "code",
   "execution_count": 113,
   "metadata": {},
   "outputs": [
    {
     "data": {
      "text/html": [
       "<div>\n",
       "<style scoped>\n",
       "    .dataframe tbody tr th:only-of-type {\n",
       "        vertical-align: middle;\n",
       "    }\n",
       "\n",
       "    .dataframe tbody tr th {\n",
       "        vertical-align: top;\n",
       "    }\n",
       "\n",
       "    .dataframe thead tr th {\n",
       "        text-align: left;\n",
       "    }\n",
       "</style>\n",
       "<table border=\"1\" class=\"dataframe\">\n",
       "  <thead>\n",
       "    <tr>\n",
       "      <th></th>\n",
       "      <th>performance_faixa_desconto</th>\n",
       "      <th>entregue_no_prazo</th>\n",
       "      <th>ID</th>\n",
       "    </tr>\n",
       "    <tr>\n",
       "      <th></th>\n",
       "      <th></th>\n",
       "      <th></th>\n",
       "      <th>count</th>\n",
       "    </tr>\n",
       "  </thead>\n",
       "  <tbody>\n",
       "    <tr>\n",
       "      <th>0</th>\n",
       "      <td>Atraso na Entrega com Desconto Abaixo da Media</td>\n",
       "      <td>0</td>\n",
       "      <td>4361</td>\n",
       "    </tr>\n",
       "    <tr>\n",
       "      <th>1</th>\n",
       "      <td>Entrega no Prazo com Desconto Abaixo da Media</td>\n",
       "      <td>1</td>\n",
       "      <td>3908</td>\n",
       "    </tr>\n",
       "    <tr>\n",
       "      <th>2</th>\n",
       "      <td>Entrega no Prazo com Desconto Acima da Media</td>\n",
       "      <td>1</td>\n",
       "      <td>2374</td>\n",
       "    </tr>\n",
       "  </tbody>\n",
       "</table>\n",
       "</div>"
      ],
      "text/plain": [
       "                       performance_faixa_desconto entregue_no_prazo    ID\n",
       "                                                                    count\n",
       "0  Atraso na Entrega com Desconto Abaixo da Media                 0  4361\n",
       "1   Entrega no Prazo com Desconto Abaixo da Media                 1  3908\n",
       "2    Entrega no Prazo com Desconto Acima da Media                 1  2374"
      ]
     },
     "execution_count": 113,
     "metadata": {},
     "output_type": "execute_result"
    }
   ],
   "source": [
    "# Agrupamos os dados para análise\n",
    "df_report3 = df_eng.groupby(['performance_faixa_desconto', \n",
    "                             'entregue_no_prazo']).agg({'ID': ['count']}).reset_index()\n",
    "df_report3.head()"
   ]
  },
  {
   "cell_type": "code",
   "execution_count": 114,
   "metadata": {},
   "outputs": [
    {
     "data": {
      "text/html": [
       "<div>\n",
       "<style scoped>\n",
       "    .dataframe tbody tr th:only-of-type {\n",
       "        vertical-align: middle;\n",
       "    }\n",
       "\n",
       "    .dataframe tbody tr th {\n",
       "        vertical-align: top;\n",
       "    }\n",
       "\n",
       "    .dataframe thead th {\n",
       "        text-align: right;\n",
       "    }\n",
       "</style>\n",
       "<table border=\"1\" class=\"dataframe\">\n",
       "  <thead>\n",
       "    <tr style=\"text-align: right;\">\n",
       "      <th></th>\n",
       "      <th>performance_faixa_desconto</th>\n",
       "      <th>entregue_no_prazo</th>\n",
       "      <th>contagem</th>\n",
       "    </tr>\n",
       "  </thead>\n",
       "  <tbody>\n",
       "    <tr>\n",
       "      <th>0</th>\n",
       "      <td>Atraso na Entrega com Desconto Abaixo da Media</td>\n",
       "      <td>0</td>\n",
       "      <td>4361</td>\n",
       "    </tr>\n",
       "    <tr>\n",
       "      <th>1</th>\n",
       "      <td>Entrega no Prazo com Desconto Abaixo da Media</td>\n",
       "      <td>1</td>\n",
       "      <td>3908</td>\n",
       "    </tr>\n",
       "    <tr>\n",
       "      <th>2</th>\n",
       "      <td>Entrega no Prazo com Desconto Acima da Media</td>\n",
       "      <td>1</td>\n",
       "      <td>2374</td>\n",
       "    </tr>\n",
       "  </tbody>\n",
       "</table>\n",
       "</div>"
      ],
      "text/plain": [
       "                       performance_faixa_desconto  entregue_no_prazo  contagem\n",
       "0  Atraso na Entrega com Desconto Abaixo da Media                  0      4361\n",
       "1   Entrega no Prazo com Desconto Abaixo da Media                  1      3908\n",
       "2    Entrega no Prazo com Desconto Acima da Media                  1      2374"
      ]
     },
     "execution_count": 114,
     "metadata": {},
     "output_type": "execute_result"
    }
   ],
   "source": [
    "df_report3.columns = ['performance_faixa_desconto', 'entregue_no_prazo', 'contagem']\n",
    "df_report3.head()"
   ]
  },
  {
   "cell_type": "code",
   "execution_count": 115,
   "metadata": {},
   "outputs": [
    {
     "data": {
      "text/html": [
       "<div>\n",
       "<style scoped>\n",
       "    .dataframe tbody tr th:only-of-type {\n",
       "        vertical-align: middle;\n",
       "    }\n",
       "\n",
       "    .dataframe tbody tr th {\n",
       "        vertical-align: top;\n",
       "    }\n",
       "\n",
       "    .dataframe thead th {\n",
       "        text-align: right;\n",
       "    }\n",
       "</style>\n",
       "<table border=\"1\" class=\"dataframe\">\n",
       "  <thead>\n",
       "    <tr style=\"text-align: right;\">\n",
       "      <th>entregue_no_prazo</th>\n",
       "      <th>performance_faixa_desconto</th>\n",
       "      <th>0</th>\n",
       "      <th>1</th>\n",
       "    </tr>\n",
       "  </thead>\n",
       "  <tbody>\n",
       "    <tr>\n",
       "      <th>0</th>\n",
       "      <td>Atraso na Entrega com Desconto Abaixo da Media</td>\n",
       "      <td>4361.0</td>\n",
       "      <td>NaN</td>\n",
       "    </tr>\n",
       "    <tr>\n",
       "      <th>1</th>\n",
       "      <td>Entrega no Prazo com Desconto Abaixo da Media</td>\n",
       "      <td>NaN</td>\n",
       "      <td>3908.0</td>\n",
       "    </tr>\n",
       "    <tr>\n",
       "      <th>2</th>\n",
       "      <td>Entrega no Prazo com Desconto Acima da Media</td>\n",
       "      <td>NaN</td>\n",
       "      <td>2374.0</td>\n",
       "    </tr>\n",
       "  </tbody>\n",
       "</table>\n",
       "</div>"
      ],
      "text/plain": [
       "entregue_no_prazo                      performance_faixa_desconto       0  \\\n",
       "0                  Atraso na Entrega com Desconto Abaixo da Media  4361.0   \n",
       "1                   Entrega no Prazo com Desconto Abaixo da Media     NaN   \n",
       "2                    Entrega no Prazo com Desconto Acima da Media     NaN   \n",
       "\n",
       "entregue_no_prazo       1  \n",
       "0                     NaN  \n",
       "1                  3908.0  \n",
       "2                  2374.0  "
      ]
     },
     "execution_count": 115,
     "metadata": {},
     "output_type": "execute_result"
    }
   ],
   "source": [
    "# Pivot\n",
    "df_report3 = pd.pivot_table(df_report3,\n",
    "                             index = 'performance_faixa_desconto',\n",
    "                             columns = 'entregue_no_prazo',\n",
    "                             values = 'contagem').reset_index()\n",
    "df_report3.head()"
   ]
  },
  {
   "cell_type": "code",
   "execution_count": 116,
   "metadata": {},
   "outputs": [
    {
     "data": {
      "text/html": [
       "<div>\n",
       "<style scoped>\n",
       "    .dataframe tbody tr th:only-of-type {\n",
       "        vertical-align: middle;\n",
       "    }\n",
       "\n",
       "    .dataframe tbody tr th {\n",
       "        vertical-align: top;\n",
       "    }\n",
       "\n",
       "    .dataframe thead th {\n",
       "        text-align: right;\n",
       "    }\n",
       "</style>\n",
       "<table border=\"1\" class=\"dataframe\">\n",
       "  <thead>\n",
       "    <tr style=\"text-align: right;\">\n",
       "      <th></th>\n",
       "      <th>Status do Envio</th>\n",
       "      <th>Total Atraso</th>\n",
       "      <th>Total no Prazo</th>\n",
       "    </tr>\n",
       "  </thead>\n",
       "  <tbody>\n",
       "    <tr>\n",
       "      <th>0</th>\n",
       "      <td>Atraso na Entrega com Desconto Abaixo da Media</td>\n",
       "      <td>4361.0</td>\n",
       "      <td>NaN</td>\n",
       "    </tr>\n",
       "    <tr>\n",
       "      <th>1</th>\n",
       "      <td>Entrega no Prazo com Desconto Abaixo da Media</td>\n",
       "      <td>NaN</td>\n",
       "      <td>3908.0</td>\n",
       "    </tr>\n",
       "    <tr>\n",
       "      <th>2</th>\n",
       "      <td>Entrega no Prazo com Desconto Acima da Media</td>\n",
       "      <td>NaN</td>\n",
       "      <td>2374.0</td>\n",
       "    </tr>\n",
       "  </tbody>\n",
       "</table>\n",
       "</div>"
      ],
      "text/plain": [
       "                                  Status do Envio  Total Atraso  \\\n",
       "0  Atraso na Entrega com Desconto Abaixo da Media        4361.0   \n",
       "1   Entrega no Prazo com Desconto Abaixo da Media           NaN   \n",
       "2    Entrega no Prazo com Desconto Acima da Media           NaN   \n",
       "\n",
       "   Total no Prazo  \n",
       "0             NaN  \n",
       "1          3908.0  \n",
       "2          2374.0  "
      ]
     },
     "execution_count": 116,
     "metadata": {},
     "output_type": "execute_result"
    }
   ],
   "source": [
    "df_report3.columns = ['Status do Envio', 'Total Atraso', 'Total no Prazo']\n",
    "df_report3.head()"
   ]
  },
  {
   "cell_type": "code",
   "execution_count": 117,
   "metadata": {},
   "outputs": [
    {
     "data": {
      "text/html": [
       "<div>\n",
       "<style scoped>\n",
       "    .dataframe tbody tr th:only-of-type {\n",
       "        vertical-align: middle;\n",
       "    }\n",
       "\n",
       "    .dataframe tbody tr th {\n",
       "        vertical-align: top;\n",
       "    }\n",
       "\n",
       "    .dataframe thead th {\n",
       "        text-align: right;\n",
       "    }\n",
       "</style>\n",
       "<table border=\"1\" class=\"dataframe\">\n",
       "  <thead>\n",
       "    <tr style=\"text-align: right;\">\n",
       "      <th></th>\n",
       "      <th>Status do Envio</th>\n",
       "      <th>Total Atraso</th>\n",
       "      <th>Total no Prazo</th>\n",
       "    </tr>\n",
       "  </thead>\n",
       "  <tbody>\n",
       "    <tr>\n",
       "      <th>0</th>\n",
       "      <td>Atraso na Entrega com Desconto Abaixo da Media</td>\n",
       "      <td>4361.0</td>\n",
       "      <td>0.0</td>\n",
       "    </tr>\n",
       "    <tr>\n",
       "      <th>1</th>\n",
       "      <td>Entrega no Prazo com Desconto Abaixo da Media</td>\n",
       "      <td>0.0</td>\n",
       "      <td>3908.0</td>\n",
       "    </tr>\n",
       "    <tr>\n",
       "      <th>2</th>\n",
       "      <td>Entrega no Prazo com Desconto Acima da Media</td>\n",
       "      <td>0.0</td>\n",
       "      <td>2374.0</td>\n",
       "    </tr>\n",
       "  </tbody>\n",
       "</table>\n",
       "</div>"
      ],
      "text/plain": [
       "                                  Status do Envio  Total Atraso  \\\n",
       "0  Atraso na Entrega com Desconto Abaixo da Media        4361.0   \n",
       "1   Entrega no Prazo com Desconto Abaixo da Media           0.0   \n",
       "2    Entrega no Prazo com Desconto Acima da Media           0.0   \n",
       "\n",
       "   Total no Prazo  \n",
       "0             0.0  \n",
       "1          3908.0  \n",
       "2          2374.0  "
      ]
     },
     "execution_count": 117,
     "metadata": {},
     "output_type": "execute_result"
    }
   ],
   "source": [
    "# Replace do valor nan por zero\n",
    "df_report3['Total Atraso'] = df_report3['Total Atraso'].replace(np.nan, 0)\n",
    "df_report3['Total no Prazo'] = df_report3['Total no Prazo'].replace(np.nan, 0)\n",
    "df_report3.head()"
   ]
  },
  {
   "cell_type": "code",
   "execution_count": 118,
   "metadata": {},
   "outputs": [
    {
     "data": {
      "text/html": [
       "<div>\n",
       "<style scoped>\n",
       "    .dataframe tbody tr th:only-of-type {\n",
       "        vertical-align: middle;\n",
       "    }\n",
       "\n",
       "    .dataframe tbody tr th {\n",
       "        vertical-align: top;\n",
       "    }\n",
       "\n",
       "    .dataframe thead th {\n",
       "        text-align: right;\n",
       "    }\n",
       "</style>\n",
       "<table border=\"1\" class=\"dataframe\">\n",
       "  <thead>\n",
       "    <tr style=\"text-align: right;\">\n",
       "      <th></th>\n",
       "      <th>Status do Envio</th>\n",
       "      <th>Total Atraso</th>\n",
       "      <th>Total no Prazo</th>\n",
       "      <th>Total</th>\n",
       "    </tr>\n",
       "  </thead>\n",
       "  <tbody>\n",
       "    <tr>\n",
       "      <th>0</th>\n",
       "      <td>Atraso na Entrega com Desconto Abaixo da Media</td>\n",
       "      <td>4361.0</td>\n",
       "      <td>0.0</td>\n",
       "      <td>4361.0</td>\n",
       "    </tr>\n",
       "    <tr>\n",
       "      <th>1</th>\n",
       "      <td>Entrega no Prazo com Desconto Abaixo da Media</td>\n",
       "      <td>0.0</td>\n",
       "      <td>3908.0</td>\n",
       "      <td>3908.0</td>\n",
       "    </tr>\n",
       "    <tr>\n",
       "      <th>2</th>\n",
       "      <td>Entrega no Prazo com Desconto Acima da Media</td>\n",
       "      <td>0.0</td>\n",
       "      <td>2374.0</td>\n",
       "      <td>2374.0</td>\n",
       "    </tr>\n",
       "  </tbody>\n",
       "</table>\n",
       "</div>"
      ],
      "text/plain": [
       "                                  Status do Envio  Total Atraso  \\\n",
       "0  Atraso na Entrega com Desconto Abaixo da Media        4361.0   \n",
       "1   Entrega no Prazo com Desconto Abaixo da Media           0.0   \n",
       "2    Entrega no Prazo com Desconto Acima da Media           0.0   \n",
       "\n",
       "   Total no Prazo   Total  \n",
       "0             0.0  4361.0  \n",
       "1          3908.0  3908.0  \n",
       "2          2374.0  2374.0  "
      ]
     },
     "execution_count": 118,
     "metadata": {},
     "output_type": "execute_result"
    }
   ],
   "source": [
    "# Concatena colunas criando uma terceira variável\n",
    "df_report3[\"Total\"] = df_report3[\"Total Atraso\"] + df_report3[\"Total no Prazo\"]\n",
    "df_report3.head()"
   ]
  },
  {
   "cell_type": "code",
   "execution_count": 119,
   "metadata": {},
   "outputs": [
    {
     "data": {
      "text/html": [
       "<div>\n",
       "<style scoped>\n",
       "    .dataframe tbody tr th:only-of-type {\n",
       "        vertical-align: middle;\n",
       "    }\n",
       "\n",
       "    .dataframe tbody tr th {\n",
       "        vertical-align: top;\n",
       "    }\n",
       "\n",
       "    .dataframe thead th {\n",
       "        text-align: right;\n",
       "    }\n",
       "</style>\n",
       "<table border=\"1\" class=\"dataframe\">\n",
       "  <thead>\n",
       "    <tr style=\"text-align: right;\">\n",
       "      <th></th>\n",
       "      <th>Status do Envio</th>\n",
       "      <th>Total</th>\n",
       "    </tr>\n",
       "  </thead>\n",
       "  <tbody>\n",
       "    <tr>\n",
       "      <th>0</th>\n",
       "      <td>Atraso na Entrega com Desconto Abaixo da Media</td>\n",
       "      <td>4361.0</td>\n",
       "    </tr>\n",
       "    <tr>\n",
       "      <th>1</th>\n",
       "      <td>Entrega no Prazo com Desconto Abaixo da Media</td>\n",
       "      <td>3908.0</td>\n",
       "    </tr>\n",
       "    <tr>\n",
       "      <th>2</th>\n",
       "      <td>Entrega no Prazo com Desconto Acima da Media</td>\n",
       "      <td>2374.0</td>\n",
       "    </tr>\n",
       "  </tbody>\n",
       "</table>\n",
       "</div>"
      ],
      "text/plain": [
       "                                  Status do Envio   Total\n",
       "0  Atraso na Entrega com Desconto Abaixo da Media  4361.0\n",
       "1   Entrega no Prazo com Desconto Abaixo da Media  3908.0\n",
       "2    Entrega no Prazo com Desconto Acima da Media  2374.0"
      ]
     },
     "execution_count": 119,
     "metadata": {},
     "output_type": "execute_result"
    }
   ],
   "source": [
    "# Não precisamos mais dessas colunas. Vamos removê-las.\n",
    "df_report3.drop(df_report3.columns[[1, 2]], axis = 1, inplace = True)\n",
    "df_report3.head()"
   ]
  },
  {
   "cell_type": "code",
   "execution_count": 120,
   "metadata": {},
   "outputs": [
    {
     "data": {
      "image/png": "[encoded data removed]",
      "text/plain": [
       "<Figure size 1440x576 with 1 Axes>"
      ]
     },
     "metadata": {
      "needs_background": "light"
     },
     "output_type": "display_data"
    }
   ],
   "source": [
    "# Plot\n",
    "df_report3.set_index(\"Status do Envio\").plot(kind = 'bar', \n",
    "                title = 'Total de Envios dos Produtos Por Status',\n",
    "                ylabel = 'Total', \n",
    "                xlabel = '\\nStatus do Envio',\n",
    "                colormap = 'plasma',\n",
    "                figsize = (20,8))\n",
    "plt.xticks(rotation = 0)\n",
    "plt.show()"
   ]
  },
  {
   "cell_type": "code",
   "execution_count": 121,
   "metadata": {},
   "outputs": [
    {
     "data": {
      "text/html": [
       "<div>\n",
       "<style scoped>\n",
       "    .dataframe tbody tr th:only-of-type {\n",
       "        vertical-align: middle;\n",
       "    }\n",
       "\n",
       "    .dataframe tbody tr th {\n",
       "        vertical-align: top;\n",
       "    }\n",
       "\n",
       "    .dataframe thead th {\n",
       "        text-align: right;\n",
       "    }\n",
       "</style>\n",
       "<table border=\"1\" class=\"dataframe\">\n",
       "  <thead>\n",
       "    <tr style=\"text-align: right;\">\n",
       "      <th></th>\n",
       "      <th>ID</th>\n",
       "      <th>corredor_armazem</th>\n",
       "      <th>modo_envio</th>\n",
       "      <th>numero_chamadas_cliente</th>\n",
       "      <th>avaliacao_cliente</th>\n",
       "      <th>custo_produto</th>\n",
       "      <th>compras_anteriores</th>\n",
       "      <th>prioridade_produto</th>\n",
       "      <th>genero</th>\n",
       "      <th>desconto</th>\n",
       "      <th>peso_gramas</th>\n",
       "      <th>entregue_no_prazo</th>\n",
       "      <th>performance_prioridade_envio</th>\n",
       "      <th>performance_modo_envio</th>\n",
       "      <th>faixa_desconto</th>\n",
       "      <th>performance_faixa_desconto</th>\n",
       "    </tr>\n",
       "  </thead>\n",
       "  <tbody>\n",
       "    <tr>\n",
       "      <th>9925</th>\n",
       "      <td>9926</td>\n",
       "      <td>F</td>\n",
       "      <td>Navio</td>\n",
       "      <td>6</td>\n",
       "      <td>3</td>\n",
       "      <td>247</td>\n",
       "      <td>4</td>\n",
       "      <td>media</td>\n",
       "      <td>M</td>\n",
       "      <td>7</td>\n",
       "      <td>1626</td>\n",
       "      <td>1</td>\n",
       "      <td>Não Houve Atraso</td>\n",
       "      <td>Não Houve Atraso</td>\n",
       "      <td>Desconto Abaixo da Media</td>\n",
       "      <td>Entrega no Prazo com Desconto Abaixo da Media</td>\n",
       "    </tr>\n",
       "    <tr>\n",
       "      <th>6427</th>\n",
       "      <td>6428</td>\n",
       "      <td>F</td>\n",
       "      <td>Caminhao</td>\n",
       "      <td>3</td>\n",
       "      <td>5</td>\n",
       "      <td>172</td>\n",
       "      <td>3</td>\n",
       "      <td>media</td>\n",
       "      <td>M</td>\n",
       "      <td>1</td>\n",
       "      <td>5024</td>\n",
       "      <td>1</td>\n",
       "      <td>Não Houve Atraso</td>\n",
       "      <td>Não Houve Atraso</td>\n",
       "      <td>Desconto Abaixo da Media</td>\n",
       "      <td>Entrega no Prazo com Desconto Abaixo da Media</td>\n",
       "    </tr>\n",
       "    <tr>\n",
       "      <th>4783</th>\n",
       "      <td>4784</td>\n",
       "      <td>F</td>\n",
       "      <td>Caminhao</td>\n",
       "      <td>3</td>\n",
       "      <td>1</td>\n",
       "      <td>221</td>\n",
       "      <td>2</td>\n",
       "      <td>baixa</td>\n",
       "      <td>F</td>\n",
       "      <td>7</td>\n",
       "      <td>5320</td>\n",
       "      <td>0</td>\n",
       "      <td>Atraso Tolerável</td>\n",
       "      <td>Atraso Tolerável na Entrega Por Caminhao</td>\n",
       "      <td>Desconto Abaixo da Media</td>\n",
       "      <td>Atraso na Entrega com Desconto Abaixo da Media</td>\n",
       "    </tr>\n",
       "    <tr>\n",
       "      <th>1228</th>\n",
       "      <td>1229</td>\n",
       "      <td>C</td>\n",
       "      <td>Aviao</td>\n",
       "      <td>6</td>\n",
       "      <td>1</td>\n",
       "      <td>136</td>\n",
       "      <td>3</td>\n",
       "      <td>alta</td>\n",
       "      <td>M</td>\n",
       "      <td>12</td>\n",
       "      <td>1592</td>\n",
       "      <td>1</td>\n",
       "      <td>Não Houve Atraso</td>\n",
       "      <td>Não Houve Atraso</td>\n",
       "      <td>Desconto Acima da Media</td>\n",
       "      <td>Entrega no Prazo com Desconto Acima da Media</td>\n",
       "    </tr>\n",
       "    <tr>\n",
       "      <th>2000</th>\n",
       "      <td>2001</td>\n",
       "      <td>A</td>\n",
       "      <td>Navio</td>\n",
       "      <td>4</td>\n",
       "      <td>3</td>\n",
       "      <td>135</td>\n",
       "      <td>3</td>\n",
       "      <td>media</td>\n",
       "      <td>F</td>\n",
       "      <td>11</td>\n",
       "      <td>1322</td>\n",
       "      <td>1</td>\n",
       "      <td>Não Houve Atraso</td>\n",
       "      <td>Não Houve Atraso</td>\n",
       "      <td>Desconto Abaixo da Media</td>\n",
       "      <td>Entrega no Prazo com Desconto Abaixo da Media</td>\n",
       "    </tr>\n",
       "    <tr>\n",
       "      <th>8413</th>\n",
       "      <td>8414</td>\n",
       "      <td>F</td>\n",
       "      <td>Navio</td>\n",
       "      <td>4</td>\n",
       "      <td>3</td>\n",
       "      <td>257</td>\n",
       "      <td>3</td>\n",
       "      <td>baixa</td>\n",
       "      <td>M</td>\n",
       "      <td>8</td>\n",
       "      <td>4447</td>\n",
       "      <td>1</td>\n",
       "      <td>Não Houve Atraso</td>\n",
       "      <td>Não Houve Atraso</td>\n",
       "      <td>Desconto Abaixo da Media</td>\n",
       "      <td>Entrega no Prazo com Desconto Abaixo da Media</td>\n",
       "    </tr>\n",
       "    <tr>\n",
       "      <th>8037</th>\n",
       "      <td>8038</td>\n",
       "      <td>B</td>\n",
       "      <td>Navio</td>\n",
       "      <td>4</td>\n",
       "      <td>2</td>\n",
       "      <td>250</td>\n",
       "      <td>5</td>\n",
       "      <td>media</td>\n",
       "      <td>M</td>\n",
       "      <td>10</td>\n",
       "      <td>1026</td>\n",
       "      <td>1</td>\n",
       "      <td>Não Houve Atraso</td>\n",
       "      <td>Não Houve Atraso</td>\n",
       "      <td>Desconto Abaixo da Media</td>\n",
       "      <td>Entrega no Prazo com Desconto Abaixo da Media</td>\n",
       "    </tr>\n",
       "    <tr>\n",
       "      <th>2147</th>\n",
       "      <td>2148</td>\n",
       "      <td>F</td>\n",
       "      <td>Navio</td>\n",
       "      <td>3</td>\n",
       "      <td>4</td>\n",
       "      <td>150</td>\n",
       "      <td>3</td>\n",
       "      <td>media</td>\n",
       "      <td>M</td>\n",
       "      <td>47</td>\n",
       "      <td>1511</td>\n",
       "      <td>1</td>\n",
       "      <td>Não Houve Atraso</td>\n",
       "      <td>Não Houve Atraso</td>\n",
       "      <td>Desconto Acima da Media</td>\n",
       "      <td>Entrega no Prazo com Desconto Acima da Media</td>\n",
       "    </tr>\n",
       "    <tr>\n",
       "      <th>5163</th>\n",
       "      <td>5164</td>\n",
       "      <td>B</td>\n",
       "      <td>Navio</td>\n",
       "      <td>4</td>\n",
       "      <td>5</td>\n",
       "      <td>154</td>\n",
       "      <td>3</td>\n",
       "      <td>media</td>\n",
       "      <td>F</td>\n",
       "      <td>9</td>\n",
       "      <td>5489</td>\n",
       "      <td>1</td>\n",
       "      <td>Não Houve Atraso</td>\n",
       "      <td>Não Houve Atraso</td>\n",
       "      <td>Desconto Abaixo da Media</td>\n",
       "      <td>Entrega no Prazo com Desconto Abaixo da Media</td>\n",
       "    </tr>\n",
       "    <tr>\n",
       "      <th>151</th>\n",
       "      <td>152</td>\n",
       "      <td>F</td>\n",
       "      <td>Aviao</td>\n",
       "      <td>5</td>\n",
       "      <td>3</td>\n",
       "      <td>98</td>\n",
       "      <td>5</td>\n",
       "      <td>media</td>\n",
       "      <td>M</td>\n",
       "      <td>44</td>\n",
       "      <td>1269</td>\n",
       "      <td>1</td>\n",
       "      <td>Não Houve Atraso</td>\n",
       "      <td>Não Houve Atraso</td>\n",
       "      <td>Desconto Acima da Media</td>\n",
       "      <td>Entrega no Prazo com Desconto Acima da Media</td>\n",
       "    </tr>\n",
       "  </tbody>\n",
       "</table>\n",
       "</div>"
      ],
      "text/plain": [
       "        ID corredor_armazem modo_envio  numero_chamadas_cliente  \\\n",
       "9925  9926                F      Navio                        6   \n",
       "6427  6428                F   Caminhao                        3   \n",
       "4783  4784                F   Caminhao                        3   \n",
       "1228  1229                C      Aviao                        6   \n",
       "2000  2001                A      Navio                        4   \n",
       "8413  8414                F      Navio                        4   \n",
       "8037  8038                B      Navio                        4   \n",
       "2147  2148                F      Navio                        3   \n",
       "5163  5164                B      Navio                        4   \n",
       "151    152                F      Aviao                        5   \n",
       "\n",
       "      avaliacao_cliente  custo_produto  compras_anteriores prioridade_produto  \\\n",
       "9925                  3            247                   4              media   \n",
       "6427                  5            172                   3              media   \n",
       "4783                  1            221                   2              baixa   \n",
       "1228                  1            136                   3               alta   \n",
       "2000                  3            135                   3              media   \n",
       "8413                  3            257                   3              baixa   \n",
       "8037                  2            250                   5              media   \n",
       "2147                  4            150                   3              media   \n",
       "5163                  5            154                   3              media   \n",
       "151                   3             98                   5              media   \n",
       "\n",
       "     genero  desconto  peso_gramas  entregue_no_prazo  \\\n",
       "9925      M         7         1626                  1   \n",
       "6427      M         1         5024                  1   \n",
       "4783      F         7         5320                  0   \n",
       "1228      M        12         1592                  1   \n",
       "2000      F        11         1322                  1   \n",
       "8413      M         8         4447                  1   \n",
       "8037      M        10         1026                  1   \n",
       "2147      M        47         1511                  1   \n",
       "5163      F         9         5489                  1   \n",
       "151       M        44         1269                  1   \n",
       "\n",
       "     performance_prioridade_envio                    performance_modo_envio  \\\n",
       "9925             Não Houve Atraso                          Não Houve Atraso   \n",
       "6427             Não Houve Atraso                          Não Houve Atraso   \n",
       "4783             Atraso Tolerável  Atraso Tolerável na Entrega Por Caminhao   \n",
       "1228             Não Houve Atraso                          Não Houve Atraso   \n",
       "2000             Não Houve Atraso                          Não Houve Atraso   \n",
       "8413             Não Houve Atraso                          Não Houve Atraso   \n",
       "8037             Não Houve Atraso                          Não Houve Atraso   \n",
       "2147             Não Houve Atraso                          Não Houve Atraso   \n",
       "5163             Não Houve Atraso                          Não Houve Atraso   \n",
       "151              Não Houve Atraso                          Não Houve Atraso   \n",
       "\n",
       "                faixa_desconto                      performance_faixa_desconto  \n",
       "9925  Desconto Abaixo da Media   Entrega no Prazo com Desconto Abaixo da Media  \n",
       "6427  Desconto Abaixo da Media   Entrega no Prazo com Desconto Abaixo da Media  \n",
       "4783  Desconto Abaixo da Media  Atraso na Entrega com Desconto Abaixo da Media  \n",
       "1228   Desconto Acima da Media    Entrega no Prazo com Desconto Acima da Media  \n",
       "2000  Desconto Abaixo da Media   Entrega no Prazo com Desconto Abaixo da Media  \n",
       "8413  Desconto Abaixo da Media   Entrega no Prazo com Desconto Abaixo da Media  \n",
       "8037  Desconto Abaixo da Media   Entrega no Prazo com Desconto Abaixo da Media  \n",
       "2147   Desconto Acima da Media    Entrega no Prazo com Desconto Acima da Media  \n",
       "5163  Desconto Abaixo da Media   Entrega no Prazo com Desconto Abaixo da Media  \n",
       "151    Desconto Acima da Media    Entrega no Prazo com Desconto Acima da Media  "
      ]
     },
     "execution_count": 121,
     "metadata": {},
     "output_type": "execute_result"
    }
   ],
   "source": [
    "df_eng.sample(10)"
   ]
  },
  {
   "cell_type": "code",
   "execution_count": 123,
   "metadata": {},
   "outputs": [],
   "source": [
    "# Salva o dataframe\n",
    "df_eng.to_csv('dados/df_eng.csv', sep = ',', encoding = 'utf-8')\n",
    "\n",
    "#Salvar o Dataset limpo."
   ]
  },
  {
   "cell_type": "markdown",
   "metadata": {
    "id": "VmKPATOgP6BI"
   },
   "source": [
    "# Fim"
   ]
  },
  {
   "cell_type": "code",
   "execution_count": null,
   "metadata": {},
   "outputs": [],
   "source": []
  }
 ],
 "metadata": {
  "colab": {
   "collapsed_sections": [],
   "name": "Stage 2 Final Project - W3.Solutions().ipynb",
   "provenance": []
  },
  "kernelspec": {
   "display_name": "Python 3",
   "language": "python",
   "name": "python3"
  },
  "language_info": {
   "codemirror_mode": {
    "name": "ipython",
    "version": 3
   },
   "file_extension": ".py",
   "mimetype": "text/x-python",
   "name": "python",
   "nbconvert_exporter": "python",
   "pygments_lexer": "ipython3",
   "version": "3.7.4"
  }
 },
 "nbformat": 4,
 "nbformat_minor": 5
}
