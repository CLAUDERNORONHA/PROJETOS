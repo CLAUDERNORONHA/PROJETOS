{
  "nbformat": 4,
  "nbformat_minor": 0,
  "metadata": {
    "colab": {
      "name": "LAMBDA_MAP.ipynb",
      "provenance": [],
      "collapsed_sections": [],
      "authorship_tag": "ABX9TyOsioR3ubY+iJ5LVIijvz3S",
      "include_colab_link": true
    },
    "kernelspec": {
      "name": "python3",
      "display_name": "Python 3"
    }
  },
  "cells": [
    {
      "cell_type": "markdown",
      "metadata": {
        "id": "view-in-github",
        "colab_type": "text"
      },
      "source": [
        "<a href=\"https://colab.research.google.com/github/CLAUDERNORONHA/ABERTO/blob/master/LAMBDA_MAP.ipynb\" target=\"_parent\"><img src=\"https://colab.research.google.com/assets/colab-badge.svg\" alt=\"Open In Colab\"/></a>"
      ]
    },
    {
      "cell_type": "code",
      "metadata": {
        "id": "Q1zUmEDjxdYm"
      },
      "source": [
        ""
      ],
      "execution_count": null,
      "outputs": []
    },
    {
      "cell_type": "markdown",
      "metadata": {
        "id": "OpTvpqfdzY5b"
      },
      "source": [
        "Mapa\n",
        "\n",
        "\n",
        "A função de mapa em Python pega listas e uma função e retorna a lista, modificada pela função. Vamos trabalhar em alguns exemplos. Aqui estão três listas a, b e c.\n",
        "**bold text**"
      ]
    },
    {
      "cell_type": "code",
      "metadata": {
        "id": "TMDGhQJGzaqw"
      },
      "source": [
        "a = [3,4,5,2,7,8]\n",
        "b = [7,9,2,4,5,1]\n",
        "c = [5,7,3,4,5,9]"
      ],
      "execution_count": 1,
      "outputs": []
    },
    {
      "cell_type": "code",
      "metadata": {
        "id": "Uuf8oO0ezqji",
        "outputId": "8490e4ee-9455-44d1-b533-279420a7b488",
        "colab": {
          "base_uri": "https://localhost:8080/",
          "height": 33
        }
      },
      "source": [
        "print(a,b)"
      ],
      "execution_count": 2,
      "outputs": [
        {
          "output_type": "stream",
          "text": [
            "[3, 4, 5, 2, 7, 8] [7, 9, 2, 4, 5, 1]\n"
          ],
          "name": "stdout"
        }
      ]
    },
    {
      "cell_type": "code",
      "metadata": {
        "id": "Dm8TuuZwzwpq"
      },
      "source": [
        ""
      ],
      "execution_count": 2,
      "outputs": []
    },
    {
      "cell_type": "code",
      "metadata": {
        "id": "TWdc32-Z7Jc3"
      },
      "source": [
        "#Somar valores das chaves\n",
        "\n",
        "res = []\n",
        "for i in range(0 , len(a)):\n",
        "   res.append(a[i] + b[i])"
      ],
      "execution_count": 3,
      "outputs": []
    },
    {
      "cell_type": "code",
      "metadata": {
        "id": "_KJo3WdS8evJ",
        "outputId": "a87c9238-a3ff-4ed5-edc7-df651246f7f3",
        "colab": {
          "base_uri": "https://localhost:8080/",
          "height": 33
        }
      },
      "source": [
        "res"
      ],
      "execution_count": 4,
      "outputs": [
        {
          "output_type": "execute_result",
          "data": {
            "text/plain": [
              "[10, 13, 7, 6, 12, 9]"
            ]
          },
          "metadata": {
            "tags": []
          },
          "execution_count": 4
        }
      ]
    },
    {
      "cell_type": "code",
      "metadata": {
        "id": "Hx-Vu8q_8srP"
      },
      "source": [
        ""
      ],
      "execution_count": 4,
      "outputs": []
    },
    {
      "cell_type": "markdown",
      "metadata": {
        "id": "pD1U4soy9Cp6"
      },
      "source": [
        "FILTER"
      ]
    },
    {
      "cell_type": "markdown",
      "metadata": {
        "id": "24CU_Rqs9CyA"
      },
      "source": [
        "O filtro recebe uma lista como argumento e uma função como expressão. Ele retorna a lista modificada após filtrar os elementos pela função. Aqui estão alguns exemplos.\n",
        "Retorne apenas o número maior que cinco em uma lista. Antes disso, faça uma nova lista c:"
      ]
    },
    {
      "cell_type": "code",
      "metadata": {
        "id": "XhQT-SeV9C3F",
        "outputId": "d7f4c366-cc38-4bc3-af93-6122e2b5e411",
        "colab": {
          "base_uri": "https://localhost:8080/",
          "height": 33
        }
      },
      "source": [
        "#Pegar os numeros maiores dentro da lista\n",
        "\n",
        "c = [4,2,9,6,10,4,1]\n",
        "list(filter(lambda x: x > 5, c))"
      ],
      "execution_count": 5,
      "outputs": [
        {
          "output_type": "execute_result",
          "data": {
            "text/plain": [
              "[9, 6, 10]"
            ]
          },
          "metadata": {
            "tags": []
          },
          "execution_count": 5
        }
      ]
    },
    {
      "cell_type": "markdown",
      "metadata": {
        "id": "viaD-fH29sIm"
      },
      "source": [
        "Aqui eu defini a função que retorna os números maiores que cinco e a lista c como um argumento.\n",
        "\n",
        "Veja, ele retornou todos os elementos de c maiores que 5.\n",
        "Vamos trabalhar em outro exemplo. \n",
        "\n",
        "Retorne apenas os números pares de uma lista. Desta vez vou passar a lista 'a'."
      ]
    },
    {
      "cell_type": "code",
      "metadata": {
        "id": "7bHsKldp9x9s",
        "outputId": "56813774-3c51-40ba-9674-0d6228d344ad",
        "colab": {
          "base_uri": "https://localhost:8080/",
          "height": 33
        }
      },
      "source": [
        "#Filtrar apenas os numeros pares dentro da lista.\n",
        "c = [4,2,9,6,10,4,1]\n",
        "list(filter(lambda x: x % 2 == 0 , c))"
      ],
      "execution_count": 6,
      "outputs": [
        {
          "output_type": "execute_result",
          "data": {
            "text/plain": [
              "[4, 2, 6, 10, 4]"
            ]
          },
          "metadata": {
            "tags": []
          },
          "execution_count": 6
        }
      ]
    },
    {
      "cell_type": "code",
      "metadata": {
        "id": "8AHXtnE_9yCj",
        "outputId": "4462d441-1a29-4771-ed16-b72bf3620908",
        "colab": {
          "base_uri": "https://localhost:8080/",
          "height": 33
        }
      },
      "source": [
        "# Filtrar apenas os numeros impar dentro da lista.\n",
        "\n",
        "list(filter(lambda x: x % 2 == 1, c))"
      ],
      "execution_count": 7,
      "outputs": [
        {
          "output_type": "execute_result",
          "data": {
            "text/plain": [
              "[9, 1]"
            ]
          },
          "metadata": {
            "tags": []
          },
          "execution_count": 7
        }
      ]
    },
    {
      "cell_type": "code",
      "metadata": {
        "id": "W12JduDq9yHG"
      },
      "source": [
        ""
      ],
      "execution_count": 7,
      "outputs": []
    },
    {
      "cell_type": "markdown",
      "metadata": {
        "id": "6LAONJor9yLR"
      },
      "source": [
        "Podemos usar lambda e filtro em strings também.\n",
        "Todos os exemplos acima estão com números. Os próximos exemplos serão sobre strings. Aqui está uma lista de nomes:"
      ]
    },
    {
      "cell_type": "code",
      "metadata": {
        "id": "oRLOtYUx-0Cy"
      },
      "source": [
        "nomes = ['Abram', 'Arib', 'Bob', 'Shawn', 'Aria', 'Cicilia', 'John', 'Reema', 'Alice', 'Craig', 'Aaron', 'Simi' ]"
      ],
      "execution_count": 8,
      "outputs": []
    },
    {
      "cell_type": "code",
      "metadata": {
        "id": "v-gcYBGO-0Kr",
        "outputId": "e14ef374-eafb-42be-b638-dcd5904cc977",
        "colab": {
          "base_uri": "https://localhost:8080/",
          "height": 33
        }
      },
      "source": [
        "# Criamos uma função para pegar todos os nomes que começa com a letra A\n",
        "list(filter(lambda x: x [0] == 'A', nomes))"
      ],
      "execution_count": 9,
      "outputs": [
        {
          "output_type": "execute_result",
          "data": {
            "text/plain": [
              "['Abram', 'Arib', 'Aria', 'Alice', 'Aaron']"
            ]
          },
          "metadata": {
            "tags": []
          },
          "execution_count": 9
        }
      ]
    },
    {
      "cell_type": "code",
      "metadata": {
        "id": "q9R7eRH7-0PX"
      },
      "source": [
        ""
      ],
      "execution_count": 9,
      "outputs": []
    },
    {
      "cell_type": "markdown",
      "metadata": {
        "id": "C6NLmWVr_h4u"
      },
      "source": [
        "Ordenado\n",
        "\n",
        "\n",
        "\n",
        "A função classificada é uma maneira muito simples e fácil de classificar números ou strings por alfabetos. Alguns exemplos estão aqui:\n",
        "Classifique os nomes dos 'nomes' da lista acima pela primeira letra."
      ]
    },
    {
      "cell_type": "code",
      "metadata": {
        "id": "LTEj-EIh_h9l",
        "outputId": "54ebe69b-b58d-4707-d407-d5055ffdd193",
        "colab": {
          "base_uri": "https://localhost:8080/",
          "height": 216
        }
      },
      "source": [
        "sorted(nomes)"
      ],
      "execution_count": 10,
      "outputs": [
        {
          "output_type": "execute_result",
          "data": {
            "text/plain": [
              "['Aaron',\n",
              " 'Abram',\n",
              " 'Alice',\n",
              " 'Aria',\n",
              " 'Arib',\n",
              " 'Bob',\n",
              " 'Cicilia',\n",
              " 'Craig',\n",
              " 'John',\n",
              " 'Reema',\n",
              " 'Shawn',\n",
              " 'Simi']"
            ]
          },
          "metadata": {
            "tags": []
          },
          "execution_count": 10
        }
      ]
    },
    {
      "cell_type": "code",
      "metadata": {
        "id": "0KrOsYSZ_iC2",
        "outputId": "086c9c46-b0f3-42b7-9dbe-ada8a18af0f6",
        "colab": {
          "base_uri": "https://localhost:8080/",
          "height": 33
        }
      },
      "source": [
        "sorted(c)"
      ],
      "execution_count": 11,
      "outputs": [
        {
          "output_type": "execute_result",
          "data": {
            "text/plain": [
              "[1, 2, 4, 4, 6, 9, 10]"
            ]
          },
          "metadata": {
            "tags": []
          },
          "execution_count": 11
        }
      ]
    },
    {
      "cell_type": "code",
      "metadata": {
        "id": "mMKFi1vi_iHZ"
      },
      "source": [
        ""
      ],
      "execution_count": 11,
      "outputs": []
    },
    {
      "cell_type": "code",
      "metadata": {
        "id": "dlqciG1Q_4Fj"
      },
      "source": [
        ""
      ],
      "execution_count": 11,
      "outputs": []
    },
    {
      "cell_type": "markdown",
      "metadata": {
        "id": "6CU3NlE4_4Lp"
      },
      "source": [
        "Lambda, mapa, filtro e classificado com dicionários\n",
        "\n",
        "\n",
        "Trabalhar com dicionários é muito mais fácil e eficiente com lambda, mapear, filtrar e classificar.\n",
        "Aqui está uma lista com quatro dicionários. Cada dicionário consiste no nome de uma pessoa e sua idade."
      ]
    },
    {
      "cell_type": "code",
      "metadata": {
        "id": "shz8B-J9_4QU"
      },
      "source": [
        ""
      ],
      "execution_count": 11,
      "outputs": []
    },
    {
      "cell_type": "code",
      "metadata": {
        "id": "pJOWBmjw_8mn"
      },
      "source": [
        "dict_a = [{'nome': 'John','age': 12},\n",
        "          {'nome': 'Sonia','age':10},\n",
        "          {'nome': 'Stevan','age':13},\n",
        "          {'nome': 'Natasha','age':9}]"
      ],
      "execution_count": 12,
      "outputs": []
    },
    {
      "cell_type": "markdown",
      "metadata": {
        "id": "9lSwzKC-_8q3"
      },
      "source": [
        "RETORNE A LISTA APENAS DE NOMES "
      ]
    },
    {
      "cell_type": "code",
      "metadata": {
        "id": "2rVw14IE_8uj",
        "outputId": "91d6c08d-a638-487b-e380-7300fb1e47ce",
        "colab": {
          "base_uri": "https://localhost:8080/",
          "height": 33
        }
      },
      "source": [
        "list(map(lambda x: x ['nome'], dict_a))"
      ],
      "execution_count": 13,
      "outputs": [
        {
          "output_type": "execute_result",
          "data": {
            "text/plain": [
              "['John', 'Sonia', 'Stevan', 'Natasha']"
            ]
          },
          "metadata": {
            "tags": []
          },
          "execution_count": 13
        }
      ]
    },
    {
      "cell_type": "markdown",
      "metadata": {
        "id": "56IllEEVBHpz"
      },
      "source": [
        "RETORNE A LISTA COM AS IDADE"
      ]
    },
    {
      "cell_type": "code",
      "metadata": {
        "id": "U3zKoi1cBcCd",
        "outputId": "f006fcb4-c944-424d-9c92-ea6f94ba378f",
        "colab": {
          "base_uri": "https://localhost:8080/",
          "height": 33
        }
      },
      "source": [
        "list(map(lambda x: x['age'], dict_a))"
      ],
      "execution_count": 14,
      "outputs": [
        {
          "output_type": "execute_result",
          "data": {
            "text/plain": [
              "[12, 10, 13, 9]"
            ]
          },
          "metadata": {
            "tags": []
          },
          "execution_count": 14
        }
      ]
    },
    {
      "cell_type": "markdown",
      "metadata": {
        "id": "M8VdZIIbBcKZ"
      },
      "source": [
        "COLOCAR AS IDADES POR ORDEM ALFABETICA"
      ]
    },
    {
      "cell_type": "code",
      "metadata": {
        "id": "WRunkuNhBxWX",
        "outputId": "2c205011-e9c5-4bcb-cbce-63abe6e62075",
        "colab": {
          "base_uri": "https://localhost:8080/",
          "height": 33
        }
      },
      "source": [
        "sorted(list(map(lambda x: x['age'], dict_a)))"
      ],
      "execution_count": 15,
      "outputs": [
        {
          "output_type": "execute_result",
          "data": {
            "text/plain": [
              "[9, 10, 12, 13]"
            ]
          },
          "metadata": {
            "tags": []
          },
          "execution_count": 15
        }
      ]
    },
    {
      "cell_type": "code",
      "metadata": {
        "id": "8f_-ySM1Bxbu"
      },
      "source": [
        ""
      ],
      "execution_count": 15,
      "outputs": []
    },
    {
      "cell_type": "markdown",
      "metadata": {
        "id": "zDnA6EhqBxgW"
      },
      "source": [
        "Provavelmente, você pensa, é mais útil organizar todo o dict_a ordenado por idades. Nesse caso, precisamos apenas usar a chave com lambda:"
      ]
    },
    {
      "cell_type": "code",
      "metadata": {
        "id": "ppXXTgLoBxjn",
        "outputId": "6b4bb53c-a59e-4eba-c49b-34b43f2f35b5",
        "colab": {
          "base_uri": "https://localhost:8080/",
          "height": 83
        }
      },
      "source": [
        "sorted(dict_a, key = lambda x: x['age'])"
      ],
      "execution_count": 16,
      "outputs": [
        {
          "output_type": "execute_result",
          "data": {
            "text/plain": [
              "[{'age': 9, 'nome': 'Natasha'},\n",
              " {'age': 10, 'nome': 'Sonia'},\n",
              " {'age': 12, 'nome': 'John'},\n",
              " {'age': 13, 'nome': 'Stevan'}]"
            ]
          },
          "metadata": {
            "tags": []
          },
          "execution_count": 16
        }
      ]
    },
    {
      "cell_type": "markdown",
      "metadata": {
        "id": "7XSJyHZ2Cjob"
      },
      "source": [
        "PEGAR O MAIS NOVO DENTRO DO FILTRO "
      ]
    },
    {
      "cell_type": "code",
      "metadata": {
        "id": "3yraSREfDEQ_",
        "outputId": "dcdd03ac-9576-46c4-b19b-dc531397bd87",
        "colab": {
          "base_uri": "https://localhost:8080/",
          "height": 33
        }
      },
      "source": [
        "sorted(dict_a, key = lambda x: x['age'])[0]"
      ],
      "execution_count": 17,
      "outputs": [
        {
          "output_type": "execute_result",
          "data": {
            "text/plain": [
              "{'age': 9, 'nome': 'Natasha'}"
            ]
          },
          "metadata": {
            "tags": []
          },
          "execution_count": 17
        }
      ]
    },
    {
      "cell_type": "markdown",
      "metadata": {
        "id": "HH5saZ6JDEVm"
      },
      "source": [
        "INFORMAÇÃO COM CRIANÇA MAIS VELHA"
      ]
    },
    {
      "cell_type": "code",
      "metadata": {
        "id": "Jbk54yNODEZj",
        "outputId": "3a0a98e5-2715-4e06-cb7a-0a85704ad922",
        "colab": {
          "base_uri": "https://localhost:8080/",
          "height": 33
        }
      },
      "source": [
        "sorted(dict_a, key = lambda x: x['age'])[-1]"
      ],
      "execution_count": 18,
      "outputs": [
        {
          "output_type": "execute_result",
          "data": {
            "text/plain": [
              "{'age': 13, 'nome': 'Stevan'}"
            ]
          },
          "metadata": {
            "tags": []
          },
          "execution_count": 18
        }
      ]
    },
    {
      "cell_type": "code",
      "metadata": {
        "id": "vvBbIAG8DEdW"
      },
      "source": [
        ""
      ],
      "execution_count": 18,
      "outputs": []
    },
    {
      "cell_type": "markdown",
      "metadata": {
        "id": "2cj6muBuDEg6"
      },
      "source": [
        "Em vez de ordem crescente, se precisarmos que a lista esteja em ordem decrescente:"
      ]
    },
    {
      "cell_type": "code",
      "metadata": {
        "id": "TZ_WkEg4vutq",
        "outputId": "09a38887-ee89-4c7d-c875-80692ffdcac4",
        "colab": {
          "base_uri": "https://localhost:8080/",
          "height": 83
        }
      },
      "source": [
        "sorted(dict_a, key = lambda x: x ['age'], reverse= True )"
      ],
      "execution_count": 20,
      "outputs": [
        {
          "output_type": "execute_result",
          "data": {
            "text/plain": [
              "[{'age': 13, 'nome': 'Stevan'},\n",
              " {'age': 12, 'nome': 'John'},\n",
              " {'age': 10, 'nome': 'Sonia'},\n",
              " {'age': 9, 'nome': 'Natasha'}]"
            ]
          },
          "metadata": {
            "tags": []
          },
          "execution_count": 20
        }
      ]
    },
    {
      "cell_type": "markdown",
      "metadata": {
        "id": "145EC1QDvu0W"
      },
      "source": [
        "Ou, se você deseja classificar pelos nomes em ordem alfabética:"
      ]
    },
    {
      "cell_type": "code",
      "metadata": {
        "id": "0BuST4rbvu4n",
        "outputId": "bb29f2ac-f0ba-4345-872b-f4d595dcb5c3",
        "colab": {
          "base_uri": "https://localhost:8080/",
          "height": 83
        }
      },
      "source": [
        "sorted(dict_a, key = lambda x: x['nome'])"
      ],
      "execution_count": 21,
      "outputs": [
        {
          "output_type": "execute_result",
          "data": {
            "text/plain": [
              "[{'age': 12, 'nome': 'John'},\n",
              " {'age': 9, 'nome': 'Natasha'},\n",
              " {'age': 10, 'nome': 'Sonia'},\n",
              " {'age': 13, 'nome': 'Stevan'}]"
            ]
          },
          "metadata": {
            "tags": []
          },
          "execution_count": 21
        }
      ]
    },
    {
      "cell_type": "markdown",
      "metadata": {
        "id": "yti2ytGN1nDW"
      },
      "source": [
        "Envie as informações das crianças com mais de 10 anos:"
      ]
    },
    {
      "cell_type": "code",
      "metadata": {
        "id": "AsAOeUZG1ufz",
        "outputId": "b625fdd1-2d54-4857-a371-c1359606db43",
        "colab": {
          "base_uri": "https://localhost:8080/",
          "height": 33
        }
      },
      "source": [
        "list(filter(lambda x: x['age'] > 10, dict_a))"
      ],
      "execution_count": 22,
      "outputs": [
        {
          "output_type": "execute_result",
          "data": {
            "text/plain": [
              "[{'age': 12, 'nome': 'John'}, {'age': 13, 'nome': 'Stevan'}]"
            ]
          },
          "metadata": {
            "tags": []
          },
          "execution_count": 22
        }
      ]
    },
    {
      "cell_type": "code",
      "metadata": {
        "id": "4_yNChOP1urf"
      },
      "source": [
        ""
      ],
      "execution_count": null,
      "outputs": []
    },
    {
      "cell_type": "markdown",
      "metadata": {
        "id": "qaLkr1ky1uzo"
      },
      "source": [
        "Depois de três anos, você está devolvendo as idades das crianças. Então, basta adicionar 3 para cada idade:"
      ]
    },
    {
      "cell_type": "code",
      "metadata": {
        "id": "IpaZru2W1u8m",
        "outputId": "d22d528a-5fdb-4e47-ad46-3a533e9657a3",
        "colab": {
          "base_uri": "https://localhost:8080/",
          "height": 127
        }
      },
      "source": [
        "list(map(lambda x: x['age'] + 3, dict_a)) Output:[15,13,16,12]"
      ],
      "execution_count": 26,
      "outputs": [
        {
          "output_type": "error",
          "ename": "SyntaxError",
          "evalue": "ignored",
          "traceback": [
            "\u001b[0;36m  File \u001b[0;32m\"<ipython-input-26-efdb63c5929a>\"\u001b[0;36m, line \u001b[0;32m1\u001b[0m\n\u001b[0;31m    list(map(lambda x: x['age'] + 3, dict_a)) Output:[15,13,16,12]\u001b[0m\n\u001b[0m                                                   ^\u001b[0m\n\u001b[0;31mSyntaxError\u001b[0m\u001b[0;31m:\u001b[0m invalid syntax\n"
          ]
        }
      ]
    },
    {
      "cell_type": "code",
      "metadata": {
        "id": "DIqOujcK28v8"
      },
      "source": [
        ""
      ],
      "execution_count": null,
      "outputs": []
    }
  ]
}