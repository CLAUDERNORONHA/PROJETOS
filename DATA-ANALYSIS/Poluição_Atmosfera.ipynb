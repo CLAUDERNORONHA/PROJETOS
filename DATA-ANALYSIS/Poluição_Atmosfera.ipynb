{
  "nbformat": 4,
  "nbformat_minor": 0,
  "metadata": {
    "colab": {
      "name": "Poluição_Atmosfera.ipynb",
      "provenance": [],
      "collapsed_sections": [],
      "mount_file_id": "1lJAZUylRbwPDLu10KixedwOm4nTcXrXL",
      "authorship_tag": "ABX9TyNW6AZOw/hK7W4rblIu1Zsc",
      "include_colab_link": true
    },
    "kernelspec": {
      "name": "python3",
      "display_name": "Python 3"
    },
    "language_info": {
      "name": "python"
    }
  },
  "cells": [
    {
      "cell_type": "markdown",
      "metadata": {
        "id": "view-in-github",
        "colab_type": "text"
      },
      "source": [
        "<a href=\"https://colab.research.google.com/github/CLAUDERNORONHA/ABERTO/blob/master/Polui%C3%A7%C3%A3o_Atmosfera.ipynb\" target=\"_parent\"><img src=\"https://colab.research.google.com/assets/colab-badge.svg\" alt=\"Open In Colab\"/></a>"
      ]
    },
    {
      "cell_type": "markdown",
      "metadata": {
        "id": "XfDUIu9bxDLo"
      },
      "source": [
        "Você pode ter visto artigos de notícias recentes afirmando que a qualidade do ar melhorou devido ao COVID-19.\n",
        "\n",
        "Isso é verdade para alguns locais, mas como sempre a verdade é um pouco mais complicada. **Em partes de muitas cidades, a qualidade do ar parece piorar à medida que mais pessoas ficam em casa. **\n",
        "\n",
        "Para este desafio, vamos nos aprofundar nos dados, encontrando **maneiras de rastrear a qualidade do ar** e como ela está mudando, mesmo em lugares sem sensores baseados no solo(ground-based sensors). \n",
        "\n",
        "Esta informação será especialmente útil em face da crise atual, **uma vez que a má qualidade do ar torna uma doença respiratória como a COVID-19 mais perigosa**.\n",
        "\n",
        "**Coletamos dados meteorológicos e observações diárias do satélite Sentinel 5P** rastreando vários poluentes na atmosfera. \n",
        "\n",
        "Um dos grandes objetivos dos Cientistas de Dados é usar essas informações para prever a concentração de partículas PM2.5 (uma medida comum da qualidade do ar que normalmente requer sensores baseados no solo para medir) todos os dias para cada cidade, nos últimos três meses, abrangendo centenas de cidades em todo o mundo."
      ]
    },
    {
      "cell_type": "markdown",
      "metadata": {
        "id": "vVwOKaIbxDQh"
      },
      "source": [
        "#Fonte de dados\n",
        "https://bit.ly/2Xasezb\n",
        "\n",
        "O conjunto de dados consiste em determinados parâmetros, como umidade, velocidade e direção do vento, temperatura, visibilidade e muito mais em uma data específica em um horário mencionado.\n",
        "\n",
        "Os benefícios de praticar este problema usando técnicas de aprendizado de máquina são os seguintes:\n",
        "\n",
        "Este desafio o incentivará a aplicar suas habilidades de aprendizado de máquina para construir modelos que possam prever o índice de poluição do ar com base em dados históricos do clima\n",
        "Este desafio o ajudará a aprimorar seu conhecimento sobre regressão baseada em séries temporais. A regressão é um dos blocos de construção básicos do aprendizado de máquina\n",
        "Desafiamos você a construir um modelo que preveja o índice de poluição do ar em um dia específico no futuro."
      ]
    },
    {
      "cell_type": "code",
      "metadata": {
        "id": "f4tq5W-mv2QQ"
      },
      "source": [
        "import pandas as pd\n",
        "import numpy as np\n",
        "import matplotlib.pyplot as plt\n",
        "import seaborn as sns\n",
        "\n",
        "\n",
        "from sklearn.preprocessing import LabelEncoder\n"
      ],
      "execution_count": 35,
      "outputs": []
    },
    {
      "cell_type": "code",
      "metadata": {
        "id": "p01_FgUaxDU3"
      },
      "source": [
        "test  = pd.read_csv('/content/drive/MyDrive/1-CIENCIA DE DADOS-CURSOS_ESTUDO DE CASO/ESTUDO DE CASO/Poluição atmosfera/test.csv')\n",
        "train = pd.read_csv('/content/drive/MyDrive/1-CIENCIA DE DADOS-CURSOS_ESTUDO DE CASO/ESTUDO DE CASO/Poluição atmosfera/train.csv')"
      ],
      "execution_count": 2,
      "outputs": []
    },
    {
      "cell_type": "code",
      "metadata": {
        "colab": {
          "base_uri": "https://localhost:8080/"
        },
        "id": "WaXPuubixDZC",
        "outputId": "810f72ae-e974-4396-ca84-e4bdac8e4c8b"
      },
      "source": [
        "train.info()"
      ],
      "execution_count": 3,
      "outputs": [
        {
          "output_type": "stream",
          "name": "stdout",
          "text": [
            "<class 'pandas.core.frame.DataFrame'>\n",
            "RangeIndex: 33750 entries, 0 to 33749\n",
            "Data columns (total 14 columns):\n",
            " #   Column               Non-Null Count  Dtype  \n",
            "---  ------               --------------  -----  \n",
            " 0   date_time            33750 non-null  object \n",
            " 1   is_holiday           33750 non-null  object \n",
            " 2   humidity             33750 non-null  int64  \n",
            " 3   wind_speed           33750 non-null  int64  \n",
            " 4   wind_direction       33750 non-null  int64  \n",
            " 5   visibility_in_miles  33750 non-null  int64  \n",
            " 6   dew_point            33750 non-null  int64  \n",
            " 7   temperature          33750 non-null  float64\n",
            " 8   rain_p_h             33750 non-null  float64\n",
            " 9   snow_p_h             33750 non-null  float64\n",
            " 10  clouds_all           33750 non-null  int64  \n",
            " 11  weather_type         33750 non-null  object \n",
            " 12  air_pollution_index  33750 non-null  int64  \n",
            " 13  traffic_volume       33750 non-null  int64  \n",
            "dtypes: float64(3), int64(8), object(3)\n",
            "memory usage: 3.6+ MB\n"
          ]
        }
      ]
    },
    {
      "cell_type": "code",
      "metadata": {
        "colab": {
          "base_uri": "https://localhost:8080/"
        },
        "id": "admJMW-axDca",
        "outputId": "984b13a6-8d37-4998-d592-2df30a3e8606"
      },
      "source": [
        "test.info()"
      ],
      "execution_count": 4,
      "outputs": [
        {
          "output_type": "stream",
          "name": "stdout",
          "text": [
            "<class 'pandas.core.frame.DataFrame'>\n",
            "RangeIndex: 14454 entries, 0 to 14453\n",
            "Data columns (total 13 columns):\n",
            " #   Column               Non-Null Count  Dtype  \n",
            "---  ------               --------------  -----  \n",
            " 0   date_time            14454 non-null  object \n",
            " 1   is_holiday           14454 non-null  object \n",
            " 2   humidity             14454 non-null  int64  \n",
            " 3   wind_speed           14454 non-null  int64  \n",
            " 4   wind_direction       14454 non-null  int64  \n",
            " 5   visibility_in_miles  14454 non-null  int64  \n",
            " 6   dew_point            14454 non-null  int64  \n",
            " 7   temperature          14454 non-null  float64\n",
            " 8   rain_p_h             14454 non-null  float64\n",
            " 9   snow_p_h             14454 non-null  int64  \n",
            " 10  clouds_all           14454 non-null  int64  \n",
            " 11  weather_type         14454 non-null  object \n",
            " 12  traffic_volume       14454 non-null  int64  \n",
            "dtypes: float64(2), int64(8), object(3)\n",
            "memory usage: 1.4+ MB\n"
          ]
        }
      ]
    },
    {
      "cell_type": "code",
      "metadata": {
        "colab": {
          "base_uri": "https://localhost:8080/",
          "height": 408
        },
        "id": "i4N4NzZy2Bgk",
        "outputId": "6294a8ab-462b-450a-e1a3-0e217ac9815e"
      },
      "source": [
        "train.head(100)"
      ],
      "execution_count": 5,
      "outputs": [
        {
          "output_type": "execute_result",
          "data": {
            "text/html": [
              "<div>\n",
              "<style scoped>\n",
              "    .dataframe tbody tr th:only-of-type {\n",
              "        vertical-align: middle;\n",
              "    }\n",
              "\n",
              "    .dataframe tbody tr th {\n",
              "        vertical-align: top;\n",
              "    }\n",
              "\n",
              "    .dataframe thead th {\n",
              "        text-align: right;\n",
              "    }\n",
              "</style>\n",
              "<table border=\"1\" class=\"dataframe\">\n",
              "  <thead>\n",
              "    <tr style=\"text-align: right;\">\n",
              "      <th></th>\n",
              "      <th>date_time</th>\n",
              "      <th>is_holiday</th>\n",
              "      <th>humidity</th>\n",
              "      <th>wind_speed</th>\n",
              "      <th>wind_direction</th>\n",
              "      <th>visibility_in_miles</th>\n",
              "      <th>dew_point</th>\n",
              "      <th>temperature</th>\n",
              "      <th>rain_p_h</th>\n",
              "      <th>snow_p_h</th>\n",
              "      <th>clouds_all</th>\n",
              "      <th>weather_type</th>\n",
              "      <th>air_pollution_index</th>\n",
              "      <th>traffic_volume</th>\n",
              "    </tr>\n",
              "  </thead>\n",
              "  <tbody>\n",
              "    <tr>\n",
              "      <th>0</th>\n",
              "      <td>2012-10-02 09:00:00</td>\n",
              "      <td>None</td>\n",
              "      <td>89</td>\n",
              "      <td>2</td>\n",
              "      <td>329</td>\n",
              "      <td>1</td>\n",
              "      <td>1</td>\n",
              "      <td>288.28</td>\n",
              "      <td>0.0</td>\n",
              "      <td>0.0</td>\n",
              "      <td>40</td>\n",
              "      <td>Clouds</td>\n",
              "      <td>121</td>\n",
              "      <td>5545</td>\n",
              "    </tr>\n",
              "    <tr>\n",
              "      <th>1</th>\n",
              "      <td>2012-10-02 10:00:00</td>\n",
              "      <td>None</td>\n",
              "      <td>67</td>\n",
              "      <td>3</td>\n",
              "      <td>330</td>\n",
              "      <td>1</td>\n",
              "      <td>1</td>\n",
              "      <td>289.36</td>\n",
              "      <td>0.0</td>\n",
              "      <td>0.0</td>\n",
              "      <td>75</td>\n",
              "      <td>Clouds</td>\n",
              "      <td>178</td>\n",
              "      <td>4516</td>\n",
              "    </tr>\n",
              "    <tr>\n",
              "      <th>2</th>\n",
              "      <td>2012-10-02 11:00:00</td>\n",
              "      <td>None</td>\n",
              "      <td>66</td>\n",
              "      <td>3</td>\n",
              "      <td>329</td>\n",
              "      <td>2</td>\n",
              "      <td>2</td>\n",
              "      <td>289.58</td>\n",
              "      <td>0.0</td>\n",
              "      <td>0.0</td>\n",
              "      <td>90</td>\n",
              "      <td>Clouds</td>\n",
              "      <td>113</td>\n",
              "      <td>4767</td>\n",
              "    </tr>\n",
              "    <tr>\n",
              "      <th>3</th>\n",
              "      <td>2012-10-02 12:00:00</td>\n",
              "      <td>None</td>\n",
              "      <td>66</td>\n",
              "      <td>3</td>\n",
              "      <td>329</td>\n",
              "      <td>5</td>\n",
              "      <td>5</td>\n",
              "      <td>290.13</td>\n",
              "      <td>0.0</td>\n",
              "      <td>0.0</td>\n",
              "      <td>90</td>\n",
              "      <td>Clouds</td>\n",
              "      <td>20</td>\n",
              "      <td>5026</td>\n",
              "    </tr>\n",
              "    <tr>\n",
              "      <th>4</th>\n",
              "      <td>2012-10-02 13:00:00</td>\n",
              "      <td>None</td>\n",
              "      <td>65</td>\n",
              "      <td>3</td>\n",
              "      <td>329</td>\n",
              "      <td>7</td>\n",
              "      <td>7</td>\n",
              "      <td>291.14</td>\n",
              "      <td>0.0</td>\n",
              "      <td>0.0</td>\n",
              "      <td>75</td>\n",
              "      <td>Clouds</td>\n",
              "      <td>281</td>\n",
              "      <td>4918</td>\n",
              "    </tr>\n",
              "    <tr>\n",
              "      <th>...</th>\n",
              "      <td>...</td>\n",
              "      <td>...</td>\n",
              "      <td>...</td>\n",
              "      <td>...</td>\n",
              "      <td>...</td>\n",
              "      <td>...</td>\n",
              "      <td>...</td>\n",
              "      <td>...</td>\n",
              "      <td>...</td>\n",
              "      <td>...</td>\n",
              "      <td>...</td>\n",
              "      <td>...</td>\n",
              "      <td>...</td>\n",
              "      <td>...</td>\n",
              "    </tr>\n",
              "    <tr>\n",
              "      <th>95</th>\n",
              "      <td>2012-10-06 15:00:00</td>\n",
              "      <td>None</td>\n",
              "      <td>70</td>\n",
              "      <td>5</td>\n",
              "      <td>240</td>\n",
              "      <td>5</td>\n",
              "      <td>5</td>\n",
              "      <td>280.00</td>\n",
              "      <td>0.0</td>\n",
              "      <td>0.0</td>\n",
              "      <td>75</td>\n",
              "      <td>Clouds</td>\n",
              "      <td>149</td>\n",
              "      <td>5153</td>\n",
              "    </tr>\n",
              "    <tr>\n",
              "      <th>96</th>\n",
              "      <td>2012-10-06 16:00:00</td>\n",
              "      <td>None</td>\n",
              "      <td>70</td>\n",
              "      <td>9</td>\n",
              "      <td>240</td>\n",
              "      <td>5</td>\n",
              "      <td>5</td>\n",
              "      <td>279.06</td>\n",
              "      <td>0.0</td>\n",
              "      <td>0.0</td>\n",
              "      <td>90</td>\n",
              "      <td>Clouds</td>\n",
              "      <td>77</td>\n",
              "      <td>5024</td>\n",
              "    </tr>\n",
              "    <tr>\n",
              "      <th>97</th>\n",
              "      <td>2012-10-06 17:00:00</td>\n",
              "      <td>None</td>\n",
              "      <td>70</td>\n",
              "      <td>8</td>\n",
              "      <td>250</td>\n",
              "      <td>1</td>\n",
              "      <td>1</td>\n",
              "      <td>278.91</td>\n",
              "      <td>0.0</td>\n",
              "      <td>0.0</td>\n",
              "      <td>90</td>\n",
              "      <td>Clouds</td>\n",
              "      <td>77</td>\n",
              "      <td>4779</td>\n",
              "    </tr>\n",
              "    <tr>\n",
              "      <th>98</th>\n",
              "      <td>2012-10-06 18:00:00</td>\n",
              "      <td>None</td>\n",
              "      <td>70</td>\n",
              "      <td>7</td>\n",
              "      <td>250</td>\n",
              "      <td>1</td>\n",
              "      <td>1</td>\n",
              "      <td>278.39</td>\n",
              "      <td>0.0</td>\n",
              "      <td>0.0</td>\n",
              "      <td>90</td>\n",
              "      <td>Clouds</td>\n",
              "      <td>178</td>\n",
              "      <td>4362</td>\n",
              "    </tr>\n",
              "    <tr>\n",
              "      <th>99</th>\n",
              "      <td>2012-10-06 19:00:00</td>\n",
              "      <td>None</td>\n",
              "      <td>61</td>\n",
              "      <td>9</td>\n",
              "      <td>250</td>\n",
              "      <td>8</td>\n",
              "      <td>8</td>\n",
              "      <td>278.16</td>\n",
              "      <td>0.0</td>\n",
              "      <td>0.0</td>\n",
              "      <td>90</td>\n",
              "      <td>Clouds</td>\n",
              "      <td>114</td>\n",
              "      <td>3860</td>\n",
              "    </tr>\n",
              "  </tbody>\n",
              "</table>\n",
              "<p>100 rows × 14 columns</p>\n",
              "</div>"
            ],
            "text/plain": [
              "              date_time is_holiday  ...  air_pollution_index  traffic_volume\n",
              "0   2012-10-02 09:00:00       None  ...                  121            5545\n",
              "1   2012-10-02 10:00:00       None  ...                  178            4516\n",
              "2   2012-10-02 11:00:00       None  ...                  113            4767\n",
              "3   2012-10-02 12:00:00       None  ...                   20            5026\n",
              "4   2012-10-02 13:00:00       None  ...                  281            4918\n",
              "..                  ...        ...  ...                  ...             ...\n",
              "95  2012-10-06 15:00:00       None  ...                  149            5153\n",
              "96  2012-10-06 16:00:00       None  ...                   77            5024\n",
              "97  2012-10-06 17:00:00       None  ...                   77            4779\n",
              "98  2012-10-06 18:00:00       None  ...                  178            4362\n",
              "99  2012-10-06 19:00:00       None  ...                  114            3860\n",
              "\n",
              "[100 rows x 14 columns]"
            ]
          },
          "metadata": {},
          "execution_count": 5
        }
      ]
    },
    {
      "cell_type": "code",
      "metadata": {
        "colab": {
          "base_uri": "https://localhost:8080/",
          "height": 290
        },
        "id": "VWM20sEZ2Bkl",
        "outputId": "c8c0dcdd-15bb-4977-97b4-6f0f88084073"
      },
      "source": [
        "train.describe()"
      ],
      "execution_count": 6,
      "outputs": [
        {
          "output_type": "execute_result",
          "data": {
            "text/html": [
              "<div>\n",
              "<style scoped>\n",
              "    .dataframe tbody tr th:only-of-type {\n",
              "        vertical-align: middle;\n",
              "    }\n",
              "\n",
              "    .dataframe tbody tr th {\n",
              "        vertical-align: top;\n",
              "    }\n",
              "\n",
              "    .dataframe thead th {\n",
              "        text-align: right;\n",
              "    }\n",
              "</style>\n",
              "<table border=\"1\" class=\"dataframe\">\n",
              "  <thead>\n",
              "    <tr style=\"text-align: right;\">\n",
              "      <th></th>\n",
              "      <th>humidity</th>\n",
              "      <th>wind_speed</th>\n",
              "      <th>wind_direction</th>\n",
              "      <th>visibility_in_miles</th>\n",
              "      <th>dew_point</th>\n",
              "      <th>temperature</th>\n",
              "      <th>rain_p_h</th>\n",
              "      <th>snow_p_h</th>\n",
              "      <th>clouds_all</th>\n",
              "      <th>air_pollution_index</th>\n",
              "      <th>traffic_volume</th>\n",
              "    </tr>\n",
              "  </thead>\n",
              "  <tbody>\n",
              "    <tr>\n",
              "      <th>count</th>\n",
              "      <td>33750.000000</td>\n",
              "      <td>33750.000000</td>\n",
              "      <td>33750.000000</td>\n",
              "      <td>33750.000000</td>\n",
              "      <td>33750.000000</td>\n",
              "      <td>33750.000000</td>\n",
              "      <td>33750.000000</td>\n",
              "      <td>33750.000000</td>\n",
              "      <td>33750.000000</td>\n",
              "      <td>33750.000000</td>\n",
              "      <td>33750.000000</td>\n",
              "    </tr>\n",
              "    <tr>\n",
              "      <th>mean</th>\n",
              "      <td>71.209007</td>\n",
              "      <td>3.378193</td>\n",
              "      <td>199.471852</td>\n",
              "      <td>4.989748</td>\n",
              "      <td>4.989748</td>\n",
              "      <td>280.069587</td>\n",
              "      <td>0.448739</td>\n",
              "      <td>0.000318</td>\n",
              "      <td>50.458785</td>\n",
              "      <td>154.841422</td>\n",
              "      <td>3240.118163</td>\n",
              "    </tr>\n",
              "    <tr>\n",
              "      <th>std</th>\n",
              "      <td>16.852248</td>\n",
              "      <td>2.055792</td>\n",
              "      <td>99.841088</td>\n",
              "      <td>2.570021</td>\n",
              "      <td>2.570021</td>\n",
              "      <td>13.415256</td>\n",
              "      <td>53.526500</td>\n",
              "      <td>0.009760</td>\n",
              "      <td>38.871734</td>\n",
              "      <td>83.735515</td>\n",
              "      <td>1991.487289</td>\n",
              "    </tr>\n",
              "    <tr>\n",
              "      <th>min</th>\n",
              "      <td>13.000000</td>\n",
              "      <td>0.000000</td>\n",
              "      <td>0.000000</td>\n",
              "      <td>1.000000</td>\n",
              "      <td>1.000000</td>\n",
              "      <td>0.000000</td>\n",
              "      <td>0.000000</td>\n",
              "      <td>0.000000</td>\n",
              "      <td>0.000000</td>\n",
              "      <td>10.000000</td>\n",
              "      <td>0.000000</td>\n",
              "    </tr>\n",
              "    <tr>\n",
              "      <th>25%</th>\n",
              "      <td>60.000000</td>\n",
              "      <td>2.000000</td>\n",
              "      <td>130.000000</td>\n",
              "      <td>3.000000</td>\n",
              "      <td>3.000000</td>\n",
              "      <td>271.720000</td>\n",
              "      <td>0.000000</td>\n",
              "      <td>0.000000</td>\n",
              "      <td>1.000000</td>\n",
              "      <td>83.000000</td>\n",
              "      <td>1165.250000</td>\n",
              "    </tr>\n",
              "    <tr>\n",
              "      <th>50%</th>\n",
              "      <td>72.000000</td>\n",
              "      <td>3.000000</td>\n",
              "      <td>200.000000</td>\n",
              "      <td>5.000000</td>\n",
              "      <td>5.000000</td>\n",
              "      <td>280.150000</td>\n",
              "      <td>0.000000</td>\n",
              "      <td>0.000000</td>\n",
              "      <td>64.000000</td>\n",
              "      <td>155.000000</td>\n",
              "      <td>3335.000000</td>\n",
              "    </tr>\n",
              "    <tr>\n",
              "      <th>75%</th>\n",
              "      <td>85.000000</td>\n",
              "      <td>5.000000</td>\n",
              "      <td>290.000000</td>\n",
              "      <td>7.000000</td>\n",
              "      <td>7.000000</td>\n",
              "      <td>290.620000</td>\n",
              "      <td>0.000000</td>\n",
              "      <td>0.000000</td>\n",
              "      <td>90.000000</td>\n",
              "      <td>228.000000</td>\n",
              "      <td>4926.000000</td>\n",
              "    </tr>\n",
              "    <tr>\n",
              "      <th>max</th>\n",
              "      <td>100.000000</td>\n",
              "      <td>16.000000</td>\n",
              "      <td>360.000000</td>\n",
              "      <td>9.000000</td>\n",
              "      <td>9.000000</td>\n",
              "      <td>308.240000</td>\n",
              "      <td>9831.300000</td>\n",
              "      <td>0.510000</td>\n",
              "      <td>100.000000</td>\n",
              "      <td>299.000000</td>\n",
              "      <td>7280.000000</td>\n",
              "    </tr>\n",
              "  </tbody>\n",
              "</table>\n",
              "</div>"
            ],
            "text/plain": [
              "           humidity    wind_speed  ...  air_pollution_index  traffic_volume\n",
              "count  33750.000000  33750.000000  ...         33750.000000    33750.000000\n",
              "mean      71.209007      3.378193  ...           154.841422     3240.118163\n",
              "std       16.852248      2.055792  ...            83.735515     1991.487289\n",
              "min       13.000000      0.000000  ...            10.000000        0.000000\n",
              "25%       60.000000      2.000000  ...            83.000000     1165.250000\n",
              "50%       72.000000      3.000000  ...           155.000000     3335.000000\n",
              "75%       85.000000      5.000000  ...           228.000000     4926.000000\n",
              "max      100.000000     16.000000  ...           299.000000     7280.000000\n",
              "\n",
              "[8 rows x 11 columns]"
            ]
          },
          "metadata": {},
          "execution_count": 6
        }
      ]
    },
    {
      "cell_type": "code",
      "metadata": {
        "colab": {
          "base_uri": "https://localhost:8080/",
          "height": 352
        },
        "id": "0gisOWIU2Bsi",
        "outputId": "676aca15-b317-40ba-ea44-77a1f3e37f20"
      },
      "source": [
        "#Matriz de correlação \n",
        "sns.heatmap(train.corr());"
      ],
      "execution_count": 12,
      "outputs": [
        {
          "output_type": "display_data",
          "data": {
            "image/png": "[encoded data removed]",
            "text/plain": [
              "<Figure size 432x288 with 2 Axes>"
            ]
          },
          "metadata": {
            "needs_background": "light"
          }
        }
      ]
    },
    {
      "cell_type": "code",
      "metadata": {
        "colab": {
          "base_uri": "https://localhost:8080/",
          "height": 265
        },
        "id": "ztq3RBFX2Bo_",
        "outputId": "e3832ff5-5f1f-46c5-fdd0-9eab94e02736"
      },
      "source": [
        "sns.boxplot(data = train['clouds_all'], orient = 'h');  "
      ],
      "execution_count": 10,
      "outputs": [
        {
          "output_type": "display_data",
          "data": {
            "image/png": "[encoded data removed]",
            "text/plain": [
              "<Figure size 432x288 with 1 Axes>"
            ]
          },
          "metadata": {
            "needs_background": "light"
          }
        }
      ]
    },
    {
      "cell_type": "code",
      "metadata": {
        "colab": {
          "base_uri": "https://localhost:8080/",
          "height": 265
        },
        "id": "hxI9dFYx2Bv4",
        "outputId": "3eb98c7e-840e-4f04-d818-8fb93fbe7c6a"
      },
      "source": [
        "#Indice de poluição do AR\n",
        "\n",
        "sns.boxplot(data = train['air_pollution_index'], orient='h');"
      ],
      "execution_count": 14,
      "outputs": [
        {
          "output_type": "display_data",
          "data": {
            "image/png": "[encoded data removed]",
            "text/plain": [
              "<Figure size 432x288 with 1 Axes>"
            ]
          },
          "metadata": {
            "needs_background": "light"
          }
        }
      ]
    },
    {
      "cell_type": "code",
      "metadata": {
        "colab": {
          "base_uri": "https://localhost:8080/",
          "height": 290
        },
        "id": "VINq2QXx3rYQ",
        "outputId": "27408d8c-5256-4bb1-9680-e1d9dcf1e08f"
      },
      "source": [
        "train.describe()"
      ],
      "execution_count": 15,
      "outputs": [
        {
          "output_type": "execute_result",
          "data": {
            "text/html": [
              "<div>\n",
              "<style scoped>\n",
              "    .dataframe tbody tr th:only-of-type {\n",
              "        vertical-align: middle;\n",
              "    }\n",
              "\n",
              "    .dataframe tbody tr th {\n",
              "        vertical-align: top;\n",
              "    }\n",
              "\n",
              "    .dataframe thead th {\n",
              "        text-align: right;\n",
              "    }\n",
              "</style>\n",
              "<table border=\"1\" class=\"dataframe\">\n",
              "  <thead>\n",
              "    <tr style=\"text-align: right;\">\n",
              "      <th></th>\n",
              "      <th>humidity</th>\n",
              "      <th>wind_speed</th>\n",
              "      <th>wind_direction</th>\n",
              "      <th>visibility_in_miles</th>\n",
              "      <th>dew_point</th>\n",
              "      <th>temperature</th>\n",
              "      <th>rain_p_h</th>\n",
              "      <th>snow_p_h</th>\n",
              "      <th>clouds_all</th>\n",
              "      <th>air_pollution_index</th>\n",
              "      <th>traffic_volume</th>\n",
              "    </tr>\n",
              "  </thead>\n",
              "  <tbody>\n",
              "    <tr>\n",
              "      <th>count</th>\n",
              "      <td>33750.000000</td>\n",
              "      <td>33750.000000</td>\n",
              "      <td>33750.000000</td>\n",
              "      <td>33750.000000</td>\n",
              "      <td>33750.000000</td>\n",
              "      <td>33750.000000</td>\n",
              "      <td>33750.000000</td>\n",
              "      <td>33750.000000</td>\n",
              "      <td>33750.000000</td>\n",
              "      <td>33750.000000</td>\n",
              "      <td>33750.000000</td>\n",
              "    </tr>\n",
              "    <tr>\n",
              "      <th>mean</th>\n",
              "      <td>71.209007</td>\n",
              "      <td>3.378193</td>\n",
              "      <td>199.471852</td>\n",
              "      <td>4.989748</td>\n",
              "      <td>4.989748</td>\n",
              "      <td>280.069587</td>\n",
              "      <td>0.448739</td>\n",
              "      <td>0.000318</td>\n",
              "      <td>50.458785</td>\n",
              "      <td>154.841422</td>\n",
              "      <td>3240.118163</td>\n",
              "    </tr>\n",
              "    <tr>\n",
              "      <th>std</th>\n",
              "      <td>16.852248</td>\n",
              "      <td>2.055792</td>\n",
              "      <td>99.841088</td>\n",
              "      <td>2.570021</td>\n",
              "      <td>2.570021</td>\n",
              "      <td>13.415256</td>\n",
              "      <td>53.526500</td>\n",
              "      <td>0.009760</td>\n",
              "      <td>38.871734</td>\n",
              "      <td>83.735515</td>\n",
              "      <td>1991.487289</td>\n",
              "    </tr>\n",
              "    <tr>\n",
              "      <th>min</th>\n",
              "      <td>13.000000</td>\n",
              "      <td>0.000000</td>\n",
              "      <td>0.000000</td>\n",
              "      <td>1.000000</td>\n",
              "      <td>1.000000</td>\n",
              "      <td>0.000000</td>\n",
              "      <td>0.000000</td>\n",
              "      <td>0.000000</td>\n",
              "      <td>0.000000</td>\n",
              "      <td>10.000000</td>\n",
              "      <td>0.000000</td>\n",
              "    </tr>\n",
              "    <tr>\n",
              "      <th>25%</th>\n",
              "      <td>60.000000</td>\n",
              "      <td>2.000000</td>\n",
              "      <td>130.000000</td>\n",
              "      <td>3.000000</td>\n",
              "      <td>3.000000</td>\n",
              "      <td>271.720000</td>\n",
              "      <td>0.000000</td>\n",
              "      <td>0.000000</td>\n",
              "      <td>1.000000</td>\n",
              "      <td>83.000000</td>\n",
              "      <td>1165.250000</td>\n",
              "    </tr>\n",
              "    <tr>\n",
              "      <th>50%</th>\n",
              "      <td>72.000000</td>\n",
              "      <td>3.000000</td>\n",
              "      <td>200.000000</td>\n",
              "      <td>5.000000</td>\n",
              "      <td>5.000000</td>\n",
              "      <td>280.150000</td>\n",
              "      <td>0.000000</td>\n",
              "      <td>0.000000</td>\n",
              "      <td>64.000000</td>\n",
              "      <td>155.000000</td>\n",
              "      <td>3335.000000</td>\n",
              "    </tr>\n",
              "    <tr>\n",
              "      <th>75%</th>\n",
              "      <td>85.000000</td>\n",
              "      <td>5.000000</td>\n",
              "      <td>290.000000</td>\n",
              "      <td>7.000000</td>\n",
              "      <td>7.000000</td>\n",
              "      <td>290.620000</td>\n",
              "      <td>0.000000</td>\n",
              "      <td>0.000000</td>\n",
              "      <td>90.000000</td>\n",
              "      <td>228.000000</td>\n",
              "      <td>4926.000000</td>\n",
              "    </tr>\n",
              "    <tr>\n",
              "      <th>max</th>\n",
              "      <td>100.000000</td>\n",
              "      <td>16.000000</td>\n",
              "      <td>360.000000</td>\n",
              "      <td>9.000000</td>\n",
              "      <td>9.000000</td>\n",
              "      <td>308.240000</td>\n",
              "      <td>9831.300000</td>\n",
              "      <td>0.510000</td>\n",
              "      <td>100.000000</td>\n",
              "      <td>299.000000</td>\n",
              "      <td>7280.000000</td>\n",
              "    </tr>\n",
              "  </tbody>\n",
              "</table>\n",
              "</div>"
            ],
            "text/plain": [
              "           humidity    wind_speed  ...  air_pollution_index  traffic_volume\n",
              "count  33750.000000  33750.000000  ...         33750.000000    33750.000000\n",
              "mean      71.209007      3.378193  ...           154.841422     3240.118163\n",
              "std       16.852248      2.055792  ...            83.735515     1991.487289\n",
              "min       13.000000      0.000000  ...            10.000000        0.000000\n",
              "25%       60.000000      2.000000  ...            83.000000     1165.250000\n",
              "50%       72.000000      3.000000  ...           155.000000     3335.000000\n",
              "75%       85.000000      5.000000  ...           228.000000     4926.000000\n",
              "max      100.000000     16.000000  ...           299.000000     7280.000000\n",
              "\n",
              "[8 rows x 11 columns]"
            ]
          },
          "metadata": {},
          "execution_count": 15
        }
      ]
    },
    {
      "cell_type": "code",
      "metadata": {
        "colab": {
          "base_uri": "https://localhost:8080/",
          "height": 278
        },
        "id": "iJB-_dJv3rcm",
        "outputId": "967b1728-6c1c-4315-897d-5113af37b97b"
      },
      "source": [
        "#Distribuição dos dados \n",
        "sns.histplot(train.humidity);\n"
      ],
      "execution_count": 18,
      "outputs": [
        {
          "output_type": "display_data",
          "data": {
            "image/png": "[encoded data removed]",
            "text/plain": [
              "<Figure size 432x288 with 1 Axes>"
            ]
          },
          "metadata": {
            "needs_background": "light"
          }
        }
      ]
    },
    {
      "cell_type": "code",
      "metadata": {
        "colab": {
          "base_uri": "https://localhost:8080/",
          "height": 335
        },
        "id": "78shWVyC3rgZ",
        "outputId": "04e8f0c8-3295-460a-800f-33b5d9595104"
      },
      "source": [
        "#Tipos de feriados\n",
        "\n",
        "sns.countplot(train.is_holiday);"
      ],
      "execution_count": 20,
      "outputs": [
        {
          "output_type": "stream",
          "name": "stderr",
          "text": [
            "/usr/local/lib/python3.7/dist-packages/seaborn/_decorators.py:43: FutureWarning: Pass the following variable as a keyword arg: x. From version 0.12, the only valid positional argument will be `data`, and passing other arguments without an explicit keyword will result in an error or misinterpretation.\n",
            "  FutureWarning\n"
          ]
        },
        {
          "output_type": "display_data",
          "data": {
            "image/png": "[encoded data removed]",
            "text/plain": [
              "<Figure size 432x288 with 1 Axes>"
            ]
          },
          "metadata": {
            "needs_background": "light"
          }
        }
      ]
    },
    {
      "cell_type": "markdown",
      "metadata": {
        "id": "VzAl11SU3rkn"
      },
      "source": [
        "Coomo o grafico não ficou legal, é preferivel criar uma nova formad e visualização "
      ]
    },
    {
      "cell_type": "code",
      "metadata": {
        "colab": {
          "base_uri": "https://localhost:8080/"
        },
        "id": "D3FQClwb3rnQ",
        "outputId": "44b4ea17-fd5a-486a-feb2-e826722bee7d"
      },
      "source": [
        "train.is_holiday.value_counts()"
      ],
      "execution_count": 21,
      "outputs": [
        {
          "output_type": "execute_result",
          "data": {
            "text/plain": [
              "None                         33707\n",
              "Thanksgiving Day                 5\n",
              "New Years Day                    5\n",
              "Christmas Day                    5\n",
              "Veterans Day                     4\n",
              "Columbus Day                     4\n",
              "Labor Day                        4\n",
              "Washingtons Birthday             4\n",
              "Independence Day                 3\n",
              "Memorial Day                     3\n",
              "Martin Luther King Jr Day        3\n",
              "State Fair                       3\n",
              "Name: is_holiday, dtype: int64"
            ]
          },
          "metadata": {},
          "execution_count": 21
        }
      ]
    },
    {
      "cell_type": "code",
      "metadata": {
        "colab": {
          "base_uri": "https://localhost:8080/",
          "height": 280
        },
        "id": "68ZPFbm746ei",
        "outputId": "2b474158-379d-4101-8b3c-7dcdc7f3f934"
      },
      "source": [
        "#Velocidade do vento\n",
        "sns.histplot(train.wind_direction);"
      ],
      "execution_count": 23,
      "outputs": [
        {
          "output_type": "display_data",
          "data": {
            "image/png": "[encoded data removed]",
            "text/plain": [
              "<Figure size 432x288 with 1 Axes>"
            ]
          },
          "metadata": {
            "needs_background": "light"
          }
        }
      ]
    },
    {
      "cell_type": "code",
      "metadata": {
        "id": "Tzvt4ahs46jQ"
      },
      "source": [
        ""
      ],
      "execution_count": null,
      "outputs": []
    },
    {
      "cell_type": "code",
      "metadata": {
        "id": "D3Hk3snj56b7"
      },
      "source": [
        ""
      ],
      "execution_count": null,
      "outputs": []
    },
    {
      "cell_type": "markdown",
      "metadata": {
        "id": "pnoMXygK56ge"
      },
      "source": [
        "PROCESSAMENTO DE DADOS"
      ]
    },
    {
      "cell_type": "code",
      "metadata": {
        "id": "RlbKT1nh56kM"
      },
      "source": [
        "#Se a divisão for igual a 1 temos a igualdade da duas variaveis, uma delas tem que ser eliminada\n",
        "train['visibility_in_miles_&_dew_point']=train['visibility_in_miles'] / train['dew_point'] "
      ],
      "execution_count": 24,
      "outputs": []
    },
    {
      "cell_type": "code",
      "metadata": {
        "colab": {
          "base_uri": "https://localhost:8080/"
        },
        "id": "9OU38D0t56m9",
        "outputId": "f2e72695-fdd7-4a38-9832-4132051976ee"
      },
      "source": [
        "train['visibility_in_miles_&_dew_point'].nunique()"
      ],
      "execution_count": 25,
      "outputs": [
        {
          "output_type": "execute_result",
          "data": {
            "text/plain": [
              "1"
            ]
          },
          "metadata": {},
          "execution_count": 25
        }
      ]
    },
    {
      "cell_type": "code",
      "metadata": {
        "id": "diAycy6346ml"
      },
      "source": [
        "#Eliminiar as variaveis\n",
        "\n",
        "#del train['visibility_in_miles_&_dew_point']\n",
        "#del test['visibility_in_miles_&_dew_point']\n",
        "#del train['visibility_in_miles']\n",
        "#del test['visibility_in_miles']"
      ],
      "execution_count": 28,
      "outputs": []
    },
    {
      "cell_type": "code",
      "metadata": {
        "id": "KCKEsmgf46pV"
      },
      "source": [
        "train['hum_ratio_temp']=train['temperature']/train['humidity']\n",
        "test['hum_ratio_temp']=test['temperature']/test['humidity']"
      ],
      "execution_count": 29,
      "outputs": []
    },
    {
      "cell_type": "code",
      "metadata": {
        "colab": {
          "base_uri": "https://localhost:8080/"
        },
        "id": "TsOV-j0q46sj",
        "outputId": "434c1608-ddf8-4ab4-d5eb-30eb6c6b5bb4"
      },
      "source": [
        "#Ver se tem algum valor nulo\n",
        "train.isnull().sum(), test.isnull().sum()"
      ],
      "execution_count": 31,
      "outputs": [
        {
          "output_type": "execute_result",
          "data": {
            "text/plain": [
              "(date_time              0\n",
              " is_holiday             0\n",
              " humidity               0\n",
              " wind_speed             0\n",
              " wind_direction         0\n",
              " visibility_in_miles    0\n",
              " dew_point              0\n",
              " temperature            0\n",
              " rain_p_h               0\n",
              " snow_p_h               0\n",
              " clouds_all             0\n",
              " weather_type           0\n",
              " air_pollution_index    0\n",
              " traffic_volume         0\n",
              " hum_ratio_temp         0\n",
              " dtype: int64, date_time              0\n",
              " is_holiday             0\n",
              " humidity               0\n",
              " wind_speed             0\n",
              " wind_direction         0\n",
              " visibility_in_miles    0\n",
              " dew_point              0\n",
              " temperature            0\n",
              " rain_p_h               0\n",
              " snow_p_h               0\n",
              " clouds_all             0\n",
              " weather_type           0\n",
              " traffic_volume         0\n",
              " hum_ratio_temp         0\n",
              " dtype: int64)"
            ]
          },
          "metadata": {},
          "execution_count": 31
        }
      ]
    },
    {
      "cell_type": "code",
      "metadata": {
        "id": "xMrLjgkY8L0c"
      },
      "source": [
        "#Conversão da temperatura\n",
        "\n",
        "train['temperature'] = train['temperature'] - 273.15\n",
        "test['temperature'] = test['temperature']- 273.15"
      ],
      "execution_count": 33,
      "outputs": []
    },
    {
      "cell_type": "code",
      "metadata": {
        "id": "zUjWiWQC9G7z"
      },
      "source": [
        ""
      ],
      "execution_count": null,
      "outputs": []
    },
    {
      "cell_type": "markdown",
      "metadata": {
        "id": "RJYcYAlh8L4u"
      },
      "source": [
        "FAZENDO O LABEL ENCONDER(Convertendo texto em números)"
      ]
    },
    {
      "cell_type": "code",
      "metadata": {
        "id": "7_ctJrxk8L8E"
      },
      "source": [
        "loc  = np.append(train['is_holiday'].values, test['is_holiday'].values, axis=0)"
      ],
      "execution_count": 34,
      "outputs": []
    },
    {
      "cell_type": "code",
      "metadata": {
        "id": "A3p2BoR68L-4"
      },
      "source": [
        "l=LabelEncoder()\n",
        "l.fit(list(set(loc)))\n",
        "train['is_holiday']=l.transform(train['is_holiday'])\n",
        "test['is_holiday']=l.transform(test['is_holiday'])"
      ],
      "execution_count": 36,
      "outputs": []
    },
    {
      "cell_type": "code",
      "metadata": {
        "id": "kStxsiPcxDgI"
      },
      "source": [
        "loc = np.append(train['weather_type'].values, test['weather_type'].values, axis=0)\n",
        "\n",
        "from sklearn.preprocessing import LabelEncoder\n",
        "l=LabelEncoder()\n",
        "l.fit(list(set(loc)))\n",
        "train['weather_type']=l.transform(train['weather_type'])\n",
        "test['weather_type']=l.transform(test['weather_type'])"
      ],
      "execution_count": 37,
      "outputs": []
    },
    {
      "cell_type": "markdown",
      "metadata": {
        "id": "fF-XqzqrxDin"
      },
      "source": [
        "### Transformando variáveis de Data/hora,para criar mais variáveis de Tempo"
      ]
    },
    {
      "cell_type": "code",
      "metadata": {
        "colab": {
          "base_uri": "https://localhost:8080/"
        },
        "id": "-9CosLNw93at",
        "outputId": "ce56e032-8300-4c8f-cc61-6c1b06d26e24"
      },
      "source": [
        "# Base de Treino\n",
        "train['date_time'] = pd.to_datetime(train['date_time'])\n",
        "train['year'] = train['date_time'].dt.year\n",
        "train['day'] = train['date_time'].dt.day\n",
        "train['weekofyear'] = train['date_time'].dt.weekofyear\n",
        "train['month'] = train['date_time'].dt.month\n",
        "train['dayofweek'] = train['date_time'].dt.dayofweek\n",
        "train['weekend'] = (train['date_time'].dt.weekday >=5).astype(int)\n",
        "#df['days_since_release'] = (datetime.datetime(2021, 9, 11) - df['Timestamp']).dt.days\n",
        "train['hour'] = train['date_time'].dt.hour\n",
        "#train['minute'] = train['date_time'].dt.minute"
      ],
      "execution_count": 38,
      "outputs": [
        {
          "output_type": "stream",
          "name": "stderr",
          "text": [
            "/usr/local/lib/python3.7/dist-packages/ipykernel_launcher.py:5: FutureWarning: Series.dt.weekofyear and Series.dt.week have been deprecated.  Please use Series.dt.isocalendar().week instead.\n",
            "  \"\"\"\n"
          ]
        }
      ]
    },
    {
      "cell_type": "code",
      "metadata": {
        "colab": {
          "base_uri": "https://localhost:8080/"
        },
        "id": "1r2exflc93e7",
        "outputId": "0631dbb5-7bbf-4180-9441-e8a0b0220174"
      },
      "source": [
        "#Base de Test\n",
        "test['date_time'] = pd.to_datetime(test['date_time'])\n",
        "test['year'] = test['date_time'].dt.year\n",
        "test['day'] = test['date_time'].dt.day\n",
        "test['weekofyear'] = test['date_time'].dt.weekofyear\n",
        "test['month'] = test['date_time'].dt.month\n",
        "test['dayofweek'] = test['date_time'].dt.dayofweek\n",
        "test['weekend'] = (test['date_time'].dt.weekday >=5).astype(int)\n",
        "#df['days_since_release'] = (datetime.datetime(2019, 8, 1) - df['Timestamp']).dt.days\n",
        "test['hour'] = test['date_time'].dt.hour\n",
        "#test['minute'] = test['date_time'].dt.minute"
      ],
      "execution_count": 39,
      "outputs": [
        {
          "output_type": "stream",
          "name": "stderr",
          "text": [
            "/usr/local/lib/python3.7/dist-packages/ipykernel_launcher.py:5: FutureWarning: Series.dt.weekofyear and Series.dt.week have been deprecated.  Please use Series.dt.isocalendar().week instead.\n",
            "  \"\"\"\n"
          ]
        }
      ]
    },
    {
      "cell_type": "code",
      "metadata": {
        "colab": {
          "base_uri": "https://localhost:8080/"
        },
        "id": "MZuS45b593ir",
        "outputId": "dcaa1616-24e0-4ddf-efb8-cfa37f558986"
      },
      "source": [
        "# Imprimindo para ver o campo transformado\n",
        "out1=test['date_time']\n",
        "out1"
      ],
      "execution_count": 40,
      "outputs": [
        {
          "output_type": "execute_result",
          "data": {
            "text/plain": [
              "0       2017-05-18 00:00:00\n",
              "1       2017-05-18 00:00:00\n",
              "2       2017-05-18 00:00:00\n",
              "3       2017-05-18 01:00:00\n",
              "4       2017-05-18 01:00:00\n",
              "                ...        \n",
              "14449   2018-09-30 19:00:00\n",
              "14450   2018-09-30 20:00:00\n",
              "14451   2018-09-30 21:00:00\n",
              "14452   2018-09-30 22:00:00\n",
              "14453   2018-09-30 23:00:00\n",
              "Name: date_time, Length: 14454, dtype: datetime64[ns]"
            ]
          },
          "metadata": {},
          "execution_count": 40
        }
      ]
    },
    {
      "cell_type": "code",
      "metadata": {
        "id": "blkyl89r93lj"
      },
      "source": [
        ""
      ],
      "execution_count": null,
      "outputs": []
    },
    {
      "cell_type": "code",
      "metadata": {
        "id": "bUKEy_Gt-Kqy"
      },
      "source": [
        "# Ignorando Alertas\n",
        "import warnings\n",
        "warnings.simplefilter(action='ignore', category=FutureWarning)"
      ],
      "execution_count": 41,
      "outputs": []
    },
    {
      "cell_type": "code",
      "metadata": {
        "id": "jt1xQSRf-KuY"
      },
      "source": [
        "# Deletando variável que não vamos usar\n",
        "del train['date_time']\n",
        "del test['date_time']"
      ],
      "execution_count": 42,
      "outputs": []
    },
    {
      "cell_type": "code",
      "metadata": {
        "id": "t93J2SrG-Kx4"
      },
      "source": [
        ""
      ],
      "execution_count": null,
      "outputs": []
    },
    {
      "cell_type": "markdown",
      "metadata": {
        "id": "5hIEb6Tb-WXi"
      },
      "source": [
        "AMOSTRAGEM DOS DADOS"
      ]
    },
    {
      "cell_type": "code",
      "metadata": {
        "id": "0cV4ovii-K1h"
      },
      "source": [
        "# Separando variáveis explicativas e o Target\n",
        "X = train.drop(labels=['air_pollution_index'], axis=1)\n",
        "y = train['air_pollution_index'].values\n",
        "\n",
        "# Separando os dados para Treinar e testar\n",
        "from sklearn.model_selection import train_test_split\n",
        "X_train, X_cv, y_train, y_cv = train_test_split(X, y, test_size=0.25, random_state=42)"
      ],
      "execution_count": 43,
      "outputs": []
    },
    {
      "cell_type": "code",
      "metadata": {
        "colab": {
          "base_uri": "https://localhost:8080/"
        },
        "id": "nJF6iD4r93oV",
        "outputId": "12c1f3ac-dc8a-4ef1-918e-6ed9ac439137"
      },
      "source": [
        "# Dando uma olhada na shape das bases\n",
        "X_train.shape, y_train.shape, X_cv.shape, y_cv.shape"
      ],
      "execution_count": 44,
      "outputs": [
        {
          "output_type": "execute_result",
          "data": {
            "text/plain": [
              "((25312, 20), (25312,), (8438, 20), (8438,))"
            ]
          },
          "metadata": {},
          "execution_count": 44
        }
      ]
    },
    {
      "cell_type": "code",
      "metadata": {
        "id": "RxYHP6S1-awT"
      },
      "source": [
        ""
      ],
      "execution_count": null,
      "outputs": []
    },
    {
      "cell_type": "markdown",
      "metadata": {
        "id": "t08pIX9s-bew"
      },
      "source": [
        "CONTRUÇÃO DA MAQUINA PREDITIVA"
      ]
    },
    {
      "cell_type": "code",
      "metadata": {
        "id": "0dV_ud07-biy"
      },
      "source": [
        ""
      ],
      "execution_count": null,
      "outputs": []
    },
    {
      "cell_type": "code",
      "metadata": {
        "colab": {
          "base_uri": "https://localhost:8080/"
        },
        "id": "s7rFFQcV-bmf",
        "outputId": "26577fbb-0cb6-4495-d8de-bc821347901c"
      },
      "source": [
        "# Criando uma Máquina Preditiva Regressora, pois iremos prever um valor que é um índice de poluição\n",
        "from sklearn.ensemble import GradientBoostingRegressor\n",
        "gb = GradientBoostingRegressor(verbose=100, learning_rate=0.1, n_estimators=100, random_state=101)\n",
        "gb.fit(X_train, y_train)\n",
        "y_pred = gb.predict(X_cv)"
      ],
      "execution_count": 45,
      "outputs": [
        {
          "output_type": "stream",
          "name": "stdout",
          "text": [
            "      Iter       Train Loss   Remaining Time \n",
            "         1        6983.0829            6.29s\n",
            "         2        6980.4103            6.26s\n",
            "         3        6977.9502            6.22s\n",
            "         4        6976.2866            6.12s\n",
            "         5        6974.8857            6.03s\n",
            "         6        6972.1712            5.93s\n",
            "         7        6969.6306            5.84s\n",
            "         8        6967.3294            5.75s\n",
            "         9        6965.8516            5.68s\n",
            "        10        6963.6689            5.63s\n",
            "        11        6961.5845            5.55s\n",
            "        12        6959.4784            5.49s\n",
            "        13        6957.3059            5.41s\n",
            "        14        6955.2651            5.36s\n",
            "        15        6952.3196            5.29s\n",
            "        16        6950.6823            5.23s\n",
            "        17        6948.6175            5.16s\n",
            "        18        6946.3937            5.09s\n",
            "        19        6944.5229            5.03s\n",
            "        20        6941.7092            4.97s\n",
            "        21        6940.6021            4.90s\n",
            "        22        6938.6178            4.83s\n",
            "        23        6937.4583            4.77s\n",
            "        24        6935.8574            4.71s\n",
            "        25        6934.1438            4.64s\n",
            "        26        6932.2406            4.58s\n",
            "        27        6930.9225            4.53s\n",
            "        28        6929.6109            4.47s\n",
            "        29        6928.1533            4.41s\n",
            "        30        6927.1392            4.34s\n",
            "        31        6925.5370            4.28s\n",
            "        32        6923.3424            4.22s\n",
            "        33        6921.5088            4.16s\n",
            "        34        6919.9485            4.10s\n",
            "        35        6918.8780            4.04s\n",
            "        36        6917.1152            3.98s\n",
            "        37        6915.4497            3.92s\n",
            "        38        6914.4054            3.85s\n",
            "        39        6912.6190            3.79s\n",
            "        40        6911.1096            3.72s\n",
            "        41        6909.2213            3.66s\n",
            "        42        6908.2858            3.60s\n",
            "        43        6907.2277            3.53s\n",
            "        44        6906.4288            3.47s\n",
            "        45        6904.5593            3.41s\n",
            "        46        6903.1240            3.35s\n",
            "        47        6900.5035            3.29s\n",
            "        48        6899.3085            3.22s\n",
            "        49        6898.4983            3.16s\n",
            "        50        6897.1136            3.10s\n",
            "        51        6895.4706            3.04s\n",
            "        52        6894.7112            2.98s\n",
            "        53        6893.3640            2.92s\n",
            "        54        6892.7237            2.85s\n",
            "        55        6891.3133            2.79s\n",
            "        56        6890.1661            2.73s\n",
            "        57        6887.2943            2.66s\n",
            "        58        6885.3644            2.60s\n",
            "        59        6883.9799            2.54s\n",
            "        60        6882.2418            2.48s\n",
            "        61        6879.8618            2.42s\n",
            "        62        6878.4158            2.35s\n",
            "        63        6877.0212            2.29s\n",
            "        64        6875.6701            2.23s\n",
            "        65        6874.3159            2.16s\n",
            "        66        6872.9564            2.10s\n",
            "        67        6871.3784            2.04s\n",
            "        68        6869.7064            1.98s\n",
            "        69        6869.1475            1.92s\n",
            "        70        6867.4177            1.85s\n",
            "        71        6866.7275            1.79s\n",
            "        72        6864.5804            1.73s\n",
            "        73        6863.9523            1.67s\n",
            "        74        6863.0827            1.61s\n",
            "        75        6862.4185            1.55s\n",
            "        76        6860.7940            1.48s\n",
            "        77        6858.6500            1.42s\n",
            "        78        6857.6618            1.36s\n",
            "        79        6855.5846            1.30s\n",
            "        80        6854.0787            1.24s\n",
            "        81        6852.2845            1.18s\n",
            "        82        6851.0409            1.11s\n",
            "        83        6849.4523            1.05s\n",
            "        84        6848.1130            0.99s\n",
            "        85        6846.7527            0.93s\n",
            "        86        6844.9272            0.87s\n",
            "        87        6844.2539            0.80s\n",
            "        88        6842.3207            0.74s\n",
            "        89        6840.3098            0.68s\n",
            "        90        6838.8230            0.62s\n",
            "        91        6836.7786            0.56s\n",
            "        92        6836.1904            0.49s\n",
            "        93        6834.1043            0.43s\n",
            "        94        6832.8871            0.37s\n",
            "        95        6831.5006            0.31s\n",
            "        96        6830.3676            0.25s\n",
            "        97        6829.1812            0.19s\n",
            "        98        6828.2222            0.12s\n",
            "        99        6826.5897            0.06s\n",
            "       100        6825.4263            0.00s\n"
          ]
        }
      ]
    },
    {
      "cell_type": "code",
      "metadata": {
        "id": "bv0RFOYd-bqR"
      },
      "source": [
        ""
      ],
      "execution_count": null,
      "outputs": []
    },
    {
      "cell_type": "markdown",
      "metadata": {
        "id": "MODKmg-s-btg"
      },
      "source": [
        "AVALIAÇÃO DA MAQUINA PREDITIVA"
      ]
    },
    {
      "cell_type": "code",
      "metadata": {
        "id": "Aj9TPi03-bwQ"
      },
      "source": [
        "from math import sqrt \n",
        "from sklearn.metrics import mean_absolute_error"
      ],
      "execution_count": 46,
      "outputs": []
    },
    {
      "cell_type": "code",
      "metadata": {
        "colab": {
          "base_uri": "https://localhost:8080/"
        },
        "id": "06McuzlP-rLF",
        "outputId": "12fafda3-1227-434b-d282-ab281b972e18"
      },
      "source": [
        "print('score', 100-sqrt(mean_absolute_error(y_cv, y_pred)))"
      ],
      "execution_count": 47,
      "outputs": [
        {
          "output_type": "stream",
          "name": "stdout",
          "text": [
            "score 91.43883968578326\n"
          ]
        }
      ]
    },
    {
      "cell_type": "code",
      "metadata": {
        "colab": {
          "base_uri": "https://localhost:8080/",
          "height": 728
        },
        "id": "EfoGlIwi-rPq",
        "outputId": "5b8c9060-a903-4151-91c6-6edec50d74db"
      },
      "source": [
        "import seaborn as sns\n",
        "feature_imp = pd.DataFrame(sorted(zip(gb.feature_importances_, X.columns), reverse=True)[:60], columns=['Value','Feature'])\n",
        "plt.figure(figsize=(12,10))\n",
        "sns.barplot(x=\"Value\", y=\"Feature\", data=feature_imp.sort_values(by=\"Value\", ascending=False))\n",
        "plt.title('Gradient Boosting Features')\n",
        "plt.tight_layout()\n",
        "plt.show()"
      ],
      "execution_count": 48,
      "outputs": [
        {
          "output_type": "display_data",
          "data": {
            "image/png": "[encoded data removed]",
            "text/plain": [
              "<Figure size 864x720 with 1 Axes>"
            ]
          },
          "metadata": {
            "needs_background": "light"
          }
        }
      ]
    },
    {
      "cell_type": "code",
      "metadata": {
        "id": "8GbAn5U7-rS6"
      },
      "source": [
        ""
      ],
      "execution_count": null,
      "outputs": []
    }
  ]
}