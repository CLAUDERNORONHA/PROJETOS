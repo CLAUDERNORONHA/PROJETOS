{
  "nbformat": 4,
  "nbformat_minor": 0,
  "metadata": {
    "colab": {
      "name": "ANALISE-DE-CREDITO.ipynb",
      "provenance": [],
      "collapsed_sections": [],
      "mount_file_id": "1F2c0C3RyDO4rj_Y0mpSaj2YGLDM_jXA4",
      "authorship_tag": "ABX9TyPZ9GTU7JL4aeQI4bAAc5qQ",
      "include_colab_link": true
    },
    "kernelspec": {
      "name": "python3",
      "display_name": "Python 3"
    },
    "language_info": {
      "name": "python"
    }
  },
  "cells": [
    {
      "cell_type": "markdown",
      "metadata": {
        "id": "view-in-github",
        "colab_type": "text"
      },
      "source": [
        "<a href=\"https://colab.research.google.com/github/CLAUDERNORONHA/PROJETOS/blob/master/ANALISE_DE_CREDITO.ipynb\" target=\"_parent\"><img src=\"https://colab.research.google.com/assets/colab-badge.svg\" alt=\"Open In Colab\"/></a>"
      ]
    },
    {
      "cell_type": "markdown",
      "metadata": {
        "id": "Z-iE7ny6pfgP"
      },
      "source": [
        "AVALIAÇÃO DE RISCOS DE CRÉDITO\n",
        "\n",
        "A análise de risco de crédito é um método eficaz na hora de avaliar possíveis inadimplências por parte de potenciais clientes. Através de uma base de dados, a sua empresa pode identificar como determinado cliente lida com seu crédito, prevendo eventuais negócios arriscados.\n",
        "\n",
        "Mas como identificar um cliente devedor antes de fechar contratos e qual a importância disso para o meu negócio?\n",
        "\n",
        "\n",
        "Geralmente, esse tipo de análise é feita por empresas que possuem acesso a banco de dados. Um dos mais populares, por exemplo, é o SERASA Score, que disponibiliza às empresas a pontuação dos consumidores no sistema de crédito do País.\n",
        "\n",
        "Se o consumidor possui histórico de não pagar a fatura do cartão, por exemplo, quais as chances de a sua empresa ficar no prejuízo ao fechar contratos com essa pessoa física? Tudo isso é possível checar pelo SERASA.\n",
        "\n",
        "No entanto, ainda é possível fazer a conferência manual através dos documentos do consumidor, de referências e histórico de compra em empresas do ramo. Mas há empresas que oferecem o serviço de análise de risco de crédito de forma mais rápida e informatizada.\n",
        "\n",
        "Como funciona a gestão e análise de risco de crédito?\n",
        "Já imaginou que você talvez possa prever riscos de inadimplência por parte do seu cliente? E você pode, já que através da gestão e análise de risco de crédito você controla para quem concede o crédito, como escolhe as pessoas a quem você concede esse crédito e também monitora as condições desse cliente de pagar a dívida ou não.\n",
        "\n",
        "Isso é uma questão essencial para as empresas que possuem um sistema de crediário próprio.\n",
        "\n",
        "A gestão de risco de crédito é responsável por:\n",
        "\n",
        "classificar os perfis de clientes: analisar se determinadas solicitações de crédito são seguras;\n",
        "definir limites de crédito: até quanto sua empresa pode dar de crédito sem ter prejuízo?; e\n",
        "atualizar esses limites: tanto para mais, quanto para menos, afinal, é normal que as finanças oscilem.\n",
        "A tecnologia cumpre um papel muito importante aqui. É através de bancos de dados e softwares de gestão que os processos de gestão e análise de risco são consultados.\n",
        "\n",
        "Imagine que você tenha que consultar o perfil de cada cliente de maneira manual? O processo seria bem mais demorado e a liberação de crédito demoraria muito mais também.\n",
        "\n"
      ]
    },
    {
      "cell_type": "code",
      "metadata": {
        "id": "I22FY72Xpm-Q"
      },
      "source": [
        ""
      ],
      "execution_count": null,
      "outputs": []
    },
    {
      "cell_type": "markdown",
      "metadata": {
        "id": "DHE3BfBvpnCs"
      },
      "source": [
        "CONTEXTUALIZAÇÃO DO PROBLEMA\n",
        "\n",
        "* Neste problema, o objetivo é rever qual a probabilidade de um cliente da Startup Nubank não cumprur com suas obrigações financieras e deixar de pagar a sua fatura de cartão de crédito."
      ]
    },
    {
      "cell_type": "code",
      "metadata": {
        "id": "rbzjIWYQpnGi"
      },
      "source": [
        ""
      ],
      "execution_count": null,
      "outputs": []
    },
    {
      "cell_type": "markdown",
      "metadata": {
        "id": "VmBjbztsq-FF"
      },
      "source": [
        "Importar os Dados\n",
        "\n",
        "\n",
        "\n",
        "*Os dados que serão utilizado consistem basicamente em um arquivo CSV contendo 45.000 linhas e 43 colunas"
      ]
    },
    {
      "cell_type": "code",
      "metadata": {
        "colab": {
          "base_uri": "https://localhost:8080/"
        },
        "id": "60lesgr5q-Je",
        "outputId": "cb48aa08-6da4-491b-e15c-ff43bf9d8aec"
      },
      "source": [
        "import pandas as pd\n",
        "import numpy as np\n",
        "import seaborn as sns\n",
        "import matplotlib.pyplot as plt\n",
        "\n",
        "#Definir o estilo do seaborn par aos plot\n",
        "sns.set_style()\n",
        "\n",
        "from sklearn.impute import SimpleImputer #Utilizando para cobrir os valores nulos, tratar os valores ausentes\n",
        "from sklearn.feature_extraction.text import CountVectorizer\n",
        "from sklearn.preprocessing import StandardScaler, LabelEncoder\n",
        "from sklearn.model_selection import train_test_split, GridSearchCV, KFold, cross_val_score\n",
        "from sklearn.metrics import roc_auc_score, confusion_matrix, classification_report, plot_confusion_matrix, accuracy_score, f1_score\n",
        "from imblearn.under_sampling import RandomUnderSampler\n",
        "from sklearn.pipeline import make_pipeline\n",
        "from sklearn.compose import ColumnTransformer\n",
        "\n",
        "# filtrar mensagens de warning\n",
        "import warnings\n",
        "warnings.filterwarnings('ignore')"
      ],
      "execution_count": 1,
      "outputs": [
        {
          "output_type": "stream",
          "name": "stderr",
          "text": [
            "/usr/local/lib/python3.7/dist-packages/sklearn/externals/six.py:31: FutureWarning: The module is deprecated in version 0.21 and will be removed in version 0.23 since we've dropped support for Python 2.7. Please rely on the official version of six (https://pypi.org/project/six/).\n",
            "  \"(https://pypi.org/project/six/).\", FutureWarning)\n",
            "/usr/local/lib/python3.7/dist-packages/sklearn/utils/deprecation.py:144: FutureWarning: The sklearn.neighbors.base module is  deprecated in version 0.22 and will be removed in version 0.24. The corresponding classes / functions should instead be imported from sklearn.neighbors. Anything that cannot be imported from sklearn.neighbors is now part of the private API.\n",
            "  warnings.warn(message, FutureWarning)\n"
          ]
        }
      ]
    },
    {
      "cell_type": "code",
      "metadata": {
        "id": "EAjoYUwSq-NO"
      },
      "source": [
        "df = pd.read_csv('/content/drive/MyDrive/1-CIENCIA DE DADOS-CURSOS_ESTUDO DE CASO/DATA_SCIENCE-NA_PRATICA/Datasets/datasets/Nubank_acquisition_train.csv')"
      ],
      "execution_count": 2,
      "outputs": []
    },
    {
      "cell_type": "markdown",
      "metadata": {
        "id": "OLVf2PPxpnKt"
      },
      "source": [
        "Analise Exploratória de Dados\n",
        "\n",
        "   * Esta etapa consiste em entender como os dados estão estruturados, os tipos de dados que compõe o dataset e etc."
      ]
    },
    {
      "cell_type": "code",
      "metadata": {
        "colab": {
          "base_uri": "https://localhost:8080/"
        },
        "id": "oUKJc-qupnOS",
        "outputId": "6539789a-14ba-4184-d7ba-93ff73215945"
      },
      "source": [
        "print('DIMENSÕES DO DATAFRAME')\n",
        "print('Linhas:\\t\\t{}'.format(df.shape[0]))\n",
        "print('Colunas:\\t{}'.format(df.shape[1]))"
      ],
      "execution_count": 3,
      "outputs": [
        {
          "output_type": "stream",
          "name": "stdout",
          "text": [
            "DIMENSÕES DO DATAFRAME\n",
            "Linhas:\t\t45000\n",
            "Colunas:\t43\n"
          ]
        }
      ]
    },
    {
      "cell_type": "code",
      "metadata": {
        "id": "wG7MgIroOpUR"
      },
      "source": [
        ""
      ],
      "execution_count": 3,
      "outputs": []
    },
    {
      "cell_type": "code",
      "metadata": {
        "colab": {
          "base_uri": "https://localhost:8080/",
          "height": 626
        },
        "id": "r1kQYpaBNfx8",
        "outputId": "a3783669-ba3a-40b5-b328-f0f7afedeb1b"
      },
      "source": [
        "df.head()"
      ],
      "execution_count": 4,
      "outputs": [
        {
          "output_type": "execute_result",
          "data": {
            "text/html": [
              "<div>\n",
              "<style scoped>\n",
              "    .dataframe tbody tr th:only-of-type {\n",
              "        vertical-align: middle;\n",
              "    }\n",
              "\n",
              "    .dataframe tbody tr th {\n",
              "        vertical-align: top;\n",
              "    }\n",
              "\n",
              "    .dataframe thead th {\n",
              "        text-align: right;\n",
              "    }\n",
              "</style>\n",
              "<table border=\"1\" class=\"dataframe\">\n",
              "  <thead>\n",
              "    <tr style=\"text-align: right;\">\n",
              "      <th></th>\n",
              "      <th>ids</th>\n",
              "      <th>target_default</th>\n",
              "      <th>score_1</th>\n",
              "      <th>score_2</th>\n",
              "      <th>score_3</th>\n",
              "      <th>score_4</th>\n",
              "      <th>score_5</th>\n",
              "      <th>score_6</th>\n",
              "      <th>risk_rate</th>\n",
              "      <th>last_amount_borrowed</th>\n",
              "      <th>last_borrowed_in_months</th>\n",
              "      <th>credit_limit</th>\n",
              "      <th>reason</th>\n",
              "      <th>income</th>\n",
              "      <th>facebook_profile</th>\n",
              "      <th>state</th>\n",
              "      <th>zip</th>\n",
              "      <th>channel</th>\n",
              "      <th>job_name</th>\n",
              "      <th>real_state</th>\n",
              "      <th>ok_since</th>\n",
              "      <th>n_bankruptcies</th>\n",
              "      <th>n_defaulted_loans</th>\n",
              "      <th>n_accounts</th>\n",
              "      <th>n_issues</th>\n",
              "      <th>application_time_applied</th>\n",
              "      <th>application_time_in_funnel</th>\n",
              "      <th>email</th>\n",
              "      <th>external_data_provider_credit_checks_last_2_year</th>\n",
              "      <th>external_data_provider_credit_checks_last_month</th>\n",
              "      <th>external_data_provider_credit_checks_last_year</th>\n",
              "      <th>external_data_provider_email_seen_before</th>\n",
              "      <th>external_data_provider_first_name</th>\n",
              "      <th>external_data_provider_fraud_score</th>\n",
              "      <th>lat_lon</th>\n",
              "      <th>marketing_channel</th>\n",
              "      <th>profile_phone_number</th>\n",
              "      <th>reported_income</th>\n",
              "      <th>shipping_state</th>\n",
              "      <th>shipping_zip_code</th>\n",
              "      <th>profile_tags</th>\n",
              "      <th>user_agent</th>\n",
              "      <th>target_fraud</th>\n",
              "    </tr>\n",
              "  </thead>\n",
              "  <tbody>\n",
              "    <tr>\n",
              "      <th>0</th>\n",
              "      <td>343b7e7b-2cf8-e508-b8fd-0a0285af30aa</td>\n",
              "      <td>False</td>\n",
              "      <td>1Rk8w4Ucd5yR3KcqZzLdow==</td>\n",
              "      <td>IOVu8au3ISbo6+zmfnYwMg==</td>\n",
              "      <td>350.0</td>\n",
              "      <td>101.800832</td>\n",
              "      <td>0.259555</td>\n",
              "      <td>108.427273</td>\n",
              "      <td>0.40</td>\n",
              "      <td>25033.92</td>\n",
              "      <td>36.0</td>\n",
              "      <td>0.0</td>\n",
              "      <td>mLVIVxoGY7TUDJ1FyFoSIZi1SFcaBmO01AydRchaEiGYtU...</td>\n",
              "      <td>65014.12</td>\n",
              "      <td>True</td>\n",
              "      <td>sjJbkqJS7cXalHLBFA+EOQ==</td>\n",
              "      <td>Ernn+uVXCMq/6ARrBCcd+A==</td>\n",
              "      <td>NCqL3QBx0pscDnx3ixKwXg==</td>\n",
              "      <td>mLVIVxoGY7TUDJ1FyFoSIZi1SFcaBmO01AydRchaEiGYtU...</td>\n",
              "      <td>N5/CE7lSkAfB04hVFFwllw==</td>\n",
              "      <td>NaN</td>\n",
              "      <td>0.0</td>\n",
              "      <td>0.0</td>\n",
              "      <td>18.0</td>\n",
              "      <td>18.0</td>\n",
              "      <td>07:52:34</td>\n",
              "      <td>444</td>\n",
              "      <td>outlook.com</td>\n",
              "      <td>NaN</td>\n",
              "      <td>2</td>\n",
              "      <td>0.0</td>\n",
              "      <td>51.0</td>\n",
              "      <td>leidelaura</td>\n",
              "      <td>645</td>\n",
              "      <td>(-29.151545708122246, -51.1386461804385)</td>\n",
              "      <td>Invite-email</td>\n",
              "      <td>514-9840782</td>\n",
              "      <td>57849.0</td>\n",
              "      <td>BR-MT</td>\n",
              "      <td>17528</td>\n",
              "      <td>{'tags': ['n19', 'n8']}</td>\n",
              "      <td>Mozilla/5.0 (Linux; Android 6.0.1; SGP771 Buil...</td>\n",
              "      <td>NaN</td>\n",
              "    </tr>\n",
              "    <tr>\n",
              "      <th>1</th>\n",
              "      <td>bc2c7502-bbad-0f8c-39c3-94e881967124</td>\n",
              "      <td>False</td>\n",
              "      <td>DGCQep2AE5QRkNCshIAlFQ==</td>\n",
              "      <td>SaamrHMo23l/3TwXOWgVzw==</td>\n",
              "      <td>370.0</td>\n",
              "      <td>97.062615</td>\n",
              "      <td>0.942655</td>\n",
              "      <td>92.002546</td>\n",
              "      <td>0.24</td>\n",
              "      <td>NaN</td>\n",
              "      <td>NaN</td>\n",
              "      <td>39726.0</td>\n",
              "      <td>mLVIVxoGY7TUDJ1FyFoSIZi1SFcaBmO01AydRchaEiGYtU...</td>\n",
              "      <td>100018.91</td>\n",
              "      <td>False</td>\n",
              "      <td>xsd3ZdsI3356I3xMxZeiqQ==</td>\n",
              "      <td>rlWIXTBO+VOa34+SpGyhlQ==</td>\n",
              "      <td>NCqL3QBx0pscDnx3ixKwXg==</td>\n",
              "      <td>mLVIVxoGY7TUDJ1FyFoSIZi1SFcaBmO01AydRchaEiGYtU...</td>\n",
              "      <td>N5/CE7lSkAfB04hVFFwllw==</td>\n",
              "      <td>50.0</td>\n",
              "      <td>0.0</td>\n",
              "      <td>0.0</td>\n",
              "      <td>14.0</td>\n",
              "      <td>14.0</td>\n",
              "      <td>02:34:29</td>\n",
              "      <td>346</td>\n",
              "      <td>gmail.com</td>\n",
              "      <td>0.0</td>\n",
              "      <td>1</td>\n",
              "      <td>0.0</td>\n",
              "      <td>17.0</td>\n",
              "      <td>diocezio</td>\n",
              "      <td>243</td>\n",
              "      <td>(-19.687710705798963, -47.94151536525154)</td>\n",
              "      <td>Radio-commercial</td>\n",
              "      <td>251-3659293</td>\n",
              "      <td>4902.0</td>\n",
              "      <td>BR-RS</td>\n",
              "      <td>40933</td>\n",
              "      <td>{'tags': ['n6', 'n7', 'nim']}</td>\n",
              "      <td>Mozilla/5.0 (Linux; Android 5.0.2; SAMSUNG SM-...</td>\n",
              "      <td>NaN</td>\n",
              "    </tr>\n",
              "    <tr>\n",
              "      <th>2</th>\n",
              "      <td>669630dd-2e6a-0396-84bf-455e5009c922</td>\n",
              "      <td>True</td>\n",
              "      <td>DGCQep2AE5QRkNCshIAlFQ==</td>\n",
              "      <td>Fv28Bz0YRTVAT5kl1bAV6g==</td>\n",
              "      <td>360.0</td>\n",
              "      <td>100.027073</td>\n",
              "      <td>0.351918</td>\n",
              "      <td>112.892453</td>\n",
              "      <td>0.29</td>\n",
              "      <td>7207.92</td>\n",
              "      <td>36.0</td>\n",
              "      <td>NaN</td>\n",
              "      <td>mLVIVxoGY7TUDJ1FyFoSIZi1SFcaBmO01AydRchaEiGYtU...</td>\n",
              "      <td>65023.65</td>\n",
              "      <td>NaN</td>\n",
              "      <td>Ygq6MsM98oC8yceExr69Ig==</td>\n",
              "      <td>PjTIDfJsK0DKL9fO7vuW2g==</td>\n",
              "      <td>NCqL3QBx0pscDnx3ixKwXg==</td>\n",
              "      <td>mLVIVxoGY7TUDJ1FyFoSIZi1SFcaBmO01AydRchaEiGYtU...</td>\n",
              "      <td>n+xK9CfX0bCn77lClTWviw==</td>\n",
              "      <td>NaN</td>\n",
              "      <td>0.0</td>\n",
              "      <td>0.0</td>\n",
              "      <td>10.0</td>\n",
              "      <td>NaN</td>\n",
              "      <td>00:60:02</td>\n",
              "      <td>6</td>\n",
              "      <td>gmail.com</td>\n",
              "      <td>NaN</td>\n",
              "      <td>2</td>\n",
              "      <td>NaN</td>\n",
              "      <td>9.0</td>\n",
              "      <td>veralucia</td>\n",
              "      <td>65</td>\n",
              "      <td>(-28.748023890412284, -51.867279334353995)</td>\n",
              "      <td>Waiting-list</td>\n",
              "      <td>230-6097993</td>\n",
              "      <td>163679.0</td>\n",
              "      <td>BR-RR</td>\n",
              "      <td>50985</td>\n",
              "      <td>{'tags': ['n0', 'n17', 'nim', 'da']}</td>\n",
              "      <td>Mozilla/5.0 (Linux; Android 6.0.1; SGP771 Buil...</td>\n",
              "      <td>NaN</td>\n",
              "    </tr>\n",
              "    <tr>\n",
              "      <th>3</th>\n",
              "      <td>d235609e-b6cb-0ccc-a329-d4f12e7ebdc1</td>\n",
              "      <td>False</td>\n",
              "      <td>1Rk8w4Ucd5yR3KcqZzLdow==</td>\n",
              "      <td>dCm9hFKfdRm7ej3jW+gyxw==</td>\n",
              "      <td>510.0</td>\n",
              "      <td>101.599485</td>\n",
              "      <td>0.987673</td>\n",
              "      <td>94.902491</td>\n",
              "      <td>0.32</td>\n",
              "      <td>NaN</td>\n",
              "      <td>NaN</td>\n",
              "      <td>54591.0</td>\n",
              "      <td>mLVIVxoGY7TUDJ1FyFoSIZi1SFcaBmO01AydRchaEiGYtU...</td>\n",
              "      <td>68830.01</td>\n",
              "      <td>False</td>\n",
              "      <td>KET/Pmr6rHp1RJ/P9ymztw==</td>\n",
              "      <td>Cc/kWDLQH3dpHv5HU+pLVA==</td>\n",
              "      <td>NCqL3QBx0pscDnx3ixKwXg==</td>\n",
              "      <td>mLVIVxoGY7TUDJ1FyFoSIZi1SFcaBmO01AydRchaEiE56f...</td>\n",
              "      <td>n+xK9CfX0bCn77lClTWviw==</td>\n",
              "      <td>NaN</td>\n",
              "      <td>1.0</td>\n",
              "      <td>0.0</td>\n",
              "      <td>19.0</td>\n",
              "      <td>19.0</td>\n",
              "      <td>11:20:49</td>\n",
              "      <td>406</td>\n",
              "      <td>spgov.com</td>\n",
              "      <td>NaN</td>\n",
              "      <td>3</td>\n",
              "      <td>NaN</td>\n",
              "      <td>38.0</td>\n",
              "      <td>venice</td>\n",
              "      <td>815</td>\n",
              "      <td>(-17.520650158450454, -39.75801139933186)</td>\n",
              "      <td>Waiting-list</td>\n",
              "      <td>261-3543751</td>\n",
              "      <td>1086.0</td>\n",
              "      <td>BR-RN</td>\n",
              "      <td>37825</td>\n",
              "      <td>{'tags': ['n4']}</td>\n",
              "      <td>Mozilla/5.0 (Linux; Android 6.0; HTC One X10 B...</td>\n",
              "      <td>NaN</td>\n",
              "    </tr>\n",
              "    <tr>\n",
              "      <th>4</th>\n",
              "      <td>9e0eb880-e8f4-3faa-67d8-f5cdd2b3932b</td>\n",
              "      <td>False</td>\n",
              "      <td>8k8UDR4Yx0qasAjkGrUZLw==</td>\n",
              "      <td>+CxEO4w7jv3QPI/BQbyqAA==</td>\n",
              "      <td>500.0</td>\n",
              "      <td>98.474289</td>\n",
              "      <td>0.532539</td>\n",
              "      <td>118.126207</td>\n",
              "      <td>0.18</td>\n",
              "      <td>NaN</td>\n",
              "      <td>NaN</td>\n",
              "      <td>NaN</td>\n",
              "      <td>mLVIVxoGY7TUDJ1FyFoSIZi1SFcaBmO01AydRchaEiGYtU...</td>\n",
              "      <td>60011.29</td>\n",
              "      <td>True</td>\n",
              "      <td>xsd3ZdsI3356I3xMxZeiqQ==</td>\n",
              "      <td>i036nmJ7rfxo+3EvCD7Jnw==</td>\n",
              "      <td>NCqL3QBx0pscDnx3ixKwXg==</td>\n",
              "      <td>mLVIVxoGY7TUDJ1FyFoSIZi1SFcaBmO01AydRchaEiGYtU...</td>\n",
              "      <td>n+xK9CfX0bCn77lClTWviw==</td>\n",
              "      <td>NaN</td>\n",
              "      <td>0.0</td>\n",
              "      <td>0.0</td>\n",
              "      <td>11.0</td>\n",
              "      <td>NaN</td>\n",
              "      <td>13:39:03</td>\n",
              "      <td>240</td>\n",
              "      <td>gmail.com</td>\n",
              "      <td>0.0</td>\n",
              "      <td>2</td>\n",
              "      <td>1.0</td>\n",
              "      <td>46.0</td>\n",
              "      <td>darzisa</td>\n",
              "      <td>320</td>\n",
              "      <td>(-16.574259446978008, -39.90990074785962)</td>\n",
              "      <td>Invite-email</td>\n",
              "      <td>102-3660162</td>\n",
              "      <td>198618.0</td>\n",
              "      <td>BR-MT</td>\n",
              "      <td>52827</td>\n",
              "      <td>{'tags': ['pro+aty', 'n19', 'da', 'b19']}</td>\n",
              "      <td>Mozilla/5.0 (Linux; Android 7.0; Pixel C Build...</td>\n",
              "      <td>NaN</td>\n",
              "    </tr>\n",
              "  </tbody>\n",
              "</table>\n",
              "</div>"
            ],
            "text/plain": [
              "                                    ids  ... target_fraud\n",
              "0  343b7e7b-2cf8-e508-b8fd-0a0285af30aa  ...          NaN\n",
              "1  bc2c7502-bbad-0f8c-39c3-94e881967124  ...          NaN\n",
              "2  669630dd-2e6a-0396-84bf-455e5009c922  ...          NaN\n",
              "3  d235609e-b6cb-0ccc-a329-d4f12e7ebdc1  ...          NaN\n",
              "4  9e0eb880-e8f4-3faa-67d8-f5cdd2b3932b  ...          NaN\n",
              "\n",
              "[5 rows x 43 columns]"
            ]
          },
          "metadata": {},
          "execution_count": 4
        }
      ]
    },
    {
      "cell_type": "code",
      "metadata": {
        "id": "1QlrMjErOnwI"
      },
      "source": [
        ""
      ],
      "execution_count": 4,
      "outputs": []
    },
    {
      "cell_type": "markdown",
      "metadata": {
        "id": "OS_93NA4q-RE"
      },
      "source": [
        "A partir do dataframe das features é possível concluir que:\n",
        "\n",
        "* A coluna ID, anônima que representa um identificador únic d cliente. Iremos eliminar esta coluna mais a frente, pois ela não contém nenhuma informação relevante.\n",
        "\n",
        "* A coluna target_default é a variável alvo do problema. Vale destacar que possui alguns valores ausentes que deverão ser excluídos do dataset;\n",
        "\n",
        "* A coluna target_fraud é uma variável alvo destinada para avaliar a possibilidade de fraude no cartão de crédito. Como não é objeto deste estudo, esta coluna será excluída do dataset;\n",
        "\n",
        "* As variáveis last_amount_borrowed, last_borrowed_in_months, ok_since e external_data_provider_credit_checks_last_2_year possuem mais de 50% do dataset de valores ausentes, sendo difícil substituir tais valores, podendo gerar erros durante a predição. Portanto, estas colunas serão excluídas;\n",
        "\n",
        "* As variáveis job_name, external_data_provider_first_name, profile_phone_number e zip são do tipo string e possuem muitos valores categóricos distintos, difíceis de serem agrupados, portanto estas colunas serão excluídas;\n",
        "\n",
        "* A variável \n",
        "external_data_provider_email_seen_before possui um valor mínimo em -999, provavelmente este campo recebeu este valor, porque o sistema de cadastro não permitia valores nulos para preenchimento. Portanto, estes valores serão considerados como NaN;\n",
        "\n",
        "* A variável reported_income possui um valor máximo de infinito, portanto, este valor será substituído por NaN;\n",
        "\n",
        "* A variável credit_limit possui um mínimo de 0 reais, não é uma prática do mercado de cartão de crédito liberar apenas 0 reais de limite. Portanto, este valor será substituído por NaN;\n",
        "\n",
        "* Criaremos uma variável de agrupamento por região do Brasil, utilizando a variável shipping_state;\n",
        "\n",
        "* A variável ids serve para identificar um determinado cliente, portanto, não agrega valor no objetivo proposto e esta coluna será excluída;\n",
        "\n",
        "* A variável channel apenas tem um valor único, portanto, não agrega valor a análise e será excluída;\n",
        "\n",
        "* As variáveis lat_lon e shipping_zip_code serão excluídas do dataset para simplificar a modelagem."
      ]
    },
    {
      "cell_type": "code",
      "metadata": {
        "id": "PxBanZ-9SJrE"
      },
      "source": [
        ""
      ],
      "execution_count": 4,
      "outputs": []
    },
    {
      "cell_type": "markdown",
      "metadata": {
        "id": "6FcXf8rSq-Ti"
      },
      "source": [
        "Especificação de Cada Variável"
      ]
    },
    {
      "cell_type": "code",
      "metadata": {
        "id": "YzU0qTFoSKZi"
      },
      "source": [
        "#Criar um dicionario \n",
        "\n",
        "def Map_Var_DF (features, df):\n",
        "  #Criando um dicionário para receber as variáveis\n",
        "  dict_var = {\"feature\": [],\n",
        "              \"Tipo\": [],\n",
        "              \"Categórico\": [],\n",
        "              \"Binário\": [],\n",
        "              \"Qtd var unico\": [],\n",
        "              \"Min\": [],\n",
        "              \"Max\": [],\n",
        "              \"% Qtd de Nulos\": []}\n",
        "\n",
        "  #Criando um loop a partir das features\n",
        "  for feature in features:\n",
        "\n",
        "    #Armazenando o nome da feature\n",
        "    dict_var['feature'].append(feature)\n",
        "\n",
        "    #Armazenando o tipo da variável\n",
        "    dict_var['Tipo'].append(df[feature].dtypes)\n",
        "\n",
        "    #Armazenando a quantidade de valores nulos\n",
        "    dict_var['% Qtd de Nulos'].append(round(df[feature].isnull().sum() / df.shape[0],4))\n",
        "\n",
        "    if ((df[feature].dtype == \"O\")):\n",
        "\n",
        "      #Atribuindo o valor 1 se a variável for categórica\n",
        "      dict_var['Categórico'].append(1)\n",
        "\n",
        "      #Armazenando a quantidade de valores únicos\n",
        "      dict_var['Qtd var unico'].append(df[feature].nunique())\n",
        "\n",
        "      #Armazenando os valores mínimos\n",
        "      dict_var['Min'].append(\"N/A\")\n",
        "\n",
        "      #Armazenando os valores máximos\n",
        "      dict_var['Max'].append(\"N/A\")\n",
        "\n",
        "      if (df[feature].nunique() == 2):\n",
        "\n",
        "        #Atribuindo o valor 1 se a variável for binária\n",
        "        dict_var['Binário'].append(1)\n",
        "        \n",
        "      else:\n",
        "\n",
        "        #Atribuindo o valor 0 se a variável não for binária\n",
        "        dict_var['Binário'].append(0)\n",
        "\n",
        "    else:\n",
        "\n",
        "      #Atribuindo o valor 0 se a variável não for categórica\n",
        "      dict_var['Categórico'].append(0)\n",
        "\n",
        "      #Armazenando a quantidade de valores únicos\n",
        "      dict_var['Qtd var unico'].append(df[feature].nunique())\n",
        "\n",
        "      #Atribuindo o valor 0 se a variável não for binária\n",
        "      dict_var['Binário'].append(0)\n",
        "\n",
        "      #Armazenando os valores mínimos\n",
        "      dict_var['Min'].append(df[feature].min())\n",
        "\n",
        "      #Armazenando os valores máximos\n",
        "      dict_var['Max'].append(df[feature].max())\n",
        "      \n",
        "  #Transformando o dicionário em dataframe\n",
        "  df_var = pd.DataFrame.from_dict(data = dict_var)\n",
        "\n",
        "  #Imprimindo o dataframe\n",
        "  return df_var\n"
      ],
      "execution_count": 5,
      "outputs": []
    },
    {
      "cell_type": "markdown",
      "metadata": {
        "id": "1YO9dGhSSKeZ"
      },
      "source": [
        "Criando um Dataframe com as Caracteristicas"
      ]
    },
    {
      "cell_type": "code",
      "metadata": {
        "colab": {
          "base_uri": "https://localhost:8080/",
          "height": 1000
        },
        "id": "jj20A9QbSKil",
        "outputId": "3fad2404-d60f-460f-b2e4-068e802104f7"
      },
      "source": [
        "#Armazenando as features\n",
        "\n",
        "features = df.columns.to_list()\n",
        "\n",
        "#Armazenando as informações das Variáveis\n",
        "\n",
        "df_var = Map_Var_DF(features= features, df = df)\n",
        "\n",
        "#Imprimindo o Dataframe\n",
        "\n",
        "df_var"
      ],
      "execution_count": 6,
      "outputs": [
        {
          "output_type": "execute_result",
          "data": {
            "text/html": [
              "<div>\n",
              "<style scoped>\n",
              "    .dataframe tbody tr th:only-of-type {\n",
              "        vertical-align: middle;\n",
              "    }\n",
              "\n",
              "    .dataframe tbody tr th {\n",
              "        vertical-align: top;\n",
              "    }\n",
              "\n",
              "    .dataframe thead th {\n",
              "        text-align: right;\n",
              "    }\n",
              "</style>\n",
              "<table border=\"1\" class=\"dataframe\">\n",
              "  <thead>\n",
              "    <tr style=\"text-align: right;\">\n",
              "      <th></th>\n",
              "      <th>feature</th>\n",
              "      <th>Tipo</th>\n",
              "      <th>Categórico</th>\n",
              "      <th>Binário</th>\n",
              "      <th>Qtd var unico</th>\n",
              "      <th>Min</th>\n",
              "      <th>Max</th>\n",
              "      <th>% Qtd de Nulos</th>\n",
              "    </tr>\n",
              "  </thead>\n",
              "  <tbody>\n",
              "    <tr>\n",
              "      <th>0</th>\n",
              "      <td>ids</td>\n",
              "      <td>object</td>\n",
              "      <td>1</td>\n",
              "      <td>0</td>\n",
              "      <td>45000</td>\n",
              "      <td>N/A</td>\n",
              "      <td>N/A</td>\n",
              "      <td>0.0000</td>\n",
              "    </tr>\n",
              "    <tr>\n",
              "      <th>1</th>\n",
              "      <td>target_default</td>\n",
              "      <td>object</td>\n",
              "      <td>1</td>\n",
              "      <td>1</td>\n",
              "      <td>2</td>\n",
              "      <td>N/A</td>\n",
              "      <td>N/A</td>\n",
              "      <td>0.0724</td>\n",
              "    </tr>\n",
              "    <tr>\n",
              "      <th>2</th>\n",
              "      <td>score_1</td>\n",
              "      <td>object</td>\n",
              "      <td>1</td>\n",
              "      <td>0</td>\n",
              "      <td>7</td>\n",
              "      <td>N/A</td>\n",
              "      <td>N/A</td>\n",
              "      <td>0.0125</td>\n",
              "    </tr>\n",
              "    <tr>\n",
              "      <th>3</th>\n",
              "      <td>score_2</td>\n",
              "      <td>object</td>\n",
              "      <td>1</td>\n",
              "      <td>0</td>\n",
              "      <td>35</td>\n",
              "      <td>N/A</td>\n",
              "      <td>N/A</td>\n",
              "      <td>0.0125</td>\n",
              "    </tr>\n",
              "    <tr>\n",
              "      <th>4</th>\n",
              "      <td>score_3</td>\n",
              "      <td>float64</td>\n",
              "      <td>0</td>\n",
              "      <td>0</td>\n",
              "      <td>88</td>\n",
              "      <td>0</td>\n",
              "      <td>990</td>\n",
              "      <td>0.0125</td>\n",
              "    </tr>\n",
              "    <tr>\n",
              "      <th>5</th>\n",
              "      <td>score_4</td>\n",
              "      <td>float64</td>\n",
              "      <td>0</td>\n",
              "      <td>0</td>\n",
              "      <td>45000</td>\n",
              "      <td>86.1916</td>\n",
              "      <td>113.978</td>\n",
              "      <td>0.0000</td>\n",
              "    </tr>\n",
              "    <tr>\n",
              "      <th>6</th>\n",
              "      <td>score_5</td>\n",
              "      <td>float64</td>\n",
              "      <td>0</td>\n",
              "      <td>0</td>\n",
              "      <td>45000</td>\n",
              "      <td>3.54358e-05</td>\n",
              "      <td>0.999973</td>\n",
              "      <td>0.0000</td>\n",
              "    </tr>\n",
              "    <tr>\n",
              "      <th>7</th>\n",
              "      <td>score_6</td>\n",
              "      <td>float64</td>\n",
              "      <td>0</td>\n",
              "      <td>0</td>\n",
              "      <td>45000</td>\n",
              "      <td>60.663</td>\n",
              "      <td>142.192</td>\n",
              "      <td>0.0000</td>\n",
              "    </tr>\n",
              "    <tr>\n",
              "      <th>8</th>\n",
              "      <td>risk_rate</td>\n",
              "      <td>float64</td>\n",
              "      <td>0</td>\n",
              "      <td>0</td>\n",
              "      <td>82</td>\n",
              "      <td>0</td>\n",
              "      <td>0.9</td>\n",
              "      <td>0.0125</td>\n",
              "    </tr>\n",
              "    <tr>\n",
              "      <th>9</th>\n",
              "      <td>last_amount_borrowed</td>\n",
              "      <td>float64</td>\n",
              "      <td>0</td>\n",
              "      <td>0</td>\n",
              "      <td>14325</td>\n",
              "      <td>1005.18</td>\n",
              "      <td>35059.6</td>\n",
              "      <td>0.6657</td>\n",
              "    </tr>\n",
              "    <tr>\n",
              "      <th>10</th>\n",
              "      <td>last_borrowed_in_months</td>\n",
              "      <td>float64</td>\n",
              "      <td>0</td>\n",
              "      <td>0</td>\n",
              "      <td>2</td>\n",
              "      <td>36</td>\n",
              "      <td>60</td>\n",
              "      <td>0.6657</td>\n",
              "    </tr>\n",
              "    <tr>\n",
              "      <th>11</th>\n",
              "      <td>credit_limit</td>\n",
              "      <td>float64</td>\n",
              "      <td>0</td>\n",
              "      <td>0</td>\n",
              "      <td>20928</td>\n",
              "      <td>0</td>\n",
              "      <td>448269</td>\n",
              "      <td>0.3067</td>\n",
              "    </tr>\n",
              "    <tr>\n",
              "      <th>12</th>\n",
              "      <td>reason</td>\n",
              "      <td>object</td>\n",
              "      <td>1</td>\n",
              "      <td>0</td>\n",
              "      <td>14874</td>\n",
              "      <td>N/A</td>\n",
              "      <td>N/A</td>\n",
              "      <td>0.0126</td>\n",
              "    </tr>\n",
              "    <tr>\n",
              "      <th>13</th>\n",
              "      <td>income</td>\n",
              "      <td>float64</td>\n",
              "      <td>0</td>\n",
              "      <td>0</td>\n",
              "      <td>41211</td>\n",
              "      <td>4821.18</td>\n",
              "      <td>5.00003e+06</td>\n",
              "      <td>0.0125</td>\n",
              "    </tr>\n",
              "    <tr>\n",
              "      <th>14</th>\n",
              "      <td>facebook_profile</td>\n",
              "      <td>object</td>\n",
              "      <td>1</td>\n",
              "      <td>1</td>\n",
              "      <td>2</td>\n",
              "      <td>N/A</td>\n",
              "      <td>N/A</td>\n",
              "      <td>0.0991</td>\n",
              "    </tr>\n",
              "    <tr>\n",
              "      <th>15</th>\n",
              "      <td>state</td>\n",
              "      <td>object</td>\n",
              "      <td>1</td>\n",
              "      <td>0</td>\n",
              "      <td>50</td>\n",
              "      <td>N/A</td>\n",
              "      <td>N/A</td>\n",
              "      <td>0.0125</td>\n",
              "    </tr>\n",
              "    <tr>\n",
              "      <th>16</th>\n",
              "      <td>zip</td>\n",
              "      <td>object</td>\n",
              "      <td>1</td>\n",
              "      <td>0</td>\n",
              "      <td>823</td>\n",
              "      <td>N/A</td>\n",
              "      <td>N/A</td>\n",
              "      <td>0.0125</td>\n",
              "    </tr>\n",
              "    <tr>\n",
              "      <th>17</th>\n",
              "      <td>channel</td>\n",
              "      <td>object</td>\n",
              "      <td>1</td>\n",
              "      <td>0</td>\n",
              "      <td>1</td>\n",
              "      <td>N/A</td>\n",
              "      <td>N/A</td>\n",
              "      <td>0.0125</td>\n",
              "    </tr>\n",
              "    <tr>\n",
              "      <th>18</th>\n",
              "      <td>job_name</td>\n",
              "      <td>object</td>\n",
              "      <td>1</td>\n",
              "      <td>0</td>\n",
              "      <td>32265</td>\n",
              "      <td>N/A</td>\n",
              "      <td>N/A</td>\n",
              "      <td>0.0741</td>\n",
              "    </tr>\n",
              "    <tr>\n",
              "      <th>19</th>\n",
              "      <td>real_state</td>\n",
              "      <td>object</td>\n",
              "      <td>1</td>\n",
              "      <td>0</td>\n",
              "      <td>5</td>\n",
              "      <td>N/A</td>\n",
              "      <td>N/A</td>\n",
              "      <td>0.0125</td>\n",
              "    </tr>\n",
              "    <tr>\n",
              "      <th>20</th>\n",
              "      <td>ok_since</td>\n",
              "      <td>float64</td>\n",
              "      <td>0</td>\n",
              "      <td>0</td>\n",
              "      <td>100</td>\n",
              "      <td>0</td>\n",
              "      <td>141</td>\n",
              "      <td>0.5899</td>\n",
              "    </tr>\n",
              "    <tr>\n",
              "      <th>21</th>\n",
              "      <td>n_bankruptcies</td>\n",
              "      <td>float64</td>\n",
              "      <td>0</td>\n",
              "      <td>0</td>\n",
              "      <td>6</td>\n",
              "      <td>0</td>\n",
              "      <td>5</td>\n",
              "      <td>0.0155</td>\n",
              "    </tr>\n",
              "    <tr>\n",
              "      <th>22</th>\n",
              "      <td>n_defaulted_loans</td>\n",
              "      <td>float64</td>\n",
              "      <td>0</td>\n",
              "      <td>0</td>\n",
              "      <td>5</td>\n",
              "      <td>0</td>\n",
              "      <td>5</td>\n",
              "      <td>0.0128</td>\n",
              "    </tr>\n",
              "    <tr>\n",
              "      <th>23</th>\n",
              "      <td>n_accounts</td>\n",
              "      <td>float64</td>\n",
              "      <td>0</td>\n",
              "      <td>0</td>\n",
              "      <td>44</td>\n",
              "      <td>0</td>\n",
              "      <td>49</td>\n",
              "      <td>0.0125</td>\n",
              "    </tr>\n",
              "    <tr>\n",
              "      <th>24</th>\n",
              "      <td>n_issues</td>\n",
              "      <td>float64</td>\n",
              "      <td>0</td>\n",
              "      <td>0</td>\n",
              "      <td>44</td>\n",
              "      <td>0</td>\n",
              "      <td>49</td>\n",
              "      <td>0.2565</td>\n",
              "    </tr>\n",
              "    <tr>\n",
              "      <th>25</th>\n",
              "      <td>application_time_applied</td>\n",
              "      <td>object</td>\n",
              "      <td>1</td>\n",
              "      <td>0</td>\n",
              "      <td>35543</td>\n",
              "      <td>N/A</td>\n",
              "      <td>N/A</td>\n",
              "      <td>0.0000</td>\n",
              "    </tr>\n",
              "    <tr>\n",
              "      <th>26</th>\n",
              "      <td>application_time_in_funnel</td>\n",
              "      <td>int64</td>\n",
              "      <td>0</td>\n",
              "      <td>0</td>\n",
              "      <td>501</td>\n",
              "      <td>0</td>\n",
              "      <td>500</td>\n",
              "      <td>0.0000</td>\n",
              "    </tr>\n",
              "    <tr>\n",
              "      <th>27</th>\n",
              "      <td>email</td>\n",
              "      <td>object</td>\n",
              "      <td>1</td>\n",
              "      <td>0</td>\n",
              "      <td>6</td>\n",
              "      <td>N/A</td>\n",
              "      <td>N/A</td>\n",
              "      <td>0.0000</td>\n",
              "    </tr>\n",
              "    <tr>\n",
              "      <th>28</th>\n",
              "      <td>external_data_provider_credit_checks_last_2_year</td>\n",
              "      <td>float64</td>\n",
              "      <td>0</td>\n",
              "      <td>0</td>\n",
              "      <td>1</td>\n",
              "      <td>0</td>\n",
              "      <td>0</td>\n",
              "      <td>0.5028</td>\n",
              "    </tr>\n",
              "    <tr>\n",
              "      <th>29</th>\n",
              "      <td>external_data_provider_credit_checks_last_month</td>\n",
              "      <td>int64</td>\n",
              "      <td>0</td>\n",
              "      <td>0</td>\n",
              "      <td>4</td>\n",
              "      <td>0</td>\n",
              "      <td>3</td>\n",
              "      <td>0.0000</td>\n",
              "    </tr>\n",
              "    <tr>\n",
              "      <th>30</th>\n",
              "      <td>external_data_provider_credit_checks_last_year</td>\n",
              "      <td>float64</td>\n",
              "      <td>0</td>\n",
              "      <td>0</td>\n",
              "      <td>2</td>\n",
              "      <td>0</td>\n",
              "      <td>1</td>\n",
              "      <td>0.3361</td>\n",
              "    </tr>\n",
              "    <tr>\n",
              "      <th>31</th>\n",
              "      <td>external_data_provider_email_seen_before</td>\n",
              "      <td>float64</td>\n",
              "      <td>0</td>\n",
              "      <td>0</td>\n",
              "      <td>62</td>\n",
              "      <td>-999</td>\n",
              "      <td>59</td>\n",
              "      <td>0.0496</td>\n",
              "    </tr>\n",
              "    <tr>\n",
              "      <th>32</th>\n",
              "      <td>external_data_provider_first_name</td>\n",
              "      <td>object</td>\n",
              "      <td>1</td>\n",
              "      <td>0</td>\n",
              "      <td>32886</td>\n",
              "      <td>N/A</td>\n",
              "      <td>N/A</td>\n",
              "      <td>0.0000</td>\n",
              "    </tr>\n",
              "    <tr>\n",
              "      <th>33</th>\n",
              "      <td>external_data_provider_fraud_score</td>\n",
              "      <td>int64</td>\n",
              "      <td>0</td>\n",
              "      <td>0</td>\n",
              "      <td>1001</td>\n",
              "      <td>0</td>\n",
              "      <td>1000</td>\n",
              "      <td>0.0000</td>\n",
              "    </tr>\n",
              "    <tr>\n",
              "      <th>34</th>\n",
              "      <td>lat_lon</td>\n",
              "      <td>object</td>\n",
              "      <td>1</td>\n",
              "      <td>0</td>\n",
              "      <td>22412</td>\n",
              "      <td>N/A</td>\n",
              "      <td>N/A</td>\n",
              "      <td>0.0303</td>\n",
              "    </tr>\n",
              "    <tr>\n",
              "      <th>35</th>\n",
              "      <td>marketing_channel</td>\n",
              "      <td>object</td>\n",
              "      <td>1</td>\n",
              "      <td>0</td>\n",
              "      <td>9</td>\n",
              "      <td>N/A</td>\n",
              "      <td>N/A</td>\n",
              "      <td>0.0795</td>\n",
              "    </tr>\n",
              "    <tr>\n",
              "      <th>36</th>\n",
              "      <td>profile_phone_number</td>\n",
              "      <td>object</td>\n",
              "      <td>1</td>\n",
              "      <td>0</td>\n",
              "      <td>45000</td>\n",
              "      <td>N/A</td>\n",
              "      <td>N/A</td>\n",
              "      <td>0.0000</td>\n",
              "    </tr>\n",
              "    <tr>\n",
              "      <th>37</th>\n",
              "      <td>reported_income</td>\n",
              "      <td>float64</td>\n",
              "      <td>0</td>\n",
              "      <td>0</td>\n",
              "      <td>40025</td>\n",
              "      <td>403</td>\n",
              "      <td>inf</td>\n",
              "      <td>0.0000</td>\n",
              "    </tr>\n",
              "    <tr>\n",
              "      <th>38</th>\n",
              "      <td>shipping_state</td>\n",
              "      <td>object</td>\n",
              "      <td>1</td>\n",
              "      <td>0</td>\n",
              "      <td>25</td>\n",
              "      <td>N/A</td>\n",
              "      <td>N/A</td>\n",
              "      <td>0.0000</td>\n",
              "    </tr>\n",
              "    <tr>\n",
              "      <th>39</th>\n",
              "      <td>shipping_zip_code</td>\n",
              "      <td>int64</td>\n",
              "      <td>0</td>\n",
              "      <td>0</td>\n",
              "      <td>28263</td>\n",
              "      <td>12001</td>\n",
              "      <td>56000</td>\n",
              "      <td>0.0000</td>\n",
              "    </tr>\n",
              "    <tr>\n",
              "      <th>40</th>\n",
              "      <td>profile_tags</td>\n",
              "      <td>object</td>\n",
              "      <td>1</td>\n",
              "      <td>0</td>\n",
              "      <td>26131</td>\n",
              "      <td>N/A</td>\n",
              "      <td>N/A</td>\n",
              "      <td>0.0000</td>\n",
              "    </tr>\n",
              "    <tr>\n",
              "      <th>41</th>\n",
              "      <td>user_agent</td>\n",
              "      <td>object</td>\n",
              "      <td>1</td>\n",
              "      <td>0</td>\n",
              "      <td>297</td>\n",
              "      <td>N/A</td>\n",
              "      <td>N/A</td>\n",
              "      <td>0.0160</td>\n",
              "    </tr>\n",
              "    <tr>\n",
              "      <th>42</th>\n",
              "      <td>target_fraud</td>\n",
              "      <td>object</td>\n",
              "      <td>1</td>\n",
              "      <td>1</td>\n",
              "      <td>2</td>\n",
              "      <td>N/A</td>\n",
              "      <td>N/A</td>\n",
              "      <td>0.9662</td>\n",
              "    </tr>\n",
              "  </tbody>\n",
              "</table>\n",
              "</div>"
            ],
            "text/plain": [
              "                                             feature  ... % Qtd de Nulos\n",
              "0                                                ids  ...         0.0000\n",
              "1                                     target_default  ...         0.0724\n",
              "2                                            score_1  ...         0.0125\n",
              "3                                            score_2  ...         0.0125\n",
              "4                                            score_3  ...         0.0125\n",
              "5                                            score_4  ...         0.0000\n",
              "6                                            score_5  ...         0.0000\n",
              "7                                            score_6  ...         0.0000\n",
              "8                                          risk_rate  ...         0.0125\n",
              "9                               last_amount_borrowed  ...         0.6657\n",
              "10                           last_borrowed_in_months  ...         0.6657\n",
              "11                                      credit_limit  ...         0.3067\n",
              "12                                            reason  ...         0.0126\n",
              "13                                            income  ...         0.0125\n",
              "14                                  facebook_profile  ...         0.0991\n",
              "15                                             state  ...         0.0125\n",
              "16                                               zip  ...         0.0125\n",
              "17                                           channel  ...         0.0125\n",
              "18                                          job_name  ...         0.0741\n",
              "19                                        real_state  ...         0.0125\n",
              "20                                          ok_since  ...         0.5899\n",
              "21                                    n_bankruptcies  ...         0.0155\n",
              "22                                 n_defaulted_loans  ...         0.0128\n",
              "23                                        n_accounts  ...         0.0125\n",
              "24                                          n_issues  ...         0.2565\n",
              "25                          application_time_applied  ...         0.0000\n",
              "26                        application_time_in_funnel  ...         0.0000\n",
              "27                                             email  ...         0.0000\n",
              "28  external_data_provider_credit_checks_last_2_year  ...         0.5028\n",
              "29   external_data_provider_credit_checks_last_month  ...         0.0000\n",
              "30    external_data_provider_credit_checks_last_year  ...         0.3361\n",
              "31          external_data_provider_email_seen_before  ...         0.0496\n",
              "32                 external_data_provider_first_name  ...         0.0000\n",
              "33                external_data_provider_fraud_score  ...         0.0000\n",
              "34                                           lat_lon  ...         0.0303\n",
              "35                                 marketing_channel  ...         0.0795\n",
              "36                              profile_phone_number  ...         0.0000\n",
              "37                                   reported_income  ...         0.0000\n",
              "38                                    shipping_state  ...         0.0000\n",
              "39                                 shipping_zip_code  ...         0.0000\n",
              "40                                      profile_tags  ...         0.0000\n",
              "41                                        user_agent  ...         0.0160\n",
              "42                                      target_fraud  ...         0.9662\n",
              "\n",
              "[43 rows x 8 columns]"
            ]
          },
          "metadata": {},
          "execution_count": 6
        }
      ]
    },
    {
      "cell_type": "markdown",
      "metadata": {
        "id": "O6A8afU0SKnd"
      },
      "source": [
        "A partir do dataframe das features é possível concluir que:\n",
        "\n",
        "* A coluna target_default é a variável alvo do problema. Vale destacar que possui alguns valores ausentes que deverão ser excluídos do dataset;\n",
        "\n",
        "* A coluna target_fraud é uma variável alvo destinada para avaliar a possibilidade de fraude no cartão de crédito. Como não é objeto deste estudo, esta coluna será excluída do dataset;\n",
        "\n",
        "* As variáveis last_amount_borrowed, last_borrowed_in_months, ok_since e external_data_provider_credit_checks_last_2_year possuem mais de 50% do dataset de valores ausentes, sendo difícil substituir tais valores, podendo gerar erros durante a predição. Portanto, estas colunas serão excluídas;\n",
        "\n",
        "* As variáveis job_name, external_data_provider_first_name, profile_phone_number e zip são do tipo string e possuem muitos valores categóricos distintos, difíceis de serem agrupados, portanto estas colunas serão excluídas;\n",
        "\n",
        "* A variável external_data_provider_email_seen_before possui um valor mínimo em -999, provavelmente este campo recebeu este valor, porque o sistema de cadastro não permitia valores nulos para preenchimento. Portanto, estes valores serão considerados como NaN;\n",
        "\n",
        "* A variável reported_income possui um valor máximo de infinito, portanto, este valor será substituído por NaN;\n",
        "\n",
        "* A variável credit_limit possui um mínimo de 0 reais, não é uma prática do mercado de cartão de crédito liberar apenas 0 reais de limite. Portanto, este valor será substituído por NaN;\n",
        "\n",
        "* Criaremos uma variável de agrupamento por região do Brasil, utilizando a variável shipping_state;\n",
        "\n",
        "* A variável ids serve para identificar um determinado cliente, portanto, não agrega valor no objetivo proposto e esta coluna será excluída;\n",
        "\n",
        "* A variável channel apenas tem um valor único, portanto, não agrega valor a análise e será excluída;\n",
        "\n",
        "* As variáveis lat_lon e shipping_zip_code serão excluídas do dataset para simplificar a modelagem."
      ]
    },
    {
      "cell_type": "code",
      "metadata": {
        "id": "aU3p4GOlSKr-"
      },
      "source": [
        ""
      ],
      "execution_count": 6,
      "outputs": []
    },
    {
      "cell_type": "markdown",
      "metadata": {
        "id": "oIlejgAwpnSH"
      },
      "source": [
        "Ver o Resumo Estatístico dos doados numéricos"
      ]
    },
    {
      "cell_type": "code",
      "metadata": {
        "colab": {
          "base_uri": "https://localhost:8080/",
          "height": 320
        },
        "id": "SLZypbmXOeVw",
        "outputId": "334e1b98-c32e-402f-c8c3-98a7d68cffd1"
      },
      "source": [
        "df.describe()"
      ],
      "execution_count": 7,
      "outputs": [
        {
          "output_type": "execute_result",
          "data": {
            "text/html": [
              "<div>\n",
              "<style scoped>\n",
              "    .dataframe tbody tr th:only-of-type {\n",
              "        vertical-align: middle;\n",
              "    }\n",
              "\n",
              "    .dataframe tbody tr th {\n",
              "        vertical-align: top;\n",
              "    }\n",
              "\n",
              "    .dataframe thead th {\n",
              "        text-align: right;\n",
              "    }\n",
              "</style>\n",
              "<table border=\"1\" class=\"dataframe\">\n",
              "  <thead>\n",
              "    <tr style=\"text-align: right;\">\n",
              "      <th></th>\n",
              "      <th>score_3</th>\n",
              "      <th>score_4</th>\n",
              "      <th>score_5</th>\n",
              "      <th>score_6</th>\n",
              "      <th>risk_rate</th>\n",
              "      <th>last_amount_borrowed</th>\n",
              "      <th>last_borrowed_in_months</th>\n",
              "      <th>credit_limit</th>\n",
              "      <th>income</th>\n",
              "      <th>ok_since</th>\n",
              "      <th>n_bankruptcies</th>\n",
              "      <th>n_defaulted_loans</th>\n",
              "      <th>n_accounts</th>\n",
              "      <th>n_issues</th>\n",
              "      <th>application_time_in_funnel</th>\n",
              "      <th>external_data_provider_credit_checks_last_2_year</th>\n",
              "      <th>external_data_provider_credit_checks_last_month</th>\n",
              "      <th>external_data_provider_credit_checks_last_year</th>\n",
              "      <th>external_data_provider_email_seen_before</th>\n",
              "      <th>external_data_provider_fraud_score</th>\n",
              "      <th>reported_income</th>\n",
              "      <th>shipping_zip_code</th>\n",
              "    </tr>\n",
              "  </thead>\n",
              "  <tbody>\n",
              "    <tr>\n",
              "      <th>count</th>\n",
              "      <td>44438.000000</td>\n",
              "      <td>45000.000000</td>\n",
              "      <td>45000.000000</td>\n",
              "      <td>45000.000000</td>\n",
              "      <td>44438.000000</td>\n",
              "      <td>15044.000000</td>\n",
              "      <td>15044.000000</td>\n",
              "      <td>31200.000000</td>\n",
              "      <td>4.443800e+04</td>\n",
              "      <td>18455.000000</td>\n",
              "      <td>44303.000000</td>\n",
              "      <td>44426.000000</td>\n",
              "      <td>44438.000000</td>\n",
              "      <td>33456.000000</td>\n",
              "      <td>45000.000000</td>\n",
              "      <td>22372.0</td>\n",
              "      <td>45000.000000</td>\n",
              "      <td>29876.000000</td>\n",
              "      <td>42767.000000</td>\n",
              "      <td>45000.000000</td>\n",
              "      <td>45000.00</td>\n",
              "      <td>45000.000000</td>\n",
              "    </tr>\n",
              "    <tr>\n",
              "      <th>mean</th>\n",
              "      <td>347.983258</td>\n",
              "      <td>100.006797</td>\n",
              "      <td>0.500037</td>\n",
              "      <td>99.925228</td>\n",
              "      <td>0.296717</td>\n",
              "      <td>13782.341991</td>\n",
              "      <td>41.763893</td>\n",
              "      <td>34381.951154</td>\n",
              "      <td>7.160739e+04</td>\n",
              "      <td>35.069737</td>\n",
              "      <td>0.076270</td>\n",
              "      <td>0.004569</td>\n",
              "      <td>10.696701</td>\n",
              "      <td>11.068119</td>\n",
              "      <td>247.537000</td>\n",
              "      <td>0.0</td>\n",
              "      <td>1.501067</td>\n",
              "      <td>0.503381</td>\n",
              "      <td>12.534781</td>\n",
              "      <td>500.399800</td>\n",
              "      <td>inf</td>\n",
              "      <td>33923.514844</td>\n",
              "    </tr>\n",
              "    <tr>\n",
              "      <th>std</th>\n",
              "      <td>110.429165</td>\n",
              "      <td>3.178080</td>\n",
              "      <td>0.288326</td>\n",
              "      <td>10.016549</td>\n",
              "      <td>0.101933</td>\n",
              "      <td>8077.571933</td>\n",
              "      <td>10.252705</td>\n",
              "      <td>36586.982218</td>\n",
              "      <td>5.185897e+04</td>\n",
              "      <td>21.663194</td>\n",
              "      <td>0.274052</td>\n",
              "      <td>0.079400</td>\n",
              "      <td>4.592463</td>\n",
              "      <td>4.595501</td>\n",
              "      <td>146.118398</td>\n",
              "      <td>0.0</td>\n",
              "      <td>1.114941</td>\n",
              "      <td>0.499997</td>\n",
              "      <td>126.530487</td>\n",
              "      <td>287.968873</td>\n",
              "      <td>NaN</td>\n",
              "      <td>12692.406382</td>\n",
              "    </tr>\n",
              "    <tr>\n",
              "      <th>min</th>\n",
              "      <td>0.000000</td>\n",
              "      <td>86.191572</td>\n",
              "      <td>0.000035</td>\n",
              "      <td>60.663039</td>\n",
              "      <td>0.000000</td>\n",
              "      <td>1005.180000</td>\n",
              "      <td>36.000000</td>\n",
              "      <td>0.000000</td>\n",
              "      <td>4.821180e+03</td>\n",
              "      <td>0.000000</td>\n",
              "      <td>0.000000</td>\n",
              "      <td>0.000000</td>\n",
              "      <td>0.000000</td>\n",
              "      <td>0.000000</td>\n",
              "      <td>0.000000</td>\n",
              "      <td>0.0</td>\n",
              "      <td>0.000000</td>\n",
              "      <td>0.000000</td>\n",
              "      <td>-999.000000</td>\n",
              "      <td>0.000000</td>\n",
              "      <td>403.00</td>\n",
              "      <td>12001.000000</td>\n",
              "    </tr>\n",
              "    <tr>\n",
              "      <th>25%</th>\n",
              "      <td>270.000000</td>\n",
              "      <td>97.867036</td>\n",
              "      <td>0.252150</td>\n",
              "      <td>93.198353</td>\n",
              "      <td>0.220000</td>\n",
              "      <td>7519.502500</td>\n",
              "      <td>36.000000</td>\n",
              "      <td>10000.000000</td>\n",
              "      <td>4.501078e+04</td>\n",
              "      <td>17.000000</td>\n",
              "      <td>0.000000</td>\n",
              "      <td>0.000000</td>\n",
              "      <td>7.000000</td>\n",
              "      <td>8.000000</td>\n",
              "      <td>120.000000</td>\n",
              "      <td>0.0</td>\n",
              "      <td>1.000000</td>\n",
              "      <td>0.000000</td>\n",
              "      <td>11.000000</td>\n",
              "      <td>252.000000</td>\n",
              "      <td>50948.25</td>\n",
              "      <td>22937.000000</td>\n",
              "    </tr>\n",
              "    <tr>\n",
              "      <th>50%</th>\n",
              "      <td>340.000000</td>\n",
              "      <td>100.018900</td>\n",
              "      <td>0.500753</td>\n",
              "      <td>99.974796</td>\n",
              "      <td>0.290000</td>\n",
              "      <td>12023.465000</td>\n",
              "      <td>36.000000</td>\n",
              "      <td>25647.000000</td>\n",
              "      <td>6.126676e+04</td>\n",
              "      <td>32.000000</td>\n",
              "      <td>0.000000</td>\n",
              "      <td>0.000000</td>\n",
              "      <td>10.000000</td>\n",
              "      <td>10.000000</td>\n",
              "      <td>248.000000</td>\n",
              "      <td>0.0</td>\n",
              "      <td>2.000000</td>\n",
              "      <td>1.000000</td>\n",
              "      <td>27.000000</td>\n",
              "      <td>503.000000</td>\n",
              "      <td>101779.00</td>\n",
              "      <td>33896.000000</td>\n",
              "    </tr>\n",
              "    <tr>\n",
              "      <th>75%</th>\n",
              "      <td>420.000000</td>\n",
              "      <td>102.141797</td>\n",
              "      <td>0.748816</td>\n",
              "      <td>106.640275</td>\n",
              "      <td>0.360000</td>\n",
              "      <td>19220.270000</td>\n",
              "      <td>36.000000</td>\n",
              "      <td>47086.750000</td>\n",
              "      <td>8.601923e+04</td>\n",
              "      <td>50.000000</td>\n",
              "      <td>0.000000</td>\n",
              "      <td>0.000000</td>\n",
              "      <td>13.000000</td>\n",
              "      <td>14.000000</td>\n",
              "      <td>375.000000</td>\n",
              "      <td>0.0</td>\n",
              "      <td>2.000000</td>\n",
              "      <td>1.000000</td>\n",
              "      <td>43.000000</td>\n",
              "      <td>747.000000</td>\n",
              "      <td>151337.25</td>\n",
              "      <td>44910.000000</td>\n",
              "    </tr>\n",
              "    <tr>\n",
              "      <th>max</th>\n",
              "      <td>990.000000</td>\n",
              "      <td>113.978234</td>\n",
              "      <td>0.999973</td>\n",
              "      <td>142.192400</td>\n",
              "      <td>0.900000</td>\n",
              "      <td>35059.600000</td>\n",
              "      <td>60.000000</td>\n",
              "      <td>448269.000000</td>\n",
              "      <td>5.000028e+06</td>\n",
              "      <td>141.000000</td>\n",
              "      <td>5.000000</td>\n",
              "      <td>5.000000</td>\n",
              "      <td>49.000000</td>\n",
              "      <td>49.000000</td>\n",
              "      <td>500.000000</td>\n",
              "      <td>0.0</td>\n",
              "      <td>3.000000</td>\n",
              "      <td>1.000000</td>\n",
              "      <td>59.000000</td>\n",
              "      <td>1000.000000</td>\n",
              "      <td>inf</td>\n",
              "      <td>56000.000000</td>\n",
              "    </tr>\n",
              "  </tbody>\n",
              "</table>\n",
              "</div>"
            ],
            "text/plain": [
              "            score_3       score_4  ...  reported_income  shipping_zip_code\n",
              "count  44438.000000  45000.000000  ...         45000.00       45000.000000\n",
              "mean     347.983258    100.006797  ...              inf       33923.514844\n",
              "std      110.429165      3.178080  ...              NaN       12692.406382\n",
              "min        0.000000     86.191572  ...           403.00       12001.000000\n",
              "25%      270.000000     97.867036  ...         50948.25       22937.000000\n",
              "50%      340.000000    100.018900  ...        101779.00       33896.000000\n",
              "75%      420.000000    102.141797  ...        151337.25       44910.000000\n",
              "max      990.000000    113.978234  ...              inf       56000.000000\n",
              "\n",
              "[8 rows x 22 columns]"
            ]
          },
          "metadata": {},
          "execution_count": 7
        }
      ]
    },
    {
      "cell_type": "markdown",
      "metadata": {
        "id": "CUImSe8TOeZw"
      },
      "source": [
        "Olhando o resumo das principais informações estatísticas capazes de destacar algumas informações\n",
        "\n",
        "* A coluna external-external_data_provider_credit_checks_last_2_year possui valores minimos, máximos e desvio padrão iguais a zero.\n",
        "\n",
        "* A coluna reported_income apresenta valores inf, que irão interferir  na análise e model. Substituir do tipo np.inf por np.nan para trabalhar com os dados.\n",
        "\n",
        "* A coluna external_data_provider_email_seen_before apresenta o valor minimo de -999 o que ao se considerar as outrar informações. Após verificar de maneira mais aprofundada, chegou-se a conclusão que esse dados \n",
        "são outliers ou foram tratados inadequadamente.\n",
        "  Substituiremos os valores iguais a -999 por np.nan. "
      ]
    },
    {
      "cell_type": "code",
      "metadata": {
        "id": "als1NIC7Oedu"
      },
      "source": [
        ""
      ],
      "execution_count": 7,
      "outputs": []
    },
    {
      "cell_type": "code",
      "metadata": {
        "colab": {
          "base_uri": "https://localhost:8080/"
        },
        "id": "IX81t71tjVP0",
        "outputId": "a93cfb11-00ad-49ff-ef60-2525dacc3169"
      },
      "source": [
        "#Tipos de variaveis \n",
        "\n",
        "print('\\nTipos de Variáveis')\n",
        "print(df.dtypes)"
      ],
      "execution_count": 8,
      "outputs": [
        {
          "output_type": "stream",
          "name": "stdout",
          "text": [
            "\n",
            "Tipos de Variáveis\n",
            "ids                                                  object\n",
            "target_default                                       object\n",
            "score_1                                              object\n",
            "score_2                                              object\n",
            "score_3                                             float64\n",
            "score_4                                             float64\n",
            "score_5                                             float64\n",
            "score_6                                             float64\n",
            "risk_rate                                           float64\n",
            "last_amount_borrowed                                float64\n",
            "last_borrowed_in_months                             float64\n",
            "credit_limit                                        float64\n",
            "reason                                               object\n",
            "income                                              float64\n",
            "facebook_profile                                     object\n",
            "state                                                object\n",
            "zip                                                  object\n",
            "channel                                              object\n",
            "job_name                                             object\n",
            "real_state                                           object\n",
            "ok_since                                            float64\n",
            "n_bankruptcies                                      float64\n",
            "n_defaulted_loans                                   float64\n",
            "n_accounts                                          float64\n",
            "n_issues                                            float64\n",
            "application_time_applied                             object\n",
            "application_time_in_funnel                            int64\n",
            "email                                                object\n",
            "external_data_provider_credit_checks_last_2_year    float64\n",
            "external_data_provider_credit_checks_last_month       int64\n",
            "external_data_provider_credit_checks_last_year      float64\n",
            "external_data_provider_email_seen_before            float64\n",
            "external_data_provider_first_name                    object\n",
            "external_data_provider_fraud_score                    int64\n",
            "lat_lon                                              object\n",
            "marketing_channel                                    object\n",
            "profile_phone_number                                 object\n",
            "reported_income                                     float64\n",
            "shipping_state                                       object\n",
            "shipping_zip_code                                     int64\n",
            "profile_tags                                         object\n",
            "user_agent                                           object\n",
            "target_fraud                                         object\n",
            "dtype: object\n"
          ]
        }
      ]
    },
    {
      "cell_type": "code",
      "metadata": {
        "id": "U7HoVcG8jVTr"
      },
      "source": [
        ""
      ],
      "execution_count": 8,
      "outputs": []
    },
    {
      "cell_type": "markdown",
      "metadata": {
        "id": "s4QMBGQRjVXE"
      },
      "source": [
        "VALORES AUSENTES"
      ]
    },
    {
      "cell_type": "code",
      "metadata": {
        "colab": {
          "base_uri": "https://localhost:8080/"
        },
        "id": "2HcxSp1pjVaN",
        "outputId": "ebc798fb-d7db-41b5-9926-5b42a6accc1e"
      },
      "source": [
        "print('\\nVALORES AUSENTES')\n",
        "print((df.isnull().sum() / df.shape[0]).sort_values(ascending=False))"
      ],
      "execution_count": 9,
      "outputs": [
        {
          "output_type": "stream",
          "name": "stdout",
          "text": [
            "\n",
            "VALORES AUSENTES\n",
            "target_fraud                                        0.966178\n",
            "last_amount_borrowed                                0.665689\n",
            "last_borrowed_in_months                             0.665689\n",
            "ok_since                                            0.589889\n",
            "external_data_provider_credit_checks_last_2_year    0.502844\n",
            "external_data_provider_credit_checks_last_year      0.336089\n",
            "credit_limit                                        0.306667\n",
            "n_issues                                            0.256533\n",
            "facebook_profile                                    0.099067\n",
            "marketing_channel                                   0.079511\n",
            "job_name                                            0.074133\n",
            "target_default                                      0.072422\n",
            "external_data_provider_email_seen_before            0.049622\n",
            "lat_lon                                             0.030289\n",
            "user_agent                                          0.016044\n",
            "n_bankruptcies                                      0.015489\n",
            "n_defaulted_loans                                   0.012756\n",
            "reason                                              0.012578\n",
            "income                                              0.012489\n",
            "real_state                                          0.012489\n",
            "state                                               0.012489\n",
            "zip                                                 0.012489\n",
            "channel                                             0.012489\n",
            "score_3                                             0.012489\n",
            "score_2                                             0.012489\n",
            "score_1                                             0.012489\n",
            "n_accounts                                          0.012489\n",
            "risk_rate                                           0.012489\n",
            "shipping_zip_code                                   0.000000\n",
            "score_4                                             0.000000\n",
            "score_5                                             0.000000\n",
            "profile_tags                                        0.000000\n",
            "score_6                                             0.000000\n",
            "application_time_in_funnel                          0.000000\n",
            "shipping_state                                      0.000000\n",
            "reported_income                                     0.000000\n",
            "application_time_applied                            0.000000\n",
            "profile_phone_number                                0.000000\n",
            "external_data_provider_fraud_score                  0.000000\n",
            "external_data_provider_first_name                   0.000000\n",
            "external_data_provider_credit_checks_last_month     0.000000\n",
            "email                                               0.000000\n",
            "ids                                                 0.000000\n",
            "dtype: float64\n"
          ]
        }
      ]
    },
    {
      "cell_type": "markdown",
      "metadata": {
        "id": "Trcy3rpRjVcI"
      },
      "source": [
        "Exsite muitos dados faltantes, esses dados passa de 50% do dataset. Devemos tratar esses dados faltantes."
      ]
    },
    {
      "cell_type": "code",
      "metadata": {
        "id": "AdZahVSxOehH"
      },
      "source": [
        ""
      ],
      "execution_count": 9,
      "outputs": []
    },
    {
      "cell_type": "markdown",
      "metadata": {
        "id": "_xfw2J2tlF4R"
      },
      "source": [
        "VALORES UNICOS"
      ]
    },
    {
      "cell_type": "code",
      "metadata": {
        "colab": {
          "base_uri": "https://localhost:8080/"
        },
        "id": "kFihjGDjlF7u",
        "outputId": "a9e7e7f7-78cb-4948-8d65-4e8ac6343441"
      },
      "source": [
        "print('\\nVALORES UNICOS')\n",
        "print(df.nunique().sort_values())\n"
      ],
      "execution_count": 10,
      "outputs": [
        {
          "output_type": "stream",
          "name": "stdout",
          "text": [
            "\n",
            "VALORES UNICOS\n",
            "external_data_provider_credit_checks_last_2_year        1\n",
            "channel                                                 1\n",
            "target_fraud                                            2\n",
            "target_default                                          2\n",
            "external_data_provider_credit_checks_last_year          2\n",
            "facebook_profile                                        2\n",
            "last_borrowed_in_months                                 2\n",
            "external_data_provider_credit_checks_last_month         4\n",
            "n_defaulted_loans                                       5\n",
            "real_state                                              5\n",
            "email                                                   6\n",
            "n_bankruptcies                                          6\n",
            "score_1                                                 7\n",
            "marketing_channel                                       9\n",
            "shipping_state                                         25\n",
            "score_2                                                35\n",
            "n_issues                                               44\n",
            "n_accounts                                             44\n",
            "state                                                  50\n",
            "external_data_provider_email_seen_before               62\n",
            "risk_rate                                              82\n",
            "score_3                                                88\n",
            "ok_since                                              100\n",
            "user_agent                                            297\n",
            "application_time_in_funnel                            501\n",
            "zip                                                   823\n",
            "external_data_provider_fraud_score                   1001\n",
            "last_amount_borrowed                                14325\n",
            "reason                                              14874\n",
            "credit_limit                                        20928\n",
            "lat_lon                                             22412\n",
            "profile_tags                                        26131\n",
            "shipping_zip_code                                   28263\n",
            "job_name                                            32265\n",
            "external_data_provider_first_name                   32886\n",
            "application_time_applied                            35543\n",
            "reported_income                                     40025\n",
            "income                                              41211\n",
            "score_4                                             45000\n",
            "score_5                                             45000\n",
            "score_6                                             45000\n",
            "profile_phone_number                                45000\n",
            "ids                                                 45000\n",
            "dtype: int64\n"
          ]
        }
      ]
    },
    {
      "cell_type": "markdown",
      "metadata": {
        "id": "3DwULBQslF_d"
      },
      "source": [
        "A contagem de valores únicos mostra que as colunas external_data_provider_credit_checks_last_2_year e chanel apresenta um unico valor\n",
        "possível. Como não ha maiores informações sobre cada feature iremos descartar as duas colunas para o modelo \n",
        " de Machine Learning.\n",
        " Também se percebe que profile_phone_number possui 45 mil únicos valores, não trazendo provalvemente nenhuma informação  que poss com a análise."
      ]
    },
    {
      "cell_type": "code",
      "metadata": {
        "id": "qYhwX-a_nRrH"
      },
      "source": [
        ""
      ],
      "execution_count": 10,
      "outputs": []
    },
    {
      "cell_type": "markdown",
      "metadata": {
        "id": "49sujlSXnS31"
      },
      "source": [
        "PROPORÇÃO ENTRE INADIMPLENTES NO DATASET"
      ]
    },
    {
      "cell_type": "code",
      "metadata": {
        "colab": {
          "base_uri": "https://localhost:8080/",
          "height": 365
        },
        "id": "zsR66JnznS7y",
        "outputId": "457b8cc9-99ab-446b-9316-5f535af4edb0"
      },
      "source": [
        "fig, ax = plt.subplots()\n",
        "sns.countplot('target_default', data=df, ax=ax)\n",
        "ax.set_title('Inadimplentes')\n",
        "ax.set_xlabel('Valor')\n",
        "ax.set_ylabel('Contagem')\n",
        "plt.show();\n",
        "\n",
        "print(\"Proporção entre Inadimplentes no Dataset\")\n",
        "print(df['target_default'].value_counts() / df.shape[0])"
      ],
      "execution_count": 11,
      "outputs": [
        {
          "output_type": "display_data",
          "data": {
            "image/png": "[encoded data removed]",
            "text/plain": [
              "<Figure size 432x288 with 1 Axes>"
            ]
          },
          "metadata": {
            "needs_background": "light"
          }
        },
        {
          "output_type": "stream",
          "name": "stdout",
          "text": [
            "Proporção entre Inadimplentes no Dataset\n",
            "False    0.779556\n",
            "True     0.148022\n",
            "Name: target_default, dtype: float64\n"
          ]
        }
      ]
    },
    {
      "cell_type": "code",
      "metadata": {
        "id": "6wSVL8qlnS_w"
      },
      "source": [
        ""
      ],
      "execution_count": 11,
      "outputs": []
    },
    {
      "cell_type": "markdown",
      "metadata": {
        "id": "iJ0PvBb_q6wg"
      },
      "source": [
        "PREPARAÇÃO DOS DADOS"
      ]
    },
    {
      "cell_type": "code",
      "metadata": {
        "colab": {
          "base_uri": "https://localhost:8080/"
        },
        "id": "AipYlRwHSz71",
        "outputId": "7b216945-87a9-4f89-f84d-0f0a40dbcbee"
      },
      "source": [
        "df.columns"
      ],
      "execution_count": 12,
      "outputs": [
        {
          "output_type": "execute_result",
          "data": {
            "text/plain": [
              "Index(['ids', 'target_default', 'score_1', 'score_2', 'score_3', 'score_4',\n",
              "       'score_5', 'score_6', 'risk_rate', 'last_amount_borrowed',\n",
              "       'last_borrowed_in_months', 'credit_limit', 'reason', 'income',\n",
              "       'facebook_profile', 'state', 'zip', 'channel', 'job_name', 'real_state',\n",
              "       'ok_since', 'n_bankruptcies', 'n_defaulted_loans', 'n_accounts',\n",
              "       'n_issues', 'application_time_applied', 'application_time_in_funnel',\n",
              "       'email', 'external_data_provider_credit_checks_last_2_year',\n",
              "       'external_data_provider_credit_checks_last_month',\n",
              "       'external_data_provider_credit_checks_last_year',\n",
              "       'external_data_provider_email_seen_before',\n",
              "       'external_data_provider_first_name',\n",
              "       'external_data_provider_fraud_score', 'lat_lon', 'marketing_channel',\n",
              "       'profile_phone_number', 'reported_income', 'shipping_state',\n",
              "       'shipping_zip_code', 'profile_tags', 'user_agent', 'target_fraud'],\n",
              "      dtype='object')"
            ]
          },
          "metadata": {},
          "execution_count": 12
        }
      ]
    },
    {
      "cell_type": "code",
      "metadata": {
        "id": "FSofAQnWq62R"
      },
      "source": [
        "#fazer uma copia do dataset\n",
        "df_clean = df.copy()\n",
        "#substituir inf por nan em reported_income\n",
        "\n",
        "df_clean['reported_income'] = df_clean['reported_income'].replace(np.inf, np.nan)\n",
        "\n",
        "#descrtar as colunas ids, target_fraud\n",
        "#external_data_provid_creditchecks_2_year e channel \n",
        "\n",
        "df_clean.drop(labels = ['ids','target_fraud',\n",
        "                        'external_data_provider_credit_checks_last_2_year',\n",
        "                        'channel'], axis=1, inplace=True)\n",
        "\n",
        "#Substituir -999 em external_data_provider_email_seem_before por NaN\n",
        "\n",
        "df_clean.loc[df_clean['external_data_provider_email_seen_before'] == -999.0,\n",
        "             'external_data_provider_email_seen_before'] = np.nan\n",
        "\n",
        "#Eliminar colunas sem informação aparente ou que demandam mais pesquisas\n",
        "\n",
        "drop_var = ['reason','zip','job_name','external_data_provider_first_name',\n",
        "            'lat_lon','shipping_zip_code', 'user_agent','profile_tags',\n",
        "            'application_time_applied','email','marketing_channel',\n",
        "            'profile_phone_number','shipping_state']\n",
        "\n",
        "df_clean.drop(labels=drop_var, axis=1, inplace=True)\n",
        "\n",
        "#Eliminar as entradas onde target_default e NaN\n",
        "df_clean.dropna(subset=['target_default'], inplace=True)\n"
      ],
      "execution_count": 13,
      "outputs": []
    },
    {
      "cell_type": "markdown",
      "metadata": {
        "id": "GootxP7uq66S"
      },
      "source": [
        "Apesar de não haver maiores informações sobre as features, podemos assumir como premissas qye muitos valores são \n",
        "nulos devidos a os dois fatores\n",
        "* 1 - há algums itens que não são obrigatorios durante a etapa de preenchimeto dos formularios como a informção sobre o perfil do cliene\n",
        "\n",
        "* 2 Não existe observação alguma ã coluna como é caso das colunas['las_a,ount_boroowed', 'last_borrowed', 'n_issues'\n",
        "\n",
        "De  maneira geral, para as variabes que se enquadram n segundo caso, os valores NaN seão substituidos por zero. Para as variaveis númericos\n",
        "sera adotado o valor da mediana, e para as cateforicas o valor mais frequente."
      ]
    },
    {
      "cell_type": "code",
      "metadata": {
        "id": "Y5TpbSnpq6-y"
      },
      "source": [
        ""
      ],
      "execution_count": 13,
      "outputs": []
    },
    {
      "cell_type": "markdown",
      "metadata": {
        "id": "2WlnoGCGh-jl"
      },
      "source": [
        "PREENCHER OS VALORES NULOS"
      ]
    },
    {
      "cell_type": "code",
      "metadata": {
        "id": "xTev2OmNh-pY"
      },
      "source": [
        "num_df = df_clean.select_dtypes(exclude='object').columns\n",
        "cat_df = df_clean.select_dtypes(include='object').columns"
      ],
      "execution_count": 14,
      "outputs": []
    },
    {
      "cell_type": "code",
      "metadata": {
        "id": "BJgCYZwrh-sI"
      },
      "source": [
        "#Substituição de valores ausentes\n",
        "\n",
        "df_clean.last_amount_borrowed.fillna(value=0, inplace= True)\n",
        "df_clean.last_borrowed_in_months.fillna(value=0, inplace=True)\n",
        "df_clean.n_issues.fillna(value=0, inplace= True)"
      ],
      "execution_count": 15,
      "outputs": []
    },
    {
      "cell_type": "code",
      "metadata": {
        "id": "qOT6I4fHh-v2"
      },
      "source": [
        "#Variaveis númericas\n",
        "imputer = SimpleImputer(missing_values=np.nan, strategy='median')\n",
        "imputer = imputer.fit(df_clean.loc[:, num_df])\n",
        "df_clean.loc[:, num_df] = imputer.transform(df_clean.loc[:,num_df])\n"
      ],
      "execution_count": 16,
      "outputs": []
    },
    {
      "cell_type": "code",
      "metadata": {
        "id": "vqEMswNGh-zv"
      },
      "source": [
        "#Variaveis Categoricas\n",
        "\n",
        "imputer = SimpleImputer(missing_values=np.nan, strategy='most_frequent')\n",
        "imputer = imputer.fit(df_clean.loc[:, cat_df])\n",
        "df_clean.loc[:,cat_df] = imputer.transform(df_clean.loc[:,cat_df])"
      ],
      "execution_count": 17,
      "outputs": []
    },
    {
      "cell_type": "markdown",
      "metadata": {
        "id": "FUWtyKafolzL"
      },
      "source": [
        "-------------"
      ]
    },
    {
      "cell_type": "markdown",
      "metadata": {
        "id": "X8sIQzDQh-3c"
      },
      "source": [
        "VERIFICAR SE TEM VALORES NULOS"
      ]
    },
    {
      "cell_type": "code",
      "metadata": {
        "colab": {
          "base_uri": "https://localhost:8080/"
        },
        "id": "vj8HE7Y-q7CP",
        "outputId": "6119132a-c1da-419b-bf36-b779ec325264"
      },
      "source": [
        "df_clean.isnull().sum()"
      ],
      "execution_count": 18,
      "outputs": [
        {
          "output_type": "execute_result",
          "data": {
            "text/plain": [
              "target_default                                     0\n",
              "score_1                                            0\n",
              "score_2                                            0\n",
              "score_3                                            0\n",
              "score_4                                            0\n",
              "score_5                                            0\n",
              "score_6                                            0\n",
              "risk_rate                                          0\n",
              "last_amount_borrowed                               0\n",
              "last_borrowed_in_months                            0\n",
              "credit_limit                                       0\n",
              "income                                             0\n",
              "facebook_profile                                   0\n",
              "state                                              0\n",
              "real_state                                         0\n",
              "ok_since                                           0\n",
              "n_bankruptcies                                     0\n",
              "n_defaulted_loans                                  0\n",
              "n_accounts                                         0\n",
              "n_issues                                           0\n",
              "application_time_in_funnel                         0\n",
              "external_data_provider_credit_checks_last_month    0\n",
              "external_data_provider_credit_checks_last_year     0\n",
              "external_data_provider_email_seen_before           0\n",
              "external_data_provider_fraud_score                 0\n",
              "reported_income                                    0\n",
              "dtype: int64"
            ]
          },
          "metadata": {},
          "execution_count": 18
        }
      ]
    },
    {
      "cell_type": "markdown",
      "metadata": {
        "id": "Xnu1fioyobl1"
      },
      "source": [
        "Todos os valores nulos fora preenchidos."
      ]
    },
    {
      "cell_type": "code",
      "metadata": {
        "id": "dhhK__7qpEck"
      },
      "source": [
        ""
      ],
      "execution_count": 18,
      "outputs": []
    },
    {
      "cell_type": "markdown",
      "metadata": {
        "id": "0o9Xx4W5ogFq"
      },
      "source": [
        "-----------------------------"
      ]
    },
    {
      "cell_type": "markdown",
      "metadata": {
        "id": "W3zuPYMUo6RD"
      },
      "source": [
        "Para Melhoraro desempenho do modelo, vamos normalizar as variaveus númericas usadno o StandardScaler"
      ]
    },
    {
      "cell_type": "code",
      "metadata": {
        "id": "YHchLxaFogLV"
      },
      "source": [
        "from sklearn.preprocessing import StandardScaler, LabelEncoder"
      ],
      "execution_count": 19,
      "outputs": []
    },
    {
      "cell_type": "code",
      "metadata": {
        "id": "OMC7sW5JogQ4"
      },
      "source": [
        "scaled_df = df_clean.copy()\n",
        "#NOrmalizar as colunas numéricas\n",
        "num_cols = scaled_df.drop('target_default',\n",
        "                          axis=1).select_dtypes(exclude='object').columns\n",
        "scaled_df[num_cols] = StandardScaler().fit_transform(scaled_df[num_cols].values)                          "
      ],
      "execution_count": 20,
      "outputs": []
    },
    {
      "cell_type": "code",
      "metadata": {
        "colab": {
          "base_uri": "https://localhost:8080/",
          "height": 226
        },
        "id": "LpaF1Zc_ogau",
        "outputId": "f1a8080c-95a7-4068-c0a4-cc2f4263a8a4"
      },
      "source": [
        "scaled_df.head()"
      ],
      "execution_count": 21,
      "outputs": [
        {
          "output_type": "execute_result",
          "data": {
            "text/html": [
              "<div>\n",
              "<style scoped>\n",
              "    .dataframe tbody tr th:only-of-type {\n",
              "        vertical-align: middle;\n",
              "    }\n",
              "\n",
              "    .dataframe tbody tr th {\n",
              "        vertical-align: top;\n",
              "    }\n",
              "\n",
              "    .dataframe thead th {\n",
              "        text-align: right;\n",
              "    }\n",
              "</style>\n",
              "<table border=\"1\" class=\"dataframe\">\n",
              "  <thead>\n",
              "    <tr style=\"text-align: right;\">\n",
              "      <th></th>\n",
              "      <th>target_default</th>\n",
              "      <th>score_1</th>\n",
              "      <th>score_2</th>\n",
              "      <th>score_3</th>\n",
              "      <th>score_4</th>\n",
              "      <th>score_5</th>\n",
              "      <th>score_6</th>\n",
              "      <th>risk_rate</th>\n",
              "      <th>last_amount_borrowed</th>\n",
              "      <th>last_borrowed_in_months</th>\n",
              "      <th>credit_limit</th>\n",
              "      <th>income</th>\n",
              "      <th>facebook_profile</th>\n",
              "      <th>state</th>\n",
              "      <th>real_state</th>\n",
              "      <th>ok_since</th>\n",
              "      <th>n_bankruptcies</th>\n",
              "      <th>n_defaulted_loans</th>\n",
              "      <th>n_accounts</th>\n",
              "      <th>n_issues</th>\n",
              "      <th>application_time_in_funnel</th>\n",
              "      <th>external_data_provider_credit_checks_last_month</th>\n",
              "      <th>external_data_provider_credit_checks_last_year</th>\n",
              "      <th>external_data_provider_email_seen_before</th>\n",
              "      <th>external_data_provider_fraud_score</th>\n",
              "      <th>reported_income</th>\n",
              "    </tr>\n",
              "  </thead>\n",
              "  <tbody>\n",
              "    <tr>\n",
              "      <th>0</th>\n",
              "      <td>False</td>\n",
              "      <td>1Rk8w4Ucd5yR3KcqZzLdow==</td>\n",
              "      <td>IOVu8au3ISbo6+zmfnYwMg==</td>\n",
              "      <td>0.032154</td>\n",
              "      <td>0.563484</td>\n",
              "      <td>-0.832617</td>\n",
              "      <td>0.848870</td>\n",
              "      <td>1.039282</td>\n",
              "      <td>2.627224</td>\n",
              "      <td>1.11413</td>\n",
              "      <td>-1.031599</td>\n",
              "      <td>-0.116075</td>\n",
              "      <td>1.412589</td>\n",
              "      <td>sjJbkqJS7cXalHLBFA+EOQ==</td>\n",
              "      <td>N5/CE7lSkAfB04hVFFwllw==</td>\n",
              "      <td>-0.094349</td>\n",
              "      <td>-0.278592</td>\n",
              "      <td>-0.057693</td>\n",
              "      <td>1.604337</td>\n",
              "      <td>1.577495</td>\n",
              "      <td>1.341208</td>\n",
              "      <td>0.444809</td>\n",
              "      <td>-1.427247</td>\n",
              "      <td>1.322812</td>\n",
              "      <td>0.501783</td>\n",
              "      <td>-0.040691</td>\n",
              "    </tr>\n",
              "    <tr>\n",
              "      <th>1</th>\n",
              "      <td>False</td>\n",
              "      <td>DGCQep2AE5QRkNCshIAlFQ==</td>\n",
              "      <td>SaamrHMo23l/3TwXOWgVzw==</td>\n",
              "      <td>0.213805</td>\n",
              "      <td>-0.924750</td>\n",
              "      <td>1.538588</td>\n",
              "      <td>-0.789902</td>\n",
              "      <td>-0.536149</td>\n",
              "      <td>-0.577743</td>\n",
              "      <td>-0.68792</td>\n",
              "      <td>0.283752</td>\n",
              "      <td>0.553756</td>\n",
              "      <td>-0.707920</td>\n",
              "      <td>xsd3ZdsI3356I3xMxZeiqQ==</td>\n",
              "      <td>N5/CE7lSkAfB04hVFFwllw==</td>\n",
              "      <td>1.191063</td>\n",
              "      <td>-0.278592</td>\n",
              "      <td>-0.057693</td>\n",
              "      <td>0.732520</td>\n",
              "      <td>0.937596</td>\n",
              "      <td>0.671463</td>\n",
              "      <td>-0.452701</td>\n",
              "      <td>-1.427247</td>\n",
              "      <td>-0.635622</td>\n",
              "      <td>-0.894101</td>\n",
              "      <td>-0.040691</td>\n",
              "    </tr>\n",
              "    <tr>\n",
              "      <th>2</th>\n",
              "      <td>True</td>\n",
              "      <td>DGCQep2AE5QRkNCshIAlFQ==</td>\n",
              "      <td>Fv28Bz0YRTVAT5kl1bAV6g==</td>\n",
              "      <td>0.122980</td>\n",
              "      <td>0.006361</td>\n",
              "      <td>-0.512003</td>\n",
              "      <td>1.294382</td>\n",
              "      <td>-0.043827</td>\n",
              "      <td>0.345051</td>\n",
              "      <td>1.11413</td>\n",
              "      <td>-0.196782</td>\n",
              "      <td>-0.115893</td>\n",
              "      <td>-0.707920</td>\n",
              "      <td>Ygq6MsM98oC8yceExr69Ig==</td>\n",
              "      <td>n+xK9CfX0bCn77lClTWviw==</td>\n",
              "      <td>-0.094349</td>\n",
              "      <td>-0.278592</td>\n",
              "      <td>-0.057693</td>\n",
              "      <td>-0.139296</td>\n",
              "      <td>-1.302049</td>\n",
              "      <td>-1.652141</td>\n",
              "      <td>0.444809</td>\n",
              "      <td>0.700650</td>\n",
              "      <td>-1.096430</td>\n",
              "      <td>-1.512178</td>\n",
              "      <td>-0.040691</td>\n",
              "    </tr>\n",
              "    <tr>\n",
              "      <th>3</th>\n",
              "      <td>False</td>\n",
              "      <td>1Rk8w4Ucd5yR3KcqZzLdow==</td>\n",
              "      <td>dCm9hFKfdRm7ej3jW+gyxw==</td>\n",
              "      <td>1.485366</td>\n",
              "      <td>0.500243</td>\n",
              "      <td>1.694857</td>\n",
              "      <td>-0.500560</td>\n",
              "      <td>0.251567</td>\n",
              "      <td>-0.577743</td>\n",
              "      <td>-0.68792</td>\n",
              "      <td>0.775941</td>\n",
              "      <td>-0.043057</td>\n",
              "      <td>-0.707920</td>\n",
              "      <td>KET/Pmr6rHp1RJ/P9ymztw==</td>\n",
              "      <td>n+xK9CfX0bCn77lClTWviw==</td>\n",
              "      <td>-0.094349</td>\n",
              "      <td>3.365634</td>\n",
              "      <td>-0.057693</td>\n",
              "      <td>1.822291</td>\n",
              "      <td>1.737469</td>\n",
              "      <td>1.081511</td>\n",
              "      <td>1.342319</td>\n",
              "      <td>0.700650</td>\n",
              "      <td>0.573999</td>\n",
              "      <td>1.092082</td>\n",
              "      <td>-0.040691</td>\n",
              "    </tr>\n",
              "    <tr>\n",
              "      <th>4</th>\n",
              "      <td>False</td>\n",
              "      <td>8k8UDR4Yx0qasAjkGrUZLw==</td>\n",
              "      <td>+CxEO4w7jv3QPI/BQbyqAA==</td>\n",
              "      <td>1.394540</td>\n",
              "      <td>-0.481355</td>\n",
              "      <td>0.114978</td>\n",
              "      <td>1.816579</td>\n",
              "      <td>-1.126935</td>\n",
              "      <td>-0.577743</td>\n",
              "      <td>-0.68792</td>\n",
              "      <td>-0.196782</td>\n",
              "      <td>-0.211806</td>\n",
              "      <td>1.412589</td>\n",
              "      <td>xsd3ZdsI3356I3xMxZeiqQ==</td>\n",
              "      <td>n+xK9CfX0bCn77lClTWviw==</td>\n",
              "      <td>-0.094349</td>\n",
              "      <td>-0.278592</td>\n",
              "      <td>-0.057693</td>\n",
              "      <td>0.078658</td>\n",
              "      <td>-1.302049</td>\n",
              "      <td>-0.052955</td>\n",
              "      <td>0.444809</td>\n",
              "      <td>0.700650</td>\n",
              "      <td>1.034807</td>\n",
              "      <td>-0.626730</td>\n",
              "      <td>-0.040691</td>\n",
              "    </tr>\n",
              "  </tbody>\n",
              "</table>\n",
              "</div>"
            ],
            "text/plain": [
              "   target_default  ... reported_income\n",
              "0           False  ...       -0.040691\n",
              "1           False  ...       -0.040691\n",
              "2            True  ...       -0.040691\n",
              "3           False  ...       -0.040691\n",
              "4           False  ...       -0.040691\n",
              "\n",
              "[5 rows x 26 columns]"
            ]
          },
          "metadata": {},
          "execution_count": 21
        }
      ]
    },
    {
      "cell_type": "code",
      "metadata": {
        "id": "GGsOAw_Nogfj"
      },
      "source": [
        ""
      ],
      "execution_count": 21,
      "outputs": []
    },
    {
      "cell_type": "markdown",
      "metadata": {
        "id": "0Yg5uKfaogVe"
      },
      "source": [
        "Trabalhar os textos;\n",
        "\n",
        "Continuando com a preparaçãodos daods, irei realizar label Encoding par apossibilitar as variaveis categoricas possam ser codificadas em format de labels e alimentar o modelo de Machine Learning"
      ]
    },
    {
      "cell_type": "code",
      "metadata": {
        "id": "Sdh3TJD8ogkS"
      },
      "source": [
        ""
      ],
      "execution_count": 21,
      "outputs": []
    },
    {
      "cell_type": "code",
      "metadata": {
        "id": "NExfctjMqgbv"
      },
      "source": [
        "encoded_df = scaled_df.copy()\n",
        "#Extrair as colunas categoricas\n",
        "cat_cols = encoded_df.select_dtypes('object').columns\n",
        "\n",
        "#codificar cada coluna categoricas\n",
        "\n",
        "for col in cat_cols:\n",
        "  encoded_df[col + '_encoded'] = LabelEncoder().fit_transform(encoded_df[col])\n",
        "  encoded_df.drop(col, axis=1, inplace= True)"
      ],
      "execution_count": 22,
      "outputs": []
    },
    {
      "cell_type": "code",
      "metadata": {
        "colab": {
          "base_uri": "https://localhost:8080/",
          "height": 226
        },
        "id": "_hqJrP0Yqggw",
        "outputId": "40fa4ae5-fe6e-41f4-daa2-3ebf599c017f"
      },
      "source": [
        "encoded_df.head()"
      ],
      "execution_count": 23,
      "outputs": [
        {
          "output_type": "execute_result",
          "data": {
            "text/html": [
              "<div>\n",
              "<style scoped>\n",
              "    .dataframe tbody tr th:only-of-type {\n",
              "        vertical-align: middle;\n",
              "    }\n",
              "\n",
              "    .dataframe tbody tr th {\n",
              "        vertical-align: top;\n",
              "    }\n",
              "\n",
              "    .dataframe thead th {\n",
              "        text-align: right;\n",
              "    }\n",
              "</style>\n",
              "<table border=\"1\" class=\"dataframe\">\n",
              "  <thead>\n",
              "    <tr style=\"text-align: right;\">\n",
              "      <th></th>\n",
              "      <th>target_default</th>\n",
              "      <th>score_3</th>\n",
              "      <th>score_4</th>\n",
              "      <th>score_5</th>\n",
              "      <th>score_6</th>\n",
              "      <th>risk_rate</th>\n",
              "      <th>last_amount_borrowed</th>\n",
              "      <th>last_borrowed_in_months</th>\n",
              "      <th>credit_limit</th>\n",
              "      <th>income</th>\n",
              "      <th>facebook_profile</th>\n",
              "      <th>ok_since</th>\n",
              "      <th>n_bankruptcies</th>\n",
              "      <th>n_defaulted_loans</th>\n",
              "      <th>n_accounts</th>\n",
              "      <th>n_issues</th>\n",
              "      <th>application_time_in_funnel</th>\n",
              "      <th>external_data_provider_credit_checks_last_month</th>\n",
              "      <th>external_data_provider_credit_checks_last_year</th>\n",
              "      <th>external_data_provider_email_seen_before</th>\n",
              "      <th>external_data_provider_fraud_score</th>\n",
              "      <th>reported_income</th>\n",
              "      <th>score_1_encoded</th>\n",
              "      <th>score_2_encoded</th>\n",
              "      <th>state_encoded</th>\n",
              "      <th>real_state_encoded</th>\n",
              "    </tr>\n",
              "  </thead>\n",
              "  <tbody>\n",
              "    <tr>\n",
              "      <th>0</th>\n",
              "      <td>False</td>\n",
              "      <td>0.032154</td>\n",
              "      <td>0.563484</td>\n",
              "      <td>-0.832617</td>\n",
              "      <td>0.848870</td>\n",
              "      <td>1.039282</td>\n",
              "      <td>2.627224</td>\n",
              "      <td>1.11413</td>\n",
              "      <td>-1.031599</td>\n",
              "      <td>-0.116075</td>\n",
              "      <td>1.412589</td>\n",
              "      <td>-0.094349</td>\n",
              "      <td>-0.278592</td>\n",
              "      <td>-0.057693</td>\n",
              "      <td>1.604337</td>\n",
              "      <td>1.577495</td>\n",
              "      <td>1.341208</td>\n",
              "      <td>0.444809</td>\n",
              "      <td>-1.427247</td>\n",
              "      <td>1.322812</td>\n",
              "      <td>0.501783</td>\n",
              "      <td>-0.040691</td>\n",
              "      <td>0</td>\n",
              "      <td>10</td>\n",
              "      <td>44</td>\n",
              "      <td>1</td>\n",
              "    </tr>\n",
              "    <tr>\n",
              "      <th>1</th>\n",
              "      <td>False</td>\n",
              "      <td>0.213805</td>\n",
              "      <td>-0.924750</td>\n",
              "      <td>1.538588</td>\n",
              "      <td>-0.789902</td>\n",
              "      <td>-0.536149</td>\n",
              "      <td>-0.577743</td>\n",
              "      <td>-0.68792</td>\n",
              "      <td>0.283752</td>\n",
              "      <td>0.553756</td>\n",
              "      <td>-0.707920</td>\n",
              "      <td>1.191063</td>\n",
              "      <td>-0.278592</td>\n",
              "      <td>-0.057693</td>\n",
              "      <td>0.732520</td>\n",
              "      <td>0.937596</td>\n",
              "      <td>0.671463</td>\n",
              "      <td>-0.452701</td>\n",
              "      <td>-1.427247</td>\n",
              "      <td>-0.635622</td>\n",
              "      <td>-0.894101</td>\n",
              "      <td>-0.040691</td>\n",
              "      <td>3</td>\n",
              "      <td>16</td>\n",
              "      <td>47</td>\n",
              "      <td>1</td>\n",
              "    </tr>\n",
              "    <tr>\n",
              "      <th>2</th>\n",
              "      <td>True</td>\n",
              "      <td>0.122980</td>\n",
              "      <td>0.006361</td>\n",
              "      <td>-0.512003</td>\n",
              "      <td>1.294382</td>\n",
              "      <td>-0.043827</td>\n",
              "      <td>0.345051</td>\n",
              "      <td>1.11413</td>\n",
              "      <td>-0.196782</td>\n",
              "      <td>-0.115893</td>\n",
              "      <td>-0.707920</td>\n",
              "      <td>-0.094349</td>\n",
              "      <td>-0.278592</td>\n",
              "      <td>-0.057693</td>\n",
              "      <td>-0.139296</td>\n",
              "      <td>-1.302049</td>\n",
              "      <td>-1.652141</td>\n",
              "      <td>0.444809</td>\n",
              "      <td>0.700650</td>\n",
              "      <td>-1.096430</td>\n",
              "      <td>-1.512178</td>\n",
              "      <td>-0.040691</td>\n",
              "      <td>3</td>\n",
              "      <td>9</td>\n",
              "      <td>32</td>\n",
              "      <td>3</td>\n",
              "    </tr>\n",
              "    <tr>\n",
              "      <th>3</th>\n",
              "      <td>False</td>\n",
              "      <td>1.485366</td>\n",
              "      <td>0.500243</td>\n",
              "      <td>1.694857</td>\n",
              "      <td>-0.500560</td>\n",
              "      <td>0.251567</td>\n",
              "      <td>-0.577743</td>\n",
              "      <td>-0.68792</td>\n",
              "      <td>0.775941</td>\n",
              "      <td>-0.043057</td>\n",
              "      <td>-0.707920</td>\n",
              "      <td>-0.094349</td>\n",
              "      <td>3.365634</td>\n",
              "      <td>-0.057693</td>\n",
              "      <td>1.822291</td>\n",
              "      <td>1.737469</td>\n",
              "      <td>1.081511</td>\n",
              "      <td>1.342319</td>\n",
              "      <td>0.700650</td>\n",
              "      <td>0.573999</td>\n",
              "      <td>1.092082</td>\n",
              "      <td>-0.040691</td>\n",
              "      <td>0</td>\n",
              "      <td>21</td>\n",
              "      <td>23</td>\n",
              "      <td>3</td>\n",
              "    </tr>\n",
              "    <tr>\n",
              "      <th>4</th>\n",
              "      <td>False</td>\n",
              "      <td>1.394540</td>\n",
              "      <td>-0.481355</td>\n",
              "      <td>0.114978</td>\n",
              "      <td>1.816579</td>\n",
              "      <td>-1.126935</td>\n",
              "      <td>-0.577743</td>\n",
              "      <td>-0.68792</td>\n",
              "      <td>-0.196782</td>\n",
              "      <td>-0.211806</td>\n",
              "      <td>1.412589</td>\n",
              "      <td>-0.094349</td>\n",
              "      <td>-0.278592</td>\n",
              "      <td>-0.057693</td>\n",
              "      <td>0.078658</td>\n",
              "      <td>-1.302049</td>\n",
              "      <td>-0.052955</td>\n",
              "      <td>0.444809</td>\n",
              "      <td>0.700650</td>\n",
              "      <td>1.034807</td>\n",
              "      <td>-0.626730</td>\n",
              "      <td>-0.040691</td>\n",
              "      <td>2</td>\n",
              "      <td>1</td>\n",
              "      <td>47</td>\n",
              "      <td>3</td>\n",
              "    </tr>\n",
              "  </tbody>\n",
              "</table>\n",
              "</div>"
            ],
            "text/plain": [
              "   target_default   score_3  ...  state_encoded  real_state_encoded\n",
              "0           False  0.032154  ...             44                   1\n",
              "1           False  0.213805  ...             47                   1\n",
              "2            True  0.122980  ...             32                   3\n",
              "3           False  1.485366  ...             23                   3\n",
              "4           False  1.394540  ...             47                   3\n",
              "\n",
              "[5 rows x 26 columns]"
            ]
          },
          "metadata": {},
          "execution_count": 23
        }
      ]
    },
    {
      "cell_type": "markdown",
      "metadata": {
        "id": "QOgKXVIcr7Qf"
      },
      "source": [
        "Tiramos todas aquela string que não estava com o planejamento."
      ]
    },
    {
      "cell_type": "code",
      "metadata": {
        "id": "_LOwoBiFr73P"
      },
      "source": [
        ""
      ],
      "execution_count": 23,
      "outputs": []
    },
    {
      "cell_type": "markdown",
      "metadata": {
        "id": "9PA1KZ4esRe9"
      },
      "source": [
        "DIVIDIR EM TREINO E TESTE"
      ]
    },
    {
      "cell_type": "markdown",
      "metadata": {
        "id": "xNWWopuJqgky"
      },
      "source": [
        "Por fim, irei separar a variavel alvo das demais e dividir o dataset entre dados de treino e teste com a função train_test_split"
      ]
    },
    {
      "cell_type": "code",
      "metadata": {
        "id": "ZTipM8tvqgoU"
      },
      "source": [
        "from sklearn.model_selection import train_test_split"
      ],
      "execution_count": 24,
      "outputs": []
    },
    {
      "cell_type": "code",
      "metadata": {
        "id": "bGEyEd6iogoo"
      },
      "source": [
        "#Separar as variaveis idependentes da variavel alvo \n",
        "X = encoded_df.drop('target_default', axis=1).select_dtypes(exclude='object')\n",
        "y = encoded_df['target_default']\n",
        "\n",
        "#dividir o dataset entre treino e teste\n",
        "X_train, X_test, y_train, y_test = train_test_split(X, y, test_size=0.3)"
      ],
      "execution_count": 25,
      "outputs": []
    },
    {
      "cell_type": "code",
      "metadata": {
        "id": "JdRiZCowsggj"
      },
      "source": [
        ""
      ],
      "execution_count": 25,
      "outputs": []
    },
    {
      "cell_type": "markdown",
      "metadata": {
        "id": "KlVR7tD7tSmx"
      },
      "source": [
        "CONSTRUÇÃO DO MODELO"
      ]
    },
    {
      "cell_type": "markdown",
      "metadata": {
        "id": "w3R5WildtSrP"
      },
      "source": [
        "O XGBOOOST par acontrução do modelo, um avez que este vem se destancando e apresentando bons\n",
        "resultados em problemas similares a este.\n",
        "Não foi realizado uma analise mais aprofundada sobre as variaveis e nem um tunning de parametro, mas construindo um modelo simplres ára servir\n",
        "de baseline.\n",
        "\n",
        "Resalta-se que os valores dos parametros do XGBoost também  foram generalista e arbitrarios.\n"
      ]
    },
    {
      "cell_type": "code",
      "metadata": {
        "id": "CJL7YB2DtSvb"
      },
      "source": [
        "from xgboost import XGBClassifier\n",
        "from sklearn.metrics import roc_auc_score, confusion_matrix, classification_report, plot_confusion_matrix, accuracy_score, f1_score"
      ],
      "execution_count": 27,
      "outputs": []
    },
    {
      "cell_type": "code",
      "metadata": {
        "colab": {
          "base_uri": "https://localhost:8080/"
        },
        "id": "WLkT2Cw4tSzR",
        "outputId": "c6ca3ab2-b953-4218-8f41-f7671f41bee5"
      },
      "source": [
        "#Instanciando o modelo e treinando o mesmo \n",
        "\n",
        "ml_model = XGBClassifier(learning_rate=0.01, n_estimators=1000,\n",
        "                         max_depth=3, subsample = 0.9,\n",
        "                         colsample_bytree = 0.1, gamma=1,\n",
        "                         random_state=42)\n",
        "ml_model.fit(X_train, y_train)"
      ],
      "execution_count": 28,
      "outputs": [
        {
          "output_type": "execute_result",
          "data": {
            "text/plain": [
              "XGBClassifier(base_score=0.5, booster='gbtree', colsample_bylevel=1,\n",
              "              colsample_bynode=1, colsample_bytree=0.1, gamma=1,\n",
              "              learning_rate=0.01, max_delta_step=0, max_depth=3,\n",
              "              min_child_weight=1, missing=None, n_estimators=1000, n_jobs=1,\n",
              "              nthread=None, objective='binary:logistic', random_state=42,\n",
              "              reg_alpha=0, reg_lambda=1, scale_pos_weight=1, seed=None,\n",
              "              silent=None, subsample=0.9, verbosity=1)"
            ]
          },
          "metadata": {},
          "execution_count": 28
        }
      ]
    },
    {
      "cell_type": "code",
      "metadata": {
        "id": "l-maB1zkt4la"
      },
      "source": [
        ""
      ],
      "execution_count": null,
      "outputs": []
    },
    {
      "cell_type": "markdown",
      "metadata": {
        "id": "XnB5v1pbtS3c"
      },
      "source": [
        "Lembrando, que o dataset utilizado neste projeto é desbalanceado(tenho mais informação de um lado do que do outro ), o que pode gerar métricas que não representam \n",
        "a realidade da situação problemática do mundo real \n",
        "\n",
        "Sem serexaustivo, será apresentada apenas a acurácia do modelo como métricas simples de avaliação.\n",
        "                                                                                                     "
      ]
    },
    {
      "cell_type": "code",
      "metadata": {
        "id": "E33wJqIotS74"
      },
      "source": [
        "#previsões e probabilidade em cima do dataset de teste\n",
        "\n",
        "Y_pred = ml_model.predict(X_test)"
      ],
      "execution_count": 29,
      "outputs": []
    },
    {
      "cell_type": "code",
      "metadata": {
        "colab": {
          "base_uri": "https://localhost:8080/"
        },
        "id": "j-Vn24c6tTAD",
        "outputId": "cfae222c-3025-4b5e-c4bd-9625ad0b6734"
      },
      "source": [
        "#Ver performance do algoritmo \n",
        "\n",
        "print( '\\nAccuracy Score:')\n",
        "print(accuracy_score(y_test, Y_pred))"
      ],
      "execution_count": 31,
      "outputs": [
        {
          "output_type": "stream",
          "name": "stdout",
          "text": [
            "\n",
            "Accuracy Score:\n",
            "0.8387766509622295\n"
          ]
        }
      ]
    },
    {
      "cell_type": "markdown",
      "metadata": {
        "id": "uKB9wYd_yMIe"
      },
      "source": [
        "-------------"
      ]
    },
    {
      "cell_type": "markdown",
      "metadata": {
        "id": "dOYWO-litTDJ"
      },
      "source": [
        "Pode-se assumir a premissa de que este é um problema multiobjsetiva de otimização, onde espera-se tanto a quantidade de false\n",
        "potives quanto maximizar a quantidade de true posives.\n",
        "\n",
        "para esta etapa a utilização da métrica a acurácia pode ser estabelecidas a fim de comparação entre diferentes de Machine.\n",
        "\n",
        "Como ação futura, recomenda-se a utilização de problem Structuring  Method para defiir pesos para cada objetivos individual a fim de \n",
        "estabelecer uma função objetia para a modelagem."
      ]
    },
    {
      "cell_type": "code",
      "metadata": {
        "id": "hk8Wdnn9sgmK"
      },
      "source": [
        ""
      ],
      "execution_count": 25,
      "outputs": []
    }
  ]
}