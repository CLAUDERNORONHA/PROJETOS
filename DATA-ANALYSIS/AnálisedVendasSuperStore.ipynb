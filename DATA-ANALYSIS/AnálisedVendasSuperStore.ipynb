{
  "nbformat": 4,
  "nbformat_minor": 0,
  "metadata": {
    "colab": {
      "name": "AnálisedVendasSuperStore.ipynb",
      "provenance": [],
      "collapsed_sections": [],
      "mount_file_id": "15cP9V7noExEjYcOOjgkkds6xW-4Rjq-6",
      "authorship_tag": "ABX9TyO9Ctg7rYk4WN72881Ip7U5",
      "include_colab_link": true
    },
    "kernelspec": {
      "name": "python3",
      "display_name": "Python 3"
    },
    "language_info": {
      "name": "python"
    }
  },
  "cells": [
    {
      "cell_type": "markdown",
      "metadata": {
        "id": "view-in-github",
        "colab_type": "text"
      },
      "source": [
        "<a href=\"https://colab.research.google.com/github/CLAUDERNORONHA/PROJETO/blob/main/An%C3%A1lisedVendasSuperStore.ipynb\" target=\"_parent\"><img src=\"https://colab.research.google.com/assets/colab-badge.svg\" alt=\"Open In Colab\"/></a>"
      ]
    },
    {
      "cell_type": "code",
      "source": [
        ""
      ],
      "metadata": {
        "id": "ZSgb61eROdKq"
      },
      "execution_count": null,
      "outputs": []
    },
    {
      "cell_type": "markdown",
      "source": [
        "Clauder Noronha"
      ],
      "metadata": {
        "id": "D0aVRGndzAg1"
      }
    },
    {
      "cell_type": "code",
      "source": [
        ""
      ],
      "metadata": {
        "id": "hEJYKoqCOcZz"
      },
      "execution_count": null,
      "outputs": []
    },
    {
      "cell_type": "markdown",
      "source": [
        "Análise de Vendas Super Store\n",
        "\n",
        "\n",
        "Analise os dados de vendas do Super Store Mart e identifique oportunidades para impulsionar o crescimento dos negócios"
      ],
      "metadata": {
        "id": "SmGEuKtKNywP"
      }
    },
    {
      "cell_type": "markdown",
      "source": [
        "Introdução:\n",
        "\n",
        "\n",
        "\n",
        "A Super Store é uma pequena empresa de varejo localizada nos Estados Unidos. Eles vendem Móveis, Material de Escritório e Produtos de Tecnologia e seus clientes são Consumidores de Massa, Escritórios Corporativos e Domésticos.\n",
        "\n",
        "\n",
        "O conjunto de dados contém vendas, lucro e informações geográficas da Super Store.\n",
        "\n",
        "Nossa tarefa é analisar os dados de vendas e identificar áreas fracas e oportunidades para a Super Store impulsionar o crescimento do negócio.\n",
        "\n",
        "\n",
        "\n",
        "**Perguntas de negócios**\n",
        "\n",
        " * Qual categoria é a mais vendida e mais lucrativa?\n",
        "\n",
        "* Quais são as subcategorias mais vendidas e mais lucrativas?\n",
        "\n",
        "* Qual é a subcategoria mais vendida?\n",
        "\n",
        "* Qual segmento de clientes é mais lucrativo?\n",
        "\n",
        "* Qual é o modo de envio preferido?\n",
        "\n",
        "* Qual região é a mais lucrativa?\n",
        "\n",
        "* Qual cidade tem o maior número de vendas?\n",
        "\n",
        "* Quem está lendo esta análise?\n",
        "\n",
        "\n",
        "Assumimos que a Super Store é uma empresa familiar e pertence a 1 ou 2 proprietários que investem muito em seus negócios.\n",
        "\n",
        "\n",
        "Os proprietários provavelmente não são especialistas em leitura de gráficos ou interpretação de análises estatísticas, portanto, nossa análise será em termos leigos e fácil de entender.\n"
      ],
      "metadata": {
        "id": "cix8x76QN15L"
      }
    },
    {
      "cell_type": "code",
      "source": [
        "import pandas as pd\n",
        "import numpy as np\n",
        "import seaborn as sns \n",
        "import matplotlib.pyplot as plt "
      ],
      "metadata": {
        "id": "3aYKcUX-zG4m"
      },
      "execution_count": 1,
      "outputs": []
    },
    {
      "cell_type": "code",
      "source": [
        ""
      ],
      "metadata": {
        "id": "A5hF5eEKzG8G"
      },
      "execution_count": null,
      "outputs": []
    },
    {
      "cell_type": "markdown",
      "source": [
        "EXPLORANO OS DADOS"
      ],
      "metadata": {
        "id": "QZVsV12gzG_I"
      }
    },
    {
      "cell_type": "code",
      "source": [
        "dados = pd.read_csv('/content/drive/MyDrive/1-CIENCIA DE DADOS-CURSOS_ESTUDO DE CASO/ESTUDO DE CASO/Análise de Vendas Super Store/SampleSuperstore.csv')\n",
        "dados.head()"
      ],
      "metadata": {
        "colab": {
          "base_uri": "https://localhost:8080/",
          "height": 206
        },
        "id": "_eu2cUSU07od",
        "outputId": "69b1c1fc-eb63-43a3-a1dc-ecb75053ec8c"
      },
      "execution_count": 3,
      "outputs": [
        {
          "output_type": "execute_result",
          "data": {
            "text/html": [
              "<div>\n",
              "<style scoped>\n",
              "    .dataframe tbody tr th:only-of-type {\n",
              "        vertical-align: middle;\n",
              "    }\n",
              "\n",
              "    .dataframe tbody tr th {\n",
              "        vertical-align: top;\n",
              "    }\n",
              "\n",
              "    .dataframe thead th {\n",
              "        text-align: right;\n",
              "    }\n",
              "</style>\n",
              "<table border=\"1\" class=\"dataframe\">\n",
              "  <thead>\n",
              "    <tr style=\"text-align: right;\">\n",
              "      <th></th>\n",
              "      <th>Ship Mode</th>\n",
              "      <th>Segment</th>\n",
              "      <th>Country</th>\n",
              "      <th>City</th>\n",
              "      <th>State</th>\n",
              "      <th>Postal Code</th>\n",
              "      <th>Region</th>\n",
              "      <th>Category</th>\n",
              "      <th>Sub-Category</th>\n",
              "      <th>Sales</th>\n",
              "      <th>Quantity</th>\n",
              "      <th>Discount</th>\n",
              "      <th>Profit</th>\n",
              "    </tr>\n",
              "  </thead>\n",
              "  <tbody>\n",
              "    <tr>\n",
              "      <th>0</th>\n",
              "      <td>Second Class</td>\n",
              "      <td>Consumer</td>\n",
              "      <td>United States</td>\n",
              "      <td>Henderson</td>\n",
              "      <td>Kentucky</td>\n",
              "      <td>42420</td>\n",
              "      <td>South</td>\n",
              "      <td>Furniture</td>\n",
              "      <td>Bookcases</td>\n",
              "      <td>261.9600</td>\n",
              "      <td>2</td>\n",
              "      <td>0.00</td>\n",
              "      <td>41.9136</td>\n",
              "    </tr>\n",
              "    <tr>\n",
              "      <th>1</th>\n",
              "      <td>Second Class</td>\n",
              "      <td>Consumer</td>\n",
              "      <td>United States</td>\n",
              "      <td>Henderson</td>\n",
              "      <td>Kentucky</td>\n",
              "      <td>42420</td>\n",
              "      <td>South</td>\n",
              "      <td>Furniture</td>\n",
              "      <td>Chairs</td>\n",
              "      <td>731.9400</td>\n",
              "      <td>3</td>\n",
              "      <td>0.00</td>\n",
              "      <td>219.5820</td>\n",
              "    </tr>\n",
              "    <tr>\n",
              "      <th>2</th>\n",
              "      <td>Second Class</td>\n",
              "      <td>Corporate</td>\n",
              "      <td>United States</td>\n",
              "      <td>Los Angeles</td>\n",
              "      <td>California</td>\n",
              "      <td>90036</td>\n",
              "      <td>West</td>\n",
              "      <td>Office Supplies</td>\n",
              "      <td>Labels</td>\n",
              "      <td>14.6200</td>\n",
              "      <td>2</td>\n",
              "      <td>0.00</td>\n",
              "      <td>6.8714</td>\n",
              "    </tr>\n",
              "    <tr>\n",
              "      <th>3</th>\n",
              "      <td>Standard Class</td>\n",
              "      <td>Consumer</td>\n",
              "      <td>United States</td>\n",
              "      <td>Fort Lauderdale</td>\n",
              "      <td>Florida</td>\n",
              "      <td>33311</td>\n",
              "      <td>South</td>\n",
              "      <td>Furniture</td>\n",
              "      <td>Tables</td>\n",
              "      <td>957.5775</td>\n",
              "      <td>5</td>\n",
              "      <td>0.45</td>\n",
              "      <td>-383.0310</td>\n",
              "    </tr>\n",
              "    <tr>\n",
              "      <th>4</th>\n",
              "      <td>Standard Class</td>\n",
              "      <td>Consumer</td>\n",
              "      <td>United States</td>\n",
              "      <td>Fort Lauderdale</td>\n",
              "      <td>Florida</td>\n",
              "      <td>33311</td>\n",
              "      <td>South</td>\n",
              "      <td>Office Supplies</td>\n",
              "      <td>Storage</td>\n",
              "      <td>22.3680</td>\n",
              "      <td>2</td>\n",
              "      <td>0.20</td>\n",
              "      <td>2.5164</td>\n",
              "    </tr>\n",
              "  </tbody>\n",
              "</table>\n",
              "</div>"
            ],
            "text/plain": [
              "        Ship Mode    Segment        Country  ... Quantity Discount    Profit\n",
              "0    Second Class   Consumer  United States  ...        2     0.00   41.9136\n",
              "1    Second Class   Consumer  United States  ...        3     0.00  219.5820\n",
              "2    Second Class  Corporate  United States  ...        2     0.00    6.8714\n",
              "3  Standard Class   Consumer  United States  ...        5     0.45 -383.0310\n",
              "4  Standard Class   Consumer  United States  ...        2     0.20    2.5164\n",
              "\n",
              "[5 rows x 13 columns]"
            ]
          },
          "metadata": {},
          "execution_count": 3
        }
      ]
    },
    {
      "cell_type": "code",
      "source": [
        ""
      ],
      "metadata": {
        "id": "Ax3kk11H07sF"
      },
      "execution_count": null,
      "outputs": []
    },
    {
      "cell_type": "code",
      "source": [
        "#Visualizar 5 ultimas linhas\n",
        "\n",
        "dados.tail()"
      ],
      "metadata": {
        "colab": {
          "base_uri": "https://localhost:8080/",
          "height": 206
        },
        "id": "yM7a8EWS07vH",
        "outputId": "f0da1dcf-2af0-4419-b4c1-afcade936dd3"
      },
      "execution_count": 4,
      "outputs": [
        {
          "output_type": "execute_result",
          "data": {
            "text/html": [
              "<div>\n",
              "<style scoped>\n",
              "    .dataframe tbody tr th:only-of-type {\n",
              "        vertical-align: middle;\n",
              "    }\n",
              "\n",
              "    .dataframe tbody tr th {\n",
              "        vertical-align: top;\n",
              "    }\n",
              "\n",
              "    .dataframe thead th {\n",
              "        text-align: right;\n",
              "    }\n",
              "</style>\n",
              "<table border=\"1\" class=\"dataframe\">\n",
              "  <thead>\n",
              "    <tr style=\"text-align: right;\">\n",
              "      <th></th>\n",
              "      <th>Ship Mode</th>\n",
              "      <th>Segment</th>\n",
              "      <th>Country</th>\n",
              "      <th>City</th>\n",
              "      <th>State</th>\n",
              "      <th>Postal Code</th>\n",
              "      <th>Region</th>\n",
              "      <th>Category</th>\n",
              "      <th>Sub-Category</th>\n",
              "      <th>Sales</th>\n",
              "      <th>Quantity</th>\n",
              "      <th>Discount</th>\n",
              "      <th>Profit</th>\n",
              "    </tr>\n",
              "  </thead>\n",
              "  <tbody>\n",
              "    <tr>\n",
              "      <th>9989</th>\n",
              "      <td>Second Class</td>\n",
              "      <td>Consumer</td>\n",
              "      <td>United States</td>\n",
              "      <td>Miami</td>\n",
              "      <td>Florida</td>\n",
              "      <td>33180</td>\n",
              "      <td>South</td>\n",
              "      <td>Furniture</td>\n",
              "      <td>Furnishings</td>\n",
              "      <td>25.248</td>\n",
              "      <td>3</td>\n",
              "      <td>0.2</td>\n",
              "      <td>4.1028</td>\n",
              "    </tr>\n",
              "    <tr>\n",
              "      <th>9990</th>\n",
              "      <td>Standard Class</td>\n",
              "      <td>Consumer</td>\n",
              "      <td>United States</td>\n",
              "      <td>Costa Mesa</td>\n",
              "      <td>California</td>\n",
              "      <td>92627</td>\n",
              "      <td>West</td>\n",
              "      <td>Furniture</td>\n",
              "      <td>Furnishings</td>\n",
              "      <td>91.960</td>\n",
              "      <td>2</td>\n",
              "      <td>0.0</td>\n",
              "      <td>15.6332</td>\n",
              "    </tr>\n",
              "    <tr>\n",
              "      <th>9991</th>\n",
              "      <td>Standard Class</td>\n",
              "      <td>Consumer</td>\n",
              "      <td>United States</td>\n",
              "      <td>Costa Mesa</td>\n",
              "      <td>California</td>\n",
              "      <td>92627</td>\n",
              "      <td>West</td>\n",
              "      <td>Technology</td>\n",
              "      <td>Phones</td>\n",
              "      <td>258.576</td>\n",
              "      <td>2</td>\n",
              "      <td>0.2</td>\n",
              "      <td>19.3932</td>\n",
              "    </tr>\n",
              "    <tr>\n",
              "      <th>9992</th>\n",
              "      <td>Standard Class</td>\n",
              "      <td>Consumer</td>\n",
              "      <td>United States</td>\n",
              "      <td>Costa Mesa</td>\n",
              "      <td>California</td>\n",
              "      <td>92627</td>\n",
              "      <td>West</td>\n",
              "      <td>Office Supplies</td>\n",
              "      <td>Paper</td>\n",
              "      <td>29.600</td>\n",
              "      <td>4</td>\n",
              "      <td>0.0</td>\n",
              "      <td>13.3200</td>\n",
              "    </tr>\n",
              "    <tr>\n",
              "      <th>9993</th>\n",
              "      <td>Second Class</td>\n",
              "      <td>Consumer</td>\n",
              "      <td>United States</td>\n",
              "      <td>Westminster</td>\n",
              "      <td>California</td>\n",
              "      <td>92683</td>\n",
              "      <td>West</td>\n",
              "      <td>Office Supplies</td>\n",
              "      <td>Appliances</td>\n",
              "      <td>243.160</td>\n",
              "      <td>2</td>\n",
              "      <td>0.0</td>\n",
              "      <td>72.9480</td>\n",
              "    </tr>\n",
              "  </tbody>\n",
              "</table>\n",
              "</div>"
            ],
            "text/plain": [
              "           Ship Mode   Segment        Country  ... Quantity Discount   Profit\n",
              "9989    Second Class  Consumer  United States  ...        3      0.2   4.1028\n",
              "9990  Standard Class  Consumer  United States  ...        2      0.0  15.6332\n",
              "9991  Standard Class  Consumer  United States  ...        2      0.2  19.3932\n",
              "9992  Standard Class  Consumer  United States  ...        4      0.0  13.3200\n",
              "9993    Second Class  Consumer  United States  ...        2      0.0  72.9480\n",
              "\n",
              "[5 rows x 13 columns]"
            ]
          },
          "metadata": {},
          "execution_count": 4
        }
      ]
    },
    {
      "cell_type": "markdown",
      "source": [
        "Pode facilmente dizer que existe uma mistura de variáveis ​​categóricas, geográficas e numéricas.\n",
        "Cada linha representa um pedido de um item e a quantidade, vendas, desconto e lucro correspondentes. Há também o modo de envio, segmento do cliente e aspectos geográficos."
      ],
      "metadata": {
        "id": "qB48V50Z07x_"
      }
    },
    {
      "cell_type": "code",
      "source": [
        ""
      ],
      "metadata": {
        "id": "tjxNR4fn074V"
      },
      "execution_count": null,
      "outputs": []
    },
    {
      "cell_type": "code",
      "source": [
        "#Quantidade de linhas e colunas\n",
        " \n",
        "dados.shape"
      ],
      "metadata": {
        "colab": {
          "base_uri": "https://localhost:8080/"
        },
        "id": "NiK-z3Ct1hpa",
        "outputId": "eeb33809-cb48-4917-efe6-9115eb399bbb"
      },
      "execution_count": 8,
      "outputs": [
        {
          "output_type": "execute_result",
          "data": {
            "text/plain": [
              "(9994, 13)"
            ]
          },
          "metadata": {},
          "execution_count": 8
        }
      ]
    },
    {
      "cell_type": "code",
      "source": [
        "#Informação basica do Dataset\n",
        "\n",
        "dados.info()\n"
      ],
      "metadata": {
        "colab": {
          "base_uri": "https://localhost:8080/"
        },
        "id": "k4JbQAqK1htG",
        "outputId": "e58241e2-2ace-43ee-f1d5-d3b1927b04cc"
      },
      "execution_count": 9,
      "outputs": [
        {
          "output_type": "stream",
          "name": "stdout",
          "text": [
            "<class 'pandas.core.frame.DataFrame'>\n",
            "RangeIndex: 9994 entries, 0 to 9993\n",
            "Data columns (total 13 columns):\n",
            " #   Column        Non-Null Count  Dtype  \n",
            "---  ------        --------------  -----  \n",
            " 0   Ship Mode     9994 non-null   object \n",
            " 1   Segment       9994 non-null   object \n",
            " 2   Country       9994 non-null   object \n",
            " 3   City          9994 non-null   object \n",
            " 4   State         9994 non-null   object \n",
            " 5   Postal Code   9994 non-null   int64  \n",
            " 6   Region        9994 non-null   object \n",
            " 7   Category      9994 non-null   object \n",
            " 8   Sub-Category  9994 non-null   object \n",
            " 9   Sales         9994 non-null   float64\n",
            " 10  Quantity      9994 non-null   int64  \n",
            " 11  Discount      9994 non-null   float64\n",
            " 12  Profit        9994 non-null   float64\n",
            "dtypes: float64(3), int64(2), object(8)\n",
            "memory usage: 1015.1+ KB\n"
          ]
        }
      ]
    },
    {
      "cell_type": "code",
      "source": [
        ""
      ],
      "metadata": {
        "id": "hoGte55E1hwl"
      },
      "execution_count": null,
      "outputs": []
    },
    {
      "cell_type": "markdown",
      "source": [
        "LIMPEZA DOS DADOS"
      ],
      "metadata": {
        "id": "nLeO6W1-1h0F"
      }
    },
    {
      "cell_type": "code",
      "source": [
        ""
      ],
      "metadata": {
        "id": "soF2p_l21h3Z"
      },
      "execution_count": null,
      "outputs": []
    },
    {
      "cell_type": "code",
      "source": [
        "dados.isnull().sum()"
      ],
      "metadata": {
        "colab": {
          "base_uri": "https://localhost:8080/"
        },
        "id": "m-OGcw9tzFQw",
        "outputId": "25ea681a-ba14-44f6-9fa3-0152eafb8fee"
      },
      "execution_count": 11,
      "outputs": [
        {
          "output_type": "execute_result",
          "data": {
            "text/plain": [
              "Ship Mode       0\n",
              "Segment         0\n",
              "Country         0\n",
              "City            0\n",
              "State           0\n",
              "Postal Code     0\n",
              "Region          0\n",
              "Category        0\n",
              "Sub-Category    0\n",
              "Sales           0\n",
              "Quantity        0\n",
              "Discount        0\n",
              "Profit          0\n",
              "dtype: int64"
            ]
          },
          "metadata": {},
          "execution_count": 11
        }
      ]
    },
    {
      "cell_type": "markdown",
      "source": [
        "Não existe dados nulos"
      ],
      "metadata": {
        "id": "zGTvUztn5DbT"
      }
    },
    {
      "cell_type": "code",
      "source": [
        ""
      ],
      "metadata": {
        "id": "TbsGXbHA5LDc"
      },
      "execution_count": null,
      "outputs": []
    },
    {
      "cell_type": "markdown",
      "source": [
        "DADOS DUPLICADOS "
      ],
      "metadata": {
        "id": "n9VZJwLG5LGu"
      }
    },
    {
      "cell_type": "code",
      "source": [
        "dados.duplicated().sum()"
      ],
      "metadata": {
        "colab": {
          "base_uri": "https://localhost:8080/"
        },
        "id": "Vv-RcQC45LNa",
        "outputId": "22edc686-98f3-4cab-9e3a-9e4f42f477b8"
      },
      "execution_count": 12,
      "outputs": [
        {
          "output_type": "execute_result",
          "data": {
            "text/plain": [
              "17"
            ]
          },
          "metadata": {},
          "execution_count": 12
        }
      ]
    },
    {
      "cell_type": "markdown",
      "source": [
        "O resultado mostra que existem 17 linhas duplicadas. Vamos executar outra função para visualizar os dados duplicados."
      ],
      "metadata": {
        "id": "mrkja5_p5LRl"
      }
    },
    {
      "cell_type": "code",
      "source": [
        ""
      ],
      "metadata": {
        "id": "jRyrxmm15LUy"
      },
      "execution_count": null,
      "outputs": []
    },
    {
      "cell_type": "markdown",
      "source": [
        "MOstrar os dados Duplicados"
      ],
      "metadata": {
        "id": "lhaSgeCr5LYk"
      }
    },
    {
      "cell_type": "code",
      "source": [
        "dados[dados.duplicated(keep = 'last')]"
      ],
      "metadata": {
        "colab": {
          "base_uri": "https://localhost:8080/",
          "height": 582
        },
        "id": "_UZCJDvS5Lb9",
        "outputId": "53d9e66d-c8d6-4da8-be5f-a21bad23e068"
      },
      "execution_count": 13,
      "outputs": [
        {
          "output_type": "execute_result",
          "data": {
            "text/html": [
              "<div>\n",
              "<style scoped>\n",
              "    .dataframe tbody tr th:only-of-type {\n",
              "        vertical-align: middle;\n",
              "    }\n",
              "\n",
              "    .dataframe tbody tr th {\n",
              "        vertical-align: top;\n",
              "    }\n",
              "\n",
              "    .dataframe thead th {\n",
              "        text-align: right;\n",
              "    }\n",
              "</style>\n",
              "<table border=\"1\" class=\"dataframe\">\n",
              "  <thead>\n",
              "    <tr style=\"text-align: right;\">\n",
              "      <th></th>\n",
              "      <th>Ship Mode</th>\n",
              "      <th>Segment</th>\n",
              "      <th>Country</th>\n",
              "      <th>City</th>\n",
              "      <th>State</th>\n",
              "      <th>Postal Code</th>\n",
              "      <th>Region</th>\n",
              "      <th>Category</th>\n",
              "      <th>Sub-Category</th>\n",
              "      <th>Sales</th>\n",
              "      <th>Quantity</th>\n",
              "      <th>Discount</th>\n",
              "      <th>Profit</th>\n",
              "    </tr>\n",
              "  </thead>\n",
              "  <tbody>\n",
              "    <tr>\n",
              "      <th>568</th>\n",
              "      <td>Standard Class</td>\n",
              "      <td>Corporate</td>\n",
              "      <td>United States</td>\n",
              "      <td>Seattle</td>\n",
              "      <td>Washington</td>\n",
              "      <td>98105</td>\n",
              "      <td>West</td>\n",
              "      <td>Office Supplies</td>\n",
              "      <td>Paper</td>\n",
              "      <td>19.440</td>\n",
              "      <td>3</td>\n",
              "      <td>0.0</td>\n",
              "      <td>9.3312</td>\n",
              "    </tr>\n",
              "    <tr>\n",
              "      <th>591</th>\n",
              "      <td>Standard Class</td>\n",
              "      <td>Consumer</td>\n",
              "      <td>United States</td>\n",
              "      <td>Salem</td>\n",
              "      <td>Oregon</td>\n",
              "      <td>97301</td>\n",
              "      <td>West</td>\n",
              "      <td>Office Supplies</td>\n",
              "      <td>Paper</td>\n",
              "      <td>10.368</td>\n",
              "      <td>2</td>\n",
              "      <td>0.2</td>\n",
              "      <td>3.6288</td>\n",
              "    </tr>\n",
              "    <tr>\n",
              "      <th>935</th>\n",
              "      <td>Standard Class</td>\n",
              "      <td>Home Office</td>\n",
              "      <td>United States</td>\n",
              "      <td>Philadelphia</td>\n",
              "      <td>Pennsylvania</td>\n",
              "      <td>19120</td>\n",
              "      <td>East</td>\n",
              "      <td>Office Supplies</td>\n",
              "      <td>Paper</td>\n",
              "      <td>15.552</td>\n",
              "      <td>3</td>\n",
              "      <td>0.2</td>\n",
              "      <td>5.4432</td>\n",
              "    </tr>\n",
              "    <tr>\n",
              "      <th>1186</th>\n",
              "      <td>Standard Class</td>\n",
              "      <td>Corporate</td>\n",
              "      <td>United States</td>\n",
              "      <td>Seattle</td>\n",
              "      <td>Washington</td>\n",
              "      <td>98103</td>\n",
              "      <td>West</td>\n",
              "      <td>Office Supplies</td>\n",
              "      <td>Paper</td>\n",
              "      <td>25.920</td>\n",
              "      <td>4</td>\n",
              "      <td>0.0</td>\n",
              "      <td>12.4416</td>\n",
              "    </tr>\n",
              "    <tr>\n",
              "      <th>1479</th>\n",
              "      <td>Standard Class</td>\n",
              "      <td>Consumer</td>\n",
              "      <td>United States</td>\n",
              "      <td>San Francisco</td>\n",
              "      <td>California</td>\n",
              "      <td>94122</td>\n",
              "      <td>West</td>\n",
              "      <td>Office Supplies</td>\n",
              "      <td>Paper</td>\n",
              "      <td>25.920</td>\n",
              "      <td>4</td>\n",
              "      <td>0.0</td>\n",
              "      <td>12.4416</td>\n",
              "    </tr>\n",
              "    <tr>\n",
              "      <th>2803</th>\n",
              "      <td>Standard Class</td>\n",
              "      <td>Consumer</td>\n",
              "      <td>United States</td>\n",
              "      <td>San Francisco</td>\n",
              "      <td>California</td>\n",
              "      <td>94122</td>\n",
              "      <td>West</td>\n",
              "      <td>Office Supplies</td>\n",
              "      <td>Paper</td>\n",
              "      <td>12.840</td>\n",
              "      <td>3</td>\n",
              "      <td>0.0</td>\n",
              "      <td>5.7780</td>\n",
              "    </tr>\n",
              "    <tr>\n",
              "      <th>2807</th>\n",
              "      <td>Second Class</td>\n",
              "      <td>Consumer</td>\n",
              "      <td>United States</td>\n",
              "      <td>Seattle</td>\n",
              "      <td>Washington</td>\n",
              "      <td>98115</td>\n",
              "      <td>West</td>\n",
              "      <td>Office Supplies</td>\n",
              "      <td>Paper</td>\n",
              "      <td>12.960</td>\n",
              "      <td>2</td>\n",
              "      <td>0.0</td>\n",
              "      <td>6.2208</td>\n",
              "    </tr>\n",
              "    <tr>\n",
              "      <th>2836</th>\n",
              "      <td>Standard Class</td>\n",
              "      <td>Consumer</td>\n",
              "      <td>United States</td>\n",
              "      <td>Los Angeles</td>\n",
              "      <td>California</td>\n",
              "      <td>90036</td>\n",
              "      <td>West</td>\n",
              "      <td>Office Supplies</td>\n",
              "      <td>Paper</td>\n",
              "      <td>19.440</td>\n",
              "      <td>3</td>\n",
              "      <td>0.0</td>\n",
              "      <td>9.3312</td>\n",
              "    </tr>\n",
              "    <tr>\n",
              "      <th>3127</th>\n",
              "      <td>Standard Class</td>\n",
              "      <td>Consumer</td>\n",
              "      <td>United States</td>\n",
              "      <td>New York City</td>\n",
              "      <td>New York</td>\n",
              "      <td>10011</td>\n",
              "      <td>East</td>\n",
              "      <td>Office Supplies</td>\n",
              "      <td>Paper</td>\n",
              "      <td>49.120</td>\n",
              "      <td>4</td>\n",
              "      <td>0.0</td>\n",
              "      <td>23.0864</td>\n",
              "    </tr>\n",
              "    <tr>\n",
              "      <th>3405</th>\n",
              "      <td>Standard Class</td>\n",
              "      <td>Home Office</td>\n",
              "      <td>United States</td>\n",
              "      <td>Columbus</td>\n",
              "      <td>Ohio</td>\n",
              "      <td>43229</td>\n",
              "      <td>East</td>\n",
              "      <td>Furniture</td>\n",
              "      <td>Chairs</td>\n",
              "      <td>281.372</td>\n",
              "      <td>2</td>\n",
              "      <td>0.3</td>\n",
              "      <td>-12.0588</td>\n",
              "    </tr>\n",
              "    <tr>\n",
              "      <th>3412</th>\n",
              "      <td>Standard Class</td>\n",
              "      <td>Corporate</td>\n",
              "      <td>United States</td>\n",
              "      <td>San Francisco</td>\n",
              "      <td>California</td>\n",
              "      <td>94122</td>\n",
              "      <td>West</td>\n",
              "      <td>Office Supplies</td>\n",
              "      <td>Art</td>\n",
              "      <td>11.760</td>\n",
              "      <td>4</td>\n",
              "      <td>0.0</td>\n",
              "      <td>3.1752</td>\n",
              "    </tr>\n",
              "    <tr>\n",
              "      <th>5372</th>\n",
              "      <td>Standard Class</td>\n",
              "      <td>Corporate</td>\n",
              "      <td>United States</td>\n",
              "      <td>Houston</td>\n",
              "      <td>Texas</td>\n",
              "      <td>77041</td>\n",
              "      <td>Central</td>\n",
              "      <td>Office Supplies</td>\n",
              "      <td>Paper</td>\n",
              "      <td>15.552</td>\n",
              "      <td>3</td>\n",
              "      <td>0.2</td>\n",
              "      <td>5.4432</td>\n",
              "    </tr>\n",
              "    <tr>\n",
              "      <th>5493</th>\n",
              "      <td>Same Day</td>\n",
              "      <td>Home Office</td>\n",
              "      <td>United States</td>\n",
              "      <td>San Francisco</td>\n",
              "      <td>California</td>\n",
              "      <td>94122</td>\n",
              "      <td>West</td>\n",
              "      <td>Office Supplies</td>\n",
              "      <td>Labels</td>\n",
              "      <td>41.400</td>\n",
              "      <td>4</td>\n",
              "      <td>0.0</td>\n",
              "      <td>19.8720</td>\n",
              "    </tr>\n",
              "    <tr>\n",
              "      <th>6245</th>\n",
              "      <td>Standard Class</td>\n",
              "      <td>Home Office</td>\n",
              "      <td>United States</td>\n",
              "      <td>Seattle</td>\n",
              "      <td>Washington</td>\n",
              "      <td>98105</td>\n",
              "      <td>West</td>\n",
              "      <td>Furniture</td>\n",
              "      <td>Furnishings</td>\n",
              "      <td>22.140</td>\n",
              "      <td>3</td>\n",
              "      <td>0.0</td>\n",
              "      <td>6.4206</td>\n",
              "    </tr>\n",
              "    <tr>\n",
              "      <th>6409</th>\n",
              "      <td>First Class</td>\n",
              "      <td>Consumer</td>\n",
              "      <td>United States</td>\n",
              "      <td>Houston</td>\n",
              "      <td>Texas</td>\n",
              "      <td>77041</td>\n",
              "      <td>Central</td>\n",
              "      <td>Office Supplies</td>\n",
              "      <td>Paper</td>\n",
              "      <td>47.952</td>\n",
              "      <td>3</td>\n",
              "      <td>0.2</td>\n",
              "      <td>16.1838</td>\n",
              "    </tr>\n",
              "    <tr>\n",
              "      <th>8457</th>\n",
              "      <td>Second Class</td>\n",
              "      <td>Corporate</td>\n",
              "      <td>United States</td>\n",
              "      <td>Chicago</td>\n",
              "      <td>Illinois</td>\n",
              "      <td>60653</td>\n",
              "      <td>Central</td>\n",
              "      <td>Office Supplies</td>\n",
              "      <td>Binders</td>\n",
              "      <td>3.564</td>\n",
              "      <td>3</td>\n",
              "      <td>0.8</td>\n",
              "      <td>-6.2370</td>\n",
              "    </tr>\n",
              "    <tr>\n",
              "      <th>8533</th>\n",
              "      <td>Standard Class</td>\n",
              "      <td>Consumer</td>\n",
              "      <td>United States</td>\n",
              "      <td>Detroit</td>\n",
              "      <td>Michigan</td>\n",
              "      <td>48227</td>\n",
              "      <td>Central</td>\n",
              "      <td>Furniture</td>\n",
              "      <td>Chairs</td>\n",
              "      <td>389.970</td>\n",
              "      <td>3</td>\n",
              "      <td>0.0</td>\n",
              "      <td>35.0973</td>\n",
              "    </tr>\n",
              "  </tbody>\n",
              "</table>\n",
              "</div>"
            ],
            "text/plain": [
              "           Ship Mode      Segment        Country  ... Quantity Discount   Profit\n",
              "568   Standard Class    Corporate  United States  ...        3      0.0   9.3312\n",
              "591   Standard Class     Consumer  United States  ...        2      0.2   3.6288\n",
              "935   Standard Class  Home Office  United States  ...        3      0.2   5.4432\n",
              "1186  Standard Class    Corporate  United States  ...        4      0.0  12.4416\n",
              "1479  Standard Class     Consumer  United States  ...        4      0.0  12.4416\n",
              "2803  Standard Class     Consumer  United States  ...        3      0.0   5.7780\n",
              "2807    Second Class     Consumer  United States  ...        2      0.0   6.2208\n",
              "2836  Standard Class     Consumer  United States  ...        3      0.0   9.3312\n",
              "3127  Standard Class     Consumer  United States  ...        4      0.0  23.0864\n",
              "3405  Standard Class  Home Office  United States  ...        2      0.3 -12.0588\n",
              "3412  Standard Class    Corporate  United States  ...        4      0.0   3.1752\n",
              "5372  Standard Class    Corporate  United States  ...        3      0.2   5.4432\n",
              "5493        Same Day  Home Office  United States  ...        4      0.0  19.8720\n",
              "6245  Standard Class  Home Office  United States  ...        3      0.0   6.4206\n",
              "6409     First Class     Consumer  United States  ...        3      0.2  16.1838\n",
              "8457    Second Class    Corporate  United States  ...        3      0.8  -6.2370\n",
              "8533  Standard Class     Consumer  United States  ...        3      0.0  35.0973\n",
              "\n",
              "[17 rows x 13 columns]"
            ]
          },
          "metadata": {},
          "execution_count": 13
        }
      ]
    },
    {
      "cell_type": "markdown",
      "source": [
        "Em seguida, executaremos a função drop_duplicates () para eliminar as linhas duplicadas."
      ],
      "metadata": {
        "id": "D-68swlp5LfV"
      }
    },
    {
      "cell_type": "code",
      "source": [
        ""
      ],
      "metadata": {
        "id": "88xi2uQP5Liy"
      },
      "execution_count": null,
      "outputs": []
    },
    {
      "cell_type": "code",
      "source": [
        "#Eliminar as linhas duplicadas \n",
        "\n",
        "dados.drop_duplicates(inplace=True)\n",
        "\n",
        "\n",
        "dados.shape\n",
        "#A exclusão aconteceu "
      ],
      "metadata": {
        "colab": {
          "base_uri": "https://localhost:8080/"
        },
        "id": "lTg-BtZ953jM",
        "outputId": "f9a40453-29eb-4c56-b5d9-fc5cbb5cb33d"
      },
      "execution_count": 15,
      "outputs": [
        {
          "output_type": "execute_result",
          "data": {
            "text/plain": [
              "(9977, 13)"
            ]
          },
          "metadata": {},
          "execution_count": 15
        }
      ]
    },
    {
      "cell_type": "code",
      "source": [
        ""
      ],
      "metadata": {
        "id": "1UhLdX0Z53t5"
      },
      "execution_count": null,
      "outputs": []
    },
    {
      "cell_type": "markdown",
      "source": [
        "Campo Calculado\n",
        "\n",
        "Agora, vamos criar um campo calculado para a margem de lucro. A fórmula é (Lucro / Vendas) * 100."
      ],
      "metadata": {
        "id": "-LTzTOFZ53u5"
      }
    },
    {
      "cell_type": "code",
      "source": [
        "dados['Profit Margin %'] = (dados.Profit / dados.Sales) * 100 \n",
        "\n",
        "dados.head()"
      ],
      "metadata": {
        "colab": {
          "base_uri": "https://localhost:8080/",
          "height": 206
        },
        "id": "iTtO29tJ6MDj",
        "outputId": "8b8224b1-7c7a-4396-80d8-3c1d2da89722"
      },
      "execution_count": 17,
      "outputs": [
        {
          "output_type": "execute_result",
          "data": {
            "text/html": [
              "<div>\n",
              "<style scoped>\n",
              "    .dataframe tbody tr th:only-of-type {\n",
              "        vertical-align: middle;\n",
              "    }\n",
              "\n",
              "    .dataframe tbody tr th {\n",
              "        vertical-align: top;\n",
              "    }\n",
              "\n",
              "    .dataframe thead th {\n",
              "        text-align: right;\n",
              "    }\n",
              "</style>\n",
              "<table border=\"1\" class=\"dataframe\">\n",
              "  <thead>\n",
              "    <tr style=\"text-align: right;\">\n",
              "      <th></th>\n",
              "      <th>Ship Mode</th>\n",
              "      <th>Segment</th>\n",
              "      <th>Country</th>\n",
              "      <th>City</th>\n",
              "      <th>State</th>\n",
              "      <th>Postal Code</th>\n",
              "      <th>Region</th>\n",
              "      <th>Category</th>\n",
              "      <th>Sub-Category</th>\n",
              "      <th>Sales</th>\n",
              "      <th>Quantity</th>\n",
              "      <th>Discount</th>\n",
              "      <th>Profit</th>\n",
              "      <th>Profit Margin %</th>\n",
              "    </tr>\n",
              "  </thead>\n",
              "  <tbody>\n",
              "    <tr>\n",
              "      <th>0</th>\n",
              "      <td>Second Class</td>\n",
              "      <td>Consumer</td>\n",
              "      <td>United States</td>\n",
              "      <td>Henderson</td>\n",
              "      <td>Kentucky</td>\n",
              "      <td>42420</td>\n",
              "      <td>South</td>\n",
              "      <td>Furniture</td>\n",
              "      <td>Bookcases</td>\n",
              "      <td>261.9600</td>\n",
              "      <td>2</td>\n",
              "      <td>0.00</td>\n",
              "      <td>41.9136</td>\n",
              "      <td>16.00</td>\n",
              "    </tr>\n",
              "    <tr>\n",
              "      <th>1</th>\n",
              "      <td>Second Class</td>\n",
              "      <td>Consumer</td>\n",
              "      <td>United States</td>\n",
              "      <td>Henderson</td>\n",
              "      <td>Kentucky</td>\n",
              "      <td>42420</td>\n",
              "      <td>South</td>\n",
              "      <td>Furniture</td>\n",
              "      <td>Chairs</td>\n",
              "      <td>731.9400</td>\n",
              "      <td>3</td>\n",
              "      <td>0.00</td>\n",
              "      <td>219.5820</td>\n",
              "      <td>30.00</td>\n",
              "    </tr>\n",
              "    <tr>\n",
              "      <th>2</th>\n",
              "      <td>Second Class</td>\n",
              "      <td>Corporate</td>\n",
              "      <td>United States</td>\n",
              "      <td>Los Angeles</td>\n",
              "      <td>California</td>\n",
              "      <td>90036</td>\n",
              "      <td>West</td>\n",
              "      <td>Office Supplies</td>\n",
              "      <td>Labels</td>\n",
              "      <td>14.6200</td>\n",
              "      <td>2</td>\n",
              "      <td>0.00</td>\n",
              "      <td>6.8714</td>\n",
              "      <td>47.00</td>\n",
              "    </tr>\n",
              "    <tr>\n",
              "      <th>3</th>\n",
              "      <td>Standard Class</td>\n",
              "      <td>Consumer</td>\n",
              "      <td>United States</td>\n",
              "      <td>Fort Lauderdale</td>\n",
              "      <td>Florida</td>\n",
              "      <td>33311</td>\n",
              "      <td>South</td>\n",
              "      <td>Furniture</td>\n",
              "      <td>Tables</td>\n",
              "      <td>957.5775</td>\n",
              "      <td>5</td>\n",
              "      <td>0.45</td>\n",
              "      <td>-383.0310</td>\n",
              "      <td>-40.00</td>\n",
              "    </tr>\n",
              "    <tr>\n",
              "      <th>4</th>\n",
              "      <td>Standard Class</td>\n",
              "      <td>Consumer</td>\n",
              "      <td>United States</td>\n",
              "      <td>Fort Lauderdale</td>\n",
              "      <td>Florida</td>\n",
              "      <td>33311</td>\n",
              "      <td>South</td>\n",
              "      <td>Office Supplies</td>\n",
              "      <td>Storage</td>\n",
              "      <td>22.3680</td>\n",
              "      <td>2</td>\n",
              "      <td>0.20</td>\n",
              "      <td>2.5164</td>\n",
              "      <td>11.25</td>\n",
              "    </tr>\n",
              "  </tbody>\n",
              "</table>\n",
              "</div>"
            ],
            "text/plain": [
              "        Ship Mode    Segment  ...    Profit Profit Margin %\n",
              "0    Second Class   Consumer  ...   41.9136           16.00\n",
              "1    Second Class   Consumer  ...  219.5820           30.00\n",
              "2    Second Class  Corporate  ...    6.8714           47.00\n",
              "3  Standard Class   Consumer  ... -383.0310          -40.00\n",
              "4  Standard Class   Consumer  ...    2.5164           11.25\n",
              "\n",
              "[5 rows x 14 columns]"
            ]
          },
          "metadata": {},
          "execution_count": 17
        }
      ]
    },
    {
      "cell_type": "markdown",
      "source": [
        "Agora que o conjunto de dados foi limpo, podemos prosseguir com algumas análises estatísticas!\n"
      ],
      "metadata": {
        "id": "X85bkWBs6MFr"
      }
    },
    {
      "cell_type": "code",
      "source": [
        ""
      ],
      "metadata": {
        "id": "J8bIUNpL53yR"
      },
      "execution_count": null,
      "outputs": []
    },
    {
      "cell_type": "markdown",
      "source": [
        "Estatísticas descritivas"
      ],
      "metadata": {
        "id": "mfJ3ujBd536a"
      }
    },
    {
      "cell_type": "markdown",
      "source": [
        "Aqui, faremos uma análise estatística descritiva. Usamos df.describe () e atribuímos 'include =' all 'para garantir que os recursos categóricos também sejam incluídos na saída."
      ],
      "metadata": {
        "id": "TMaauf4b757m"
      }
    },
    {
      "cell_type": "code",
      "source": [
        ""
      ],
      "metadata": {
        "id": "yLZT6LbZ75_8"
      },
      "execution_count": null,
      "outputs": []
    },
    {
      "cell_type": "code",
      "source": [
        "dados.describe(include='all').round(2)"
      ],
      "metadata": {
        "colab": {
          "base_uri": "https://localhost:8080/",
          "height": 395
        },
        "id": "FegmtCTG76Fj",
        "outputId": "d76817f7-500f-457d-d08e-98538de780be"
      },
      "execution_count": 21,
      "outputs": [
        {
          "output_type": "execute_result",
          "data": {
            "text/html": [
              "<div>\n",
              "<style scoped>\n",
              "    .dataframe tbody tr th:only-of-type {\n",
              "        vertical-align: middle;\n",
              "    }\n",
              "\n",
              "    .dataframe tbody tr th {\n",
              "        vertical-align: top;\n",
              "    }\n",
              "\n",
              "    .dataframe thead th {\n",
              "        text-align: right;\n",
              "    }\n",
              "</style>\n",
              "<table border=\"1\" class=\"dataframe\">\n",
              "  <thead>\n",
              "    <tr style=\"text-align: right;\">\n",
              "      <th></th>\n",
              "      <th>Ship Mode</th>\n",
              "      <th>Segment</th>\n",
              "      <th>Country</th>\n",
              "      <th>City</th>\n",
              "      <th>State</th>\n",
              "      <th>Postal Code</th>\n",
              "      <th>Region</th>\n",
              "      <th>Category</th>\n",
              "      <th>Sub-Category</th>\n",
              "      <th>Sales</th>\n",
              "      <th>Quantity</th>\n",
              "      <th>Discount</th>\n",
              "      <th>Profit</th>\n",
              "      <th>Profit Margin %</th>\n",
              "    </tr>\n",
              "  </thead>\n",
              "  <tbody>\n",
              "    <tr>\n",
              "      <th>count</th>\n",
              "      <td>9977</td>\n",
              "      <td>9977</td>\n",
              "      <td>9977</td>\n",
              "      <td>9977</td>\n",
              "      <td>9977</td>\n",
              "      <td>9977.00</td>\n",
              "      <td>9977</td>\n",
              "      <td>9977</td>\n",
              "      <td>9977</td>\n",
              "      <td>9977.00</td>\n",
              "      <td>9977.00</td>\n",
              "      <td>9977.00</td>\n",
              "      <td>9977.00</td>\n",
              "      <td>9977.00</td>\n",
              "    </tr>\n",
              "    <tr>\n",
              "      <th>unique</th>\n",
              "      <td>4</td>\n",
              "      <td>3</td>\n",
              "      <td>1</td>\n",
              "      <td>531</td>\n",
              "      <td>49</td>\n",
              "      <td>NaN</td>\n",
              "      <td>4</td>\n",
              "      <td>3</td>\n",
              "      <td>17</td>\n",
              "      <td>NaN</td>\n",
              "      <td>NaN</td>\n",
              "      <td>NaN</td>\n",
              "      <td>NaN</td>\n",
              "      <td>NaN</td>\n",
              "    </tr>\n",
              "    <tr>\n",
              "      <th>top</th>\n",
              "      <td>Standard Class</td>\n",
              "      <td>Consumer</td>\n",
              "      <td>United States</td>\n",
              "      <td>New York City</td>\n",
              "      <td>California</td>\n",
              "      <td>NaN</td>\n",
              "      <td>West</td>\n",
              "      <td>Office Supplies</td>\n",
              "      <td>Binders</td>\n",
              "      <td>NaN</td>\n",
              "      <td>NaN</td>\n",
              "      <td>NaN</td>\n",
              "      <td>NaN</td>\n",
              "      <td>NaN</td>\n",
              "    </tr>\n",
              "    <tr>\n",
              "      <th>freq</th>\n",
              "      <td>5955</td>\n",
              "      <td>5183</td>\n",
              "      <td>9977</td>\n",
              "      <td>914</td>\n",
              "      <td>1996</td>\n",
              "      <td>NaN</td>\n",
              "      <td>3193</td>\n",
              "      <td>6012</td>\n",
              "      <td>1522</td>\n",
              "      <td>NaN</td>\n",
              "      <td>NaN</td>\n",
              "      <td>NaN</td>\n",
              "      <td>NaN</td>\n",
              "      <td>NaN</td>\n",
              "    </tr>\n",
              "    <tr>\n",
              "      <th>mean</th>\n",
              "      <td>NaN</td>\n",
              "      <td>NaN</td>\n",
              "      <td>NaN</td>\n",
              "      <td>NaN</td>\n",
              "      <td>NaN</td>\n",
              "      <td>55154.96</td>\n",
              "      <td>NaN</td>\n",
              "      <td>NaN</td>\n",
              "      <td>NaN</td>\n",
              "      <td>230.15</td>\n",
              "      <td>3.79</td>\n",
              "      <td>0.16</td>\n",
              "      <td>28.69</td>\n",
              "      <td>12.01</td>\n",
              "    </tr>\n",
              "    <tr>\n",
              "      <th>std</th>\n",
              "      <td>NaN</td>\n",
              "      <td>NaN</td>\n",
              "      <td>NaN</td>\n",
              "      <td>NaN</td>\n",
              "      <td>NaN</td>\n",
              "      <td>32058.27</td>\n",
              "      <td>NaN</td>\n",
              "      <td>NaN</td>\n",
              "      <td>NaN</td>\n",
              "      <td>623.72</td>\n",
              "      <td>2.23</td>\n",
              "      <td>0.21</td>\n",
              "      <td>234.46</td>\n",
              "      <td>46.66</td>\n",
              "    </tr>\n",
              "    <tr>\n",
              "      <th>min</th>\n",
              "      <td>NaN</td>\n",
              "      <td>NaN</td>\n",
              "      <td>NaN</td>\n",
              "      <td>NaN</td>\n",
              "      <td>NaN</td>\n",
              "      <td>1040.00</td>\n",
              "      <td>NaN</td>\n",
              "      <td>NaN</td>\n",
              "      <td>NaN</td>\n",
              "      <td>0.44</td>\n",
              "      <td>1.00</td>\n",
              "      <td>0.00</td>\n",
              "      <td>-6599.98</td>\n",
              "      <td>-275.00</td>\n",
              "    </tr>\n",
              "    <tr>\n",
              "      <th>25%</th>\n",
              "      <td>NaN</td>\n",
              "      <td>NaN</td>\n",
              "      <td>NaN</td>\n",
              "      <td>NaN</td>\n",
              "      <td>NaN</td>\n",
              "      <td>23223.00</td>\n",
              "      <td>NaN</td>\n",
              "      <td>NaN</td>\n",
              "      <td>NaN</td>\n",
              "      <td>17.30</td>\n",
              "      <td>2.00</td>\n",
              "      <td>0.00</td>\n",
              "      <td>1.73</td>\n",
              "      <td>7.50</td>\n",
              "    </tr>\n",
              "    <tr>\n",
              "      <th>50%</th>\n",
              "      <td>NaN</td>\n",
              "      <td>NaN</td>\n",
              "      <td>NaN</td>\n",
              "      <td>NaN</td>\n",
              "      <td>NaN</td>\n",
              "      <td>55901.00</td>\n",
              "      <td>NaN</td>\n",
              "      <td>NaN</td>\n",
              "      <td>NaN</td>\n",
              "      <td>54.82</td>\n",
              "      <td>3.00</td>\n",
              "      <td>0.20</td>\n",
              "      <td>8.67</td>\n",
              "      <td>27.00</td>\n",
              "    </tr>\n",
              "    <tr>\n",
              "      <th>75%</th>\n",
              "      <td>NaN</td>\n",
              "      <td>NaN</td>\n",
              "      <td>NaN</td>\n",
              "      <td>NaN</td>\n",
              "      <td>NaN</td>\n",
              "      <td>90008.00</td>\n",
              "      <td>NaN</td>\n",
              "      <td>NaN</td>\n",
              "      <td>NaN</td>\n",
              "      <td>209.97</td>\n",
              "      <td>5.00</td>\n",
              "      <td>0.20</td>\n",
              "      <td>29.37</td>\n",
              "      <td>36.25</td>\n",
              "    </tr>\n",
              "    <tr>\n",
              "      <th>max</th>\n",
              "      <td>NaN</td>\n",
              "      <td>NaN</td>\n",
              "      <td>NaN</td>\n",
              "      <td>NaN</td>\n",
              "      <td>NaN</td>\n",
              "      <td>99301.00</td>\n",
              "      <td>NaN</td>\n",
              "      <td>NaN</td>\n",
              "      <td>NaN</td>\n",
              "      <td>22638.48</td>\n",
              "      <td>14.00</td>\n",
              "      <td>0.80</td>\n",
              "      <td>8399.98</td>\n",
              "      <td>50.00</td>\n",
              "    </tr>\n",
              "  </tbody>\n",
              "</table>\n",
              "</div>"
            ],
            "text/plain": [
              "             Ship Mode   Segment  ...   Profit Profit Margin %\n",
              "count             9977      9977  ...  9977.00         9977.00\n",
              "unique               4         3  ...      NaN             NaN\n",
              "top     Standard Class  Consumer  ...      NaN             NaN\n",
              "freq              5955      5183  ...      NaN             NaN\n",
              "mean               NaN       NaN  ...    28.69           12.01\n",
              "std                NaN       NaN  ...   234.46           46.66\n",
              "min                NaN       NaN  ... -6599.98         -275.00\n",
              "25%                NaN       NaN  ...     1.73            7.50\n",
              "50%                NaN       NaN  ...     8.67           27.00\n",
              "75%                NaN       NaN  ...    29.37           36.25\n",
              "max                NaN       NaN  ...  8399.98           50.00\n",
              "\n",
              "[11 rows x 14 columns]"
            ]
          },
          "metadata": {},
          "execution_count": 21
        }
      ]
    },
    {
      "cell_type": "markdown",
      "source": [
        "Verá 'NaN' em algumas das colunas categóricas e isso é perfeitamente normal. Os valores categóricos não devem ter cálculos realizados sobre eles, portanto, podemos ignorá-los.\n",
        "O que queremos enfocar é a contagem e frequência únicas dos recursos categóricos, como\n",
        "Existem 4 modos de envio e 3 segmentos de cliente. \n",
        "\n",
        "Quase metade dos pedidos são do segmento de consumidor usando remessa de classe padrão.\n",
        "A loja possui 3 categorias de itens com 17 subcategorias. 60% dos pedidos são para material de escritório e pelo menos 15% das compras são para fichários.\n",
        "\n",
        "\n",
        "Enquanto para parâmetros numéricos, é interessante notar que o\n",
        "75% dos pedidos geram pelo menos 36% de margem de lucro.\n",
        "\n",
        "\n",
        "Pedidos com prejuízo podem chegar a 275% de perdas. Devemos enfatizar essas vendas deficitárias para eliminá-las.\n",
        "Faremos algumas análises abaixo para testar essas observações.\n"
      ],
      "metadata": {
        "id": "-pJXyn6F5Ll7"
      }
    },
    {
      "cell_type": "code",
      "source": [
        ""
      ],
      "metadata": {
        "id": "h89U81L-8suf"
      },
      "execution_count": null,
      "outputs": []
    },
    {
      "cell_type": "markdown",
      "source": [
        "Análise exploratória de dados"
      ],
      "metadata": {
        "id": "ZuByjuSW8sya"
      }
    },
    {
      "cell_type": "markdown",
      "source": [
        "Qual categoria é a mais vendida e mais lucrativa?\n",
        "Mais vendido significa olhar para as vendas e mais lucrativo está se referindo ao lucro. Vamos agrupar Vendas, Lucro e também Quantidade por Categoria e executar as funções df.group (). Sum e pd.DataFrame ()."
      ],
      "metadata": {
        "id": "bFBHWImL8s1y"
      }
    },
    {
      "cell_type": "code",
      "source": [
        "#Agrupar vendas. lucoros e quantidade por categorias\n",
        "\n",
        "analise_categorica = pd.DataFrame(dados.groupby(['Category'])[['Sales', 'Profit', 'Quantity']].sum())\n",
        "analise_categorica"
      ],
      "metadata": {
        "colab": {
          "base_uri": "https://localhost:8080/",
          "height": 175
        },
        "id": "iNK_ArNG8s46",
        "outputId": "004280c1-0719-42ea-822d-3dbc5dd9d447"
      },
      "execution_count": 22,
      "outputs": [
        {
          "output_type": "execute_result",
          "data": {
            "text/html": [
              "<div>\n",
              "<style scoped>\n",
              "    .dataframe tbody tr th:only-of-type {\n",
              "        vertical-align: middle;\n",
              "    }\n",
              "\n",
              "    .dataframe tbody tr th {\n",
              "        vertical-align: top;\n",
              "    }\n",
              "\n",
              "    .dataframe thead th {\n",
              "        text-align: right;\n",
              "    }\n",
              "</style>\n",
              "<table border=\"1\" class=\"dataframe\">\n",
              "  <thead>\n",
              "    <tr style=\"text-align: right;\">\n",
              "      <th></th>\n",
              "      <th>Sales</th>\n",
              "      <th>Profit</th>\n",
              "      <th>Quantity</th>\n",
              "    </tr>\n",
              "    <tr>\n",
              "      <th>Category</th>\n",
              "      <th></th>\n",
              "      <th></th>\n",
              "      <th></th>\n",
              "    </tr>\n",
              "  </thead>\n",
              "  <tbody>\n",
              "    <tr>\n",
              "      <th>Furniture</th>\n",
              "      <td>741306.3133</td>\n",
              "      <td>18421.8137</td>\n",
              "      <td>8020</td>\n",
              "    </tr>\n",
              "    <tr>\n",
              "      <th>Office Supplies</th>\n",
              "      <td>718735.2440</td>\n",
              "      <td>122364.6608</td>\n",
              "      <td>22861</td>\n",
              "    </tr>\n",
              "    <tr>\n",
              "      <th>Technology</th>\n",
              "      <td>836154.0330</td>\n",
              "      <td>145454.9481</td>\n",
              "      <td>6939</td>\n",
              "    </tr>\n",
              "  </tbody>\n",
              "</table>\n",
              "</div>"
            ],
            "text/plain": [
              "                       Sales       Profit  Quantity\n",
              "Category                                           \n",
              "Furniture        741306.3133   18421.8137      8020\n",
              "Office Supplies  718735.2440  122364.6608     22861\n",
              "Technology       836154.0330  145454.9481      6939"
            ]
          },
          "metadata": {},
          "execution_count": 22
        }
      ]
    },
    {
      "cell_type": "code",
      "source": [
        ""
      ],
      "metadata": {
        "id": "RZvhbqtQ8s8b"
      },
      "execution_count": null,
      "outputs": []
    },
    {
      "cell_type": "markdown",
      "source": [
        "Gráfico:"
      ],
      "metadata": {
        "id": "qsH9A_rf8s_i"
      }
    },
    {
      "cell_type": "code",
      "source": [
        "#Definir para o grafico agrupados - figura com uma grade 2X2 \n",
        "\n",
        "sns.set_theme (style= 'whitegrid')\n",
        "figure, axis = plt.subplots(1,3, figsize=(8,5))\n",
        "\n",
        "#plot barplot\n",
        "cat1 = sns.barplot (x = analise_categorica.index, y = analise_categorica.Sales, ax = axis [0]) \n",
        "#cat2 = sns.barplot (x = analise_categorica, y = analise_categorica.Profit, ax = axis [1]) \n",
        "cat3 = sns.barplot (x = analise_categorica.index, y = analise_categorica.Quantity, ax = axis [2])\n",
        "\n",
        "# Definir títulos\n",
        "cat1.set (title = 'Vendas') \n",
        "#cat2.set (title = 'Lucro') \n",
        "cat3.set (title = 'Quantidade')\n",
        "\n",
        "# Rotacionar o eixo para o eixo x\n",
        "plt.setp (cat1.get_xticklabels (), rotation = 'vertical', size = 9) \n",
        "#plt.setp (cat2.get_xticklabels (), rotation = 'vertical', size = 9) \n",
        "#plt.setp (cat3.get_xticklabels (), rotação = 'vertical', tamanho = 9)\n",
        "\n",
        "\n",
        "# Defina o espaçamento entre subtramas\n",
        "figure.tight_layout ()"
      ],
      "metadata": {
        "colab": {
          "base_uri": "https://localhost:8080/",
          "height": 365
        },
        "id": "m_uDlfTV92bM",
        "outputId": "2eb0960e-d905-483e-dc5d-168ddb8747c7"
      },
      "execution_count": 33,
      "outputs": [
        {
          "output_type": "display_data",
          "data": {
            "image/png": "[encoded data removed]",
            "text/plain": [
              "<Figure size 576x360 with 3 Axes>"
            ]
          },
          "metadata": {}
        }
      ]
    },
    {
      "cell_type": "markdown",
      "source": [
        "Nossas observações são:\n",
        "\n",
        " * Todas as 3 categorias - Móveis, Material de Escritório e Tecnologia têm vendas semelhantes.\n",
        "\n",
        " * Tecnologia é a mais vendida e é bom saber que essa categoria também é a mais lucrativa. Apenas uma quantidade mínima é vendida, pois esses produtos geralmente são compras únicas que podem durar pelo menos 4-5 anos.\n",
        "\n",
        " * Embora Móveis faça vendas semelhantes às de Tecnologia, é o menos lucrativo e a quantidade vendida também é mínima.\n",
        "O material de escritório vende mais em termos de quantidade, pois é um produto relativamente barato."
      ],
      "metadata": {
        "id": "LBLUWzVZ92fS"
      }
    },
    {
      "cell_type": "code",
      "source": [
        ""
      ],
      "metadata": {
        "id": "7vUYaRFa92ix"
      },
      "execution_count": null,
      "outputs": []
    },
    {
      "cell_type": "markdown",
      "source": [
        "Quais são as subcategorias mais vendidas e mais lucrativas?"
      ],
      "metadata": {
        "id": "W7W-_XOI92l5"
      }
    },
    {
      "cell_type": "code",
      "source": [
        "#Groupby subcategorias\n",
        "\n",
        "subcategorias = pd.DataFrame(dados.groupby(['Sub-Category'])[['Sales', 'Profit']].sum())\n",
        "\n",
        "#Calssificar em ORdem Decrescente de acordo com as vendas\n",
        "\n",
        "subcategorias_vendas = pd.DataFrame(subcategorias.sort_values('Sales', ascending = False))\n",
        "subcategorias_vendas"
      ],
      "metadata": {
        "colab": {
          "base_uri": "https://localhost:8080/",
          "height": 613
        },
        "id": "YiyMWsd6_wPx",
        "outputId": "2618fecb-ad02-4a6c-925e-436b0feae2e1"
      },
      "execution_count": 36,
      "outputs": [
        {
          "output_type": "execute_result",
          "data": {
            "text/html": [
              "<div>\n",
              "<style scoped>\n",
              "    .dataframe tbody tr th:only-of-type {\n",
              "        vertical-align: middle;\n",
              "    }\n",
              "\n",
              "    .dataframe tbody tr th {\n",
              "        vertical-align: top;\n",
              "    }\n",
              "\n",
              "    .dataframe thead th {\n",
              "        text-align: right;\n",
              "    }\n",
              "</style>\n",
              "<table border=\"1\" class=\"dataframe\">\n",
              "  <thead>\n",
              "    <tr style=\"text-align: right;\">\n",
              "      <th></th>\n",
              "      <th>Sales</th>\n",
              "      <th>Profit</th>\n",
              "    </tr>\n",
              "    <tr>\n",
              "      <th>Sub-Category</th>\n",
              "      <th></th>\n",
              "      <th></th>\n",
              "    </tr>\n",
              "  </thead>\n",
              "  <tbody>\n",
              "    <tr>\n",
              "      <th>Phones</th>\n",
              "      <td>330007.0540</td>\n",
              "      <td>44515.7306</td>\n",
              "    </tr>\n",
              "    <tr>\n",
              "      <th>Chairs</th>\n",
              "      <td>327777.7610</td>\n",
              "      <td>26567.1278</td>\n",
              "    </tr>\n",
              "    <tr>\n",
              "      <th>Storage</th>\n",
              "      <td>223843.6080</td>\n",
              "      <td>21278.8264</td>\n",
              "    </tr>\n",
              "    <tr>\n",
              "      <th>Tables</th>\n",
              "      <td>206965.5320</td>\n",
              "      <td>-17725.4811</td>\n",
              "    </tr>\n",
              "    <tr>\n",
              "      <th>Binders</th>\n",
              "      <td>203409.1690</td>\n",
              "      <td>30228.0003</td>\n",
              "    </tr>\n",
              "    <tr>\n",
              "      <th>Machines</th>\n",
              "      <td>189238.6310</td>\n",
              "      <td>3384.7569</td>\n",
              "    </tr>\n",
              "    <tr>\n",
              "      <th>Accessories</th>\n",
              "      <td>167380.3180</td>\n",
              "      <td>41936.6357</td>\n",
              "    </tr>\n",
              "    <tr>\n",
              "      <th>Copiers</th>\n",
              "      <td>149528.0300</td>\n",
              "      <td>55617.8249</td>\n",
              "    </tr>\n",
              "    <tr>\n",
              "      <th>Bookcases</th>\n",
              "      <td>114879.9963</td>\n",
              "      <td>-3472.5560</td>\n",
              "    </tr>\n",
              "    <tr>\n",
              "      <th>Appliances</th>\n",
              "      <td>107532.1610</td>\n",
              "      <td>18138.0054</td>\n",
              "    </tr>\n",
              "    <tr>\n",
              "      <th>Furnishings</th>\n",
              "      <td>91683.0240</td>\n",
              "      <td>13052.7230</td>\n",
              "    </tr>\n",
              "    <tr>\n",
              "      <th>Paper</th>\n",
              "      <td>78224.1420</td>\n",
              "      <td>33944.2395</td>\n",
              "    </tr>\n",
              "    <tr>\n",
              "      <th>Supplies</th>\n",
              "      <td>46673.5380</td>\n",
              "      <td>-1189.0995</td>\n",
              "    </tr>\n",
              "    <tr>\n",
              "      <th>Art</th>\n",
              "      <td>27107.0320</td>\n",
              "      <td>6524.6118</td>\n",
              "    </tr>\n",
              "    <tr>\n",
              "      <th>Envelopes</th>\n",
              "      <td>16476.4020</td>\n",
              "      <td>6964.1767</td>\n",
              "    </tr>\n",
              "    <tr>\n",
              "      <th>Labels</th>\n",
              "      <td>12444.9120</td>\n",
              "      <td>5526.3820</td>\n",
              "    </tr>\n",
              "    <tr>\n",
              "      <th>Fasteners</th>\n",
              "      <td>3024.2800</td>\n",
              "      <td>949.5182</td>\n",
              "    </tr>\n",
              "  </tbody>\n",
              "</table>\n",
              "</div>"
            ],
            "text/plain": [
              "                    Sales      Profit\n",
              "Sub-Category                         \n",
              "Phones        330007.0540  44515.7306\n",
              "Chairs        327777.7610  26567.1278\n",
              "Storage       223843.6080  21278.8264\n",
              "Tables        206965.5320 -17725.4811\n",
              "Binders       203409.1690  30228.0003\n",
              "Machines      189238.6310   3384.7569\n",
              "Accessories   167380.3180  41936.6357\n",
              "Copiers       149528.0300  55617.8249\n",
              "Bookcases     114879.9963  -3472.5560\n",
              "Appliances    107532.1610  18138.0054\n",
              "Furnishings    91683.0240  13052.7230\n",
              "Paper          78224.1420  33944.2395\n",
              "Supplies       46673.5380  -1189.0995\n",
              "Art            27107.0320   6524.6118\n",
              "Envelopes      16476.4020   6964.1767\n",
              "Labels         12444.9120   5526.3820\n",
              "Fasteners       3024.2800    949.5182"
            ]
          },
          "metadata": {},
          "execution_count": 36
        }
      ]
    },
    {
      "cell_type": "markdown",
      "source": [
        "Temos um quadro de dados de vendas e lucors por subcategorias em ordem decrescente"
      ],
      "metadata": {
        "id": "PpKmo9lg_wUN"
      }
    },
    {
      "cell_type": "code",
      "source": [
        ""
      ],
      "metadata": {
        "id": "8988teS1_wX2"
      },
      "execution_count": null,
      "outputs": []
    },
    {
      "cell_type": "code",
      "source": [
        "#CLASSIFICAR EM ORDEM DECRESCENE DE ACORDO COM O LUCRO \n",
        "\n",
        "subcat_profit = pd.DataFrame(subcategorias.sort_values('Profit', ascending=False))\n",
        "subcat_profit"
      ],
      "metadata": {
        "colab": {
          "base_uri": "https://localhost:8080/",
          "height": 613
        },
        "id": "nA_qUmRx_wa1",
        "outputId": "ad2de458-453b-4cd8-854e-c8d76ad23b6d"
      },
      "execution_count": 38,
      "outputs": [
        {
          "output_type": "execute_result",
          "data": {
            "text/html": [
              "<div>\n",
              "<style scoped>\n",
              "    .dataframe tbody tr th:only-of-type {\n",
              "        vertical-align: middle;\n",
              "    }\n",
              "\n",
              "    .dataframe tbody tr th {\n",
              "        vertical-align: top;\n",
              "    }\n",
              "\n",
              "    .dataframe thead th {\n",
              "        text-align: right;\n",
              "    }\n",
              "</style>\n",
              "<table border=\"1\" class=\"dataframe\">\n",
              "  <thead>\n",
              "    <tr style=\"text-align: right;\">\n",
              "      <th></th>\n",
              "      <th>Sales</th>\n",
              "      <th>Profit</th>\n",
              "    </tr>\n",
              "    <tr>\n",
              "      <th>Sub-Category</th>\n",
              "      <th></th>\n",
              "      <th></th>\n",
              "    </tr>\n",
              "  </thead>\n",
              "  <tbody>\n",
              "    <tr>\n",
              "      <th>Copiers</th>\n",
              "      <td>149528.0300</td>\n",
              "      <td>55617.8249</td>\n",
              "    </tr>\n",
              "    <tr>\n",
              "      <th>Phones</th>\n",
              "      <td>330007.0540</td>\n",
              "      <td>44515.7306</td>\n",
              "    </tr>\n",
              "    <tr>\n",
              "      <th>Accessories</th>\n",
              "      <td>167380.3180</td>\n",
              "      <td>41936.6357</td>\n",
              "    </tr>\n",
              "    <tr>\n",
              "      <th>Paper</th>\n",
              "      <td>78224.1420</td>\n",
              "      <td>33944.2395</td>\n",
              "    </tr>\n",
              "    <tr>\n",
              "      <th>Binders</th>\n",
              "      <td>203409.1690</td>\n",
              "      <td>30228.0003</td>\n",
              "    </tr>\n",
              "    <tr>\n",
              "      <th>Chairs</th>\n",
              "      <td>327777.7610</td>\n",
              "      <td>26567.1278</td>\n",
              "    </tr>\n",
              "    <tr>\n",
              "      <th>Storage</th>\n",
              "      <td>223843.6080</td>\n",
              "      <td>21278.8264</td>\n",
              "    </tr>\n",
              "    <tr>\n",
              "      <th>Appliances</th>\n",
              "      <td>107532.1610</td>\n",
              "      <td>18138.0054</td>\n",
              "    </tr>\n",
              "    <tr>\n",
              "      <th>Furnishings</th>\n",
              "      <td>91683.0240</td>\n",
              "      <td>13052.7230</td>\n",
              "    </tr>\n",
              "    <tr>\n",
              "      <th>Envelopes</th>\n",
              "      <td>16476.4020</td>\n",
              "      <td>6964.1767</td>\n",
              "    </tr>\n",
              "    <tr>\n",
              "      <th>Art</th>\n",
              "      <td>27107.0320</td>\n",
              "      <td>6524.6118</td>\n",
              "    </tr>\n",
              "    <tr>\n",
              "      <th>Labels</th>\n",
              "      <td>12444.9120</td>\n",
              "      <td>5526.3820</td>\n",
              "    </tr>\n",
              "    <tr>\n",
              "      <th>Machines</th>\n",
              "      <td>189238.6310</td>\n",
              "      <td>3384.7569</td>\n",
              "    </tr>\n",
              "    <tr>\n",
              "      <th>Fasteners</th>\n",
              "      <td>3024.2800</td>\n",
              "      <td>949.5182</td>\n",
              "    </tr>\n",
              "    <tr>\n",
              "      <th>Supplies</th>\n",
              "      <td>46673.5380</td>\n",
              "      <td>-1189.0995</td>\n",
              "    </tr>\n",
              "    <tr>\n",
              "      <th>Bookcases</th>\n",
              "      <td>114879.9963</td>\n",
              "      <td>-3472.5560</td>\n",
              "    </tr>\n",
              "    <tr>\n",
              "      <th>Tables</th>\n",
              "      <td>206965.5320</td>\n",
              "      <td>-17725.4811</td>\n",
              "    </tr>\n",
              "  </tbody>\n",
              "</table>\n",
              "</div>"
            ],
            "text/plain": [
              "                    Sales      Profit\n",
              "Sub-Category                         \n",
              "Copiers       149528.0300  55617.8249\n",
              "Phones        330007.0540  44515.7306\n",
              "Accessories   167380.3180  41936.6357\n",
              "Paper          78224.1420  33944.2395\n",
              "Binders       203409.1690  30228.0003\n",
              "Chairs        327777.7610  26567.1278\n",
              "Storage       223843.6080  21278.8264\n",
              "Appliances    107532.1610  18138.0054\n",
              "Furnishings    91683.0240  13052.7230\n",
              "Envelopes      16476.4020   6964.1767\n",
              "Art            27107.0320   6524.6118\n",
              "Labels         12444.9120   5526.3820\n",
              "Machines      189238.6310   3384.7569\n",
              "Fasteners       3024.2800    949.5182\n",
              "Supplies       46673.5380  -1189.0995\n",
              "Bookcases     114879.9963  -3472.5560\n",
              "Tables        206965.5320 -17725.4811"
            ]
          },
          "metadata": {},
          "execution_count": 38
        }
      ]
    },
    {
      "cell_type": "markdown",
      "source": [
        "Temos um quadro de dados de vendas e lucro por subcategorias em ordem crescente "
      ],
      "metadata": {
        "id": "_WN00WfHBOO9"
      }
    },
    {
      "cell_type": "code",
      "source": [
        ""
      ],
      "metadata": {
        "id": "PL3gCWpdBOTi"
      },
      "execution_count": null,
      "outputs": []
    },
    {
      "cell_type": "code",
      "source": [
        "# Plot Bar Plots\n",
        "sns.set_theme(style=\"whitegrid\")\n",
        "\n",
        "\n",
        "# Set for grouped plots - figure with a 1x2 grid of Axes\n",
        "figure, axis = plt.subplots(1, 2, figsize=(12, 6))\n",
        "\n",
        "\n",
        "# Plot Bar Plot for Best Selling Sub-Category\n",
        "subcat1 = sns.barplot(data = subcategorias_vendas, x = subcategorias_vendas.index, y = subcategorias_vendas.Sales, ax=axis[0])\n",
        "subcat1.set(title=\"Subcategoria mais vendida\")\n",
        "subcat1.set_xticklabels(subcat1.get_xticklabels(),rotation = \"vertical\", size = 10)\n",
        "\n",
        "\n",
        "# Plot Bar Plot for Most Profitable Sub-Category\n",
        "subcat2 = sns.barplot(data = subcat_profit, x = subcat_profit.index, y = subcat_profit.Profit, ax=axis[1])\n",
        "subcat2.set(title = \"Subcategoria mais lucrativa\")\n",
        "subcat2.set_xticklabels(subcat2.get_xticklabels(),rotation = \"vertical\", size = 10)\n",
        "\n",
        "\n",
        "# Set spacing between subplots\n",
        "figure.tight_layout()\n",
        "plt.show()"
      ],
      "metadata": {
        "colab": {
          "base_uri": "https://localhost:8080/",
          "height": 437
        },
        "id": "hSzsHerpBOXR",
        "outputId": "25a0a2a2-8599-451d-d61a-10bd5a5bf70a"
      },
      "execution_count": 49,
      "outputs": [
        {
          "output_type": "display_data",
          "data": {
            "image/png": "[encoded data removed]",
            "text/plain": [
              "<Figure size 864x432 with 2 Axes>"
            ]
          },
          "metadata": {}
        }
      ]
    },
    {
      "cell_type": "markdown",
      "source": [
        "Vamos analisar os gráficos de barra:\n",
        "\n",
        "\n",
        "\n",
        " * Phones e Chairs são as 2 subcategorias mais vendidas.\n",
        "\n",
        " * As copiers geram mais lucro, seguidas por telefones, acessórios, papéis e pastas. A estratégia de marketing deve se concentrar no marketing desses produtos.\n",
        "\n",
        "\n",
        " * Na outra ponta do espectro, machines,Fasteners, suppliers, bookcases e Tables têm uma margem de perdas próxima de zero. Esses são produtos que a Super Store pode considerar descartar do catálogo de produtos ou aumentar o preço de venda e a margem de lucro ou barganhar por um preço mais baixo do fornecedor."
      ],
      "metadata": {
        "id": "jnGeV1FlBObD"
      }
    },
    {
      "cell_type": "code",
      "source": [
        ""
      ],
      "metadata": {
        "id": "f9vAO-orBOey"
      },
      "execution_count": null,
      "outputs": []
    },
    {
      "cell_type": "markdown",
      "source": [
        "Qual é a subcategoria mais vendida?"
      ],
      "metadata": {
        "id": "psnkn6m-BOii"
      }
    },
    {
      "cell_type": "code",
      "source": [
        "#Colocar os resultados em ordem crescente\n",
        "subcategoria_mais_vendida = pd.DataFrame(dados.groupby(['Sub-Category']) [['Quantity']].sum().sort_values('Quantity', ascending=False))\n",
        "subcategoria_mais_vendida"
      ],
      "metadata": {
        "colab": {
          "base_uri": "https://localhost:8080/",
          "height": 613
        },
        "id": "bsdRrwAkD9Kf",
        "outputId": "601103d1-784f-47d0-9756-41f06144d735"
      },
      "execution_count": 46,
      "outputs": [
        {
          "output_type": "execute_result",
          "data": {
            "text/html": [
              "<div>\n",
              "<style scoped>\n",
              "    .dataframe tbody tr th:only-of-type {\n",
              "        vertical-align: middle;\n",
              "    }\n",
              "\n",
              "    .dataframe tbody tr th {\n",
              "        vertical-align: top;\n",
              "    }\n",
              "\n",
              "    .dataframe thead th {\n",
              "        text-align: right;\n",
              "    }\n",
              "</style>\n",
              "<table border=\"1\" class=\"dataframe\">\n",
              "  <thead>\n",
              "    <tr style=\"text-align: right;\">\n",
              "      <th></th>\n",
              "      <th>Quantity</th>\n",
              "    </tr>\n",
              "    <tr>\n",
              "      <th>Sub-Category</th>\n",
              "      <th></th>\n",
              "    </tr>\n",
              "  </thead>\n",
              "  <tbody>\n",
              "    <tr>\n",
              "      <th>Binders</th>\n",
              "      <td>5971</td>\n",
              "    </tr>\n",
              "    <tr>\n",
              "      <th>Paper</th>\n",
              "      <td>5144</td>\n",
              "    </tr>\n",
              "    <tr>\n",
              "      <th>Furnishings</th>\n",
              "      <td>3560</td>\n",
              "    </tr>\n",
              "    <tr>\n",
              "      <th>Phones</th>\n",
              "      <td>3289</td>\n",
              "    </tr>\n",
              "    <tr>\n",
              "      <th>Storage</th>\n",
              "      <td>3158</td>\n",
              "    </tr>\n",
              "    <tr>\n",
              "      <th>Art</th>\n",
              "      <td>2996</td>\n",
              "    </tr>\n",
              "    <tr>\n",
              "      <th>Accessories</th>\n",
              "      <td>2976</td>\n",
              "    </tr>\n",
              "    <tr>\n",
              "      <th>Chairs</th>\n",
              "      <td>2351</td>\n",
              "    </tr>\n",
              "    <tr>\n",
              "      <th>Appliances</th>\n",
              "      <td>1729</td>\n",
              "    </tr>\n",
              "    <tr>\n",
              "      <th>Labels</th>\n",
              "      <td>1396</td>\n",
              "    </tr>\n",
              "    <tr>\n",
              "      <th>Tables</th>\n",
              "      <td>1241</td>\n",
              "    </tr>\n",
              "    <tr>\n",
              "      <th>Fasteners</th>\n",
              "      <td>914</td>\n",
              "    </tr>\n",
              "    <tr>\n",
              "      <th>Envelopes</th>\n",
              "      <td>906</td>\n",
              "    </tr>\n",
              "    <tr>\n",
              "      <th>Bookcases</th>\n",
              "      <td>868</td>\n",
              "    </tr>\n",
              "    <tr>\n",
              "      <th>Supplies</th>\n",
              "      <td>647</td>\n",
              "    </tr>\n",
              "    <tr>\n",
              "      <th>Machines</th>\n",
              "      <td>440</td>\n",
              "    </tr>\n",
              "    <tr>\n",
              "      <th>Copiers</th>\n",
              "      <td>234</td>\n",
              "    </tr>\n",
              "  </tbody>\n",
              "</table>\n",
              "</div>"
            ],
            "text/plain": [
              "              Quantity\n",
              "Sub-Category          \n",
              "Binders           5971\n",
              "Paper             5144\n",
              "Furnishings       3560\n",
              "Phones            3289\n",
              "Storage           3158\n",
              "Art               2996\n",
              "Accessories       2976\n",
              "Chairs            2351\n",
              "Appliances        1729\n",
              "Labels            1396\n",
              "Tables            1241\n",
              "Fasteners          914\n",
              "Envelopes          906\n",
              "Bookcases          868\n",
              "Supplies           647\n",
              "Machines           440\n",
              "Copiers            234"
            ]
          },
          "metadata": {},
          "execution_count": 46
        }
      ]
    },
    {
      "cell_type": "code",
      "source": [
        "Quantidade vendida para cada subcategoria "
      ],
      "metadata": {
        "id": "hlyPMx8VD9PD"
      },
      "execution_count": null,
      "outputs": []
    },
    {
      "cell_type": "code",
      "source": [
        ""
      ],
      "metadata": {
        "id": "DMqkmjYeD9TJ"
      },
      "execution_count": null,
      "outputs": []
    },
    {
      "cell_type": "code",
      "source": [
        "sns.set_theme(style=\"whitegrid\")\n",
        "sns.barplot(data = subcategoria_mais_vendida, y = subcategoria_mais_vendida.index, x = subcategoria_mais_vendida.Quantity, palette = \"muted\")\n",
        "plt.title(\"Subcategoria mais vendida\")\n",
        "plt.show()"
      ],
      "metadata": {
        "colab": {
          "base_uri": "https://localhost:8080/",
          "height": 301
        },
        "id": "xwHxw1-hBOly",
        "outputId": "dd3b7230-cf99-4bcd-88d5-458e3b69d97d"
      },
      "execution_count": 48,
      "outputs": [
        {
          "output_type": "display_data",
          "data": {
            "image/png": "[encoded data removed]",
            "text/plain": [
              "<Figure size 432x288 with 1 Axes>"
            ]
          },
          "metadata": {}
        }
      ]
    },
    {
      "cell_type": "code",
      "source": [
        ""
      ],
      "metadata": {
        "id": "1SmE1Nnl8tCS"
      },
      "execution_count": null,
      "outputs": []
    },
    {
      "cell_type": "markdown",
      "source": [
        "Qual segmento de cliente é mais lucrativo?"
      ],
      "metadata": {
        "id": "a5pLadMxIJI5"
      }
    },
    {
      "cell_type": "code",
      "source": [
        ""
      ],
      "metadata": {
        "id": "z0byHYzTIJNH"
      },
      "execution_count": null,
      "outputs": []
    },
    {
      "cell_type": "code",
      "source": [
        "segmento_analitico = pd.DataFrame(dados.groupby(['Segment'])['Profit'].sum())\n",
        "segmento_analitico"
      ],
      "metadata": {
        "colab": {
          "base_uri": "https://localhost:8080/",
          "height": 175
        },
        "id": "CW-dmwA-IJQe",
        "outputId": "60514036-ae6c-462f-c9bc-c2ecfa165d39"
      },
      "execution_count": 51,
      "outputs": [
        {
          "output_type": "execute_result",
          "data": {
            "text/html": [
              "<div>\n",
              "<style scoped>\n",
              "    .dataframe tbody tr th:only-of-type {\n",
              "        vertical-align: middle;\n",
              "    }\n",
              "\n",
              "    .dataframe tbody tr th {\n",
              "        vertical-align: top;\n",
              "    }\n",
              "\n",
              "    .dataframe thead th {\n",
              "        text-align: right;\n",
              "    }\n",
              "</style>\n",
              "<table border=\"1\" class=\"dataframe\">\n",
              "  <thead>\n",
              "    <tr style=\"text-align: right;\">\n",
              "      <th></th>\n",
              "      <th>Profit</th>\n",
              "    </tr>\n",
              "    <tr>\n",
              "      <th>Segment</th>\n",
              "      <th></th>\n",
              "    </tr>\n",
              "  </thead>\n",
              "  <tbody>\n",
              "    <tr>\n",
              "      <th>Consumer</th>\n",
              "      <td>134007.4413</td>\n",
              "    </tr>\n",
              "    <tr>\n",
              "      <th>Corporate</th>\n",
              "      <td>91954.9798</td>\n",
              "    </tr>\n",
              "    <tr>\n",
              "      <th>Home Office</th>\n",
              "      <td>60279.0015</td>\n",
              "    </tr>\n",
              "  </tbody>\n",
              "</table>\n",
              "</div>"
            ],
            "text/plain": [
              "                  Profit\n",
              "Segment                 \n",
              "Consumer     134007.4413\n",
              "Corporate     91954.9798\n",
              "Home Office   60279.0015"
            ]
          },
          "metadata": {},
          "execution_count": 51
        }
      ]
    },
    {
      "cell_type": "code",
      "source": [
        "# Plot Bar Plot\n",
        "sns.set_theme(style=\"whitegrid\")\n",
        "sns.barplot(data = segmento_analitico, x = segmento_analitico.index, y = segmento_analitico.Profit, palette = \"rocket\")\n",
        "plt.title(\"Rentabilidade do segmento de clientes\")\n",
        "plt.show()"
      ],
      "metadata": {
        "colab": {
          "base_uri": "https://localhost:8080/",
          "height": 301
        },
        "id": "nEBR9FLlIJT_",
        "outputId": "cda018db-64fa-4cda-d8ac-c19addf9baac"
      },
      "execution_count": 52,
      "outputs": [
        {
          "output_type": "display_data",
          "data": {
            "image/png": "[encoded data removed]",
            "text/plain": [
              "<Figure size 432x288 with 1 Axes>"
            ]
          },
          "metadata": {}
        }
      ]
    },
    {
      "cell_type": "markdown",
      "source": [
        "O segmento de consumo é o mais lucrativo, seguido pelo Segmento Corporativo e Home Office. Conseqüentemente, a estratégia de marketing deve ter como alvo ou enfocar mais a retenção de clientes do segmento corporativo e de consumo."
      ],
      "metadata": {
        "id": "sHEbq8BBIJXP"
      }
    },
    {
      "cell_type": "code",
      "source": [
        ""
      ],
      "metadata": {
        "id": "-UKB9EsgIqXd"
      },
      "execution_count": null,
      "outputs": []
    },
    {
      "cell_type": "markdown",
      "source": [
        "Qual é o modo de envio preferido?"
      ],
      "metadata": {
        "id": "1kvelIW8IqbW"
      }
    },
    {
      "cell_type": "code",
      "source": [
        ""
      ],
      "metadata": {
        "id": "DwKVtOBFI-WP"
      },
      "execution_count": null,
      "outputs": []
    },
    {
      "cell_type": "code",
      "source": [
        "# Plot shipment mode\n",
        "sns.set_theme(style=\"whitegrid\")\n",
        "sns.countplot(dados['Ship Mode'])\n",
        "plt.title(\"Modo de Envio\")\n",
        "plt.show();"
      ],
      "metadata": {
        "colab": {
          "base_uri": "https://localhost:8080/",
          "height": 356
        },
        "id": "5QcCpkaHI-Zu",
        "outputId": "0be89e49-b7ef-4cdc-d502-f8e8758b408f"
      },
      "execution_count": 56,
      "outputs": [
        {
          "output_type": "stream",
          "name": "stderr",
          "text": [
            "/usr/local/lib/python3.7/dist-packages/seaborn/_decorators.py:43: FutureWarning: Pass the following variable as a keyword arg: x. From version 0.12, the only valid positional argument will be `data`, and passing other arguments without an explicit keyword will result in an error or misinterpretation.\n",
            "  FutureWarning\n"
          ]
        },
        {
          "output_type": "display_data",
          "data": {
            "image/png": "[encoded data removed]",
            "text/plain": [
              "<Figure size 432x288 with 1 Axes>"
            ]
          },
          "metadata": {}
        }
      ]
    },
    {
      "cell_type": "markdown",
      "source": [
        "Por um deslizamento de terra, a Por um deslizamento de terra, a Classe Padrão(Standard Class) é o método de envio preferido e talvez o mais barato também. Os outros modos não são populares entre os clientes e podem ser muito caros. é o método de envio preferido e talvez o mais barato também. Os outros modos não são populares entre os clientes e podem ser muito caros."
      ],
      "metadata": {
        "id": "d-5m6r79I-co"
      }
    },
    {
      "cell_type": "code",
      "source": [
        ""
      ],
      "metadata": {
        "id": "tPDIVNVYIqeg"
      },
      "execution_count": null,
      "outputs": []
    },
    {
      "cell_type": "markdown",
      "source": [
        "Qual região é a mais lucrativa?"
      ],
      "metadata": {
        "id": "iqjaPsfTJvK_"
      }
    },
    {
      "cell_type": "code",
      "source": [
        ""
      ],
      "metadata": {
        "id": "ddE0ZglqJvO8"
      },
      "execution_count": null,
      "outputs": []
    },
    {
      "cell_type": "code",
      "source": [
        "regiao_lucrativa = pd.DataFrame(dados.groupby(['Region'])['Profit'].sum().reset_index())\n",
        "regiao_lucrativa"
      ],
      "metadata": {
        "colab": {
          "base_uri": "https://localhost:8080/",
          "height": 175
        },
        "id": "EBYbIku0JvSM",
        "outputId": "6966b080-25de-40eb-e494-d9c34bc087bc"
      },
      "execution_count": 57,
      "outputs": [
        {
          "output_type": "execute_result",
          "data": {
            "text/html": [
              "<div>\n",
              "<style scoped>\n",
              "    .dataframe tbody tr th:only-of-type {\n",
              "        vertical-align: middle;\n",
              "    }\n",
              "\n",
              "    .dataframe tbody tr th {\n",
              "        vertical-align: top;\n",
              "    }\n",
              "\n",
              "    .dataframe thead th {\n",
              "        text-align: right;\n",
              "    }\n",
              "</style>\n",
              "<table border=\"1\" class=\"dataframe\">\n",
              "  <thead>\n",
              "    <tr style=\"text-align: right;\">\n",
              "      <th></th>\n",
              "      <th>Region</th>\n",
              "      <th>Profit</th>\n",
              "    </tr>\n",
              "  </thead>\n",
              "  <tbody>\n",
              "    <tr>\n",
              "      <th>0</th>\n",
              "      <td>Central</td>\n",
              "      <td>39655.8752</td>\n",
              "    </tr>\n",
              "    <tr>\n",
              "      <th>1</th>\n",
              "      <td>East</td>\n",
              "      <td>91506.3092</td>\n",
              "    </tr>\n",
              "    <tr>\n",
              "      <th>2</th>\n",
              "      <td>South</td>\n",
              "      <td>46749.4303</td>\n",
              "    </tr>\n",
              "    <tr>\n",
              "      <th>3</th>\n",
              "      <td>West</td>\n",
              "      <td>108329.8079</td>\n",
              "    </tr>\n",
              "  </tbody>\n",
              "</table>\n",
              "</div>"
            ],
            "text/plain": [
              "    Region       Profit\n",
              "0  Central   39655.8752\n",
              "1     East   91506.3092\n",
              "2    South   46749.4303\n",
              "3     West  108329.8079"
            ]
          },
          "metadata": {},
          "execution_count": 57
        }
      ]
    },
    {
      "cell_type": "code",
      "source": [
        "#Grafico de Pizza\n",
        "\n",
        "explode = [0, 0, 0, 0.1]\n",
        "plt.pie(regiao_lucrativa.Profit, labels = regiao_lucrativa.Region, startangle = 90, autopct = \"%1.0f%%\", explode = explode, shadow = True)\n",
        "plt.title(\"Região Mais Lucrativa\")\n",
        "plt.show()"
      ],
      "metadata": {
        "colab": {
          "base_uri": "https://localhost:8080/",
          "height": 263
        },
        "id": "B3U7XRqnJvUk",
        "outputId": "a83a9869-592a-4d77-b2b1-af98a6eb5251"
      },
      "execution_count": 58,
      "outputs": [
        {
          "output_type": "display_data",
          "data": {
            "image/png": "[encoded data removed]",
            "text/plain": [
              "<Figure size 432x288 with 1 Axes>"
            ]
          },
          "metadata": {}
        }
      ]
    },
    {
      "cell_type": "markdown",
      "source": [
        "As regiões Leste e Oeste são as mais lucrativas."
      ],
      "metadata": {
        "id": "HLzxCz2BIqg8"
      }
    },
    {
      "cell_type": "code",
      "source": [
        ""
      ],
      "metadata": {
        "id": "jQlAIJOkKj6B"
      },
      "execution_count": null,
      "outputs": []
    },
    {
      "cell_type": "markdown",
      "source": [
        "Qual cidade tem o maior número de vendas?"
      ],
      "metadata": {
        "id": "qGMa0z20Kj9o"
      }
    },
    {
      "cell_type": "code",
      "source": [
        "cidades_vendas = pd.DataFrame(dados.groupby(['City'])['Sales','Quantity'].sum().sort_values('Sales', ascending=False))\n",
        "top10 = cidades_vendas[:10]\n",
        "top10"
      ],
      "metadata": {
        "colab": {
          "base_uri": "https://localhost:8080/",
          "height": 428
        },
        "id": "MrMbq9h6KkAx",
        "outputId": "5a0942c9-978f-4f17-fd7f-9507346cbf6b"
      },
      "execution_count": 62,
      "outputs": [
        {
          "output_type": "stream",
          "name": "stderr",
          "text": [
            "/usr/local/lib/python3.7/dist-packages/ipykernel_launcher.py:1: FutureWarning: Indexing with multiple keys (implicitly converted to a tuple of keys) will be deprecated, use a list instead.\n",
            "  \"\"\"Entry point for launching an IPython kernel.\n"
          ]
        },
        {
          "output_type": "execute_result",
          "data": {
            "text/html": [
              "<div>\n",
              "<style scoped>\n",
              "    .dataframe tbody tr th:only-of-type {\n",
              "        vertical-align: middle;\n",
              "    }\n",
              "\n",
              "    .dataframe tbody tr th {\n",
              "        vertical-align: top;\n",
              "    }\n",
              "\n",
              "    .dataframe thead th {\n",
              "        text-align: right;\n",
              "    }\n",
              "</style>\n",
              "<table border=\"1\" class=\"dataframe\">\n",
              "  <thead>\n",
              "    <tr style=\"text-align: right;\">\n",
              "      <th></th>\n",
              "      <th>Sales</th>\n",
              "      <th>Quantity</th>\n",
              "    </tr>\n",
              "    <tr>\n",
              "      <th>City</th>\n",
              "      <th></th>\n",
              "      <th></th>\n",
              "    </tr>\n",
              "  </thead>\n",
              "  <tbody>\n",
              "    <tr>\n",
              "      <th>New York City</th>\n",
              "      <td>256319.0410</td>\n",
              "      <td>3413</td>\n",
              "    </tr>\n",
              "    <tr>\n",
              "      <th>Los Angeles</th>\n",
              "      <td>175831.9010</td>\n",
              "      <td>2876</td>\n",
              "    </tr>\n",
              "    <tr>\n",
              "      <th>Seattle</th>\n",
              "      <td>119460.2820</td>\n",
              "      <td>1578</td>\n",
              "    </tr>\n",
              "    <tr>\n",
              "      <th>San Francisco</th>\n",
              "      <td>112577.1720</td>\n",
              "      <td>1920</td>\n",
              "    </tr>\n",
              "    <tr>\n",
              "      <th>Philadelphia</th>\n",
              "      <td>109061.4610</td>\n",
              "      <td>1978</td>\n",
              "    </tr>\n",
              "    <tr>\n",
              "      <th>Houston</th>\n",
              "      <td>64441.2564</td>\n",
              "      <td>1460</td>\n",
              "    </tr>\n",
              "    <tr>\n",
              "      <th>Chicago</th>\n",
              "      <td>48535.9770</td>\n",
              "      <td>1129</td>\n",
              "    </tr>\n",
              "    <tr>\n",
              "      <th>San Diego</th>\n",
              "      <td>47521.0290</td>\n",
              "      <td>670</td>\n",
              "    </tr>\n",
              "    <tr>\n",
              "      <th>Jacksonville</th>\n",
              "      <td>44713.1830</td>\n",
              "      <td>429</td>\n",
              "    </tr>\n",
              "    <tr>\n",
              "      <th>Springfield</th>\n",
              "      <td>43054.3420</td>\n",
              "      <td>649</td>\n",
              "    </tr>\n",
              "  </tbody>\n",
              "</table>\n",
              "</div>"
            ],
            "text/plain": [
              "                     Sales  Quantity\n",
              "City                                \n",
              "New York City  256319.0410      3413\n",
              "Los Angeles    175831.9010      2876\n",
              "Seattle        119460.2820      1578\n",
              "San Francisco  112577.1720      1920\n",
              "Philadelphia   109061.4610      1978\n",
              "Houston         64441.2564      1460\n",
              "Chicago         48535.9770      1129\n",
              "San Diego       47521.0290       670\n",
              "Jacksonville    44713.1830       429\n",
              "Springfield     43054.3420       649"
            ]
          },
          "metadata": {},
          "execution_count": 62
        }
      ]
    },
    {
      "cell_type": "markdown",
      "source": [
        "As 10 principais cidades com vendas mais alta "
      ],
      "metadata": {
        "id": "mYa4L9OAKkDQ"
      }
    },
    {
      "cell_type": "code",
      "source": [
        ""
      ],
      "metadata": {
        "id": "R6tnxQmHLrGD"
      },
      "execution_count": null,
      "outputs": []
    },
    {
      "cell_type": "code",
      "source": [
        "cidades_vendas_baixa = cidades_vendas[-10:]\n",
        "cidades_vendas_baixa"
      ],
      "metadata": {
        "colab": {
          "base_uri": "https://localhost:8080/",
          "height": 395
        },
        "id": "SJ_Djv4TLrJU",
        "outputId": "208c858b-17e2-4810-f2a0-b94ad1d30ef1"
      },
      "execution_count": 63,
      "outputs": [
        {
          "output_type": "execute_result",
          "data": {
            "text/html": [
              "<div>\n",
              "<style scoped>\n",
              "    .dataframe tbody tr th:only-of-type {\n",
              "        vertical-align: middle;\n",
              "    }\n",
              "\n",
              "    .dataframe tbody tr th {\n",
              "        vertical-align: top;\n",
              "    }\n",
              "\n",
              "    .dataframe thead th {\n",
              "        text-align: right;\n",
              "    }\n",
              "</style>\n",
              "<table border=\"1\" class=\"dataframe\">\n",
              "  <thead>\n",
              "    <tr style=\"text-align: right;\">\n",
              "      <th></th>\n",
              "      <th>Sales</th>\n",
              "      <th>Quantity</th>\n",
              "    </tr>\n",
              "    <tr>\n",
              "      <th>City</th>\n",
              "      <th></th>\n",
              "      <th></th>\n",
              "    </tr>\n",
              "  </thead>\n",
              "  <tbody>\n",
              "    <tr>\n",
              "      <th>Missouri City</th>\n",
              "      <td>6.370</td>\n",
              "      <td>7</td>\n",
              "    </tr>\n",
              "    <tr>\n",
              "      <th>Keller</th>\n",
              "      <td>6.000</td>\n",
              "      <td>2</td>\n",
              "    </tr>\n",
              "    <tr>\n",
              "      <th>Layton</th>\n",
              "      <td>4.960</td>\n",
              "      <td>4</td>\n",
              "    </tr>\n",
              "    <tr>\n",
              "      <th>Springdale</th>\n",
              "      <td>4.300</td>\n",
              "      <td>2</td>\n",
              "    </tr>\n",
              "    <tr>\n",
              "      <th>San Luis Obispo</th>\n",
              "      <td>3.620</td>\n",
              "      <td>2</td>\n",
              "    </tr>\n",
              "    <tr>\n",
              "      <th>Ormond Beach</th>\n",
              "      <td>2.808</td>\n",
              "      <td>3</td>\n",
              "    </tr>\n",
              "    <tr>\n",
              "      <th>Pensacola</th>\n",
              "      <td>2.214</td>\n",
              "      <td>3</td>\n",
              "    </tr>\n",
              "    <tr>\n",
              "      <th>Jupiter</th>\n",
              "      <td>2.064</td>\n",
              "      <td>1</td>\n",
              "    </tr>\n",
              "    <tr>\n",
              "      <th>Elyria</th>\n",
              "      <td>1.824</td>\n",
              "      <td>1</td>\n",
              "    </tr>\n",
              "    <tr>\n",
              "      <th>Abilene</th>\n",
              "      <td>1.392</td>\n",
              "      <td>2</td>\n",
              "    </tr>\n",
              "  </tbody>\n",
              "</table>\n",
              "</div>"
            ],
            "text/plain": [
              "                 Sales  Quantity\n",
              "City                            \n",
              "Missouri City    6.370         7\n",
              "Keller           6.000         2\n",
              "Layton           4.960         4\n",
              "Springdale       4.300         2\n",
              "San Luis Obispo  3.620         2\n",
              "Ormond Beach     2.808         3\n",
              "Pensacola        2.214         3\n",
              "Jupiter          2.064         1\n",
              "Elyria           1.824         1\n",
              "Abilene          1.392         2"
            ]
          },
          "metadata": {},
          "execution_count": 63
        }
      ]
    },
    {
      "cell_type": "markdown",
      "source": [
        "As 10 cidades com vendas mais baixas"
      ],
      "metadata": {
        "id": "oKSGv0MQLrMO"
      }
    },
    {
      "cell_type": "code",
      "source": [
        "figure, axis = plt.subplots(1, 2, figsize=(12, 5))\n",
        "sns.set_theme(style=\"whitegrid\")\n",
        "top10c = sns.barplot(data = top10, y = top10.index, x = top10.Sales, palette = \"coolwarm\", ax = axis[0])\n",
        "top10c.set(Title = \"Dez principais cidades com vendas mais altas\")\n",
        "top10c.set_yticklabels(top10c.get_yticklabels(),size = 10)\n",
        "\n",
        "# Plot Bar Plot for Best Selling Sub-Category\n",
        "bottom10c = sns.barplot(data = cidades_vendas_baixa, y = cidades_vendas_baixa.index, x = cidades_vendas_baixa.Sales, palette = \"coolwarm\", ax=axis[1])\n",
        "bottom10c.set(Title = \"Dez  cidades mais baixas com vendas mais baixas\")\n",
        "bottom10c.set_yticklabels(bottom10c.get_yticklabels(),size = 10)\n",
        "\n",
        "# Set spacing between subplots\n",
        "figure.tight_layout()\n",
        "plt.show()"
      ],
      "metadata": {
        "colab": {
          "base_uri": "https://localhost:8080/",
          "height": 365
        },
        "id": "hjfYbdqNLrPG",
        "outputId": "30049329-3145-4d99-cba2-46922bb6a566"
      },
      "execution_count": 65,
      "outputs": [
        {
          "output_type": "display_data",
          "data": {
            "image/png": "[encoded data removed]",
            "text/plain": [
              "<Figure size 864x360 with 2 Axes>"
            ]
          },
          "metadata": {}
        }
      ]
    },
    {
      "cell_type": "markdown",
      "source": [
        "Há uma grande disparidade entre as cidades com vendas mais altas e mais baixas. A estratégia de marketing deve ter como alvo as 10 principais cidades."
      ],
      "metadata": {
        "id": "Z_U13hXkLrRP"
      }
    },
    {
      "cell_type": "code",
      "source": [
        ""
      ],
      "metadata": {
        "id": "YVzylKByKkF4"
      },
      "execution_count": null,
      "outputs": []
    },
    {
      "cell_type": "markdown",
      "source": [
        "Recomendação Estratégica\n",
        "\n",
        "\n",
        "Aqui, revisamos nossas questões comerciais e compartilhamos com você nossas recomendações comerciais de alto nível.\n",
        "\n",
        "\n",
        "Perguntas de negócios\n",
        "\n",
        "\n",
        "\n",
        " * Qual categoria é a mais vendida e mais lucrativa?\n",
        "\n",
        " * Quais são as subcategorias mais vendidas e mais lucrativas?\n",
        "\n",
        " * Qual é a subcategoria mais vendida?\n",
        "\n",
        " * Qual segmento de clientes é mais lucrativo?\n",
        "\n",
        " * Qual é o modo de envio preferido?\n",
        "\n",
        " * Qual região é a mais lucrativa?\n",
        "\n",
        "\n",
        "\n",
        "\n",
        "\n",
        "Recomendações \n",
        "\n",
        "\n",
        "Concentre-se na subcategoria Tecnologia e nos telefones e cadeiras, visto que são os mais vendidos e mais lucrativos. Agrupe-os com produtos menos lucrativos, como estantes, mesa e cadeiras para compensar as perdas.\n",
        "\n",
        "\n",
        "A venda de estantes e mesas resulta em enormes perdas, então a Super Store deve considerar agrupá-las com as subcategorias de alta venda ou lucrativos, como cadeiras, copiadoras, telefones e produtos de escritório.\n",
        "\n",
        "\n",
        "Para clientes de escritórios domésticos, essas pessoas podem estar ocupadas com o trabalho e menos propensas a perder tempo selecionando produtos individuais, então crie um pacote de escritório doméstico com produtos usados ​​para escritórios, como mesa, cadeiras, telefone, copiadoras, armazenamento, etiqueta, fechos, estantes de livros .\n",
        "\n",
        "\n",
        "Para produtos deficitários como suprimentos, estantes de livros e mesas, considere retirá-los do catálogo ou mudar de fornecedor e barganhar por um preço mais barato.\n",
        "\n",
        "\n",
        "Os segmentos de consumo e corporativo representam mais de 70% da base de clientes. Direcione-os, especialmente aos clientes das regiões Leste e Oeste nas 10 principais cidades com vendas mais altas, apresentando promoções especiais e pacotes para consumidores e escritórios domésticos e envie e-mails promocionais ou folhetos."
      ],
      "metadata": {
        "id": "ZX4XfLHfM7A8"
      }
    },
    {
      "cell_type": "code",
      "source": [
        ""
      ],
      "metadata": {
        "id": "YbQfaTnpM7Eo"
      },
      "execution_count": null,
      "outputs": []
    },
    {
      "cell_type": "code",
      "source": [
        ""
      ],
      "metadata": {
        "id": "pfhw4pBDM7HT"
      },
      "execution_count": null,
      "outputs": []
    }
  ]
}