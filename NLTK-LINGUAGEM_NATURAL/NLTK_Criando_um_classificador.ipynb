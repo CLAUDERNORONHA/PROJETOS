{
  "nbformat": 4,
  "nbformat_minor": 0,
  "metadata": {
    "colab": {
      "name": "Criando um classificador para processamento de linguagem natural.ipynb",
      "provenance": [],
      "collapsed_sections": []
    },
    "kernelspec": {
      "name": "python3",
      "display_name": "Python 3"
    },
    "language_info": {
      "name": "python"
    }
  },
  "cells": [
    {
      "cell_type": "markdown",
      "source": [
        "Criando um classificador para processamento de linguagem natural"
      ],
      "metadata": {
        "id": "NN8peR4nAI8u"
      }
    },
    {
      "cell_type": "code",
      "source": [
        ""
      ],
      "metadata": {
        "id": "uu1_nV76HGfG"
      },
      "execution_count": null,
      "outputs": []
    },
    {
      "cell_type": "code",
      "source": [
        "import nltk"
      ],
      "metadata": {
        "id": "oZ9pf4yeHGjf"
      },
      "execution_count": 7,
      "outputs": []
    },
    {
      "cell_type": "code",
      "source": [
        "nltk.download('punkt')"
      ],
      "metadata": {
        "colab": {
          "base_uri": "https://localhost:8080/"
        },
        "id": "3l8omnuYGJ30",
        "outputId": "640e92e1-0448-4dad-ce01-4fdf5adb443d"
      },
      "execution_count": 8,
      "outputs": [
        {
          "output_type": "stream",
          "name": "stdout",
          "text": [
            "[nltk_data] Downloading package punkt to /root/nltk_data...\n",
            "[nltk_data]   Unzipping tokenizers/punkt.zip.\n"
          ]
        },
        {
          "output_type": "execute_result",
          "data": {
            "text/plain": [
              "True"
            ]
          },
          "metadata": {},
          "execution_count": 8
        }
      ]
    },
    {
      "cell_type": "code",
      "source": [
        "!pip install -U textblob"
      ],
      "metadata": {
        "colab": {
          "base_uri": "https://localhost:8080/"
        },
        "id": "8SxQPNnDGJ7o",
        "outputId": "428221a3-496c-4702-c89e-fd09651dd169"
      },
      "execution_count": 1,
      "outputs": [
        {
          "output_type": "stream",
          "name": "stdout",
          "text": [
            "Requirement already satisfied: textblob in /usr/local/lib/python3.7/dist-packages (0.15.3)\n",
            "Collecting textblob\n",
            "  Downloading textblob-0.17.1-py2.py3-none-any.whl (636 kB)\n",
            "\u001b[K     |████████████████████████████████| 636 kB 4.4 MB/s \n",
            "\u001b[?25hRequirement already satisfied: nltk>=3.1 in /usr/local/lib/python3.7/dist-packages (from textblob) (3.2.5)\n",
            "Requirement already satisfied: six in /usr/local/lib/python3.7/dist-packages (from nltk>=3.1->textblob) (1.15.0)\n",
            "Installing collected packages: textblob\n",
            "  Attempting uninstall: textblob\n",
            "    Found existing installation: textblob 0.15.3\n",
            "    Uninstalling textblob-0.15.3:\n",
            "      Successfully uninstalled textblob-0.15.3\n",
            "Successfully installed textblob-0.17.1\n"
          ]
        }
      ]
    },
    {
      "cell_type": "markdown",
      "source": [
        "Após a instalação, vamos fazer o download do corpora padrão. Não é necessário fazer esse download para a criação do nosso classificador, porém ele é necessário para diversas outras funções do Textblob, como tags por exemplo."
      ],
      "metadata": {
        "id": "HeEwlLQZGJ_H"
      }
    },
    {
      "cell_type": "code",
      "source": [
        ""
      ],
      "metadata": {
        "id": "N1qN6ty_GKC5"
      },
      "execution_count": null,
      "outputs": []
    },
    {
      "cell_type": "code",
      "source": [
        "#python -m textblob.download_corpora"
      ],
      "metadata": {
        "id": "uSr6HKorGKFz"
      },
      "execution_count": null,
      "outputs": []
    },
    {
      "cell_type": "markdown",
      "source": [
        "Passo-a-Passo\n",
        "\n",
        "\n",
        "O que vamos fazer basicamente é criar um classificador que irá fazer previsões sobre frases, nos dizendo se elas possuem caráter negativo ou positivo."
      ],
      "metadata": {
        "id": "Y16xgeaoGKJJ"
      }
    },
    {
      "cell_type": "code",
      "source": [
        "from textblob.classifiers import NaiveBayesClassifier\n",
        "from textblob import TextBlob"
      ],
      "metadata": {
        "id": "UWGpjPE4GKMv"
      },
      "execution_count": 2,
      "outputs": []
    },
    {
      "cell_type": "code",
      "source": [
        ""
      ],
      "metadata": {
        "id": "x9MKehnUGKPr"
      },
      "execution_count": null,
      "outputs": []
    },
    {
      "cell_type": "code",
      "source": [
        "train_set = [\n",
        "    ('Eu adoro comer hamburguer', 'positivo'),\n",
        "    ('Este lugar é horrível', 'negativo'),\n",
        "    ('Você é uma pessoa adorável', 'positivo'),\n",
        "    ('Você é uma pessoa horrível', 'negativo'),\n",
        "    ('A festa está ótima', 'positivo'),\n",
        "    ('A festa está péssima', 'negativo'),\n",
        "    ('Este lugar é maravilhoso', 'positivo'),\n",
        "    ('Estou cansado disso.', 'negativo'),\n",
        "    ('Eu te odeio', 'negativo'),\n",
        "    ('Eu te adoro', 'positivo'),\n",
        "    ('Eu te amo', 'positivo'),\n",
        "    ('Você é incrível','positivo'),\n",
        "    ('Eu estou com muita raiva','negativo'),\n",
        "    ('Eu odeio essa linguagem','negativo'),\n",
        "    ('Essa linguagem é fantátisca','positivo'),\n",
        "    ('Essa linguagem é muito boa','positivo'),\n",
        "    ('Que comida gostosa','positivo'),\n",
        "    ('Que comida horrível','negativo'),\n",
        "    ('Estou me sentindo ótimo','positivo'),\n",
        "    ('Hoje eu estou péssimo','negativo')\n",
        "]"
      ],
      "metadata": {
        "id": "x2pZMNubGKVL"
      },
      "execution_count": 3,
      "outputs": []
    },
    {
      "cell_type": "code",
      "source": [
        ""
      ],
      "metadata": {
        "id": "TgmJeBWgGKWd"
      },
      "execution_count": null,
      "outputs": []
    },
    {
      "cell_type": "markdown",
      "source": [
        "O nosso dataset de testes:"
      ],
      "metadata": {
        "id": "Nagaj9wdGKaH"
      }
    },
    {
      "cell_type": "code",
      "source": [
        "test_set = [\n",
        "    ('Ótima linguagem', 'positivo'),\n",
        "    ('Péssima essa linguagem', 'negativo'),\n",
        "    ('Você é horrível', 'negativo'),\n",
        "    ('Comida gostosa!', 'positivo'),\n",
        "    ('Que raiva!', 'negativo'),\n",
        "    ('Ótima festa!', 'positivo'),\n",
        "    ('Eu não odeio todo mundo','positivo')\n",
        "]"
      ],
      "metadata": {
        "id": "x-DCX8tKGKdV"
      },
      "execution_count": 4,
      "outputs": []
    },
    {
      "cell_type": "code",
      "source": [
        ""
      ],
      "metadata": {
        "id": "JFgk-5tpGyRZ"
      },
      "execution_count": null,
      "outputs": []
    },
    {
      "cell_type": "markdown",
      "source": [
        "Criar o classificador:"
      ],
      "metadata": {
        "id": "kmaDRTwkGyVM"
      }
    },
    {
      "cell_type": "code",
      "source": [
        "cl = NaiveBayesClassifier(train_set)"
      ],
      "metadata": {
        "id": "Bi6X7E4GGyYY"
      },
      "execution_count": 9,
      "outputs": []
    },
    {
      "cell_type": "markdown",
      "source": [
        "Accuracy:"
      ],
      "metadata": {
        "id": "-8PYtkBYGybe"
      }
    },
    {
      "cell_type": "code",
      "source": [
        "accuracy = cl.accuracy(test_set)"
      ],
      "metadata": {
        "id": "MrE0F8nvGyeb"
      },
      "execution_count": 10,
      "outputs": []
    },
    {
      "cell_type": "code",
      "source": [
        ""
      ],
      "metadata": {
        "id": "3I3lNKPUHPol"
      },
      "execution_count": null,
      "outputs": []
    },
    {
      "cell_type": "markdown",
      "source": [
        "A frase que será utilizada na previsão "
      ],
      "metadata": {
        "id": "mfkiec0bHPsg"
      }
    },
    {
      "cell_type": "code",
      "source": [
        "frase = 'Que raiva! '"
      ],
      "metadata": {
        "id": "OO-gjCY0HPv5"
      },
      "execution_count": 13,
      "outputs": []
    },
    {
      "cell_type": "code",
      "source": [
        ""
      ],
      "metadata": {
        "id": "kJVQhViVHPzA"
      },
      "execution_count": 13,
      "outputs": []
    },
    {
      "cell_type": "markdown",
      "source": [
        "# Realizando a previsao"
      ],
      "metadata": {
        "id": "V6G-TpeKHP2C"
      }
    },
    {
      "cell_type": "code",
      "source": [
        "blob = TextBlob(frase,classifier=cl)\n",
        "\n",
        "print('Esta frase é de caráter:{}'.format(blob.classify()))\n",
        "print('Precisão da previsão:{}'.format(accuracy))"
      ],
      "metadata": {
        "colab": {
          "base_uri": "https://localhost:8080/"
        },
        "id": "qcv-3ScEHjOe",
        "outputId": "a8d54e63-c0d6-4752-b4f7-f3813f8e0476"
      },
      "execution_count": 14,
      "outputs": [
        {
          "output_type": "stream",
          "name": "stdout",
          "text": [
            "Esta frase é de caráter:negativo\n",
            "Precisão da previsão:0.8571428571428571\n"
          ]
        }
      ]
    },
    {
      "cell_type": "markdown",
      "source": [
        "Como este é um exemplo muito simples, os nossos datasets de treinamento e testes são muito limitados e isso impacta diretamente nas previsões. Para verificar esse problema, podemos fazer o seguinte teste: vamos alterar a nossa frase de teste para:"
      ],
      "metadata": {
        "id": "iVlKNBb9HjSV"
      }
    },
    {
      "cell_type": "code",
      "source": [
        ""
      ],
      "metadata": {
        "id": "HUVdJ_ydH7qA"
      },
      "execution_count": null,
      "outputs": []
    },
    {
      "cell_type": "markdown",
      "source": [
        "CODIGO COMPLETO "
      ],
      "metadata": {
        "id": "LleGnjSjH7uK"
      }
    },
    {
      "cell_type": "code",
      "source": [
        "from textblob.classifiers import NaiveBayesClassifier\n",
        "from textblob import TextBlob\n",
        "\n",
        "train_set = [\n",
        "    ('Eu adoro comer hamburguer', 'positivo'),\n",
        "    ('Este lugar é horrível', 'negativo'),\n",
        "    ('Você é uma pessoa adorável', 'positivo'),\n",
        "    ('Você é uma pessoa horrível', 'negativo'),\n",
        "    ('A festa está ótima', 'positivo'),\n",
        "    ('A festa está péssima', 'negativo'),\n",
        "    ('Este lugar é maravilhoso', 'positivo'),\n",
        "    ('Estou cansado disso.', 'negativo'),\n",
        "    ('Eu te odeio', 'negativo'),\n",
        "    ('Eu te adoro', 'positivo'),\n",
        "    ('Eu te amo', 'positivo'),\n",
        "    ('Você é incrível','positivo'),\n",
        "    ('Eu estou com muita raiva','negativo'),\n",
        "    ('Eu odeio essa linguagem','negativo'),\n",
        "    ('Essa linguagem é fantátisca','positivo'),\n",
        "    ('Essa linguagem é muito boa','positivo'),\n",
        "    ('Que comida gostosa','positivo'),\n",
        "    ('Que comida horrível','negativo'),\n",
        "    ('Estou me sentindo ótimo','positivo'),\n",
        "    ('Hoje eu estou péssimo','negativo')\n",
        "]\n",
        "test_set = [\n",
        "    ('Ótima linguagem', 'positivo'),\n",
        "    ('Péssima essa linguagem', 'negativo'),\n",
        "    ('Você é horrível', 'negativo'),\n",
        "    ('Comida gostosa!', 'positivo'),\n",
        "    ('Que raiva!', 'negativo'),\n",
        "    ('Ótima festa!', 'positivo'),\n",
        "    ('Eu não odeio todo mundo','positivo')\n",
        "]\n",
        "\n",
        "cl = NaiveBayesClassifier(train_set)\n",
        "accuracy = cl.accuracy(test_set)\n",
        "\n",
        "frase = 'Eu não odeio todo mundo'\n",
        "\n",
        "blob = TextBlob(frase,classifier=cl)\n",
        "\n",
        "print('Esta frase é de caráter:{}'.format(blob.classify()))\n",
        "print('Precisão da previsão:{}'.format(accuracy))"
      ],
      "metadata": {
        "colab": {
          "base_uri": "https://localhost:8080/"
        },
        "id": "fOu_KZ9KH7xt",
        "outputId": "cf3e22c6-a8b4-414a-8e90-a2092fdde4b4"
      },
      "execution_count": 15,
      "outputs": [
        {
          "output_type": "stream",
          "name": "stdout",
          "text": [
            "Esta frase é de caráter:negativo\n",
            "Precisão da previsão:0.8571428571428571\n"
          ]
        }
      ]
    },
    {
      "cell_type": "code",
      "source": [
        ""
      ],
      "metadata": {
        "id": "PMNNyL_nH70o"
      },
      "execution_count": null,
      "outputs": []
    },
    {
      "cell_type": "code",
      "source": [
        ""
      ],
      "metadata": {
        "id": "4MdvAeG7HjVe"
      },
      "execution_count": null,
      "outputs": []
    },
    {
      "cell_type": "code",
      "source": [
        ""
      ],
      "metadata": {
        "id": "KONFT5_ZGKge"
      },
      "execution_count": null,
      "outputs": []
    }
  ]
}